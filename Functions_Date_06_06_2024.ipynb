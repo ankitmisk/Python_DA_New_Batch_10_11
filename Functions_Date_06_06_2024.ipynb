{
 "cells": [
  {
   "cell_type": "code",
   "execution_count": 35,
   "id": "c4ec6c13",
   "metadata": {},
   "outputs": [
    {
     "name": "stdout",
     "output_type": "stream",
     "text": [
      "hello Ajay\n"
     ]
    }
   ],
   "source": [
    "hello()"
   ]
  },
  {
   "cell_type": "code",
   "execution_count": 26,
   "id": "a8345201",
   "metadata": {},
   "outputs": [
    {
     "name": "stdout",
     "output_type": "stream",
     "text": [
      "your password:  )>+C<`e9{]oc+@6ecr9&\n"
     ]
    }
   ],
   "source": [
    "import string\n",
    "import random\n",
    "\n",
    "all_str = string.ascii_letters+string.digits+string.punctuation\n",
    "\n",
    "pwd = ''\n",
    "\n",
    "pwd_len = 20\n",
    "\n",
    "for i in range(pwd_len):\n",
    "    pwd += random.choice(all_str)\n",
    "\n",
    "print('your password: ',pwd)"
   ]
  },
  {
   "cell_type": "code",
   "execution_count": null,
   "id": "cdba80bd",
   "metadata": {},
   "outputs": [],
   "source": []
  },
  {
   "cell_type": "code",
   "execution_count": null,
   "id": "c8abd3f2",
   "metadata": {},
   "outputs": [],
   "source": []
  },
  {
   "cell_type": "code",
   "execution_count": null,
   "id": "079fae76",
   "metadata": {},
   "outputs": [],
   "source": []
  },
  {
   "cell_type": "markdown",
   "id": "52ed2461",
   "metadata": {},
   "source": [
    "# Functions"
   ]
  },
  {
   "cell_type": "code",
   "execution_count": 27,
   "id": "0f48a936",
   "metadata": {},
   "outputs": [],
   "source": [
    "def greet():\n",
    "    print('Hello Buddy!!')"
   ]
  },
  {
   "cell_type": "code",
   "execution_count": 28,
   "id": "f2c9d87e",
   "metadata": {},
   "outputs": [
    {
     "name": "stdout",
     "output_type": "stream",
     "text": [
      "Hello Buddy!!\n",
      "Hello Buddy!!\n",
      "Hello Buddy!!\n",
      "Hello Buddy!!\n"
     ]
    }
   ],
   "source": [
    "print('Hello Buddy!!')\n",
    "print('Hello Buddy!!')\n",
    "print('Hello Buddy!!')\n",
    "print('Hello Buddy!!')"
   ]
  },
  {
   "cell_type": "code",
   "execution_count": 29,
   "id": "9e7889ff",
   "metadata": {},
   "outputs": [
    {
     "name": "stdout",
     "output_type": "stream",
     "text": [
      "Hello Buddy!!\n",
      "Hello Buddy!!\n",
      "Hello Buddy!!\n",
      "Hello Buddy!!\n",
      "Hello Buddy!!\n",
      "Hello Buddy!!\n",
      "Hello Buddy!!\n",
      "Hello Buddy!!\n",
      "Hello Buddy!!\n",
      "Hello Buddy!!\n"
     ]
    }
   ],
   "source": [
    "for i in range(10):\n",
    "    print('Hello Buddy!!')"
   ]
  },
  {
   "cell_type": "code",
   "execution_count": 30,
   "id": "f07cbe2b",
   "metadata": {},
   "outputs": [
    {
     "name": "stdout",
     "output_type": "stream",
     "text": [
      "Hello Buddy!!\n"
     ]
    }
   ],
   "source": [
    "greet()"
   ]
  },
  {
   "cell_type": "code",
   "execution_count": 31,
   "id": "5ed51622",
   "metadata": {},
   "outputs": [
    {
     "name": "stdout",
     "output_type": "stream",
     "text": [
      "Hello Buddy!!\n",
      "Hello Buddy!!\n",
      "Hello Buddy!!\n",
      "Hello Buddy!!\n",
      "Hello Buddy!!\n",
      "Hello Buddy!!\n",
      "Hello Buddy!!\n",
      "Hello Buddy!!\n",
      "Hello Buddy!!\n",
      "Hello Buddy!!\n"
     ]
    }
   ],
   "source": [
    "for i in range(10):\n",
    "    greet()"
   ]
  },
  {
   "cell_type": "code",
   "execution_count": 32,
   "id": "5e520443",
   "metadata": {},
   "outputs": [
    {
     "name": "stdout",
     "output_type": "stream",
     "text": [
      "Hello\n",
      "Hello\n",
      "Hello\n",
      "Hello\n",
      "Hello\n",
      "Hello\n",
      "Hello\n",
      "Hello\n",
      "Hello\n"
     ]
    },
    {
     "name": "stderr",
     "output_type": "stream",
     "text": [
      "\n",
      "KeyboardInterrupt\n",
      "\n"
     ]
    }
   ],
   "source": [
    "import time\n",
    "while True:\n",
    "    time.sleep(1)\n",
    "    print('Hello')"
   ]
  },
  {
   "cell_type": "code",
   "execution_count": 34,
   "id": "fa1514f3",
   "metadata": {},
   "outputs": [],
   "source": [
    "\n",
    "def hello():\n",
    "    name = 'Ajay'\n",
    "    print('hello',name)"
   ]
  },
  {
   "cell_type": "code",
   "execution_count": 36,
   "id": "a3eb0818",
   "metadata": {},
   "outputs": [],
   "source": [
    "# # basic programming\n",
    "#     data types, methods, if else,break,loops\n",
    "# # procedural programming\n",
    "# #     func\n",
    "#     # basic programming\n",
    "#     data types, methods, if else,break,loops\n",
    "# # oops programming\n",
    "#     class concept\n",
    "# #            func\n",
    "# #     # basic programming\n",
    "# #     data types, methods, if else,break,loops"
   ]
  },
  {
   "cell_type": "code",
   "execution_count": null,
   "id": "18d232f9",
   "metadata": {},
   "outputs": [],
   "source": [
    "# functions:\n",
    "#     inbulit func\n",
    "#     user defined func\n"
   ]
  },
  {
   "cell_type": "code",
   "execution_count": 38,
   "id": "5c9147ac",
   "metadata": {},
   "outputs": [],
   "source": [
    "# len()\n",
    "# id()\n",
    "# print()\n",
    "# max()\n",
    "# id()\n",
    "# min()\n",
    "# sum()\n",
    "# ord()\n",
    "# chr()\n",
    "# bin()\n",
    "# int(),data types\n",
    "# exec()\n",
    "# execfile()\n",
    "# eval()\n",
    "# type()\n",
    "# help()"
   ]
  },
  {
   "cell_type": "code",
   "execution_count": 41,
   "id": "a0e3b015",
   "metadata": {},
   "outputs": [],
   "source": [
    "# help('Functions')"
   ]
  },
  {
   "cell_type": "code",
   "execution_count": 43,
   "id": "4b905d9c",
   "metadata": {},
   "outputs": [
    {
     "name": "stdout",
     "output_type": "stream",
     "text": [
      "['ArithmeticError', 'AssertionError', 'AttributeError', 'BaseException', 'BaseExceptionGroup', 'BlockingIOError', 'BrokenPipeError', 'BufferError', 'BytesWarning', 'ChildProcessError', 'ConnectionAbortedError', 'ConnectionError', 'ConnectionRefusedError', 'ConnectionResetError', 'DeprecationWarning', 'EOFError', 'Ellipsis', 'EncodingWarning', 'EnvironmentError', 'Exception', 'ExceptionGroup', 'False', 'FileExistsError', 'FileNotFoundError', 'FloatingPointError', 'FutureWarning', 'GeneratorExit', 'IOError', 'ImportError', 'ImportWarning', 'IndentationError', 'IndexError', 'InterruptedError', 'IsADirectoryError', 'KeyError', 'KeyboardInterrupt', 'LookupError', 'MemoryError', 'ModuleNotFoundError', 'NameError', 'None', 'NotADirectoryError', 'NotImplemented', 'NotImplementedError', 'OSError', 'OverflowError', 'PendingDeprecationWarning', 'PermissionError', 'ProcessLookupError', 'RecursionError', 'ReferenceError', 'ResourceWarning', 'RuntimeError', 'RuntimeWarning', 'StopAsyncIteration', 'StopIteration', 'SyntaxError', 'SyntaxWarning', 'SystemError', 'SystemExit', 'TabError', 'TimeoutError', 'True', 'TypeError', 'UnboundLocalError', 'UnicodeDecodeError', 'UnicodeEncodeError', 'UnicodeError', 'UnicodeTranslateError', 'UnicodeWarning', 'UserWarning', 'ValueError', 'Warning', 'WindowsError', 'ZeroDivisionError', '__IPYTHON__', '__build_class__', '__debug__', '__doc__', '__import__', '__loader__', '__name__', '__package__', '__spec__', 'abs', 'aiter', 'all', 'anext', 'any', 'ascii', 'bin', 'bool', 'breakpoint', 'bytearray', 'bytes', 'callable', 'chr', 'classmethod', 'compile', 'complex', 'copyright', 'credits', 'delattr', 'dict', 'dir', 'display', 'divmod', 'enumerate', 'eval', 'exec', 'execfile', 'filter', 'float', 'format', 'frozenset', 'get_ipython', 'getattr', 'globals', 'hasattr', 'hash', 'help', 'hex', 'id', 'input', 'int', 'isinstance', 'issubclass', 'iter', 'len', 'license', 'list', 'locals', 'map', 'max', 'memoryview', 'min', 'next', 'object', 'oct', 'open', 'ord', 'pow', 'print', 'property', 'range', 'repr', 'reversed', 'round', 'runfile', 'set', 'setattr', 'slice', 'sorted', 'staticmethod', 'str', 'sum', 'super', 'tuple', 'type', 'vars', 'zip']\n"
     ]
    }
   ],
   "source": [
    "print(dir(__builtins__))"
   ]
  },
  {
   "cell_type": "code",
   "execution_count": null,
   "id": "e5dda900",
   "metadata": {},
   "outputs": [],
   "source": []
  },
  {
   "cell_type": "code",
   "execution_count": 44,
   "id": "452ca06f",
   "metadata": {},
   "outputs": [],
   "source": [
    "# # Topics\n",
    "# # udf\n",
    "# # input\n",
    "# with parameter,arguments\n",
    "# without parameter,without arguments\n",
    "# docstring\n",
    "# print\n",
    "# return\n",
    "# if else loops func\n",
    "# *args,**kwargs\n",
    "# nested func\n",
    "# variable scope\n",
    "# some imp func\n",
    "# lambda: map, filter reduce"
   ]
  },
  {
   "cell_type": "code",
   "execution_count": null,
   "id": "7cbd6bc5",
   "metadata": {},
   "outputs": [],
   "source": [
    "# # used defined functions\n",
    "\n",
    "# def anything_wanted():\n",
    "#     code block"
   ]
  },
  {
   "cell_type": "code",
   "execution_count": 45,
   "id": "55c7b7f6",
   "metadata": {},
   "outputs": [],
   "source": [
    "def greet():\n",
    "    name = input('Enter your name: ')\n",
    "    print(f'Hello {name}\\nHow are you??')"
   ]
  },
  {
   "cell_type": "code",
   "execution_count": 47,
   "id": "d7e2b1a8",
   "metadata": {},
   "outputs": [
    {
     "name": "stdout",
     "output_type": "stream",
     "text": [
      "Enter your name: Nitin\n",
      "Hello Nitin\n",
      "How are you??\n"
     ]
    }
   ],
   "source": [
    "greet()"
   ]
  },
  {
   "cell_type": "code",
   "execution_count": 50,
   "id": "950ca676",
   "metadata": {},
   "outputs": [],
   "source": [
    "# without parameter\n",
    "def hello():\n",
    "    name = 'Ajay'\n",
    "    print('hello',name)"
   ]
  },
  {
   "cell_type": "code",
   "execution_count": null,
   "id": "1e3251ee",
   "metadata": {},
   "outputs": [],
   "source": []
  },
  {
   "cell_type": "code",
   "execution_count": 59,
   "id": "0691c07d",
   "metadata": {},
   "outputs": [],
   "source": [
    "def greet(names):\n",
    "    print(f'Hello {names}\\nHow are you??')"
   ]
  },
  {
   "cell_type": "code",
   "execution_count": 61,
   "id": "3a1742b5",
   "metadata": {},
   "outputs": [
    {
     "name": "stdout",
     "output_type": "stream",
     "text": [
      "Hello [1, 32, 345]\n",
      "How are you??\n"
     ]
    }
   ],
   "source": [
    "greet([1,32,345])"
   ]
  },
  {
   "cell_type": "code",
   "execution_count": 65,
   "id": "89261286",
   "metadata": {},
   "outputs": [],
   "source": [
    "def greet(names:str):\n",
    "    if type(names) == str:\n",
    "        print(f'Hello {names}\\nHow are you??')\n",
    "    else:\n",
    "        print('Invalid datatypes')"
   ]
  },
  {
   "cell_type": "code",
   "execution_count": 67,
   "id": "b4d6abff",
   "metadata": {},
   "outputs": [
    {
     "name": "stdout",
     "output_type": "stream",
     "text": [
      "Hello Ajay\n",
      "How are you??\n"
     ]
    }
   ],
   "source": [
    "greet('Ajay')"
   ]
  },
  {
   "cell_type": "code",
   "execution_count": 69,
   "id": "0fc6fc27",
   "metadata": {},
   "outputs": [],
   "source": [
    "def add(x,y):\n",
    "    print(x+y)"
   ]
  },
  {
   "cell_type": "code",
   "execution_count": 70,
   "id": "1e73064e",
   "metadata": {},
   "outputs": [
    {
     "name": "stdout",
     "output_type": "stream",
     "text": [
      "5\n"
     ]
    }
   ],
   "source": [
    "add(1,4)"
   ]
  },
  {
   "cell_type": "code",
   "execution_count": 71,
   "id": "a538efb8",
   "metadata": {},
   "outputs": [],
   "source": [
    "# # h/w\n",
    "# mut\n",
    "# sub\n",
    "# div arithmetic"
   ]
  },
  {
   "cell_type": "code",
   "execution_count": 77,
   "id": "5203c98e",
   "metadata": {},
   "outputs": [],
   "source": [
    "def students_details(name:'str',\n",
    "                     age:'int',\n",
    "                     sec:'str',\n",
    "                     address:'kaisa bhi',\n",
    "                     contact:'int',\n",
    "                     roll:'int'):\n",
    "    print(f'Your Name is {name}')\n",
    "    print(f'Your age is {age}')\n",
    "    print(f'Your sec is {sec}')\n",
    "    print(f'Your address is {address}')\n",
    "    print(f'Your contact is {contact}')\n",
    "    print(f'Your roll is {roll}')"
   ]
  },
  {
   "cell_type": "code",
   "execution_count": 79,
   "id": "31235037",
   "metadata": {},
   "outputs": [
    {
     "name": "stdout",
     "output_type": "stream",
     "text": [
      "Your Name is karan\n",
      "Your age is 23\n",
      "Your sec is A\n",
      "Your address is Noida\n",
      "Your contact is 9898987876\n",
      "Your roll is 23\n"
     ]
    }
   ],
   "source": [
    "students_details('karan',23,'A','Noida',9898987876,23)"
   ]
  },
  {
   "cell_type": "code",
   "execution_count": 83,
   "id": "dcd90a0c",
   "metadata": {},
   "outputs": [
    {
     "name": "stdout",
     "output_type": "stream",
     "text": [
      "Your Name is Noida\n",
      "Your age is B\n",
      "Your sec is 23\n",
      "Your address is Karan\n",
      "Your contact is 9898987876\n",
      "Your roll is 34\n"
     ]
    }
   ],
   "source": [
    "students_details('Noida','B',23,'Karan',9898987876,34)"
   ]
  },
  {
   "cell_type": "code",
   "execution_count": 81,
   "id": "d3b00835",
   "metadata": {},
   "outputs": [],
   "source": [
    "# positional arguments"
   ]
  },
  {
   "cell_type": "code",
   "execution_count": 85,
   "id": "ee1d43a6",
   "metadata": {},
   "outputs": [
    {
     "name": "stdout",
     "output_type": "stream",
     "text": [
      "Your Name is Mohan\n",
      "Your age is 20\n",
      "Your sec is B\n",
      "Your address is Noida\n",
      "Your contact is 9898765432\n",
      "Your roll is 34\n"
     ]
    }
   ],
   "source": [
    "students_details(sec='B',name='Mohan',address='Noida',roll=34,contact=9898765432,age=20)"
   ]
  },
  {
   "cell_type": "code",
   "execution_count": 86,
   "id": "0a72b72c",
   "metadata": {},
   "outputs": [],
   "source": [
    "# default parameter"
   ]
  },
  {
   "cell_type": "code",
   "execution_count": 94,
   "id": "74a46990",
   "metadata": {},
   "outputs": [],
   "source": [
    "# default parameter\n",
    "def students_details(name,age,sec,address,contact,roll=None,fees = 'yes'):\n",
    "    print(f'Your Name is {name}')\n",
    "    print(f'Your age is {age}')\n",
    "    print(f'Your sec is {sec}')\n",
    "    print(f'Your address is {address}')\n",
    "    print(f'Your contact is {contact}')\n",
    "    print(f'Your roll is {roll}')\n",
    "    print(f'your fees is {fees}')"
   ]
  },
  {
   "cell_type": "code",
   "execution_count": 97,
   "id": "3f48ab19",
   "metadata": {},
   "outputs": [
    {
     "name": "stdout",
     "output_type": "stream",
     "text": [
      "Your Name is Mohan\n",
      "Your age is 20\n",
      "Your sec is B\n",
      "Your address is Noida\n",
      "Your contact is 9898765432\n",
      "Your roll is 12\n",
      "your fees is No\n"
     ]
    }
   ],
   "source": [
    "students_details(sec='B',roll=12,name='Mohan',address='Noida',contact=9898765432,age=20,fees='No')"
   ]
  },
  {
   "cell_type": "code",
   "execution_count": 93,
   "id": "914cdbc5",
   "metadata": {},
   "outputs": [
    {
     "name": "stdout",
     "output_type": "stream",
     "text": [
      "\n"
     ]
    }
   ],
   "source": [
    "print()"
   ]
  },
  {
   "cell_type": "code",
   "execution_count": null,
   "id": "94993046",
   "metadata": {},
   "outputs": [],
   "source": []
  }
 ],
 "metadata": {
  "kernelspec": {
   "display_name": "Python 3 (ipykernel)",
   "language": "python",
   "name": "python3"
  },
  "language_info": {
   "codemirror_mode": {
    "name": "ipython",
    "version": 3
   },
   "file_extension": ".py",
   "mimetype": "text/x-python",
   "name": "python",
   "nbconvert_exporter": "python",
   "pygments_lexer": "ipython3",
   "version": "3.11.3"
  }
 },
 "nbformat": 4,
 "nbformat_minor": 5
}
