{
 "cells": [
  {
   "cell_type": "code",
   "execution_count": 1,
   "id": "46f9663b",
   "metadata": {},
   "outputs": [],
   "source": [
    "import calendar"
   ]
  },
  {
   "cell_type": "code",
   "execution_count": 3,
   "id": "b468a657",
   "metadata": {},
   "outputs": [
    {
     "name": "stdout",
     "output_type": "stream",
     "text": [
      "                                  2024\n",
      "\n",
      "      January                   February                   March\n",
      "Mo Tu We Th Fr Sa Su      Mo Tu We Th Fr Sa Su      Mo Tu We Th Fr Sa Su\n",
      " 1  2  3  4  5  6  7                1  2  3  4                   1  2  3\n",
      " 8  9 10 11 12 13 14       5  6  7  8  9 10 11       4  5  6  7  8  9 10\n",
      "15 16 17 18 19 20 21      12 13 14 15 16 17 18      11 12 13 14 15 16 17\n",
      "22 23 24 25 26 27 28      19 20 21 22 23 24 25      18 19 20 21 22 23 24\n",
      "29 30 31                  26 27 28 29               25 26 27 28 29 30 31\n",
      "\n",
      "       April                      May                       June\n",
      "Mo Tu We Th Fr Sa Su      Mo Tu We Th Fr Sa Su      Mo Tu We Th Fr Sa Su\n",
      " 1  2  3  4  5  6  7             1  2  3  4  5                      1  2\n",
      " 8  9 10 11 12 13 14       6  7  8  9 10 11 12       3  4  5  6  7  8  9\n",
      "15 16 17 18 19 20 21      13 14 15 16 17 18 19      10 11 12 13 14 15 16\n",
      "22 23 24 25 26 27 28      20 21 22 23 24 25 26      17 18 19 20 21 22 23\n",
      "29 30                     27 28 29 30 31            24 25 26 27 28 29 30\n",
      "\n",
      "        July                     August                  September\n",
      "Mo Tu We Th Fr Sa Su      Mo Tu We Th Fr Sa Su      Mo Tu We Th Fr Sa Su\n",
      " 1  2  3  4  5  6  7                1  2  3  4                         1\n",
      " 8  9 10 11 12 13 14       5  6  7  8  9 10 11       2  3  4  5  6  7  8\n",
      "15 16 17 18 19 20 21      12 13 14 15 16 17 18       9 10 11 12 13 14 15\n",
      "22 23 24 25 26 27 28      19 20 21 22 23 24 25      16 17 18 19 20 21 22\n",
      "29 30 31                  26 27 28 29 30 31         23 24 25 26 27 28 29\n",
      "                                                    30\n",
      "\n",
      "      October                   November                  December\n",
      "Mo Tu We Th Fr Sa Su      Mo Tu We Th Fr Sa Su      Mo Tu We Th Fr Sa Su\n",
      "    1  2  3  4  5  6                   1  2  3                         1\n",
      " 7  8  9 10 11 12 13       4  5  6  7  8  9 10       2  3  4  5  6  7  8\n",
      "14 15 16 17 18 19 20      11 12 13 14 15 16 17       9 10 11 12 13 14 15\n",
      "21 22 23 24 25 26 27      18 19 20 21 22 23 24      16 17 18 19 20 21 22\n",
      "28 29 30 31               25 26 27 28 29 30         23 24 25 26 27 28 29\n",
      "                                                    30 31\n",
      "\n"
     ]
    }
   ],
   "source": [
    "print(calendar.calendar(2024))"
   ]
  },
  {
   "cell_type": "code",
   "execution_count": 5,
   "id": "4220d7bf",
   "metadata": {},
   "outputs": [],
   "source": [
    "import cowsay"
   ]
  },
  {
   "cell_type": "code",
   "execution_count": 6,
   "id": "b25fd8a5",
   "metadata": {},
   "outputs": [
    {
     "name": "stdout",
     "output_type": "stream",
     "text": [
      "  _____\n",
      "| Hello |\n",
      "  =====\n",
      "            \\\n",
      "             \\\n",
      "              \\\n",
      "               \\\n",
      "                  .-=-==--==--.\n",
      "            ..-==\"  ,'o`)      `.\n",
      "          ,'         `\"'         \\\n",
      "         :  (                     `.__...._\n",
      "         |                  )    /         `-=-.\n",
      "         :       ,vv.-._   /    /               `---==-._\n",
      "          \\/\\/\\/VV ^ d88`;'    /                         `.\n",
      "              ``  ^/d88P!'    /             ,              `._\n",
      "                 ^/    !'   ,.      ,      /                  \"-,,__,,--'\"\"\"\"-.\n",
      "                ^/    !'  ,'  \\ . .(      (         _           )  ) ) ) ))_,-.\\\n",
      "               ^(__ ,!',\"'   ;:+.:%:a.     \\:.. . ,'          )  )  ) ) ,\"'    '\n",
      "               ',,,'','     /o:::\":%:%a.    \\:.:.:         .    )  ) _,'\n",
      "                \"\"\"'       ;':::'' `+%%%a._  \\%:%|         ;.). _,-\"\"\n",
      "                       ,-='_.-'      ``:%::)  )%:|        /:._,\"\n",
      "                      (/(/\"           ,\" ,'_,'%%%:       (_,'\n",
      "                                     (  (//(`.___;        \\\n",
      "                                      \\     \\    `         `\n",
      "                                       `.    `.   `.        :\n",
      "                                         \\. . .\\    : . . . :\n",
      "                                          \\. . .:    `.. . .:\n",
      "                                           `..:.:\\     \\:...\\\n",
      "                                            ;:.:.;      ::...:\n",
      "                                            ):%::       :::::;\n",
      "                                        __,::%:(        :::::\n",
      "                                     ,;:%%%%%%%:        ;:%::\n",
      "                                       ;,--\"\"-.`\\  ,=--':%:%:\\\n",
      "                                      /\"       \"| /-\".:%%%%%%%\\\n",
      "                                                      ;,-\"'`)%%)\n",
      "                                                     /\"      \"|\n"
     ]
    }
   ],
   "source": [
    "cowsay.trex('Hello')"
   ]
  },
  {
   "cell_type": "code",
   "execution_count": 7,
   "id": "a4d44bd2",
   "metadata": {},
   "outputs": [
    {
     "name": "stdout",
     "output_type": "stream",
     "text": [
      "done\n"
     ]
    }
   ],
   "source": [
    "import lenovo\n",
    "print('done')"
   ]
  },
  {
   "cell_type": "code",
   "execution_count": 8,
   "id": "ba4e84be",
   "metadata": {},
   "outputs": [
    {
     "name": "stdout",
     "output_type": "stream",
     "text": [
      "  _____\n",
      "| Hello |\n",
      "  =====\n",
      "      \\\n",
      "       \\\n",
      "        \\\n",
      "         |\\_/|,,_____,~~`\n",
      "         (.\".)~~     )`~}}\n",
      "          \\o/\\ /---~\\\\ ~}}\n",
      "            _//    _// ~}\n"
     ]
    }
   ],
   "source": [
    "cowsay.fox('Hello')"
   ]
  },
  {
   "cell_type": "code",
   "execution_count": 9,
   "id": "f1c5588b",
   "metadata": {},
   "outputs": [
    {
     "name": "stdout",
     "output_type": "stream",
     "text": [
      "𝓦𝓔 𝓐𝓡𝓔 𝓘𝓝 𝓝𝓞𝓘𝓓𝓐"
     ]
    }
   ],
   "source": [
    "lenovo.change_font('We are in Noida')"
   ]
  },
  {
   "cell_type": "code",
   "execution_count": 10,
   "id": "39156116",
   "metadata": {},
   "outputs": [
    {
     "name": "stdout",
     "output_type": "stream",
     "text": [
      "pygame 2.5.1 (SDL 2.28.2, Python 3.11.3)\n",
      "Hello from the pygame community. https://www.pygame.org/contribute.html\n"
     ]
    }
   ],
   "source": [
    "lenovo.text_to_speech_and_play('We are in Noida')"
   ]
  },
  {
   "cell_type": "code",
   "execution_count": 11,
   "id": "9e8e8ee0",
   "metadata": {},
   "outputs": [
    {
     "data": {
      "text/plain": [
       "[0,\n",
       " 1,\n",
       " 1,\n",
       " 2,\n",
       " 3,\n",
       " 5,\n",
       " 8,\n",
       " 13,\n",
       " 21,\n",
       " 34,\n",
       " 55,\n",
       " 89,\n",
       " 144,\n",
       " 233,\n",
       " 377,\n",
       " 610,\n",
       " 987,\n",
       " 1597,\n",
       " 2584,\n",
       " 4181,\n",
       " 6765,\n",
       " 10946,\n",
       " 17711,\n",
       " 28657,\n",
       " 46368,\n",
       " 75025,\n",
       " 121393,\n",
       " 196418,\n",
       " 317811,\n",
       " 514229,\n",
       " 832040,\n",
       " 1346269,\n",
       " 2178309,\n",
       " 3524578,\n",
       " 5702887]"
      ]
     },
     "execution_count": 11,
     "metadata": {},
     "output_type": "execute_result"
    }
   ],
   "source": [
    "lenovo.get_fibbo(35)"
   ]
  },
  {
   "cell_type": "code",
   "execution_count": 12,
   "id": "9c9f3f13",
   "metadata": {},
   "outputs": [],
   "source": [
    "from lenovo import check_armstrong"
   ]
  },
  {
   "cell_type": "code",
   "execution_count": 14,
   "id": "f04d86b0",
   "metadata": {},
   "outputs": [
    {
     "data": {
      "text/plain": [
       "'Not an Armstrong'"
      ]
     },
     "execution_count": 14,
     "metadata": {},
     "output_type": "execute_result"
    }
   ],
   "source": [
    "check_armstrong(158)"
   ]
  },
  {
   "cell_type": "code",
   "execution_count": 15,
   "id": "156d3afb",
   "metadata": {},
   "outputs": [],
   "source": [
    "from lenovo import check_armstrong,check_prime,maxx"
   ]
  },
  {
   "cell_type": "code",
   "execution_count": 17,
   "id": "b4e2ed53",
   "metadata": {},
   "outputs": [
    {
     "name": "stdout",
     "output_type": "stream",
     "text": [
      "Max element: 2300\n"
     ]
    }
   ],
   "source": [
    "maxx([1,2300,43,145])"
   ]
  },
  {
   "cell_type": "code",
   "execution_count": 19,
   "id": "2c7ce7cd",
   "metadata": {},
   "outputs": [
    {
     "data": {
      "text/plain": [
       "3"
      ]
     },
     "execution_count": 19,
     "metadata": {},
     "output_type": "execute_result"
    }
   ],
   "source": [
    "check_prime(3)"
   ]
  },
  {
   "cell_type": "code",
   "execution_count": 20,
   "id": "84980fa4",
   "metadata": {},
   "outputs": [],
   "source": [
    "# import with aliasing"
   ]
  },
  {
   "cell_type": "code",
   "execution_count": 21,
   "id": "9f10e5c7",
   "metadata": {},
   "outputs": [],
   "source": [
    "import lenovo as l"
   ]
  },
  {
   "cell_type": "code",
   "execution_count": 23,
   "id": "36fd4c4c",
   "metadata": {},
   "outputs": [],
   "source": [
    "import pandas as pd"
   ]
  },
  {
   "cell_type": "code",
   "execution_count": 24,
   "id": "d33b36dd",
   "metadata": {},
   "outputs": [
    {
     "data": {
      "text/plain": [
       "[0, 1, 1, 2, 3]"
      ]
     },
     "execution_count": 24,
     "metadata": {},
     "output_type": "execute_result"
    }
   ],
   "source": [
    "l.get_fibbo(5)"
   ]
  },
  {
   "cell_type": "code",
   "execution_count": 25,
   "id": "74d9682e",
   "metadata": {},
   "outputs": [],
   "source": [
    "# import with * all func"
   ]
  },
  {
   "cell_type": "code",
   "execution_count": 26,
   "id": "f247e549",
   "metadata": {},
   "outputs": [],
   "source": [
    "from lenovo import minn"
   ]
  },
  {
   "cell_type": "code",
   "execution_count": 27,
   "id": "d3be5149",
   "metadata": {},
   "outputs": [],
   "source": [
    "from lenovo import *"
   ]
  },
  {
   "cell_type": "code",
   "execution_count": 28,
   "id": "41ad87fb",
   "metadata": {},
   "outputs": [],
   "source": [
    "text_to_speech_and_play('Hello Karan How are u')"
   ]
  },
  {
   "cell_type": "code",
   "execution_count": null,
   "id": "a9cc3cf0",
   "metadata": {},
   "outputs": [],
   "source": []
  },
  {
   "cell_type": "code",
   "execution_count": null,
   "id": "bb67ba54",
   "metadata": {},
   "outputs": [],
   "source": []
  },
  {
   "cell_type": "code",
   "execution_count": null,
   "id": "c67ebd92",
   "metadata": {},
   "outputs": [],
   "source": [
    "# module:-\n",
    "#     collection of func\n",
    "\n",
    "# libraries:-collection of modules\n",
    "    \n",
    "# package:- collection of libraries"
   ]
  },
  {
   "cell_type": "code",
   "execution_count": null,
   "id": "08333fc2",
   "metadata": {},
   "outputs": [],
   "source": []
  },
  {
   "cell_type": "code",
   "execution_count": null,
   "id": "3d0b2fb3",
   "metadata": {},
   "outputs": [],
   "source": []
  },
  {
   "cell_type": "code",
   "execution_count": 29,
   "id": "d36ddccb",
   "metadata": {},
   "outputs": [],
   "source": [
    "# pip install qrcode"
   ]
  },
  {
   "cell_type": "code",
   "execution_count": 30,
   "id": "8a348a70",
   "metadata": {},
   "outputs": [],
   "source": [
    "import qrcode"
   ]
  },
  {
   "cell_type": "code",
   "execution_count": 31,
   "id": "df75d2fd",
   "metadata": {},
   "outputs": [
    {
     "name": "stdout",
     "output_type": "stream",
     "text": [
      "done\n"
     ]
    }
   ],
   "source": [
    "my_qr = qrcode.make('https://www.youtube.com/watch?v=MZglhSsbhGU')\n",
    "my_qr.save('youtube_kapil_show.png')\n",
    "print('done')"
   ]
  },
  {
   "cell_type": "code",
   "execution_count": 32,
   "id": "51e25789",
   "metadata": {},
   "outputs": [
    {
     "name": "stdout",
     "output_type": "stream",
     "text": [
      "done\n"
     ]
    }
   ],
   "source": [
    "google_form_qr = qrcode.make('https://forms.gle/Hsmn6bS9HqiXw4ZT6')\n",
    "google_form_qr.save('google_form.png')\n",
    "print('done')"
   ]
  },
  {
   "cell_type": "code",
   "execution_count": 34,
   "id": "7d1839c1",
   "metadata": {},
   "outputs": [],
   "source": [
    "data = '''👍India is one of the strongest countries in the world. It is the seventh-largest country in the world area-wise and the second-most populous country in the world. India shares its borders with countries like Pakistan, Afghanistan, China, Nepal, Bhutan, Myanmar and Bangladesh.'''"
   ]
  },
  {
   "cell_type": "code",
   "execution_count": 35,
   "id": "9e1f22e9",
   "metadata": {},
   "outputs": [
    {
     "name": "stdout",
     "output_type": "stream",
     "text": [
      "done\n"
     ]
    }
   ],
   "source": [
    "india = qrcode.make(data)\n",
    "india.save('india.png')\n",
    "print('done')"
   ]
  },
  {
   "cell_type": "code",
   "execution_count": null,
   "id": "8fcc2268",
   "metadata": {},
   "outputs": [],
   "source": []
  }
 ],
 "metadata": {
  "kernelspec": {
   "display_name": "Python 3 (ipykernel)",
   "language": "python",
   "name": "python3"
  },
  "language_info": {
   "codemirror_mode": {
    "name": "ipython",
    "version": 3
   },
   "file_extension": ".py",
   "mimetype": "text/x-python",
   "name": "python",
   "nbconvert_exporter": "python",
   "pygments_lexer": "ipython3",
   "version": "3.11.3"
  }
 },
 "nbformat": 4,
 "nbformat_minor": 5
}
