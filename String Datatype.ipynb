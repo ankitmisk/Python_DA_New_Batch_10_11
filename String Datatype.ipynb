{
 "cells": [
  {
   "cell_type": "code",
   "execution_count": 1,
   "id": "d6678c68",
   "metadata": {},
   "outputs": [],
   "source": [
    "# operations string"
   ]
  },
  {
   "cell_type": "code",
   "execution_count": 3,
   "id": "248b5c80",
   "metadata": {},
   "outputs": [
    {
     "name": "stdout",
     "output_type": "stream",
     "text": [
      "Karan Karan Karan \n"
     ]
    }
   ],
   "source": [
    "a = 'Karan '\n",
    "\n",
    "print(a*3)"
   ]
  },
  {
   "cell_type": "code",
   "execution_count": 5,
   "id": "4da29b14",
   "metadata": {},
   "outputs": [
    {
     "name": "stdout",
     "output_type": "stream",
     "text": [
      "Hello \n",
      "Hello Hello \n",
      "Hello Hello Hello \n",
      "Hello Hello Hello Hello \n",
      "Hello Hello Hello Hello Hello \n"
     ]
    }
   ],
   "source": [
    "print('Hello '*1)\n",
    "print('Hello '*2)\n",
    "print('Hello '*3)\n",
    "print('Hello '*4)\n",
    "print('Hello '*5)"
   ]
  },
  {
   "cell_type": "code",
   "execution_count": 6,
   "id": "ea926e3c",
   "metadata": {},
   "outputs": [
    {
     "ename": "TypeError",
     "evalue": "unsupported operand type(s) for //: 'str' and 'int'",
     "output_type": "error",
     "traceback": [
      "\u001b[1;31m---------------------------------------------------------------------------\u001b[0m",
      "\u001b[1;31mTypeError\u001b[0m                                 Traceback (most recent call last)",
      "Cell \u001b[1;32mIn[6], line 2\u001b[0m\n\u001b[0;32m      1\u001b[0m a \u001b[38;5;241m=\u001b[39m \u001b[38;5;124m'\u001b[39m\u001b[38;5;124majay\u001b[39m\u001b[38;5;124m'\u001b[39m\n\u001b[1;32m----> 2\u001b[0m a\u001b[38;5;241m/\u001b[39m\u001b[38;5;241m/\u001b[39m\u001b[38;5;241m4\u001b[39m\n",
      "\u001b[1;31mTypeError\u001b[0m: unsupported operand type(s) for //: 'str' and 'int'"
     ]
    }
   ],
   "source": [
    "a = 'ajay'\n",
    "a//4"
   ]
  },
  {
   "cell_type": "code",
   "execution_count": 7,
   "id": "2c01aca5",
   "metadata": {},
   "outputs": [
    {
     "name": "stdout",
     "output_type": "stream",
     "text": [
      "hello Python\n"
     ]
    }
   ],
   "source": [
    "a = 'hello '\n",
    "b = 'Python'\n",
    "\n",
    "print(a+b)"
   ]
  },
  {
   "cell_type": "code",
   "execution_count": 8,
   "id": "48fb86d6",
   "metadata": {},
   "outputs": [],
   "source": [
    "# +,*"
   ]
  },
  {
   "cell_type": "code",
   "execution_count": 11,
   "id": "5cb538de",
   "metadata": {},
   "outputs": [
    {
     "ename": "TypeError",
     "evalue": "can't multiply sequence by non-int of type 'float'",
     "output_type": "error",
     "traceback": [
      "\u001b[1;31m---------------------------------------------------------------------------\u001b[0m",
      "\u001b[1;31mTypeError\u001b[0m                                 Traceback (most recent call last)",
      "Cell \u001b[1;32mIn[11], line 2\u001b[0m\n\u001b[0;32m      1\u001b[0m a \u001b[38;5;241m=\u001b[39m \u001b[38;5;124m'\u001b[39m\u001b[38;5;124mAjay \u001b[39m\u001b[38;5;124m'\u001b[39m\n\u001b[1;32m----> 2\u001b[0m a\u001b[38;5;241m*\u001b[39m\u001b[38;5;241m45.8\u001b[39m\n",
      "\u001b[1;31mTypeError\u001b[0m: can't multiply sequence by non-int of type 'float'"
     ]
    }
   ],
   "source": [
    "a = 'Ajay '\n",
    "a*45.8"
   ]
  },
  {
   "cell_type": "code",
   "execution_count": 12,
   "id": "2a2d2ee4",
   "metadata": {},
   "outputs": [
    {
     "data": {
      "text/plain": [
       "'karan'"
      ]
     },
     "execution_count": 12,
     "metadata": {},
     "output_type": "execute_result"
    }
   ],
   "source": [
    "a = 'karan'\n",
    "\n",
    "#      01234\n",
    "\n",
    "a"
   ]
  },
  {
   "cell_type": "code",
   "execution_count": 14,
   "id": "01241353",
   "metadata": {},
   "outputs": [
    {
     "data": {
      "text/plain": [
       "'n'"
      ]
     },
     "execution_count": 14,
     "metadata": {},
     "output_type": "execute_result"
    }
   ],
   "source": [
    "a[4]"
   ]
  },
  {
   "cell_type": "code",
   "execution_count": 17,
   "id": "1fc8ecf0",
   "metadata": {},
   "outputs": [
    {
     "data": {
      "text/plain": [
       "'r'"
      ]
     },
     "execution_count": 17,
     "metadata": {},
     "output_type": "execute_result"
    }
   ],
   "source": [
    "# indexing\n",
    "a[2]"
   ]
  },
  {
   "cell_type": "code",
   "execution_count": 18,
   "id": "c9237607",
   "metadata": {},
   "outputs": [],
   "source": [
    "# [1,234,467]\n",
    "# (1,2343,57)\n",
    "# 'abwejf'\n"
   ]
  },
  {
   "cell_type": "code",
   "execution_count": 20,
   "id": "00ff1fd8",
   "metadata": {},
   "outputs": [],
   "source": [
    "# packing and unpacking"
   ]
  },
  {
   "cell_type": "code",
   "execution_count": 21,
   "id": "4fff6672",
   "metadata": {},
   "outputs": [
    {
     "data": {
      "text/plain": [
       "(2, 35, 476, 8)"
      ]
     },
     "execution_count": 21,
     "metadata": {},
     "output_type": "execute_result"
    }
   ],
   "source": [
    "a = 2,35,476,8\n",
    "a"
   ]
  },
  {
   "cell_type": "code",
   "execution_count": 24,
   "id": "9b2ad0d6",
   "metadata": {},
   "outputs": [
    {
     "data": {
      "text/plain": [
       "[[2, 3, 54, 6, 8], [1, 2134, 3, 7]]"
      ]
     },
     "execution_count": 24,
     "metadata": {},
     "output_type": "execute_result"
    }
   ],
   "source": [
    "b = [[2,3,54,6,8],[1,2134,3,7]]\n",
    "b"
   ]
  },
  {
   "cell_type": "code",
   "execution_count": 26,
   "id": "77939ce8",
   "metadata": {},
   "outputs": [
    {
     "ename": "ValueError",
     "evalue": "too many values to unpack (expected 4)",
     "output_type": "error",
     "traceback": [
      "\u001b[1;31m---------------------------------------------------------------------------\u001b[0m",
      "\u001b[1;31mValueError\u001b[0m                                Traceback (most recent call last)",
      "Cell \u001b[1;32mIn[26], line 1\u001b[0m\n\u001b[1;32m----> 1\u001b[0m a,b,c,d\u001b[38;5;241m=\u001b[39m \u001b[38;5;124m'\u001b[39m\u001b[38;5;124mAjay\u001b[39m\u001b[38;5;124m'\u001b[39m,\u001b[38;5;124m'\u001b[39m\u001b[38;5;124mkaran\u001b[39m\u001b[38;5;124m'\u001b[39m,\u001b[38;5;241m1\u001b[39m,\u001b[38;5;241m2\u001b[39m,\u001b[38;5;241m3\u001b[39m\n\u001b[0;32m      3\u001b[0m c\n",
      "\u001b[1;31mValueError\u001b[0m: too many values to unpack (expected 4)"
     ]
    }
   ],
   "source": [
    "a,b,c,d= 'Ajay','karan',1,2,3\n",
    "\n",
    "c"
   ]
  },
  {
   "cell_type": "code",
   "execution_count": 27,
   "id": "ae7d340c",
   "metadata": {},
   "outputs": [],
   "source": [
    "a,b,f1,f2,s3 = [12,342,54,576,8]"
   ]
  },
  {
   "cell_type": "code",
   "execution_count": 28,
   "id": "ad3b0abc",
   "metadata": {},
   "outputs": [
    {
     "data": {
      "text/plain": [
       "576"
      ]
     },
     "execution_count": 28,
     "metadata": {},
     "output_type": "execute_result"
    }
   ],
   "source": [
    "f2"
   ]
  },
  {
   "cell_type": "code",
   "execution_count": 29,
   "id": "a1b21f04",
   "metadata": {},
   "outputs": [],
   "source": [
    "all_var = a,b,f1,f2,s3"
   ]
  },
  {
   "cell_type": "code",
   "execution_count": 30,
   "id": "4f763c82",
   "metadata": {},
   "outputs": [
    {
     "data": {
      "text/plain": [
       "(12, 342, 54, 576, 8)"
      ]
     },
     "execution_count": 30,
     "metadata": {},
     "output_type": "execute_result"
    }
   ],
   "source": [
    "all_var"
   ]
  },
  {
   "cell_type": "code",
   "execution_count": 31,
   "id": "4842766a",
   "metadata": {},
   "outputs": [],
   "source": [
    "a,b = 1,3"
   ]
  },
  {
   "cell_type": "code",
   "execution_count": 32,
   "id": "e46ee81f",
   "metadata": {},
   "outputs": [
    {
     "data": {
      "text/plain": [
       "1"
      ]
     },
     "execution_count": 32,
     "metadata": {},
     "output_type": "execute_result"
    }
   ],
   "source": [
    "a"
   ]
  },
  {
   "cell_type": "code",
   "execution_count": 34,
   "id": "9172754d",
   "metadata": {},
   "outputs": [
    {
     "name": "stdout",
     "output_type": "stream",
     "text": [
      " \n"
     ]
    }
   ],
   "source": [
    "a = 'Mr Ajay Loves Python'\n",
    "\n",
    "print(a[2])"
   ]
  },
  {
   "cell_type": "code",
   "execution_count": 38,
   "id": "de2cf025",
   "metadata": {},
   "outputs": [
    {
     "data": {
      "text/plain": [
       "'Ajay '"
      ]
     },
     "execution_count": 38,
     "metadata": {},
     "output_type": "execute_result"
    }
   ],
   "source": [
    "a[3]+a[4]+a[5]+a[6]+a[7]"
   ]
  },
  {
   "cell_type": "code",
   "execution_count": 39,
   "id": "749478ef",
   "metadata": {},
   "outputs": [],
   "source": [
    "# slicing"
   ]
  },
  {
   "cell_type": "code",
   "execution_count": 40,
   "id": "ecdcb749",
   "metadata": {},
   "outputs": [],
   "source": [
    "# var[index]\n",
    "\n",
    "# var[start:stop]\n",
    "\n",
    "# var[start:stop:skip/step]"
   ]
  },
  {
   "cell_type": "code",
   "execution_count": 41,
   "id": "994bb692",
   "metadata": {},
   "outputs": [],
   "source": [
    "# slicing:- tuple,list,str"
   ]
  },
  {
   "cell_type": "code",
   "execution_count": 42,
   "id": "931fce9e",
   "metadata": {},
   "outputs": [
    {
     "name": "stdout",
     "output_type": "stream",
     "text": [
      "A\n"
     ]
    }
   ],
   "source": [
    "a = 'Mr Ajay Loves Python'\n",
    "\n",
    "print(a[3])"
   ]
  },
  {
   "cell_type": "code",
   "execution_count": 45,
   "id": "6b495ede",
   "metadata": {},
   "outputs": [
    {
     "name": "stdout",
     "output_type": "stream",
     "text": [
      "Mr Ajay\n"
     ]
    }
   ],
   "source": [
    "print(a[0:7])"
   ]
  },
  {
   "cell_type": "code",
   "execution_count": 47,
   "id": "190a3bc6",
   "metadata": {},
   "outputs": [
    {
     "name": "stdout",
     "output_type": "stream",
     "text": [
      "Ajay Loves Python\n"
     ]
    }
   ],
   "source": [
    "print(a[3:])"
   ]
  },
  {
   "cell_type": "code",
   "execution_count": 48,
   "id": "2cfcba80",
   "metadata": {},
   "outputs": [
    {
     "name": "stdout",
     "output_type": "stream",
     "text": [
      "Mr Ajay\n"
     ]
    }
   ],
   "source": [
    "print(a[:7])"
   ]
  },
  {
   "cell_type": "code",
   "execution_count": 49,
   "id": "ef274728",
   "metadata": {},
   "outputs": [
    {
     "data": {
      "text/plain": [
       "'Mr Ajay Loves Python'"
      ]
     },
     "execution_count": 49,
     "metadata": {},
     "output_type": "execute_result"
    }
   ],
   "source": [
    "a"
   ]
  },
  {
   "cell_type": "code",
   "execution_count": 54,
   "id": "375699b8",
   "metadata": {},
   "outputs": [
    {
     "name": "stdout",
     "output_type": "stream",
     "text": [
      "Loves\n"
     ]
    }
   ],
   "source": [
    "print(a[8:13])"
   ]
  },
  {
   "cell_type": "code",
   "execution_count": 59,
   "id": "fd5ecf35",
   "metadata": {},
   "outputs": [
    {
     "data": {
      "text/plain": [
       "'Mr Ajay Loves'"
      ]
     },
     "execution_count": 59,
     "metadata": {},
     "output_type": "execute_result"
    }
   ],
   "source": [
    "a[0:13]"
   ]
  },
  {
   "cell_type": "code",
   "execution_count": 60,
   "id": "88174137",
   "metadata": {},
   "outputs": [
    {
     "data": {
      "text/plain": [
       "'M jyLvs'"
      ]
     },
     "execution_count": 60,
     "metadata": {},
     "output_type": "execute_result"
    }
   ],
   "source": [
    "a[:13:2]"
   ]
  },
  {
   "cell_type": "code",
   "execution_count": null,
   "id": "0c353787",
   "metadata": {},
   "outputs": [],
   "source": [
    "M jy"
   ]
  },
  {
   "cell_type": "code",
   "execution_count": 62,
   "id": "64ad5229",
   "metadata": {},
   "outputs": [
    {
     "data": {
      "text/plain": [
       "'M jyLvsPto'"
      ]
     },
     "execution_count": 62,
     "metadata": {},
     "output_type": "execute_result"
    }
   ],
   "source": [
    "a[::2]"
   ]
  },
  {
   "cell_type": "code",
   "execution_count": 63,
   "id": "87cd440c",
   "metadata": {},
   "outputs": [],
   "source": [
    "# positive str"
   ]
  },
  {
   "cell_type": "code",
   "execution_count": 64,
   "id": "b144cea1",
   "metadata": {},
   "outputs": [],
   "source": [
    "# negative indexing"
   ]
  },
  {
   "cell_type": "code",
   "execution_count": 66,
   "id": "b085c57b",
   "metadata": {},
   "outputs": [],
   "source": [
    "a = 'karan'\n",
    "#      01234\n",
    "#     -5-4-3-2-1"
   ]
  },
  {
   "cell_type": "code",
   "execution_count": 68,
   "id": "0b0e8296",
   "metadata": {},
   "outputs": [],
   "source": [
    "a = 'mr ajay loves python'"
   ]
  },
  {
   "cell_type": "code",
   "execution_count": 69,
   "id": "e14f8371",
   "metadata": {},
   "outputs": [
    {
     "data": {
      "text/plain": [
       "'mr ajay loves python'"
      ]
     },
     "execution_count": 69,
     "metadata": {},
     "output_type": "execute_result"
    }
   ],
   "source": [
    "a"
   ]
  },
  {
   "cell_type": "code",
   "execution_count": 70,
   "id": "70abb534",
   "metadata": {},
   "outputs": [
    {
     "data": {
      "text/plain": [
       "'python'"
      ]
     },
     "execution_count": 70,
     "metadata": {},
     "output_type": "execute_result"
    }
   ],
   "source": [
    "a[-6:]"
   ]
  },
  {
   "cell_type": "code",
   "execution_count": 73,
   "id": "737450bf",
   "metadata": {},
   "outputs": [
    {
     "data": {
      "text/plain": [
       "''"
      ]
     },
     "execution_count": 73,
     "metadata": {},
     "output_type": "execute_result"
    }
   ],
   "source": [
    "a[-12:-7:-1]"
   ]
  },
  {
   "cell_type": "code",
   "execution_count": 74,
   "id": "9f4e9420",
   "metadata": {},
   "outputs": [
    {
     "data": {
      "text/plain": [
       "'sevol'"
      ]
     },
     "execution_count": 74,
     "metadata": {},
     "output_type": "execute_result"
    }
   ],
   "source": [
    "a[-8:-13:-1]"
   ]
  },
  {
   "cell_type": "code",
   "execution_count": 76,
   "id": "27515587",
   "metadata": {},
   "outputs": [
    {
     "data": {
      "text/plain": [
       "'nohtyp sevol yaja rm'"
      ]
     },
     "execution_count": 76,
     "metadata": {},
     "output_type": "execute_result"
    }
   ],
   "source": [
    "a[::-1]"
   ]
  },
  {
   "cell_type": "code",
   "execution_count": 77,
   "id": "01a0cb4e",
   "metadata": {},
   "outputs": [
    {
     "data": {
      "text/plain": [
       "'yajA'"
      ]
     },
     "execution_count": 77,
     "metadata": {},
     "output_type": "execute_result"
    }
   ],
   "source": [
    "a = 'Ajay'\n",
    "\n",
    "a[::-1]"
   ]
  },
  {
   "cell_type": "code",
   "execution_count": 78,
   "id": "ba1d1805",
   "metadata": {},
   "outputs": [],
   "source": [
    "# palindrome"
   ]
  },
  {
   "cell_type": "code",
   "execution_count": 79,
   "id": "65ed8dc7",
   "metadata": {},
   "outputs": [],
   "source": [
    "a = 'nayan'"
   ]
  },
  {
   "cell_type": "code",
   "execution_count": 80,
   "id": "dff8f9c4",
   "metadata": {},
   "outputs": [
    {
     "name": "stdout",
     "output_type": "stream",
     "text": [
      "nayan\n"
     ]
    }
   ],
   "source": [
    "print(a)"
   ]
  },
  {
   "cell_type": "code",
   "execution_count": 82,
   "id": "acba9169",
   "metadata": {},
   "outputs": [
    {
     "name": "stdout",
     "output_type": "stream",
     "text": [
      "nayan\n"
     ]
    }
   ],
   "source": [
    "print(a[::-1])"
   ]
  },
  {
   "cell_type": "code",
   "execution_count": 83,
   "id": "ebe0bfac",
   "metadata": {},
   "outputs": [
    {
     "data": {
      "text/plain": [
       "True"
      ]
     },
     "execution_count": 83,
     "metadata": {},
     "output_type": "execute_result"
    }
   ],
   "source": [
    "a == a[::-1]"
   ]
  },
  {
   "cell_type": "code",
   "execution_count": 84,
   "id": "b2f4475b",
   "metadata": {},
   "outputs": [
    {
     "name": "stdout",
     "output_type": "stream",
     "text": [
      "nayan\n"
     ]
    }
   ],
   "source": [
    "print(a)"
   ]
  },
  {
   "cell_type": "code",
   "execution_count": 86,
   "id": "1fdd2b06",
   "metadata": {},
   "outputs": [
    {
     "name": "stdout",
     "output_type": "stream",
     "text": [
      "nayan\n"
     ]
    }
   ],
   "source": [
    "print(a[::-1])"
   ]
  },
  {
   "cell_type": "code",
   "execution_count": 87,
   "id": "eac7270f",
   "metadata": {},
   "outputs": [
    {
     "data": {
      "text/plain": [
       "'nitin'"
      ]
     },
     "execution_count": 87,
     "metadata": {},
     "output_type": "execute_result"
    }
   ],
   "source": [
    "a = 'nitin'\n",
    "\n",
    "a[::-1]"
   ]
  },
  {
   "cell_type": "code",
   "execution_count": 89,
   "id": "eaf98375",
   "metadata": {},
   "outputs": [],
   "source": [
    "# dad\n",
    "# mom\n",
    "# madam\n",
    "# nitin\n",
    "# nayan\n"
   ]
  },
  {
   "cell_type": "code",
   "execution_count": 90,
   "id": "cd287f69",
   "metadata": {},
   "outputs": [
    {
     "data": {
      "text/plain": [
       "True"
      ]
     },
     "execution_count": 90,
     "metadata": {},
     "output_type": "execute_result"
    }
   ],
   "source": [
    "a == a[::-1]"
   ]
  },
  {
   "cell_type": "code",
   "execution_count": 91,
   "id": "616f873b",
   "metadata": {},
   "outputs": [],
   "source": [
    "a = 'Mr Ajay Loves Python'"
   ]
  },
  {
   "cell_type": "code",
   "execution_count": 94,
   "id": "207d9b60",
   "metadata": {},
   "outputs": [
    {
     "name": "stdout",
     "output_type": "stream",
     "text": [
      "Mr Ajay \b Python\n"
     ]
    }
   ],
   "source": [
    "print(a.replace('Loves','\\b'))"
   ]
  },
  {
   "cell_type": "code",
   "execution_count": 95,
   "id": "5748e9a5",
   "metadata": {},
   "outputs": [
    {
     "name": "stdout",
     "output_type": "stream",
     "text": [
      "Mr Ajay Python\n"
     ]
    }
   ],
   "source": [
    "print(a.replace('Loves ',''))"
   ]
  },
  {
   "cell_type": "code",
   "execution_count": 96,
   "id": "d934a650",
   "metadata": {},
   "outputs": [
    {
     "data": {
      "text/plain": [
       "'Mr Ajay Loves Python'"
      ]
     },
     "execution_count": 96,
     "metadata": {},
     "output_type": "execute_result"
    }
   ],
   "source": [
    "a"
   ]
  },
  {
   "cell_type": "code",
   "execution_count": 103,
   "id": "5b792c8e",
   "metadata": {},
   "outputs": [
    {
     "data": {
      "text/plain": [
       "'Mr Ajay Python'"
      ]
     },
     "execution_count": 103,
     "metadata": {},
     "output_type": "execute_result"
    }
   ],
   "source": [
    "a[:8] + a[-6:]"
   ]
  },
  {
   "cell_type": "code",
   "execution_count": 104,
   "id": "52247e12",
   "metadata": {},
   "outputs": [],
   "source": [
    "# Methods"
   ]
  },
  {
   "cell_type": "code",
   "execution_count": 105,
   "id": "42157018",
   "metadata": {},
   "outputs": [],
   "source": [
    "a = 'Karan'"
   ]
  },
  {
   "cell_type": "code",
   "execution_count": 106,
   "id": "da1e24bb",
   "metadata": {},
   "outputs": [
    {
     "name": "stdout",
     "output_type": "stream",
     "text": [
      "<class 'str'>\n"
     ]
    }
   ],
   "source": [
    "print(type(a))"
   ]
  },
  {
   "cell_type": "code",
   "execution_count": 107,
   "id": "3c5e7c6f",
   "metadata": {},
   "outputs": [
    {
     "name": "stdout",
     "output_type": "stream",
     "text": [
      "['__add__', '__class__', '__contains__', '__delattr__', '__dir__', '__doc__', '__eq__', '__format__', '__ge__', '__getattribute__', '__getitem__', '__getnewargs__', '__getstate__', '__gt__', '__hash__', '__init__', '__init_subclass__', '__iter__', '__le__', '__len__', '__lt__', '__mod__', '__mul__', '__ne__', '__new__', '__reduce__', '__reduce_ex__', '__repr__', '__rmod__', '__rmul__', '__setattr__', '__sizeof__', '__str__', '__subclasshook__', 'capitalize', 'casefold', 'center', 'count', 'encode', 'endswith', 'expandtabs', 'find', 'format', 'format_map', 'index', 'isalnum', 'isalpha', 'isascii', 'isdecimal', 'isdigit', 'isidentifier', 'islower', 'isnumeric', 'isprintable', 'isspace', 'istitle', 'isupper', 'join', 'ljust', 'lower', 'lstrip', 'maketrans', 'partition', 'removeprefix', 'removesuffix', 'replace', 'rfind', 'rindex', 'rjust', 'rpartition', 'rsplit', 'rstrip', 'split', 'splitlines', 'startswith', 'strip', 'swapcase', 'title', 'translate', 'upper', 'zfill']\n"
     ]
    }
   ],
   "source": [
    "print(dir(a))"
   ]
  },
  {
   "cell_type": "code",
   "execution_count": 108,
   "id": "61d340cf",
   "metadata": {},
   "outputs": [],
   "source": [
    "methods = ['capitalize', 'casefold', 'center', 'count', 'encode', 'endswith', 'expandtabs', 'find', 'format', 'format_map', 'index', 'isalnum', 'isalpha', 'isascii', 'isdecimal', 'isdigit', 'isidentifier', 'islower', 'isnumeric', 'isprintable', 'isspace', 'istitle', 'isupper', 'join', 'ljust', 'lower', 'lstrip', 'maketrans', 'partition', 'removeprefix', 'removesuffix', 'replace', 'rfind', 'rindex', 'rjust', 'rpartition', 'rsplit', 'rstrip', 'split', 'splitlines', 'startswith', 'strip', 'swapcase', 'title', 'translate', 'upper', 'zfill']"
   ]
  },
  {
   "cell_type": "code",
   "execution_count": 110,
   "id": "c3fa3884",
   "metadata": {},
   "outputs": [
    {
     "name": "stdout",
     "output_type": "stream",
     "text": [
      "['capitalize', 'casefold', 'center', 'count', 'encode', 'endswith', 'expandtabs', 'find', 'format', 'format_map', 'index', 'isalnum', 'isalpha', 'isascii', 'isdecimal', 'isdigit', 'isidentifier', 'islower', 'isnumeric', 'isprintable', 'isspace', 'istitle', 'isupper', 'join', 'ljust', 'lower', 'lstrip', 'maketrans', 'partition', 'removeprefix', 'removesuffix', 'replace', 'rfind', 'rindex', 'rjust', 'rpartition', 'rsplit', 'rstrip', 'split', 'splitlines', 'startswith', 'strip', 'swapcase', 'title', 'translate', 'upper', 'zfill']\n"
     ]
    }
   ],
   "source": [
    "print(methods)"
   ]
  },
  {
   "cell_type": "code",
   "execution_count": 111,
   "id": "90348e52",
   "metadata": {},
   "outputs": [],
   "source": [
    "a  = 'python is awesome'"
   ]
  },
  {
   "cell_type": "code",
   "execution_count": 115,
   "id": "2629407a",
   "metadata": {},
   "outputs": [
    {
     "name": "stdout",
     "output_type": "stream",
     "text": [
      "Python is awesome\n"
     ]
    }
   ],
   "source": [
    "print(a.capitalize())"
   ]
  },
  {
   "cell_type": "code",
   "execution_count": 116,
   "id": "6b9e3cc5",
   "metadata": {},
   "outputs": [
    {
     "name": "stdout",
     "output_type": "stream",
     "text": [
      "This is Elon Musk\n"
     ]
    }
   ],
   "source": [
    "a = 'This is Elon Musk'\n",
    "\n",
    "print(a)"
   ]
  },
  {
   "cell_type": "code",
   "execution_count": 117,
   "id": "327dd27c",
   "metadata": {},
   "outputs": [
    {
     "name": "stdout",
     "output_type": "stream",
     "text": [
      "this is elon musk\n"
     ]
    }
   ],
   "source": [
    "print(a.casefold())"
   ]
  },
  {
   "cell_type": "code",
   "execution_count": 131,
   "id": "d24c48e9",
   "metadata": {},
   "outputs": [
    {
     "name": "stdout",
     "output_type": "stream",
     "text": [
      "                                                       This is Elon Musk                                                       \n"
     ]
    }
   ],
   "source": [
    "print(a.center(127))"
   ]
  },
  {
   "cell_type": "code",
   "execution_count": 122,
   "id": "5fba8bfb",
   "metadata": {},
   "outputs": [],
   "source": [
    "# 38+17"
   ]
  },
  {
   "cell_type": "code",
   "execution_count": 132,
   "id": "233aa90f",
   "metadata": {},
   "outputs": [
    {
     "data": {
      "text/plain": [
       "'This is Elon Musk'"
      ]
     },
     "execution_count": 132,
     "metadata": {},
     "output_type": "execute_result"
    }
   ],
   "source": [
    "a"
   ]
  },
  {
   "cell_type": "code",
   "execution_count": 137,
   "id": "13b3e3ed",
   "metadata": {},
   "outputs": [
    {
     "name": "stdout",
     "output_type": "stream",
     "text": [
      "2\n"
     ]
    }
   ],
   "source": [
    "print(a.count('is'))"
   ]
  },
  {
   "cell_type": "code",
   "execution_count": 139,
   "id": "21f7a515",
   "metadata": {},
   "outputs": [
    {
     "data": {
      "text/plain": [
       "True"
      ]
     },
     "execution_count": 139,
     "metadata": {},
     "output_type": "execute_result"
    }
   ],
   "source": [
    "a.endswith('usk')"
   ]
  },
  {
   "cell_type": "code",
   "execution_count": 141,
   "id": "df0a6d77",
   "metadata": {},
   "outputs": [
    {
     "data": {
      "text/plain": [
       "False"
      ]
     },
     "execution_count": 141,
     "metadata": {},
     "output_type": "execute_result"
    }
   ],
   "source": [
    "a.startswith('t')"
   ]
  },
  {
   "cell_type": "code",
   "execution_count": 142,
   "id": "614a3c1b",
   "metadata": {},
   "outputs": [
    {
     "name": "stdout",
     "output_type": "stream",
     "text": [
      "This\n",
      "is\n",
      "Elon\n",
      "Musk\n"
     ]
    }
   ],
   "source": [
    "a = 'This\\nis\\nElon\\nMusk'\n",
    "\n",
    "print(a)"
   ]
  },
  {
   "cell_type": "code",
   "execution_count": 146,
   "id": "415f6488",
   "metadata": {},
   "outputs": [
    {
     "name": "stdout",
     "output_type": "stream",
     "text": [
      "ThisA\b\b is Elon Musk\n"
     ]
    }
   ],
   "source": [
    "a = 'ThisA\\b\\b\\b is Elon Musk'\n",
    "\n",
    "print(a)"
   ]
  },
  {
   "cell_type": "code",
   "execution_count": 147,
   "id": "d43a642d",
   "metadata": {},
   "outputs": [
    {
     "data": {
      "text/plain": [
       "16"
      ]
     },
     "execution_count": 147,
     "metadata": {},
     "output_type": "execute_result"
    }
   ],
   "source": [
    "len('This is a Python')"
   ]
  },
  {
   "cell_type": "code",
   "execution_count": 153,
   "id": "15b64160",
   "metadata": {},
   "outputs": [
    {
     "name": "stdout",
     "output_type": "stream",
     "text": [
      "This is a Python\b\b\b\b\b\b\b\b\b\b\b\b\b\b\b\b\n"
     ]
    }
   ],
   "source": [
    "b = 'This is a Python'\n",
    "# a = ('\\b'*16)\n",
    "\n",
    "print(b+a)"
   ]
  },
  {
   "cell_type": "code",
   "execution_count": 154,
   "id": "c1d7c437",
   "metadata": {},
   "outputs": [],
   "source": [
    "# '\\b'*16"
   ]
  },
  {
   "cell_type": "code",
   "execution_count": 160,
   "id": "1102eea5",
   "metadata": {},
   "outputs": [
    {
     "name": "stdout",
     "output_type": "stream",
     "text": [
      "This is a Python\b\b\n"
     ]
    }
   ],
   "source": [
    "print('This is a Python\\b\\b')"
   ]
  },
  {
   "cell_type": "code",
   "execution_count": null,
   "id": "aba0179c",
   "metadata": {},
   "outputs": [],
   "source": [
    "# partitiona."
   ]
  }
 ],
 "metadata": {
  "kernelspec": {
   "display_name": "Python 3 (ipykernel)",
   "language": "python",
   "name": "python3"
  },
  "language_info": {
   "codemirror_mode": {
    "name": "ipython",
    "version": 3
   },
   "file_extension": ".py",
   "mimetype": "text/x-python",
   "name": "python",
   "nbconvert_exporter": "python",
   "pygments_lexer": "ipython3",
   "version": "3.11.3"
  }
 },
 "nbformat": 4,
 "nbformat_minor": 5
}
