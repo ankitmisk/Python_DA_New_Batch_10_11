{
 "cells": [
  {
   "cell_type": "code",
   "execution_count": 1,
   "id": "a58bfad2",
   "metadata": {},
   "outputs": [],
   "source": [
    "# operations string"
   ]
  },
  {
   "cell_type": "code",
   "execution_count": 3,
   "id": "a2ca13e4",
   "metadata": {},
   "outputs": [
    {
     "name": "stdout",
     "output_type": "stream",
     "text": [
      "Karan Karan Karan \n"
     ]
    }
   ],
   "source": [
    "a = 'Karan '\n",
    "\n",
    "print(a*3)"
   ]
  },
  {
   "cell_type": "code",
   "execution_count": 5,
   "id": "7ad8859e",
   "metadata": {},
   "outputs": [
    {
     "name": "stdout",
     "output_type": "stream",
     "text": [
      "Hello \n",
      "Hello Hello \n",
      "Hello Hello Hello \n",
      "Hello Hello Hello Hello \n",
      "Hello Hello Hello Hello Hello \n"
     ]
    }
   ],
   "source": [
    "print('Hello '*1)\n",
    "print('Hello '*2)\n",
    "print('Hello '*3)\n",
    "print('Hello '*4)\n",
    "print('Hello '*5)"
   ]
  },
  {
   "cell_type": "code",
   "execution_count": 6,
   "id": "aac24881",
   "metadata": {},
   "outputs": [
    {
     "ename": "TypeError",
     "evalue": "unsupported operand type(s) for //: 'str' and 'int'",
     "output_type": "error",
     "traceback": [
      "\u001b[1;31m---------------------------------------------------------------------------\u001b[0m",
      "\u001b[1;31mTypeError\u001b[0m                                 Traceback (most recent call last)",
      "Cell \u001b[1;32mIn[6], line 2\u001b[0m\n\u001b[0;32m      1\u001b[0m a \u001b[38;5;241m=\u001b[39m \u001b[38;5;124m'\u001b[39m\u001b[38;5;124majay\u001b[39m\u001b[38;5;124m'\u001b[39m\n\u001b[1;32m----> 2\u001b[0m a\u001b[38;5;241m/\u001b[39m\u001b[38;5;241m/\u001b[39m\u001b[38;5;241m4\u001b[39m\n",
      "\u001b[1;31mTypeError\u001b[0m: unsupported operand type(s) for //: 'str' and 'int'"
     ]
    }
   ],
   "source": [
    "a = 'ajay'\n",
    "a//4"
   ]
  },
  {
   "cell_type": "code",
   "execution_count": 7,
   "id": "5c83e411",
   "metadata": {},
   "outputs": [
    {
     "name": "stdout",
     "output_type": "stream",
     "text": [
      "hello Python\n"
     ]
    }
   ],
   "source": [
    "a = 'hello '\n",
    "b = 'Python'\n",
    "\n",
    "print(a+b)"
   ]
  },
  {
   "cell_type": "code",
   "execution_count": 8,
   "id": "d2c29b3e",
   "metadata": {},
   "outputs": [],
   "source": [
    "# +,*"
   ]
  },
  {
   "cell_type": "code",
   "execution_count": 11,
   "id": "904c1d3f",
   "metadata": {},
   "outputs": [
    {
     "ename": "TypeError",
     "evalue": "can't multiply sequence by non-int of type 'float'",
     "output_type": "error",
     "traceback": [
      "\u001b[1;31m---------------------------------------------------------------------------\u001b[0m",
      "\u001b[1;31mTypeError\u001b[0m                                 Traceback (most recent call last)",
      "Cell \u001b[1;32mIn[11], line 2\u001b[0m\n\u001b[0;32m      1\u001b[0m a \u001b[38;5;241m=\u001b[39m \u001b[38;5;124m'\u001b[39m\u001b[38;5;124mAjay \u001b[39m\u001b[38;5;124m'\u001b[39m\n\u001b[1;32m----> 2\u001b[0m a\u001b[38;5;241m*\u001b[39m\u001b[38;5;241m45.8\u001b[39m\n",
      "\u001b[1;31mTypeError\u001b[0m: can't multiply sequence by non-int of type 'float'"
     ]
    }
   ],
   "source": [
    "a = 'Ajay '\n",
    "a*45.8"
   ]
  },
  {
   "cell_type": "code",
   "execution_count": 12,
   "id": "87627012",
   "metadata": {},
   "outputs": [
    {
     "data": {
      "text/plain": [
       "'karan'"
      ]
     },
     "execution_count": 12,
     "metadata": {},
     "output_type": "execute_result"
    }
   ],
   "source": [
    "a = 'karan'\n",
    "\n",
    "#      01234\n",
    "\n",
    "a"
   ]
  },
  {
   "cell_type": "code",
   "execution_count": 14,
   "id": "dd2961ad",
   "metadata": {},
   "outputs": [
    {
     "data": {
      "text/plain": [
       "'n'"
      ]
     },
     "execution_count": 14,
     "metadata": {},
     "output_type": "execute_result"
    }
   ],
   "source": [
    "a[4]"
   ]
  },
  {
   "cell_type": "code",
   "execution_count": 17,
   "id": "fd8939b5",
   "metadata": {},
   "outputs": [
    {
     "data": {
      "text/plain": [
       "'r'"
      ]
     },
     "execution_count": 17,
     "metadata": {},
     "output_type": "execute_result"
    }
   ],
   "source": [
    "# indexing\n",
    "a[2]"
   ]
  },
  {
   "cell_type": "code",
   "execution_count": 18,
   "id": "96a8d7e9",
   "metadata": {},
   "outputs": [],
   "source": [
    "# [1,234,467]\n",
    "# (1,2343,57)\n",
    "# 'abwejf'\n"
   ]
  },
  {
   "cell_type": "code",
   "execution_count": 20,
   "id": "12d33b6f",
   "metadata": {},
   "outputs": [],
   "source": [
    "# packing and unpacking"
   ]
  },
  {
   "cell_type": "code",
   "execution_count": 21,
   "id": "61bda831",
   "metadata": {},
   "outputs": [
    {
     "data": {
      "text/plain": [
       "(2, 35, 476, 8)"
      ]
     },
     "execution_count": 21,
     "metadata": {},
     "output_type": "execute_result"
    }
   ],
   "source": [
    "a = 2,35,476,8\n",
    "a"
   ]
  },
  {
   "cell_type": "code",
   "execution_count": 24,
   "id": "6f7f32e2",
   "metadata": {},
   "outputs": [
    {
     "data": {
      "text/plain": [
       "[[2, 3, 54, 6, 8], [1, 2134, 3, 7]]"
      ]
     },
     "execution_count": 24,
     "metadata": {},
     "output_type": "execute_result"
    }
   ],
   "source": [
    "b = [[2,3,54,6,8],[1,2134,3,7]]\n",
    "b"
   ]
  },
  {
   "cell_type": "code",
   "execution_count": 26,
   "id": "a98a4063",
   "metadata": {},
   "outputs": [
    {
     "ename": "ValueError",
     "evalue": "too many values to unpack (expected 4)",
     "output_type": "error",
     "traceback": [
      "\u001b[1;31m---------------------------------------------------------------------------\u001b[0m",
      "\u001b[1;31mValueError\u001b[0m                                Traceback (most recent call last)",
      "Cell \u001b[1;32mIn[26], line 1\u001b[0m\n\u001b[1;32m----> 1\u001b[0m a,b,c,d\u001b[38;5;241m=\u001b[39m \u001b[38;5;124m'\u001b[39m\u001b[38;5;124mAjay\u001b[39m\u001b[38;5;124m'\u001b[39m,\u001b[38;5;124m'\u001b[39m\u001b[38;5;124mkaran\u001b[39m\u001b[38;5;124m'\u001b[39m,\u001b[38;5;241m1\u001b[39m,\u001b[38;5;241m2\u001b[39m,\u001b[38;5;241m3\u001b[39m\n\u001b[0;32m      3\u001b[0m c\n",
      "\u001b[1;31mValueError\u001b[0m: too many values to unpack (expected 4)"
     ]
    }
   ],
   "source": [
    "a,b,c,d= 'Ajay','karan',1,2,3\n",
    "\n",
    "c"
   ]
  },
  {
   "cell_type": "code",
   "execution_count": 27,
   "id": "adacd6dc",
   "metadata": {},
   "outputs": [],
   "source": [
    "a,b,f1,f2,s3 = [12,342,54,576,8]"
   ]
  },
  {
   "cell_type": "code",
   "execution_count": 28,
   "id": "f8f10c1d",
   "metadata": {},
   "outputs": [
    {
     "data": {
      "text/plain": [
       "576"
      ]
     },
     "execution_count": 28,
     "metadata": {},
     "output_type": "execute_result"
    }
   ],
   "source": [
    "f2"
   ]
  },
  {
   "cell_type": "code",
   "execution_count": 29,
   "id": "92470016",
   "metadata": {},
   "outputs": [],
   "source": [
    "all_var = a,b,f1,f2,s3"
   ]
  },
  {
   "cell_type": "code",
   "execution_count": 30,
   "id": "9acacd2a",
   "metadata": {},
   "outputs": [
    {
     "data": {
      "text/plain": [
       "(12, 342, 54, 576, 8)"
      ]
     },
     "execution_count": 30,
     "metadata": {},
     "output_type": "execute_result"
    }
   ],
   "source": [
    "all_var"
   ]
  },
  {
   "cell_type": "code",
   "execution_count": 31,
   "id": "a0b7f792",
   "metadata": {},
   "outputs": [],
   "source": [
    "a,b = 1,3"
   ]
  },
  {
   "cell_type": "code",
   "execution_count": 32,
   "id": "71d84926",
   "metadata": {},
   "outputs": [
    {
     "data": {
      "text/plain": [
       "1"
      ]
     },
     "execution_count": 32,
     "metadata": {},
     "output_type": "execute_result"
    }
   ],
   "source": [
    "a"
   ]
  },
  {
   "cell_type": "code",
   "execution_count": 34,
   "id": "9d651325",
   "metadata": {},
   "outputs": [
    {
     "name": "stdout",
     "output_type": "stream",
     "text": [
      " \n"
     ]
    }
   ],
   "source": [
    "a = 'Mr Ajay Loves Python'\n",
    "\n",
    "print(a[2])"
   ]
  },
  {
   "cell_type": "code",
   "execution_count": 38,
   "id": "27fed11e",
   "metadata": {},
   "outputs": [
    {
     "data": {
      "text/plain": [
       "'Ajay '"
      ]
     },
     "execution_count": 38,
     "metadata": {},
     "output_type": "execute_result"
    }
   ],
   "source": [
    "a[3]+a[4]+a[5]+a[6]+a[7]"
   ]
  },
  {
   "cell_type": "code",
   "execution_count": 39,
   "id": "b9ba813f",
   "metadata": {},
   "outputs": [],
   "source": [
    "# slicing"
   ]
  },
  {
   "cell_type": "code",
   "execution_count": 40,
   "id": "40ebb540",
   "metadata": {},
   "outputs": [],
   "source": [
    "# var[index]\n",
    "\n",
    "# var[start:stop]\n",
    "\n",
    "# var[start:stop:skip/step]"
   ]
  },
  {
   "cell_type": "code",
   "execution_count": 41,
   "id": "f6208a04",
   "metadata": {},
   "outputs": [],
   "source": [
    "# slicing:- tuple,list,str"
   ]
  },
  {
   "cell_type": "code",
   "execution_count": 42,
   "id": "ca963c16",
   "metadata": {},
   "outputs": [
    {
     "name": "stdout",
     "output_type": "stream",
     "text": [
      "A\n"
     ]
    }
   ],
   "source": [
    "a = 'Mr Ajay Loves Python'\n",
    "\n",
    "print(a[3])"
   ]
  },
  {
   "cell_type": "code",
   "execution_count": 45,
   "id": "41d2f65d",
   "metadata": {},
   "outputs": [
    {
     "name": "stdout",
     "output_type": "stream",
     "text": [
      "Mr Ajay\n"
     ]
    }
   ],
   "source": [
    "print(a[0:7])"
   ]
  },
  {
   "cell_type": "code",
   "execution_count": 47,
   "id": "74e69757",
   "metadata": {},
   "outputs": [
    {
     "name": "stdout",
     "output_type": "stream",
     "text": [
      "Ajay Loves Python\n"
     ]
    }
   ],
   "source": [
    "print(a[3:])"
   ]
  },
  {
   "cell_type": "code",
   "execution_count": 48,
   "id": "5f72f24b",
   "metadata": {},
   "outputs": [
    {
     "name": "stdout",
     "output_type": "stream",
     "text": [
      "Mr Ajay\n"
     ]
    }
   ],
   "source": [
    "print(a[:7])"
   ]
  },
  {
   "cell_type": "code",
   "execution_count": 49,
   "id": "a5f64969",
   "metadata": {},
   "outputs": [
    {
     "data": {
      "text/plain": [
       "'Mr Ajay Loves Python'"
      ]
     },
     "execution_count": 49,
     "metadata": {},
     "output_type": "execute_result"
    }
   ],
   "source": [
    "a"
   ]
  },
  {
   "cell_type": "code",
   "execution_count": 54,
   "id": "70eddf77",
   "metadata": {},
   "outputs": [
    {
     "name": "stdout",
     "output_type": "stream",
     "text": [
      "Loves\n"
     ]
    }
   ],
   "source": [
    "print(a[8:13])"
   ]
  },
  {
   "cell_type": "code",
   "execution_count": 59,
   "id": "d20bdf5b",
   "metadata": {},
   "outputs": [
    {
     "data": {
      "text/plain": [
       "'Mr Ajay Loves'"
      ]
     },
     "execution_count": 59,
     "metadata": {},
     "output_type": "execute_result"
    }
   ],
   "source": [
    "a[0:13]"
   ]
  },
  {
   "cell_type": "code",
   "execution_count": 60,
   "id": "74688161",
   "metadata": {},
   "outputs": [
    {
     "data": {
      "text/plain": [
       "'M jyLvs'"
      ]
     },
     "execution_count": 60,
     "metadata": {},
     "output_type": "execute_result"
    }
   ],
   "source": [
    "a[:13:2]"
   ]
  },
  {
   "cell_type": "code",
   "execution_count": null,
   "id": "a205a3c0",
   "metadata": {},
   "outputs": [],
   "source": [
    "M jy"
   ]
  },
  {
   "cell_type": "code",
   "execution_count": 62,
   "id": "f5d784a3",
   "metadata": {},
   "outputs": [
    {
     "data": {
      "text/plain": [
       "'M jyLvsPto'"
      ]
     },
     "execution_count": 62,
     "metadata": {},
     "output_type": "execute_result"
    }
   ],
   "source": [
    "a[::2]"
   ]
  },
  {
   "cell_type": "code",
   "execution_count": 63,
   "id": "23944a89",
   "metadata": {},
   "outputs": [],
   "source": [
    "# positive str"
   ]
  },
  {
   "cell_type": "code",
   "execution_count": 64,
   "id": "af97445b",
   "metadata": {},
   "outputs": [],
   "source": [
    "# negative indexing"
   ]
  },
  {
   "cell_type": "code",
   "execution_count": 66,
   "id": "fb1282d0",
   "metadata": {},
   "outputs": [],
   "source": [
    "a = 'karan'\n",
    "#      01234\n",
    "#     -5-4-3-2-1"
   ]
  },
  {
   "cell_type": "code",
   "execution_count": 68,
   "id": "f928d631",
   "metadata": {},
   "outputs": [],
   "source": [
    "a = 'mr ajay loves python'"
   ]
  },
  {
   "cell_type": "code",
   "execution_count": 69,
   "id": "f485f80c",
   "metadata": {},
   "outputs": [
    {
     "data": {
      "text/plain": [
       "'mr ajay loves python'"
      ]
     },
     "execution_count": 69,
     "metadata": {},
     "output_type": "execute_result"
    }
   ],
   "source": [
    "a"
   ]
  },
  {
   "cell_type": "code",
   "execution_count": 70,
   "id": "40792c46",
   "metadata": {},
   "outputs": [
    {
     "data": {
      "text/plain": [
       "'python'"
      ]
     },
     "execution_count": 70,
     "metadata": {},
     "output_type": "execute_result"
    }
   ],
   "source": [
    "a[-6:]"
   ]
  },
  {
   "cell_type": "code",
   "execution_count": 73,
   "id": "8177ce3e",
   "metadata": {},
   "outputs": [
    {
     "data": {
      "text/plain": [
       "''"
      ]
     },
     "execution_count": 73,
     "metadata": {},
     "output_type": "execute_result"
    }
   ],
   "source": [
    "a[-12:-7:-1]"
   ]
  },
  {
   "cell_type": "code",
   "execution_count": 74,
   "id": "98a6aa55",
   "metadata": {},
   "outputs": [
    {
     "data": {
      "text/plain": [
       "'sevol'"
      ]
     },
     "execution_count": 74,
     "metadata": {},
     "output_type": "execute_result"
    }
   ],
   "source": [
    "a[-8:-13:-1]"
   ]
  },
  {
   "cell_type": "code",
   "execution_count": 76,
   "id": "3bf5f961",
   "metadata": {},
   "outputs": [
    {
     "data": {
      "text/plain": [
       "'nohtyp sevol yaja rm'"
      ]
     },
     "execution_count": 76,
     "metadata": {},
     "output_type": "execute_result"
    }
   ],
   "source": [
    "a[::-1]"
   ]
  },
  {
   "cell_type": "code",
   "execution_count": 77,
   "id": "66bf552c",
   "metadata": {},
   "outputs": [
    {
     "data": {
      "text/plain": [
       "'yajA'"
      ]
     },
     "execution_count": 77,
     "metadata": {},
     "output_type": "execute_result"
    }
   ],
   "source": [
    "a = 'Ajay'\n",
    "\n",
    "a[::-1]"
   ]
  },
  {
   "cell_type": "code",
   "execution_count": 78,
   "id": "e839728e",
   "metadata": {},
   "outputs": [],
   "source": [
    "# palindrome"
   ]
  },
  {
   "cell_type": "code",
   "execution_count": 79,
   "id": "8794e380",
   "metadata": {},
   "outputs": [],
   "source": [
    "a = 'nayan'"
   ]
  },
  {
   "cell_type": "code",
   "execution_count": 80,
   "id": "03f4321d",
   "metadata": {},
   "outputs": [
    {
     "name": "stdout",
     "output_type": "stream",
     "text": [
      "nayan\n"
     ]
    }
   ],
   "source": [
    "print(a)"
   ]
  },
  {
   "cell_type": "code",
   "execution_count": 82,
   "id": "8213eb9a",
   "metadata": {},
   "outputs": [
    {
     "name": "stdout",
     "output_type": "stream",
     "text": [
      "nayan\n"
     ]
    }
   ],
   "source": [
    "print(a[::-1])"
   ]
  },
  {
   "cell_type": "code",
   "execution_count": 83,
   "id": "87d5a155",
   "metadata": {},
   "outputs": [
    {
     "data": {
      "text/plain": [
       "True"
      ]
     },
     "execution_count": 83,
     "metadata": {},
     "output_type": "execute_result"
    }
   ],
   "source": [
    "a == a[::-1]"
   ]
  },
  {
   "cell_type": "code",
   "execution_count": 84,
   "id": "72c110c2",
   "metadata": {},
   "outputs": [
    {
     "name": "stdout",
     "output_type": "stream",
     "text": [
      "nayan\n"
     ]
    }
   ],
   "source": [
    "print(a)"
   ]
  },
  {
   "cell_type": "code",
   "execution_count": 86,
   "id": "699763ec",
   "metadata": {},
   "outputs": [
    {
     "name": "stdout",
     "output_type": "stream",
     "text": [
      "nayan\n"
     ]
    }
   ],
   "source": [
    "print(a[::-1])"
   ]
  },
  {
   "cell_type": "code",
   "execution_count": 87,
   "id": "14b81d72",
   "metadata": {},
   "outputs": [
    {
     "data": {
      "text/plain": [
       "'nitin'"
      ]
     },
     "execution_count": 87,
     "metadata": {},
     "output_type": "execute_result"
    }
   ],
   "source": [
    "a = 'nitin'\n",
    "\n",
    "a[::-1]"
   ]
  },
  {
   "cell_type": "code",
   "execution_count": 89,
   "id": "9622e6b6",
   "metadata": {},
   "outputs": [],
   "source": [
    "# dad\n",
    "# mom\n",
    "# madam\n",
    "# nitin\n",
    "# nayan\n"
   ]
  },
  {
   "cell_type": "code",
   "execution_count": 90,
   "id": "9416fced",
   "metadata": {},
   "outputs": [
    {
     "data": {
      "text/plain": [
       "True"
      ]
     },
     "execution_count": 90,
     "metadata": {},
     "output_type": "execute_result"
    }
   ],
   "source": [
    "a == a[::-1]"
   ]
  },
  {
   "cell_type": "code",
   "execution_count": 91,
   "id": "1f785e1a",
   "metadata": {},
   "outputs": [],
   "source": [
    "a = 'Mr Ajay Loves Python'"
   ]
  },
  {
   "cell_type": "code",
   "execution_count": 94,
   "id": "fd73b591",
   "metadata": {},
   "outputs": [
    {
     "name": "stdout",
     "output_type": "stream",
     "text": [
      "Mr Ajay \b Python\n"
     ]
    }
   ],
   "source": [
    "print(a.replace('Loves','\\b'))"
   ]
  },
  {
   "cell_type": "code",
   "execution_count": 95,
   "id": "95d7971e",
   "metadata": {},
   "outputs": [
    {
     "name": "stdout",
     "output_type": "stream",
     "text": [
      "Mr Ajay Python\n"
     ]
    }
   ],
   "source": [
    "print(a.replace('Loves ',''))"
   ]
  },
  {
   "cell_type": "code",
   "execution_count": 96,
   "id": "f3dc4a7f",
   "metadata": {},
   "outputs": [
    {
     "data": {
      "text/plain": [
       "'Mr Ajay Loves Python'"
      ]
     },
     "execution_count": 96,
     "metadata": {},
     "output_type": "execute_result"
    }
   ],
   "source": [
    "a"
   ]
  },
  {
   "cell_type": "code",
   "execution_count": 103,
   "id": "bff06966",
   "metadata": {},
   "outputs": [
    {
     "data": {
      "text/plain": [
       "'Mr Ajay Python'"
      ]
     },
     "execution_count": 103,
     "metadata": {},
     "output_type": "execute_result"
    }
   ],
   "source": [
    "a[:8] + a[-6:]"
   ]
  },
  {
   "cell_type": "code",
   "execution_count": 104,
   "id": "66fed240",
   "metadata": {},
   "outputs": [],
   "source": [
    "# Methods"
   ]
  },
  {
   "cell_type": "code",
   "execution_count": 105,
   "id": "97842250",
   "metadata": {},
   "outputs": [],
   "source": [
    "a = 'Karan'"
   ]
  },
  {
   "cell_type": "code",
   "execution_count": 106,
   "id": "9b453726",
   "metadata": {},
   "outputs": [
    {
     "name": "stdout",
     "output_type": "stream",
     "text": [
      "<class 'str'>\n"
     ]
    }
   ],
   "source": [
    "print(type(a))"
   ]
  },
  {
   "cell_type": "code",
   "execution_count": 107,
   "id": "ee6b6f40",
   "metadata": {},
   "outputs": [
    {
     "name": "stdout",
     "output_type": "stream",
     "text": [
      "['__add__', '__class__', '__contains__', '__delattr__', '__dir__', '__doc__', '__eq__', '__format__', '__ge__', '__getattribute__', '__getitem__', '__getnewargs__', '__getstate__', '__gt__', '__hash__', '__init__', '__init_subclass__', '__iter__', '__le__', '__len__', '__lt__', '__mod__', '__mul__', '__ne__', '__new__', '__reduce__', '__reduce_ex__', '__repr__', '__rmod__', '__rmul__', '__setattr__', '__sizeof__', '__str__', '__subclasshook__', 'capitalize', 'casefold', 'center', 'count', 'encode', 'endswith', 'expandtabs', 'find', 'format', 'format_map', 'index', 'isalnum', 'isalpha', 'isascii', 'isdecimal', 'isdigit', 'isidentifier', 'islower', 'isnumeric', 'isprintable', 'isspace', 'istitle', 'isupper', 'join', 'ljust', 'lower', 'lstrip', 'maketrans', 'partition', 'removeprefix', 'removesuffix', 'replace', 'rfind', 'rindex', 'rjust', 'rpartition', 'rsplit', 'rstrip', 'split', 'splitlines', 'startswith', 'strip', 'swapcase', 'title', 'translate', 'upper', 'zfill']\n"
     ]
    }
   ],
   "source": [
    "print(dir(a))"
   ]
  },
  {
   "cell_type": "code",
   "execution_count": 108,
   "id": "cd6db478",
   "metadata": {},
   "outputs": [],
   "source": [
    "methods = ['capitalize', 'casefold', 'center', 'count', 'encode', 'endswith', 'expandtabs', 'find', 'format', 'format_map', 'index', 'isalnum', 'isalpha', 'isascii', 'isdecimal', 'isdigit', 'isidentifier', 'islower', 'isnumeric', 'isprintable', 'isspace', 'istitle', 'isupper', 'join', 'ljust', 'lower', 'lstrip', 'maketrans', 'partition', 'removeprefix', 'removesuffix', 'replace', 'rfind', 'rindex', 'rjust', 'rpartition', 'rsplit', 'rstrip', 'split', 'splitlines', 'startswith', 'strip', 'swapcase', 'title', 'translate', 'upper', 'zfill']"
   ]
  },
  {
   "cell_type": "code",
   "execution_count": 110,
   "id": "f83b956b",
   "metadata": {},
   "outputs": [
    {
     "name": "stdout",
     "output_type": "stream",
     "text": [
      "['capitalize', 'casefold', 'center', 'count', 'encode', 'endswith', 'expandtabs', 'find', 'format', 'format_map', 'index', 'isalnum', 'isalpha', 'isascii', 'isdecimal', 'isdigit', 'isidentifier', 'islower', 'isnumeric', 'isprintable', 'isspace', 'istitle', 'isupper', 'join', 'ljust', 'lower', 'lstrip', 'maketrans', 'partition', 'removeprefix', 'removesuffix', 'replace', 'rfind', 'rindex', 'rjust', 'rpartition', 'rsplit', 'rstrip', 'split', 'splitlines', 'startswith', 'strip', 'swapcase', 'title', 'translate', 'upper', 'zfill']\n"
     ]
    }
   ],
   "source": [
    "print(methods)"
   ]
  },
  {
   "cell_type": "code",
   "execution_count": 111,
   "id": "95c233b2",
   "metadata": {},
   "outputs": [],
   "source": [
    "a  = 'python is awesome'"
   ]
  },
  {
   "cell_type": "code",
   "execution_count": 115,
   "id": "48cf0674",
   "metadata": {},
   "outputs": [
    {
     "name": "stdout",
     "output_type": "stream",
     "text": [
      "Python is awesome\n"
     ]
    }
   ],
   "source": [
    "print(a.capitalize())"
   ]
  },
  {
   "cell_type": "code",
   "execution_count": 116,
   "id": "cb033d60",
   "metadata": {},
   "outputs": [
    {
     "name": "stdout",
     "output_type": "stream",
     "text": [
      "This is Elon Musk\n"
     ]
    }
   ],
   "source": [
    "a = 'This is Elon Musk'\n",
    "\n",
    "print(a)"
   ]
  },
  {
   "cell_type": "code",
   "execution_count": 117,
   "id": "ee88ff69",
   "metadata": {},
   "outputs": [
    {
     "name": "stdout",
     "output_type": "stream",
     "text": [
      "this is elon musk\n"
     ]
    }
   ],
   "source": [
    "print(a.casefold())"
   ]
  },
  {
   "cell_type": "code",
   "execution_count": 131,
   "id": "62288168",
   "metadata": {},
   "outputs": [
    {
     "name": "stdout",
     "output_type": "stream",
     "text": [
      "                                                       This is Elon Musk                                                       \n"
     ]
    }
   ],
   "source": [
    "print(a.center(127))"
   ]
  },
  {
   "cell_type": "code",
   "execution_count": 122,
   "id": "45c2d9f3",
   "metadata": {},
   "outputs": [],
   "source": [
    "# 38+17"
   ]
  },
  {
   "cell_type": "code",
   "execution_count": 132,
   "id": "a6107f23",
   "metadata": {},
   "outputs": [
    {
     "data": {
      "text/plain": [
       "'This is Elon Musk'"
      ]
     },
     "execution_count": 132,
     "metadata": {},
     "output_type": "execute_result"
    }
   ],
   "source": [
    "a"
   ]
  },
  {
   "cell_type": "code",
   "execution_count": 137,
   "id": "1455b7ce",
   "metadata": {},
   "outputs": [
    {
     "name": "stdout",
     "output_type": "stream",
     "text": [
      "2\n"
     ]
    }
   ],
   "source": [
    "print(a.count('is'))"
   ]
  },
  {
   "cell_type": "code",
   "execution_count": 139,
   "id": "35a9adce",
   "metadata": {},
   "outputs": [
    {
     "data": {
      "text/plain": [
       "True"
      ]
     },
     "execution_count": 139,
     "metadata": {},
     "output_type": "execute_result"
    }
   ],
   "source": [
    "a.endswith('usk')"
   ]
  },
  {
   "cell_type": "code",
   "execution_count": 141,
   "id": "9059f3a2",
   "metadata": {},
   "outputs": [
    {
     "data": {
      "text/plain": [
       "False"
      ]
     },
     "execution_count": 141,
     "metadata": {},
     "output_type": "execute_result"
    }
   ],
   "source": [
    "a.startswith('t')"
   ]
  },
  {
   "cell_type": "code",
   "execution_count": 142,
   "id": "47bea483",
   "metadata": {},
   "outputs": [
    {
     "name": "stdout",
     "output_type": "stream",
     "text": [
      "This\n",
      "is\n",
      "Elon\n",
      "Musk\n"
     ]
    }
   ],
   "source": [
    "a = 'This\\nis\\nElon\\nMusk'\n",
    "\n",
    "print(a)"
   ]
  },
  {
   "cell_type": "code",
   "execution_count": 146,
   "id": "5f2ac4e4",
   "metadata": {},
   "outputs": [
    {
     "name": "stdout",
     "output_type": "stream",
     "text": [
      "ThisA\b\b is Elon Musk\n"
     ]
    }
   ],
   "source": [
    "a = 'ThisA\\b\\b\\b is Elon Musk'\n",
    "\n",
    "print(a)"
   ]
  },
  {
   "cell_type": "code",
   "execution_count": 147,
   "id": "3aa9b685",
   "metadata": {},
   "outputs": [
    {
     "data": {
      "text/plain": [
       "16"
      ]
     },
     "execution_count": 147,
     "metadata": {},
     "output_type": "execute_result"
    }
   ],
   "source": [
    "len('This is a Python')"
   ]
  },
  {
   "cell_type": "code",
   "execution_count": 153,
   "id": "a6efda27",
   "metadata": {},
   "outputs": [
    {
     "name": "stdout",
     "output_type": "stream",
     "text": [
      "This is a Python\b\b\b\b\b\b\b\b\b\b\b\b\b\b\b\b\n"
     ]
    }
   ],
   "source": [
    "b = 'This is a Python'\n",
    "# a = ('\\b'*16)\n",
    "\n",
    "print(b+a)"
   ]
  },
  {
   "cell_type": "code",
   "execution_count": 154,
   "id": "21d85b2e",
   "metadata": {},
   "outputs": [],
   "source": [
    "# '\\b'*16"
   ]
  },
  {
   "cell_type": "code",
   "execution_count": 160,
   "id": "0c0a512a",
   "metadata": {
    "scrolled": true
   },
   "outputs": [
    {
     "name": "stdout",
     "output_type": "stream",
     "text": [
      "This is a Python\b\b\n"
     ]
    }
   ],
   "source": [
    "print('This is a Python\\b\\b')"
   ]
  },
  {
   "cell_type": "markdown",
   "id": "3b7cc769",
   "metadata": {},
   "source": [
    "# day 3"
   ]
  },
  {
   "cell_type": "code",
   "execution_count": 4,
   "id": "80a4a326",
   "metadata": {},
   "outputs": [
    {
     "data": {
      "text/plain": [
       "'Happy   Holi    Diwali'"
      ]
     },
     "execution_count": 4,
     "metadata": {},
     "output_type": "execute_result"
    }
   ],
   "source": [
    "a = 'Happy\\tHoli\\tDiwali'\n",
    "\n",
    "\n",
    "a.expandtabs()"
   ]
  },
  {
   "cell_type": "code",
   "execution_count": 7,
   "id": "2d4ca20c",
   "metadata": {},
   "outputs": [
    {
     "data": {
      "text/plain": [
       "7"
      ]
     },
     "execution_count": 7,
     "metadata": {},
     "output_type": "execute_result"
    }
   ],
   "source": [
    "a = 'Ajay Sharma'\n",
    "\n",
    "a.find('ar')"
   ]
  },
  {
   "cell_type": "code",
   "execution_count": 6,
   "id": "b45cb792",
   "metadata": {},
   "outputs": [
    {
     "data": {
      "text/plain": [
       "'y'"
      ]
     },
     "execution_count": 6,
     "metadata": {},
     "output_type": "execute_result"
    }
   ],
   "source": [
    "a[3]"
   ]
  },
  {
   "cell_type": "code",
   "execution_count": 8,
   "id": "31123e14",
   "metadata": {},
   "outputs": [
    {
     "data": {
      "text/plain": [
       "'ar'"
      ]
     },
     "execution_count": 8,
     "metadata": {},
     "output_type": "execute_result"
    }
   ],
   "source": [
    "a[7:9]"
   ]
  },
  {
   "cell_type": "code",
   "execution_count": 9,
   "id": "0cf531f5",
   "metadata": {},
   "outputs": [
    {
     "data": {
      "text/plain": [
       "'Ajay Sharma'"
      ]
     },
     "execution_count": 9,
     "metadata": {},
     "output_type": "execute_result"
    }
   ],
   "source": [
    "a"
   ]
  },
  {
   "cell_type": "code",
   "execution_count": 10,
   "id": "2d843d0e",
   "metadata": {},
   "outputs": [
    {
     "data": {
      "text/plain": [
       "2"
      ]
     },
     "execution_count": 10,
     "metadata": {},
     "output_type": "execute_result"
    }
   ],
   "source": [
    "a.find('a')"
   ]
  },
  {
   "cell_type": "code",
   "execution_count": 14,
   "id": "6e9623d3",
   "metadata": {},
   "outputs": [
    {
     "data": {
      "text/plain": [
       "-1"
      ]
     },
     "execution_count": 14,
     "metadata": {},
     "output_type": "execute_result"
    }
   ],
   "source": [
    "a.find('a',11)"
   ]
  },
  {
   "cell_type": "code",
   "execution_count": 15,
   "id": "397fdffc",
   "metadata": {},
   "outputs": [],
   "source": [
    "# find\n",
    "# index"
   ]
  },
  {
   "cell_type": "code",
   "execution_count": 16,
   "id": "d725bd21",
   "metadata": {},
   "outputs": [
    {
     "data": {
      "text/plain": [
       "'Ajay Sharma'"
      ]
     },
     "execution_count": 16,
     "metadata": {},
     "output_type": "execute_result"
    }
   ],
   "source": [
    "a"
   ]
  },
  {
   "cell_type": "code",
   "execution_count": 17,
   "id": "dc35840d",
   "metadata": {},
   "outputs": [
    {
     "data": {
      "text/plain": [
       "3"
      ]
     },
     "execution_count": 17,
     "metadata": {},
     "output_type": "execute_result"
    }
   ],
   "source": [
    "a.index('y')"
   ]
  },
  {
   "cell_type": "code",
   "execution_count": 21,
   "id": "41d0cdab",
   "metadata": {},
   "outputs": [
    {
     "ename": "ValueError",
     "evalue": "substring not found",
     "output_type": "error",
     "traceback": [
      "\u001b[1;31m---------------------------------------------------------------------------\u001b[0m",
      "\u001b[1;31mValueError\u001b[0m                                Traceback (most recent call last)",
      "Cell \u001b[1;32mIn[21], line 1\u001b[0m\n\u001b[1;32m----> 1\u001b[0m a\u001b[38;5;241m.\u001b[39mindex(\u001b[38;5;124m'\u001b[39m\u001b[38;5;124ma\u001b[39m\u001b[38;5;124m'\u001b[39m,\u001b[38;5;241m11\u001b[39m)\n",
      "\u001b[1;31mValueError\u001b[0m: substring not found"
     ]
    }
   ],
   "source": [
    "a.index('a',11)"
   ]
  },
  {
   "cell_type": "code",
   "execution_count": 22,
   "id": "ba715898",
   "metadata": {},
   "outputs": [
    {
     "data": {
      "text/plain": [
       "'Ajay Sharma'"
      ]
     },
     "execution_count": 22,
     "metadata": {},
     "output_type": "execute_result"
    }
   ],
   "source": [
    "a"
   ]
  },
  {
   "cell_type": "code",
   "execution_count": 23,
   "id": "132b854c",
   "metadata": {},
   "outputs": [
    {
     "ename": "ValueError",
     "evalue": "substring not found",
     "output_type": "error",
     "traceback": [
      "\u001b[1;31m---------------------------------------------------------------------------\u001b[0m",
      "\u001b[1;31mValueError\u001b[0m                                Traceback (most recent call last)",
      "Cell \u001b[1;32mIn[23], line 1\u001b[0m\n\u001b[1;32m----> 1\u001b[0m a\u001b[38;5;241m.\u001b[39mindex(\u001b[38;5;124m'\u001b[39m\u001b[38;5;124mz\u001b[39m\u001b[38;5;124m'\u001b[39m)\n",
      "\u001b[1;31mValueError\u001b[0m: substring not found"
     ]
    }
   ],
   "source": [
    "a.index('z')"
   ]
  },
  {
   "cell_type": "code",
   "execution_count": 24,
   "id": "0f940d8b",
   "metadata": {},
   "outputs": [
    {
     "data": {
      "text/plain": [
       "-1"
      ]
     },
     "execution_count": 24,
     "metadata": {},
     "output_type": "execute_result"
    }
   ],
   "source": [
    "a.find('z')"
   ]
  },
  {
   "cell_type": "code",
   "execution_count": 25,
   "id": "abd0af62",
   "metadata": {},
   "outputs": [
    {
     "data": {
      "text/plain": [
       "'Ajay Sharma'"
      ]
     },
     "execution_count": 25,
     "metadata": {},
     "output_type": "execute_result"
    }
   ],
   "source": [
    "a"
   ]
  },
  {
   "cell_type": "code",
   "execution_count": 27,
   "id": "922e38ce",
   "metadata": {},
   "outputs": [
    {
     "data": {
      "text/plain": [
       "7"
      ]
     },
     "execution_count": 27,
     "metadata": {},
     "output_type": "execute_result"
    }
   ],
   "source": [
    "a.index('a',3)"
   ]
  },
  {
   "cell_type": "code",
   "execution_count": 28,
   "id": "bf019260",
   "metadata": {},
   "outputs": [
    {
     "data": {
      "text/plain": [
       "'Ajay Sharma'"
      ]
     },
     "execution_count": 28,
     "metadata": {},
     "output_type": "execute_result"
    }
   ],
   "source": [
    "a"
   ]
  },
  {
   "cell_type": "code",
   "execution_count": 29,
   "id": "3aa3f618",
   "metadata": {},
   "outputs": [
    {
     "name": "stdout",
     "output_type": "stream",
     "text": [
      "I have a Audi Car, having price 9898760 and model is 2019\n"
     ]
    }
   ],
   "source": [
    "car = 'Audi'\n",
    "price = 9898760\n",
    "model = 2019\n",
    "\n",
    "\n",
    "print('I have a Audi Car, having price 9898760 and model is 2019')"
   ]
  },
  {
   "cell_type": "code",
   "execution_count": 32,
   "id": "02641ab9",
   "metadata": {},
   "outputs": [
    {
     "name": "stdout",
     "output_type": "stream",
     "text": [
      "I have a Bmw car, having price 9998760 and model is 2029\n"
     ]
    }
   ],
   "source": [
    "car = 'Bmw'\n",
    "price = 9998760\n",
    "model = 2029\n",
    "\n",
    "\n",
    "print('I have a {0} car, having price {1} and model is {2}'.format(car,price,model))"
   ]
  },
  {
   "cell_type": "code",
   "execution_count": 34,
   "id": "7e57ddd7",
   "metadata": {},
   "outputs": [
    {
     "name": "stdout",
     "output_type": "stream",
     "text": [
      "I have a Bmw car, having price 9998760 and model is 2029\n"
     ]
    }
   ],
   "source": [
    "car = 'Bmw'\n",
    "price = 9998760\n",
    "model = 2029\n",
    "\n",
    "\n",
    "print('I have a {1} car, having price {0} and model is {2}'.format(price,car,model))"
   ]
  },
  {
   "cell_type": "code",
   "execution_count": 36,
   "id": "e8deb276",
   "metadata": {},
   "outputs": [
    {
     "name": "stdout",
     "output_type": "stream",
     "text": [
      "I have a Kia car, having price 9998760 and model is 2029\n"
     ]
    }
   ],
   "source": [
    "car = 'Kia'\n",
    "price = 9998760\n",
    "model = 2029\n",
    "\n",
    "\n",
    "print('I have a {a} car, having price {b} and model is {c}'.format(a=car,b=price,c=model))"
   ]
  },
  {
   "cell_type": "code",
   "execution_count": 37,
   "id": "44bbbcf9",
   "metadata": {},
   "outputs": [],
   "source": [
    "# format string/f string method"
   ]
  },
  {
   "cell_type": "code",
   "execution_count": 45,
   "id": "2355454a",
   "metadata": {},
   "outputs": [
    {
     "name": "stdout",
     "output_type": "stream",
     "text": [
      "I have a audi car, having price 9998760 and model is 2029\n"
     ]
    }
   ],
   "source": [
    "car = 'audi'\n",
    "price = 9998760\n",
    "model = 2029\n",
    "\n",
    "\n",
    "print(f'I have a {car} car, having price {price} and model is {model}')"
   ]
  },
  {
   "cell_type": "code",
   "execution_count": 47,
   "id": "81255c67",
   "metadata": {},
   "outputs": [
    {
     "name": "stdout",
     "output_type": "stream",
     "text": [
      "I have a audi car, having price 9998760 and model is 2029\n"
     ]
    }
   ],
   "source": [
    "data = {'car':'audi','price':9998760,'model':2029}\n",
    "\n",
    "\n",
    "print('I have a {car} car, having price {price} and model is {model}'.format_map(data))"
   ]
  },
  {
   "cell_type": "code",
   "execution_count": 49,
   "id": "f35428b5",
   "metadata": {},
   "outputs": [
    {
     "data": {
      "text/plain": [
       "False"
      ]
     },
     "execution_count": 49,
     "metadata": {},
     "output_type": "execute_result"
    }
   ],
   "source": [
    "a = 'Komal9'\n",
    "\n",
    "a.isalpha()"
   ]
  },
  {
   "cell_type": "code",
   "execution_count": 51,
   "id": "2d72c545",
   "metadata": {},
   "outputs": [
    {
     "data": {
      "text/plain": [
       "True"
      ]
     },
     "execution_count": 51,
     "metadata": {},
     "output_type": "execute_result"
    }
   ],
   "source": [
    "a = '      '\n",
    "\n",
    "a.isspace()"
   ]
  },
  {
   "cell_type": "code",
   "execution_count": 57,
   "id": "de7acefb",
   "metadata": {},
   "outputs": [
    {
     "data": {
      "text/plain": [
       "True"
      ]
     },
     "execution_count": 57,
     "metadata": {},
     "output_type": "execute_result"
    }
   ],
   "source": [
    "a = '98765432'\n",
    "\n",
    "a.isalnum()"
   ]
  },
  {
   "cell_type": "code",
   "execution_count": 60,
   "id": "8ec6c02b",
   "metadata": {},
   "outputs": [
    {
     "data": {
      "text/plain": [
       "False"
      ]
     },
     "execution_count": 60,
     "metadata": {},
     "output_type": "execute_result"
    }
   ],
   "source": [
    "a = 'jhgHvhg'\n",
    "a.islower()"
   ]
  },
  {
   "cell_type": "code",
   "execution_count": 66,
   "id": "9fe2ed1e",
   "metadata": {},
   "outputs": [
    {
     "data": {
      "text/plain": [
       "False"
      ]
     },
     "execution_count": 66,
     "metadata": {},
     "output_type": "execute_result"
    }
   ],
   "source": [
    "a = 'JHVh'\n",
    "\n",
    "a.isupper()"
   ]
  },
  {
   "cell_type": "code",
   "execution_count": 67,
   "id": "edf389e1",
   "metadata": {},
   "outputs": [],
   "source": [
    "# h/w\n",
    "# is"
   ]
  },
  {
   "cell_type": "code",
   "execution_count": 70,
   "id": "def0976b",
   "metadata": {
    "scrolled": true
   },
   "outputs": [
    {
     "data": {
      "text/plain": [
       "'mohan,ajay,karan,ravi'"
      ]
     },
     "execution_count": 70,
     "metadata": {},
     "output_type": "execute_result"
    }
   ],
   "source": [
    "a = 'mohan,ajay,karan,ravi'\n",
    "\n",
    "a"
   ]
  },
  {
   "cell_type": "code",
   "execution_count": null,
   "id": "dfc192d1",
   "metadata": {},
   "outputs": [],
   "source": []
  },
  {
   "cell_type": "code",
   "execution_count": 71,
   "id": "3e31bae7",
   "metadata": {},
   "outputs": [
    {
     "data": {
      "text/plain": [
       "{'car': 'audi', 'price': 9998760, 'model': 2029}"
      ]
     },
     "execution_count": 71,
     "metadata": {},
     "output_type": "execute_result"
    }
   ],
   "source": [
    "data"
   ]
  },
  {
   "cell_type": "code",
   "execution_count": 72,
   "id": "94e7380c",
   "metadata": {},
   "outputs": [
    {
     "data": {
      "text/plain": [
       "'audi'"
      ]
     },
     "execution_count": 72,
     "metadata": {},
     "output_type": "execute_result"
    }
   ],
   "source": [
    "data['car']"
   ]
  },
  {
   "cell_type": "code",
   "execution_count": 73,
   "id": "a5798c1d",
   "metadata": {},
   "outputs": [
    {
     "data": {
      "text/plain": [
       "2029"
      ]
     },
     "execution_count": 73,
     "metadata": {},
     "output_type": "execute_result"
    }
   ],
   "source": [
    "data['model']"
   ]
  },
  {
   "cell_type": "markdown",
   "id": "a3bafaf2",
   "metadata": {},
   "source": [
    "a = 'Ankit Kumar'"
   ]
  },
  {
   "cell_type": "code",
   "execution_count": 75,
   "id": "77876386",
   "metadata": {},
   "outputs": [
    {
     "name": "stdout",
     "output_type": "stream",
     "text": [
      "Hello\n"
     ]
    }
   ],
   "source": [
    "# This is just a comment\n",
    "print('Hello')"
   ]
  },
  {
   "cell_type": "markdown",
   "id": "95c90c23",
   "metadata": {},
   "source": [
    "# Hello"
   ]
  },
  {
   "cell_type": "code",
   "execution_count": 76,
   "id": "e2e9797d",
   "metadata": {},
   "outputs": [],
   "source": [
    "a = 'karan verma'"
   ]
  },
  {
   "cell_type": "code",
   "execution_count": 77,
   "id": "adf4749b",
   "metadata": {},
   "outputs": [],
   "source": [
    "# a.join(str)\n",
    "# a.join(tuple)\n",
    "# a.join(list)"
   ]
  },
  {
   "cell_type": "code",
   "execution_count": 78,
   "id": "b30dc90f",
   "metadata": {},
   "outputs": [
    {
     "data": {
      "text/plain": [
       "'*karan verma*'"
      ]
     },
     "execution_count": 78,
     "metadata": {},
     "output_type": "execute_result"
    }
   ],
   "source": [
    "a.join('**')"
   ]
  },
  {
   "cell_type": "code",
   "execution_count": 79,
   "id": "09a6d1c2",
   "metadata": {},
   "outputs": [],
   "source": [
    "# *karan verma*"
   ]
  },
  {
   "cell_type": "code",
   "execution_count": 80,
   "id": "c4437d16",
   "metadata": {},
   "outputs": [
    {
     "data": {
      "text/plain": [
       "'#karan verma#karan verma#'"
      ]
     },
     "execution_count": 80,
     "metadata": {},
     "output_type": "execute_result"
    }
   ],
   "source": [
    "a.join('###')"
   ]
  },
  {
   "cell_type": "code",
   "execution_count": 86,
   "id": "07ce9963",
   "metadata": {},
   "outputs": [
    {
     "data": {
      "text/plain": [
       "'P        Y        T        H        O        N'"
      ]
     },
     "execution_count": 86,
     "metadata": {},
     "output_type": "execute_result"
    }
   ],
   "source": [
    "a = '        '\n",
    "a.join('PYTHON')"
   ]
  },
  {
   "cell_type": "code",
   "execution_count": 94,
   "id": "f474369a",
   "metadata": {},
   "outputs": [
    {
     "data": {
      "text/plain": [
       "'Komal,Ajay,Mohan,Verma'"
      ]
     },
     "execution_count": 94,
     "metadata": {},
     "output_type": "execute_result"
    }
   ],
   "source": [
    "a = ','\n",
    "\n",
    "a.join(['Komal','Ajay','Mohan','Verma'])"
   ]
  },
  {
   "cell_type": "code",
   "execution_count": 95,
   "id": "1ad700ad",
   "metadata": {},
   "outputs": [
    {
     "data": {
      "text/plain": [
       "'Komal,Ajay,Mohan,Verma'"
      ]
     },
     "execution_count": 95,
     "metadata": {},
     "output_type": "execute_result"
    }
   ],
   "source": [
    "a = ','\n",
    "\n",
    "a.join(('Komal','Ajay','Mohan','Verma'))"
   ]
  },
  {
   "cell_type": "code",
   "execution_count": 102,
   "id": "e4c803bc",
   "metadata": {},
   "outputs": [
    {
     "data": {
      "text/plain": [
       "'H_E_L_L_O_W_O_R_L_D'"
      ]
     },
     "execution_count": 102,
     "metadata": {},
     "output_type": "execute_result"
    }
   ],
   "source": [
    "a = '_'\n",
    "\n",
    "a.join('helloworld'.upper())"
   ]
  },
  {
   "cell_type": "code",
   "execution_count": 101,
   "id": "6002a2d0",
   "metadata": {},
   "outputs": [],
   "source": [
    "# 'helloworld'.upper()"
   ]
  },
  {
   "cell_type": "code",
   "execution_count": 104,
   "id": "29177c39",
   "metadata": {},
   "outputs": [
    {
     "name": "stdout",
     "output_type": "stream",
     "text": [
      "['ajay', 'karan', 'nayan', 'mohan']\n"
     ]
    }
   ],
   "source": [
    "a = 'ajay,karan,nayan,mohan'\n",
    "\n",
    "data = a.split(',')\n",
    "\n",
    "print(data)"
   ]
  },
  {
   "cell_type": "code",
   "execution_count": 106,
   "id": "66b14234",
   "metadata": {},
   "outputs": [
    {
     "data": {
      "text/plain": [
       "'ajay_karan_nayan_mohan'"
      ]
     },
     "execution_count": 106,
     "metadata": {},
     "output_type": "execute_result"
    }
   ],
   "source": [
    "a = '_'\n",
    "\n",
    "a.join(data)"
   ]
  },
  {
   "cell_type": "code",
   "execution_count": 108,
   "id": "61429c1f",
   "metadata": {},
   "outputs": [
    {
     "data": {
      "text/plain": [
       "'ajay_karan_nayan_mohan'"
      ]
     },
     "execution_count": 108,
     "metadata": {},
     "output_type": "execute_result"
    }
   ],
   "source": [
    "a = 'ajay,karan,nayan,mohan'\n",
    "\n",
    "a.replace(',','_')"
   ]
  },
  {
   "cell_type": "code",
   "execution_count": 109,
   "id": "813c9f13",
   "metadata": {},
   "outputs": [
    {
     "data": {
      "text/plain": [
       "['ajay', 'karan', 'nayan', 'mohan']"
      ]
     },
     "execution_count": 109,
     "metadata": {},
     "output_type": "execute_result"
    }
   ],
   "source": [
    "a = 'ajay karan nayan mohan'.split(' ')\n",
    "a"
   ]
  },
  {
   "cell_type": "code",
   "execution_count": 110,
   "id": "3b8dbc96",
   "metadata": {},
   "outputs": [
    {
     "data": {
      "text/plain": [
       "['', 'j', 'y k', 'r', 'n n', 'y', 'n moh', 'n']"
      ]
     },
     "execution_count": 110,
     "metadata": {},
     "output_type": "execute_result"
    }
   ],
   "source": [
    "b = 'ajay karan nayan mohan'.split('a')\n",
    "b"
   ]
  },
  {
   "cell_type": "code",
   "execution_count": null,
   "id": "2c260af5",
   "metadata": {},
   "outputs": [],
   "source": []
  }
 ],
 "metadata": {
  "kernelspec": {
   "display_name": "Python 3 (ipykernel)",
   "language": "python",
   "name": "python3"
  },
  "language_info": {
   "codemirror_mode": {
    "name": "ipython",
    "version": 3
   },
   "file_extension": ".py",
   "mimetype": "text/x-python",
   "name": "python",
   "nbconvert_exporter": "python",
   "pygments_lexer": "ipython3",
   "version": "3.11.3"
  }
 },
 "nbformat": 4,
 "nbformat_minor": 5
}
