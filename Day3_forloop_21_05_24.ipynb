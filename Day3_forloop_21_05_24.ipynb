{
 "cells": [
  {
   "cell_type": "code",
   "execution_count": 1,
   "id": "4a454f2b",
   "metadata": {},
   "outputs": [],
   "source": [
    "# for with else\n",
    "# nested for loop\n",
    "# one liner for loop"
   ]
  },
  {
   "cell_type": "code",
   "execution_count": 2,
   "id": "f9622788",
   "metadata": {},
   "outputs": [],
   "source": [
    "# if\n",
    "# else"
   ]
  },
  {
   "cell_type": "code",
   "execution_count": 3,
   "id": "16b56583",
   "metadata": {},
   "outputs": [],
   "source": [
    "# for \n",
    "# else"
   ]
  },
  {
   "cell_type": "code",
   "execution_count": 5,
   "id": "018468bd",
   "metadata": {},
   "outputs": [
    {
     "name": "stdout",
     "output_type": "stream",
     "text": [
      "0\n",
      "1\n",
      "4\n",
      "9\n",
      "16\n",
      "25\n",
      "36\n",
      "49\n",
      "64\n",
      "81\n",
      "for loop completed successfully!!\n"
     ]
    }
   ],
   "source": [
    "for i in range(10):\n",
    "    print(i*i)\n",
    "    \n",
    "else:\n",
    "    print('for loop completed successfully!!')"
   ]
  },
  {
   "cell_type": "code",
   "execution_count": 6,
   "id": "391f6e64",
   "metadata": {},
   "outputs": [
    {
     "name": "stdout",
     "output_type": "stream",
     "text": [
      "0\n",
      "1\n",
      "4\n",
      "9\n",
      "16\n"
     ]
    }
   ],
   "source": [
    "for i in range(10):\n",
    "    if i == 5:\n",
    "        break\n",
    "    else:\n",
    "        print(i*i)\n",
    "    \n",
    "else:\n",
    "    print('for loop completed successfully!!')"
   ]
  },
  {
   "cell_type": "code",
   "execution_count": 7,
   "id": "989d3557",
   "metadata": {},
   "outputs": [],
   "source": [
    "# ex"
   ]
  },
  {
   "cell_type": "code",
   "execution_count": 8,
   "id": "b084149c",
   "metadata": {},
   "outputs": [],
   "source": [
    "# prime numbers"
   ]
  },
  {
   "cell_type": "code",
   "execution_count": 9,
   "id": "5b9b8c16",
   "metadata": {},
   "outputs": [],
   "source": [
    "# 2,3,5,7"
   ]
  },
  {
   "cell_type": "code",
   "execution_count": 17,
   "id": "a353faef",
   "metadata": {},
   "outputs": [
    {
     "name": "stdout",
     "output_type": "stream",
     "text": [
      "859 is a Prime number!!\n"
     ]
    }
   ],
   "source": [
    "no = 859\n",
    "\n",
    "for i in range(2,no):\n",
    "    if no % i == 0:\n",
    "        print(f'{no} is not a Prime number!!')\n",
    "        break\n",
    "        \n",
    "else:\n",
    "    print(f'{no} is a Prime number!!')"
   ]
  },
  {
   "cell_type": "code",
   "execution_count": 18,
   "id": "7f6926f6",
   "metadata": {},
   "outputs": [],
   "source": [
    "# nested for loop"
   ]
  },
  {
   "cell_type": "code",
   "execution_count": 19,
   "id": "500bf348",
   "metadata": {},
   "outputs": [],
   "source": [
    "# for i in list:\n",
    "#     for j in list:\n",
    "#         for k in list"
   ]
  },
  {
   "cell_type": "code",
   "execution_count": 29,
   "id": "c9a47b93",
   "metadata": {},
   "outputs": [
    {
     "name": "stdout",
     "output_type": "stream",
     "text": [
      "rohan Akshay\n",
      "rohan Jatin\n",
      "rohan Vipin\n",
      "rohan roshan\n",
      "rohan ravi\n",
      "---------------inner loop done -----------------------------\n",
      "karan Akshay\n",
      "karan Jatin\n",
      "karan Vipin\n",
      "karan roshan\n",
      "karan ravi\n",
      "---------------inner loop done -----------------------------\n",
      "ajay Akshay\n",
      "ajay Jatin\n",
      "ajay Vipin\n",
      "ajay roshan\n",
      "ajay ravi\n",
      "---------------inner loop done -----------------------------\n",
      "lucky Akshay\n",
      "lucky Jatin\n",
      "lucky Vipin\n",
      "lucky roshan\n",
      "lucky ravi\n",
      "---------------inner loop done -----------------------------\n",
      "mohit Akshay\n",
      "mohit Jatin\n",
      "mohit Vipin\n",
      "mohit roshan\n",
      "mohit ravi\n",
      "---------------inner loop done -----------------------------\n"
     ]
    }
   ],
   "source": [
    "team_a = ['rohan','karan','ajay','lucky','mohit']\n",
    "team_b = ['Akshay','Jatin','Vipin','roshan','ravi']\n",
    "\n",
    "import time\n",
    "\n",
    "for i in team_a:  # outer loop\n",
    "    for j in team_b:  # inner loop\n",
    "        print(i,j)\n",
    "#         time.sleep(0.5)\n",
    "    print('---------------inner loop done -----------------------------')"
   ]
  },
  {
   "cell_type": "code",
   "execution_count": null,
   "id": "05a58392",
   "metadata": {},
   "outputs": [],
   "source": []
  },
  {
   "cell_type": "code",
   "execution_count": null,
   "id": "9a50cb00",
   "metadata": {},
   "outputs": [],
   "source": []
  },
  {
   "cell_type": "code",
   "execution_count": null,
   "id": "adb530c2",
   "metadata": {},
   "outputs": [],
   "source": []
  },
  {
   "cell_type": "code",
   "execution_count": 33,
   "id": "df595c93",
   "metadata": {},
   "outputs": [
    {
     "name": "stdout",
     "output_type": "stream",
     "text": [
      "lucky\n"
     ]
    }
   ],
   "source": [
    "team_a = ['rohan','karan','ajay','lucky','mohit']\n",
    "team_b = ['Akshay','lucky','Vipin','roshan','ravi']\n",
    "\n",
    "import time\n",
    "\n",
    "for i in team_a:  # outer loop\n",
    "    for j in team_b:  # inner loop\n",
    "        if i == j:\n",
    "            print(i)"
   ]
  },
  {
   "cell_type": "code",
   "execution_count": null,
   "id": "02e42f0b",
   "metadata": {},
   "outputs": [],
   "source": []
  },
  {
   "cell_type": "code",
   "execution_count": null,
   "id": "d58dee66",
   "metadata": {},
   "outputs": [],
   "source": []
  },
  {
   "cell_type": "code",
   "execution_count": 35,
   "id": "5637d2eb",
   "metadata": {},
   "outputs": [
    {
     "name": "stdout",
     "output_type": "stream",
     "text": [
      "Common Elements:  [64, 34, 21, 45]\n"
     ]
    }
   ],
   "source": [
    "a = [1,232,412,34,45,34,254,64,21,332,456]\n",
    "b = [12,34,432,454,64,21,43,45,4,54324,54]\n",
    "\n",
    "common = []\n",
    "\n",
    "for i in a:\n",
    "    for j in b:\n",
    "        if i==j:\n",
    "            common.append(i)\n",
    "            \n",
    "common = list(set(common))\n",
    "print('Common Elements: ',common)"
   ]
  },
  {
   "cell_type": "code",
   "execution_count": null,
   "id": "d666592d",
   "metadata": {},
   "outputs": [],
   "source": []
  },
  {
   "cell_type": "code",
   "execution_count": null,
   "id": "dc65372b",
   "metadata": {},
   "outputs": [],
   "source": []
  },
  {
   "cell_type": "code",
   "execution_count": null,
   "id": "2d0f6f96",
   "metadata": {},
   "outputs": [],
   "source": []
  },
  {
   "cell_type": "code",
   "execution_count": 36,
   "id": "7968c2fc",
   "metadata": {},
   "outputs": [
    {
     "data": {
      "text/plain": [
       "['karan', 'amit', 'mohan', 'ajay', 'ravi']"
      ]
     },
     "execution_count": 36,
     "metadata": {},
     "output_type": "execute_result"
    }
   ],
   "source": [
    "a = ['karan','ajay','ravi','karan','ravi','mohan','amit','amit','mohan']\n",
    "\n",
    "b = list(set(a))\n",
    "b"
   ]
  },
  {
   "cell_type": "code",
   "execution_count": 37,
   "id": "863d4ae7",
   "metadata": {},
   "outputs": [
    {
     "data": {
      "text/plain": [
       "{'ajay', 'amit', 'karan', 'mohan', 'ravi'}"
      ]
     },
     "execution_count": 37,
     "metadata": {},
     "output_type": "execute_result"
    }
   ],
   "source": [
    "a = ['karan','ajay','ravi','karan','ravi','mohan','amit','amit','mohan']\n",
    "\n",
    "b = set()\n",
    "\n",
    "for i in a:\n",
    "    b.add(i)\n",
    "    \n",
    "b"
   ]
  },
  {
   "cell_type": "code",
   "execution_count": 39,
   "id": "a232d528",
   "metadata": {},
   "outputs": [
    {
     "name": "stdout",
     "output_type": "stream",
     "text": [
      "[12]\n",
      "[12, 44]\n"
     ]
    }
   ],
   "source": [
    "a = [12,43,54,312,44,56]\n",
    "b = [1,243,56,12,44,456,434]\n",
    "c = [12,32,44,3,2,456,4]\n",
    "\n",
    "common = []\n",
    "\n",
    "for i in a:\n",
    "    for j in b:\n",
    "        for k in c:\n",
    "            if i==j==k:\n",
    "                common.append(k)\n",
    "print(common)"
   ]
  },
  {
   "cell_type": "code",
   "execution_count": 40,
   "id": "536f4bd0",
   "metadata": {},
   "outputs": [],
   "source": [
    "# one liner for loop"
   ]
  },
  {
   "cell_type": "code",
   "execution_count": 41,
   "id": "d3f35af5",
   "metadata": {},
   "outputs": [
    {
     "name": "stdout",
     "output_type": "stream",
     "text": [
      "even\n"
     ]
    }
   ],
   "source": [
    "a = 34\n",
    "\n",
    "print('even') if a%2==0 else print('odd')"
   ]
  },
  {
   "cell_type": "code",
   "execution_count": 45,
   "id": "bb8dfb15",
   "metadata": {},
   "outputs": [
    {
     "name": "stdout",
     "output_type": "stream",
     "text": [
      "1\n",
      "593214736\n",
      "6084\n",
      "4281346624\n",
      "1\n",
      "54756\n",
      "3136\n",
      "29749890287716\n"
     ]
    }
   ],
   "source": [
    "a = [1,24356,78,65432,1,234,56,5454346]\n",
    "\n",
    "\n",
    "for i in a: print(i**2)"
   ]
  },
  {
   "cell_type": "code",
   "execution_count": 52,
   "id": "0516158d",
   "metadata": {},
   "outputs": [
    {
     "name": "stdout",
     "output_type": "stream",
     "text": [
      "24356\n",
      "78\n",
      "65432\n",
      "234\n",
      "56\n",
      "5454346\n"
     ]
    }
   ],
   "source": [
    "a = [1,24356,78,65432,1,234,56,5454346]\n",
    "\n",
    "\n",
    "for i in a: print(i) if i%2==0 else None"
   ]
  },
  {
   "cell_type": "code",
   "execution_count": 53,
   "id": "e5554017",
   "metadata": {},
   "outputs": [
    {
     "name": "stdout",
     "output_type": "stream",
     "text": [
      "24356\n",
      "78\n",
      "65432\n",
      "234\n",
      "56\n",
      "5454346\n"
     ]
    }
   ],
   "source": [
    "a = [1,24356,78,65432,1,234,56,5454346]\n",
    "\n",
    "\n",
    "for i in a: \n",
    "     if i%2==0:\n",
    "        print(i)"
   ]
  },
  {
   "cell_type": "code",
   "execution_count": null,
   "id": "1e222c39",
   "metadata": {},
   "outputs": [],
   "source": []
  }
 ],
 "metadata": {
  "kernelspec": {
   "display_name": "Python 3 (ipykernel)",
   "language": "python",
   "name": "python3"
  },
  "language_info": {
   "codemirror_mode": {
    "name": "ipython",
    "version": 3
   },
   "file_extension": ".py",
   "mimetype": "text/x-python",
   "name": "python",
   "nbconvert_exporter": "python",
   "pygments_lexer": "ipython3",
   "version": "3.11.3"
  }
 },
 "nbformat": 4,
 "nbformat_minor": 5
}
