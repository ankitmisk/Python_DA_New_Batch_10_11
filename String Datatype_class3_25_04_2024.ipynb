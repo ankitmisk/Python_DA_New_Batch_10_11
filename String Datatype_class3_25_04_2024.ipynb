{
 "cells": [
  {
   "cell_type": "code",
   "execution_count": null,
   "id": "a58bfad2",
   "metadata": {},
   "outputs": [],
   "source": [
    "# operations string"
   ]
  },
  {
   "cell_type": "code",
   "execution_count": null,
   "id": "a2ca13e4",
   "metadata": {},
   "outputs": [],
   "source": [
    "a = 'Karan '\n",
    "\n",
    "print(a*3)"
   ]
  },
  {
   "cell_type": "code",
   "execution_count": null,
   "id": "7ad8859e",
   "metadata": {},
   "outputs": [],
   "source": [
    "print('Hello '*1)\n",
    "print('Hello '*2)\n",
    "print('Hello '*3)\n",
    "print('Hello '*4)\n",
    "print('Hello '*5)"
   ]
  },
  {
   "cell_type": "code",
   "execution_count": null,
   "id": "aac24881",
   "metadata": {},
   "outputs": [],
   "source": [
    "a = 'ajay'\n",
    "a//4"
   ]
  },
  {
   "cell_type": "code",
   "execution_count": null,
   "id": "5c83e411",
   "metadata": {},
   "outputs": [],
   "source": [
    "a = 'hello '\n",
    "b = 'Python'\n",
    "\n",
    "print(a+b)"
   ]
  },
  {
   "cell_type": "code",
   "execution_count": null,
   "id": "d2c29b3e",
   "metadata": {},
   "outputs": [],
   "source": [
    "# +,*"
   ]
  },
  {
   "cell_type": "code",
   "execution_count": null,
   "id": "904c1d3f",
   "metadata": {},
   "outputs": [],
   "source": [
    "a = 'Ajay '\n",
    "a*45.8"
   ]
  },
  {
   "cell_type": "code",
   "execution_count": null,
   "id": "87627012",
   "metadata": {},
   "outputs": [],
   "source": [
    "a = 'karan'\n",
    "\n",
    "#      01234\n",
    "\n",
    "a"
   ]
  },
  {
   "cell_type": "code",
   "execution_count": null,
   "id": "dd2961ad",
   "metadata": {},
   "outputs": [],
   "source": [
    "a[4]"
   ]
  },
  {
   "cell_type": "code",
   "execution_count": null,
   "id": "fd8939b5",
   "metadata": {},
   "outputs": [],
   "source": [
    "# indexing\n",
    "a[2]"
   ]
  },
  {
   "cell_type": "code",
   "execution_count": null,
   "id": "96a8d7e9",
   "metadata": {},
   "outputs": [],
   "source": [
    "# [1,234,467]\n",
    "# (1,2343,57)\n",
    "# 'abwejf'\n"
   ]
  },
  {
   "cell_type": "code",
   "execution_count": null,
   "id": "12d33b6f",
   "metadata": {},
   "outputs": [],
   "source": [
    "# packing and unpacking"
   ]
  },
  {
   "cell_type": "code",
   "execution_count": null,
   "id": "61bda831",
   "metadata": {},
   "outputs": [],
   "source": [
    "a = 2,35,476,8\n",
    "a"
   ]
  },
  {
   "cell_type": "code",
   "execution_count": null,
   "id": "6f7f32e2",
   "metadata": {},
   "outputs": [],
   "source": [
    "b = [[2,3,54,6,8],[1,2134,3,7]]\n",
    "b"
   ]
  },
  {
   "cell_type": "code",
   "execution_count": null,
   "id": "a98a4063",
   "metadata": {},
   "outputs": [],
   "source": [
    "a,b,c,d= 'Ajay','karan',1,2,3\n",
    "\n",
    "c"
   ]
  },
  {
   "cell_type": "code",
   "execution_count": null,
   "id": "adacd6dc",
   "metadata": {},
   "outputs": [],
   "source": [
    "a,b,f1,f2,s3 = [12,342,54,576,8]"
   ]
  },
  {
   "cell_type": "code",
   "execution_count": null,
   "id": "f8f10c1d",
   "metadata": {},
   "outputs": [],
   "source": [
    "f2"
   ]
  },
  {
   "cell_type": "code",
   "execution_count": null,
   "id": "92470016",
   "metadata": {},
   "outputs": [],
   "source": [
    "all_var = a,b,f1,f2,s3"
   ]
  },
  {
   "cell_type": "code",
   "execution_count": null,
   "id": "9acacd2a",
   "metadata": {},
   "outputs": [],
   "source": [
    "all_var"
   ]
  },
  {
   "cell_type": "code",
   "execution_count": null,
   "id": "a0b7f792",
   "metadata": {},
   "outputs": [],
   "source": [
    "a,b = 1,3"
   ]
  },
  {
   "cell_type": "code",
   "execution_count": null,
   "id": "71d84926",
   "metadata": {},
   "outputs": [],
   "source": [
    "a"
   ]
  },
  {
   "cell_type": "code",
   "execution_count": null,
   "id": "9d651325",
   "metadata": {},
   "outputs": [],
   "source": [
    "a = 'Mr Ajay Loves Python'\n",
    "\n",
    "print(a[2])"
   ]
  },
  {
   "cell_type": "code",
   "execution_count": null,
   "id": "27fed11e",
   "metadata": {},
   "outputs": [],
   "source": [
    "a[3]+a[4]+a[5]+a[6]+a[7]"
   ]
  },
  {
   "cell_type": "code",
   "execution_count": null,
   "id": "b9ba813f",
   "metadata": {},
   "outputs": [],
   "source": [
    "# slicing"
   ]
  },
  {
   "cell_type": "code",
   "execution_count": null,
   "id": "40ebb540",
   "metadata": {},
   "outputs": [],
   "source": [
    "# var[index]\n",
    "\n",
    "# var[start:stop]\n",
    "\n",
    "# var[start:stop:skip/step]"
   ]
  },
  {
   "cell_type": "code",
   "execution_count": null,
   "id": "f6208a04",
   "metadata": {},
   "outputs": [],
   "source": [
    "# slicing:- tuple,list,str"
   ]
  },
  {
   "cell_type": "code",
   "execution_count": null,
   "id": "ca963c16",
   "metadata": {},
   "outputs": [],
   "source": [
    "a = 'Mr Ajay Loves Python'\n",
    "\n",
    "print(a[3])"
   ]
  },
  {
   "cell_type": "code",
   "execution_count": null,
   "id": "41d2f65d",
   "metadata": {},
   "outputs": [],
   "source": [
    "print(a[0:7])"
   ]
  },
  {
   "cell_type": "code",
   "execution_count": null,
   "id": "74e69757",
   "metadata": {},
   "outputs": [],
   "source": [
    "print(a[3:])"
   ]
  },
  {
   "cell_type": "code",
   "execution_count": null,
   "id": "5f72f24b",
   "metadata": {},
   "outputs": [],
   "source": [
    "print(a[:7])"
   ]
  },
  {
   "cell_type": "code",
   "execution_count": null,
   "id": "a5f64969",
   "metadata": {},
   "outputs": [],
   "source": [
    "a"
   ]
  },
  {
   "cell_type": "code",
   "execution_count": null,
   "id": "70eddf77",
   "metadata": {},
   "outputs": [],
   "source": [
    "print(a[8:13])"
   ]
  },
  {
   "cell_type": "code",
   "execution_count": null,
   "id": "d20bdf5b",
   "metadata": {},
   "outputs": [],
   "source": [
    "a[0:13]"
   ]
  },
  {
   "cell_type": "code",
   "execution_count": null,
   "id": "74688161",
   "metadata": {},
   "outputs": [],
   "source": [
    "a[:13:2]"
   ]
  },
  {
   "cell_type": "code",
   "execution_count": null,
   "id": "a205a3c0",
   "metadata": {},
   "outputs": [],
   "source": [
    "M jy"
   ]
  },
  {
   "cell_type": "code",
   "execution_count": null,
   "id": "f5d784a3",
   "metadata": {},
   "outputs": [],
   "source": [
    "a[::2]"
   ]
  },
  {
   "cell_type": "code",
   "execution_count": null,
   "id": "23944a89",
   "metadata": {},
   "outputs": [],
   "source": [
    "# positive str"
   ]
  },
  {
   "cell_type": "code",
   "execution_count": null,
   "id": "af97445b",
   "metadata": {},
   "outputs": [],
   "source": [
    "# negative indexing"
   ]
  },
  {
   "cell_type": "code",
   "execution_count": null,
   "id": "fb1282d0",
   "metadata": {},
   "outputs": [],
   "source": [
    "a = 'karan'\n",
    "#      01234\n",
    "#     -5-4-3-2-1"
   ]
  },
  {
   "cell_type": "code",
   "execution_count": null,
   "id": "f928d631",
   "metadata": {},
   "outputs": [],
   "source": [
    "a = 'mr ajay loves python'"
   ]
  },
  {
   "cell_type": "code",
   "execution_count": null,
   "id": "f485f80c",
   "metadata": {},
   "outputs": [],
   "source": [
    "a"
   ]
  },
  {
   "cell_type": "code",
   "execution_count": null,
   "id": "40792c46",
   "metadata": {},
   "outputs": [],
   "source": [
    "a[-6:]"
   ]
  },
  {
   "cell_type": "code",
   "execution_count": null,
   "id": "8177ce3e",
   "metadata": {},
   "outputs": [],
   "source": [
    "a[-12:-7:-1]"
   ]
  },
  {
   "cell_type": "code",
   "execution_count": null,
   "id": "98a6aa55",
   "metadata": {},
   "outputs": [],
   "source": [
    "a[-8:-13:-1]"
   ]
  },
  {
   "cell_type": "code",
   "execution_count": null,
   "id": "3bf5f961",
   "metadata": {},
   "outputs": [],
   "source": [
    "a[::-1]"
   ]
  },
  {
   "cell_type": "code",
   "execution_count": null,
   "id": "66bf552c",
   "metadata": {},
   "outputs": [],
   "source": [
    "a = 'Ajay'\n",
    "\n",
    "a[::-1]"
   ]
  },
  {
   "cell_type": "code",
   "execution_count": null,
   "id": "e839728e",
   "metadata": {},
   "outputs": [],
   "source": [
    "# palindrome"
   ]
  },
  {
   "cell_type": "code",
   "execution_count": null,
   "id": "8794e380",
   "metadata": {},
   "outputs": [],
   "source": [
    "a = 'nayan'"
   ]
  },
  {
   "cell_type": "code",
   "execution_count": null,
   "id": "03f4321d",
   "metadata": {},
   "outputs": [],
   "source": [
    "print(a)"
   ]
  },
  {
   "cell_type": "code",
   "execution_count": null,
   "id": "8213eb9a",
   "metadata": {},
   "outputs": [],
   "source": [
    "print(a[::-1])"
   ]
  },
  {
   "cell_type": "code",
   "execution_count": null,
   "id": "87d5a155",
   "metadata": {},
   "outputs": [],
   "source": [
    "a == a[::-1]"
   ]
  },
  {
   "cell_type": "code",
   "execution_count": null,
   "id": "72c110c2",
   "metadata": {},
   "outputs": [],
   "source": [
    "print(a)"
   ]
  },
  {
   "cell_type": "code",
   "execution_count": null,
   "id": "699763ec",
   "metadata": {},
   "outputs": [],
   "source": [
    "print(a[::-1])"
   ]
  },
  {
   "cell_type": "code",
   "execution_count": null,
   "id": "14b81d72",
   "metadata": {},
   "outputs": [],
   "source": [
    "a = 'nitin'\n",
    "\n",
    "a[::-1]"
   ]
  },
  {
   "cell_type": "code",
   "execution_count": null,
   "id": "9622e6b6",
   "metadata": {},
   "outputs": [],
   "source": [
    "# dad\n",
    "# mom\n",
    "# madam\n",
    "# nitin\n",
    "# nayan\n"
   ]
  },
  {
   "cell_type": "code",
   "execution_count": null,
   "id": "9416fced",
   "metadata": {},
   "outputs": [],
   "source": [
    "a == a[::-1]"
   ]
  },
  {
   "cell_type": "code",
   "execution_count": null,
   "id": "1f785e1a",
   "metadata": {},
   "outputs": [],
   "source": [
    "a = 'Mr Ajay Loves Python'"
   ]
  },
  {
   "cell_type": "code",
   "execution_count": null,
   "id": "fd73b591",
   "metadata": {},
   "outputs": [],
   "source": [
    "print(a.replace('Loves','\\b'))"
   ]
  },
  {
   "cell_type": "code",
   "execution_count": null,
   "id": "95d7971e",
   "metadata": {},
   "outputs": [],
   "source": [
    "print(a.replace('Loves ',''))"
   ]
  },
  {
   "cell_type": "code",
   "execution_count": null,
   "id": "f3dc4a7f",
   "metadata": {},
   "outputs": [],
   "source": [
    "a"
   ]
  },
  {
   "cell_type": "code",
   "execution_count": null,
   "id": "bff06966",
   "metadata": {},
   "outputs": [],
   "source": [
    "a[:8] + a[-6:]"
   ]
  },
  {
   "cell_type": "code",
   "execution_count": null,
   "id": "66fed240",
   "metadata": {},
   "outputs": [],
   "source": [
    "# Methods"
   ]
  },
  {
   "cell_type": "code",
   "execution_count": null,
   "id": "97842250",
   "metadata": {},
   "outputs": [],
   "source": [
    "a = 'Karan'"
   ]
  },
  {
   "cell_type": "code",
   "execution_count": null,
   "id": "9b453726",
   "metadata": {},
   "outputs": [],
   "source": [
    "print(type(a))"
   ]
  },
  {
   "cell_type": "code",
   "execution_count": null,
   "id": "ee6b6f40",
   "metadata": {},
   "outputs": [],
   "source": [
    "print(dir(a))"
   ]
  },
  {
   "cell_type": "code",
   "execution_count": null,
   "id": "cd6db478",
   "metadata": {},
   "outputs": [],
   "source": [
    "methods = ['capitalize', 'casefold', 'center', 'count', 'encode', 'endswith', 'expandtabs', 'find', 'format', 'format_map', 'index', 'isalnum', 'isalpha', 'isascii', 'isdecimal', 'isdigit', 'isidentifier', 'islower', 'isnumeric', 'isprintable', 'isspace', 'istitle', 'isupper', 'join', 'ljust', 'lower', 'lstrip', 'maketrans', 'partition', 'removeprefix', 'removesuffix', 'replace', 'rfind', 'rindex', 'rjust', 'rpartition', 'rsplit', 'rstrip', 'split', 'splitlines', 'startswith', 'strip', 'swapcase', 'title', 'translate', 'upper', 'zfill']"
   ]
  },
  {
   "cell_type": "code",
   "execution_count": null,
   "id": "f83b956b",
   "metadata": {},
   "outputs": [],
   "source": [
    "print(methods)"
   ]
  },
  {
   "cell_type": "code",
   "execution_count": null,
   "id": "95c233b2",
   "metadata": {},
   "outputs": [],
   "source": [
    "a  = 'python is awesome'"
   ]
  },
  {
   "cell_type": "code",
   "execution_count": null,
   "id": "48cf0674",
   "metadata": {},
   "outputs": [],
   "source": [
    "print(a.capitalize())"
   ]
  },
  {
   "cell_type": "code",
   "execution_count": null,
   "id": "cb033d60",
   "metadata": {},
   "outputs": [],
   "source": [
    "a = 'This is Elon Musk'\n",
    "\n",
    "print(a)"
   ]
  },
  {
   "cell_type": "code",
   "execution_count": null,
   "id": "ee88ff69",
   "metadata": {},
   "outputs": [],
   "source": [
    "print(a.casefold())"
   ]
  },
  {
   "cell_type": "code",
   "execution_count": null,
   "id": "62288168",
   "metadata": {},
   "outputs": [],
   "source": [
    "print(a.center(127))"
   ]
  },
  {
   "cell_type": "code",
   "execution_count": null,
   "id": "45c2d9f3",
   "metadata": {},
   "outputs": [],
   "source": [
    "# 38+17"
   ]
  },
  {
   "cell_type": "code",
   "execution_count": null,
   "id": "a6107f23",
   "metadata": {},
   "outputs": [],
   "source": [
    "a"
   ]
  },
  {
   "cell_type": "code",
   "execution_count": null,
   "id": "1455b7ce",
   "metadata": {},
   "outputs": [],
   "source": [
    "print(a.count('is'))"
   ]
  },
  {
   "cell_type": "code",
   "execution_count": null,
   "id": "35a9adce",
   "metadata": {},
   "outputs": [],
   "source": [
    "a.endswith('usk')"
   ]
  },
  {
   "cell_type": "code",
   "execution_count": null,
   "id": "9059f3a2",
   "metadata": {},
   "outputs": [],
   "source": [
    "a.startswith('t')"
   ]
  },
  {
   "cell_type": "code",
   "execution_count": null,
   "id": "47bea483",
   "metadata": {},
   "outputs": [],
   "source": [
    "a = 'This\\nis\\nElon\\nMusk'\n",
    "\n",
    "print(a)"
   ]
  },
  {
   "cell_type": "code",
   "execution_count": null,
   "id": "5f2ac4e4",
   "metadata": {},
   "outputs": [],
   "source": [
    "a = 'ThisA\\b\\b\\b is Elon Musk'\n",
    "\n",
    "print(a)"
   ]
  },
  {
   "cell_type": "code",
   "execution_count": null,
   "id": "3aa9b685",
   "metadata": {},
   "outputs": [],
   "source": [
    "len('This is a Python')"
   ]
  },
  {
   "cell_type": "code",
   "execution_count": null,
   "id": "a6efda27",
   "metadata": {},
   "outputs": [],
   "source": [
    "b = 'This is a Python'\n",
    "# a = ('\\b'*16)\n",
    "\n",
    "print(b+a)"
   ]
  },
  {
   "cell_type": "code",
   "execution_count": null,
   "id": "21d85b2e",
   "metadata": {},
   "outputs": [],
   "source": [
    "# '\\b'*16"
   ]
  },
  {
   "cell_type": "code",
   "execution_count": null,
   "id": "0c0a512a",
   "metadata": {
    "scrolled": true
   },
   "outputs": [],
   "source": [
    "print('This is a Python\\b\\b')"
   ]
  },
  {
   "cell_type": "markdown",
   "id": "3b7cc769",
   "metadata": {},
   "source": [
    "# day 3"
   ]
  },
  {
   "cell_type": "code",
   "execution_count": null,
   "id": "80a4a326",
   "metadata": {},
   "outputs": [],
   "source": [
    "a = 'Happy\\tHoli\\tDiwali'\n",
    "\n",
    "\n",
    "a.expandtabs()"
   ]
  },
  {
   "cell_type": "code",
   "execution_count": null,
   "id": "2d4ca20c",
   "metadata": {},
   "outputs": [],
   "source": [
    "a = 'Ajay Sharma'\n",
    "\n",
    "a.find('ar')"
   ]
  },
  {
   "cell_type": "code",
   "execution_count": null,
   "id": "b45cb792",
   "metadata": {},
   "outputs": [],
   "source": [
    "a[3]"
   ]
  },
  {
   "cell_type": "code",
   "execution_count": null,
   "id": "31123e14",
   "metadata": {},
   "outputs": [],
   "source": [
    "a[7:9]"
   ]
  },
  {
   "cell_type": "code",
   "execution_count": null,
   "id": "0cf531f5",
   "metadata": {},
   "outputs": [],
   "source": [
    "a"
   ]
  },
  {
   "cell_type": "code",
   "execution_count": null,
   "id": "2d843d0e",
   "metadata": {},
   "outputs": [],
   "source": [
    "a.find('a')"
   ]
  },
  {
   "cell_type": "code",
   "execution_count": null,
   "id": "6e9623d3",
   "metadata": {},
   "outputs": [],
   "source": [
    "a.find('a',11)"
   ]
  },
  {
   "cell_type": "code",
   "execution_count": null,
   "id": "397fdffc",
   "metadata": {},
   "outputs": [],
   "source": [
    "# find\n",
    "# index"
   ]
  },
  {
   "cell_type": "code",
   "execution_count": null,
   "id": "d725bd21",
   "metadata": {},
   "outputs": [],
   "source": [
    "a"
   ]
  },
  {
   "cell_type": "code",
   "execution_count": null,
   "id": "dc35840d",
   "metadata": {},
   "outputs": [],
   "source": [
    "a.index('y')"
   ]
  },
  {
   "cell_type": "code",
   "execution_count": null,
   "id": "41d0cdab",
   "metadata": {},
   "outputs": [],
   "source": [
    "a.index('a',11)"
   ]
  },
  {
   "cell_type": "code",
   "execution_count": null,
   "id": "ba715898",
   "metadata": {},
   "outputs": [],
   "source": [
    "a"
   ]
  },
  {
   "cell_type": "code",
   "execution_count": null,
   "id": "132b854c",
   "metadata": {},
   "outputs": [],
   "source": [
    "a.index('z')"
   ]
  },
  {
   "cell_type": "code",
   "execution_count": null,
   "id": "0f940d8b",
   "metadata": {},
   "outputs": [],
   "source": [
    "a.find('z')"
   ]
  },
  {
   "cell_type": "code",
   "execution_count": null,
   "id": "abd0af62",
   "metadata": {},
   "outputs": [],
   "source": [
    "a"
   ]
  },
  {
   "cell_type": "code",
   "execution_count": null,
   "id": "922e38ce",
   "metadata": {},
   "outputs": [],
   "source": [
    "a.index('a',3)"
   ]
  },
  {
   "cell_type": "code",
   "execution_count": null,
   "id": "bf019260",
   "metadata": {},
   "outputs": [],
   "source": [
    "a"
   ]
  },
  {
   "cell_type": "code",
   "execution_count": null,
   "id": "3aa3f618",
   "metadata": {},
   "outputs": [],
   "source": [
    "car = 'Audi'\n",
    "price = 9898760\n",
    "model = 2019\n",
    "\n",
    "\n",
    "print('I have a Audi Car, having price 9898760 and model is 2019')"
   ]
  },
  {
   "cell_type": "code",
   "execution_count": null,
   "id": "02641ab9",
   "metadata": {},
   "outputs": [],
   "source": [
    "car = 'Bmw'\n",
    "price = 9998760\n",
    "model = 2029\n",
    "\n",
    "\n",
    "print('I have a {0} car, having price {1} and model is {2}'.format(car,price,model))"
   ]
  },
  {
   "cell_type": "code",
   "execution_count": null,
   "id": "7e57ddd7",
   "metadata": {},
   "outputs": [],
   "source": [
    "car = 'Bmw'\n",
    "price = 9998760\n",
    "model = 2029\n",
    "\n",
    "\n",
    "print('I have a {1} car, having price {0} and model is {2}'.format(price,car,model))"
   ]
  },
  {
   "cell_type": "code",
   "execution_count": null,
   "id": "e8deb276",
   "metadata": {},
   "outputs": [],
   "source": [
    "car = 'Kia'\n",
    "price = 9998760\n",
    "model = 2029\n",
    "\n",
    "\n",
    "print('I have a {a} car, having price {b} and model is {c}'.format(a=car,b=price,c=model))"
   ]
  },
  {
   "cell_type": "code",
   "execution_count": null,
   "id": "44bbbcf9",
   "metadata": {},
   "outputs": [],
   "source": [
    "# format string/f string method"
   ]
  },
  {
   "cell_type": "code",
   "execution_count": null,
   "id": "2355454a",
   "metadata": {},
   "outputs": [],
   "source": [
    "car = 'audi'\n",
    "price = 9998760\n",
    "model = 2029\n",
    "\n",
    "\n",
    "print(f'I have a {car} car, having price {price} and model is {model}')"
   ]
  },
  {
   "cell_type": "code",
   "execution_count": null,
   "id": "81255c67",
   "metadata": {},
   "outputs": [],
   "source": [
    "data = {'car':'audi','price':9998760,'model':2029}\n",
    "\n",
    "\n",
    "print('I have a {car} car, having price {price} and model is {model}'.format_map(data))"
   ]
  },
  {
   "cell_type": "code",
   "execution_count": null,
   "id": "f35428b5",
   "metadata": {},
   "outputs": [],
   "source": [
    "a = 'Komal9'\n",
    "\n",
    "a.isalpha()"
   ]
  },
  {
   "cell_type": "code",
   "execution_count": null,
   "id": "2d72c545",
   "metadata": {},
   "outputs": [],
   "source": [
    "a = '      '\n",
    "\n",
    "a.isspace()"
   ]
  },
  {
   "cell_type": "code",
   "execution_count": null,
   "id": "de7acefb",
   "metadata": {},
   "outputs": [],
   "source": [
    "a = '98765432'\n",
    "\n",
    "a.isalnum()"
   ]
  },
  {
   "cell_type": "code",
   "execution_count": null,
   "id": "8ec6c02b",
   "metadata": {},
   "outputs": [],
   "source": [
    "a = 'jhgHvhg'\n",
    "a.islower()"
   ]
  },
  {
   "cell_type": "code",
   "execution_count": null,
   "id": "9fe2ed1e",
   "metadata": {},
   "outputs": [],
   "source": [
    "a = 'JHVh'\n",
    "\n",
    "a.isupper()"
   ]
  },
  {
   "cell_type": "code",
   "execution_count": null,
   "id": "edf389e1",
   "metadata": {},
   "outputs": [],
   "source": [
    "# h/w\n",
    "# is"
   ]
  },
  {
   "cell_type": "code",
   "execution_count": null,
   "id": "def0976b",
   "metadata": {
    "scrolled": true
   },
   "outputs": [],
   "source": [
    "a = 'mohan,ajay,karan,ravi'\n",
    "\n",
    "a"
   ]
  },
  {
   "cell_type": "code",
   "execution_count": null,
   "id": "dfc192d1",
   "metadata": {},
   "outputs": [],
   "source": []
  },
  {
   "cell_type": "code",
   "execution_count": null,
   "id": "3e31bae7",
   "metadata": {},
   "outputs": [],
   "source": [
    "data"
   ]
  },
  {
   "cell_type": "code",
   "execution_count": null,
   "id": "94e7380c",
   "metadata": {},
   "outputs": [],
   "source": [
    "data['car']"
   ]
  },
  {
   "cell_type": "code",
   "execution_count": null,
   "id": "a5798c1d",
   "metadata": {},
   "outputs": [],
   "source": [
    "data['model']"
   ]
  },
  {
   "cell_type": "markdown",
   "id": "a3bafaf2",
   "metadata": {},
   "source": [
    "a = 'Ankit Kumar'"
   ]
  },
  {
   "cell_type": "code",
   "execution_count": null,
   "id": "77876386",
   "metadata": {},
   "outputs": [],
   "source": [
    "# This is just a comment\n",
    "print('Hello')"
   ]
  },
  {
   "cell_type": "markdown",
   "id": "95c90c23",
   "metadata": {},
   "source": [
    "# Hello"
   ]
  },
  {
   "cell_type": "code",
   "execution_count": null,
   "id": "e2e9797d",
   "metadata": {},
   "outputs": [],
   "source": [
    "a = 'karan verma'"
   ]
  },
  {
   "cell_type": "code",
   "execution_count": null,
   "id": "adf4749b",
   "metadata": {},
   "outputs": [],
   "source": [
    "# a.join(str)\n",
    "# a.join(tuple)\n",
    "# a.join(list)"
   ]
  },
  {
   "cell_type": "code",
   "execution_count": null,
   "id": "b30dc90f",
   "metadata": {},
   "outputs": [],
   "source": [
    "a.join('**')"
   ]
  },
  {
   "cell_type": "code",
   "execution_count": null,
   "id": "09a6d1c2",
   "metadata": {},
   "outputs": [],
   "source": [
    "# *karan verma*"
   ]
  },
  {
   "cell_type": "code",
   "execution_count": null,
   "id": "c4437d16",
   "metadata": {},
   "outputs": [],
   "source": [
    "a.join('###')"
   ]
  },
  {
   "cell_type": "code",
   "execution_count": null,
   "id": "07ce9963",
   "metadata": {},
   "outputs": [],
   "source": [
    "a = '        '\n",
    "a.join('PYTHON')"
   ]
  },
  {
   "cell_type": "code",
   "execution_count": null,
   "id": "f474369a",
   "metadata": {},
   "outputs": [],
   "source": [
    "a = ','\n",
    "\n",
    "a.join(['Komal','Ajay','Mohan','Verma'])"
   ]
  },
  {
   "cell_type": "code",
   "execution_count": null,
   "id": "1ad700ad",
   "metadata": {},
   "outputs": [],
   "source": [
    "a = ','\n",
    "\n",
    "a.join(('Komal','Ajay','Mohan','Verma'))"
   ]
  },
  {
   "cell_type": "code",
   "execution_count": null,
   "id": "e4c803bc",
   "metadata": {},
   "outputs": [],
   "source": [
    "a = '_'\n",
    "\n",
    "a.join('helloworld'.upper())"
   ]
  },
  {
   "cell_type": "code",
   "execution_count": null,
   "id": "6002a2d0",
   "metadata": {},
   "outputs": [],
   "source": [
    "# 'helloworld'.upper()"
   ]
  },
  {
   "cell_type": "code",
   "execution_count": null,
   "id": "29177c39",
   "metadata": {},
   "outputs": [],
   "source": [
    "a = 'ajay,karan,nayan,mohan'\n",
    "\n",
    "data = a.split(',')\n",
    "\n",
    "print(data)"
   ]
  },
  {
   "cell_type": "code",
   "execution_count": null,
   "id": "66b14234",
   "metadata": {},
   "outputs": [],
   "source": [
    "a = '_'\n",
    "\n",
    "a.join(data)"
   ]
  },
  {
   "cell_type": "code",
   "execution_count": null,
   "id": "61429c1f",
   "metadata": {},
   "outputs": [],
   "source": [
    "a = 'ajay,karan,nayan,mohan'\n",
    "\n",
    "a.replace(',','_')"
   ]
  },
  {
   "cell_type": "code",
   "execution_count": null,
   "id": "813c9f13",
   "metadata": {},
   "outputs": [],
   "source": [
    "a = 'ajay karan nayan mohan'.split(' ')\n",
    "a"
   ]
  },
  {
   "cell_type": "code",
   "execution_count": null,
   "id": "3b8dbc96",
   "metadata": {},
   "outputs": [],
   "source": [
    "b = 'ajay karan nayan mohan'.split('a')\n",
    "b"
   ]
  },
  {
   "cell_type": "markdown",
   "id": "6b16c9f1",
   "metadata": {},
   "source": [
    "# day 4 <25-04-24>"
   ]
  },
  {
   "cell_type": "code",
   "execution_count": 4,
   "id": "1017ea1b",
   "metadata": {},
   "outputs": [
    {
     "data": {
      "text/plain": [
       "'Karan&&&&&&&'"
      ]
     },
     "execution_count": 4,
     "metadata": {},
     "output_type": "execute_result"
    }
   ],
   "source": [
    "a = 'Karan'\n",
    "\n",
    "a.ljust(12,'&')"
   ]
  },
  {
   "cell_type": "code",
   "execution_count": 6,
   "id": "bd88b5b9",
   "metadata": {},
   "outputs": [
    {
     "data": {
      "text/plain": [
       "'&&&&&&&&&&&&&&&&&&Karan'"
      ]
     },
     "execution_count": 6,
     "metadata": {},
     "output_type": "execute_result"
    }
   ],
   "source": [
    "a.rjust(23,'&')"
   ]
  },
  {
   "cell_type": "code",
   "execution_count": 7,
   "id": "82a44ec6",
   "metadata": {},
   "outputs": [
    {
     "name": "stdout",
     "output_type": "stream",
     "text": [
      "['__add__', '__class__', '__contains__', '__delattr__', '__dir__', '__doc__', '__eq__', '__format__', '__ge__', '__getattribute__', '__getitem__', '__getnewargs__', '__getstate__', '__gt__', '__hash__', '__init__', '__init_subclass__', '__iter__', '__le__', '__len__', '__lt__', '__mod__', '__mul__', '__ne__', '__new__', '__reduce__', '__reduce_ex__', '__repr__', '__rmod__', '__rmul__', '__setattr__', '__sizeof__', '__str__', '__subclasshook__', 'capitalize', 'casefold', 'center', 'count', 'encode', 'endswith', 'expandtabs', 'find', 'format', 'format_map', 'index', 'isalnum', 'isalpha', 'isascii', 'isdecimal', 'isdigit', 'isidentifier', 'islower', 'isnumeric', 'isprintable', 'isspace', 'istitle', 'isupper', 'join', 'ljust', 'lower', 'lstrip', 'maketrans', 'partition', 'removeprefix', 'removesuffix', 'replace', 'rfind', 'rindex', 'rjust', 'rpartition', 'rsplit', 'rstrip', 'split', 'splitlines', 'startswith', 'strip', 'swapcase', 'title', 'translate', 'upper', 'zfill']\n"
     ]
    }
   ],
   "source": [
    "a = 'karan'\n",
    "\n",
    "print(dir(str))"
   ]
  },
  {
   "cell_type": "code",
   "execution_count": 8,
   "id": "8e9c1bc5",
   "metadata": {},
   "outputs": [],
   "source": [
    "aa = ['ljust', 'lower', 'lstrip', 'maketrans', 'partition', 'removeprefix', 'removesuffix', 'replace', 'rfind', 'rindex', 'rjust', 'rpartition', 'rsplit', 'rstrip', 'split', 'splitlines', 'startswith', 'strip', 'swapcase', 'title', 'translate', 'upper', 'zfill']"
   ]
  },
  {
   "cell_type": "code",
   "execution_count": 10,
   "id": "35b76354",
   "metadata": {},
   "outputs": [
    {
     "name": "stdout",
     "output_type": "stream",
     "text": [
      "['ljust', 'lower', 'lstrip', 'maketrans', 'partition', 'removeprefix', 'removesuffix', 'replace', 'rfind', 'rindex', 'rjust', 'rpartition', 'rsplit', 'rstrip', 'split', 'splitlines', 'startswith', 'strip', 'swapcase', 'title', 'translate', 'upper', 'zfill']\n"
     ]
    }
   ],
   "source": [
    "print(aa)"
   ]
  },
  {
   "cell_type": "code",
   "execution_count": 11,
   "id": "7a3bdfe3",
   "metadata": {},
   "outputs": [
    {
     "data": {
      "text/plain": [
       "'krana'"
      ]
     },
     "execution_count": 11,
     "metadata": {},
     "output_type": "execute_result"
    }
   ],
   "source": [
    "a = 'KRANA'\n",
    "\n",
    "a.lower()"
   ]
  },
  {
   "cell_type": "code",
   "execution_count": 16,
   "id": "a4bb167b",
   "metadata": {},
   "outputs": [
    {
     "data": {
      "text/plain": [
       "'      Ajay'"
      ]
     },
     "execution_count": 16,
     "metadata": {},
     "output_type": "execute_result"
    }
   ],
   "source": [
    "a = '      Ajay'\n",
    "\n",
    "a"
   ]
  },
  {
   "cell_type": "code",
   "execution_count": 17,
   "id": "5ca82037",
   "metadata": {},
   "outputs": [
    {
     "data": {
      "text/plain": [
       "'Ajay'"
      ]
     },
     "execution_count": 17,
     "metadata": {},
     "output_type": "execute_result"
    }
   ],
   "source": [
    "a.lstrip()"
   ]
  },
  {
   "cell_type": "code",
   "execution_count": 19,
   "id": "6f33fdda",
   "metadata": {},
   "outputs": [
    {
     "data": {
      "text/plain": [
       "'gh        '"
      ]
     },
     "execution_count": 19,
     "metadata": {},
     "output_type": "execute_result"
    }
   ],
   "source": [
    "a = 'gh        '\n",
    "\n",
    "a"
   ]
  },
  {
   "cell_type": "code",
   "execution_count": 20,
   "id": "fb4287a0",
   "metadata": {},
   "outputs": [
    {
     "data": {
      "text/plain": [
       "'gh'"
      ]
     },
     "execution_count": 20,
     "metadata": {},
     "output_type": "execute_result"
    }
   ],
   "source": [
    "a.rstrip()"
   ]
  },
  {
   "cell_type": "code",
   "execution_count": 21,
   "id": "bb727378",
   "metadata": {},
   "outputs": [],
   "source": [
    "# strip"
   ]
  },
  {
   "cell_type": "code",
   "execution_count": 22,
   "id": "928f46d2",
   "metadata": {},
   "outputs": [
    {
     "data": {
      "text/plain": [
       "'    Karan      '"
      ]
     },
     "execution_count": 22,
     "metadata": {},
     "output_type": "execute_result"
    }
   ],
   "source": [
    "a = '    Karan      '\n",
    "\n",
    "a"
   ]
  },
  {
   "cell_type": "code",
   "execution_count": 24,
   "id": "4073ea88",
   "metadata": {},
   "outputs": [
    {
     "data": {
      "text/plain": [
       "'Karan'"
      ]
     },
     "execution_count": 24,
     "metadata": {},
     "output_type": "execute_result"
    }
   ],
   "source": [
    "a.strip()"
   ]
  },
  {
   "cell_type": "code",
   "execution_count": 25,
   "id": "3b0b7080",
   "metadata": {},
   "outputs": [],
   "source": [
    "# 'translate'\n",
    "# 'maketrans',"
   ]
  },
  {
   "cell_type": "code",
   "execution_count": 26,
   "id": "87ba31a0",
   "metadata": {},
   "outputs": [],
   "source": [
    "a = 'ajay'\n",
    "\n",
    "# a.translate()"
   ]
  },
  {
   "cell_type": "code",
   "execution_count": 33,
   "id": "72fd416a",
   "metadata": {},
   "outputs": [
    {
     "data": {
      "text/plain": [
       "{97: 109, 106: 97}"
      ]
     },
     "execution_count": 33,
     "metadata": {},
     "output_type": "execute_result"
    }
   ],
   "source": [
    "table = a.maketrans('aj','ma')\n",
    "table"
   ]
  },
  {
   "cell_type": "code",
   "execution_count": 28,
   "id": "4c217339",
   "metadata": {},
   "outputs": [
    {
     "data": {
      "text/plain": [
       "97"
      ]
     },
     "execution_count": 28,
     "metadata": {},
     "output_type": "execute_result"
    }
   ],
   "source": [
    "ord('a')"
   ]
  },
  {
   "cell_type": "code",
   "execution_count": 29,
   "id": "389bf152",
   "metadata": {},
   "outputs": [
    {
     "data": {
      "text/plain": [
       "109"
      ]
     },
     "execution_count": 29,
     "metadata": {},
     "output_type": "execute_result"
    }
   ],
   "source": [
    "ord('m')"
   ]
  },
  {
   "cell_type": "code",
   "execution_count": 34,
   "id": "cb7defba",
   "metadata": {},
   "outputs": [
    {
     "data": {
      "text/plain": [
       "'mamy'"
      ]
     },
     "execution_count": 34,
     "metadata": {},
     "output_type": "execute_result"
    }
   ],
   "source": [
    "a = 'ajay'\n",
    "\n",
    "a.translate(table)"
   ]
  },
  {
   "cell_type": "code",
   "execution_count": 35,
   "id": "ba9fd2e4",
   "metadata": {},
   "outputs": [],
   "source": [
    "# 'partition', 'removeprefix', 'removesuffix', 'replace',"
   ]
  },
  {
   "cell_type": "code",
   "execution_count": 38,
   "id": "77cc5e43",
   "metadata": {},
   "outputs": [
    {
     "data": {
      "text/plain": [
       "('This ', 'E', 's Elon Musk')"
      ]
     },
     "execution_count": 38,
     "metadata": {},
     "output_type": "execute_result"
    }
   ],
   "source": [
    "a = 'This Es Elon Musk'\n",
    "\n",
    "a.partition('E')"
   ]
  },
  {
   "cell_type": "code",
   "execution_count": 43,
   "id": "6c5a3d6a",
   "metadata": {},
   "outputs": [
    {
     "data": {
      "text/plain": [
       "['This ', 's ', 'lon Musk']"
      ]
     },
     "execution_count": 43,
     "metadata": {},
     "output_type": "execute_result"
    }
   ],
   "source": [
    "a.split('E')"
   ]
  },
  {
   "cell_type": "code",
   "execution_count": 40,
   "id": "048abed7",
   "metadata": {},
   "outputs": [
    {
     "data": {
      "text/plain": [
       "('This Es ', 'E', 'lon Musk')"
      ]
     },
     "execution_count": 40,
     "metadata": {},
     "output_type": "execute_result"
    }
   ],
   "source": [
    "a = 'This Es Elon Musk'\n",
    "\n",
    "a.rpartition('E')"
   ]
  },
  {
   "cell_type": "code",
   "execution_count": 44,
   "id": "685df782",
   "metadata": {},
   "outputs": [],
   "source": [
    "# removeprefix', 'removesuffix',"
   ]
  },
  {
   "cell_type": "code",
   "execution_count": 54,
   "id": "48824779",
   "metadata": {},
   "outputs": [
    {
     "ename": "AttributeError",
     "evalue": "'list' object has no attribute 'lower'",
     "output_type": "error",
     "traceback": [
      "\u001b[1;31m---------------------------------------------------------------------------\u001b[0m",
      "\u001b[1;31mAttributeError\u001b[0m                            Traceback (most recent call last)",
      "Cell \u001b[1;32mIn[54], line 3\u001b[0m\n\u001b[0;32m      1\u001b[0m a \u001b[38;5;241m=\u001b[39m \u001b[38;5;124m'\u001b[39m\u001b[38;5;124mMr Ajay\u001b[39m\u001b[38;5;124m'\u001b[39m\n\u001b[1;32m----> 3\u001b[0m a\u001b[38;5;241m.\u001b[39mremoveprefix(\u001b[38;5;124m'\u001b[39m\u001b[38;5;124mMr\u001b[39m\u001b[38;5;124m'\u001b[39m)\u001b[38;5;241m.\u001b[39mstrip()\u001b[38;5;241m.\u001b[39msplit(\u001b[38;5;124m'\u001b[39m\u001b[38;5;124ma\u001b[39m\u001b[38;5;124m'\u001b[39m)\u001b[38;5;241m.\u001b[39mlower()\n",
      "\u001b[1;31mAttributeError\u001b[0m: 'list' object has no attribute 'lower'"
     ]
    }
   ],
   "source": [
    "a = 'Mr Ajay'\n",
    "\n",
    "a.removeprefix('Mr').strip().split('a').lower()"
   ]
  },
  {
   "cell_type": "code",
   "execution_count": 65,
   "id": "1e02f544",
   "metadata": {},
   "outputs": [
    {
     "data": {
      "text/plain": [
       "'#MR AJAY LIKES PYTHON'"
      ]
     },
     "execution_count": 65,
     "metadata": {},
     "output_type": "execute_result"
    }
   ],
   "source": [
    "a = '    Mr Ajay likes Python   '.replace('Mr','#Mr').upper().strip()\n",
    "a"
   ]
  },
  {
   "cell_type": "code",
   "execution_count": 68,
   "id": "54a003b2",
   "metadata": {},
   "outputs": [
    {
     "data": {
      "text/plain": [
       "'**********************************************************vhvhgvb**********************************************************'"
      ]
     },
     "execution_count": 68,
     "metadata": {},
     "output_type": "execute_result"
    }
   ],
   "source": [
    "'vhvhgvb'.strip().center(123,'*')"
   ]
  },
  {
   "cell_type": "code",
   "execution_count": 70,
   "id": "0a25ab6d",
   "metadata": {},
   "outputs": [],
   "source": [
    "# 'rfind', 'rindex',"
   ]
  },
  {
   "cell_type": "code",
   "execution_count": 71,
   "id": "b20eb590",
   "metadata": {},
   "outputs": [],
   "source": [
    "a = 'karan'"
   ]
  },
  {
   "cell_type": "code",
   "execution_count": 75,
   "id": "44646fa0",
   "metadata": {},
   "outputs": [
    {
     "data": {
      "text/plain": [
       "3"
      ]
     },
     "execution_count": 75,
     "metadata": {},
     "output_type": "execute_result"
    }
   ],
   "source": [
    "a.find('a',2)"
   ]
  },
  {
   "cell_type": "code",
   "execution_count": 76,
   "id": "0ce8f220",
   "metadata": {},
   "outputs": [
    {
     "data": {
      "text/plain": [
       "3"
      ]
     },
     "execution_count": 76,
     "metadata": {},
     "output_type": "execute_result"
    }
   ],
   "source": [
    "a.rfind('a')"
   ]
  },
  {
   "cell_type": "code",
   "execution_count": 77,
   "id": "96fefaf5",
   "metadata": {},
   "outputs": [
    {
     "data": {
      "text/plain": [
       "1"
      ]
     },
     "execution_count": 77,
     "metadata": {},
     "output_type": "execute_result"
    }
   ],
   "source": [
    "a.index('a')"
   ]
  },
  {
   "cell_type": "code",
   "execution_count": 78,
   "id": "1b99254f",
   "metadata": {},
   "outputs": [
    {
     "data": {
      "text/plain": [
       "3"
      ]
     },
     "execution_count": 78,
     "metadata": {},
     "output_type": "execute_result"
    }
   ],
   "source": [
    "a.rindex('a')"
   ]
  },
  {
   "cell_type": "code",
   "execution_count": 79,
   "id": "2c83b73a",
   "metadata": {},
   "outputs": [
    {
     "name": "stdout",
     "output_type": "stream",
     "text": [
      "['__add__', '__class__', '__contains__', '__delattr__', '__dir__', '__doc__', '__eq__', '__format__', '__ge__', '__getattribute__', '__getitem__', '__getnewargs__', '__getstate__', '__gt__', '__hash__', '__init__', '__init_subclass__', '__iter__', '__le__', '__len__', '__lt__', '__mod__', '__mul__', '__ne__', '__new__', '__reduce__', '__reduce_ex__', '__repr__', '__rmod__', '__rmul__', '__setattr__', '__sizeof__', '__str__', '__subclasshook__', 'capitalize', 'casefold', 'center', 'count', 'encode', 'endswith', 'expandtabs', 'find', 'format', 'format_map', 'index', 'isalnum', 'isalpha', 'isascii', 'isdecimal', 'isdigit', 'isidentifier', 'islower', 'isnumeric', 'isprintable', 'isspace', 'istitle', 'isupper', 'join', 'ljust', 'lower', 'lstrip', 'maketrans', 'partition', 'removeprefix', 'removesuffix', 'replace', 'rfind', 'rindex', 'rjust', 'rpartition', 'rsplit', 'rstrip', 'split', 'splitlines', 'startswith', 'strip', 'swapcase', 'title', 'translate', 'upper', 'zfill']\n"
     ]
    }
   ],
   "source": [
    "print(dir(str))"
   ]
  },
  {
   "cell_type": "code",
   "execution_count": 80,
   "id": "c41b598d",
   "metadata": {},
   "outputs": [],
   "source": [
    "# 'splitlines', 'startswith', 'strip', 'swapcase', 'title', 'translate', 'upper', 'zfill']"
   ]
  },
  {
   "cell_type": "code",
   "execution_count": 83,
   "id": "92279f83",
   "metadata": {},
   "outputs": [
    {
     "name": "stdout",
     "output_type": "stream",
     "text": [
      "This\n",
      "is\n",
      "Elon\n",
      "Musk\n"
     ]
    }
   ],
   "source": [
    "a = 'This\\nis\\nElon\\nMusk'\n",
    "print(a)"
   ]
  },
  {
   "cell_type": "code",
   "execution_count": 88,
   "id": "5b6436f5",
   "metadata": {},
   "outputs": [
    {
     "data": {
      "text/plain": [
       "['This', 'is', 'Elon', 'Musk']"
      ]
     },
     "execution_count": 88,
     "metadata": {},
     "output_type": "execute_result"
    }
   ],
   "source": [
    "a = 'This\\nis\\nElon\\nMusk'\n",
    "a.splitlines()"
   ]
  },
  {
   "cell_type": "code",
   "execution_count": 89,
   "id": "8311120d",
   "metadata": {},
   "outputs": [
    {
     "data": {
      "text/plain": [
       "['This', 'is', 'Elon', 'Musk']"
      ]
     },
     "execution_count": 89,
     "metadata": {},
     "output_type": "execute_result"
    }
   ],
   "source": [
    "a = 'This\\nis\\nElon\\nMusk'\n",
    "a.split('\\n')"
   ]
  },
  {
   "cell_type": "code",
   "execution_count": 90,
   "id": "efc9c4a7",
   "metadata": {},
   "outputs": [
    {
     "data": {
      "text/plain": [
       "True"
      ]
     },
     "execution_count": 90,
     "metadata": {},
     "output_type": "execute_result"
    }
   ],
   "source": [
    "a = '+91 9898787654'\n",
    "\n",
    "a.startswith('+91')"
   ]
  },
  {
   "cell_type": "code",
   "execution_count": 95,
   "id": "97871084",
   "metadata": {},
   "outputs": [
    {
     "data": {
      "text/plain": [
       "False"
      ]
     },
     "execution_count": 95,
     "metadata": {},
     "output_type": "execute_result"
    }
   ],
   "source": [
    "a = 'Mr karan'\n",
    "\n",
    "a.startswith('Mrs')"
   ]
  },
  {
   "cell_type": "code",
   "execution_count": 96,
   "id": "3fde0b21",
   "metadata": {},
   "outputs": [],
   "source": [
    "# 'swapcase', 'title', 'translate', 'upper', 'zfill']"
   ]
  },
  {
   "cell_type": "code",
   "execution_count": 97,
   "id": "50ed7cfa",
   "metadata": {},
   "outputs": [
    {
     "data": {
      "text/plain": [
       "'mR aJAY'"
      ]
     },
     "execution_count": 97,
     "metadata": {},
     "output_type": "execute_result"
    }
   ],
   "source": [
    "a = 'Mr Ajay'\n",
    "\n",
    "a.swapcase()"
   ]
  },
  {
   "cell_type": "code",
   "execution_count": 98,
   "id": "3958874e",
   "metadata": {},
   "outputs": [
    {
     "data": {
      "text/plain": [
       "'This Is Elon Musk'"
      ]
     },
     "execution_count": 98,
     "metadata": {},
     "output_type": "execute_result"
    }
   ],
   "source": [
    "a = 'this is elon musk'\n",
    "\n",
    "a.title()"
   ]
  },
  {
   "cell_type": "code",
   "execution_count": 99,
   "id": "a80a170e",
   "metadata": {},
   "outputs": [
    {
     "data": {
      "text/plain": [
       "'this is elon musk'"
      ]
     },
     "execution_count": 99,
     "metadata": {},
     "output_type": "execute_result"
    }
   ],
   "source": [
    "a"
   ]
  },
  {
   "cell_type": "code",
   "execution_count": 100,
   "id": "87eb469b",
   "metadata": {},
   "outputs": [
    {
     "data": {
      "text/plain": [
       "'THIS IS ELON MUSK'"
      ]
     },
     "execution_count": 100,
     "metadata": {},
     "output_type": "execute_result"
    }
   ],
   "source": [
    "a.upper()"
   ]
  },
  {
   "cell_type": "code",
   "execution_count": 103,
   "id": "167b7f5a",
   "metadata": {},
   "outputs": [
    {
     "data": {
      "text/plain": [
       "'this is elon musk'"
      ]
     },
     "execution_count": 103,
     "metadata": {},
     "output_type": "execute_result"
    }
   ],
   "source": [
    "# 'zfill'\n",
    "a"
   ]
  },
  {
   "cell_type": "code",
   "execution_count": 108,
   "id": "8b4d3431",
   "metadata": {},
   "outputs": [
    {
     "data": {
      "text/plain": [
       "'fghjklkjhgfdsdfgsdfgdxz'"
      ]
     },
     "execution_count": 108,
     "metadata": {},
     "output_type": "execute_result"
    }
   ],
   "source": [
    "a = 'fghjklkjhgfdsdfgsdfgdxz'\n",
    "a.zfill(20)"
   ]
  },
  {
   "cell_type": "code",
   "execution_count": 109,
   "id": "76d5dcfe",
   "metadata": {},
   "outputs": [
    {
     "name": "stdout",
     "output_type": "stream",
     "text": [
      "['__add__', '__class__', '__contains__', '__delattr__', '__dir__', '__doc__', '__eq__', '__format__', '__ge__', '__getattribute__', '__getitem__', '__getnewargs__', '__getstate__', '__gt__', '__hash__', '__init__', '__init_subclass__', '__iter__', '__le__', '__len__', '__lt__', '__mod__', '__mul__', '__ne__', '__new__', '__reduce__', '__reduce_ex__', '__repr__', '__rmod__', '__rmul__', '__setattr__', '__sizeof__', '__str__', '__subclasshook__', 'capitalize', 'casefold', 'center', 'count', 'encode', 'endswith', 'expandtabs', 'find', 'format', 'format_map', 'index', 'isalnum', 'isalpha', 'isascii', 'isdecimal', 'isdigit', 'isidentifier', 'islower', 'isnumeric', 'isprintable', 'isspace', 'istitle', 'isupper', 'join', 'ljust', 'lower', 'lstrip', 'maketrans', 'partition', 'removeprefix', 'removesuffix', 'replace', 'rfind', 'rindex', 'rjust', 'rpartition', 'rsplit', 'rstrip', 'split', 'splitlines', 'startswith', 'strip', 'swapcase', 'title', 'translate', 'upper', 'zfill']\n"
     ]
    }
   ],
   "source": [
    "print(dir(str))"
   ]
  },
  {
   "cell_type": "code",
   "execution_count": 110,
   "id": "1a983ea0",
   "metadata": {},
   "outputs": [],
   "source": [
    "# capitalize\n",
    "# count\n",
    "# endswith,startswith\n",
    "# expandtabs\n",
    "# find,index\n",
    "# f-string\n",
    "# isalpha,isdigit\n",
    "# join\n",
    "# lower,upper\n",
    "# replace\n",
    "# strip\n",
    "# title"
   ]
  },
  {
   "cell_type": "code",
   "execution_count": 111,
   "id": "79e5bd38",
   "metadata": {},
   "outputs": [],
   "source": [
    "# # string:\n",
    "# '',\"\",\"\"\"\"\"\",''''''\n",
    "# index,slicing\n",
    "# +,*\n",
    "# methods"
   ]
  },
  {
   "cell_type": "markdown",
   "id": "0f9be8b1",
   "metadata": {},
   "source": [
    "# Questions"
   ]
  },
  {
   "cell_type": "code",
   "execution_count": 117,
   "id": "fafc4e23",
   "metadata": {},
   "outputs": [],
   "source": [
    "a = 'karan'\n",
    "# a = ''"
   ]
  },
  {
   "cell_type": "code",
   "execution_count": 118,
   "id": "18b4ff1a",
   "metadata": {},
   "outputs": [
    {
     "data": {
      "text/plain": [
       "'karan'"
      ]
     },
     "execution_count": 118,
     "metadata": {},
     "output_type": "execute_result"
    }
   ],
   "source": [
    "a[:]"
   ]
  },
  {
   "cell_type": "code",
   "execution_count": 120,
   "id": "fcaf9c9e",
   "metadata": {},
   "outputs": [],
   "source": [
    "a = 'Ajay'"
   ]
  },
  {
   "cell_type": "code",
   "execution_count": 121,
   "id": "ec4e396b",
   "metadata": {},
   "outputs": [
    {
     "data": {
      "text/plain": [
       "''"
      ]
     },
     "execution_count": 121,
     "metadata": {},
     "output_type": "execute_result"
    }
   ],
   "source": [
    "a.replace(a,'')"
   ]
  },
  {
   "cell_type": "code",
   "execution_count": 124,
   "id": "2677e9d9",
   "metadata": {},
   "outputs": [
    {
     "data": {
      "text/plain": [
       "''"
      ]
     },
     "execution_count": 124,
     "metadata": {},
     "output_type": "execute_result"
    }
   ],
   "source": [
    "a.replace(a[:],'')"
   ]
  },
  {
   "cell_type": "code",
   "execution_count": 128,
   "id": "e46d1a18",
   "metadata": {},
   "outputs": [],
   "source": [
    "a = 23434567890654345678987654\n",
    "b = 23423456789876543456789876"
   ]
  },
  {
   "cell_type": "code",
   "execution_count": 129,
   "id": "5648369f",
   "metadata": {},
   "outputs": [
    {
     "data": {
      "text/plain": [
       "False"
      ]
     },
     "execution_count": 129,
     "metadata": {},
     "output_type": "execute_result"
    }
   ],
   "source": [
    "a is b"
   ]
  },
  {
   "cell_type": "code",
   "execution_count": 132,
   "id": "9854fad1",
   "metadata": {},
   "outputs": [],
   "source": [
    "a = 23.00000000\n",
    "b = 23.000000001"
   ]
  },
  {
   "cell_type": "code",
   "execution_count": 133,
   "id": "3c5ae38d",
   "metadata": {},
   "outputs": [
    {
     "data": {
      "text/plain": [
       "False"
      ]
     },
     "execution_count": 133,
     "metadata": {},
     "output_type": "execute_result"
    }
   ],
   "source": [
    "a is b"
   ]
  },
  {
   "cell_type": "code",
   "execution_count": 134,
   "id": "8fa421f6",
   "metadata": {},
   "outputs": [
    {
     "data": {
      "text/plain": [
       "'12,34,45,67'"
      ]
     },
     "execution_count": 134,
     "metadata": {},
     "output_type": "execute_result"
    }
   ],
   "source": [
    "a = '12,34,45,67'\n",
    "a"
   ]
  },
  {
   "cell_type": "code",
   "execution_count": 135,
   "id": "f5bc8fa4",
   "metadata": {},
   "outputs": [
    {
     "data": {
      "text/plain": [
       "[',', ',', ',', '1', '2', '3', '4', '4', '5', '6', '7']"
      ]
     },
     "execution_count": 135,
     "metadata": {},
     "output_type": "execute_result"
    }
   ],
   "source": [
    "sorted(a)"
   ]
  },
  {
   "cell_type": "code",
   "execution_count": 136,
   "id": "b42da4d7",
   "metadata": {},
   "outputs": [
    {
     "data": {
      "text/plain": [
       "44"
      ]
     },
     "execution_count": 136,
     "metadata": {},
     "output_type": "execute_result"
    }
   ],
   "source": [
    "ord(',')"
   ]
  },
  {
   "cell_type": "code",
   "execution_count": 137,
   "id": "d915750c",
   "metadata": {},
   "outputs": [
    {
     "data": {
      "text/plain": [
       "49"
      ]
     },
     "execution_count": 137,
     "metadata": {},
     "output_type": "execute_result"
    }
   ],
   "source": [
    "ord('1')"
   ]
  },
  {
   "cell_type": "code",
   "execution_count": null,
   "id": "ce86c96b",
   "metadata": {},
   "outputs": [],
   "source": []
  }
 ],
 "metadata": {
  "kernelspec": {
   "display_name": "Python 3 (ipykernel)",
   "language": "python",
   "name": "python3"
  },
  "language_info": {
   "codemirror_mode": {
    "name": "ipython",
    "version": 3
   },
   "file_extension": ".py",
   "mimetype": "text/x-python",
   "name": "python",
   "nbconvert_exporter": "python",
   "pygments_lexer": "ipython3",
   "version": "3.11.3"
  }
 },
 "nbformat": 4,
 "nbformat_minor": 5
}
