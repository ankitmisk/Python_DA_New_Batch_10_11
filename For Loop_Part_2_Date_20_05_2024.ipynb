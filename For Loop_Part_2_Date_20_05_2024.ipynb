{
 "cells": [
  {
   "cell_type": "code",
   "execution_count": 1,
   "id": "a7f9d250",
   "metadata": {},
   "outputs": [],
   "source": [
    "#for loop break, continue,pass\n",
    "# for loop with if else\n",
    "# for with else\n",
    "# nested for loop\n",
    "# one liner for loop\n",
    "# Imp Examples\n",
    "# for loop list comphrension,tuple,dict\n",
    "# Pattern printing"
   ]
  },
  {
   "cell_type": "code",
   "execution_count": 12,
   "id": "fa2bffb8",
   "metadata": {},
   "outputs": [
    {
     "name": "stdout",
     "output_type": "stream",
     "text": [
      "['ola', 'uber', 'Adani', 'maruti', 'kia', 'tata']\n"
     ]
    }
   ],
   "source": [
    "\n",
    "# # a = ['ola','uber','adani','maruti','kia','tata']\n",
    "\n",
    "# # v = []\n",
    "# # c = []\n",
    "\n",
    "\n",
    "a  = ['ola','uber','Adani','maruti','kia','tata']\n",
    "print(a)"
   ]
  },
  {
   "cell_type": "code",
   "execution_count": 23,
   "id": "b3b840f1",
   "metadata": {},
   "outputs": [],
   "source": [
    "v = []\n",
    "c = []\n",
    "\n",
    "for i in a:\n",
    "    if i[0].lower() in 'aeiou':\n",
    "        v.append(i)\n",
    "    else:\n",
    "        c.append(i)"
   ]
  },
  {
   "cell_type": "code",
   "execution_count": 24,
   "id": "88a96fa8",
   "metadata": {},
   "outputs": [
    {
     "data": {
      "text/plain": [
       "'m'"
      ]
     },
     "execution_count": 24,
     "metadata": {},
     "output_type": "execute_result"
    }
   ],
   "source": [
    "b = 'mohan'\n",
    "\n",
    "b[0]"
   ]
  },
  {
   "cell_type": "code",
   "execution_count": 25,
   "id": "1db190f5",
   "metadata": {},
   "outputs": [
    {
     "data": {
      "text/plain": [
       "True"
      ]
     },
     "execution_count": 25,
     "metadata": {},
     "output_type": "execute_result"
    }
   ],
   "source": [
    "'n' in b"
   ]
  },
  {
   "cell_type": "code",
   "execution_count": 26,
   "id": "eed25acd",
   "metadata": {},
   "outputs": [
    {
     "name": "stdout",
     "output_type": "stream",
     "text": [
      "['ola', 'uber', 'Adani']\n"
     ]
    }
   ],
   "source": [
    "print(v)"
   ]
  },
  {
   "cell_type": "code",
   "execution_count": 27,
   "id": "9d9ebc90",
   "metadata": {},
   "outputs": [
    {
     "name": "stdout",
     "output_type": "stream",
     "text": [
      "['maruti', 'kia', 'tata']\n"
     ]
    }
   ],
   "source": [
    "print(c)"
   ]
  },
  {
   "cell_type": "code",
   "execution_count": null,
   "id": "49e1c1ae",
   "metadata": {},
   "outputs": [],
   "source": []
  },
  {
   "cell_type": "code",
   "execution_count": 29,
   "id": "1da7357b",
   "metadata": {},
   "outputs": [],
   "source": [
    "a = 'Ajay'"
   ]
  },
  {
   "cell_type": "code",
   "execution_count": 30,
   "id": "551f7fca",
   "metadata": {},
   "outputs": [
    {
     "data": {
      "text/plain": [
       "'yajA'"
      ]
     },
     "execution_count": 30,
     "metadata": {},
     "output_type": "execute_result"
    }
   ],
   "source": [
    "a[::-1]"
   ]
  },
  {
   "cell_type": "code",
   "execution_count": 31,
   "id": "6c4a0952",
   "metadata": {
    "scrolled": true
   },
   "outputs": [
    {
     "data": {
      "text/plain": [
       "'YajA'"
      ]
     },
     "execution_count": 31,
     "metadata": {},
     "output_type": "execute_result"
    }
   ],
   "source": [
    "'Y'+'a'+'j'+'A'"
   ]
  },
  {
   "cell_type": "code",
   "execution_count": 37,
   "id": "a613ec0c",
   "metadata": {},
   "outputs": [
    {
     "data": {
      "text/plain": [
       "'yajA'"
      ]
     },
     "execution_count": 37,
     "metadata": {},
     "output_type": "execute_result"
    }
   ],
   "source": [
    "a[::-1]"
   ]
  },
  {
   "cell_type": "code",
   "execution_count": 36,
   "id": "f9dd7185",
   "metadata": {},
   "outputs": [
    {
     "name": "stdout",
     "output_type": "stream",
     "text": [
      "yajA\n"
     ]
    }
   ],
   "source": [
    "a = 'Ajay'\n",
    "reverse_a = ''\n",
    "\n",
    "for i in a:\n",
    "    reverse_a = i+reverse_a\n",
    "    \n",
    "print(reverse_a)"
   ]
  },
  {
   "cell_type": "code",
   "execution_count": null,
   "id": "25371d8c",
   "metadata": {},
   "outputs": [],
   "source": []
  },
  {
   "cell_type": "code",
   "execution_count": null,
   "id": "634ffdfa",
   "metadata": {},
   "outputs": [],
   "source": []
  },
  {
   "cell_type": "code",
   "execution_count": 43,
   "id": "bcfa5e43",
   "metadata": {},
   "outputs": [
    {
     "name": "stdout",
     "output_type": "stream",
     "text": [
      "1 : 1\n",
      "234 : 54756\n",
      "421 : 177241\n",
      "23 : 529\n",
      "465 : 216225\n",
      "243 : 59049\n",
      "57 : 3249\n",
      "6 : 36\n",
      "65 : 4225\n",
      "463 : 214369\n"
     ]
    }
   ],
   "source": [
    "a = [1,234,421,23,465,53,243,57,6,65,463]\n",
    "\n",
    "for i in a:\n",
    "    if i == 53:\n",
    "        continue  # to skip that particular iteration or element we use continue\n",
    "    else:\n",
    "        print(i,':',i**2)"
   ]
  },
  {
   "cell_type": "code",
   "execution_count": 45,
   "id": "b6c8093c",
   "metadata": {},
   "outputs": [
    {
     "name": "stdout",
     "output_type": "stream",
     "text": [
      "Hey!! Ajay👍, You are allowed\n",
      "Hey!! Karan👍, You are allowed\n",
      "Hey!! Ravi👍, You are allowed\n",
      "Hey!! Sandeep👍, You are allowed\n"
     ]
    }
   ],
   "source": [
    "students = ['Ajay','Karan','Ravi','Mohan','Anil','Sandeep']\n",
    "\n",
    "for student in students:\n",
    "    if student in ['Mohan','Anil']:\n",
    "        continue\n",
    "    else:\n",
    "        print(f'Hey!! {student}👍, You are allowed')"
   ]
  },
  {
   "cell_type": "code",
   "execution_count": 46,
   "id": "7e62323e",
   "metadata": {},
   "outputs": [],
   "source": [
    "# win Key + ."
   ]
  },
  {
   "cell_type": "code",
   "execution_count": 47,
   "id": "fc9f1c81",
   "metadata": {},
   "outputs": [],
   "source": [
    "# break statement"
   ]
  },
  {
   "cell_type": "code",
   "execution_count": 50,
   "id": "fd6d6aea",
   "metadata": {},
   "outputs": [
    {
     "name": "stdout",
     "output_type": "stream",
     "text": [
      "Sandeep Sandeep Found!!\n"
     ]
    }
   ],
   "source": [
    "a = ['Sandeep','Ajay','Karan','Ravi','Mohan','Anil','Sandeep','Akshay','Salman','Aman']\n",
    "\n",
    "\n",
    "\n",
    "for i in a:\n",
    "    if i == 'Sandeep':\n",
    "        print(i,'Sandeep Found!!')\n",
    "        break\n",
    "        \n",
    "    print(i,'Sandeep not found!!')"
   ]
  },
  {
   "cell_type": "code",
   "execution_count": null,
   "id": "747de3cc",
   "metadata": {},
   "outputs": [],
   "source": []
  },
  {
   "cell_type": "code",
   "execution_count": null,
   "id": "93ec6023",
   "metadata": {},
   "outputs": [],
   "source": []
  },
  {
   "cell_type": "code",
   "execution_count": null,
   "id": "de6b6f09",
   "metadata": {},
   "outputs": [],
   "source": []
  },
  {
   "cell_type": "code",
   "execution_count": null,
   "id": "44f7f916",
   "metadata": {},
   "outputs": [],
   "source": []
  },
  {
   "cell_type": "code",
   "execution_count": 59,
   "id": "a5734f14",
   "metadata": {},
   "outputs": [
    {
     "name": "stdout",
     "output_type": "stream",
     "text": [
      "Ajay Sandeep not found!!\n",
      "Karan Sandeep not found!!\n",
      "Ravi Sandeep not found!!\n",
      "Mohan Sandeep not found!!\n",
      "Anil Sandeep not found!!\n"
     ]
    }
   ],
   "source": [
    "a = ['Ajay','Karan','Ravi','Mohan','Anil','Sandeep','Akshay','Salman','Aman']\n",
    "\n",
    "\n",
    "\n",
    "for i in a:\n",
    "    if i == 'Sandeep':\n",
    "        break\n",
    "        print(i,'Sandeep Found!!')\n",
    "        \n",
    "    print(i,'Sandeep not found!!')\n",
    "    \n"
   ]
  },
  {
   "cell_type": "code",
   "execution_count": null,
   "id": "42cc5753",
   "metadata": {},
   "outputs": [],
   "source": []
  },
  {
   "cell_type": "code",
   "execution_count": null,
   "id": "b93b92ea",
   "metadata": {},
   "outputs": [],
   "source": []
  },
  {
   "cell_type": "code",
   "execution_count": 60,
   "id": "251974d1",
   "metadata": {},
   "outputs": [
    {
     "name": "stdout",
     "output_type": "stream",
     "text": [
      "Hey!! Ajay👍, You are allowed\n",
      "Hey!! Karan👍, You are allowed\n",
      "Hey!! Ravi👍, You are allowed\n",
      "Hey!! Sandeep👍, You are allowed\n"
     ]
    }
   ],
   "source": [
    "students = ['Ajay','Karan','Ravi','Mohan','Anil','Sandeep']\n",
    "\n",
    "for student in students:\n",
    "    if student in ['Mohan','Anil']:\n",
    "        print('Skipped!!')\n",
    "        continue\n",
    "        \n",
    "    else:\n",
    "        print(f'Hey!! {student}👍, You are allowed')"
   ]
  },
  {
   "cell_type": "code",
   "execution_count": null,
   "id": "0421ddbf",
   "metadata": {},
   "outputs": [],
   "source": []
  },
  {
   "cell_type": "code",
   "execution_count": null,
   "id": "d56f2c1c",
   "metadata": {},
   "outputs": [],
   "source": []
  },
  {
   "cell_type": "code",
   "execution_count": null,
   "id": "64994852",
   "metadata": {},
   "outputs": [],
   "source": []
  },
  {
   "cell_type": "code",
   "execution_count": 63,
   "id": "0634696a",
   "metadata": {},
   "outputs": [
    {
     "name": "stdout",
     "output_type": "stream",
     "text": [
      "Hey!! Ajay👍, You are allowed\n",
      "Hey!! Karan👍, You are allowed\n",
      "Hey!! Ravi👍, You are allowed\n",
      "Mohan Skipped!!\n",
      "Anil Skipped!!\n",
      "Hey!! Sandeep👍, You are allowed\n"
     ]
    }
   ],
   "source": [
    "students = ['Ajay','Karan','Ravi','Mohan','Anil','Sandeep']\n",
    "\n",
    "for student in students:\n",
    "    if student in ['Mohan','Anil']:\n",
    "        pass\n",
    "        print(student,'Skipped!!')\n",
    "    else:\n",
    "        print(f'Hey!! {student}👍, You are allowed')"
   ]
  },
  {
   "cell_type": "code",
   "execution_count": 64,
   "id": "7a3cc0a4",
   "metadata": {},
   "outputs": [],
   "source": [
    "# break,continue,pass"
   ]
  },
  {
   "cell_type": "code",
   "execution_count": 66,
   "id": "7c9ff2d2",
   "metadata": {},
   "outputs": [],
   "source": [
    "for i in range(12345690):\n",
    "    break"
   ]
  },
  {
   "cell_type": "code",
   "execution_count": 69,
   "id": "69502e51",
   "metadata": {},
   "outputs": [
    {
     "name": "stderr",
     "output_type": "stream",
     "text": [
      "\n",
      "KeyboardInterrupt\n",
      "\n"
     ]
    }
   ],
   "source": [
    "for i in range(12345690456):\n",
    "    continue"
   ]
  },
  {
   "cell_type": "code",
   "execution_count": 71,
   "id": "a9b146a0",
   "metadata": {},
   "outputs": [
    {
     "name": "stderr",
     "output_type": "stream",
     "text": [
      "\n",
      "KeyboardInterrupt\n",
      "\n"
     ]
    }
   ],
   "source": [
    "for i in range(12345690456):\n",
    "    pass"
   ]
  },
  {
   "cell_type": "code",
   "execution_count": 72,
   "id": "b5139c1d",
   "metadata": {},
   "outputs": [],
   "source": [
    "# table print"
   ]
  },
  {
   "cell_type": "code",
   "execution_count": 73,
   "id": "dbab2224",
   "metadata": {},
   "outputs": [
    {
     "name": "stdout",
     "output_type": "stream",
     "text": [
      "3 x 1 = 3\n",
      "3 x 2 = 6\n",
      "3 x 3 = 9\n",
      "3 x 4 = 12\n",
      "3 x 5 = 15\n",
      "3 x 6 = 18\n",
      "3 x 7 = 21\n",
      "3 x 8 = 24\n",
      "3 x 9 = 27\n",
      "3 x 10 = 30\n"
     ]
    }
   ],
   "source": [
    "table = 3\n",
    "\n",
    "for i in range(1,11):\n",
    "    print(table,'x',i,'=',table*i)"
   ]
  },
  {
   "cell_type": "code",
   "execution_count": 77,
   "id": "7e44a7f3",
   "metadata": {},
   "outputs": [
    {
     "name": "stdout",
     "output_type": "stream",
     "text": [
      "3 x 1 = 3\n",
      "3 x 2 = 6\n",
      "3 x 3 = 9\n",
      "3 x 4 = 12\n",
      "3 x 5 = 15\n",
      "3 x 6 = 18\n",
      "3 x 7 = 21\n",
      "3 x 8 = 24\n",
      "3 x 9 = 27\n",
      "3 x 10 = 30\n"
     ]
    }
   ],
   "source": [
    "table = 3\n",
    "\n",
    "for i in range(1,11):\n",
    "    print(f'{table} x {i} = {table*i}')"
   ]
  },
  {
   "cell_type": "code",
   "execution_count": 90,
   "id": "330faaa0",
   "metadata": {},
   "outputs": [
    {
     "name": "stdout",
     "output_type": "stream",
     "text": [
      "Even sum:  30\n",
      "Odd sum:  25\n"
     ]
    }
   ],
   "source": [
    "no = range(1,11)\n",
    "\n",
    "even_sum = 0\n",
    "odd_sum = 0\n",
    "\n",
    "for i in no:\n",
    "    if i%2==0:\n",
    "        even_sum+=i\n",
    "    else:\n",
    "        odd_sum+=i\n",
    "    \n",
    "print('Even sum: ',even_sum)\n",
    "print('Odd sum: ',odd_sum)"
   ]
  },
  {
   "cell_type": "code",
   "execution_count": null,
   "id": "5b5ca284",
   "metadata": {},
   "outputs": [],
   "source": []
  },
  {
   "cell_type": "code",
   "execution_count": null,
   "id": "7e56a512",
   "metadata": {},
   "outputs": [],
   "source": []
  }
 ],
 "metadata": {
  "kernelspec": {
   "display_name": "Python 3 (ipykernel)",
   "language": "python",
   "name": "python3"
  },
  "language_info": {
   "codemirror_mode": {
    "name": "ipython",
    "version": 3
   },
   "file_extension": ".py",
   "mimetype": "text/x-python",
   "name": "python",
   "nbconvert_exporter": "python",
   "pygments_lexer": "ipython3",
   "version": "3.11.3"
  }
 },
 "nbformat": 4,
 "nbformat_minor": 5
}
