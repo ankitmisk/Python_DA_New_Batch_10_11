{
 "cells": [
  {
   "cell_type": "code",
   "execution_count": 1,
   "id": "4829b065",
   "metadata": {},
   "outputs": [],
   "source": [
    "# Assignment op"
   ]
  },
  {
   "cell_type": "code",
   "execution_count": 2,
   "id": "f85b6902",
   "metadata": {},
   "outputs": [
    {
     "name": "stdout",
     "output_type": "stream",
     "text": [
      "23\n"
     ]
    }
   ],
   "source": [
    "a = 23\n",
    "print(a)"
   ]
  },
  {
   "cell_type": "code",
   "execution_count": 3,
   "id": "9099e611",
   "metadata": {},
   "outputs": [
    {
     "name": "stdout",
     "output_type": "stream",
     "text": [
      "30\n"
     ]
    }
   ],
   "source": [
    "a = 10\n",
    "a = a + 20\n",
    "\n",
    "print(a)"
   ]
  },
  {
   "cell_type": "code",
   "execution_count": 4,
   "id": "fc56bec1",
   "metadata": {},
   "outputs": [
    {
     "name": "stdout",
     "output_type": "stream",
     "text": [
      "33\n"
     ]
    }
   ],
   "source": [
    "a = 23\n",
    "\n",
    "a+= 10\n",
    "\n",
    "print(a)"
   ]
  },
  {
   "cell_type": "code",
   "execution_count": 16,
   "id": "4bd6e0ec",
   "metadata": {},
   "outputs": [
    {
     "name": "stdout",
     "output_type": "stream",
     "text": [
      "10\n"
     ]
    }
   ],
   "source": [
    "a = 10\n",
    "\n",
    "a+=10\n",
    "a+=20\n",
    "a-=10\n",
    "a*=10\n",
    "a//=10\n",
    "a**= 2\n",
    "a*=10\n",
    "a%=2\n",
    "a+=10\n",
    "print(a)"
   ]
  },
  {
   "cell_type": "code",
   "execution_count": 6,
   "id": "31544482",
   "metadata": {},
   "outputs": [
    {
     "data": {
      "text/plain": [
       "30"
      ]
     },
     "execution_count": 6,
     "metadata": {},
     "output_type": "execute_result"
    }
   ],
   "source": [
    "300//10"
   ]
  },
  {
   "cell_type": "code",
   "execution_count": 17,
   "id": "f426ecc3",
   "metadata": {},
   "outputs": [],
   "source": [
    "# +,-,*,%,/,//,**"
   ]
  },
  {
   "cell_type": "code",
   "execution_count": 19,
   "id": "c12e2336",
   "metadata": {},
   "outputs": [
    {
     "data": {
      "text/plain": [
       "11"
      ]
     },
     "execution_count": 19,
     "metadata": {},
     "output_type": "execute_result"
    }
   ],
   "source": [
    "23//2"
   ]
  },
  {
   "cell_type": "code",
   "execution_count": 20,
   "id": "95453813",
   "metadata": {},
   "outputs": [],
   "source": [
    "# +=,\n",
    "# -=,\n",
    "# *=,\n",
    "# %=,\n",
    "# /=,\n",
    "# //=,\n",
    "# **="
   ]
  },
  {
   "cell_type": "code",
   "execution_count": 21,
   "id": "3a056fad",
   "metadata": {},
   "outputs": [],
   "source": [
    "# comparison op"
   ]
  },
  {
   "cell_type": "code",
   "execution_count": 22,
   "id": "2559a67d",
   "metadata": {},
   "outputs": [],
   "source": [
    "# <\n",
    "# >\n",
    "# <=\n",
    "# >=\n",
    "# ==\n",
    "# !="
   ]
  },
  {
   "cell_type": "code",
   "execution_count": 29,
   "id": "02ee821c",
   "metadata": {},
   "outputs": [
    {
     "name": "stdout",
     "output_type": "stream",
     "text": [
      "True\n"
     ]
    }
   ],
   "source": [
    "a = 230\n",
    "b = 230\n",
    "\n",
    "print(a>=b)"
   ]
  },
  {
   "cell_type": "code",
   "execution_count": 32,
   "id": "e964cf02",
   "metadata": {},
   "outputs": [
    {
     "name": "stdout",
     "output_type": "stream",
     "text": [
      "True\n"
     ]
    }
   ],
   "source": [
    "a = 'mohan'\n",
    "b = 'mohan'\n",
    "print(a==b)"
   ]
  },
  {
   "cell_type": "code",
   "execution_count": 40,
   "id": "e587864b",
   "metadata": {},
   "outputs": [
    {
     "name": "stdout",
     "output_type": "stream",
     "text": [
      "True\n"
     ]
    }
   ],
   "source": [
    "a = 'Ajay'\n",
    "b = 'vijay'\n",
    "\n",
    "print(a<b)"
   ]
  },
  {
   "cell_type": "code",
   "execution_count": 37,
   "id": "feae887b",
   "metadata": {},
   "outputs": [
    {
     "data": {
      "text/plain": [
       "97"
      ]
     },
     "execution_count": 37,
     "metadata": {},
     "output_type": "execute_result"
    }
   ],
   "source": [
    "ord('a')"
   ]
  },
  {
   "cell_type": "code",
   "execution_count": 38,
   "id": "7f2d8317",
   "metadata": {},
   "outputs": [
    {
     "data": {
      "text/plain": [
       "118"
      ]
     },
     "execution_count": 38,
     "metadata": {},
     "output_type": "execute_result"
    }
   ],
   "source": [
    "ord('v')"
   ]
  },
  {
   "cell_type": "code",
   "execution_count": 39,
   "id": "457ae797",
   "metadata": {},
   "outputs": [
    {
     "data": {
      "text/plain": [
       "65"
      ]
     },
     "execution_count": 39,
     "metadata": {},
     "output_type": "execute_result"
    }
   ],
   "source": [
    "ord('A')"
   ]
  },
  {
   "cell_type": "code",
   "execution_count": 44,
   "id": "3bf61904",
   "metadata": {},
   "outputs": [
    {
     "name": "stdout",
     "output_type": "stream",
     "text": [
      "True\n"
     ]
    }
   ],
   "source": [
    "a = 'Bohan'\n",
    "\n",
    "b = 'Bipin'\n",
    "\n",
    "print(b<a)"
   ]
  },
  {
   "cell_type": "code",
   "execution_count": 42,
   "id": "c232c75f",
   "metadata": {},
   "outputs": [
    {
     "data": {
      "text/plain": [
       "109"
      ]
     },
     "execution_count": 42,
     "metadata": {},
     "output_type": "execute_result"
    }
   ],
   "source": [
    "ord('m')"
   ]
  },
  {
   "cell_type": "code",
   "execution_count": 43,
   "id": "1e1bd1af",
   "metadata": {},
   "outputs": [
    {
     "data": {
      "text/plain": [
       "66"
      ]
     },
     "execution_count": 43,
     "metadata": {},
     "output_type": "execute_result"
    }
   ],
   "source": [
    "ord('B')"
   ]
  },
  {
   "cell_type": "code",
   "execution_count": 46,
   "id": "6607c947",
   "metadata": {},
   "outputs": [
    {
     "data": {
      "text/plain": [
       "True"
      ]
     },
     "execution_count": 46,
     "metadata": {},
     "output_type": "execute_result"
    }
   ],
   "source": [
    "a = 'Ajay'\n",
    "b = 'Ajay'\n",
    "\n",
    "a==b"
   ]
  },
  {
   "cell_type": "code",
   "execution_count": 51,
   "id": "f60f2dd3",
   "metadata": {},
   "outputs": [
    {
     "data": {
      "text/plain": [
       "True"
      ]
     },
     "execution_count": 51,
     "metadata": {},
     "output_type": "execute_result"
    }
   ],
   "source": [
    "a = [1,243,65,8]\n",
    "b = [10,243,65,8]\n",
    "\n",
    "a != b"
   ]
  },
  {
   "cell_type": "code",
   "execution_count": 52,
   "id": "59c21b38",
   "metadata": {},
   "outputs": [],
   "source": [
    "# identity op\n",
    "is , is not"
   ]
  },
  {
   "cell_type": "code",
   "execution_count": 53,
   "id": "829d3aeb",
   "metadata": {},
   "outputs": [
    {
     "data": {
      "text/plain": [
       "False"
      ]
     },
     "execution_count": 53,
     "metadata": {},
     "output_type": "execute_result"
    }
   ],
   "source": [
    "a = [1,243,65,8]\n",
    "b = [1,243,65,8]\n",
    "\n",
    "a is b"
   ]
  },
  {
   "cell_type": "code",
   "execution_count": 55,
   "id": "6b78aca1",
   "metadata": {},
   "outputs": [
    {
     "data": {
      "text/plain": [
       "True"
      ]
     },
     "execution_count": 55,
     "metadata": {},
     "output_type": "execute_result"
    }
   ],
   "source": [
    "a = 10\n",
    "b = 10\n",
    "c = 10\n",
    "\n",
    "a is b"
   ]
  },
  {
   "cell_type": "code",
   "execution_count": 56,
   "id": "3a723d53",
   "metadata": {},
   "outputs": [
    {
     "data": {
      "text/plain": [
       "140715470656584"
      ]
     },
     "execution_count": 56,
     "metadata": {},
     "output_type": "execute_result"
    }
   ],
   "source": [
    "id(a)"
   ]
  },
  {
   "cell_type": "code",
   "execution_count": 57,
   "id": "804ecff8",
   "metadata": {},
   "outputs": [
    {
     "data": {
      "text/plain": [
       "140715470656584"
      ]
     },
     "execution_count": 57,
     "metadata": {},
     "output_type": "execute_result"
    }
   ],
   "source": [
    "id(b)"
   ]
  },
  {
   "cell_type": "code",
   "execution_count": 62,
   "id": "7ea379a8",
   "metadata": {},
   "outputs": [
    {
     "data": {
      "text/plain": [
       "False"
      ]
     },
     "execution_count": 62,
     "metadata": {},
     "output_type": "execute_result"
    }
   ],
   "source": [
    "a = [1,2,3]\n",
    "b = [1,2,3]\n",
    "\n",
    "# a = b\n",
    "a is b"
   ]
  },
  {
   "cell_type": "code",
   "execution_count": 59,
   "id": "d40e2dc6",
   "metadata": {},
   "outputs": [
    {
     "data": {
      "text/plain": [
       "2411146199872"
      ]
     },
     "execution_count": 59,
     "metadata": {},
     "output_type": "execute_result"
    }
   ],
   "source": [
    "id(a)"
   ]
  },
  {
   "cell_type": "code",
   "execution_count": 60,
   "id": "35786593",
   "metadata": {},
   "outputs": [
    {
     "data": {
      "text/plain": [
       "2411132263936"
      ]
     },
     "execution_count": 60,
     "metadata": {},
     "output_type": "execute_result"
    }
   ],
   "source": [
    "id(b)"
   ]
  },
  {
   "cell_type": "code",
   "execution_count": 64,
   "id": "9d704260",
   "metadata": {},
   "outputs": [
    {
     "data": {
      "text/plain": [
       "True"
      ]
     },
     "execution_count": 64,
     "metadata": {},
     "output_type": "execute_result"
    }
   ],
   "source": [
    "a = 'ajay'\n",
    "b = 'ajay'\n",
    "\n",
    "a is b"
   ]
  },
  {
   "cell_type": "code",
   "execution_count": 65,
   "id": "f7b6d2ae",
   "metadata": {},
   "outputs": [
    {
     "data": {
      "text/plain": [
       "2411132280752"
      ]
     },
     "execution_count": 65,
     "metadata": {},
     "output_type": "execute_result"
    }
   ],
   "source": [
    "id(a)"
   ]
  },
  {
   "cell_type": "code",
   "execution_count": 66,
   "id": "2497e957",
   "metadata": {},
   "outputs": [
    {
     "data": {
      "text/plain": [
       "2411132280752"
      ]
     },
     "execution_count": 66,
     "metadata": {},
     "output_type": "execute_result"
    }
   ],
   "source": [
    "id(b)"
   ]
  },
  {
   "cell_type": "code",
   "execution_count": 69,
   "id": "c9ff72b2",
   "metadata": {},
   "outputs": [
    {
     "data": {
      "text/plain": [
       "False"
      ]
     },
     "execution_count": 69,
     "metadata": {},
     "output_type": "execute_result"
    }
   ],
   "source": [
    "a = 'ajay'\n",
    "b = 'ajay'\n",
    "\n",
    "a is not b"
   ]
  },
  {
   "cell_type": "code",
   "execution_count": 76,
   "id": "e94b41d1",
   "metadata": {
    "scrolled": true
   },
   "outputs": [
    {
     "data": {
      "text/plain": [
       "False"
      ]
     },
     "execution_count": 76,
     "metadata": {},
     "output_type": "execute_result"
    }
   ],
   "source": [
    "a = [1,2,34]\n",
    "b = [1,2,34]\n",
    "\n",
    "a is b"
   ]
  },
  {
   "cell_type": "code",
   "execution_count": 77,
   "id": "3ad992b0",
   "metadata": {
    "scrolled": true
   },
   "outputs": [
    {
     "data": {
      "text/plain": [
       "2411146214400"
      ]
     },
     "execution_count": 77,
     "metadata": {},
     "output_type": "execute_result"
    }
   ],
   "source": [
    "id(a)"
   ]
  },
  {
   "cell_type": "code",
   "execution_count": 78,
   "id": "18c12729",
   "metadata": {},
   "outputs": [
    {
     "data": {
      "text/plain": [
       "2411132768128"
      ]
     },
     "execution_count": 78,
     "metadata": {},
     "output_type": "execute_result"
    }
   ],
   "source": [
    "id(b)"
   ]
  },
  {
   "cell_type": "code",
   "execution_count": 72,
   "id": "191888be",
   "metadata": {},
   "outputs": [],
   "source": [
    "# Arithmetic\n",
    "# assignment\n",
    "# comparison\n",
    "# identity"
   ]
  },
  {
   "cell_type": "code",
   "execution_count": 81,
   "id": "b5efaf89",
   "metadata": {},
   "outputs": [
    {
     "data": {
      "text/plain": [
       "False"
      ]
     },
     "execution_count": 81,
     "metadata": {},
     "output_type": "execute_result"
    }
   ],
   "source": [
    "a = 765434567\n",
    "b = 765434567\n",
    "\n",
    "a is b"
   ]
  },
  {
   "cell_type": "code",
   "execution_count": 83,
   "id": "a0a949a8",
   "metadata": {},
   "outputs": [],
   "source": [
    "# membership op\n",
    "# in, not in"
   ]
  },
  {
   "cell_type": "code",
   "execution_count": 85,
   "id": "12b0da61",
   "metadata": {},
   "outputs": [
    {
     "data": {
      "text/plain": [
       "True"
      ]
     },
     "execution_count": 85,
     "metadata": {},
     "output_type": "execute_result"
    }
   ],
   "source": [
    "a = [1,2345,32,1354,567,5,543,46,57]\n",
    "\n",
    "32 in a"
   ]
  },
  {
   "cell_type": "code",
   "execution_count": 90,
   "id": "dad56d25",
   "metadata": {},
   "outputs": [
    {
     "data": {
      "text/plain": [
       "True"
      ]
     },
     "execution_count": 90,
     "metadata": {},
     "output_type": "execute_result"
    }
   ],
   "source": [
    "a = 'mohan'\n",
    "\n",
    "'han' in a"
   ]
  },
  {
   "cell_type": "code",
   "execution_count": 92,
   "id": "b5d912fd",
   "metadata": {},
   "outputs": [
    {
     "data": {
      "text/plain": [
       "False"
      ]
     },
     "execution_count": 92,
     "metadata": {},
     "output_type": "execute_result"
    }
   ],
   "source": [
    "a = (23,454,53,2454,56,7,(1,323,4,'mohan'))\n",
    "\n",
    "'mohan' in a"
   ]
  },
  {
   "cell_type": "code",
   "execution_count": 95,
   "id": "afb00090",
   "metadata": {},
   "outputs": [
    {
     "data": {
      "text/plain": [
       "True"
      ]
     },
     "execution_count": 95,
     "metadata": {},
     "output_type": "execute_result"
    }
   ],
   "source": [
    "a = [12,343,4,243,654,7]\n",
    "\n",
    "230 not in a"
   ]
  },
  {
   "cell_type": "code",
   "execution_count": 97,
   "id": "b07f20d0",
   "metadata": {},
   "outputs": [],
   "source": [
    "# logical op\n",
    "# and, or, not"
   ]
  },
  {
   "cell_type": "code",
   "execution_count": 98,
   "id": "49f31908",
   "metadata": {},
   "outputs": [
    {
     "data": {
      "text/plain": [
       "False"
      ]
     },
     "execution_count": 98,
     "metadata": {},
     "output_type": "execute_result"
    }
   ],
   "source": [
    "a  = 12\n",
    "b = 23\n",
    "c = 34\n",
    "d = 45\n",
    "\n",
    "a<b  and b>c  and c==d and d>c and b!=d\n",
    "# T         F         F        T       T  = F \n",
    "\n"
   ]
  },
  {
   "cell_type": "code",
   "execution_count": 99,
   "id": "b615df5d",
   "metadata": {},
   "outputs": [
    {
     "data": {
      "text/plain": [
       "True"
      ]
     },
     "execution_count": 99,
     "metadata": {},
     "output_type": "execute_result"
    }
   ],
   "source": [
    "a  = 12\n",
    "b = 23\n",
    "c = 34\n",
    "d = 45\n",
    "\n",
    "a<b  and b<c  and c!=d and d>c and b!=d\n",
    "# T         T         T        T       T  = T\n",
    "\n"
   ]
  },
  {
   "cell_type": "code",
   "execution_count": 105,
   "id": "81779fd5",
   "metadata": {},
   "outputs": [
    {
     "data": {
      "text/plain": [
       "True"
      ]
     },
     "execution_count": 105,
     "metadata": {},
     "output_type": "execute_result"
    }
   ],
   "source": [
    "# or\n",
    "\n",
    "a = [1,22,565]\n",
    "b = 4567\n",
    "c = 'ajay'\n",
    "d = 'Karan'\n",
    "\n",
    "(a is b) or (c < d) or (d > c) or (b == b)\n",
    "#    F            T         F          T  = T"
   ]
  },
  {
   "cell_type": "code",
   "execution_count": 102,
   "id": "d99e1763",
   "metadata": {},
   "outputs": [],
   "source": [
    "# (12+45-46)"
   ]
  },
  {
   "cell_type": "code",
   "execution_count": 106,
   "id": "df9053f1",
   "metadata": {},
   "outputs": [],
   "source": [
    "# ord('K')"
   ]
  },
  {
   "cell_type": "code",
   "execution_count": 107,
   "id": "8ff78e36",
   "metadata": {},
   "outputs": [],
   "source": [
    "# ord('a')"
   ]
  },
  {
   "cell_type": "code",
   "execution_count": 110,
   "id": "3e026b40",
   "metadata": {},
   "outputs": [
    {
     "name": "stdout",
     "output_type": "stream",
     "text": [
      "True\n"
     ]
    }
   ],
   "source": [
    "a = 12\n",
    "b = 34\n",
    "\n",
    "print(not(not(a<b)))"
   ]
  },
  {
   "cell_type": "code",
   "execution_count": 111,
   "id": "dae699fd",
   "metadata": {},
   "outputs": [],
   "source": [
    "# Bitwise op"
   ]
  },
  {
   "cell_type": "code",
   "execution_count": 112,
   "id": "f5a7ccc7",
   "metadata": {},
   "outputs": [],
   "source": [
    "# logical\n",
    "# # bit zero 0,1"
   ]
  },
  {
   "cell_type": "code",
   "execution_count": 113,
   "id": "a32b5cf4",
   "metadata": {},
   "outputs": [
    {
     "data": {
      "text/plain": [
       "'0b1100'"
      ]
     },
     "execution_count": 113,
     "metadata": {},
     "output_type": "execute_result"
    }
   ],
   "source": [
    "bin(12)"
   ]
  },
  {
   "cell_type": "code",
   "execution_count": 114,
   "id": "e78ff94d",
   "metadata": {},
   "outputs": [
    {
     "data": {
      "text/plain": [
       "'0b10100'"
      ]
     },
     "execution_count": 114,
     "metadata": {},
     "output_type": "execute_result"
    }
   ],
   "source": [
    "bin(20)"
   ]
  },
  {
   "cell_type": "code",
   "execution_count": 115,
   "id": "8655b1b2",
   "metadata": {},
   "outputs": [],
   "source": [
    "# and:- &\n",
    "# or:- |\n",
    "# not:- ~\n",
    "# xor:- ^\n",
    "# left shift: <<\n",
    "# right shift: >>"
   ]
  },
  {
   "cell_type": "code",
   "execution_count": 117,
   "id": "88c98573",
   "metadata": {
    "scrolled": true
   },
   "outputs": [
    {
     "data": {
      "text/plain": [
       "'0b1101'"
      ]
     },
     "execution_count": 117,
     "metadata": {},
     "output_type": "execute_result"
    }
   ],
   "source": [
    "bin(13)"
   ]
  },
  {
   "cell_type": "code",
   "execution_count": 120,
   "id": "ef4a2ea2",
   "metadata": {},
   "outputs": [
    {
     "data": {
      "text/plain": [
       "12"
      ]
     },
     "execution_count": 120,
     "metadata": {},
     "output_type": "execute_result"
    }
   ],
   "source": [
    "int('1100',2)"
   ]
  },
  {
   "cell_type": "code",
   "execution_count": 118,
   "id": "e4680370",
   "metadata": {},
   "outputs": [
    {
     "name": "stdout",
     "output_type": "stream",
     "text": [
      "12\n"
     ]
    }
   ],
   "source": [
    "a = 12    # 1100\n",
    "b = 13    # 1101\n",
    "          # 1100\n",
    "         \n",
    "print(a & b)\n"
   ]
  },
  {
   "cell_type": "code",
   "execution_count": 122,
   "id": "b7ace3a9",
   "metadata": {},
   "outputs": [
    {
     "data": {
      "text/plain": [
       "'0b11101010'"
      ]
     },
     "execution_count": 122,
     "metadata": {},
     "output_type": "execute_result"
    }
   ],
   "source": [
    "bin(234)"
   ]
  },
  {
   "cell_type": "code",
   "execution_count": 123,
   "id": "4e571157",
   "metadata": {},
   "outputs": [
    {
     "data": {
      "text/plain": [
       "34"
      ]
     },
     "execution_count": 123,
     "metadata": {},
     "output_type": "execute_result"
    }
   ],
   "source": [
    "int('00100010',2)"
   ]
  },
  {
   "cell_type": "code",
   "execution_count": 124,
   "id": "0378cf67",
   "metadata": {},
   "outputs": [
    {
     "name": "stdout",
     "output_type": "stream",
     "text": [
      "34\n"
     ]
    }
   ],
   "source": [
    "a = 55    # 00110111\n",
    "b = 234   # 11101010\n",
    "          # 00100010\n",
    "         \n",
    "print(a & b)\n"
   ]
  },
  {
   "cell_type": "code",
   "execution_count": 125,
   "id": "d9c3bee8",
   "metadata": {},
   "outputs": [
    {
     "data": {
      "text/plain": [
       "255"
      ]
     },
     "execution_count": 125,
     "metadata": {},
     "output_type": "execute_result"
    }
   ],
   "source": [
    "int('11111111',2)"
   ]
  },
  {
   "cell_type": "code",
   "execution_count": 126,
   "id": "7a5b89f8",
   "metadata": {},
   "outputs": [
    {
     "name": "stdout",
     "output_type": "stream",
     "text": [
      "255\n"
     ]
    }
   ],
   "source": [
    "a = 55    # 00110111\n",
    "b = 234   # 11101010\n",
    "          # 11111111\n",
    "         \n",
    "print(a | b)\n"
   ]
  },
  {
   "cell_type": "code",
   "execution_count": 128,
   "id": "d6fdda60",
   "metadata": {},
   "outputs": [
    {
     "data": {
      "text/plain": [
       "221"
      ]
     },
     "execution_count": 128,
     "metadata": {},
     "output_type": "execute_result"
    }
   ],
   "source": [
    "int('11011101',2)"
   ]
  },
  {
   "cell_type": "code",
   "execution_count": 129,
   "id": "db6cfb51",
   "metadata": {},
   "outputs": [
    {
     "name": "stdout",
     "output_type": "stream",
     "text": [
      "221\n"
     ]
    }
   ],
   "source": [
    "a = 55    # 00110111\n",
    "b = 234   # 11101010\n",
    "          # 11011101\n",
    "          \n",
    "print(a ^ b)"
   ]
  },
  {
   "cell_type": "code",
   "execution_count": 134,
   "id": "215f2edf",
   "metadata": {},
   "outputs": [
    {
     "name": "stdout",
     "output_type": "stream",
     "text": [
      "21\n"
     ]
    }
   ],
   "source": [
    "# \n",
    "a = -22\n",
    "\n",
    "\n",
    "print(~a)"
   ]
  },
  {
   "cell_type": "code",
   "execution_count": 135,
   "id": "78a34f04",
   "metadata": {},
   "outputs": [],
   "source": [
    "# # left shift\n",
    "# right shift"
   ]
  },
  {
   "cell_type": "code",
   "execution_count": 137,
   "id": "6a671779",
   "metadata": {},
   "outputs": [
    {
     "data": {
      "text/plain": [
       "92"
      ]
     },
     "execution_count": 137,
     "metadata": {},
     "output_type": "execute_result"
    }
   ],
   "source": [
    "a = 23\n",
    "a<<2"
   ]
  },
  {
   "cell_type": "code",
   "execution_count": 138,
   "id": "a8a2f9e3",
   "metadata": {},
   "outputs": [
    {
     "data": {
      "text/plain": [
       "'0b1100'"
      ]
     },
     "execution_count": 138,
     "metadata": {},
     "output_type": "execute_result"
    }
   ],
   "source": [
    "bin(12)"
   ]
  },
  {
   "cell_type": "code",
   "execution_count": 143,
   "id": "eaf41182",
   "metadata": {},
   "outputs": [
    {
     "name": "stdout",
     "output_type": "stream",
     "text": [
      "384\n"
     ]
    }
   ],
   "source": [
    "a = 12   #110000\n",
    "print(a<<5)"
   ]
  },
  {
   "cell_type": "code",
   "execution_count": 142,
   "id": "b474c2b6",
   "metadata": {},
   "outputs": [
    {
     "data": {
      "text/plain": [
       "384"
      ]
     },
     "execution_count": 142,
     "metadata": {},
     "output_type": "execute_result"
    }
   ],
   "source": [
    "12*2*2*2*2*2"
   ]
  },
  {
   "cell_type": "code",
   "execution_count": 150,
   "id": "ad3f6521",
   "metadata": {},
   "outputs": [
    {
     "name": "stdout",
     "output_type": "stream",
     "text": [
      "28\n"
     ]
    }
   ],
   "source": [
    "a = 456  #1100\n",
    "print(a>>4)"
   ]
  },
  {
   "cell_type": "code",
   "execution_count": 149,
   "id": "f512f540",
   "metadata": {},
   "outputs": [
    {
     "data": {
      "text/plain": [
       "28"
      ]
     },
     "execution_count": 149,
     "metadata": {},
     "output_type": "execute_result"
    }
   ],
   "source": [
    "57//2"
   ]
  },
  {
   "cell_type": "code",
   "execution_count": null,
   "id": "52699676",
   "metadata": {},
   "outputs": [],
   "source": []
  }
 ],
 "metadata": {
  "kernelspec": {
   "display_name": "Python 3 (ipykernel)",
   "language": "python",
   "name": "python3"
  },
  "language_info": {
   "codemirror_mode": {
    "name": "ipython",
    "version": 3
   },
   "file_extension": ".py",
   "mimetype": "text/x-python",
   "name": "python",
   "nbconvert_exporter": "python",
   "pygments_lexer": "ipython3",
   "version": "3.11.3"
  }
 },
 "nbformat": 4,
 "nbformat_minor": 5
}
