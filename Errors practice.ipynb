{
 "cells": [
  {
   "cell_type": "code",
   "execution_count": 1,
   "id": "7dac5d6e",
   "metadata": {},
   "outputs": [
    {
     "ename": "ValueError",
     "evalue": "invalid literal for int() with base 10: 'mahima'",
     "output_type": "error",
     "traceback": [
      "\u001b[1;31m---------------------------------------------------------------------------\u001b[0m",
      "\u001b[1;31mValueError\u001b[0m                                Traceback (most recent call last)",
      "Cell \u001b[1;32mIn[1], line 2\u001b[0m\n\u001b[0;32m      1\u001b[0m a \u001b[38;5;241m=\u001b[39m \u001b[38;5;124m'\u001b[39m\u001b[38;5;124mmahima\u001b[39m\u001b[38;5;124m'\u001b[39m\n\u001b[1;32m----> 2\u001b[0m \u001b[38;5;28mint\u001b[39m(a)\n",
      "\u001b[1;31mValueError\u001b[0m: invalid literal for int() with base 10: 'mahima'"
     ]
    }
   ],
   "source": [
    "a = 'mahima'\n",
    "int(a)"
   ]
  },
  {
   "cell_type": "code",
   "execution_count": 2,
   "id": "cb99619b",
   "metadata": {},
   "outputs": [
    {
     "data": {
      "text/plain": [
       "True"
      ]
     },
     "execution_count": 2,
     "metadata": {},
     "output_type": "execute_result"
    }
   ],
   "source": [
    "a = 13\n",
    "bool(a)"
   ]
  },
  {
   "cell_type": "code",
   "execution_count": 3,
   "id": "5e93695c",
   "metadata": {},
   "outputs": [
    {
     "data": {
      "text/plain": [
       "False"
      ]
     },
     "execution_count": 3,
     "metadata": {},
     "output_type": "execute_result"
    }
   ],
   "source": [
    "s = 0\n",
    "bool(s)"
   ]
  },
  {
   "cell_type": "code",
   "execution_count": 4,
   "id": "44b514ad",
   "metadata": {},
   "outputs": [
    {
     "data": {
      "text/plain": [
       "False"
      ]
     },
     "execution_count": 4,
     "metadata": {},
     "output_type": "execute_result"
    }
   ],
   "source": [
    "d = None\n",
    "bool(d)"
   ]
  },
  {
   "cell_type": "code",
   "execution_count": 5,
   "id": "93dd572f",
   "metadata": {},
   "outputs": [
    {
     "data": {
      "text/plain": [
       "True"
      ]
     },
     "execution_count": 5,
     "metadata": {},
     "output_type": "execute_result"
    }
   ],
   "source": [
    "f = [1,234,5356]\n",
    "bool(f)"
   ]
  },
  {
   "cell_type": "code",
   "execution_count": 6,
   "id": "561b6d91",
   "metadata": {},
   "outputs": [
    {
     "data": {
      "text/plain": [
       "True"
      ]
     },
     "execution_count": 6,
     "metadata": {},
     "output_type": "execute_result"
    }
   ],
   "source": [
    "b = 'jvbfdjkvn'\n",
    "bool(b)"
   ]
  },
  {
   "cell_type": "code",
   "execution_count": 8,
   "id": "102a1fb2",
   "metadata": {},
   "outputs": [
    {
     "data": {
      "text/plain": [
       "True"
      ]
     },
     "execution_count": 8,
     "metadata": {},
     "output_type": "execute_result"
    }
   ],
   "source": [
    "g = -87654\n",
    "bool(g)"
   ]
  },
  {
   "cell_type": "code",
   "execution_count": 17,
   "id": "cb25049e",
   "metadata": {},
   "outputs": [
    {
     "ename": "TypeError",
     "evalue": "'float' object is not iterable",
     "output_type": "error",
     "traceback": [
      "\u001b[1;31m---------------------------------------------------------------------------\u001b[0m",
      "\u001b[1;31mTypeError\u001b[0m                                 Traceback (most recent call last)",
      "Cell \u001b[1;32mIn[17], line 3\u001b[0m\n\u001b[0;32m      1\u001b[0m s \u001b[38;5;241m=\u001b[39m \u001b[38;5;241m89.765\u001b[39m\n\u001b[1;32m----> 3\u001b[0m \u001b[38;5;28mlist\u001b[39m(s)\n",
      "\u001b[1;31mTypeError\u001b[0m: 'float' object is not iterable"
     ]
    }
   ],
   "source": [
    "s = 89.765\n",
    "\n",
    "list(s)"
   ]
  },
  {
   "cell_type": "code",
   "execution_count": 18,
   "id": "cffc5786",
   "metadata": {},
   "outputs": [
    {
     "data": {
      "text/plain": [
       "'456.567'"
      ]
     },
     "execution_count": 18,
     "metadata": {},
     "output_type": "execute_result"
    }
   ],
   "source": [
    "f = 456.567\n",
    "str(f)"
   ]
  },
  {
   "cell_type": "code",
   "execution_count": 23,
   "id": "8f77f834",
   "metadata": {},
   "outputs": [
    {
     "name": "stdout",
     "output_type": "stream",
     "text": [
      "3456.456\n"
     ]
    }
   ],
   "source": [
    "f = 3456.456\n",
    "\n",
    "print(str(f))"
   ]
  },
  {
   "cell_type": "code",
   "execution_count": 24,
   "id": "3d3e14e7",
   "metadata": {},
   "outputs": [
    {
     "ename": "TypeError",
     "evalue": "int() argument must be a string, a bytes-like object or a real number, not 'tuple'",
     "output_type": "error",
     "traceback": [
      "\u001b[1;31m---------------------------------------------------------------------------\u001b[0m",
      "\u001b[1;31mTypeError\u001b[0m                                 Traceback (most recent call last)",
      "Cell \u001b[1;32mIn[24], line 3\u001b[0m\n\u001b[0;32m      1\u001b[0m f \u001b[38;5;241m=\u001b[39m \u001b[38;5;241m35.346\u001b[39m,\u001b[38;5;241m23\u001b[39m,\u001b[38;5;241m45\u001b[39m,\u001b[38;5;241m4432\u001b[39m,\u001b[38;5;241m434\u001b[39m,\u001b[38;5;241m65\u001b[39m\n\u001b[1;32m----> 3\u001b[0m \u001b[38;5;28mint\u001b[39m(f)\n",
      "\u001b[1;31mTypeError\u001b[0m: int() argument must be a string, a bytes-like object or a real number, not 'tuple'"
     ]
    }
   ],
   "source": [
    "f = 35.346,23,45,4432,434,65\n",
    "\n",
    "int(f)"
   ]
  },
  {
   "cell_type": "code",
   "execution_count": 26,
   "id": "65a3e2f0",
   "metadata": {},
   "outputs": [],
   "source": [
    "\n",
    "g = '[12,43,5,32243,46]'"
   ]
  },
  {
   "cell_type": "code",
   "execution_count": 27,
   "id": "06b5e012",
   "metadata": {},
   "outputs": [
    {
     "data": {
      "text/plain": [
       "'[12,43,5,32243,46]'"
      ]
     },
     "execution_count": 27,
     "metadata": {},
     "output_type": "execute_result"
    }
   ],
   "source": [
    "g"
   ]
  },
  {
   "cell_type": "code",
   "execution_count": 30,
   "id": "8e66d95b",
   "metadata": {},
   "outputs": [
    {
     "name": "stdout",
     "output_type": "stream",
     "text": [
      "True <class 'str'>\n"
     ]
    }
   ],
   "source": [
    "g = True\n",
    "\n",
    "print(str(g),type(str(g)))"
   ]
  },
  {
   "cell_type": "code",
   "execution_count": 32,
   "id": "f9c198b6",
   "metadata": {},
   "outputs": [
    {
     "data": {
      "text/plain": [
       "{'Name': 2345}"
      ]
     },
     "execution_count": 32,
     "metadata": {},
     "output_type": "execute_result"
    }
   ],
   "source": [
    "d = (('Name',2345),)\n",
    "\n",
    "dict(d)"
   ]
  },
  {
   "cell_type": "code",
   "execution_count": 33,
   "id": "1f39b68d",
   "metadata": {},
   "outputs": [],
   "source": [
    "g = {'Name':'Ajay','Age':23,'Class':12}"
   ]
  },
  {
   "cell_type": "code",
   "execution_count": 36,
   "id": "6fbaf3c7",
   "metadata": {},
   "outputs": [
    {
     "data": {
      "text/plain": [
       "{'Age', 'Class', 'Name'}"
      ]
     },
     "execution_count": 36,
     "metadata": {},
     "output_type": "execute_result"
    }
   ],
   "source": [
    "list(g)\n",
    "\n",
    "tuple(g)\n",
    "\n",
    "set(g)"
   ]
  },
  {
   "cell_type": "code",
   "execution_count": 37,
   "id": "295fd1c3",
   "metadata": {},
   "outputs": [],
   "source": [
    "# how to write multiple statements in one line"
   ]
  },
  {
   "cell_type": "code",
   "execution_count": 39,
   "id": "653828fc",
   "metadata": {},
   "outputs": [],
   "source": [
    "a = 234;b = 'Mohan';c = [21,43,46,568];d = {1,243,6}"
   ]
  },
  {
   "cell_type": "code",
   "execution_count": 41,
   "id": "7f66d1dc",
   "metadata": {},
   "outputs": [
    {
     "name": "stdout",
     "output_type": "stream",
     "text": [
      "[21, 43, 46, 568]\n"
     ]
    }
   ],
   "source": [
    "print(c)"
   ]
  },
  {
   "cell_type": "code",
   "execution_count": 42,
   "id": "a6a8c084",
   "metadata": {},
   "outputs": [],
   "source": [
    "# how to declare same values to different variables"
   ]
  },
  {
   "cell_type": "code",
   "execution_count": 44,
   "id": "7ea162c3",
   "metadata": {},
   "outputs": [
    {
     "data": {
      "text/plain": [
       "24"
      ]
     },
     "execution_count": 44,
     "metadata": {},
     "output_type": "execute_result"
    }
   ],
   "source": [
    "a = b = c = d = e = 24\n",
    "a"
   ]
  },
  {
   "cell_type": "code",
   "execution_count": 46,
   "id": "a3f3f1c5",
   "metadata": {},
   "outputs": [],
   "source": [
    "# packing and unpacking concept"
   ]
  },
  {
   "cell_type": "code",
   "execution_count": 48,
   "id": "14333b09",
   "metadata": {},
   "outputs": [],
   "source": [
    "var = [1,2,3,4,5,56]"
   ]
  },
  {
   "cell_type": "code",
   "execution_count": 53,
   "id": "84f40c92",
   "metadata": {},
   "outputs": [],
   "source": [
    "# unpacking\n",
    "a,b,c,d,e,f = [1,2,3,4,5,56]"
   ]
  },
  {
   "cell_type": "code",
   "execution_count": 58,
   "id": "125d6aed",
   "metadata": {},
   "outputs": [],
   "source": [
    "names = ['Ajay','karan','Nayan','Mohan','Komal']\n",
    "s1,s2,s3,s4,s5 = names"
   ]
  },
  {
   "cell_type": "code",
   "execution_count": 56,
   "id": "e02553bc",
   "metadata": {},
   "outputs": [
    {
     "data": {
      "text/plain": [
       "'karan'"
      ]
     },
     "execution_count": 56,
     "metadata": {},
     "output_type": "execute_result"
    }
   ],
   "source": [
    "s2"
   ]
  },
  {
   "cell_type": "code",
   "execution_count": 60,
   "id": "2dbf3a1f",
   "metadata": {},
   "outputs": [
    {
     "ename": "ValueError",
     "evalue": "not enough values to unpack (expected 4, got 3)",
     "output_type": "error",
     "traceback": [
      "\u001b[1;31m---------------------------------------------------------------------------\u001b[0m",
      "\u001b[1;31mValueError\u001b[0m                                Traceback (most recent call last)",
      "Cell \u001b[1;32mIn[60], line 1\u001b[0m\n\u001b[1;32m----> 1\u001b[0m a,b,f,g \u001b[38;5;241m=\u001b[39m \u001b[38;5;241m3\u001b[39m,\u001b[38;5;241m4\u001b[39m,\u001b[38;5;241m5\u001b[39m\n",
      "\u001b[1;31mValueError\u001b[0m: not enough values to unpack (expected 4, got 3)"
     ]
    }
   ],
   "source": [
    "a,b,f,g = 3,4,5"
   ]
  },
  {
   "cell_type": "code",
   "execution_count": 62,
   "id": "b54e159a",
   "metadata": {},
   "outputs": [],
   "source": [
    "a,b,c,d,e = 'Mohan'"
   ]
  },
  {
   "cell_type": "code",
   "execution_count": 64,
   "id": "b31136ac",
   "metadata": {},
   "outputs": [
    {
     "data": {
      "text/plain": [
       "'o'"
      ]
     },
     "execution_count": 64,
     "metadata": {},
     "output_type": "execute_result"
    }
   ],
   "source": [
    "b"
   ]
  },
  {
   "cell_type": "code",
   "execution_count": 65,
   "id": "03c474d9",
   "metadata": {},
   "outputs": [],
   "source": [
    "s1,s2,s3,s4,s5 = names"
   ]
  },
  {
   "cell_type": "code",
   "execution_count": 74,
   "id": "9a659e46",
   "metadata": {},
   "outputs": [],
   "source": [
    "students = [s1,s2,s3,s4,s5]"
   ]
  },
  {
   "cell_type": "code",
   "execution_count": 75,
   "id": "8d4028d1",
   "metadata": {},
   "outputs": [
    {
     "data": {
      "text/plain": [
       "['Ajay', 'karan', 'Nayan', 'Mohan', 'Komal']"
      ]
     },
     "execution_count": 75,
     "metadata": {},
     "output_type": "execute_result"
    }
   ],
   "source": [
    "students"
   ]
  },
  {
   "cell_type": "code",
   "execution_count": 79,
   "id": "736d7271",
   "metadata": {},
   "outputs": [],
   "source": []
  },
  {
   "cell_type": "code",
   "execution_count": 80,
   "id": "8fce822b",
   "metadata": {},
   "outputs": [
    {
     "data": {
      "text/plain": [
       "['Ajay', 'karan', 'Nayan', 'Mohan', 'Komal']"
      ]
     },
     "execution_count": 80,
     "metadata": {},
     "output_type": "execute_result"
    }
   ],
   "source": [
    "students"
   ]
  },
  {
   "cell_type": "code",
   "execution_count": 81,
   "id": "e876c965",
   "metadata": {},
   "outputs": [
    {
     "data": {
      "text/plain": [
       "('Ajay', 'karan', 'Nayan', 'Mohan', 'Komal')"
      ]
     },
     "execution_count": 81,
     "metadata": {},
     "output_type": "execute_result"
    }
   ],
   "source": [
    "(s1,s2,s3,s4,s5)"
   ]
  },
  {
   "cell_type": "code",
   "execution_count": null,
   "id": "8d288719",
   "metadata": {},
   "outputs": [],
   "source": [
    "list(('Ajay', 'karan', 'Nayan', 'Mohan', 'Komal'))"
   ]
  },
  {
   "cell_type": "code",
   "execution_count": 82,
   "id": "b5ef2bdd",
   "metadata": {},
   "outputs": [],
   "source": [
    "# int()\n",
    "# list()\n",
    "# str()"
   ]
  },
  {
   "cell_type": "markdown",
   "id": "10c08bed",
   "metadata": {},
   "source": [
    "# STRING TOPIC"
   ]
  },
  {
   "cell_type": "code",
   "execution_count": 83,
   "id": "5210926c",
   "metadata": {},
   "outputs": [
    {
     "name": "stdout",
     "output_type": "stream",
     "text": [
      "Ajay <class 'str'>\n"
     ]
    }
   ],
   "source": [
    "# m1\n",
    "a = 'Ajay'\n",
    "print(a,type(a))"
   ]
  },
  {
   "cell_type": "code",
   "execution_count": 86,
   "id": "7862433f",
   "metadata": {},
   "outputs": [
    {
     "name": "stdout",
     "output_type": "stream",
     "text": [
      "Komal's House <class 'str'>\n"
     ]
    }
   ],
   "source": [
    "# m2\n",
    "\n",
    "s = \"Komal's House\"\n",
    "print(s,type(s))"
   ]
  },
  {
   "cell_type": "code",
   "execution_count": 87,
   "id": "af566833",
   "metadata": {},
   "outputs": [
    {
     "name": "stdout",
     "output_type": "stream",
     "text": [
      "Komal's House <class 'str'>\n"
     ]
    }
   ],
   "source": [
    "# m2\n",
    "\n",
    "s = 'Komal\\'s House'\n",
    "print(s,type(s))"
   ]
  },
  {
   "cell_type": "code",
   "execution_count": 90,
   "id": "4d30ce90",
   "metadata": {},
   "outputs": [
    {
     "name": "stdout",
     "output_type": "stream",
     "text": [
      "\"Everything you've ever wanted is sitting on the other side of fear.\"\n"
     ]
    }
   ],
   "source": [
    "print('\"Everything you\\'ve ever wanted is sitting on the other side of fear.\"')"
   ]
  },
  {
   "cell_type": "code",
   "execution_count": 92,
   "id": "a06d619e",
   "metadata": {},
   "outputs": [
    {
     "name": "stdout",
     "output_type": "stream",
     "text": [
      "\"Everything you've ever wanted is sitting on the other side of fear.\"\n"
     ]
    }
   ],
   "source": [
    "print('''\"Everything you've ever wanted is sitting on the other side of fear.\"''')"
   ]
  },
  {
   "cell_type": "code",
   "execution_count": 95,
   "id": "cc108e24",
   "metadata": {},
   "outputs": [
    {
     "name": "stdout",
     "output_type": "stream",
     "text": [
      "Twinkle, twinkle, little star,\n",
      "How I wonder what you are!\n",
      "Up above the world so high,\n",
      "Like a diamond in the sky.\n",
      "\n",
      "                                                 When the blazing sun is gone,\n",
      "When he nothing shines upon,\n",
      "Then you show your little light,\n",
      "Twinkle, twinkle, all the night.\n"
     ]
    }
   ],
   "source": [
    "print('''Twinkle, twinkle, little star,\n",
    "How I wonder what you are!\n",
    "Up above the world so high,\n",
    "Like a diamond in the sky.\n",
    "\n",
    "                                                 When the blazing sun is gone,\n",
    "When he nothing shines upon,\n",
    "Then you show your little light,\n",
    "Twinkle, twinkle, all the night.''')"
   ]
  },
  {
   "cell_type": "code",
   "execution_count": 96,
   "id": "2ac4f289",
   "metadata": {},
   "outputs": [
    {
     "name": "stdout",
     "output_type": "stream",
     "text": [
      "Twinkle, twinkle, little star,\n",
      "How I wonder what you are!\n",
      "Up above the world so high,\n",
      "Like a diamond in the sky.\n",
      "\n",
      "                                                 When the blazing sun is gone,\n",
      "When he nothing shines upon,\n",
      "Then you show your little light,\n",
      "Twinkle, twinkle, all the night\n"
     ]
    }
   ],
   "source": [
    "print(\"\"\"Twinkle, twinkle, little star,\n",
    "How I wonder what you are!\n",
    "Up above the world so high,\n",
    "Like a diamond in the sky.\n",
    "\n",
    "                                                 When the blazing sun is gone,\n",
    "When he nothing shines upon,\n",
    "Then you show your little light,\n",
    "Twinkle, twinkle, all the night\"\"\")"
   ]
  },
  {
   "cell_type": "code",
   "execution_count": 97,
   "id": "b1f13d02",
   "metadata": {},
   "outputs": [],
   "source": [
    "# string:- as an index"
   ]
  },
  {
   "cell_type": "code",
   "execution_count": 99,
   "id": "edb2dc9d",
   "metadata": {},
   "outputs": [],
   "source": [
    "a = 'Mohan'\n",
    "#    01234 \n",
    "\n",
    "\n",
    "# a1,a2,a3,a4,a5 = a"
   ]
  },
  {
   "cell_type": "code",
   "execution_count": 102,
   "id": "23d5feba",
   "metadata": {},
   "outputs": [
    {
     "data": {
      "text/plain": [
       "'ha'"
      ]
     },
     "execution_count": 102,
     "metadata": {},
     "output_type": "execute_result"
    }
   ],
   "source": [
    "a[2]+a[3]"
   ]
  },
  {
   "cell_type": "code",
   "execution_count": 103,
   "id": "2be0d75c",
   "metadata": {},
   "outputs": [
    {
     "data": {
      "text/plain": [
       "'Mr Karan'"
      ]
     },
     "execution_count": 103,
     "metadata": {},
     "output_type": "execute_result"
    }
   ],
   "source": [
    "a = 'Karan'\n",
    "\n",
    "b = 'Mr '\n",
    "\n",
    "b+a"
   ]
  },
  {
   "cell_type": "code",
   "execution_count": 104,
   "id": "d1e80e68",
   "metadata": {},
   "outputs": [
    {
     "data": {
      "text/plain": [
       "'Karan'"
      ]
     },
     "execution_count": 104,
     "metadata": {},
     "output_type": "execute_result"
    }
   ],
   "source": [
    "a"
   ]
  },
  {
   "cell_type": "code",
   "execution_count": 105,
   "id": "b70d7dcc",
   "metadata": {},
   "outputs": [
    {
     "name": "stdout",
     "output_type": "stream",
     "text": [
      "K\n",
      "a\n",
      "r\n",
      "a\n",
      "n\n"
     ]
    }
   ],
   "source": [
    "print(a[0])\n",
    "print(a[1])\n",
    "print(a[2])\n",
    "print(a[3])\n",
    "print(a[4])"
   ]
  },
  {
   "cell_type": "code",
   "execution_count": null,
   "id": "e9e59216",
   "metadata": {},
   "outputs": [],
   "source": []
  }
 ],
 "metadata": {
  "kernelspec": {
   "display_name": "Python 3 (ipykernel)",
   "language": "python",
   "name": "python3"
  },
  "language_info": {
   "codemirror_mode": {
    "name": "ipython",
    "version": 3
   },
   "file_extension": ".py",
   "mimetype": "text/x-python",
   "name": "python",
   "nbconvert_exporter": "python",
   "pygments_lexer": "ipython3",
   "version": "3.11.3"
  }
 },
 "nbformat": 4,
 "nbformat_minor": 5
}
