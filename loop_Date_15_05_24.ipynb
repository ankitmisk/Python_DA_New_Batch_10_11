{
 "cells": [
  {
   "cell_type": "code",
   "execution_count": 3,
   "id": "e45617ac",
   "metadata": {},
   "outputs": [],
   "source": [
    "# # # conditional programming\n",
    "# # if \n",
    "# # elif\n",
    "# # else\n",
    "\n",
    "\n",
    "\n",
    "# # Flow control:- Loops\n",
    "# for loop\n",
    "# while loop\n",
    "# infinite loop\n",
    "\n",
    "\n",
    "# for each\n",
    "# do while"
   ]
  },
  {
   "cell_type": "code",
   "execution_count": 4,
   "id": "f79b94e9",
   "metadata": {},
   "outputs": [],
   "source": [
    "# ()\n",
    "# []\n",
    "# {}\n",
    "# ''\n",
    "# \"\""
   ]
  },
  {
   "cell_type": "code",
   "execution_count": 5,
   "id": "c5bbc9c0",
   "metadata": {},
   "outputs": [],
   "source": [
    "# for loop:- when we know the number of iterations()\n",
    "# iterables:- that can be iterate(more than ones)\n",
    "\n",
    "# while loop:-it depends on the given condition"
   ]
  },
  {
   "cell_type": "code",
   "execution_count": 6,
   "id": "870ad747",
   "metadata": {},
   "outputs": [
    {
     "name": "stdout",
     "output_type": "stream",
     "text": [
      "\n",
      "Here is a list of the Python keywords.  Enter any keyword to get more help.\n",
      "\n",
      "False               class               from                or\n",
      "None                continue            global              pass\n",
      "True                def                 if                  raise\n",
      "and                 del                 import              return\n",
      "as                  elif                in                  try\n",
      "assert              else                is                  while\n",
      "async               except              lambda              with\n",
      "await               finally             nonlocal            yield\n",
      "break               for                 not                 \n",
      "\n"
     ]
    }
   ],
   "source": [
    "help('keywords')"
   ]
  },
  {
   "cell_type": "code",
   "execution_count": 11,
   "id": "1b3aed44",
   "metadata": {},
   "outputs": [
    {
     "name": "stdout",
     "output_type": "stream",
     "text": [
      "No Python documentation found for 'Not'.\n",
      "Use help() to get the interactive help utility.\n",
      "Use help(str) for help on the str class.\n"
     ]
    }
   ],
   "source": [
    "help('Not')"
   ]
  },
  {
   "cell_type": "code",
   "execution_count": 12,
   "id": "f1aa2a25",
   "metadata": {},
   "outputs": [],
   "source": [
    "# syntax of for loop"
   ]
  },
  {
   "cell_type": "code",
   "execution_count": 13,
   "id": "fb7a7a1a",
   "metadata": {},
   "outputs": [],
   "source": [
    "# for (temp_var/iterator) in tuple,list,str,set,dict,frozenset,"
   ]
  },
  {
   "cell_type": "code",
   "execution_count": 14,
   "id": "f9060508",
   "metadata": {},
   "outputs": [],
   "source": [
    "# not allowed:- int,complex,float,True,None"
   ]
  },
  {
   "cell_type": "code",
   "execution_count": 19,
   "id": "a479d077",
   "metadata": {},
   "outputs": [
    {
     "name": "stdout",
     "output_type": "stream",
     "text": [
      "Ajay\n",
      "Ravi\n",
      "Karan\n",
      "Laptop\n",
      "Job\n"
     ]
    },
    {
     "ename": "KeyboardInterrupt",
     "evalue": "",
     "output_type": "error",
     "traceback": [
      "\u001b[1;31m---------------------------------------------------------------------------\u001b[0m",
      "\u001b[1;31mKeyboardInterrupt\u001b[0m                         Traceback (most recent call last)",
      "Cell \u001b[1;32mIn[19], line 6\u001b[0m\n\u001b[0;32m      4\u001b[0m \u001b[38;5;28;01mfor\u001b[39;00m i \u001b[38;5;129;01min\u001b[39;00m [\u001b[38;5;124m'\u001b[39m\u001b[38;5;124mAjay\u001b[39m\u001b[38;5;124m'\u001b[39m,\u001b[38;5;124m'\u001b[39m\u001b[38;5;124mRavi\u001b[39m\u001b[38;5;124m'\u001b[39m,\u001b[38;5;124m'\u001b[39m\u001b[38;5;124mKaran\u001b[39m\u001b[38;5;124m'\u001b[39m,\u001b[38;5;124m'\u001b[39m\u001b[38;5;124mLaptop\u001b[39m\u001b[38;5;124m'\u001b[39m,\u001b[38;5;124m'\u001b[39m\u001b[38;5;124mJob\u001b[39m\u001b[38;5;124m'\u001b[39m,\u001b[38;5;124m'\u001b[39m\u001b[38;5;124mNoida\u001b[39m\u001b[38;5;124m'\u001b[39m]:\n\u001b[0;32m      5\u001b[0m     \u001b[38;5;28mprint\u001b[39m(i)\n\u001b[1;32m----> 6\u001b[0m     time\u001b[38;5;241m.\u001b[39msleep(\u001b[38;5;241m1\u001b[39m)\n",
      "\u001b[1;31mKeyboardInterrupt\u001b[0m: "
     ]
    }
   ],
   "source": [
    "import time\n",
    "\n",
    "\n",
    "for i in ['Ajay','Ravi','Karan','Laptop','Job','Noida']:\n",
    "    print(i)\n",
    "    time.sleep(1)"
   ]
  },
  {
   "cell_type": "code",
   "execution_count": 20,
   "id": "1e50c901",
   "metadata": {},
   "outputs": [
    {
     "name": "stdout",
     "output_type": "stream",
     "text": [
      "Ajay\n",
      "Ravi\n",
      "Karan\n",
      "Laptop\n",
      "Job\n",
      "Noida\n"
     ]
    }
   ],
   "source": [
    "import time\n",
    "\n",
    "\n",
    "data = ['Ajay','Ravi','Karan','Laptop','Job','Noida']\n",
    "\n",
    "for i in data:\n",
    "    print(i)\n",
    "    time.sleep(0.05)"
   ]
  },
  {
   "cell_type": "code",
   "execution_count": 21,
   "id": "f521eed4",
   "metadata": {},
   "outputs": [
    {
     "name": "stdout",
     "output_type": "stream",
     "text": [
      "Ajay\n",
      "Ravi\n",
      "Karan\n",
      "Laptop\n",
      "Job\n",
      "Noida\n"
     ]
    }
   ],
   "source": [
    "import time\n",
    "\n",
    "\n",
    "data = ('Ajay','Ravi','Karan','Laptop','Job','Noida')\n",
    "\n",
    "for i in data:\n",
    "    print(i)\n",
    "    time.sleep(0.05)"
   ]
  },
  {
   "cell_type": "code",
   "execution_count": 23,
   "id": "2bc59389",
   "metadata": {},
   "outputs": [
    {
     "name": "stdout",
     "output_type": "stream",
     "text": [
      "Ravi\n",
      "Noida\n",
      "Karan\n",
      "Job\n",
      "Ajay\n",
      "Laptop\n"
     ]
    }
   ],
   "source": [
    "import time\n",
    "\n",
    "\n",
    "data = {'Ajay','Ajay','Ravi','Karan','Laptop','Job','Noida'}\n",
    "\n",
    "for i in data:\n",
    "    print(i)\n",
    "    time.sleep(0.05)"
   ]
  },
  {
   "cell_type": "code",
   "execution_count": 24,
   "id": "304bf06e",
   "metadata": {},
   "outputs": [
    {
     "name": "stdout",
     "output_type": "stream",
     "text": [
      "Name\n",
      "Age\n",
      "Class\n",
      "Address\n"
     ]
    }
   ],
   "source": [
    "import time\n",
    "\n",
    "\n",
    "data = {'Name':'Ajay','Age':23,'Class':12,'Address':'Noida'}\n",
    "\n",
    "for i in data:\n",
    "    print(i)\n",
    "    time.sleep(0.05)"
   ]
  },
  {
   "cell_type": "code",
   "execution_count": 28,
   "id": "5528d826",
   "metadata": {},
   "outputs": [
    {
     "name": "stdout",
     "output_type": "stream",
     "text": [
      "W\n",
      "e\n",
      " \n",
      "a\n",
      "r\n",
      "e\n",
      " \n",
      "i\n",
      "n\n",
      " \n",
      "N\n",
      "o\n",
      "i\n",
      "d\n",
      "a\n"
     ]
    }
   ],
   "source": [
    "import time\n",
    "\n",
    "\n",
    "data = 'We are in Noida'\n",
    "\n",
    "for i in data:\n",
    "    print(i)\n",
    "    time.sleep(1)"
   ]
  },
  {
   "cell_type": "code",
   "execution_count": 29,
   "id": "80f14eda",
   "metadata": {},
   "outputs": [
    {
     "ename": "TypeError",
     "evalue": "'int' object is not iterable",
     "output_type": "error",
     "traceback": [
      "\u001b[1;31m---------------------------------------------------------------------------\u001b[0m",
      "\u001b[1;31mTypeError\u001b[0m                                 Traceback (most recent call last)",
      "Cell \u001b[1;32mIn[29], line 3\u001b[0m\n\u001b[0;32m      1\u001b[0m \u001b[38;5;66;03m# int,float,complex\u001b[39;00m\n\u001b[1;32m----> 3\u001b[0m \u001b[38;5;28;01mfor\u001b[39;00m i \u001b[38;5;129;01min\u001b[39;00m \u001b[38;5;241m123467\u001b[39m:\n\u001b[0;32m      4\u001b[0m     \u001b[38;5;28mprint\u001b[39m(i)\n",
      "\u001b[1;31mTypeError\u001b[0m: 'int' object is not iterable"
     ]
    }
   ],
   "source": [
    "# int,float,complex\n",
    "\n",
    "for i in 123467:\n",
    "    print(i)"
   ]
  },
  {
   "cell_type": "code",
   "execution_count": 31,
   "id": "a07ca5f3",
   "metadata": {},
   "outputs": [
    {
     "name": "stdout",
     "output_type": "stream",
     "text": [
      "1 <class 'str'>\n",
      "2 <class 'str'>\n",
      "3 <class 'str'>\n",
      "4 <class 'str'>\n",
      "6 <class 'str'>\n",
      "7 <class 'str'>\n"
     ]
    }
   ],
   "source": [
    "# int,float,complex\n",
    "\n",
    "for i in '123467':\n",
    "    print(i,type(i))"
   ]
  },
  {
   "cell_type": "code",
   "execution_count": 32,
   "id": "0c127803",
   "metadata": {},
   "outputs": [
    {
     "ename": "TypeError",
     "evalue": "'float' object is not iterable",
     "output_type": "error",
     "traceback": [
      "\u001b[1;31m---------------------------------------------------------------------------\u001b[0m",
      "\u001b[1;31mTypeError\u001b[0m                                 Traceback (most recent call last)",
      "Cell \u001b[1;32mIn[32], line 1\u001b[0m\n\u001b[1;32m----> 1\u001b[0m \u001b[38;5;28;01mfor\u001b[39;00m i \u001b[38;5;129;01min\u001b[39;00m \u001b[38;5;241m123467.87654\u001b[39m:\n\u001b[0;32m      2\u001b[0m     \u001b[38;5;28mprint\u001b[39m(i)\n",
      "\u001b[1;31mTypeError\u001b[0m: 'float' object is not iterable"
     ]
    }
   ],
   "source": [
    "for i in 123467.87654:\n",
    "    print(i)"
   ]
  },
  {
   "cell_type": "code",
   "execution_count": 33,
   "id": "ff47669c",
   "metadata": {},
   "outputs": [
    {
     "ename": "TypeError",
     "evalue": "'complex' object is not iterable",
     "output_type": "error",
     "traceback": [
      "\u001b[1;31m---------------------------------------------------------------------------\u001b[0m",
      "\u001b[1;31mTypeError\u001b[0m                                 Traceback (most recent call last)",
      "Cell \u001b[1;32mIn[33], line 1\u001b[0m\n\u001b[1;32m----> 1\u001b[0m \u001b[38;5;28;01mfor\u001b[39;00m i \u001b[38;5;129;01min\u001b[39;00m \u001b[38;5;241m123467\u001b[39m\u001b[38;5;241m-\u001b[39m\u001b[38;5;241m98\u001b[39mj:\n\u001b[0;32m      2\u001b[0m     \u001b[38;5;28mprint\u001b[39m(i)\n",
      "\u001b[1;31mTypeError\u001b[0m: 'complex' object is not iterable"
     ]
    }
   ],
   "source": [
    "for i in 123467-98j:\n",
    "    print(i)"
   ]
  },
  {
   "cell_type": "code",
   "execution_count": 34,
   "id": "576c6a09",
   "metadata": {},
   "outputs": [
    {
     "ename": "TypeError",
     "evalue": "'NoneType' object is not iterable",
     "output_type": "error",
     "traceback": [
      "\u001b[1;31m---------------------------------------------------------------------------\u001b[0m",
      "\u001b[1;31mTypeError\u001b[0m                                 Traceback (most recent call last)",
      "Cell \u001b[1;32mIn[34], line 1\u001b[0m\n\u001b[1;32m----> 1\u001b[0m \u001b[38;5;28;01mfor\u001b[39;00m i \u001b[38;5;129;01min\u001b[39;00m \u001b[38;5;28;01mNone\u001b[39;00m:\n\u001b[0;32m      2\u001b[0m     \u001b[38;5;28mprint\u001b[39m(i)\n",
      "\u001b[1;31mTypeError\u001b[0m: 'NoneType' object is not iterable"
     ]
    }
   ],
   "source": [
    "for i in None:\n",
    "    print(i)"
   ]
  },
  {
   "cell_type": "code",
   "execution_count": 35,
   "id": "de1b90e6",
   "metadata": {},
   "outputs": [
    {
     "ename": "TypeError",
     "evalue": "'bool' object is not iterable",
     "output_type": "error",
     "traceback": [
      "\u001b[1;31m---------------------------------------------------------------------------\u001b[0m",
      "\u001b[1;31mTypeError\u001b[0m                                 Traceback (most recent call last)",
      "Cell \u001b[1;32mIn[35], line 1\u001b[0m\n\u001b[1;32m----> 1\u001b[0m \u001b[38;5;28;01mfor\u001b[39;00m i \u001b[38;5;129;01min\u001b[39;00m \u001b[38;5;28;01mTrue\u001b[39;00m:\n\u001b[0;32m      2\u001b[0m     \u001b[38;5;28mprint\u001b[39m(i)\n",
      "\u001b[1;31mTypeError\u001b[0m: 'bool' object is not iterable"
     ]
    }
   ],
   "source": [
    "for i in True:\n",
    "    print(i)"
   ]
  },
  {
   "cell_type": "code",
   "execution_count": 40,
   "id": "58c983bc",
   "metadata": {},
   "outputs": [
    {
     "name": "stdout",
     "output_type": "stream",
     "text": [
      "['Ajay', 'Ravi', 'Karan', 'Mohan', 'Lucky']\n",
      "['Ajay', 'Ravi', 'Karan', 'Mohan', 'Lucky']\n",
      "['Ajay', 'Ravi', 'Karan', 'Mohan', 'Lucky']\n",
      "['Ajay', 'Ravi', 'Karan', 'Mohan', 'Lucky']\n",
      "['Ajay', 'Ravi', 'Karan', 'Mohan', 'Lucky']\n"
     ]
    }
   ],
   "source": [
    "students = ['Ajay','Ravi','Karan','Mohan','Lucky']\n",
    "\n",
    "for student in students:\n",
    "    print(students)"
   ]
  },
  {
   "cell_type": "code",
   "execution_count": 42,
   "id": "c987a3d2",
   "metadata": {},
   "outputs": [
    {
     "name": "stdout",
     "output_type": "stream",
     "text": [
      "1\n",
      "23\n",
      "4\n",
      "657\n"
     ]
    }
   ],
   "source": [
    "data = [1,23,4,657]\n",
    "for a1 in data:\n",
    "    print(a1)"
   ]
  },
  {
   "cell_type": "code",
   "execution_count": 44,
   "id": "9d9675d9",
   "metadata": {},
   "outputs": [
    {
     "name": "stdout",
     "output_type": "stream",
     "text": [
      "Ajay\n",
      "Ravi\n",
      "Karan\n",
      "Mohan\n",
      "Lucky\n"
     ]
    }
   ],
   "source": [
    "students = ['Ajay','Ravi','Karan','Mohan','Lucky']\n",
    "\n",
    "for Ajay in students:\n",
    "    print(Ajay)"
   ]
  },
  {
   "cell_type": "code",
   "execution_count": 45,
   "id": "ab25368c",
   "metadata": {},
   "outputs": [
    {
     "name": "stdout",
     "output_type": "stream",
     "text": [
      "r\n",
      "a\n",
      "h\n",
      "u\n",
      "l\n"
     ]
    }
   ],
   "source": [
    "rahul = 'rahul'\n",
    "\n",
    "for rahul in rahul:\n",
    "    print(rahul)"
   ]
  },
  {
   "cell_type": "code",
   "execution_count": 46,
   "id": "f2ecb69b",
   "metadata": {},
   "outputs": [
    {
     "data": {
      "text/plain": [
       "['Ajay', 'Ravi', 'Karan', 'Mohan', 'Lucky']"
      ]
     },
     "execution_count": 46,
     "metadata": {},
     "output_type": "execute_result"
    }
   ],
   "source": [
    "students"
   ]
  },
  {
   "cell_type": "code",
   "execution_count": 47,
   "id": "9aad7b54",
   "metadata": {},
   "outputs": [],
   "source": [
    "# ['@Ajay','@Ravi','@karan','@Mohan','@Lucky']"
   ]
  },
  {
   "cell_type": "code",
   "execution_count": 54,
   "id": "6a27c26e",
   "metadata": {},
   "outputs": [],
   "source": [
    "final_data = []\n",
    "\n",
    "\n",
    "for i in students:\n",
    "    final_data.append('#'+i+'_Noida')"
   ]
  },
  {
   "cell_type": "code",
   "execution_count": 55,
   "id": "1c46a59b",
   "metadata": {},
   "outputs": [
    {
     "name": "stdout",
     "output_type": "stream",
     "text": [
      "['#Ajay_Noida', '#Ravi_Noida', '#Karan_Noida', '#Mohan_Noida', '#Lucky_Noida']\n"
     ]
    }
   ],
   "source": [
    "print(final_data)"
   ]
  },
  {
   "cell_type": "code",
   "execution_count": 56,
   "id": "2f6f6639",
   "metadata": {},
   "outputs": [
    {
     "data": {
      "text/plain": [
       "['Ajay', 'Ravi', 'Karan', 'Mohan', 'Lucky']"
      ]
     },
     "execution_count": 56,
     "metadata": {},
     "output_type": "execute_result"
    }
   ],
   "source": [
    "students"
   ]
  },
  {
   "cell_type": "code",
   "execution_count": 57,
   "id": "362d4ba5",
   "metadata": {},
   "outputs": [
    {
     "data": {
      "text/plain": [
       "['#Ajay_Noida', '#Ravi_Noida', '#Karan_Noida', '#Mohan_Noida', '#Lucky_Noida']"
      ]
     },
     "execution_count": 57,
     "metadata": {},
     "output_type": "execute_result"
    }
   ],
   "source": [
    "final_data"
   ]
  },
  {
   "cell_type": "code",
   "execution_count": 61,
   "id": "601502ec",
   "metadata": {},
   "outputs": [],
   "source": [
    "trimmed_data = []\n",
    "\n",
    "\n",
    "for i in final_data:\n",
    "    trimmed_data.append(i.replace('#','').replace('_Noida',''))"
   ]
  },
  {
   "cell_type": "code",
   "execution_count": 62,
   "id": "cd7c3c09",
   "metadata": {},
   "outputs": [
    {
     "name": "stdout",
     "output_type": "stream",
     "text": [
      "['Ajay', 'Ravi', 'Karan', 'Mohan', 'Lucky']\n"
     ]
    }
   ],
   "source": [
    "print(trimmed_data)"
   ]
  },
  {
   "cell_type": "code",
   "execution_count": 66,
   "id": "aa2ed0b2",
   "metadata": {},
   "outputs": [
    {
     "name": "stdout",
     "output_type": "stream",
     "text": [
      "Even List: [12, 3434, 564, 342, 456, 786, 786, 854]\n",
      "Odd List: [43, 21, 743, 5, 637]\n"
     ]
    }
   ],
   "source": [
    "# \n",
    "\n",
    "data = [12,43,21,3434,564,342,456,786,743,5,786,854,637]\n",
    "\n",
    "even = []\n",
    "\n",
    "odd = []\n",
    "\n",
    "\n",
    "for i in data:\n",
    "    if i%2==0:\n",
    "        even.append(i)\n",
    "    else:\n",
    "        odd.append(i)\n",
    "        \n",
    "\n",
    "print('Even List:',even)\n",
    "print('Odd List:',odd)"
   ]
  },
  {
   "cell_type": "code",
   "execution_count": 67,
   "id": "6bd105d6",
   "metadata": {},
   "outputs": [],
   "source": [
    "# # # h/w\n",
    "\n",
    "\n",
    "# # a = ['ola','uber','adani','maruti','kia','tata']\n",
    "\n",
    "# # v = []\n",
    "# # c = []\n",
    "\n",
    "# # question\n",
    "\n",
    "# table = 2\n"
   ]
  },
  {
   "cell_type": "code",
   "execution_count": null,
   "id": "4a3d2b47",
   "metadata": {},
   "outputs": [],
   "source": []
  }
 ],
 "metadata": {
  "kernelspec": {
   "display_name": "Python 3 (ipykernel)",
   "language": "python",
   "name": "python3"
  },
  "language_info": {
   "codemirror_mode": {
    "name": "ipython",
    "version": 3
   },
   "file_extension": ".py",
   "mimetype": "text/x-python",
   "name": "python",
   "nbconvert_exporter": "python",
   "pygments_lexer": "ipython3",
   "version": "3.11.3"
  }
 },
 "nbformat": 4,
 "nbformat_minor": 5
}
