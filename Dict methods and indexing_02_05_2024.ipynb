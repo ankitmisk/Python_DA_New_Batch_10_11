{
 "cells": [
  {
   "cell_type": "code",
   "execution_count": 1,
   "id": "2a7aa594",
   "metadata": {},
   "outputs": [
    {
     "name": "stdout",
     "output_type": "stream",
     "text": [
      "{'Name': 'Ajay', 'Age': 23, 'Address': 'Noida'}\n"
     ]
    }
   ],
   "source": [
    "a = {'Name':'Ajay','Age':23,'Address':'Noida'}\n",
    "\n",
    "print(a)"
   ]
  },
  {
   "cell_type": "code",
   "execution_count": 3,
   "id": "79b5ae4e",
   "metadata": {},
   "outputs": [],
   "source": [
    "# 1>> dict does not support indexing, we can access value with the help of key"
   ]
  },
  {
   "cell_type": "code",
   "execution_count": 4,
   "id": "c675a435",
   "metadata": {},
   "outputs": [
    {
     "ename": "KeyError",
     "evalue": "0",
     "output_type": "error",
     "traceback": [
      "\u001b[1;31m---------------------------------------------------------------------------\u001b[0m",
      "\u001b[1;31mKeyError\u001b[0m                                  Traceback (most recent call last)",
      "Cell \u001b[1;32mIn[4], line 1\u001b[0m\n\u001b[1;32m----> 1\u001b[0m a[\u001b[38;5;241m0\u001b[39m]\n",
      "\u001b[1;31mKeyError\u001b[0m: 0"
     ]
    }
   ],
   "source": [
    "a[0]"
   ]
  },
  {
   "cell_type": "code",
   "execution_count": 5,
   "id": "3f4e877b",
   "metadata": {},
   "outputs": [
    {
     "ename": "IndexError",
     "evalue": "list index out of range",
     "output_type": "error",
     "traceback": [
      "\u001b[1;31m---------------------------------------------------------------------------\u001b[0m",
      "\u001b[1;31mIndexError\u001b[0m                                Traceback (most recent call last)",
      "Cell \u001b[1;32mIn[5], line 3\u001b[0m\n\u001b[0;32m      1\u001b[0m a \u001b[38;5;241m=\u001b[39m [\u001b[38;5;241m1\u001b[39m,\u001b[38;5;241m243\u001b[39m,\u001b[38;5;241m346\u001b[39m,\u001b[38;5;241m7\u001b[39m]\n\u001b[1;32m----> 3\u001b[0m a[\u001b[38;5;241m234\u001b[39m]\n",
      "\u001b[1;31mIndexError\u001b[0m: list index out of range"
     ]
    }
   ],
   "source": [
    "a = [1,243,346,7]\n",
    "\n",
    "a[234]"
   ]
  },
  {
   "cell_type": "code",
   "execution_count": 6,
   "id": "bf0cb5b6",
   "metadata": {},
   "outputs": [
    {
     "name": "stdout",
     "output_type": "stream",
     "text": [
      "{'Name': 'Ajay', 'Age': 23, 'Address': 'Noida'}\n"
     ]
    }
   ],
   "source": [
    "var = {'Name':'Ajay','Age':23,'Address':'Noida'}\n",
    "\n",
    "print(var)"
   ]
  },
  {
   "cell_type": "code",
   "execution_count": 7,
   "id": "6533dd88",
   "metadata": {},
   "outputs": [],
   "source": [
    "# var[indexing/slicing]:- not support"
   ]
  },
  {
   "cell_type": "code",
   "execution_count": 8,
   "id": "d8459738",
   "metadata": {},
   "outputs": [],
   "source": [
    "# var['key name']"
   ]
  },
  {
   "cell_type": "code",
   "execution_count": 9,
   "id": "2e204581",
   "metadata": {},
   "outputs": [
    {
     "data": {
      "text/plain": [
       "23"
      ]
     },
     "execution_count": 9,
     "metadata": {},
     "output_type": "execute_result"
    }
   ],
   "source": [
    "var['Age']"
   ]
  },
  {
   "cell_type": "code",
   "execution_count": 10,
   "id": "70d2b850",
   "metadata": {},
   "outputs": [
    {
     "data": {
      "text/plain": [
       "{'Name': 'Ajay', 'Age': 23, 'Address': 'Noida'}"
      ]
     },
     "execution_count": 10,
     "metadata": {},
     "output_type": "execute_result"
    }
   ],
   "source": [
    "var"
   ]
  },
  {
   "cell_type": "code",
   "execution_count": 11,
   "id": "9b53080e",
   "metadata": {},
   "outputs": [
    {
     "data": {
      "text/plain": [
       "'Noida'"
      ]
     },
     "execution_count": 11,
     "metadata": {},
     "output_type": "execute_result"
    }
   ],
   "source": [
    "var['Address']"
   ]
  },
  {
   "cell_type": "code",
   "execution_count": 12,
   "id": "b2510f20",
   "metadata": {},
   "outputs": [
    {
     "ename": "KeyError",
     "evalue": "'name'",
     "output_type": "error",
     "traceback": [
      "\u001b[1;31m---------------------------------------------------------------------------\u001b[0m",
      "\u001b[1;31mKeyError\u001b[0m                                  Traceback (most recent call last)",
      "Cell \u001b[1;32mIn[12], line 1\u001b[0m\n\u001b[1;32m----> 1\u001b[0m var[\u001b[38;5;124m'\u001b[39m\u001b[38;5;124mname\u001b[39m\u001b[38;5;124m'\u001b[39m]\n",
      "\u001b[1;31mKeyError\u001b[0m: 'name'"
     ]
    }
   ],
   "source": [
    "var['name']"
   ]
  },
  {
   "cell_type": "code",
   "execution_count": 13,
   "id": "695316c0",
   "metadata": {},
   "outputs": [
    {
     "data": {
      "text/plain": [
       "{'Name': 'Ajay', 'Age': 23, 'Address': 'Noida'}"
      ]
     },
     "execution_count": 13,
     "metadata": {},
     "output_type": "execute_result"
    }
   ],
   "source": [
    "var"
   ]
  },
  {
   "cell_type": "code",
   "execution_count": 15,
   "id": "6650ac6c",
   "metadata": {},
   "outputs": [
    {
     "data": {
      "text/plain": [
       "'Noida'"
      ]
     },
     "execution_count": 15,
     "metadata": {},
     "output_type": "execute_result"
    }
   ],
   "source": [
    "# we can change value with the help key \n",
    "var['Address']"
   ]
  },
  {
   "cell_type": "code",
   "execution_count": 16,
   "id": "81adb0dd",
   "metadata": {},
   "outputs": [],
   "source": [
    "var['Address'] = 'Greater Noida'"
   ]
  },
  {
   "cell_type": "code",
   "execution_count": 17,
   "id": "c411f7ea",
   "metadata": {},
   "outputs": [
    {
     "name": "stdout",
     "output_type": "stream",
     "text": [
      "{'Name': 'Ajay', 'Age': 23, 'Address': 'Greater Noida'}\n"
     ]
    }
   ],
   "source": [
    "print(var)"
   ]
  },
  {
   "cell_type": "code",
   "execution_count": 19,
   "id": "b35e12d1",
   "metadata": {},
   "outputs": [],
   "source": [
    "var['Name'] = 'Ajay verma'"
   ]
  },
  {
   "cell_type": "code",
   "execution_count": 20,
   "id": "68ba5a4b",
   "metadata": {},
   "outputs": [
    {
     "name": "stdout",
     "output_type": "stream",
     "text": [
      "{'Name': 'Ajay verma', 'Age': 23, 'Address': 'Greater Noida'}\n"
     ]
    }
   ],
   "source": [
    "print(var)"
   ]
  },
  {
   "cell_type": "code",
   "execution_count": 22,
   "id": "b3152a3e",
   "metadata": {},
   "outputs": [],
   "source": [
    "var['age'] = 34"
   ]
  },
  {
   "cell_type": "code",
   "execution_count": 23,
   "id": "c0a01623",
   "metadata": {},
   "outputs": [
    {
     "name": "stdout",
     "output_type": "stream",
     "text": [
      "{'Name': 'Ajay verma', 'Age': 23, 'Address': 'Greater Noida', 'age': 34}\n"
     ]
    }
   ],
   "source": [
    "print(var)"
   ]
  },
  {
   "cell_type": "code",
   "execution_count": 24,
   "id": "248d4522",
   "metadata": {},
   "outputs": [],
   "source": [
    "var['Class']  = 12"
   ]
  },
  {
   "cell_type": "code",
   "execution_count": 25,
   "id": "44fe12c3",
   "metadata": {},
   "outputs": [
    {
     "name": "stdout",
     "output_type": "stream",
     "text": [
      "{'Name': 'Ajay verma', 'Age': 23, 'Address': 'Greater Noida', 'age': 34, 'Class': 12}\n"
     ]
    }
   ],
   "source": [
    "print(var)"
   ]
  },
  {
   "cell_type": "code",
   "execution_count": 26,
   "id": "5d95da37",
   "metadata": {},
   "outputs": [],
   "source": [
    "# empty dict"
   ]
  },
  {
   "cell_type": "code",
   "execution_count": 27,
   "id": "fd4d75ba",
   "metadata": {},
   "outputs": [
    {
     "name": "stdout",
     "output_type": "stream",
     "text": [
      "{} <class 'dict'>\n"
     ]
    }
   ],
   "source": [
    "empty = {}\n",
    "\n",
    "print(empty,type(empty))"
   ]
  },
  {
   "cell_type": "code",
   "execution_count": 28,
   "id": "a3b8227d",
   "metadata": {},
   "outputs": [
    {
     "data": {
      "text/plain": [
       "set()"
      ]
     },
     "execution_count": 28,
     "metadata": {},
     "output_type": "execute_result"
    }
   ],
   "source": [
    "empty_set = set()\n",
    "\n",
    "empty_set"
   ]
  },
  {
   "cell_type": "code",
   "execution_count": 29,
   "id": "8b1f4479",
   "metadata": {},
   "outputs": [
    {
     "name": "stdout",
     "output_type": "stream",
     "text": [
      "{} <class 'dict'>\n"
     ]
    }
   ],
   "source": [
    "empty = dict()\n",
    "\n",
    "print(empty,type(empty))"
   ]
  },
  {
   "cell_type": "code",
   "execution_count": 31,
   "id": "46a44bf6",
   "metadata": {},
   "outputs": [],
   "source": [
    "empty['Age'] = 45"
   ]
  },
  {
   "cell_type": "code",
   "execution_count": 32,
   "id": "e40bd364",
   "metadata": {},
   "outputs": [
    {
     "name": "stdout",
     "output_type": "stream",
     "text": [
      "{'Age': 45}\n"
     ]
    }
   ],
   "source": [
    "print(empty)"
   ]
  },
  {
   "cell_type": "code",
   "execution_count": 33,
   "id": "a0432905",
   "metadata": {},
   "outputs": [],
   "source": [
    "empty['Age'] = 23"
   ]
  },
  {
   "cell_type": "code",
   "execution_count": 34,
   "id": "c2b83d95",
   "metadata": {},
   "outputs": [
    {
     "name": "stdout",
     "output_type": "stream",
     "text": [
      "{'Age': 23}\n"
     ]
    }
   ],
   "source": [
    "print(empty)"
   ]
  },
  {
   "cell_type": "code",
   "execution_count": 35,
   "id": "380c6da7",
   "metadata": {},
   "outputs": [
    {
     "name": "stdout",
     "output_type": "stream",
     "text": [
      "{'Name': 'Karan', 'Age': 10, 'Class': 12}\n"
     ]
    }
   ],
   "source": [
    "a = {'Name':'Mohan','Age':23,'Name':'Karan','Class':12,'Age':10}\n",
    "\n",
    "print(a)"
   ]
  },
  {
   "cell_type": "code",
   "execution_count": 64,
   "id": "25a7c045",
   "metadata": {},
   "outputs": [
    {
     "name": "stdout",
     "output_type": "stream",
     "text": [
      "{'Names': ['Ajay', 'Ravi', 'Akshay'], 'Salary': [34567, 45678, 56789]}\n"
     ]
    }
   ],
   "source": [
    "data = {'Names':['Ajay','Ravi','Akshay'],\n",
    "       'Salary':[34567,45678,56789]}\n",
    "\n",
    "\n",
    "print(data)"
   ]
  },
  {
   "cell_type": "code",
   "execution_count": 65,
   "id": "1bbadb1f",
   "metadata": {},
   "outputs": [],
   "source": [
    "data['Names'].append('Salman Khan')"
   ]
  },
  {
   "cell_type": "code",
   "execution_count": 66,
   "id": "e5bdb864",
   "metadata": {},
   "outputs": [
    {
     "name": "stdout",
     "output_type": "stream",
     "text": [
      "{'Names': ['Ajay', 'Ravi', 'Akshay', 'Salman Khan'], 'Salary': [34567, 45678, 56789]}\n"
     ]
    }
   ],
   "source": [
    "print(data)"
   ]
  },
  {
   "cell_type": "code",
   "execution_count": 67,
   "id": "8fe0b420",
   "metadata": {},
   "outputs": [],
   "source": [
    "data['Names'][1] = 'Ravi Shankar'"
   ]
  },
  {
   "cell_type": "code",
   "execution_count": 68,
   "id": "6b3b5193",
   "metadata": {},
   "outputs": [
    {
     "name": "stdout",
     "output_type": "stream",
     "text": [
      "{'Names': ['Ajay', 'Ravi Shankar', 'Akshay', 'Salman Khan'], 'Salary': [34567, 45678, 56789]}\n"
     ]
    }
   ],
   "source": [
    "print(data)"
   ]
  },
  {
   "cell_type": "code",
   "execution_count": 69,
   "id": "327f438a",
   "metadata": {},
   "outputs": [],
   "source": [
    "data['Salary'][1]+=1"
   ]
  },
  {
   "cell_type": "code",
   "execution_count": 70,
   "id": "70c5895e",
   "metadata": {},
   "outputs": [
    {
     "name": "stdout",
     "output_type": "stream",
     "text": [
      "{'Names': ['Ajay', 'Ravi Shankar', 'Akshay', 'Salman Khan'], 'Salary': [34567, 45679, 56789]}\n"
     ]
    }
   ],
   "source": [
    "print(data)"
   ]
  },
  {
   "cell_type": "code",
   "execution_count": null,
   "id": "7dc71252",
   "metadata": {},
   "outputs": [],
   "source": [
    "a = 10\n",
    "a+=1"
   ]
  },
  {
   "cell_type": "code",
   "execution_count": 71,
   "id": "5e0ef50d",
   "metadata": {},
   "outputs": [],
   "source": [
    "data['Names'][-1]  = 'MR.'+data['Names'][-1].upper()"
   ]
  },
  {
   "cell_type": "code",
   "execution_count": 72,
   "id": "26ff2ab8",
   "metadata": {},
   "outputs": [
    {
     "name": "stdout",
     "output_type": "stream",
     "text": [
      "{'Names': ['Ajay', 'Ravi Shankar', 'Akshay', 'MR.SALMAN KHAN'], 'Salary': [34567, 45679, 56789]}\n"
     ]
    }
   ],
   "source": [
    "print(data)"
   ]
  },
  {
   "cell_type": "code",
   "execution_count": 73,
   "id": "1ac5a1f3",
   "metadata": {},
   "outputs": [],
   "source": [
    "data['Bank_Locker'] = {'Locker1':[12],'Locker2':[10]}"
   ]
  },
  {
   "cell_type": "code",
   "execution_count": 75,
   "id": "656e3f0b",
   "metadata": {},
   "outputs": [
    {
     "data": {
      "text/plain": [
       "{'Names': ['Ajay', 'Ravi Shankar', 'Akshay', 'MR.SALMAN KHAN'],\n",
       " 'Salary': [34567, 45679, 56789],\n",
       " 'Bank_Locker': {'Locker1': [12], 'Locker2': [10]}}"
      ]
     },
     "execution_count": 75,
     "metadata": {},
     "output_type": "execute_result"
    }
   ],
   "source": [
    "data"
   ]
  },
  {
   "cell_type": "code",
   "execution_count": 81,
   "id": "48a65e6c",
   "metadata": {},
   "outputs": [],
   "source": [
    "data['Bank_Locker']['Locker2'][0] = 'joker👎'"
   ]
  },
  {
   "cell_type": "code",
   "execution_count": 82,
   "id": "4e004937",
   "metadata": {},
   "outputs": [
    {
     "data": {
      "text/plain": [
       "{'Names': ['Ajay', 'Ravi Shankar', 'Akshay', 'MR.SALMAN KHAN'],\n",
       " 'Salary': [34567, 45679, 56789],\n",
       " 'Bank_Locker': {'Locker1': [12], 'Locker2': ['joker👎']}}"
      ]
     },
     "execution_count": 82,
     "metadata": {},
     "output_type": "execute_result"
    }
   ],
   "source": [
    "data"
   ]
  },
  {
   "cell_type": "code",
   "execution_count": null,
   "id": "10717ebc",
   "metadata": {},
   "outputs": [],
   "source": []
  },
  {
   "cell_type": "code",
   "execution_count": null,
   "id": "42be3982",
   "metadata": {},
   "outputs": [],
   "source": []
  },
  {
   "cell_type": "code",
   "execution_count": null,
   "id": "52e53299",
   "metadata": {},
   "outputs": [],
   "source": []
  },
  {
   "cell_type": "code",
   "execution_count": 85,
   "id": "58b68d83",
   "metadata": {},
   "outputs": [],
   "source": [
    "final_data = {'Noida':[{'Sec2':[10,20]},\n",
    "                      {'Sec3':[1,2]},\n",
    "                      {'Bank1':{'Bank2':12}}]}"
   ]
  },
  {
   "cell_type": "code",
   "execution_count": 86,
   "id": "38e85d57",
   "metadata": {},
   "outputs": [
    {
     "data": {
      "text/plain": [
       "{'Noida': [{'Sec2': [10, 20]}, {'Sec3': [1, 2]}, {'Bank1': {'Bank2': 12}}]}"
      ]
     },
     "execution_count": 86,
     "metadata": {},
     "output_type": "execute_result"
    }
   ],
   "source": [
    "final_data"
   ]
  },
  {
   "cell_type": "code",
   "execution_count": 87,
   "id": "ef807884",
   "metadata": {},
   "outputs": [
    {
     "data": {
      "text/plain": [
       "{'Noida': [{'Sec2': [10, 20]}, {'Sec3': [1, 2]}, {'Bank1': {'Bank2': 12}}]}"
      ]
     },
     "execution_count": 87,
     "metadata": {},
     "output_type": "execute_result"
    }
   ],
   "source": [
    "final_data"
   ]
  },
  {
   "cell_type": "code",
   "execution_count": 91,
   "id": "7a5f8a61",
   "metadata": {},
   "outputs": [
    {
     "data": {
      "text/plain": [
       "12"
      ]
     },
     "execution_count": 91,
     "metadata": {},
     "output_type": "execute_result"
    }
   ],
   "source": [
    "final_data['Noida'][2]['Bank1']['Bank2']"
   ]
  },
  {
   "cell_type": "code",
   "execution_count": 92,
   "id": "17827bb2",
   "metadata": {},
   "outputs": [],
   "source": [
    "final_data['Noida'][2]['Bank1']['Bank2'] = 'Tech Vidya'"
   ]
  },
  {
   "cell_type": "code",
   "execution_count": 93,
   "id": "18c6ba94",
   "metadata": {},
   "outputs": [
    {
     "data": {
      "text/plain": [
       "{'Noida': [{'Sec2': [10, 20]},\n",
       "  {'Sec3': [1, 2]},\n",
       "  {'Bank1': {'Bank2': 'Tech Vidya'}}]}"
      ]
     },
     "execution_count": 93,
     "metadata": {},
     "output_type": "execute_result"
    }
   ],
   "source": [
    "final_data"
   ]
  },
  {
   "cell_type": "code",
   "execution_count": 94,
   "id": "3d6f931a",
   "metadata": {},
   "outputs": [],
   "source": [
    "final_data['Noida'][1][-1] = 'Majid'"
   ]
  },
  {
   "cell_type": "code",
   "execution_count": 95,
   "id": "5431e3c9",
   "metadata": {},
   "outputs": [
    {
     "name": "stdout",
     "output_type": "stream",
     "text": [
      "{'Noida': [{'Sec2': [10, 20]}, {'Sec3': [1, 2], -1: 'Majid'}, {'Bank1': {'Bank2': 'Tech Vidya'}}]}\n"
     ]
    }
   ],
   "source": [
    "print(final_data)"
   ]
  },
  {
   "cell_type": "code",
   "execution_count": 96,
   "id": "c24a2cf6",
   "metadata": {},
   "outputs": [],
   "source": [
    "final_data['Noida'][1]['Sec3'][1] = 'Tech vidya'"
   ]
  },
  {
   "cell_type": "code",
   "execution_count": 97,
   "id": "1c1f299f",
   "metadata": {},
   "outputs": [
    {
     "name": "stdout",
     "output_type": "stream",
     "text": [
      "{'Noida': [{'Sec2': [10, 20]}, {'Sec3': [1, 'Tech vidya'], -1: 'Majid'}, {'Bank1': {'Bank2': 'Tech Vidya'}}]}\n"
     ]
    }
   ],
   "source": [
    "print(final_data)"
   ]
  },
  {
   "cell_type": "code",
   "execution_count": 98,
   "id": "9fc75007",
   "metadata": {},
   "outputs": [],
   "source": [
    "#h/w"
   ]
  },
  {
   "cell_type": "code",
   "execution_count": null,
   "id": "7f59cda8",
   "metadata": {},
   "outputs": [],
   "source": []
  },
  {
   "cell_type": "code",
   "execution_count": null,
   "id": "b5f056bf",
   "metadata": {},
   "outputs": [],
   "source": [
    "# a = ()"
   ]
  }
 ],
 "metadata": {
  "kernelspec": {
   "display_name": "Python 3 (ipykernel)",
   "language": "python",
   "name": "python3"
  },
  "language_info": {
   "codemirror_mode": {
    "name": "ipython",
    "version": 3
   },
   "file_extension": ".py",
   "mimetype": "text/x-python",
   "name": "python",
   "nbconvert_exporter": "python",
   "pygments_lexer": "ipython3",
   "version": "3.11.3"
  }
 },
 "nbformat": 4,
 "nbformat_minor": 5
}
