{
 "cells": [
  {
   "cell_type": "code",
   "execution_count": 3,
   "id": "47fe6a00",
   "metadata": {},
   "outputs": [],
   "source": [
    "a = int('12')\n",
    "\n",
    "b = 23"
   ]
  },
  {
   "cell_type": "code",
   "execution_count": 4,
   "id": "209e67a1",
   "metadata": {},
   "outputs": [
    {
     "name": "stdout",
     "output_type": "stream",
     "text": [
      "35\n"
     ]
    }
   ],
   "source": [
    "print(a+b)"
   ]
  },
  {
   "cell_type": "code",
   "execution_count": 7,
   "id": "1a1e1cdb",
   "metadata": {},
   "outputs": [
    {
     "data": {
      "text/plain": [
       "34"
      ]
     },
     "execution_count": 7,
     "metadata": {},
     "output_type": "execute_result"
    }
   ],
   "source": [
    "s = '34.6'\n",
    "\n",
    "int(float(s))"
   ]
  },
  {
   "cell_type": "code",
   "execution_count": 8,
   "id": "037a80c9",
   "metadata": {},
   "outputs": [
    {
     "ename": "ValueError",
     "evalue": "invalid literal for int() with base 10: 'Mohan'",
     "output_type": "error",
     "traceback": [
      "\u001b[1;31m---------------------------------------------------------------------------\u001b[0m",
      "\u001b[1;31mValueError\u001b[0m                                Traceback (most recent call last)",
      "Cell \u001b[1;32mIn[8], line 3\u001b[0m\n\u001b[0;32m      1\u001b[0m s \u001b[38;5;241m=\u001b[39m \u001b[38;5;124m'\u001b[39m\u001b[38;5;124mMohan\u001b[39m\u001b[38;5;124m'\u001b[39m\n\u001b[1;32m----> 3\u001b[0m \u001b[38;5;28mint\u001b[39m(s)\n",
      "\u001b[1;31mValueError\u001b[0m: invalid literal for int() with base 10: 'Mohan'"
     ]
    }
   ],
   "source": [
    "s = 'Mohan'\n",
    "\n",
    "int(s)"
   ]
  },
  {
   "cell_type": "code",
   "execution_count": 9,
   "id": "3ee633ca",
   "metadata": {},
   "outputs": [
    {
     "data": {
      "text/plain": [
       "'Mohan'"
      ]
     },
     "execution_count": 9,
     "metadata": {},
     "output_type": "execute_result"
    }
   ],
   "source": [
    "s"
   ]
  },
  {
   "cell_type": "code",
   "execution_count": 10,
   "id": "3aadd536",
   "metadata": {},
   "outputs": [
    {
     "data": {
      "text/plain": [
       "['M', 'o', 'h', 'a', 'n']"
      ]
     },
     "execution_count": 10,
     "metadata": {},
     "output_type": "execute_result"
    }
   ],
   "source": [
    "list(s)"
   ]
  },
  {
   "cell_type": "code",
   "execution_count": 11,
   "id": "25933b47",
   "metadata": {},
   "outputs": [
    {
     "data": {
      "text/plain": [
       "('M', 'o', 'h', 'a', 'n')"
      ]
     },
     "execution_count": 11,
     "metadata": {},
     "output_type": "execute_result"
    }
   ],
   "source": [
    "tuple(s)"
   ]
  },
  {
   "cell_type": "code",
   "execution_count": 12,
   "id": "348bd8db",
   "metadata": {},
   "outputs": [
    {
     "data": {
      "text/plain": [
       "{'M', 'a', 'h', 'n', 'o'}"
      ]
     },
     "execution_count": 12,
     "metadata": {},
     "output_type": "execute_result"
    }
   ],
   "source": [
    "set(s)"
   ]
  },
  {
   "cell_type": "code",
   "execution_count": 13,
   "id": "1fe3f81a",
   "metadata": {},
   "outputs": [
    {
     "name": "stdout",
     "output_type": "stream",
     "text": [
      "karan\n"
     ]
    }
   ],
   "source": [
    "name = input()"
   ]
  },
  {
   "cell_type": "code",
   "execution_count": 14,
   "id": "73e78fce",
   "metadata": {},
   "outputs": [
    {
     "name": "stdout",
     "output_type": "stream",
     "text": [
      "karan\n"
     ]
    }
   ],
   "source": [
    "print(name)"
   ]
  },
  {
   "cell_type": "code",
   "execution_count": 20,
   "id": "f404c517",
   "metadata": {},
   "outputs": [
    {
     "name": "stdout",
     "output_type": "stream",
     "text": [
      "Enter number 1: 10\n",
      "Enter number 2: 34\n",
      "44\n"
     ]
    }
   ],
   "source": [
    "a = int(input('Enter number 1: '))\n",
    "b = int(input('Enter number 2: '))\n",
    "print(a+b)"
   ]
  },
  {
   "cell_type": "code",
   "execution_count": 18,
   "id": "b0c7d927",
   "metadata": {},
   "outputs": [
    {
     "data": {
      "text/plain": [
       "'Mr Python'"
      ]
     },
     "execution_count": 18,
     "metadata": {},
     "output_type": "execute_result"
    }
   ],
   "source": [
    "'Mr ' + 'Python'"
   ]
  },
  {
   "cell_type": "code",
   "execution_count": 19,
   "id": "82205e02",
   "metadata": {},
   "outputs": [
    {
     "name": "stdout",
     "output_type": "stream",
     "text": [
      "<class 'str'>\n"
     ]
    }
   ],
   "source": [
    "print(type(a))"
   ]
  },
  {
   "cell_type": "code",
   "execution_count": 22,
   "id": "4d35a3d2",
   "metadata": {},
   "outputs": [
    {
     "name": "stdout",
     "output_type": "stream",
     "text": [
      "23 <class 'str'>\n"
     ]
    }
   ],
   "source": [
    "a = 23\n",
    "\n",
    "a = str(a)\n",
    "\n",
    "print(a,type(a))"
   ]
  },
  {
   "cell_type": "code",
   "execution_count": 23,
   "id": "7d42925a",
   "metadata": {},
   "outputs": [
    {
     "data": {
      "text/plain": [
       "'[1, 24, 53566, 8]'"
      ]
     },
     "execution_count": 23,
     "metadata": {},
     "output_type": "execute_result"
    }
   ],
   "source": [
    "a = [1,24,53566,8]\n",
    "\n",
    "str(a)"
   ]
  },
  {
   "cell_type": "code",
   "execution_count": 26,
   "id": "dac87da4",
   "metadata": {},
   "outputs": [
    {
     "ename": "ValueError",
     "evalue": "complex() arg is a malformed string",
     "output_type": "error",
     "traceback": [
      "\u001b[1;31m---------------------------------------------------------------------------\u001b[0m",
      "\u001b[1;31mValueError\u001b[0m                                Traceback (most recent call last)",
      "Cell \u001b[1;32mIn[26], line 3\u001b[0m\n\u001b[0;32m      1\u001b[0m a \u001b[38;5;241m=\u001b[39m \u001b[38;5;124m'\u001b[39m\u001b[38;5;124mAkshay\u001b[39m\u001b[38;5;124m'\u001b[39m\n\u001b[1;32m----> 3\u001b[0m \u001b[38;5;28mcomplex\u001b[39m(a)\n",
      "\u001b[1;31mValueError\u001b[0m: complex() arg is a malformed string"
     ]
    }
   ],
   "source": [
    "a = 'Akshay'\n",
    "\n",
    "complex(a)"
   ]
  },
  {
   "cell_type": "code",
   "execution_count": 27,
   "id": "4cc86584",
   "metadata": {},
   "outputs": [
    {
     "data": {
      "text/plain": [
       "'(45-7j)'"
      ]
     },
     "execution_count": 27,
     "metadata": {},
     "output_type": "execute_result"
    }
   ],
   "source": [
    "a = 45-7j\n",
    "\n",
    "str(a)"
   ]
  },
  {
   "cell_type": "code",
   "execution_count": 28,
   "id": "ea5d328f",
   "metadata": {},
   "outputs": [
    {
     "data": {
      "text/plain": [
       "['k', 'a', 'r', 'a', 'n']"
      ]
     },
     "execution_count": 28,
     "metadata": {},
     "output_type": "execute_result"
    }
   ],
   "source": [
    "a = 'karan'\n",
    "\n",
    "list(a)"
   ]
  },
  {
   "cell_type": "code",
   "execution_count": 29,
   "id": "47c89443",
   "metadata": {},
   "outputs": [],
   "source": [
    "# # HW\n",
    "\n",
    "# int()\n",
    "# float()\n",
    "# set()\n",
    "# tuple()\n",
    "# list()\n",
    "# dict()\n",
    "# complex()\n",
    "# str()\n",
    "# bool()"
   ]
  },
  {
   "cell_type": "code",
   "execution_count": 34,
   "id": "31f8718f",
   "metadata": {},
   "outputs": [
    {
     "ename": "TypeError",
     "evalue": "'int' object is not iterable",
     "output_type": "error",
     "traceback": [
      "\u001b[1;31m---------------------------------------------------------------------------\u001b[0m",
      "\u001b[1;31mTypeError\u001b[0m                                 Traceback (most recent call last)",
      "Cell \u001b[1;32mIn[34], line 2\u001b[0m\n\u001b[0;32m      1\u001b[0m a \u001b[38;5;241m=\u001b[39m \u001b[38;5;241m23\u001b[39m\n\u001b[1;32m----> 2\u001b[0m \u001b[38;5;28mlist\u001b[39m(a)\n",
      "\u001b[1;31mTypeError\u001b[0m: 'int' object is not iterable"
     ]
    }
   ],
   "source": [
    "a = 23\n",
    "list(a)"
   ]
  },
  {
   "cell_type": "markdown",
   "id": "4951bbb7",
   "metadata": {},
   "source": [
    "# some imp func"
   ]
  },
  {
   "cell_type": "code",
   "execution_count": 35,
   "id": "50641bc8",
   "metadata": {},
   "outputs": [],
   "source": [
    "# min()\n",
    "# max()\n",
    "# sum()\n",
    "# len()\n",
    "# print()\n",
    "# id()\n",
    "# type()\n",
    "# reversed()\n",
    "# sorted()\n",
    "# bin()\n",
    "# ord()\n",
    "# chr()\n",
    "# eval()\n",
    "# exec()\n",
    "# execfile()"
   ]
  },
  {
   "cell_type": "code",
   "execution_count": 38,
   "id": "87654fe8",
   "metadata": {},
   "outputs": [
    {
     "data": {
      "text/plain": [
       "'A'"
      ]
     },
     "execution_count": 38,
     "metadata": {},
     "output_type": "execute_result"
    }
   ],
   "source": [
    "var = 'kArtik'\n",
    "\n",
    "min(var)"
   ]
  },
  {
   "cell_type": "code",
   "execution_count": 43,
   "id": "a4257407",
   "metadata": {},
   "outputs": [
    {
     "data": {
      "text/plain": [
       "111"
      ]
     },
     "execution_count": 43,
     "metadata": {},
     "output_type": "execute_result"
    }
   ],
   "source": [
    "ord('o')"
   ]
  },
  {
   "cell_type": "code",
   "execution_count": 44,
   "id": "6ee13b62",
   "metadata": {},
   "outputs": [
    {
     "data": {
      "text/plain": [
       "75"
      ]
     },
     "execution_count": 44,
     "metadata": {},
     "output_type": "execute_result"
    }
   ],
   "source": [
    "ord('K')"
   ]
  },
  {
   "cell_type": "code",
   "execution_count": 45,
   "id": "9a973ee8",
   "metadata": {},
   "outputs": [
    {
     "data": {
      "text/plain": [
       "62"
      ]
     },
     "execution_count": 45,
     "metadata": {},
     "output_type": "execute_result"
    }
   ],
   "source": [
    "ord('>')"
   ]
  },
  {
   "cell_type": "code",
   "execution_count": 46,
   "id": "a694450e",
   "metadata": {},
   "outputs": [
    {
     "data": {
      "text/plain": [
       "2310"
      ]
     },
     "execution_count": 46,
     "metadata": {},
     "output_type": "execute_result"
    }
   ],
   "source": [
    "ord('आ')"
   ]
  },
  {
   "cell_type": "code",
   "execution_count": 48,
   "id": "b03e9ff8",
   "metadata": {},
   "outputs": [
    {
     "data": {
      "text/plain": [
       "'अ'"
      ]
     },
     "execution_count": 48,
     "metadata": {},
     "output_type": "execute_result"
    }
   ],
   "source": [
    "chr(2309)"
   ]
  },
  {
   "cell_type": "code",
   "execution_count": 55,
   "id": "58f93264",
   "metadata": {},
   "outputs": [
    {
     "data": {
      "text/plain": [
       "'ह'"
      ]
     },
     "execution_count": 55,
     "metadata": {},
     "output_type": "execute_result"
    }
   ],
   "source": [
    "chr(2361)"
   ]
  },
  {
   "cell_type": "code",
   "execution_count": 56,
   "id": "b5e3d840",
   "metadata": {},
   "outputs": [
    {
     "data": {
      "text/plain": [
       "128539"
      ]
     },
     "execution_count": 56,
     "metadata": {},
     "output_type": "execute_result"
    }
   ],
   "source": [
    "ord('😛')"
   ]
  },
  {
   "cell_type": "code",
   "execution_count": 61,
   "id": "b2cad96a",
   "metadata": {},
   "outputs": [
    {
     "data": {
      "text/plain": [
       "'😟'"
      ]
     },
     "execution_count": 61,
     "metadata": {},
     "output_type": "execute_result"
    }
   ],
   "source": [
    "chr(128543)"
   ]
  },
  {
   "cell_type": "code",
   "execution_count": 63,
   "id": "6db63719",
   "metadata": {},
   "outputs": [
    {
     "name": "stdout",
     "output_type": "stream",
     "text": [
      "🗴🗵🗶🗷🗸🗹🗺🗻🗼🗽🗾🗿😀😁😂😃😄😅😆😇😈😉😊😋😌😍😎😏😐😑😒😓😔😕😖😗😘😙😚😛😜😝😞😟😠😡😢😣😤😥😦😧😨😩😪😫😬😭😮😯😰😱😲😳😴😵😶😷😸😹😺😻😼😽😾😿🙀🙁🙂🙃🙄🙅🙆🙇🙈🙉🙊🙋🙌🙍🙎🙏🙐🙑🙒🙓🙔🙕🙖🙗"
     ]
    }
   ],
   "source": [
    "for i in range(128500,128600):\n",
    "    print(chr(i),end='')"
   ]
  },
  {
   "cell_type": "code",
   "execution_count": 64,
   "id": "c2dee593",
   "metadata": {},
   "outputs": [],
   "source": [
    "# min()\n",
    "# max()\n",
    "# sum()\n",
    "# len()"
   ]
  },
  {
   "cell_type": "code",
   "execution_count": 70,
   "id": "dd6f4d4b",
   "metadata": {},
   "outputs": [],
   "source": [
    "a = [210,3453,65,653,42353,245,4325,34,5,32465,45,646,7734,25,5476]"
   ]
  },
  {
   "cell_type": "code",
   "execution_count": 68,
   "id": "ea3c63a8",
   "metadata": {},
   "outputs": [
    {
     "data": {
      "text/plain": [
       "4235"
      ]
     },
     "execution_count": 68,
     "metadata": {},
     "output_type": "execute_result"
    }
   ],
   "source": [
    "max(a)"
   ]
  },
  {
   "cell_type": "code",
   "execution_count": 69,
   "id": "5b6aa11f",
   "metadata": {},
   "outputs": [
    {
     "data": {
      "text/plain": [
       "8616"
      ]
     },
     "execution_count": 69,
     "metadata": {},
     "output_type": "execute_result"
    }
   ],
   "source": [
    "sum(a)"
   ]
  },
  {
   "cell_type": "code",
   "execution_count": 71,
   "id": "7bd110cc",
   "metadata": {},
   "outputs": [
    {
     "data": {
      "text/plain": [
       "15"
      ]
     },
     "execution_count": 71,
     "metadata": {},
     "output_type": "execute_result"
    }
   ],
   "source": [
    "len(a)"
   ]
  },
  {
   "cell_type": "code",
   "execution_count": 75,
   "id": "4672625c",
   "metadata": {},
   "outputs": [
    {
     "name": "stdout",
     "output_type": "stream",
     "text": [
      "9\n"
     ]
    }
   ],
   "source": [
    "a  = 'mr python'\n",
    "\n",
    "print(len(a))"
   ]
  },
  {
   "cell_type": "code",
   "execution_count": 74,
   "id": "852526d4",
   "metadata": {},
   "outputs": [],
   "source": [
    "# ord(' ')"
   ]
  },
  {
   "cell_type": "code",
   "execution_count": 76,
   "id": "80e69ce1",
   "metadata": {},
   "outputs": [],
   "source": [
    "# reversed()\n",
    "# sorted()\n",
    "# bin()\n",
    "# ord()\n",
    "# chr()\n",
    "# eval()\n",
    "# exec()\n",
    "# execfile()"
   ]
  },
  {
   "cell_type": "code",
   "execution_count": 81,
   "id": "2e1793dc",
   "metadata": {},
   "outputs": [],
   "source": [
    "a = [12,343,5432,4,656,4,354,657]\n",
    "\n",
    "# [657,354,4,....]"
   ]
  },
  {
   "cell_type": "code",
   "execution_count": 84,
   "id": "9d616454",
   "metadata": {},
   "outputs": [
    {
     "data": {
      "text/plain": [
       "[657, 354, 4, 656, 4, 5432, 343, 12]"
      ]
     },
     "execution_count": 84,
     "metadata": {},
     "output_type": "execute_result"
    }
   ],
   "source": [
    "list(tuple(reversed(a)))"
   ]
  },
  {
   "cell_type": "code",
   "execution_count": 85,
   "id": "12e53231",
   "metadata": {},
   "outputs": [
    {
     "data": {
      "text/plain": [
       "[657, 354, 4, 656, 4, 5432, 343, 12]"
      ]
     },
     "execution_count": 85,
     "metadata": {},
     "output_type": "execute_result"
    }
   ],
   "source": [
    "list(reversed(a))"
   ]
  },
  {
   "cell_type": "code",
   "execution_count": 86,
   "id": "2fde0951",
   "metadata": {},
   "outputs": [
    {
     "data": {
      "text/plain": [
       "[12, 343, 5432, 4, 656, 4, 354, 657]"
      ]
     },
     "execution_count": 86,
     "metadata": {},
     "output_type": "execute_result"
    }
   ],
   "source": [
    "a"
   ]
  },
  {
   "cell_type": "code",
   "execution_count": 89,
   "id": "ce0fb916",
   "metadata": {},
   "outputs": [
    {
     "data": {
      "text/plain": [
       "[5432, 657, 656, 354, 343, 12, 4, 4]"
      ]
     },
     "execution_count": 89,
     "metadata": {},
     "output_type": "execute_result"
    }
   ],
   "source": [
    "list(reversed(sorted(a)))"
   ]
  },
  {
   "cell_type": "code",
   "execution_count": 90,
   "id": "5b3c20fc",
   "metadata": {},
   "outputs": [
    {
     "data": {
      "text/plain": [
       "'0b10000001'"
      ]
     },
     "execution_count": 90,
     "metadata": {},
     "output_type": "execute_result"
    }
   ],
   "source": [
    "bin(129)"
   ]
  },
  {
   "cell_type": "code",
   "execution_count": 91,
   "id": "527a532a",
   "metadata": {},
   "outputs": [],
   "source": [
    "# eval()\n",
    "# exec()\n",
    "# execfile()"
   ]
  },
  {
   "cell_type": "code",
   "execution_count": 93,
   "id": "5bcebf61",
   "metadata": {},
   "outputs": [
    {
     "data": {
      "text/plain": [
       "-2"
      ]
     },
     "execution_count": 93,
     "metadata": {},
     "output_type": "execute_result"
    }
   ],
   "source": [
    "eval('2-4')"
   ]
  },
  {
   "cell_type": "code",
   "execution_count": 94,
   "id": "64fa43ea",
   "metadata": {},
   "outputs": [
    {
     "name": "stdout",
     "output_type": "stream",
     "text": [
      "23\n"
     ]
    }
   ],
   "source": [
    "eval('print(12-23+34)')"
   ]
  },
  {
   "cell_type": "code",
   "execution_count": 96,
   "id": "86a232aa",
   "metadata": {},
   "outputs": [],
   "source": [
    "# 12-23+34"
   ]
  },
  {
   "cell_type": "code",
   "execution_count": 101,
   "id": "480a28f9",
   "metadata": {},
   "outputs": [
    {
     "name": "stdout",
     "output_type": "stream",
     "text": [
      "Enter something: 23-10+23//4*5**4\n",
      "3138 <class 'int'>\n"
     ]
    }
   ],
   "source": [
    "name = 'karan'\n",
    "a = eval(input('Enter something: '))\n",
    "\n",
    "\n",
    "print(a,type(a))"
   ]
  },
  {
   "cell_type": "code",
   "execution_count": 102,
   "id": "b4e9788d",
   "metadata": {},
   "outputs": [],
   "source": [
    "# [1,2,3]+[3,4,5]"
   ]
  },
  {
   "cell_type": "code",
   "execution_count": 103,
   "id": "3e068edf",
   "metadata": {},
   "outputs": [],
   "source": [
    "# exec()\n",
    "# execfile()"
   ]
  },
  {
   "cell_type": "code",
   "execution_count": 107,
   "id": "9897bf1f",
   "metadata": {},
   "outputs": [],
   "source": [
    "exec('sec = \"B\";Age=23')"
   ]
  },
  {
   "cell_type": "code",
   "execution_count": 108,
   "id": "29b39a51",
   "metadata": {},
   "outputs": [
    {
     "name": "stdout",
     "output_type": "stream",
     "text": [
      "23\n"
     ]
    }
   ],
   "source": [
    "print(Age)"
   ]
  },
  {
   "cell_type": "code",
   "execution_count": 109,
   "id": "11e7e542",
   "metadata": {},
   "outputs": [
    {
     "name": "stdout",
     "output_type": "stream",
     "text": [
      "B\n"
     ]
    }
   ],
   "source": [
    "print(sec)"
   ]
  },
  {
   "cell_type": "code",
   "execution_count": 110,
   "id": "9b913b9c",
   "metadata": {
    "scrolled": true
   },
   "outputs": [
    {
     "name": "stdout",
     "output_type": "stream",
     "text": [
      "35 <class 'int'>\n"
     ]
    }
   ],
   "source": [
    "exec('a = 12; b = 23; c = a+b; print(c,type(c))')"
   ]
  },
  {
   "cell_type": "code",
   "execution_count": null,
   "id": "c6852c57",
   "metadata": {},
   "outputs": [],
   "source": []
  },
  {
   "cell_type": "code",
   "execution_count": 112,
   "id": "c74666ad",
   "metadata": {},
   "outputs": [
    {
     "ename": "FileNotFoundError",
     "evalue": "[Errno 2] No such file or directory: 'markerr.py'",
     "output_type": "error",
     "traceback": [
      "\u001b[1;31m---------------------------------------------------------------------------\u001b[0m",
      "\u001b[1;31mFileNotFoundError\u001b[0m                         Traceback (most recent call last)",
      "Cell \u001b[1;32mIn[112], line 1\u001b[0m\n\u001b[1;32m----> 1\u001b[0m execfile(\u001b[38;5;124m'\u001b[39m\u001b[38;5;124mmarkerr.py\u001b[39m\u001b[38;5;124m'\u001b[39m)\n",
      "File \u001b[1;32m~\\anaconda3\\Lib\\site-packages\\debugpy\\_vendored\\pydevd\\_pydev_imps\\_pydev_execfile.py:14\u001b[0m, in \u001b[0;36mexecfile\u001b[1;34m(file, glob, loc)\u001b[0m\n\u001b[0;32m     11\u001b[0m \u001b[38;5;28;01mimport\u001b[39;00m \u001b[38;5;21;01mtokenize\u001b[39;00m\n\u001b[0;32m     12\u001b[0m \u001b[38;5;28;01mif\u001b[39;00m \u001b[38;5;28mhasattr\u001b[39m(tokenize, \u001b[38;5;124m'\u001b[39m\u001b[38;5;124mopen\u001b[39m\u001b[38;5;124m'\u001b[39m):\n\u001b[0;32m     13\u001b[0m     \u001b[38;5;66;03m# version 3.2\u001b[39;00m\n\u001b[1;32m---> 14\u001b[0m     stream \u001b[38;5;241m=\u001b[39m tokenize\u001b[38;5;241m.\u001b[39mopen(file)  \u001b[38;5;66;03m# @UndefinedVariable\u001b[39;00m\n\u001b[0;32m     15\u001b[0m \u001b[38;5;28;01melse\u001b[39;00m:\n\u001b[0;32m     16\u001b[0m     \u001b[38;5;66;03m# version 3.0 or 3.1\u001b[39;00m\n\u001b[0;32m     17\u001b[0m     detect_encoding \u001b[38;5;241m=\u001b[39m tokenize\u001b[38;5;241m.\u001b[39mdetect_encoding(\u001b[38;5;28mopen\u001b[39m(file, mode\u001b[38;5;241m=\u001b[39m\u001b[38;5;124m\"\u001b[39m\u001b[38;5;124mrb\u001b[39m\u001b[38;5;124m\"\u001b[39m)\u001b[38;5;241m.\u001b[39mreadline)\n",
      "File \u001b[1;32m~\\anaconda3\\Lib\\tokenize.py:396\u001b[0m, in \u001b[0;36mopen\u001b[1;34m(filename)\u001b[0m\n\u001b[0;32m    392\u001b[0m \u001b[38;5;28;01mdef\u001b[39;00m \u001b[38;5;21mopen\u001b[39m(filename):\n\u001b[0;32m    393\u001b[0m \u001b[38;5;250m    \u001b[39m\u001b[38;5;124;03m\"\"\"Open a file in read only mode using the encoding detected by\u001b[39;00m\n\u001b[0;32m    394\u001b[0m \u001b[38;5;124;03m    detect_encoding().\u001b[39;00m\n\u001b[0;32m    395\u001b[0m \u001b[38;5;124;03m    \"\"\"\u001b[39;00m\n\u001b[1;32m--> 396\u001b[0m     buffer \u001b[38;5;241m=\u001b[39m _builtin_open(filename, \u001b[38;5;124m'\u001b[39m\u001b[38;5;124mrb\u001b[39m\u001b[38;5;124m'\u001b[39m)\n\u001b[0;32m    397\u001b[0m     \u001b[38;5;28;01mtry\u001b[39;00m:\n\u001b[0;32m    398\u001b[0m         encoding, lines \u001b[38;5;241m=\u001b[39m detect_encoding(buffer\u001b[38;5;241m.\u001b[39mreadline)\n",
      "\u001b[1;31mFileNotFoundError\u001b[0m: [Errno 2] No such file or directory: 'markerr.py'"
     ]
    }
   ],
   "source": [
    "execfile('markerr.py')"
   ]
  },
  {
   "cell_type": "code",
   "execution_count": 113,
   "id": "040bad98",
   "metadata": {},
   "outputs": [
    {
     "name": "stdout",
     "output_type": "stream",
     "text": [
      "Welcome to techvidya\n",
      "Enter your Name: Komal\n",
      "Hello Komal How are you??\n",
      "--------------------------------------------\n",
      "🗴🗵🗶🗷🗸🗹🗺🗻🗼🗽🗾🗿😀😁😂😃😄😅😆😇😈😉😊😋😌😍😎😏😐😑😒😓😔😕😖😗😘😙😚😛😜😝😞😟😠😡😢😣😤😥😦😧😨😩😪😫😬😭😮😯😰😱😲😳😴😵😶😷😸😹😺😻😼😽😾😿🙀🙁🙂🙃🙄🙅🙆🙇🙈🙉🙊🙋🙌🙍🙎🙏🙐🙑🙒🙓🙔🙕🙖🙗"
     ]
    }
   ],
   "source": [
    "execfile(r'C:\\Users\\Lenovo\\Desktop\\marker.py')"
   ]
  },
  {
   "cell_type": "code",
   "execution_count": null,
   "id": "83702d8f",
   "metadata": {},
   "outputs": [],
   "source": []
  }
 ],
 "metadata": {
  "kernelspec": {
   "display_name": "Python 3 (ipykernel)",
   "language": "python",
   "name": "python3"
  },
  "language_info": {
   "codemirror_mode": {
    "name": "ipython",
    "version": 3
   },
   "file_extension": ".py",
   "mimetype": "text/x-python",
   "name": "python",
   "nbconvert_exporter": "python",
   "pygments_lexer": "ipython3",
   "version": "3.11.3"
  }
 },
 "nbformat": 4,
 "nbformat_minor": 5
}
