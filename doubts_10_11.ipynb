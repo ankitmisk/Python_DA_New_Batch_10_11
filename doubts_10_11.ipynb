{
 "cells": [
  {
   "cell_type": "code",
   "execution_count": 1,
   "id": "6608e8c9",
   "metadata": {},
   "outputs": [
    {
     "name": "stdout",
     "output_type": "stream",
     "text": [
      "(1, 2432, 54, 6, (1, 243, 54, 6, 7, (12, 43, 657)))\n"
     ]
    }
   ],
   "source": [
    "a = (1,2432,54,6,(1,243,54,6,7,(12,43,657)))\n",
    "\n",
    "\n",
    "print(a)"
   ]
  },
  {
   "cell_type": "code",
   "execution_count": 4,
   "id": "b219f13c",
   "metadata": {},
   "outputs": [
    {
     "name": "stdout",
     "output_type": "stream",
     "text": [
      "[1, 2432, 54, 6, (1, 243, 54, 6, 7, (12, 43, 657))]\n"
     ]
    }
   ],
   "source": [
    "a = list(a)\n",
    "\n",
    "print(a)"
   ]
  },
  {
   "cell_type": "code",
   "execution_count": 5,
   "id": "917c1701",
   "metadata": {},
   "outputs": [],
   "source": [
    "a[4] = list(a[4])"
   ]
  },
  {
   "cell_type": "code",
   "execution_count": 6,
   "id": "fffca0b2",
   "metadata": {},
   "outputs": [
    {
     "name": "stdout",
     "output_type": "stream",
     "text": [
      "[1, 2432, 54, 6, [1, 243, 54, 6, 7, (12, 43, 657)]]\n"
     ]
    }
   ],
   "source": [
    "print(a)"
   ]
  },
  {
   "cell_type": "code",
   "execution_count": 9,
   "id": "fbd9d38e",
   "metadata": {},
   "outputs": [],
   "source": [
    "a[4][1] = 9999"
   ]
  },
  {
   "cell_type": "code",
   "execution_count": 10,
   "id": "5f10449a",
   "metadata": {},
   "outputs": [
    {
     "name": "stdout",
     "output_type": "stream",
     "text": [
      "[1, 2432, 54, 6, [1, 9999, 54, 6, 7, (12, 43, 657)]]\n"
     ]
    }
   ],
   "source": [
    "print(a)"
   ]
  },
  {
   "cell_type": "code",
   "execution_count": 11,
   "id": "e80844c4",
   "metadata": {},
   "outputs": [],
   "source": [
    "a[4] = tuple(a[4])"
   ]
  },
  {
   "cell_type": "code",
   "execution_count": 13,
   "id": "cfdd7a0a",
   "metadata": {},
   "outputs": [],
   "source": [
    "a = tuple(a)"
   ]
  },
  {
   "cell_type": "code",
   "execution_count": 14,
   "id": "0fb23809",
   "metadata": {},
   "outputs": [
    {
     "name": "stdout",
     "output_type": "stream",
     "text": [
      "(1, 2432, 54, 6, (1, 9999, 54, 6, 7, (12, 43, 657)))\n"
     ]
    }
   ],
   "source": [
    "print(a)"
   ]
  },
  {
   "cell_type": "code",
   "execution_count": null,
   "id": "56359191",
   "metadata": {},
   "outputs": [],
   "source": []
  },
  {
   "cell_type": "code",
   "execution_count": 15,
   "id": "c368096c",
   "metadata": {},
   "outputs": [],
   "source": [
    "data = {'Name':['Shiksha','Mahima','Ajay','Karan'],'Age':[1,2,3,4],\n",
    "       'Tech':{'Name':'Mohan'}}"
   ]
  },
  {
   "cell_type": "code",
   "execution_count": null,
   "id": "ecdf2f1b",
   "metadata": {},
   "outputs": [],
   "source": []
  },
  {
   "cell_type": "code",
   "execution_count": 16,
   "id": "4b03cc0b",
   "metadata": {},
   "outputs": [
    {
     "name": "stdout",
     "output_type": "stream",
     "text": [
      "ajay\n"
     ]
    }
   ],
   "source": [
    "a = 'ajay'\n",
    "\n",
    "print(a)"
   ]
  },
  {
   "cell_type": "code",
   "execution_count": 18,
   "id": "17a584b2",
   "metadata": {},
   "outputs": [
    {
     "ename": "NameError",
     "evalue": "name 'Id' is not defined",
     "output_type": "error",
     "traceback": [
      "\u001b[1;31m---------------------------------------------------------------------------\u001b[0m",
      "\u001b[1;31mNameError\u001b[0m                                 Traceback (most recent call last)",
      "Cell \u001b[1;32mIn[18], line 1\u001b[0m\n\u001b[1;32m----> 1\u001b[0m Id(a)\n",
      "\u001b[1;31mNameError\u001b[0m: name 'Id' is not defined"
     ]
    }
   ],
   "source": [
    "id(a)"
   ]
  },
  {
   "cell_type": "code",
   "execution_count": 22,
   "id": "033b8974",
   "metadata": {},
   "outputs": [
    {
     "data": {
      "text/plain": [
       "'A'"
      ]
     },
     "execution_count": 22,
     "metadata": {},
     "output_type": "execute_result"
    }
   ],
   "source": [
    "a = 'KArtik'\n",
    "\n",
    "min(a)"
   ]
  },
  {
   "cell_type": "code",
   "execution_count": 23,
   "id": "71d41a69",
   "metadata": {},
   "outputs": [
    {
     "data": {
      "text/plain": [
       "65"
      ]
     },
     "execution_count": 23,
     "metadata": {},
     "output_type": "execute_result"
    }
   ],
   "source": [
    "ord('A')"
   ]
  },
  {
   "cell_type": "code",
   "execution_count": null,
   "id": "9b6f1143",
   "metadata": {},
   "outputs": [],
   "source": []
  },
  {
   "cell_type": "code",
   "execution_count": 24,
   "id": "0d081ce2",
   "metadata": {},
   "outputs": [
    {
     "data": {
      "text/plain": [
       "'AJAY'"
      ]
     },
     "execution_count": 24,
     "metadata": {},
     "output_type": "execute_result"
    }
   ],
   "source": [
    "a = 'ajay'\n",
    "\n",
    "a.upper()"
   ]
  },
  {
   "cell_type": "markdown",
   "id": "ed70cea9",
   "metadata": {},
   "source": [
    "# dict methods"
   ]
  },
  {
   "cell_type": "code",
   "execution_count": 25,
   "id": "c2b522a2",
   "metadata": {},
   "outputs": [
    {
     "name": "stdout",
     "output_type": "stream",
     "text": [
      "['__class__', '__class_getitem__', '__contains__', '__delattr__', '__delitem__', '__dir__', '__doc__', '__eq__', '__format__', '__ge__', '__getattribute__', '__getitem__', '__getstate__', '__gt__', '__hash__', '__init__', '__init_subclass__', '__ior__', '__iter__', '__le__', '__len__', '__lt__', '__ne__', '__new__', '__or__', '__reduce__', '__reduce_ex__', '__repr__', '__reversed__', '__ror__', '__setattr__', '__setitem__', '__sizeof__', '__str__', '__subclasshook__', 'clear', 'copy', 'fromkeys', 'get', 'items', 'keys', 'pop', 'popitem', 'setdefault', 'update', 'values']\n"
     ]
    }
   ],
   "source": [
    "print(dir(dict))"
   ]
  },
  {
   "cell_type": "code",
   "execution_count": 26,
   "id": "8eecf82d",
   "metadata": {},
   "outputs": [],
   "source": [
    "methods = ['clear', 'copy', 'fromkeys', 'get', 'items', 'keys', 'pop', 'popitem', 'setdefault', 'update', 'values']"
   ]
  },
  {
   "cell_type": "code",
   "execution_count": 27,
   "id": "404768a2",
   "metadata": {},
   "outputs": [
    {
     "name": "stdout",
     "output_type": "stream",
     "text": [
      "11\n"
     ]
    }
   ],
   "source": [
    "print(len(methods))"
   ]
  },
  {
   "cell_type": "code",
   "execution_count": 28,
   "id": "472de15e",
   "metadata": {},
   "outputs": [],
   "source": [
    "# string:- 47\n",
    "# list:- 11\n",
    "# tuple:- 2\n",
    "# dict:- 11\n",
    "# set :- 17"
   ]
  },
  {
   "cell_type": "code",
   "execution_count": 29,
   "id": "96f9ac7e",
   "metadata": {},
   "outputs": [
    {
     "name": "stdout",
     "output_type": "stream",
     "text": [
      "{'Name': 'Mohan', 'Age': 34}\n"
     ]
    }
   ],
   "source": [
    "a = {'Name':'Mohan','Age':34}\n",
    "\n",
    "print(a)"
   ]
  },
  {
   "cell_type": "code",
   "execution_count": 30,
   "id": "95cff4c9",
   "metadata": {},
   "outputs": [
    {
     "name": "stdout",
     "output_type": "stream",
     "text": [
      "{'Name': 'Mohan', 'Age': 34}\n"
     ]
    }
   ],
   "source": [
    "print(a)"
   ]
  },
  {
   "cell_type": "code",
   "execution_count": 31,
   "id": "199aa331",
   "metadata": {},
   "outputs": [],
   "source": [
    "a.clear()"
   ]
  },
  {
   "cell_type": "code",
   "execution_count": 32,
   "id": "89ea4973",
   "metadata": {},
   "outputs": [
    {
     "name": "stdout",
     "output_type": "stream",
     "text": [
      "{}\n"
     ]
    }
   ],
   "source": [
    "print(a)"
   ]
  },
  {
   "cell_type": "code",
   "execution_count": 33,
   "id": "8d21b5e0",
   "metadata": {},
   "outputs": [],
   "source": [
    "# empty dict"
   ]
  },
  {
   "cell_type": "code",
   "execution_count": 34,
   "id": "faf664b1",
   "metadata": {},
   "outputs": [],
   "source": [
    "# # copy:-\n",
    "# deep copy\n",
    "# shallow copy"
   ]
  },
  {
   "cell_type": "code",
   "execution_count": 35,
   "id": "3665fe1b",
   "metadata": {},
   "outputs": [
    {
     "name": "stdout",
     "output_type": "stream",
     "text": [
      "{'Bank1': 1200, 'Bank2': 2345}\n"
     ]
    }
   ],
   "source": [
    "a = {'Bank1':1200,'Bank2':2345}\n",
    "\n",
    "print(a)"
   ]
  },
  {
   "cell_type": "code",
   "execution_count": 36,
   "id": "09d8d60b",
   "metadata": {},
   "outputs": [],
   "source": [
    "b = a\n",
    "# deep copy"
   ]
  },
  {
   "cell_type": "code",
   "execution_count": 37,
   "id": "029fe747",
   "metadata": {},
   "outputs": [
    {
     "name": "stdout",
     "output_type": "stream",
     "text": [
      "{'Bank1': 1200, 'Bank2': 2345}\n"
     ]
    }
   ],
   "source": [
    "print(b)"
   ]
  },
  {
   "cell_type": "code",
   "execution_count": 40,
   "id": "ff2b1f62",
   "metadata": {},
   "outputs": [],
   "source": [
    "b['Bank1'] = 12000"
   ]
  },
  {
   "cell_type": "code",
   "execution_count": 41,
   "id": "35476fb0",
   "metadata": {},
   "outputs": [
    {
     "name": "stdout",
     "output_type": "stream",
     "text": [
      "{'Bank1': 12000, 'Bank2': 2345}\n"
     ]
    }
   ],
   "source": [
    "print(b)"
   ]
  },
  {
   "cell_type": "code",
   "execution_count": 42,
   "id": "00673f94",
   "metadata": {},
   "outputs": [
    {
     "name": "stdout",
     "output_type": "stream",
     "text": [
      "{'Bank1': 12000, 'Bank2': 2345}\n"
     ]
    }
   ],
   "source": [
    "print(a)"
   ]
  },
  {
   "cell_type": "code",
   "execution_count": 43,
   "id": "da61680d",
   "metadata": {},
   "outputs": [],
   "source": [
    "# shallow copy"
   ]
  },
  {
   "cell_type": "code",
   "execution_count": 81,
   "id": "e271f39b",
   "metadata": {},
   "outputs": [
    {
     "name": "stdout",
     "output_type": "stream",
     "text": [
      "{'Locker1': 123, 'Locker2': 900}\n"
     ]
    }
   ],
   "source": [
    "a = {'Locker1':123,'Locker2':900}\n",
    "\n",
    "b = a.copy()\n",
    "\n",
    "print(b)"
   ]
  },
  {
   "cell_type": "code",
   "execution_count": 46,
   "id": "f656b5b3",
   "metadata": {},
   "outputs": [],
   "source": [
    "b['Locker2']= 90000"
   ]
  },
  {
   "cell_type": "code",
   "execution_count": 47,
   "id": "a5e09920",
   "metadata": {},
   "outputs": [
    {
     "name": "stdout",
     "output_type": "stream",
     "text": [
      "{'Locker1': 123, 'Locker2': 90000}\n"
     ]
    }
   ],
   "source": [
    "print(b)"
   ]
  },
  {
   "cell_type": "code",
   "execution_count": 48,
   "id": "254949fb",
   "metadata": {},
   "outputs": [
    {
     "name": "stdout",
     "output_type": "stream",
     "text": [
      "{'Locker1': 123, 'Locker2': 900}\n"
     ]
    }
   ],
   "source": [
    "print(a)"
   ]
  },
  {
   "cell_type": "code",
   "execution_count": 53,
   "id": "1374790f",
   "metadata": {},
   "outputs": [],
   "source": [
    "# methods\n",
    "# get\n",
    "\n",
    "a['Locker2'] = 900000"
   ]
  },
  {
   "cell_type": "code",
   "execution_count": 54,
   "id": "c766dc6c",
   "metadata": {},
   "outputs": [
    {
     "name": "stdout",
     "output_type": "stream",
     "text": [
      "{'Locker1': 123, 'Locker2': 900000}\n"
     ]
    }
   ],
   "source": [
    "print(a)"
   ]
  },
  {
   "cell_type": "code",
   "execution_count": 59,
   "id": "b36a1234",
   "metadata": {},
   "outputs": [
    {
     "ename": "SyntaxError",
     "evalue": "cannot assign to function call here. Maybe you meant '==' instead of '='? (3801384822.py, line 1)",
     "output_type": "error",
     "traceback": [
      "\u001b[1;36m  Cell \u001b[1;32mIn[59], line 1\u001b[1;36m\u001b[0m\n\u001b[1;33m    a.get('Locker1') = 123\u001b[0m\n\u001b[1;37m    ^\u001b[0m\n\u001b[1;31mSyntaxError\u001b[0m\u001b[1;31m:\u001b[0m cannot assign to function call here. Maybe you meant '==' instead of '='?\n"
     ]
    }
   ],
   "source": [
    "a.get('Locker1') = 123"
   ]
  },
  {
   "cell_type": "code",
   "execution_count": 60,
   "id": "0fe74c9b",
   "metadata": {},
   "outputs": [
    {
     "data": {
      "text/plain": [
       "{'Locker1': 123, 'Locker2': 900000}"
      ]
     },
     "execution_count": 60,
     "metadata": {},
     "output_type": "execute_result"
    }
   ],
   "source": [
    "a"
   ]
  },
  {
   "cell_type": "code",
   "execution_count": 63,
   "id": "0d4478da",
   "metadata": {},
   "outputs": [],
   "source": [
    "a['Lockerr1'] = 98"
   ]
  },
  {
   "cell_type": "code",
   "execution_count": 64,
   "id": "e866071a",
   "metadata": {},
   "outputs": [
    {
     "name": "stdout",
     "output_type": "stream",
     "text": [
      "{'Locker1': 123, 'Locker2': 900000, 'Lockerr1': 98}\n"
     ]
    }
   ],
   "source": [
    "print(a)"
   ]
  },
  {
   "cell_type": "code",
   "execution_count": 70,
   "id": "18ac67fc",
   "metadata": {},
   "outputs": [],
   "source": [
    "a.get('Age')"
   ]
  },
  {
   "cell_type": "code",
   "execution_count": 75,
   "id": "94e6f2e8",
   "metadata": {},
   "outputs": [
    {
     "data": {
      "text/plain": [
       "{'Locker1': 123, 'Locker2': 900000, 'Lockerr1': 98}"
      ]
     },
     "execution_count": 75,
     "metadata": {},
     "output_type": "execute_result"
    }
   ],
   "source": [
    "# methods\n",
    "# items\n",
    "\n",
    "a"
   ]
  },
  {
   "cell_type": "code",
   "execution_count": 79,
   "id": "d127afe5",
   "metadata": {},
   "outputs": [
    {
     "ename": "AttributeError",
     "evalue": "'dict' object has no attribute 'item'",
     "output_type": "error",
     "traceback": [
      "\u001b[1;31m---------------------------------------------------------------------------\u001b[0m",
      "\u001b[1;31mAttributeError\u001b[0m                            Traceback (most recent call last)",
      "Cell \u001b[1;32mIn[79], line 1\u001b[0m\n\u001b[1;32m----> 1\u001b[0m a\u001b[38;5;241m.\u001b[39mitem()\n",
      "\u001b[1;31mAttributeError\u001b[0m: 'dict' object has no attribute 'item'"
     ]
    }
   ],
   "source": [
    "a.item()"
   ]
  },
  {
   "cell_type": "code",
   "execution_count": 80,
   "id": "617239d5",
   "metadata": {},
   "outputs": [
    {
     "ename": "AttributeError",
     "evalue": "'int' object has no attribute 'get'",
     "output_type": "error",
     "traceback": [
      "\u001b[1;31m---------------------------------------------------------------------------\u001b[0m",
      "\u001b[1;31mAttributeError\u001b[0m                            Traceback (most recent call last)",
      "Cell \u001b[1;32mIn[80], line 2\u001b[0m\n\u001b[0;32m      1\u001b[0m a \u001b[38;5;241m=\u001b[39m \u001b[38;5;241m34\u001b[39m\n\u001b[1;32m----> 2\u001b[0m a\u001b[38;5;241m.\u001b[39mget()\n",
      "\u001b[1;31mAttributeError\u001b[0m: 'int' object has no attribute 'get'"
     ]
    }
   ],
   "source": [
    "a = 34\n",
    "a.get()"
   ]
  },
  {
   "cell_type": "code",
   "execution_count": 82,
   "id": "bf70554a",
   "metadata": {},
   "outputs": [
    {
     "name": "stdout",
     "output_type": "stream",
     "text": [
      "{'Locker1': 123, 'Locker2': 900}\n"
     ]
    }
   ],
   "source": [
    "print(a)"
   ]
  },
  {
   "cell_type": "code",
   "execution_count": 83,
   "id": "92e42a0c",
   "metadata": {},
   "outputs": [
    {
     "data": {
      "text/plain": [
       "900"
      ]
     },
     "execution_count": 83,
     "metadata": {},
     "output_type": "execute_result"
    }
   ],
   "source": [
    "a.get('Locker2')"
   ]
  },
  {
   "cell_type": "code",
   "execution_count": 86,
   "id": "e31b7f68",
   "metadata": {},
   "outputs": [
    {
     "data": {
      "text/plain": [
       "dict_items([('Locker1', 123), ('Locker2', 900)])"
      ]
     },
     "execution_count": 86,
     "metadata": {},
     "output_type": "execute_result"
    }
   ],
   "source": [
    "a.items()"
   ]
  },
  {
   "cell_type": "code",
   "execution_count": 87,
   "id": "988f82db",
   "metadata": {},
   "outputs": [
    {
     "name": "stdout",
     "output_type": "stream",
     "text": [
      "{'Name': ['Ajay', 'Karan', 'Nayan'], 'Age': [1, 2, 3]}\n"
     ]
    }
   ],
   "source": [
    "a = {'Name':['Ajay','Karan','Nayan'],\n",
    "    'Age':[1,2,3]}\n",
    "\n",
    "\n",
    "print(a)"
   ]
  },
  {
   "cell_type": "code",
   "execution_count": 90,
   "id": "b66f68f8",
   "metadata": {},
   "outputs": [
    {
     "data": {
      "text/plain": [
       "dict_items([('Name', ['Ajay', 'Karan', 'Nayan']), ('Age', [1, 2, 3])])"
      ]
     },
     "execution_count": 90,
     "metadata": {},
     "output_type": "execute_result"
    }
   ],
   "source": [
    "a.items()"
   ]
  },
  {
   "cell_type": "code",
   "execution_count": 95,
   "id": "6677d2d4",
   "metadata": {},
   "outputs": [
    {
     "data": {
      "text/plain": [
       "('Age', [1, 2, 3])"
      ]
     },
     "execution_count": 95,
     "metadata": {},
     "output_type": "execute_result"
    }
   ],
   "source": [
    "list(a.items())[1]"
   ]
  },
  {
   "cell_type": "code",
   "execution_count": 97,
   "id": "b1c67e80",
   "metadata": {},
   "outputs": [],
   "source": [
    "z = a.items()"
   ]
  },
  {
   "cell_type": "code",
   "execution_count": 100,
   "id": "4e6ab571",
   "metadata": {},
   "outputs": [],
   "source": [
    "b = list(z)"
   ]
  },
  {
   "cell_type": "code",
   "execution_count": 103,
   "id": "8a6aac12",
   "metadata": {},
   "outputs": [
    {
     "data": {
      "text/plain": [
       "('Age', [1, 2, 3])"
      ]
     },
     "execution_count": 103,
     "metadata": {},
     "output_type": "execute_result"
    }
   ],
   "source": [
    "b[1]"
   ]
  },
  {
   "cell_type": "code",
   "execution_count": 104,
   "id": "b6701688",
   "metadata": {},
   "outputs": [
    {
     "data": {
      "text/plain": [
       "{'Name': ['Ajay', 'Karan', 'Nayan'], 'Age': [1, 2, 3]}"
      ]
     },
     "execution_count": 104,
     "metadata": {},
     "output_type": "execute_result"
    }
   ],
   "source": [
    "a"
   ]
  },
  {
   "cell_type": "code",
   "execution_count": 106,
   "id": "7a96a620",
   "metadata": {},
   "outputs": [],
   "source": [
    "# methods"
   ]
  },
  {
   "cell_type": "code",
   "execution_count": 107,
   "id": "68e37983",
   "metadata": {},
   "outputs": [
    {
     "name": "stdout",
     "output_type": "stream",
     "text": [
      "{'a': 1, 'B': 23, 'Name': 'Mohan', 'Age': 23, 'Address': 'Noida'}\n"
     ]
    }
   ],
   "source": [
    "a = {'a':1,'B':23,'Name':'Mohan','Age':23,'Address':'Noida'}\n",
    "print(a)"
   ]
  },
  {
   "cell_type": "code",
   "execution_count": 108,
   "id": "7581b5f8",
   "metadata": {},
   "outputs": [
    {
     "data": {
      "text/plain": [
       "5"
      ]
     },
     "execution_count": 108,
     "metadata": {},
     "output_type": "execute_result"
    }
   ],
   "source": [
    "len(a)"
   ]
  },
  {
   "cell_type": "code",
   "execution_count": 109,
   "id": "c872f4bd",
   "metadata": {},
   "outputs": [
    {
     "data": {
      "text/plain": [
       "dict_keys(['a', 'B', 'Name', 'Age', 'Address'])"
      ]
     },
     "execution_count": 109,
     "metadata": {},
     "output_type": "execute_result"
    }
   ],
   "source": [
    "a.keys()"
   ]
  },
  {
   "cell_type": "code",
   "execution_count": 111,
   "id": "2b7bc2c5",
   "metadata": {},
   "outputs": [
    {
     "data": {
      "text/plain": [
       "['a', 'B', 'Name', 'Age', 'Address']"
      ]
     },
     "execution_count": 111,
     "metadata": {},
     "output_type": "execute_result"
    }
   ],
   "source": [
    "list(a)"
   ]
  },
  {
   "cell_type": "code",
   "execution_count": 112,
   "id": "c16a30a3",
   "metadata": {},
   "outputs": [
    {
     "data": {
      "text/plain": [
       "('a', 'B', 'Name', 'Age', 'Address')"
      ]
     },
     "execution_count": 112,
     "metadata": {},
     "output_type": "execute_result"
    }
   ],
   "source": [
    "tuple(a)"
   ]
  },
  {
   "cell_type": "code",
   "execution_count": 114,
   "id": "80679172",
   "metadata": {},
   "outputs": [],
   "source": [
    "# methods"
   ]
  },
  {
   "cell_type": "code",
   "execution_count": 115,
   "id": "ca567bf9",
   "metadata": {},
   "outputs": [
    {
     "data": {
      "text/plain": [
       "{'a': 1, 'B': 23, 'Name': 'Mohan', 'Age': 23, 'Address': 'Noida'}"
      ]
     },
     "execution_count": 115,
     "metadata": {},
     "output_type": "execute_result"
    }
   ],
   "source": [
    "a"
   ]
  },
  {
   "cell_type": "code",
   "execution_count": 116,
   "id": "63b9f82a",
   "metadata": {},
   "outputs": [
    {
     "data": {
      "text/plain": [
       "dict_values([1, 23, 'Mohan', 23, 'Noida'])"
      ]
     },
     "execution_count": 116,
     "metadata": {},
     "output_type": "execute_result"
    }
   ],
   "source": [
    "a.values()"
   ]
  },
  {
   "cell_type": "code",
   "execution_count": 117,
   "id": "2be10bc0",
   "metadata": {},
   "outputs": [
    {
     "data": {
      "text/plain": [
       "dict_keys(['a', 'B', 'Name', 'Age', 'Address'])"
      ]
     },
     "execution_count": 117,
     "metadata": {},
     "output_type": "execute_result"
    }
   ],
   "source": [
    "a.keys()"
   ]
  },
  {
   "cell_type": "code",
   "execution_count": 118,
   "id": "9f5eebc3",
   "metadata": {},
   "outputs": [
    {
     "data": {
      "text/plain": [
       "dict_values([1, 23, 'Mohan', 23, 'Noida'])"
      ]
     },
     "execution_count": 118,
     "metadata": {},
     "output_type": "execute_result"
    }
   ],
   "source": [
    "a.values()"
   ]
  },
  {
   "cell_type": "code",
   "execution_count": 119,
   "id": "92c60ba7",
   "metadata": {},
   "outputs": [
    {
     "data": {
      "text/plain": [
       "dict_items([('a', 1), ('B', 23), ('Name', 'Mohan'), ('Age', 23), ('Address', 'Noida')])"
      ]
     },
     "execution_count": 119,
     "metadata": {},
     "output_type": "execute_result"
    }
   ],
   "source": [
    "a.items()"
   ]
  },
  {
   "cell_type": "code",
   "execution_count": 122,
   "id": "94f591be",
   "metadata": {},
   "outputs": [],
   "source": [
    "# methods"
   ]
  },
  {
   "cell_type": "code",
   "execution_count": 123,
   "id": "12c726d4",
   "metadata": {},
   "outputs": [
    {
     "data": {
      "text/plain": [
       "{'a': 1, 'B': 23, 'Name': 'Mohan', 'Age': 23, 'Address': 'Noida'}"
      ]
     },
     "execution_count": 123,
     "metadata": {},
     "output_type": "execute_result"
    }
   ],
   "source": [
    "a"
   ]
  },
  {
   "cell_type": "code",
   "execution_count": 124,
   "id": "51000ae4",
   "metadata": {},
   "outputs": [],
   "source": [
    "b  = {}"
   ]
  },
  {
   "cell_type": "code",
   "execution_count": 126,
   "id": "93a08e1c",
   "metadata": {},
   "outputs": [],
   "source": [
    "b = b.fromkeys(a)"
   ]
  },
  {
   "cell_type": "code",
   "execution_count": 127,
   "id": "6d91230b",
   "metadata": {},
   "outputs": [
    {
     "name": "stdout",
     "output_type": "stream",
     "text": [
      "{'a': None, 'B': None, 'Name': None, 'Age': None, 'Address': None}\n"
     ]
    }
   ],
   "source": [
    "print(b)"
   ]
  },
  {
   "cell_type": "code",
   "execution_count": 130,
   "id": "1577256b",
   "metadata": {},
   "outputs": [],
   "source": [
    "# {'A':None,'B':True}"
   ]
  },
  {
   "cell_type": "code",
   "execution_count": 132,
   "id": "6b267e81",
   "metadata": {},
   "outputs": [],
   "source": [
    "# methods\n",
    "# pop',\n",
    "#  'popitem',\n",
    "#  'setdefault',\n",
    "#  'update',"
   ]
  },
  {
   "cell_type": "code",
   "execution_count": 134,
   "id": "50713da9",
   "metadata": {},
   "outputs": [
    {
     "data": {
      "text/plain": [
       "'Mohan'"
      ]
     },
     "execution_count": 134,
     "metadata": {},
     "output_type": "execute_result"
    }
   ],
   "source": [
    "a.pop('Name')"
   ]
  },
  {
   "cell_type": "code",
   "execution_count": 135,
   "id": "f7070c4b",
   "metadata": {},
   "outputs": [
    {
     "name": "stdout",
     "output_type": "stream",
     "text": [
      "{'a': 1, 'B': 23, 'Age': 23, 'Address': 'Noida'}\n"
     ]
    }
   ],
   "source": [
    "print(a)"
   ]
  },
  {
   "cell_type": "code",
   "execution_count": 137,
   "id": "cbc3eac0",
   "metadata": {},
   "outputs": [
    {
     "data": {
      "text/plain": [
       "23"
      ]
     },
     "execution_count": 137,
     "metadata": {},
     "output_type": "execute_result"
    }
   ],
   "source": [
    "a.pop('Age')"
   ]
  },
  {
   "cell_type": "code",
   "execution_count": 138,
   "id": "2935f849",
   "metadata": {},
   "outputs": [
    {
     "name": "stdout",
     "output_type": "stream",
     "text": [
      "{'a': 1, 'B': 23, 'Address': 'Noida'}\n"
     ]
    }
   ],
   "source": [
    "print(a)"
   ]
  },
  {
   "cell_type": "code",
   "execution_count": 139,
   "id": "43db1e2f",
   "metadata": {},
   "outputs": [
    {
     "data": {
      "text/plain": [
       "('Address', 'Noida')"
      ]
     },
     "execution_count": 139,
     "metadata": {},
     "output_type": "execute_result"
    }
   ],
   "source": [
    "a.popitem()"
   ]
  },
  {
   "cell_type": "code",
   "execution_count": 140,
   "id": "8076f378",
   "metadata": {},
   "outputs": [
    {
     "name": "stdout",
     "output_type": "stream",
     "text": [
      "{'a': 1, 'B': 23}\n"
     ]
    }
   ],
   "source": [
    "print(a)"
   ]
  },
  {
   "cell_type": "code",
   "execution_count": 141,
   "id": "77989e60",
   "metadata": {},
   "outputs": [
    {
     "data": {
      "text/plain": [
       "('B', 23)"
      ]
     },
     "execution_count": 141,
     "metadata": {},
     "output_type": "execute_result"
    }
   ],
   "source": [
    "a.popitem()"
   ]
  },
  {
   "cell_type": "code",
   "execution_count": 142,
   "id": "df0048d2",
   "metadata": {},
   "outputs": [
    {
     "name": "stdout",
     "output_type": "stream",
     "text": [
      "{'a': 1}\n"
     ]
    }
   ],
   "source": [
    "print(a)"
   ]
  },
  {
   "cell_type": "code",
   "execution_count": 143,
   "id": "f7f14811",
   "metadata": {},
   "outputs": [
    {
     "data": {
      "text/plain": [
       "('a', 1)"
      ]
     },
     "execution_count": 143,
     "metadata": {},
     "output_type": "execute_result"
    }
   ],
   "source": [
    "a.popitem()"
   ]
  },
  {
   "cell_type": "code",
   "execution_count": 144,
   "id": "fb0862b1",
   "metadata": {},
   "outputs": [
    {
     "name": "stdout",
     "output_type": "stream",
     "text": [
      "{}\n"
     ]
    }
   ],
   "source": [
    "print(a)"
   ]
  },
  {
   "cell_type": "code",
   "execution_count": 145,
   "id": "763975dd",
   "metadata": {},
   "outputs": [
    {
     "name": "stdout",
     "output_type": "stream",
     "text": [
      "{'Name': ['Ajay', 'Karan', 'Nayan'], 'Age': [1, 2, 3]}\n"
     ]
    }
   ],
   "source": [
    "a = {'Name':['Ajay','Karan','Nayan'],\n",
    "    'Age':[1,2,3]}\n",
    "print(a)"
   ]
  },
  {
   "cell_type": "code",
   "execution_count": 147,
   "id": "70ded676",
   "metadata": {},
   "outputs": [],
   "source": [
    "# methods"
   ]
  },
  {
   "cell_type": "code",
   "execution_count": 148,
   "id": "23480888",
   "metadata": {},
   "outputs": [],
   "source": [
    "# setdefault"
   ]
  },
  {
   "cell_type": "code",
   "execution_count": 149,
   "id": "168821e3",
   "metadata": {},
   "outputs": [
    {
     "data": {
      "text/plain": [
       "{'Name': ['Ajay', 'Karan', 'Nayan'], 'Age': [1, 2, 3]}"
      ]
     },
     "execution_count": 149,
     "metadata": {},
     "output_type": "execute_result"
    }
   ],
   "source": [
    "a"
   ]
  },
  {
   "cell_type": "code",
   "execution_count": 150,
   "id": "89b3f478",
   "metadata": {},
   "outputs": [
    {
     "name": "stdout",
     "output_type": "stream",
     "text": [
      "{'Audi': 12345, 'Bmw': 34567, 'Kia': 987654, 'Jeep': 34567, 'Nano': 987654}\n"
     ]
    }
   ],
   "source": [
    "a = {'Audi':12345,'Bmw':34567,'Kia':987654,'Jeep':34567,'Nano':987654}\n",
    "\n",
    "print(a)"
   ]
  },
  {
   "cell_type": "code",
   "execution_count": 151,
   "id": "02074353",
   "metadata": {},
   "outputs": [
    {
     "data": {
      "text/plain": [
       "34567"
      ]
     },
     "execution_count": 151,
     "metadata": {},
     "output_type": "execute_result"
    }
   ],
   "source": [
    "a.setdefault('Bmw',89)"
   ]
  },
  {
   "cell_type": "code",
   "execution_count": 152,
   "id": "47eb6274",
   "metadata": {},
   "outputs": [
    {
     "name": "stdout",
     "output_type": "stream",
     "text": [
      "{'Audi': 12345, 'Bmw': 34567, 'Kia': 987654, 'Jeep': 34567, 'Nano': 987654}\n"
     ]
    }
   ],
   "source": [
    "print(a)"
   ]
  },
  {
   "cell_type": "code",
   "execution_count": 153,
   "id": "5837d3dc",
   "metadata": {},
   "outputs": [],
   "source": [
    "a.setdefault('Maruti')"
   ]
  },
  {
   "cell_type": "code",
   "execution_count": 154,
   "id": "8cdb2e13",
   "metadata": {},
   "outputs": [
    {
     "name": "stdout",
     "output_type": "stream",
     "text": [
      "{'Audi': 12345, 'Bmw': 34567, 'Kia': 987654, 'Jeep': 34567, 'Nano': 987654, 'Maruti': None}\n"
     ]
    }
   ],
   "source": [
    "print(a)"
   ]
  },
  {
   "cell_type": "code",
   "execution_count": 156,
   "id": "3f0ac0cc",
   "metadata": {},
   "outputs": [],
   "source": [
    "# a['Maruti'] = "
   ]
  },
  {
   "cell_type": "code",
   "execution_count": 157,
   "id": "35883961",
   "metadata": {},
   "outputs": [
    {
     "data": {
      "text/plain": [
       "9876543432"
      ]
     },
     "execution_count": 157,
     "metadata": {},
     "output_type": "execute_result"
    }
   ],
   "source": [
    "a.setdefault('Thar',9876543432)"
   ]
  },
  {
   "cell_type": "code",
   "execution_count": 158,
   "id": "849ea52c",
   "metadata": {},
   "outputs": [
    {
     "name": "stdout",
     "output_type": "stream",
     "text": [
      "{'Audi': 12345, 'Bmw': 34567, 'Kia': 987654, 'Jeep': 34567, 'Nano': 987654, 'Maruti': None, 'Thar': 9876543432}\n"
     ]
    }
   ],
   "source": [
    "print(a)"
   ]
  },
  {
   "cell_type": "code",
   "execution_count": 160,
   "id": "01beb0b9",
   "metadata": {},
   "outputs": [],
   "source": [
    "a['Thar'] = 98"
   ]
  },
  {
   "cell_type": "code",
   "execution_count": 161,
   "id": "1a9436da",
   "metadata": {},
   "outputs": [
    {
     "name": "stdout",
     "output_type": "stream",
     "text": [
      "{'Audi': 12345, 'Bmw': 34567, 'Kia': 987654, 'Jeep': 34567, 'Nano': 987654, 'Maruti': None, 'Thar': 98}\n"
     ]
    }
   ],
   "source": [
    "print(a)"
   ]
  },
  {
   "cell_type": "code",
   "execution_count": null,
   "id": "6c2d06c3",
   "metadata": {},
   "outputs": [],
   "source": []
  },
  {
   "cell_type": "code",
   "execution_count": 162,
   "id": "cf178a68",
   "metadata": {},
   "outputs": [
    {
     "data": {
      "text/plain": [
       "{'Audi': 12345,\n",
       " 'Bmw': 34567,\n",
       " 'Kia': 987654,\n",
       " 'Jeep': 34567,\n",
       " 'Nano': 987654,\n",
       " 'Maruti': None,\n",
       " 'Thar': 98}"
      ]
     },
     "execution_count": 162,
     "metadata": {},
     "output_type": "execute_result"
    }
   ],
   "source": [
    "a"
   ]
  },
  {
   "cell_type": "code",
   "execution_count": 163,
   "id": "51a8b2f3",
   "metadata": {},
   "outputs": [],
   "source": [
    "a.update({'Maruti':1})"
   ]
  },
  {
   "cell_type": "code",
   "execution_count": 164,
   "id": "53f1bab8",
   "metadata": {},
   "outputs": [
    {
     "name": "stdout",
     "output_type": "stream",
     "text": [
      "{'Audi': 12345, 'Bmw': 34567, 'Kia': 987654, 'Jeep': 34567, 'Nano': 987654, 'Maruti': 1, 'Thar': 98}\n"
     ]
    }
   ],
   "source": [
    "print(a)"
   ]
  },
  {
   "cell_type": "code",
   "execution_count": 165,
   "id": "7ae0be0d",
   "metadata": {},
   "outputs": [],
   "source": [
    "a['Maruti'] = 34\n",
    "a['Bmw'] = 34\n",
    "a['Kia'] = 34"
   ]
  },
  {
   "cell_type": "code",
   "execution_count": 166,
   "id": "7ce75af8",
   "metadata": {},
   "outputs": [
    {
     "name": "stdout",
     "output_type": "stream",
     "text": [
      "{'Audi': 12345, 'Bmw': 34567, 'Kia': 987654, 'Jeep': 34567, 'Nano': 987654, 'Maruti': 34, 'Thar': 98}\n"
     ]
    }
   ],
   "source": [
    "print(a)"
   ]
  },
  {
   "cell_type": "code",
   "execution_count": 167,
   "id": "bce09aa9",
   "metadata": {},
   "outputs": [],
   "source": [
    "a.update({'Bmw':87,'Kia':45,'Jeep':56,'Swift':98})"
   ]
  },
  {
   "cell_type": "code",
   "execution_count": 168,
   "id": "d05baf62",
   "metadata": {},
   "outputs": [
    {
     "name": "stdout",
     "output_type": "stream",
     "text": [
      "{'Audi': 12345, 'Bmw': 87, 'Kia': 45, 'Jeep': 56, 'Nano': 987654, 'Maruti': 34, 'Thar': 98, 'Swift': 98}\n"
     ]
    }
   ],
   "source": [
    "print(a)"
   ]
  },
  {
   "cell_type": "code",
   "execution_count": 169,
   "id": "dadb95c4",
   "metadata": {},
   "outputs": [
    {
     "name": "stdout",
     "output_type": "stream",
     "text": [
      "{'Audi': 12345, 'Bmw': 87, 'Kia': 45, 'Jeep': 56, 'Nano': 987654, 'Maruti': 34, 'Thar': 98, 'Swift': 98}\n"
     ]
    }
   ],
   "source": [
    "print(a)"
   ]
  },
  {
   "cell_type": "code",
   "execution_count": 170,
   "id": "c6518279",
   "metadata": {},
   "outputs": [
    {
     "data": {
      "text/plain": [
       "dict_items([('Audi', 12345), ('Bmw', 87), ('Kia', 45), ('Jeep', 56), ('Nano', 987654), ('Maruti', 34), ('Thar', 98), ('Swift', 98)])"
      ]
     },
     "execution_count": 170,
     "metadata": {},
     "output_type": "execute_result"
    }
   ],
   "source": [
    "a.items()"
   ]
  },
  {
   "cell_type": "code",
   "execution_count": 173,
   "id": "2b2de594",
   "metadata": {},
   "outputs": [],
   "source": [
    "a.update([('Bmw',12),('Kia',87)])"
   ]
  },
  {
   "cell_type": "code",
   "execution_count": 174,
   "id": "72594fc2",
   "metadata": {},
   "outputs": [
    {
     "name": "stdout",
     "output_type": "stream",
     "text": [
      "{'Audi': 12345, 'Bmw': 12, 'Kia': 87, 'Jeep': 56, 'Nano': 987654, 'Maruti': 34, 'Thar': 98, 'Swift': 98}\n"
     ]
    }
   ],
   "source": [
    "print(a)"
   ]
  },
  {
   "cell_type": "code",
   "execution_count": 175,
   "id": "940b9a99",
   "metadata": {},
   "outputs": [
    {
     "name": "stdout",
     "output_type": "stream",
     "text": [
      "{'Audi': 12345, 'Bmw': 1200, 'Kia': 8700, 'Jeep': 56, 'Nano': 987654, 'Maruti': 34, 'Thar': 98, 'Swift': 98}\n"
     ]
    }
   ],
   "source": [
    "a.update((('Bmw',1200),('Kia',8700)))\n",
    "print(a)"
   ]
  },
  {
   "cell_type": "code",
   "execution_count": 177,
   "id": "02118858",
   "metadata": {},
   "outputs": [
    {
     "name": "stdout",
     "output_type": "stream",
     "text": [
      "{'Audi': 12345, 'Bmw': 12000, 'Kia': 80700, 'Jeep': 56, 'Nano': 987654, 'Maruti': 34, 'Thar': 98, 'Swift': 98}\n"
     ]
    }
   ],
   "source": [
    "a.update([['Bmw',12000],['Kia',80700]])\n",
    "print(a)"
   ]
  },
  {
   "cell_type": "code",
   "execution_count": 179,
   "id": "066a036a",
   "metadata": {},
   "outputs": [
    {
     "name": "stdout",
     "output_type": "stream",
     "text": [
      "{'Audi': 12345, 'Bmw': 12000, 'Kia': 80700, 'Jeep': 56, 'Nano': 987654, 'Maruti': 34, 'Thar': 98, 'Swift': 98}\n"
     ]
    }
   ],
   "source": [
    "print(a)"
   ]
  },
  {
   "cell_type": "code",
   "execution_count": 182,
   "id": "1ed7e834",
   "metadata": {},
   "outputs": [],
   "source": [
    "a.update(Audi=12,Bmw=23)"
   ]
  },
  {
   "cell_type": "code",
   "execution_count": 183,
   "id": "80102959",
   "metadata": {},
   "outputs": [
    {
     "name": "stdout",
     "output_type": "stream",
     "text": [
      "{'Audi': 12, 'Bmw': 23, 'Kia': 80700, 'Jeep': 56, 'Nano': 987654, 'Maruti': 34, 'Thar': 98, 'Swift': 98, 'audi': 12, 'bmw': 23}\n"
     ]
    }
   ],
   "source": [
    "print(a)"
   ]
  },
  {
   "cell_type": "code",
   "execution_count": null,
   "id": "8cef77c1",
   "metadata": {},
   "outputs": [],
   "source": []
  }
 ],
 "metadata": {
  "kernelspec": {
   "display_name": "Python 3 (ipykernel)",
   "language": "python",
   "name": "python3"
  },
  "language_info": {
   "codemirror_mode": {
    "name": "ipython",
    "version": 3
   },
   "file_extension": ".py",
   "mimetype": "text/x-python",
   "name": "python",
   "nbconvert_exporter": "python",
   "pygments_lexer": "ipython3",
   "version": "3.11.3"
  }
 },
 "nbformat": 4,
 "nbformat_minor": 5
}
