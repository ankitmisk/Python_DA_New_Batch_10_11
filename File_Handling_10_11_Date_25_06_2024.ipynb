{
 "cells": [
  {
   "cell_type": "code",
   "execution_count": 1,
   "id": "f1695b20",
   "metadata": {},
   "outputs": [],
   "source": [
    "# files:- Textual, Binary file"
   ]
  },
  {
   "cell_type": "code",
   "execution_count": 2,
   "id": "e5043c4c",
   "metadata": {},
   "outputs": [],
   "source": [
    "# those that can be open in notepad and user can understand\n",
    "# # textual Files:- notepad, csv, .py,.java,.html,.xml,.json,.tsv,.css,.js\n",
    "\n",
    "\n",
    "\n",
    "# Binary:- # those that can't be open in notepad and user can't understand\n",
    "\n",
    "# Binary:- pdf,mp3,mp4,jpg,xlsx,.exe,rar,zip,"
   ]
  },
  {
   "cell_type": "code",
   "execution_count": null,
   "id": "c62b4a9e",
   "metadata": {},
   "outputs": [],
   "source": []
  },
  {
   "cell_type": "code",
   "execution_count": 3,
   "id": "e3cced18",
   "metadata": {},
   "outputs": [],
   "source": [
    "# read,write,copy,delete,file_delete"
   ]
  },
  {
   "cell_type": "code",
   "execution_count": 24,
   "id": "a0ac606a",
   "metadata": {},
   "outputs": [],
   "source": [
    "file = open(r\"C:\\Users\\Lenovo\\Desktop\\my_data.csv\")"
   ]
  },
  {
   "cell_type": "code",
   "execution_count": 25,
   "id": "d26e71f7",
   "metadata": {},
   "outputs": [
    {
     "name": "stdout",
     "output_type": "stream",
     "text": [
      "Emp_name,age,salary,\n"
     ]
    }
   ],
   "source": [
    "print(file.read(20))"
   ]
  },
  {
   "cell_type": "code",
   "execution_count": 30,
   "id": "821c4c35",
   "metadata": {},
   "outputs": [
    {
     "name": "stdout",
     "output_type": "stream",
     "text": [
      "Emp_name,age,salary,dept,address\n",
      "\n"
     ]
    }
   ],
   "source": [
    "file = open(r\"C:\\Users\\Lenovo\\Desktop\\my_data.csv\")\n",
    "print(file.readline())"
   ]
  },
  {
   "cell_type": "code",
   "execution_count": 32,
   "id": "c410ef82",
   "metadata": {},
   "outputs": [
    {
     "name": "stdout",
     "output_type": "stream",
     "text": [
      "Emp_name,age,salary,dept,address\n",
      "Aman,56,345345,IT,Noida\n",
      "Ravi,34,34545,HR,Delhi\n",
      "Mohan,54,345435,Admin,Delhi\n",
      "Majid,29,545676,Admin,Faridabad\n",
      "Harry,,345454,HR,Faridabad\n"
     ]
    }
   ],
   "source": [
    "file = open(r\"C:\\Users\\Lenovo\\Desktop\\my_data.csv\")\n",
    "for i in file:\n",
    "    print(i,end='')"
   ]
  },
  {
   "cell_type": "code",
   "execution_count": 42,
   "id": "add24003",
   "metadata": {},
   "outputs": [],
   "source": [
    "file = open(r\"C:\\Users\\Lenovo\\Desktop\\my_data.csv\")\n",
    "\n",
    "data = file.readlines()"
   ]
  },
  {
   "cell_type": "code",
   "execution_count": 40,
   "id": "13ebae6b",
   "metadata": {},
   "outputs": [],
   "source": [
    "# file.readline()"
   ]
  },
  {
   "cell_type": "code",
   "execution_count": 47,
   "id": "fa5c92ad",
   "metadata": {},
   "outputs": [
    {
     "name": "stdout",
     "output_type": "stream",
     "text": [
      "EMP_NAME,AGE,SALARY,DEPT,ADDRESS\n",
      "AMAN,56,345345,IT,NOIDA\n",
      "RAVI,34,34545,HR,DELHI\n",
      "MOHAN,54,345435,ADMIN,DELHI\n",
      "MAJID,29,545676,ADMIN,FARIDABAD\n",
      "HARRY,,345454,HR,FARIDABAD\n"
     ]
    }
   ],
   "source": [
    "for i in data:\n",
    "    print(i.upper(),end='')"
   ]
  },
  {
   "cell_type": "code",
   "execution_count": 52,
   "id": "d8b989d5",
   "metadata": {},
   "outputs": [
    {
     "name": "stdout",
     "output_type": "stream",
     "text": [
      "closed\n"
     ]
    }
   ],
   "source": [
    "file.close()\n",
    "print('closed')"
   ]
  },
  {
   "cell_type": "code",
   "execution_count": 53,
   "id": "0f0e815c",
   "metadata": {},
   "outputs": [
    {
     "name": "stdout",
     "output_type": "stream",
     "text": [
      "i\n",
      "m\n",
      "p\n",
      "o\n",
      "r\n",
      "t\n",
      " \n",
      "r\n",
      "a\n",
      "n\n",
      "d\n",
      "o\n",
      "m\n",
      "\n",
      "\n"
     ]
    }
   ],
   "source": [
    "f = open(r\"C:\\Users\\Lenovo\\Desktop\\ajay.py\")\n",
    "\n",
    "data = ''\n",
    "\n",
    "for i in f.readline():\n",
    "    print(i)"
   ]
  },
  {
   "cell_type": "code",
   "execution_count": 57,
   "id": "a91e3a04",
   "metadata": {},
   "outputs": [],
   "source": [
    "f = open(r\"C:\\Users\\Lenovo\\Desktop\\ajay.py\")\n",
    "\n"
   ]
  },
  {
   "cell_type": "code",
   "execution_count": 58,
   "id": "d6f8166e",
   "metadata": {},
   "outputs": [],
   "source": [
    "data = []\n",
    "while True:\n",
    "    temp_data = f.readline()\n",
    "    if len(temp_data)>0:\n",
    "        data.append(temp_data)\n",
    "    else:\n",
    "        break"
   ]
  },
  {
   "cell_type": "code",
   "execution_count": 59,
   "id": "9f4d62a0",
   "metadata": {},
   "outputs": [
    {
     "name": "stdout",
     "output_type": "stream",
     "text": [
      "['import random\\n', 'print(random.randint(1,11))']\n"
     ]
    }
   ],
   "source": [
    "print(data)"
   ]
  },
  {
   "cell_type": "code",
   "execution_count": 60,
   "id": "ce0b1290",
   "metadata": {},
   "outputs": [
    {
     "data": {
      "text/plain": [
       "'print(random.randint(1,11))'"
      ]
     },
     "execution_count": 60,
     "metadata": {},
     "output_type": "execute_result"
    }
   ],
   "source": [
    "data[1]"
   ]
  },
  {
   "cell_type": "code",
   "execution_count": 62,
   "id": "4a6d08ef",
   "metadata": {},
   "outputs": [
    {
     "name": "stdout",
     "output_type": "stream",
     "text": [
      "import random\n",
      "print(random.randint(1,11))"
     ]
    }
   ],
   "source": [
    "for i in data:\n",
    "    print(i,end='')"
   ]
  },
  {
   "cell_type": "code",
   "execution_count": 63,
   "id": "ead5d193",
   "metadata": {},
   "outputs": [
    {
     "name": "stdout",
     "output_type": "stream",
     "text": [
      "done\n"
     ]
    }
   ],
   "source": [
    "f = open(r\"C:\\Users\\Lenovo\\Desktop\\order_json.json\")\n",
    "\n",
    "print('done')"
   ]
  },
  {
   "cell_type": "code",
   "execution_count": 64,
   "id": "6c1d2c67",
   "metadata": {},
   "outputs": [],
   "source": [
    "data = f.readlines()"
   ]
  },
  {
   "cell_type": "code",
   "execution_count": 69,
   "id": "82aec83f",
   "metadata": {},
   "outputs": [
    {
     "name": "stdout",
     "output_type": "stream",
     "text": [
      "done\n"
     ]
    }
   ],
   "source": [
    "final_json = ''''''\n",
    "for i in data:\n",
    "#     print(i,end='')\n",
    "    final_json += i\n",
    "    \n",
    "print('done')"
   ]
  },
  {
   "cell_type": "code",
   "execution_count": 75,
   "id": "208e9001",
   "metadata": {},
   "outputs": [],
   "source": [
    "exec('a = final_json')"
   ]
  },
  {
   "cell_type": "code",
   "execution_count": 77,
   "id": "63e33146",
   "metadata": {},
   "outputs": [
    {
     "name": "stdout",
     "output_type": "stream",
     "text": [
      "[\n",
      "\t{\n",
      "\t\t\"id\": \"0001\",\n",
      "\t\t\"type\": \"donut\",\n",
      "\t\t\"name\": \"Cake\",\n",
      "\t\t\"ppu\": 0.55,\n",
      "\t\t\"batters\":\n",
      "\t\t\t{\n",
      "\t\t\t\t\"batter\":\n",
      "\t\t\t\t\t[\n",
      "\t\t\t\t\t\t{ \"id\": \"1001\", \"type\": \"Regular\" },\n",
      "\t\t\t\t\t\t{ \"id\": \"1002\", \"type\": \"Chocolate\" },\n",
      "\t\t\t\t\t\t{ \"id\": \"1003\", \"type\": \"Blueberry\" },\n",
      "\t\t\t\t\t\t{ \"id\": \"1004\", \"type\": \"Devil's Food\" }\n",
      "\t\t\t\t\t]\n",
      "\t\t\t},\n",
      "\t\t\"topping\":\n",
      "\t\t\t[\n",
      "\t\t\t\t{ \"id\": \"5001\", \"type\": \"None\" },\n",
      "\t\t\t\t{ \"id\": \"5002\", \"type\": \"Glazed\" },\n",
      "\t\t\t\t{ \"id\": \"5005\", \"type\": \"Sugar\" },\n",
      "\t\t\t\t{ \"id\": \"5007\", \"type\": \"Powdered Sugar\" },\n",
      "\t\t\t\t{ \"id\": \"5006\", \"type\": \"Chocolate with Sprinkles\" },\n",
      "\t\t\t\t{ \"id\": \"5003\", \"type\": \"Chocolate\" },\n",
      "\t\t\t\t{ \"id\": \"5004\", \"type\": \"Maple\" }\n",
      "\t\t\t]\n",
      "\t},\n",
      "\t{\n",
      "\t\t\"id\": \"0002\",\n",
      "\t\t\"type\": \"donut\",\n",
      "\t\t\"name\": \"Raised\",\n",
      "\t\t\"ppu\": 0.55,\n",
      "\t\t\"batters\":\n",
      "\t\t\t{\n",
      "\t\t\t\t\"batter\":\n",
      "\t\t\t\t\t[\n",
      "\t\t\t\t\t\t{ \"id\": \"1001\", \"type\": \"Regular\" }\n",
      "\t\t\t\t\t]\n",
      "\t\t\t},\n",
      "\t\t\"topping\":\n",
      "\t\t\t[\n",
      "\t\t\t\t{ \"id\": \"5001\", \"type\": \"None\" },\n",
      "\t\t\t\t{ \"id\": \"5002\", \"type\": \"Glazed\" },\n",
      "\t\t\t\t{ \"id\": \"5005\", \"type\": \"Sugar\" },\n",
      "\t\t\t\t{ \"id\": \"5003\", \"type\": \"Chocolate\" },\n",
      "\t\t\t\t{ \"id\": \"5004\", \"type\": \"Maple\" }\n",
      "\t\t\t]\n",
      "\t},\n",
      "\t{\n",
      "\t\t\"id\": \"0003\",\n",
      "\t\t\"type\": \"donut\",\n",
      "\t\t\"name\": \"Old Fashioned\",\n",
      "\t\t\"ppu\": 0.55,\n",
      "\t\t\"batters\":\n",
      "\t\t\t{\n",
      "\t\t\t\t\"batter\":\n",
      "\t\t\t\t\t[\n",
      "\t\t\t\t\t\t{ \"id\": \"1001\", \"type\": \"Regular\" },\n",
      "\t\t\t\t\t\t{ \"id\": \"1002\", \"type\": \"Chocolate\" }\n",
      "\t\t\t\t\t]\n",
      "\t\t\t},\n",
      "\t\t\"topping\":\n",
      "\t\t\t[\n",
      "\t\t\t\t{ \"id\": \"5001\", \"type\": \"None\" },\n",
      "\t\t\t\t{ \"id\": \"5002\", \"type\": \"Glazed\" },\n",
      "\t\t\t\t{ \"id\": \"5003\", \"type\": \"Chocolate\" },\n",
      "\t\t\t\t{ \"id\": \"5004\", \"type\": \"Maple\" }\n",
      "\t\t\t]\n",
      "\t}\n",
      "]\n"
     ]
    }
   ],
   "source": [
    "print(a)"
   ]
  },
  {
   "cell_type": "code",
   "execution_count": 78,
   "id": "44d80ffd",
   "metadata": {},
   "outputs": [
    {
     "ename": "UnsupportedOperation",
     "evalue": "not writable",
     "output_type": "error",
     "traceback": [
      "\u001b[1;31m---------------------------------------------------------------------------\u001b[0m",
      "\u001b[1;31mUnsupportedOperation\u001b[0m                      Traceback (most recent call last)",
      "Cell \u001b[1;32mIn[78], line 3\u001b[0m\n\u001b[0;32m      1\u001b[0m f \u001b[38;5;241m=\u001b[39m \u001b[38;5;28mopen\u001b[39m(\u001b[38;5;124mr\u001b[39m\u001b[38;5;124m\"\u001b[39m\u001b[38;5;124mC:\u001b[39m\u001b[38;5;124m\\\u001b[39m\u001b[38;5;124mUsers\u001b[39m\u001b[38;5;124m\\\u001b[39m\u001b[38;5;124mLenovo\u001b[39m\u001b[38;5;124m\\\u001b[39m\u001b[38;5;124mDesktop\u001b[39m\u001b[38;5;124m\\\u001b[39m\u001b[38;5;124majay.py\u001b[39m\u001b[38;5;124m\"\u001b[39m)\n\u001b[1;32m----> 3\u001b[0m f\u001b[38;5;241m.\u001b[39mwrite(\u001b[38;5;124m'\u001b[39m\u001b[38;5;124mHello World!!\u001b[39m\u001b[38;5;124m'\u001b[39m)\n\u001b[0;32m      4\u001b[0m \u001b[38;5;28mprint\u001b[39m(\u001b[38;5;124m'\u001b[39m\u001b[38;5;124mdone\u001b[39m\u001b[38;5;124m'\u001b[39m)\n",
      "\u001b[1;31mUnsupportedOperation\u001b[0m: not writable"
     ]
    }
   ],
   "source": [
    "f = open(r\"C:\\Users\\Lenovo\\Desktop\\ajay.py\")\n",
    "\n",
    "f.write('Hello World!!')\n",
    "print('done')"
   ]
  },
  {
   "cell_type": "code",
   "execution_count": 79,
   "id": "6a006b8f",
   "metadata": {},
   "outputs": [],
   "source": [
    "# new file\n",
    "# old file"
   ]
  },
  {
   "cell_type": "code",
   "execution_count": 80,
   "id": "ffd928f0",
   "metadata": {},
   "outputs": [],
   "source": [
    "# new file"
   ]
  },
  {
   "cell_type": "code",
   "execution_count": 81,
   "id": "dda194ba",
   "metadata": {},
   "outputs": [],
   "source": []
  },
  {
   "cell_type": "code",
   "execution_count": 87,
   "id": "c0583088",
   "metadata": {},
   "outputs": [
    {
     "name": "stdout",
     "output_type": "stream",
     "text": [
      "Done\n"
     ]
    }
   ],
   "source": [
    "f = open('majid.txt',mode = 'w')\n",
    "f.write('Python is Awesome')\n",
    "f.write('\\nand so Datascience.\\n')\n",
    "\n",
    "f.close()\n",
    "print('Done')"
   ]
  },
  {
   "cell_type": "code",
   "execution_count": 84,
   "id": "310bc735",
   "metadata": {},
   "outputs": [],
   "source": [
    "# len('we are learning python!!')"
   ]
  },
  {
   "cell_type": "code",
   "execution_count": null,
   "id": "8ce4cc59",
   "metadata": {},
   "outputs": [],
   "source": []
  },
  {
   "cell_type": "code",
   "execution_count": 88,
   "id": "3c032bbe",
   "metadata": {},
   "outputs": [
    {
     "name": "stdout",
     "output_type": "stream",
     "text": [
      "Done\n"
     ]
    }
   ],
   "source": [
    "f1 = open('majid.txt',mode = 'r')\n",
    "\n",
    "data = f1.read()\n",
    "\n",
    "f2 = open('majid_copy.txt',mode = 'w')\n",
    "\n",
    "f2.write(data)\n",
    "\n",
    "\n",
    "f1.close()\n",
    "f2.close()\n",
    "print('Done')"
   ]
  },
  {
   "cell_type": "code",
   "execution_count": 95,
   "id": "f49b9051",
   "metadata": {},
   "outputs": [
    {
     "name": "stdout",
     "output_type": "stream",
     "text": [
      "Done\n"
     ]
    }
   ],
   "source": [
    "path = r\"C:\\Users\\Lenovo\\Desktop\\majid_all_files\"\n",
    "\n",
    "f1 = open('majid.txt',mode = 'r')\n",
    "\n",
    "data = f1.read()\n",
    "\n",
    "\n",
    "\n",
    "for i in range(1,2):\n",
    "    f2 = open(path+f'\\majid_copy_{i}.txt',mode = 'w')\n",
    "\n",
    "    f2.write(data)\n",
    "    f2.close()\n",
    "    \n",
    "    \n",
    "f1.close()\n",
    "print('Done')"
   ]
  },
  {
   "cell_type": "code",
   "execution_count": 93,
   "id": "aefe7f9e",
   "metadata": {},
   "outputs": [
    {
     "name": "stdout",
     "output_type": "stream",
     "text": [
      "Enter your name: komal\n",
      "Enter your age: 12\n",
      "Enter your address: Delhi\n",
      "Enter your class: 12\n",
      "Enter your roll no: 12\n",
      "1 row data inserted successfully!!\n",
      "\n",
      "Enter your name: Ajay\n",
      "Enter your age: 12\n",
      "Enter your address: Delhi\n",
      "Enter your class: 12\n",
      "Enter your roll no: 12\n",
      "2 row data inserted successfully!!\n",
      "\n",
      "done\n"
     ]
    }
   ],
   "source": [
    "# data = 'name,age,address,class,roll_no,date_time\\n'.upper()\n",
    "\n",
    "data = ''\n",
    "\n",
    "from datetime import datetime\n",
    "\n",
    "for i in range(2):\n",
    "    name  = input('Enter your name: ')\n",
    "\n",
    "    age = input('Enter your age: ')\n",
    "\n",
    "    address = input('Enter your address: ')\n",
    "\n",
    "    classs = input('Enter your class: ')\n",
    "\n",
    "    roll_no  = input('Enter your roll no: ')\n",
    "\n",
    "    abhi_ka_date = datetime.now()\n",
    "    \n",
    "    one_row = f'{name},{age},{address},{classs},{roll_no},{abhi_ka_date}'\n",
    "    \n",
    "    data += one_row+'\\n'\n",
    "    \n",
    "    print(f'''{i+1} row data inserted successfully!!''',end='\\n'*2)\n",
    "\n",
    "f = open(r'C:\\Users\\Lenovo\\Desktop\\majid_all_files\\student_details.csv','a')\n",
    "\n",
    "f.write(data)\n",
    "f.close()\n",
    "print('done')"
   ]
  },
  {
   "cell_type": "code",
   "execution_count": 94,
   "id": "a8f9666d",
   "metadata": {},
   "outputs": [],
   "source": [
    "# 'Ajay,23,noida,12,10'"
   ]
  },
  {
   "cell_type": "code",
   "execution_count": 96,
   "id": "875843bc",
   "metadata": {},
   "outputs": [],
   "source": [
    "import os"
   ]
  },
  {
   "cell_type": "code",
   "execution_count": 102,
   "id": "f55a4b21",
   "metadata": {},
   "outputs": [
    {
     "data": {
      "text/plain": [
       "'majid_copy_1 - Copy (10).txt'"
      ]
     },
     "execution_count": 102,
     "metadata": {},
     "output_type": "execute_result"
    }
   ],
   "source": [
    "i"
   ]
  },
  {
   "cell_type": "code",
   "execution_count": 103,
   "id": "12444780",
   "metadata": {},
   "outputs": [
    {
     "name": "stdout",
     "output_type": "stream",
     "text": [
      "Done\n"
     ]
    }
   ],
   "source": [
    "all_files = os.listdir(r\"C:\\Users\\Lenovo\\Desktop\\majid_all_files\")\n",
    "for i in all_files:\n",
    "    os.remove(r\"C:\\Users\\Lenovo\\Desktop\\majid_all_files\\\\\"+i)\n",
    "    \n",
    "print('Done')"
   ]
  },
  {
   "cell_type": "markdown",
   "id": "819c4c1f",
   "metadata": {},
   "source": [
    "# day 2 File handling\n",
    "#### Binary File"
   ]
  },
  {
   "cell_type": "code",
   "execution_count": 4,
   "id": "6d443ca1",
   "metadata": {},
   "outputs": [],
   "source": [
    "file = open(r\"C:\\Users\\Lenovo\\Desktop\\new-facebook-logo-2019.jpg\",'rb')\n",
    "data = file.read()"
   ]
  },
  {
   "cell_type": "code",
   "execution_count": 5,
   "id": "501dfa35",
   "metadata": {},
   "outputs": [
    {
     "data": {
      "text/plain": [
       "bytes"
      ]
     },
     "execution_count": 5,
     "metadata": {},
     "output_type": "execute_result"
    }
   ],
   "source": [
    "type(data)"
   ]
  },
  {
   "cell_type": "code",
   "execution_count": 14,
   "id": "f1a6874e",
   "metadata": {},
   "outputs": [],
   "source": [
    "# data"
   ]
  },
  {
   "cell_type": "code",
   "execution_count": null,
   "id": "d127dd06",
   "metadata": {},
   "outputs": [],
   "source": []
  },
  {
   "cell_type": "code",
   "execution_count": null,
   "id": "a84ac0ab",
   "metadata": {},
   "outputs": [],
   "source": []
  },
  {
   "cell_type": "code",
   "execution_count": 7,
   "id": "fdad28a4",
   "metadata": {},
   "outputs": [
    {
     "name": "stdout",
     "output_type": "stream",
     "text": [
      "Done\n"
     ]
    }
   ],
   "source": [
    "new_file = open(r\"C:\\Users\\Lenovo\\Desktop\\new-facebook-logo-2019_copy_copy.jpg\",'wb')\n",
    "\n",
    "new_file.write(data)\n",
    "\n",
    "new_file.close()\n",
    "\n",
    "print('Done')"
   ]
  },
  {
   "cell_type": "code",
   "execution_count": 8,
   "id": "6c6212fc",
   "metadata": {},
   "outputs": [],
   "source": [
    "# textual file\n",
    "# mode:- 'r','w','a'\n",
    "\n",
    "# binary file:\n",
    "#     'rb','wb'"
   ]
  },
  {
   "cell_type": "code",
   "execution_count": 10,
   "id": "dffee64f",
   "metadata": {},
   "outputs": [
    {
     "name": "stdout",
     "output_type": "stream",
     "text": [
      "done\n"
     ]
    }
   ],
   "source": [
    "# mode:- x:- create when it is a new file\n",
    "f = open('majid_new.txt',mode = 'x')\n",
    "\n",
    "f.write('Today date is 25-06-24')\n",
    "f.close()\n",
    "print('done')"
   ]
  },
  {
   "cell_type": "code",
   "execution_count": null,
   "id": "22ea0853",
   "metadata": {},
   "outputs": [],
   "source": []
  },
  {
   "cell_type": "code",
   "execution_count": null,
   "id": "2281ecc3",
   "metadata": {},
   "outputs": [],
   "source": []
  },
  {
   "cell_type": "code",
   "execution_count": 11,
   "id": "f65d7ec7",
   "metadata": {},
   "outputs": [
    {
     "ename": "UnsupportedOperation",
     "evalue": "not readable",
     "output_type": "error",
     "traceback": [
      "\u001b[1;31m---------------------------------------------------------------------------\u001b[0m",
      "\u001b[1;31mUnsupportedOperation\u001b[0m                      Traceback (most recent call last)",
      "Cell \u001b[1;32mIn[11], line 3\u001b[0m\n\u001b[0;32m      1\u001b[0m f \u001b[38;5;241m=\u001b[39m \u001b[38;5;28mopen\u001b[39m(\u001b[38;5;124m'\u001b[39m\u001b[38;5;124mmajid_new.txt\u001b[39m\u001b[38;5;124m'\u001b[39m,\u001b[38;5;124m'\u001b[39m\u001b[38;5;124mw\u001b[39m\u001b[38;5;124m'\u001b[39m)\n\u001b[1;32m----> 3\u001b[0m \u001b[38;5;28mprint\u001b[39m(f\u001b[38;5;241m.\u001b[39mread())\n",
      "\u001b[1;31mUnsupportedOperation\u001b[0m: not readable"
     ]
    }
   ],
   "source": [
    "f = open('majid_new.txt','w')\n",
    "\n",
    "print(f.read())\n",
    "\n"
   ]
  },
  {
   "cell_type": "code",
   "execution_count": 12,
   "id": "6f00c448",
   "metadata": {},
   "outputs": [
    {
     "ename": "UnsupportedOperation",
     "evalue": "not writable",
     "output_type": "error",
     "traceback": [
      "\u001b[1;31m---------------------------------------------------------------------------\u001b[0m",
      "\u001b[1;31mUnsupportedOperation\u001b[0m                      Traceback (most recent call last)",
      "Cell \u001b[1;32mIn[12], line 3\u001b[0m\n\u001b[0;32m      1\u001b[0m f \u001b[38;5;241m=\u001b[39m \u001b[38;5;28mopen\u001b[39m(\u001b[38;5;124m'\u001b[39m\u001b[38;5;124mmajid_new.txt\u001b[39m\u001b[38;5;124m'\u001b[39m,\u001b[38;5;124m'\u001b[39m\u001b[38;5;124mr\u001b[39m\u001b[38;5;124m'\u001b[39m)\n\u001b[1;32m----> 3\u001b[0m f\u001b[38;5;241m.\u001b[39mwrite(\u001b[38;5;124m'\u001b[39m\u001b[38;5;124mData\u001b[39m\u001b[38;5;124m'\u001b[39m)\n",
      "\u001b[1;31mUnsupportedOperation\u001b[0m: not writable"
     ]
    }
   ],
   "source": [
    "f = open('majid_new.txt','r')\n",
    "\n",
    "f.write('Data')\n",
    "\n"
   ]
  },
  {
   "cell_type": "code",
   "execution_count": 13,
   "id": "9ba27611",
   "metadata": {},
   "outputs": [
    {
     "name": "stdout",
     "output_type": "stream",
     "text": [
      "done\n"
     ]
    }
   ],
   "source": [
    "# mode : +\n",
    "f = open('majid_new.txt','r+')\n",
    "\n",
    "f.write('This is a new Data')\n",
    "f.close()\n",
    "print('done')"
   ]
  },
  {
   "cell_type": "code",
   "execution_count": null,
   "id": "e0ad3be3",
   "metadata": {},
   "outputs": [],
   "source": []
  },
  {
   "cell_type": "code",
   "execution_count": null,
   "id": "6e6477d8",
   "metadata": {},
   "outputs": [],
   "source": []
  },
  {
   "cell_type": "code",
   "execution_count": 20,
   "id": "0b2be6a8",
   "metadata": {},
   "outputs": [
    {
     "name": "stdout",
     "output_type": "stream",
     "text": [
      "\n",
      "This is a new Line\n"
     ]
    }
   ],
   "source": [
    "f = open('majid_new.txt','w+')\n",
    "\n",
    "\n",
    "f.write('Write this')\n",
    "f.write('\\nThis is a new Line')\n",
    "\n",
    "\n",
    "f.seek(11)\n",
    "print(f.read())\n",
    "\n",
    "f.close()"
   ]
  },
  {
   "cell_type": "code",
   "execution_count": null,
   "id": "9b358bbf",
   "metadata": {},
   "outputs": [],
   "source": []
  },
  {
   "cell_type": "code",
   "execution_count": null,
   "id": "6d01db82",
   "metadata": {},
   "outputs": [],
   "source": []
  },
  {
   "cell_type": "code",
   "execution_count": 21,
   "id": "0d9d8ee6",
   "metadata": {},
   "outputs": [
    {
     "name": "stdout",
     "output_type": "stream",
     "text": [
      "\n",
      "This is a new Line\n",
      "This is an another new Line\n"
     ]
    }
   ],
   "source": [
    "# mode:- a+\n",
    "\n",
    "f = open('majid_new.txt','a+')\n",
    "\n",
    "\n",
    "f.write('\\nThis is an another new Line')\n",
    "\n",
    "\n",
    "f.seek(11)\n",
    "print(f.read())\n",
    "\n",
    "f.close()"
   ]
  },
  {
   "cell_type": "code",
   "execution_count": null,
   "id": "d44dbd85",
   "metadata": {},
   "outputs": [],
   "source": []
  },
  {
   "cell_type": "code",
   "execution_count": null,
   "id": "3dae7e93",
   "metadata": {},
   "outputs": [],
   "source": []
  },
  {
   "cell_type": "code",
   "execution_count": 22,
   "id": "ce2f40a3",
   "metadata": {},
   "outputs": [
    {
     "name": "stdout",
     "output_type": "stream",
     "text": [
      " new Line\n"
     ]
    }
   ],
   "source": [
    "# mode:- x+\n",
    "\n",
    "f = open('shrey_new.txt','x+')\n",
    "\n",
    "\n",
    "f.write('\\nThis is a new Line')\n",
    "\n",
    "\n",
    "f.seek(11)\n",
    "print(f.read())\n",
    "\n",
    "f.close()"
   ]
  },
  {
   "cell_type": "code",
   "execution_count": 23,
   "id": "a4d58232",
   "metadata": {},
   "outputs": [],
   "source": [
    "# mode: 'r','w','a','x','w+','r+','x+','a+'\n",
    "\n"
   ]
  },
  {
   "cell_type": "code",
   "execution_count": 25,
   "id": "44f5e95d",
   "metadata": {},
   "outputs": [],
   "source": [
    "# binary file\n",
    "# mode:  'rb','wb','ab','xb','rb+','wb+','xb+','ab+'"
   ]
  },
  {
   "cell_type": "code",
   "execution_count": 27,
   "id": "b6557895",
   "metadata": {},
   "outputs": [
    {
     "name": "stdout",
     "output_type": "stream",
     "text": [
      "done\n"
     ]
    }
   ],
   "source": [
    "file = open(r\"C:\\Users\\Lenovo\\Desktop\\kohli_image.jpg\",'rb')\n",
    "\n",
    "new_file = open(r\"kohli_image_copy.jpg\",'wb')\n",
    "\n",
    "new_file.write(file.read())\n",
    "\n",
    "new_file.close()\n",
    "print('done')"
   ]
  },
  {
   "cell_type": "code",
   "execution_count": 28,
   "id": "de76ee81",
   "metadata": {},
   "outputs": [
    {
     "name": "stdout",
     "output_type": "stream",
     "text": [
      "done\n"
     ]
    }
   ],
   "source": [
    "path = r\"C:\\Users\\Lenovo\\Downloads\\Zoom_cm_fo42pnktZ9vvrZo4_m9CXBAYksFOKiiH-HrNlriMCm0BQwBvls4VNj@BZ0BcIahFuW3ZrBT_kdb5897d1531bfb6c_.exe\"\n",
    "\n",
    "f = open(path,'rb')\n",
    "\n",
    "new_f = open(r\"C:\\Users\\Lenovo\\Desktop\\zoom_copy.exe\",'wb')\n",
    "\n",
    "new_f.write(f.read())\n",
    "\n",
    "print('done')"
   ]
  },
  {
   "cell_type": "code",
   "execution_count": null,
   "id": "bf81bb15",
   "metadata": {},
   "outputs": [],
   "source": []
  },
  {
   "cell_type": "code",
   "execution_count": null,
   "id": "da206924",
   "metadata": {},
   "outputs": [],
   "source": []
  },
  {
   "cell_type": "code",
   "execution_count": null,
   "id": "a80824d5",
   "metadata": {},
   "outputs": [],
   "source": []
  },
  {
   "cell_type": "code",
   "execution_count": 1,
   "id": "47578fae",
   "metadata": {},
   "outputs": [],
   "source": [
    "import requests as r"
   ]
  },
  {
   "cell_type": "code",
   "execution_count": 3,
   "id": "f1da62fb",
   "metadata": {},
   "outputs": [
    {
     "data": {
      "text/plain": [
       "<Response [200]>"
      ]
     },
     "execution_count": 3,
     "metadata": {},
     "output_type": "execute_result"
    }
   ],
   "source": [
    "url = '''https://akm-img-a-in.tosshub.com/sites/visualstory/stories/2023_04/story_32974/assets/2.jpeg?time=1682335725'''\n",
    "response = r.get(url)\n",
    "response"
   ]
  },
  {
   "cell_type": "code",
   "execution_count": 5,
   "id": "3b94bca2",
   "metadata": {},
   "outputs": [
    {
     "name": "stdout",
     "output_type": "stream",
     "text": [
      "done\n"
     ]
    }
   ],
   "source": [
    "data = response.content\n",
    "print('done')"
   ]
  },
  {
   "cell_type": "code",
   "execution_count": 7,
   "id": "c67edb41",
   "metadata": {},
   "outputs": [
    {
     "name": "stdout",
     "output_type": "stream",
     "text": [
      "done\n"
     ]
    }
   ],
   "source": [
    "f = open(r\"C:\\Users\\Lenovo\\Desktop\\sachin.jpg\",'wb')\n",
    "\n",
    "f.write(data)\n",
    "f.close()\n",
    "\n",
    "print('done')"
   ]
  },
  {
   "cell_type": "code",
   "execution_count": null,
   "id": "ca522e47",
   "metadata": {},
   "outputs": [],
   "source": []
  },
  {
   "cell_type": "code",
   "execution_count": null,
   "id": "65fc6886",
   "metadata": {},
   "outputs": [],
   "source": []
  },
  {
   "cell_type": "code",
   "execution_count": 8,
   "id": "64ed559f",
   "metadata": {},
   "outputs": [],
   "source": [
    "# context manager\n",
    "# with statement use"
   ]
  },
  {
   "cell_type": "code",
   "execution_count": 9,
   "id": "5f6ae3ce",
   "metadata": {},
   "outputs": [
    {
     "name": "stdout",
     "output_type": "stream",
     "text": [
      "done\n"
     ]
    }
   ],
   "source": [
    "with open(r\"C:\\Users\\Lenovo\\Desktop\\sachin_copy.jpg\",'wb') as rahul :\n",
    "    rahul.write(data)\n",
    "    \n",
    "print('done')"
   ]
  },
  {
   "cell_type": "code",
   "execution_count": null,
   "id": "5ab5682d",
   "metadata": {},
   "outputs": [],
   "source": []
  },
  {
   "cell_type": "code",
   "execution_count": null,
   "id": "4326c511",
   "metadata": {},
   "outputs": [],
   "source": []
  },
  {
   "cell_type": "code",
   "execution_count": 10,
   "id": "5c0ca1ac",
   "metadata": {},
   "outputs": [
    {
     "name": "stdout",
     "output_type": "stream",
     "text": [
      "Done\n"
     ]
    }
   ],
   "source": [
    "with open('File_Handling_10_11_Date_22_06_2024.ipynb','rb') as f:\n",
    "    with open(r\"C:\\Users\\Lenovo\\Desktop\\file_handling.ipynb\",'wb') as nf:\n",
    "        nf.write(f.read())\n",
    "        \n",
    "print('Done')"
   ]
  },
  {
   "cell_type": "code",
   "execution_count": null,
   "id": "71b777dd",
   "metadata": {},
   "outputs": [],
   "source": []
  },
  {
   "cell_type": "code",
   "execution_count": null,
   "id": "9d3c621a",
   "metadata": {},
   "outputs": [],
   "source": []
  },
  {
   "cell_type": "code",
   "execution_count": 12,
   "id": "c30be38c",
   "metadata": {},
   "outputs": [
    {
     "name": "stdout",
     "output_type": "stream",
     "text": [
      "done\n"
     ]
    }
   ],
   "source": [
    "path = r\"C:\\Users\\Lenovo\\Desktop\\instagram_pics\"\n",
    "\n",
    "\n",
    "\n",
    "for i in range(1,51):\n",
    "    url = '''https://picsum.photos/1080/1080'''\n",
    "    response = r.get(url)\n",
    "    data = response.content\n",
    "    \n",
    "    \n",
    "    with open(path+f'\\\\insta_images_{i}.jpg','wb') as f:\n",
    "        f.write(data)\n",
    "        \n",
    "print('done')"
   ]
  },
  {
   "cell_type": "code",
   "execution_count": 13,
   "id": "72b5d526",
   "metadata": {},
   "outputs": [],
   "source": [
    "# instabot"
   ]
  },
  {
   "cell_type": "code",
   "execution_count": null,
   "id": "dab8b58a",
   "metadata": {},
   "outputs": [],
   "source": []
  },
  {
   "cell_type": "code",
   "execution_count": null,
   "id": "42014c81",
   "metadata": {},
   "outputs": [],
   "source": []
  },
  {
   "cell_type": "code",
   "execution_count": null,
   "id": "a91673ed",
   "metadata": {},
   "outputs": [],
   "source": []
  }
 ],
 "metadata": {
  "kernelspec": {
   "display_name": "Python 3 (ipykernel)",
   "language": "python",
   "name": "python3"
  },
  "language_info": {
   "codemirror_mode": {
    "name": "ipython",
    "version": 3
   },
   "file_extension": ".py",
   "mimetype": "text/x-python",
   "name": "python",
   "nbconvert_exporter": "python",
   "pygments_lexer": "ipython3",
   "version": "3.11.3"
  }
 },
 "nbformat": 4,
 "nbformat_minor": 5
}
