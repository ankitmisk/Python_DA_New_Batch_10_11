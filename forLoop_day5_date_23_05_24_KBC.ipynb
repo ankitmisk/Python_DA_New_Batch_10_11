{
 "cells": [
  {
   "cell_type": "code",
   "execution_count": 1,
   "id": "357b0a4a",
   "metadata": {},
   "outputs": [],
   "source": [
    "# gtts:- google text to speech conv\n",
    "# paygame:- game development"
   ]
  },
  {
   "cell_type": "code",
   "execution_count": 2,
   "id": "9fd3cd12",
   "metadata": {},
   "outputs": [],
   "source": [
    "# pip install gTTS"
   ]
  },
  {
   "cell_type": "code",
   "execution_count": 3,
   "id": "e52a56f4",
   "metadata": {},
   "outputs": [
    {
     "name": "stdout",
     "output_type": "stream",
     "text": [
      "done\n"
     ]
    }
   ],
   "source": [
    "from gtts import gTTS\n",
    "\n",
    "audio = gTTS('We are in Techvidya')\n",
    "audio.save('tech.mp3')\n",
    "print('done')"
   ]
  },
  {
   "cell_type": "code",
   "execution_count": 4,
   "id": "1019780d",
   "metadata": {},
   "outputs": [
    {
     "data": {
      "text/plain": [
       "(5, 0)"
      ]
     },
     "execution_count": 4,
     "metadata": {},
     "output_type": "execute_result"
    }
   ],
   "source": [
    "import pygame\n",
    "pygame.init()"
   ]
  },
  {
   "cell_type": "code",
   "execution_count": 5,
   "id": "1b0d3125",
   "metadata": {},
   "outputs": [
    {
     "data": {
      "text/plain": [
       "<pygame.mixer.Channel at 0x1f45f9afbb0>"
      ]
     },
     "execution_count": 5,
     "metadata": {},
     "output_type": "execute_result"
    }
   ],
   "source": [
    "music = pygame.mixer.Sound('tech.mp3')\n",
    "music.play()"
   ]
  },
  {
   "cell_type": "code",
   "execution_count": null,
   "id": "55d7e687",
   "metadata": {},
   "outputs": [],
   "source": []
  },
  {
   "cell_type": "code",
   "execution_count": null,
   "id": "60c7ca1a",
   "metadata": {},
   "outputs": [],
   "source": []
  },
  {
   "cell_type": "code",
   "execution_count": 38,
   "id": "a8f2d096",
   "metadata": {
    "scrolled": true
   },
   "outputs": [
    {
     "name": "stdout",
     "output_type": "stream",
     "text": [
      "Question No 1:  What is the pH value of the human body?\n",
      "\n",
      "A: 9.2 to 9.8\n",
      "B: 7.0 to 7.8\n"
     ]
    },
    {
     "ename": "KeyboardInterrupt",
     "evalue": "",
     "output_type": "error",
     "traceback": [
      "\u001b[1;31m---------------------------------------------------------------------------\u001b[0m",
      "\u001b[1;31mKeyboardInterrupt\u001b[0m                         Traceback (most recent call last)",
      "Cell \u001b[1;32mIn[38], line 55\u001b[0m\n\u001b[0;32m     53\u001b[0m         time\u001b[38;5;241m.\u001b[39msleep(\u001b[38;5;241m2.5\u001b[39m)\n\u001b[0;32m     54\u001b[0m     \u001b[38;5;28;01melif\u001b[39;00m \u001b[38;5;28mlen\u001b[39m(\u001b[38;5;124mf\u001b[39m\u001b[38;5;124m'\u001b[39m\u001b[38;5;124moption \u001b[39m\u001b[38;5;132;01m{\u001b[39;00mopt[op_index]\u001b[38;5;132;01m}\u001b[39;00m\u001b[38;5;124m \u001b[39m\u001b[38;5;132;01m{\u001b[39;00mop_value\u001b[38;5;132;01m}\u001b[39;00m\u001b[38;5;124m'\u001b[39m)\u001b[38;5;241m>\u001b[39m\u001b[38;5;241m10\u001b[39m:\n\u001b[1;32m---> 55\u001b[0m         time\u001b[38;5;241m.\u001b[39msleep(\u001b[38;5;241m4\u001b[39m)\n\u001b[0;32m     57\u001b[0m user_ans \u001b[38;5;241m=\u001b[39m \u001b[38;5;28minput\u001b[39m(\u001b[38;5;124m'\u001b[39m\u001b[38;5;124mSelect your option: \u001b[39m\u001b[38;5;124m'\u001b[39m)\u001b[38;5;241m.\u001b[39mupper()\n\u001b[0;32m     59\u001b[0m correct_ans \u001b[38;5;241m=\u001b[39m correct_op[index]\n",
      "\u001b[1;31mKeyboardInterrupt\u001b[0m: "
     ]
    }
   ],
   "source": [
    "import time\n",
    "questions = ['What is the pH value of the human body?',\n",
    "            'Which of the following are called \"Key Industrial animals\"?',\n",
    "            ' Which of the given amendments made it compulsory for the president to consent to the constitutional Amendment bills?',\n",
    "            'Elections to panchayats in state are regulated by',\n",
    "            'Which of the following Himalayan regions is called \"Shivalik\\'s\"?']\n",
    "\n",
    "\n",
    "options = [['9.2 to 9.8','7.0 to 7.8','6.1 to 6.3','5.4 to 5.6'],\n",
    "           ['Producers','Tertiary consumers','Primary consumers','None of these'],\n",
    "          ['27th','29th','24th','22th'],\n",
    "           ['Gram panchayat','Nagar Nigam','Election Commission of India','State Election Commission'],\n",
    "           ['Upper Himalayas','Lower Himalayas','Outer Himalayas','Inner Himalayas']\n",
    "          ]\n",
    "\n",
    "\n",
    "\n",
    "correct_op = ['B','C','C','D','C']\n",
    "\n",
    "total_money = 0\n",
    "\n",
    "opt = 'ABCD'\n",
    "\n",
    "\n",
    "music = pygame.mixer.Sound(r'C:\\Users\\Lenovo\\Downloads\\kbc_bg.mp3')\n",
    "music.play()\n",
    "\n",
    "time.sleep(5)\n",
    "\n",
    "music.stop()\n",
    "\n",
    "for index,quest in enumerate(questions):\n",
    "    print(f'Question No {index+1}: ',quest)\n",
    "    \n",
    "    audio = gTTS(quest)\n",
    "    audio.save('quest.mp3')\n",
    "    \n",
    "    music = pygame.mixer.Sound('quest.mp3')\n",
    "    music.play()\n",
    "    time.sleep(3)\n",
    "    \n",
    "    print()\n",
    "    for op_index,op_value in enumerate(options[index]):\n",
    "        \n",
    "        print(f'{opt[op_index]}:',op_value)\n",
    "        \n",
    "        audio = gTTS(f'option {opt[op_index]} {op_value}')\n",
    "        audio.save('op.mp3')\n",
    "\n",
    "        music = pygame.mixer.Sound('op.mp3')\n",
    "        music.play()\n",
    "        if len(f'option {opt[op_index]} {op_value}')<10:\n",
    "            time.sleep(2.5)\n",
    "        elif len(f'option {opt[op_index]} {op_value}')>10:\n",
    "            time.sleep(4)\n",
    "    \n",
    "    user_ans = input('Select your option: ').upper()\n",
    "    \n",
    "    correct_ans = correct_op[index]\n",
    "    \n",
    "    if user_ans == correct_ans:\n",
    "        print('Correct Answer!!')\n",
    "        total_money+= 10000\n",
    "        print(end='\\n\\n')\n",
    "    else:\n",
    "        print('Wrong Answer!!')\n",
    "        break\n",
    "\n",
    "print()\n",
    "print(f'You Won Amount Rs {total_money}')\n",
    "\n",
    "# Audio :- 7cr"
   ]
  },
  {
   "cell_type": "code",
   "execution_count": null,
   "id": "d846bb39",
   "metadata": {},
   "outputs": [],
   "source": []
  }
 ],
 "metadata": {
  "kernelspec": {
   "display_name": "Python 3 (ipykernel)",
   "language": "python",
   "name": "python3"
  },
  "language_info": {
   "codemirror_mode": {
    "name": "ipython",
    "version": 3
   },
   "file_extension": ".py",
   "mimetype": "text/x-python",
   "name": "python",
   "nbconvert_exporter": "python",
   "pygments_lexer": "ipython3",
   "version": "3.11.3"
  }
 },
 "nbformat": 4,
 "nbformat_minor": 5
}
