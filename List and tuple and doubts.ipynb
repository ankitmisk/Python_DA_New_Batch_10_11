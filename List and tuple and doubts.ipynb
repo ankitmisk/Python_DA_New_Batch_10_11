{
 "cells": [
  {
   "cell_type": "code",
   "execution_count": 1,
   "id": "83ae5047",
   "metadata": {},
   "outputs": [
    {
     "data": {
      "text/plain": [
       "('This is a baby and his name is am', 'a', 'n')"
      ]
     },
     "execution_count": 1,
     "metadata": {},
     "output_type": "execute_result"
    }
   ],
   "source": [
    "a = 'This is a baby and his name is aman'\n",
    "\n",
    "a.rpartition('a')"
   ]
  },
  {
   "cell_type": "code",
   "execution_count": 13,
   "id": "565e4d53",
   "metadata": {},
   "outputs": [
    {
     "data": {
      "text/plain": [
       "31"
      ]
     },
     "execution_count": 13,
     "metadata": {},
     "output_type": "execute_result"
    }
   ],
   "source": [
    "a.find('a',30)"
   ]
  },
  {
   "cell_type": "code",
   "execution_count": 17,
   "id": "e7d5c089",
   "metadata": {},
   "outputs": [
    {
     "data": {
      "text/plain": [
       "('This is a baby and his name is ', 'a', '')"
      ]
     },
     "execution_count": 17,
     "metadata": {},
     "output_type": "execute_result"
    }
   ],
   "source": [
    "a[:32].rpartition('a')"
   ]
  },
  {
   "cell_type": "code",
   "execution_count": 19,
   "id": "8f9ed172",
   "metadata": {},
   "outputs": [
    {
     "data": {
      "text/plain": [
       "'man'"
      ]
     },
     "execution_count": 19,
     "metadata": {},
     "output_type": "execute_result"
    }
   ],
   "source": []
  },
  {
   "cell_type": "code",
   "execution_count": 20,
   "id": "1aadcfe1",
   "metadata": {},
   "outputs": [
    {
     "data": {
      "text/plain": [
       "'man'"
      ]
     },
     "execution_count": 20,
     "metadata": {},
     "output_type": "execute_result"
    }
   ],
   "source": [
    "a[32:]"
   ]
  },
  {
   "cell_type": "markdown",
   "id": "f72c364e",
   "metadata": {},
   "source": [
    "# List, Tuple"
   ]
  },
  {
   "cell_type": "code",
   "execution_count": 21,
   "id": "e1cc93ad",
   "metadata": {},
   "outputs": [
    {
     "name": "stdout",
     "output_type": "stream",
     "text": [
      "[1, 24, 325, 456, 78, 34, 554, 67]\n"
     ]
    }
   ],
   "source": [
    "a = [1,24,325,456,78,34,554,67]\n",
    "\n",
    "\n",
    "print(a)"
   ]
  },
  {
   "cell_type": "code",
   "execution_count": 22,
   "id": "b796edc1",
   "metadata": {},
   "outputs": [
    {
     "name": "stdout",
     "output_type": "stream",
     "text": [
      "[1, 24, 325, 456, 78, 34, 554, 67] <class 'list'>\n"
     ]
    }
   ],
   "source": [
    "print(a,type(a))"
   ]
  },
  {
   "cell_type": "code",
   "execution_count": 24,
   "id": "aaaa2e53",
   "metadata": {},
   "outputs": [
    {
     "name": "stdout",
     "output_type": "stream",
     "text": [
      "['Mohan', 23, (1, 2, 3, 4), {1, 4, 5, 23}, [23, 35, 4567]] <class 'list'>\n"
     ]
    }
   ],
   "source": [
    "# int store: we can store any data type\n",
    "a = ['Mohan',23,(1,2,3,4),{1,23,4,5},[23,35,4567]]\n",
    "\n",
    "print(a,type(a))"
   ]
  },
  {
   "cell_type": "code",
   "execution_count": 25,
   "id": "30b9f020",
   "metadata": {},
   "outputs": [
    {
     "name": "stdout",
     "output_type": "stream",
     "text": [
      "5\n"
     ]
    }
   ],
   "source": [
    "a = 'karan'\n",
    "\n",
    "print(len(a))"
   ]
  },
  {
   "cell_type": "code",
   "execution_count": 26,
   "id": "4341e343",
   "metadata": {},
   "outputs": [
    {
     "name": "stdout",
     "output_type": "stream",
     "text": [
      "7\n"
     ]
    }
   ],
   "source": [
    "a = [12,43,45,76,8,789,'karan']\n",
    "\n",
    "print(len(a))"
   ]
  },
  {
   "cell_type": "code",
   "execution_count": 27,
   "id": "c4258e43",
   "metadata": {},
   "outputs": [
    {
     "name": "stdout",
     "output_type": "stream",
     "text": [
      "[1, 243, 25, 3, 4, 5, 6, 7]\n"
     ]
    }
   ],
   "source": [
    "# list basic operations\n",
    "\n",
    "a = [1,243,25]\n",
    "b =  [3,4,5,6,7]\n",
    "\n",
    "print(a+b)"
   ]
  },
  {
   "cell_type": "code",
   "execution_count": 28,
   "id": "9f7dfe09",
   "metadata": {},
   "outputs": [
    {
     "ename": "TypeError",
     "evalue": "unsupported operand type(s) for -: 'list' and 'list'",
     "output_type": "error",
     "traceback": [
      "\u001b[1;31m---------------------------------------------------------------------------\u001b[0m",
      "\u001b[1;31mTypeError\u001b[0m                                 Traceback (most recent call last)",
      "Cell \u001b[1;32mIn[28], line 6\u001b[0m\n\u001b[0;32m      3\u001b[0m a \u001b[38;5;241m=\u001b[39m [\u001b[38;5;241m1\u001b[39m,\u001b[38;5;241m243\u001b[39m,\u001b[38;5;241m25\u001b[39m]\n\u001b[0;32m      4\u001b[0m b \u001b[38;5;241m=\u001b[39m  [\u001b[38;5;241m3\u001b[39m,\u001b[38;5;241m4\u001b[39m,\u001b[38;5;241m5\u001b[39m,\u001b[38;5;241m6\u001b[39m,\u001b[38;5;241m7\u001b[39m]\n\u001b[1;32m----> 6\u001b[0m \u001b[38;5;28mprint\u001b[39m(a\u001b[38;5;241m-\u001b[39mb)\n",
      "\u001b[1;31mTypeError\u001b[0m: unsupported operand type(s) for -: 'list' and 'list'"
     ]
    }
   ],
   "source": [
    "# list basic operations\n",
    "\n",
    "a = [1,243,25]\n",
    "b =  [3,4,5,6,7]\n",
    "\n",
    "print(a-b)"
   ]
  },
  {
   "cell_type": "code",
   "execution_count": 30,
   "id": "cab6b433",
   "metadata": {},
   "outputs": [
    {
     "name": "stdout",
     "output_type": "stream",
     "text": [
      "[1, 234, 35, 547, 1, 234, 35, 547, 1, 234, 35, 547, 1, 234, 35, 547]\n"
     ]
    }
   ],
   "source": [
    "a = [1,234,35,547]\n",
    "\n",
    "print(a*4)"
   ]
  },
  {
   "cell_type": "code",
   "execution_count": 34,
   "id": "37655c3b",
   "metadata": {},
   "outputs": [
    {
     "name": "stdout",
     "output_type": "stream",
     "text": [
      "[1, 2432, 54, 65, 7] <class 'list'>\n"
     ]
    }
   ],
   "source": [
    "a = ([1,2432,54,65,7])\n",
    "\n",
    "print(a,type(a))"
   ]
  },
  {
   "cell_type": "code",
   "execution_count": 36,
   "id": "55027549",
   "metadata": {},
   "outputs": [
    {
     "name": "stdout",
     "output_type": "stream",
     "text": [
      "34 <class 'int'>\n"
     ]
    }
   ],
   "source": [
    "a = (34)\n",
    "\n",
    "print(a,type(a))"
   ]
  },
  {
   "cell_type": "code",
   "execution_count": 37,
   "id": "9fe4d1cd",
   "metadata": {},
   "outputs": [
    {
     "name": "stdout",
     "output_type": "stream",
     "text": [
      "[1, 243, 25, 435, 67]\n"
     ]
    }
   ],
   "source": [
    "# some of features\n",
    "# 1. List supports indexing\n",
    "\n",
    "a = [1,243,25,435,67]\n",
    "\n",
    "print(a)"
   ]
  },
  {
   "cell_type": "code",
   "execution_count": 38,
   "id": "b9228585",
   "metadata": {},
   "outputs": [
    {
     "data": {
      "text/plain": [
       "25"
      ]
     },
     "execution_count": 38,
     "metadata": {},
     "output_type": "execute_result"
    }
   ],
   "source": [
    "a[2]"
   ]
  },
  {
   "cell_type": "code",
   "execution_count": 39,
   "id": "2f686a66",
   "metadata": {},
   "outputs": [],
   "source": [
    "# a[start:stop:step/skip]"
   ]
  },
  {
   "cell_type": "code",
   "execution_count": 40,
   "id": "f3941942",
   "metadata": {},
   "outputs": [],
   "source": [
    "# 2. List supports slicing"
   ]
  },
  {
   "cell_type": "code",
   "execution_count": 43,
   "id": "1d6bf3c1",
   "metadata": {},
   "outputs": [
    {
     "name": "stdout",
     "output_type": "stream",
     "text": [
      "[4, 5, 67, 899]\n"
     ]
    }
   ],
   "source": [
    "a = [1,23,4,5,67,899]\n",
    "\n",
    "\n",
    "print(a[2:6])"
   ]
  },
  {
   "cell_type": "code",
   "execution_count": 44,
   "id": "769b8949",
   "metadata": {},
   "outputs": [
    {
     "data": {
      "text/plain": [
       "[1, 23, 4, 5, 67, 899]"
      ]
     },
     "execution_count": 44,
     "metadata": {},
     "output_type": "execute_result"
    }
   ],
   "source": [
    "a"
   ]
  },
  {
   "cell_type": "code",
   "execution_count": 45,
   "id": "779db7a3",
   "metadata": {},
   "outputs": [
    {
     "name": "stdout",
     "output_type": "stream",
     "text": [
      "[23, 4, 5, 67, 899]\n"
     ]
    }
   ],
   "source": [
    "print(a[1:])"
   ]
  },
  {
   "cell_type": "code",
   "execution_count": 46,
   "id": "3e91610c",
   "metadata": {},
   "outputs": [
    {
     "data": {
      "text/plain": [
       "[1, 23, 4, 5, 67, 899]"
      ]
     },
     "execution_count": 46,
     "metadata": {},
     "output_type": "execute_result"
    }
   ],
   "source": [
    "a"
   ]
  },
  {
   "cell_type": "code",
   "execution_count": 47,
   "id": "7184f3b2",
   "metadata": {},
   "outputs": [
    {
     "data": {
      "text/plain": [
       "[1, 4, 67]"
      ]
     },
     "execution_count": 47,
     "metadata": {},
     "output_type": "execute_result"
    }
   ],
   "source": [
    "a[::2]"
   ]
  },
  {
   "cell_type": "code",
   "execution_count": 48,
   "id": "59a473e8",
   "metadata": {},
   "outputs": [
    {
     "data": {
      "text/plain": [
       "45"
      ]
     },
     "execution_count": 48,
     "metadata": {},
     "output_type": "execute_result"
    }
   ],
   "source": [
    "a = [1,2432,45,7]\n",
    "a[-2]"
   ]
  },
  {
   "cell_type": "code",
   "execution_count": 49,
   "id": "cdbac34b",
   "metadata": {},
   "outputs": [
    {
     "data": {
      "text/plain": [
       "2432"
      ]
     },
     "execution_count": 49,
     "metadata": {},
     "output_type": "execute_result"
    }
   ],
   "source": [
    "a[-3]"
   ]
  },
  {
   "cell_type": "code",
   "execution_count": 50,
   "id": "a4feef46",
   "metadata": {},
   "outputs": [
    {
     "data": {
      "text/plain": [
       "[1, 2432, 45, 7]"
      ]
     },
     "execution_count": 50,
     "metadata": {},
     "output_type": "execute_result"
    }
   ],
   "source": [
    "a"
   ]
  },
  {
   "cell_type": "code",
   "execution_count": 51,
   "id": "69d02113",
   "metadata": {},
   "outputs": [
    {
     "data": {
      "text/plain": [
       "True"
      ]
     },
     "execution_count": 51,
     "metadata": {},
     "output_type": "execute_result"
    }
   ],
   "source": [
    "a[-3] == a[1]"
   ]
  },
  {
   "cell_type": "code",
   "execution_count": 52,
   "id": "ad167d7e",
   "metadata": {},
   "outputs": [
    {
     "data": {
      "text/plain": [
       "[1, 2432, 45, 7]"
      ]
     },
     "execution_count": 52,
     "metadata": {},
     "output_type": "execute_result"
    }
   ],
   "source": [
    "a"
   ]
  },
  {
   "cell_type": "code",
   "execution_count": 54,
   "id": "bcf01236",
   "metadata": {},
   "outputs": [
    {
     "data": {
      "text/plain": [
       "False"
      ]
     },
     "execution_count": 54,
     "metadata": {},
     "output_type": "execute_result"
    }
   ],
   "source": [
    "a[-2] == a[1]"
   ]
  },
  {
   "cell_type": "code",
   "execution_count": 55,
   "id": "4caafc92",
   "metadata": {},
   "outputs": [],
   "source": [
    "# 3. list also supports negative indexing"
   ]
  },
  {
   "cell_type": "code",
   "execution_count": 57,
   "id": "a7f4f2c6",
   "metadata": {},
   "outputs": [],
   "source": [
    "# 4. element/elements can be changed\n",
    "# list supports item assignment"
   ]
  },
  {
   "cell_type": "code",
   "execution_count": 59,
   "id": "f0207796",
   "metadata": {},
   "outputs": [
    {
     "name": "stdout",
     "output_type": "stream",
     "text": [
      "[1, 234, 5, 4568, 7, 8, 6543, 44, 57]\n"
     ]
    }
   ],
   "source": [
    "a = [1,234,5,4568,7,8,6543,44,57]\n",
    "\n",
    "print(a)"
   ]
  },
  {
   "cell_type": "code",
   "execution_count": 60,
   "id": "d91dc5e3",
   "metadata": {},
   "outputs": [],
   "source": [
    "# idexing and slicing"
   ]
  },
  {
   "cell_type": "code",
   "execution_count": 61,
   "id": "e66b1dc4",
   "metadata": {},
   "outputs": [
    {
     "data": {
      "text/plain": [
       "[1, 234, 5, 4568, 7, 8, 6543, 44, 57]"
      ]
     },
     "execution_count": 61,
     "metadata": {},
     "output_type": "execute_result"
    }
   ],
   "source": [
    "a"
   ]
  },
  {
   "cell_type": "code",
   "execution_count": 63,
   "id": "6cb26455",
   "metadata": {},
   "outputs": [],
   "source": [
    "a[3] = 2345679"
   ]
  },
  {
   "cell_type": "code",
   "execution_count": 64,
   "id": "f740a983",
   "metadata": {},
   "outputs": [
    {
     "name": "stdout",
     "output_type": "stream",
     "text": [
      "[1, 234, 5, 2345679, 7, 8, 6543, 44, 57]\n"
     ]
    }
   ],
   "source": [
    "print(a)"
   ]
  },
  {
   "cell_type": "code",
   "execution_count": 66,
   "id": "52252a02",
   "metadata": {},
   "outputs": [],
   "source": [
    "a[5] = 'karan'"
   ]
  },
  {
   "cell_type": "code",
   "execution_count": 67,
   "id": "cfd634e5",
   "metadata": {},
   "outputs": [
    {
     "name": "stdout",
     "output_type": "stream",
     "text": [
      "[1, 234, 5, 2345679, 7, 'karan', 6543, 44, 57]\n"
     ]
    }
   ],
   "source": [
    "print(a)"
   ]
  },
  {
   "cell_type": "code",
   "execution_count": 69,
   "id": "a7882b46",
   "metadata": {},
   "outputs": [],
   "source": [
    "a[-3] = (1,2,3,4,56)"
   ]
  },
  {
   "cell_type": "code",
   "execution_count": 70,
   "id": "d75b8e69",
   "metadata": {},
   "outputs": [
    {
     "name": "stdout",
     "output_type": "stream",
     "text": [
      "[1, 234, 5, 2345679, 7, 'karan', (1, 2, 3, 4, 56), 44, 57]\n"
     ]
    }
   ],
   "source": [
    "print(a)"
   ]
  },
  {
   "cell_type": "code",
   "execution_count": 71,
   "id": "f7918d0d",
   "metadata": {},
   "outputs": [],
   "source": [
    "a = 'karan'"
   ]
  },
  {
   "cell_type": "code",
   "execution_count": 73,
   "id": "a121d02b",
   "metadata": {},
   "outputs": [
    {
     "ename": "TypeError",
     "evalue": "'str' object does not support item assignment",
     "output_type": "error",
     "traceback": [
      "\u001b[1;31m---------------------------------------------------------------------------\u001b[0m",
      "\u001b[1;31mTypeError\u001b[0m                                 Traceback (most recent call last)",
      "Cell \u001b[1;32mIn[73], line 1\u001b[0m\n\u001b[1;32m----> 1\u001b[0m a[\u001b[38;5;241m3\u001b[39m] \u001b[38;5;241m=\u001b[39m \u001b[38;5;241m3456\u001b[39m\n",
      "\u001b[1;31mTypeError\u001b[0m: 'str' object does not support item assignment"
     ]
    }
   ],
   "source": [
    "a[3] = 3456"
   ]
  },
  {
   "cell_type": "code",
   "execution_count": 75,
   "id": "652e0353",
   "metadata": {},
   "outputs": [
    {
     "name": "stdout",
     "output_type": "stream",
     "text": [
      "(1, 234, 56, 54342, 4, 567) <class 'tuple'>\n"
     ]
    }
   ],
   "source": [
    "a = (1,234,56,54342,4,567)\n",
    "\n",
    "print(a,type(a))"
   ]
  },
  {
   "cell_type": "code",
   "execution_count": 77,
   "id": "0621887b",
   "metadata": {},
   "outputs": [
    {
     "ename": "TypeError",
     "evalue": "'tuple' object does not support item assignment",
     "output_type": "error",
     "traceback": [
      "\u001b[1;31m---------------------------------------------------------------------------\u001b[0m",
      "\u001b[1;31mTypeError\u001b[0m                                 Traceback (most recent call last)",
      "Cell \u001b[1;32mIn[77], line 1\u001b[0m\n\u001b[1;32m----> 1\u001b[0m a[\u001b[38;5;241m2\u001b[39m] \u001b[38;5;241m=\u001b[39m \u001b[38;5;241m234567\u001b[39m\n",
      "\u001b[1;31mTypeError\u001b[0m: 'tuple' object does not support item assignment"
     ]
    }
   ],
   "source": [
    "a[2] = 234567"
   ]
  },
  {
   "cell_type": "code",
   "execution_count": 79,
   "id": "0f80b0be",
   "metadata": {},
   "outputs": [
    {
     "data": {
      "text/plain": [
       "[2, 34, 346]"
      ]
     },
     "execution_count": 79,
     "metadata": {},
     "output_type": "execute_result"
    }
   ],
   "source": [
    "var_a = [1,23,25,6,[2,34,346]]\n",
    "\n",
    "\n",
    "var_a[-1]"
   ]
  },
  {
   "cell_type": "code",
   "execution_count": 80,
   "id": "a6738120",
   "metadata": {},
   "outputs": [
    {
     "data": {
      "text/plain": [
       "[2, 34, 346]"
      ]
     },
     "execution_count": 80,
     "metadata": {},
     "output_type": "execute_result"
    }
   ],
   "source": [
    "var_a[-1][]"
   ]
  },
  {
   "cell_type": "code",
   "execution_count": 85,
   "id": "4b9ca731",
   "metadata": {},
   "outputs": [
    {
     "data": {
      "text/plain": [
       "34"
      ]
     },
     "execution_count": 85,
     "metadata": {},
     "output_type": "execute_result"
    }
   ],
   "source": [
    "var_a[-1][1]"
   ]
  },
  {
   "cell_type": "code",
   "execution_count": 89,
   "id": "279555a9",
   "metadata": {},
   "outputs": [
    {
     "data": {
      "text/plain": [
       "346"
      ]
     },
     "execution_count": 89,
     "metadata": {},
     "output_type": "execute_result"
    }
   ],
   "source": [
    "var_a[-1][2]"
   ]
  },
  {
   "cell_type": "code",
   "execution_count": 90,
   "id": "11eaceea",
   "metadata": {},
   "outputs": [],
   "source": [
    "var_a[-1][2] = 98765678754"
   ]
  },
  {
   "cell_type": "code",
   "execution_count": 91,
   "id": "5351dcf1",
   "metadata": {},
   "outputs": [
    {
     "name": "stdout",
     "output_type": "stream",
     "text": [
      "[1, 23, 25, 6, [2, 34, 98765678754]]\n"
     ]
    }
   ],
   "source": [
    "print(var_a)"
   ]
  },
  {
   "cell_type": "code",
   "execution_count": 92,
   "id": "f743a29c",
   "metadata": {},
   "outputs": [
    {
     "name": "stdout",
     "output_type": "stream",
     "text": [
      "[1, 243, 25, [1, 243, 46, [12, [2, [2, 3, 45, 6], 6], 6]]]\n"
     ]
    }
   ],
   "source": [
    "a = [1,243,25,[1,243,46,[12,[2,[2,3,45,6],6],6]]]\n",
    "\n",
    "print(a)"
   ]
  },
  {
   "cell_type": "code",
   "execution_count": 96,
   "id": "126b72fb",
   "metadata": {},
   "outputs": [
    {
     "data": {
      "text/plain": [
       "[12, [2, [2, 3, 45, 6], 6], 6]"
      ]
     },
     "execution_count": 96,
     "metadata": {},
     "output_type": "execute_result"
    }
   ],
   "source": [
    "a[3][3]"
   ]
  },
  {
   "cell_type": "code",
   "execution_count": 95,
   "id": "87b108cf",
   "metadata": {},
   "outputs": [
    {
     "data": {
      "text/plain": [
       "[12, [2, [2, 3, 45, 6], 6], 6]"
      ]
     },
     "execution_count": 95,
     "metadata": {},
     "output_type": "execute_result"
    }
   ],
   "source": [
    "a[-1][-1]"
   ]
  },
  {
   "cell_type": "code",
   "execution_count": 97,
   "id": "63796c72",
   "metadata": {},
   "outputs": [
    {
     "data": {
      "text/plain": [
       "[2, [2, 3, 45, 6], 6]"
      ]
     },
     "execution_count": 97,
     "metadata": {},
     "output_type": "execute_result"
    }
   ],
   "source": [
    "a[-1][-1][1]"
   ]
  },
  {
   "cell_type": "code",
   "execution_count": 98,
   "id": "bc745775",
   "metadata": {},
   "outputs": [
    {
     "data": {
      "text/plain": [
       "[2, [2, 3, 45, 6], 6]"
      ]
     },
     "execution_count": 98,
     "metadata": {},
     "output_type": "execute_result"
    }
   ],
   "source": [
    "a[-1][-1][-2]"
   ]
  },
  {
   "cell_type": "code",
   "execution_count": 101,
   "id": "1668516e",
   "metadata": {},
   "outputs": [
    {
     "data": {
      "text/plain": [
       "3"
      ]
     },
     "execution_count": 101,
     "metadata": {},
     "output_type": "execute_result"
    }
   ],
   "source": [
    "a[-1][-1][-2][1][1]"
   ]
  },
  {
   "cell_type": "code",
   "execution_count": 102,
   "id": "a8e5412e",
   "metadata": {},
   "outputs": [],
   "source": [
    "a[-1][-1][-2][1][1] = 23456789"
   ]
  },
  {
   "cell_type": "code",
   "execution_count": 103,
   "id": "d0ed3e28",
   "metadata": {},
   "outputs": [
    {
     "name": "stdout",
     "output_type": "stream",
     "text": [
      "[1, 243, 25, [1, 243, 46, [12, [2, [2, 23456789, 45, 6], 6], 6]]]\n"
     ]
    }
   ],
   "source": [
    "print(a)"
   ]
  },
  {
   "cell_type": "code",
   "execution_count": 104,
   "id": "55b9b577",
   "metadata": {},
   "outputs": [],
   "source": [
    "# nested list"
   ]
  },
  {
   "cell_type": "code",
   "execution_count": 105,
   "id": "d2b209ce",
   "metadata": {},
   "outputs": [],
   "source": [
    "# h/w\n",
    "# +,-,*,/,//,%,**"
   ]
  },
  {
   "cell_type": "code",
   "execution_count": 106,
   "id": "da181c35",
   "metadata": {},
   "outputs": [
    {
     "data": {
      "text/plain": [
       "False"
      ]
     },
     "execution_count": 106,
     "metadata": {},
     "output_type": "execute_result"
    }
   ],
   "source": [
    "# logical op\n",
    "\n",
    "a = [1,2,4]\n",
    "\n",
    "b = [1,2,4]\n",
    "\n",
    "a is b"
   ]
  },
  {
   "cell_type": "code",
   "execution_count": 107,
   "id": "2607d2d0",
   "metadata": {},
   "outputs": [],
   "source": [
    "a = [12,1234,4,6568,6,543212,33,4656,78]\n",
    "\n",
    "# membership op"
   ]
  },
  {
   "cell_type": "code",
   "execution_count": 109,
   "id": "2ba09fbe",
   "metadata": {},
   "outputs": [
    {
     "data": {
      "text/plain": [
       "False"
      ]
     },
     "execution_count": 109,
     "metadata": {},
     "output_type": "execute_result"
    }
   ],
   "source": [
    "'33' in a"
   ]
  },
  {
   "cell_type": "code",
   "execution_count": 112,
   "id": "657b29cb",
   "metadata": {},
   "outputs": [
    {
     "data": {
      "text/plain": [
       "False"
      ]
     },
     "execution_count": 112,
     "metadata": {},
     "output_type": "execute_result"
    }
   ],
   "source": [
    "a = [10,2,3,0]\n",
    "\n",
    "True in a"
   ]
  },
  {
   "cell_type": "code",
   "execution_count": 113,
   "id": "368ff2c8",
   "metadata": {},
   "outputs": [
    {
     "data": {
      "text/plain": [
       "True"
      ]
     },
     "execution_count": 113,
     "metadata": {},
     "output_type": "execute_result"
    }
   ],
   "source": [
    "False in a"
   ]
  },
  {
   "cell_type": "code",
   "execution_count": 114,
   "id": "b772aef2",
   "metadata": {},
   "outputs": [],
   "source": [
    "a = [True,10,False,0]"
   ]
  },
  {
   "cell_type": "code",
   "execution_count": 115,
   "id": "d44e424b",
   "metadata": {},
   "outputs": [
    {
     "data": {
      "text/plain": [
       "True"
      ]
     },
     "execution_count": 115,
     "metadata": {},
     "output_type": "execute_result"
    }
   ],
   "source": [
    "False in a"
   ]
  },
  {
   "cell_type": "code",
   "execution_count": 116,
   "id": "21f27d02",
   "metadata": {},
   "outputs": [
    {
     "name": "stdout",
     "output_type": "stream",
     "text": [
      "[1, 243, 5, 3213, 435, 632, 1435, 67, 654324, 56, 798765, 43, 34567, 6564, 5]\n"
     ]
    }
   ],
   "source": [
    "a = [1,243,5,3213,435,632,1435,67,654324,56,798765,43,34567,6564,5]\n",
    "\n",
    "\n",
    "print(a)"
   ]
  },
  {
   "cell_type": "code",
   "execution_count": 117,
   "id": "aa1d5ced",
   "metadata": {},
   "outputs": [],
   "source": [
    "a = ''"
   ]
  },
  {
   "cell_type": "code",
   "execution_count": 118,
   "id": "3e7c3da8",
   "metadata": {},
   "outputs": [],
   "source": [
    "a = [1,243,5,3213,435,632,1435,67,654324,56,798765,43,34567,6564,5]"
   ]
  },
  {
   "cell_type": "code",
   "execution_count": 119,
   "id": "97b5750c",
   "metadata": {},
   "outputs": [
    {
     "name": "stdout",
     "output_type": "stream",
     "text": [
      "[1, 243, 5, 3213, 435, 632, 1435, 67, 654324, 56, 798765, 43, 34567, 6564, 5]\n"
     ]
    }
   ],
   "source": [
    "print(a)"
   ]
  },
  {
   "cell_type": "code",
   "execution_count": 120,
   "id": "d8a4132c",
   "metadata": {},
   "outputs": [],
   "source": [
    "del a"
   ]
  },
  {
   "cell_type": "code",
   "execution_count": 121,
   "id": "3de5ffc4",
   "metadata": {},
   "outputs": [
    {
     "ename": "NameError",
     "evalue": "name 'a' is not defined",
     "output_type": "error",
     "traceback": [
      "\u001b[1;31m---------------------------------------------------------------------------\u001b[0m",
      "\u001b[1;31mNameError\u001b[0m                                 Traceback (most recent call last)",
      "Cell \u001b[1;32mIn[121], line 1\u001b[0m\n\u001b[1;32m----> 1\u001b[0m \u001b[38;5;28mprint\u001b[39m(a)\n",
      "\u001b[1;31mNameError\u001b[0m: name 'a' is not defined"
     ]
    }
   ],
   "source": [
    "print(a)"
   ]
  },
  {
   "cell_type": "code",
   "execution_count": 122,
   "id": "27699f23",
   "metadata": {},
   "outputs": [],
   "source": [
    "ab = [1,243,5,3213,435,632,1435,67,654324,56,798765,43,34567,6564,5]"
   ]
  },
  {
   "cell_type": "code",
   "execution_count": 124,
   "id": "40797a1f",
   "metadata": {},
   "outputs": [
    {
     "name": "stdout",
     "output_type": "stream",
     "text": [
      "[1, 243, 5, 3213, 435, 632, 1435, 67, 654324, 56, 798765, 43, 34567, 6564, 5]\n"
     ]
    }
   ],
   "source": [
    "print(ab)"
   ]
  },
  {
   "cell_type": "code",
   "execution_count": 125,
   "id": "ddc54352",
   "metadata": {},
   "outputs": [],
   "source": [
    "del(ab)"
   ]
  },
  {
   "cell_type": "code",
   "execution_count": 126,
   "id": "cc1a3ee0",
   "metadata": {},
   "outputs": [
    {
     "ename": "NameError",
     "evalue": "name 'ab' is not defined",
     "output_type": "error",
     "traceback": [
      "\u001b[1;31m---------------------------------------------------------------------------\u001b[0m",
      "\u001b[1;31mNameError\u001b[0m                                 Traceback (most recent call last)",
      "Cell \u001b[1;32mIn[126], line 1\u001b[0m\n\u001b[1;32m----> 1\u001b[0m \u001b[38;5;28mprint\u001b[39m(ab)\n",
      "\u001b[1;31mNameError\u001b[0m: name 'ab' is not defined"
     ]
    }
   ],
   "source": [
    "print(ab)"
   ]
  },
  {
   "cell_type": "code",
   "execution_count": 127,
   "id": "7469e8e3",
   "metadata": {},
   "outputs": [],
   "source": [
    "# list basic op"
   ]
  },
  {
   "cell_type": "code",
   "execution_count": 128,
   "id": "6fecd580",
   "metadata": {},
   "outputs": [],
   "source": [
    "# methods"
   ]
  },
  {
   "cell_type": "code",
   "execution_count": 129,
   "id": "5cdb381c",
   "metadata": {},
   "outputs": [
    {
     "name": "stdout",
     "output_type": "stream",
     "text": [
      "['__add__', '__class__', '__class_getitem__', '__contains__', '__delattr__', '__delitem__', '__dir__', '__doc__', '__eq__', '__format__', '__ge__', '__getattribute__', '__getitem__', '__getstate__', '__gt__', '__hash__', '__iadd__', '__imul__', '__init__', '__init_subclass__', '__iter__', '__le__', '__len__', '__lt__', '__mul__', '__ne__', '__new__', '__reduce__', '__reduce_ex__', '__repr__', '__reversed__', '__rmul__', '__setattr__', '__setitem__', '__sizeof__', '__str__', '__subclasshook__', 'append', 'clear', 'copy', 'count', 'extend', 'index', 'insert', 'pop', 'remove', 'reverse', 'sort']\n"
     ]
    }
   ],
   "source": [
    "print(dir(list))"
   ]
  },
  {
   "cell_type": "code",
   "execution_count": 130,
   "id": "b4c9dc13",
   "metadata": {},
   "outputs": [],
   "source": [
    "meth = ['append', 'clear', 'copy', 'count', 'extend', 'index', 'insert', 'pop', 'remove', 'reverse', 'sort']"
   ]
  },
  {
   "cell_type": "code",
   "execution_count": 131,
   "id": "d4093a6d",
   "metadata": {},
   "outputs": [
    {
     "name": "stdout",
     "output_type": "stream",
     "text": [
      "['append', 'clear', 'copy', 'count', 'extend', 'index', 'insert', 'pop', 'remove', 'reverse', 'sort']\n"
     ]
    }
   ],
   "source": [
    "print(meth)"
   ]
  },
  {
   "cell_type": "code",
   "execution_count": 132,
   "id": "feda519c",
   "metadata": {},
   "outputs": [
    {
     "name": "stdout",
     "output_type": "stream",
     "text": [
      "11\n"
     ]
    }
   ],
   "source": [
    "print(len(meth))"
   ]
  },
  {
   "cell_type": "code",
   "execution_count": null,
   "id": "37b645f2",
   "metadata": {},
   "outputs": [],
   "source": []
  }
 ],
 "metadata": {
  "kernelspec": {
   "display_name": "Python 3 (ipykernel)",
   "language": "python",
   "name": "python3"
  },
  "language_info": {
   "codemirror_mode": {
    "name": "ipython",
    "version": 3
   },
   "file_extension": ".py",
   "mimetype": "text/x-python",
   "name": "python",
   "nbconvert_exporter": "python",
   "pygments_lexer": "ipython3",
   "version": "3.11.3"
  }
 },
 "nbformat": 4,
 "nbformat_minor": 5
}
