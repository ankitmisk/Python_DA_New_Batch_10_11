{
 "cells": [
  {
   "cell_type": "code",
   "execution_count": 1,
   "id": "7d2dfd0d",
   "metadata": {},
   "outputs": [],
   "source": [
    "# # oops 4 pillars\n",
    "\n",
    "# 1, Encapsulation\n",
    "# 2, polymorphism\n",
    "# 3, Abstraction\n",
    "# 4, Inheritance"
   ]
  },
  {
   "cell_type": "code",
   "execution_count": null,
   "id": "cde35ff0",
   "metadata": {},
   "outputs": [],
   "source": [
    "# getter method\n",
    "# setter method\n",
    "# static method\n",
    "# class method\n",
    "# magic method  ** imp\n",
    "# __init__\n",
    "# destructor"
   ]
  },
  {
   "cell_type": "code",
   "execution_count": 5,
   "id": "fad896a2",
   "metadata": {},
   "outputs": [],
   "source": [
    "# magic method  ** imp\n",
    "\n",
    "class Vector:\n",
    "    def __init__(self,a,b):\n",
    "        print('Vector class')\n",
    "        self.a = a\n",
    "        self.b = b\n",
    "        \n",
    "    def move(self,by):\n",
    "        self.a += by\n",
    "        self.b += by\n",
    "        \n",
    "        print(f\"\"\"vector final points\n",
    "        a>> {self.a}\n",
    "        b>> {self.b}\"\"\")"
   ]
  },
  {
   "cell_type": "code",
   "execution_count": 6,
   "id": "b4306b20",
   "metadata": {},
   "outputs": [
    {
     "name": "stdout",
     "output_type": "stream",
     "text": [
      "Vector class\n"
     ]
    }
   ],
   "source": [
    "v1 = Vector(10,20)"
   ]
  },
  {
   "cell_type": "code",
   "execution_count": 8,
   "id": "aeed86b5",
   "metadata": {},
   "outputs": [
    {
     "name": "stdout",
     "output_type": "stream",
     "text": [
      "vector final points\n",
      "        a>> 230\n",
      "        b>> 240\n"
     ]
    }
   ],
   "source": [
    "v1.move(200)"
   ]
  },
  {
   "cell_type": "code",
   "execution_count": 13,
   "id": "02a01d2e",
   "metadata": {},
   "outputs": [
    {
     "name": "stdout",
     "output_type": "stream",
     "text": [
      "Vector class\n"
     ]
    }
   ],
   "source": [
    "v_str = Vector(2,4)"
   ]
  },
  {
   "cell_type": "code",
   "execution_count": 14,
   "id": "698778bc",
   "metadata": {},
   "outputs": [
    {
     "ename": "TypeError",
     "evalue": "unsupported operand type(s) for +=: 'int' and 'str'",
     "output_type": "error",
     "traceback": [
      "\u001b[1;31m---------------------------------------------------------------------------\u001b[0m",
      "\u001b[1;31mTypeError\u001b[0m                                 Traceback (most recent call last)",
      "Cell \u001b[1;32mIn[14], line 1\u001b[0m\n\u001b[1;32m----> 1\u001b[0m v_str\u001b[38;5;241m.\u001b[39mmove(\u001b[38;5;124m'\u001b[39m\u001b[38;5;124m10\u001b[39m\u001b[38;5;124m'\u001b[39m)\n",
      "Cell \u001b[1;32mIn[5], line 10\u001b[0m, in \u001b[0;36mVector.move\u001b[1;34m(self, by)\u001b[0m\n\u001b[0;32m      9\u001b[0m \u001b[38;5;28;01mdef\u001b[39;00m \u001b[38;5;21mmove\u001b[39m(\u001b[38;5;28mself\u001b[39m,by):\n\u001b[1;32m---> 10\u001b[0m     \u001b[38;5;28mself\u001b[39m\u001b[38;5;241m.\u001b[39ma \u001b[38;5;241m+\u001b[39m\u001b[38;5;241m=\u001b[39m by\n\u001b[0;32m     11\u001b[0m     \u001b[38;5;28mself\u001b[39m\u001b[38;5;241m.\u001b[39mb \u001b[38;5;241m+\u001b[39m\u001b[38;5;241m=\u001b[39m by\n\u001b[0;32m     13\u001b[0m     \u001b[38;5;28mprint\u001b[39m(\u001b[38;5;124mf\u001b[39m\u001b[38;5;124m\"\"\"\u001b[39m\u001b[38;5;124mvector final points\u001b[39m\n\u001b[0;32m     14\u001b[0m \u001b[38;5;124m    a>> \u001b[39m\u001b[38;5;132;01m{\u001b[39;00m\u001b[38;5;28mself\u001b[39m\u001b[38;5;241m.\u001b[39ma\u001b[38;5;132;01m}\u001b[39;00m\n\u001b[0;32m     15\u001b[0m \u001b[38;5;124m    b>> \u001b[39m\u001b[38;5;132;01m{\u001b[39;00m\u001b[38;5;28mself\u001b[39m\u001b[38;5;241m.\u001b[39mb\u001b[38;5;132;01m}\u001b[39;00m\u001b[38;5;124m\"\"\"\u001b[39m)\n",
      "\u001b[1;31mTypeError\u001b[0m: unsupported operand type(s) for +=: 'int' and 'str'"
     ]
    }
   ],
   "source": [
    "v_str.move('10')"
   ]
  },
  {
   "cell_type": "code",
   "execution_count": 15,
   "id": "0e1e1d00",
   "metadata": {},
   "outputs": [
    {
     "name": "stdout",
     "output_type": "stream",
     "text": [
      "Vector class\n"
     ]
    }
   ],
   "source": [
    "v1 = Vector(10,20)"
   ]
  },
  {
   "cell_type": "code",
   "execution_count": 16,
   "id": "45a496ee",
   "metadata": {},
   "outputs": [
    {
     "name": "stdout",
     "output_type": "stream",
     "text": [
      "Vector class\n"
     ]
    }
   ],
   "source": [
    "v2 = Vector(100,200)"
   ]
  },
  {
   "cell_type": "code",
   "execution_count": 17,
   "id": "93464892",
   "metadata": {},
   "outputs": [
    {
     "ename": "TypeError",
     "evalue": "unsupported operand type(s) for +: 'Vector' and 'Vector'",
     "output_type": "error",
     "traceback": [
      "\u001b[1;31m---------------------------------------------------------------------------\u001b[0m",
      "\u001b[1;31mTypeError\u001b[0m                                 Traceback (most recent call last)",
      "Cell \u001b[1;32mIn[17], line 1\u001b[0m\n\u001b[1;32m----> 1\u001b[0m v1 \u001b[38;5;241m+\u001b[39m v2\n",
      "\u001b[1;31mTypeError\u001b[0m: unsupported operand type(s) for +: 'Vector' and 'Vector'"
     ]
    }
   ],
   "source": [
    "v1 + v2"
   ]
  },
  {
   "cell_type": "code",
   "execution_count": 18,
   "id": "fb3650f0",
   "metadata": {},
   "outputs": [
    {
     "ename": "TypeError",
     "evalue": "'>' not supported between instances of 'Vector' and 'Vector'",
     "output_type": "error",
     "traceback": [
      "\u001b[1;31m---------------------------------------------------------------------------\u001b[0m",
      "\u001b[1;31mTypeError\u001b[0m                                 Traceback (most recent call last)",
      "Cell \u001b[1;32mIn[18], line 1\u001b[0m\n\u001b[1;32m----> 1\u001b[0m v1 \u001b[38;5;241m>\u001b[39m v2\n",
      "\u001b[1;31mTypeError\u001b[0m: '>' not supported between instances of 'Vector' and 'Vector'"
     ]
    }
   ],
   "source": [
    "v1 > v2"
   ]
  },
  {
   "cell_type": "code",
   "execution_count": 20,
   "id": "877eabd1",
   "metadata": {},
   "outputs": [
    {
     "ename": "TypeError",
     "evalue": "'<=' not supported between instances of 'Vector' and 'Vector'",
     "output_type": "error",
     "traceback": [
      "\u001b[1;31m---------------------------------------------------------------------------\u001b[0m",
      "\u001b[1;31mTypeError\u001b[0m                                 Traceback (most recent call last)",
      "Cell \u001b[1;32mIn[20], line 1\u001b[0m\n\u001b[1;32m----> 1\u001b[0m v2 \u001b[38;5;241m<\u001b[39m\u001b[38;5;241m=\u001b[39mv1\n",
      "\u001b[1;31mTypeError\u001b[0m: '<=' not supported between instances of 'Vector' and 'Vector'"
     ]
    }
   ],
   "source": [
    "v2 <=v1"
   ]
  },
  {
   "cell_type": "code",
   "execution_count": 21,
   "id": "92f4a461",
   "metadata": {},
   "outputs": [
    {
     "ename": "TypeError",
     "evalue": "unsupported operand type(s) for +: 'set' and 'set'",
     "output_type": "error",
     "traceback": [
      "\u001b[1;31m---------------------------------------------------------------------------\u001b[0m",
      "\u001b[1;31mTypeError\u001b[0m                                 Traceback (most recent call last)",
      "Cell \u001b[1;32mIn[21], line 4\u001b[0m\n\u001b[0;32m      1\u001b[0m a \u001b[38;5;241m=\u001b[39m {\u001b[38;5;241m1\u001b[39m,\u001b[38;5;241m24\u001b[39m,\u001b[38;5;241m35\u001b[39m}\n\u001b[0;32m      2\u001b[0m b \u001b[38;5;241m=\u001b[39m {\u001b[38;5;241m1\u001b[39m,\u001b[38;5;241m3\u001b[39m,\u001b[38;5;241m456\u001b[39m}\n\u001b[1;32m----> 4\u001b[0m a \u001b[38;5;241m+\u001b[39m b\n",
      "\u001b[1;31mTypeError\u001b[0m: unsupported operand type(s) for +: 'set' and 'set'"
     ]
    }
   ],
   "source": [
    "a = {1,24,35}\n",
    "b = {1,3,456}\n",
    "\n",
    "a + b"
   ]
  },
  {
   "cell_type": "code",
   "execution_count": 23,
   "id": "5ecb30a7",
   "metadata": {},
   "outputs": [
    {
     "ename": "TypeError",
     "evalue": "unsupported operand type(s) for +: 'Vector' and 'Vector'",
     "output_type": "error",
     "traceback": [
      "\u001b[1;31m---------------------------------------------------------------------------\u001b[0m",
      "\u001b[1;31mTypeError\u001b[0m                                 Traceback (most recent call last)",
      "Cell \u001b[1;32mIn[23], line 1\u001b[0m\n\u001b[1;32m----> 1\u001b[0m v1 \u001b[38;5;241m+\u001b[39m v2\n",
      "\u001b[1;31mTypeError\u001b[0m: unsupported operand type(s) for +: 'Vector' and 'Vector'"
     ]
    }
   ],
   "source": [
    "v1 + v2"
   ]
  },
  {
   "cell_type": "code",
   "execution_count": null,
   "id": "ea2997c4",
   "metadata": {},
   "outputs": [],
   "source": []
  },
  {
   "cell_type": "markdown",
   "id": "d0489039",
   "metadata": {},
   "source": [
    "# Magic methods"
   ]
  },
  {
   "cell_type": "code",
   "execution_count": 24,
   "id": "91446310",
   "metadata": {},
   "outputs": [],
   "source": [
    "# magic method  ** imp\n",
    "\n",
    "class Vector:\n",
    "    def __init__(self,a,b):\n",
    "        print('Vector class')\n",
    "        self.a = a\n",
    "        self.b = b\n",
    "        \n",
    "    def move(self,by):\n",
    "        self.a += by\n",
    "        self.b += by\n",
    "        \n",
    "        print(f\"\"\"vector final points\n",
    "        a>> {self.a}\n",
    "        b>> {self.b}\"\"\")\n",
    "        \n",
    "    def __add__(self,other):\n",
    "        print(f\"\"\"\n",
    "        a>> {self.a + other.a}\n",
    "        b>> {self.b + other.b}\"\"\")\n",
    "        \n",
    "        "
   ]
  },
  {
   "cell_type": "code",
   "execution_count": 25,
   "id": "36fac210",
   "metadata": {},
   "outputs": [
    {
     "name": "stdout",
     "output_type": "stream",
     "text": [
      "Vector class\n",
      "Vector class\n"
     ]
    }
   ],
   "source": [
    "v1 = Vector(10,20)\n",
    "v2 = Vector(100,200)"
   ]
  },
  {
   "cell_type": "code",
   "execution_count": 26,
   "id": "ebd447e6",
   "metadata": {},
   "outputs": [
    {
     "name": "stdout",
     "output_type": "stream",
     "text": [
      "\n",
      "        a>> 110\n",
      "        b>> 220\n"
     ]
    }
   ],
   "source": [
    "v1 + v2"
   ]
  },
  {
   "cell_type": "code",
   "execution_count": 31,
   "id": "e12c3ac8",
   "metadata": {},
   "outputs": [
    {
     "data": {
      "text/plain": [
       "[234, 34, 45, 3453, 4, 54, 1, 243, 56]"
      ]
     },
     "execution_count": 31,
     "metadata": {},
     "output_type": "execute_result"
    }
   ],
   "source": [
    "a = [234,34,45]\n",
    "b = [3453,4,54]\n",
    "c = [1,243,56]\n",
    "a + b + c"
   ]
  },
  {
   "cell_type": "code",
   "execution_count": 32,
   "id": "c122ab03",
   "metadata": {},
   "outputs": [],
   "source": [
    "# DSA:- "
   ]
  },
  {
   "cell_type": "code",
   "execution_count": 33,
   "id": "e8fee3a1",
   "metadata": {},
   "outputs": [
    {
     "ename": "TypeError",
     "evalue": "unsupported operand type(s) for -: 'Vector' and 'Vector'",
     "output_type": "error",
     "traceback": [
      "\u001b[1;31m---------------------------------------------------------------------------\u001b[0m",
      "\u001b[1;31mTypeError\u001b[0m                                 Traceback (most recent call last)",
      "Cell \u001b[1;32mIn[33], line 1\u001b[0m\n\u001b[1;32m----> 1\u001b[0m v1 \u001b[38;5;241m-\u001b[39m v2\n",
      "\u001b[1;31mTypeError\u001b[0m: unsupported operand type(s) for -: 'Vector' and 'Vector'"
     ]
    }
   ],
   "source": [
    "v1 - v2"
   ]
  },
  {
   "cell_type": "code",
   "execution_count": 177,
   "id": "672afdd8",
   "metadata": {},
   "outputs": [],
   "source": [
    "# magic method  ** imp\n",
    "\n",
    "class Vector:\n",
    "    def __init__(self,a,b):\n",
    "        print('Vector class')\n",
    "        self.a = a\n",
    "        self.b = b\n",
    "        \n",
    "    def move(self,by):\n",
    "        self.a += by\n",
    "        self.b += by\n",
    "        \n",
    "        print(f\"\"\"vector final points\n",
    "        a>> {self.a}\n",
    "        b>> {self.b}\"\"\")\n",
    "        \n",
    "    def __add__(self,other):\n",
    "        print(f\"\"\"\n",
    "        a>> {self.a + other.a}\n",
    "        b>> {self.b + other.b}\"\"\")\n",
    "        \n",
    "        \n",
    "    def __sub__(s,o):\n",
    "        print(f\"\"\"\n",
    "        a>> {s.a - o.a}\n",
    "        b>> {s.b - o.b}\"\"\")\n",
    "        \n",
    "    \n",
    "    def __ge__(self,other):\n",
    "        print(f\"\"\"\n",
    "        a>> {self.a >= other.a}\n",
    "        b>> {self.b >= other.b}\"\"\")\n",
    "        \n",
    "    def __str__(self):\n",
    "        return 'This is a vector class object!!'\n",
    "    \n",
    "#     def __len__(self):\n",
    "#         return False\n",
    "\n",
    "    def __len__(self):\n",
    "        len_a = len(str(self.a))\n",
    "        len_b = len(str(self.b))\n",
    "        return  len_a+len_b \n",
    "    \n",
    "    "
   ]
  },
  {
   "cell_type": "code",
   "execution_count": 167,
   "id": "5e858fcc",
   "metadata": {},
   "outputs": [],
   "source": [
    "# a = [12,4,354]\n",
    "\n",
    "# dir(a)"
   ]
  },
  {
   "cell_type": "code",
   "execution_count": 168,
   "id": "c5b30f30",
   "metadata": {},
   "outputs": [
    {
     "name": "stdout",
     "output_type": "stream",
     "text": [
      "Vector class\n",
      "Vector class\n"
     ]
    }
   ],
   "source": [
    "v1 = Vector(10,20)\n",
    "v2 = Vector(1,200)"
   ]
  },
  {
   "cell_type": "code",
   "execution_count": 169,
   "id": "af694201",
   "metadata": {},
   "outputs": [
    {
     "name": "stdout",
     "output_type": "stream",
     "text": [
      "\n",
      "        a>> 9\n",
      "        b>> -180\n"
     ]
    }
   ],
   "source": [
    "v1 - v2"
   ]
  },
  {
   "cell_type": "code",
   "execution_count": 170,
   "id": "e2e06d83",
   "metadata": {},
   "outputs": [
    {
     "name": "stdout",
     "output_type": "stream",
     "text": [
      "\n",
      "        a>> True\n",
      "        b>> False\n"
     ]
    }
   ],
   "source": [
    "v1 >= v2"
   ]
  },
  {
   "cell_type": "code",
   "execution_count": null,
   "id": "9b72c595",
   "metadata": {},
   "outputs": [],
   "source": []
  },
  {
   "cell_type": "code",
   "execution_count": 171,
   "id": "fa178930",
   "metadata": {},
   "outputs": [
    {
     "data": {
      "text/plain": [
       "<__main__.Vector at 0x1f16ad3ce90>"
      ]
     },
     "execution_count": 171,
     "metadata": {},
     "output_type": "execute_result"
    }
   ],
   "source": [
    "v1"
   ]
  },
  {
   "cell_type": "code",
   "execution_count": 172,
   "id": "1a34acc9",
   "metadata": {},
   "outputs": [
    {
     "name": "stdout",
     "output_type": "stream",
     "text": [
      "This is a vector class object!!\n"
     ]
    }
   ],
   "source": [
    "print(str(v1))"
   ]
  },
  {
   "cell_type": "code",
   "execution_count": 175,
   "id": "fb9a3a92",
   "metadata": {},
   "outputs": [
    {
     "name": "stdout",
     "output_type": "stream",
     "text": [
      "Vector class\n"
     ]
    }
   ],
   "source": [
    "v2 = Vector(1000,2000)"
   ]
  },
  {
   "cell_type": "code",
   "execution_count": 176,
   "id": "dbb65251",
   "metadata": {},
   "outputs": [
    {
     "data": {
      "text/plain": [
       "8"
      ]
     },
     "execution_count": 176,
     "metadata": {},
     "output_type": "execute_result"
    }
   ],
   "source": [
    "len(v2)"
   ]
  },
  {
   "cell_type": "code",
   "execution_count": 179,
   "id": "bf7b4df3",
   "metadata": {},
   "outputs": [
    {
     "data": {
      "text/plain": [
       "'This is a vector class object!!'"
      ]
     },
     "execution_count": 179,
     "metadata": {},
     "output_type": "execute_result"
    }
   ],
   "source": [
    "str(v1)"
   ]
  },
  {
   "cell_type": "code",
   "execution_count": 180,
   "id": "b220e254",
   "metadata": {},
   "outputs": [
    {
     "data": {
      "text/plain": [
       "{'a': 10, 'b': 20}"
      ]
     },
     "execution_count": 180,
     "metadata": {},
     "output_type": "execute_result"
    }
   ],
   "source": [
    "v1.__dict__"
   ]
  },
  {
   "cell_type": "code",
   "execution_count": 182,
   "id": "f814693f",
   "metadata": {},
   "outputs": [],
   "source": [
    "v1.__dict__['b'] = 200"
   ]
  },
  {
   "cell_type": "code",
   "execution_count": 183,
   "id": "27f5b135",
   "metadata": {},
   "outputs": [
    {
     "data": {
      "text/plain": [
       "{'a': 10, 'b': 200}"
      ]
     },
     "execution_count": 183,
     "metadata": {},
     "output_type": "execute_result"
    }
   ],
   "source": [
    "v1.__dict__"
   ]
  },
  {
   "cell_type": "code",
   "execution_count": 185,
   "id": "e5ac0c1c",
   "metadata": {},
   "outputs": [],
   "source": [
    "v1.b = 12345678"
   ]
  },
  {
   "cell_type": "code",
   "execution_count": 186,
   "id": "a6b59de7",
   "metadata": {},
   "outputs": [
    {
     "data": {
      "text/plain": [
       "{'a': 10, 'b': 12345678}"
      ]
     },
     "execution_count": 186,
     "metadata": {},
     "output_type": "execute_result"
    }
   ],
   "source": [
    "v1.__dict__"
   ]
  },
  {
   "cell_type": "code",
   "execution_count": 188,
   "id": "1ac3a8dc",
   "metadata": {},
   "outputs": [],
   "source": [
    "v1.__dict__['C']  = 2343"
   ]
  },
  {
   "cell_type": "code",
   "execution_count": 189,
   "id": "d199876e",
   "metadata": {},
   "outputs": [
    {
     "data": {
      "text/plain": [
       "2343"
      ]
     },
     "execution_count": 189,
     "metadata": {},
     "output_type": "execute_result"
    }
   ],
   "source": [
    "v1.C"
   ]
  },
  {
   "cell_type": "code",
   "execution_count": 192,
   "id": "d21a9fe9",
   "metadata": {},
   "outputs": [
    {
     "data": {
      "text/plain": [
       "2343"
      ]
     },
     "execution_count": 192,
     "metadata": {},
     "output_type": "execute_result"
    }
   ],
   "source": [
    "v1.__getattribute__('C')"
   ]
  },
  {
   "cell_type": "code",
   "execution_count": 193,
   "id": "d534ebf9",
   "metadata": {},
   "outputs": [
    {
     "data": {
      "text/plain": [
       "2343"
      ]
     },
     "execution_count": 193,
     "metadata": {},
     "output_type": "execute_result"
    }
   ],
   "source": [
    "v1.C"
   ]
  },
  {
   "cell_type": "code",
   "execution_count": 194,
   "id": "fb902242",
   "metadata": {},
   "outputs": [
    {
     "data": {
      "text/plain": [
       "2343"
      ]
     },
     "execution_count": 194,
     "metadata": {},
     "output_type": "execute_result"
    }
   ],
   "source": [
    "v1.__getattribute__('C')"
   ]
  },
  {
   "cell_type": "code",
   "execution_count": 200,
   "id": "a309ceb1",
   "metadata": {},
   "outputs": [
    {
     "data": {
      "text/plain": [
       "['a',\n",
       " 'b',\n",
       " 'C',\n",
       " '__module__',\n",
       " '__init__',\n",
       " 'move',\n",
       " '__add__',\n",
       " '__sub__',\n",
       " '__ge__',\n",
       " '__str__',\n",
       " '__len__',\n",
       " '__dict__',\n",
       " '__weakref__',\n",
       " '__doc__',\n",
       " '__new__',\n",
       " '__repr__',\n",
       " '__hash__',\n",
       " '__getattribute__',\n",
       " '__setattr__',\n",
       " '__delattr__',\n",
       " '__lt__',\n",
       " '__le__',\n",
       " '__eq__',\n",
       " '__ne__',\n",
       " '__gt__',\n",
       " '__reduce_ex__',\n",
       " '__reduce__',\n",
       " '__getstate__',\n",
       " '__subclasshook__',\n",
       " '__init_subclass__',\n",
       " '__format__',\n",
       " '__sizeof__',\n",
       " '__dir__',\n",
       " '__class__']"
      ]
     },
     "execution_count": 200,
     "metadata": {},
     "output_type": "execute_result"
    }
   ],
   "source": [
    "v1.__dir__()"
   ]
  },
  {
   "cell_type": "code",
   "execution_count": 201,
   "id": "989a1276",
   "metadata": {},
   "outputs": [
    {
     "data": {
      "text/plain": [
       "['C',\n",
       " '__add__',\n",
       " '__class__',\n",
       " '__delattr__',\n",
       " '__dict__',\n",
       " '__dir__',\n",
       " '__doc__',\n",
       " '__eq__',\n",
       " '__format__',\n",
       " '__ge__',\n",
       " '__getattribute__',\n",
       " '__getstate__',\n",
       " '__gt__',\n",
       " '__hash__',\n",
       " '__init__',\n",
       " '__init_subclass__',\n",
       " '__le__',\n",
       " '__len__',\n",
       " '__lt__',\n",
       " '__module__',\n",
       " '__ne__',\n",
       " '__new__',\n",
       " '__reduce__',\n",
       " '__reduce_ex__',\n",
       " '__repr__',\n",
       " '__setattr__',\n",
       " '__sizeof__',\n",
       " '__str__',\n",
       " '__sub__',\n",
       " '__subclasshook__',\n",
       " '__weakref__',\n",
       " 'a',\n",
       " 'b',\n",
       " 'move']"
      ]
     },
     "execution_count": 201,
     "metadata": {},
     "output_type": "execute_result"
    }
   ],
   "source": [
    "dir(v1)"
   ]
  },
  {
   "cell_type": "code",
   "execution_count": 202,
   "id": "69b5c0fa",
   "metadata": {},
   "outputs": [
    {
     "data": {
      "text/plain": [
       "['__add__',\n",
       " '__class__',\n",
       " '__delattr__',\n",
       " '__dict__',\n",
       " '__dir__',\n",
       " '__doc__',\n",
       " '__eq__',\n",
       " '__format__',\n",
       " '__ge__',\n",
       " '__getattribute__',\n",
       " '__getstate__',\n",
       " '__gt__',\n",
       " '__hash__',\n",
       " '__init__',\n",
       " '__init_subclass__',\n",
       " '__le__',\n",
       " '__len__',\n",
       " '__lt__',\n",
       " '__module__',\n",
       " '__ne__',\n",
       " '__new__',\n",
       " '__reduce__',\n",
       " '__reduce_ex__',\n",
       " '__repr__',\n",
       " '__setattr__',\n",
       " '__sizeof__',\n",
       " '__str__',\n",
       " '__sub__',\n",
       " '__subclasshook__',\n",
       " '__weakref__',\n",
       " 'a',\n",
       " 'b',\n",
       " 'move']"
      ]
     },
     "execution_count": 202,
     "metadata": {},
     "output_type": "execute_result"
    }
   ],
   "source": [
    "dir(v2)"
   ]
  },
  {
   "cell_type": "markdown",
   "id": "3dda8f6f",
   "metadata": {},
   "source": [
    "# new day"
   ]
  },
  {
   "cell_type": "code",
   "execution_count": 2,
   "id": "b6e54136",
   "metadata": {},
   "outputs": [
    {
     "ename": "TypeError",
     "evalue": "unsupported operand type(s) for +: 'set' and 'set'",
     "output_type": "error",
     "traceback": [
      "\u001b[1;31m---------------------------------------------------------------------------\u001b[0m",
      "\u001b[1;31mTypeError\u001b[0m                                 Traceback (most recent call last)",
      "Cell \u001b[1;32mIn[2], line 1\u001b[0m\n\u001b[1;32m----> 1\u001b[0m {\u001b[38;5;241m1\u001b[39m,\u001b[38;5;241m34\u001b[39m} \u001b[38;5;241m+\u001b[39m {\u001b[38;5;241m2\u001b[39m,\u001b[38;5;241m3\u001b[39m}\n",
      "\u001b[1;31mTypeError\u001b[0m: unsupported operand type(s) for +: 'set' and 'set'"
     ]
    }
   ],
   "source": [
    "{1,34} + {2,3}"
   ]
  },
  {
   "cell_type": "code",
   "execution_count": 4,
   "id": "b888fa53",
   "metadata": {},
   "outputs": [
    {
     "data": {
      "text/plain": [
       "{1, 5, 24, 243}"
      ]
     },
     "execution_count": 4,
     "metadata": {},
     "output_type": "execute_result"
    }
   ],
   "source": [
    "a = {1,24}\n",
    "b = {1,243,5}\n",
    "\n",
    "set(list(a) + list(b))"
   ]
  },
  {
   "cell_type": "code",
   "execution_count": 11,
   "id": "4452cf6e",
   "metadata": {},
   "outputs": [],
   "source": [
    "class My_set:\n",
    "    def __init__(self,data):\n",
    "        self.data = data\n",
    "        \n",
    "    def __add__(self,other):\n",
    "        return set(list(self.data) + list(other.data))"
   ]
  },
  {
   "cell_type": "code",
   "execution_count": 10,
   "id": "5a3bde62",
   "metadata": {},
   "outputs": [
    {
     "ename": "TypeError",
     "evalue": "unsupported operand type(s) for +: 'My_set' and 'My_set'",
     "output_type": "error",
     "traceback": [
      "\u001b[1;31m---------------------------------------------------------------------------\u001b[0m",
      "\u001b[1;31mTypeError\u001b[0m                                 Traceback (most recent call last)",
      "Cell \u001b[1;32mIn[10], line 5\u001b[0m\n\u001b[0;32m      1\u001b[0m my_a \u001b[38;5;241m=\u001b[39m My_set({\u001b[38;5;241m1\u001b[39m,\u001b[38;5;241m24\u001b[39m})\n\u001b[0;32m      2\u001b[0m my_b \u001b[38;5;241m=\u001b[39m My_set({\u001b[38;5;241m1\u001b[39m,\u001b[38;5;241m243\u001b[39m,\u001b[38;5;241m5\u001b[39m})\n\u001b[1;32m----> 5\u001b[0m my_a \u001b[38;5;241m+\u001b[39m my_b\n",
      "\u001b[1;31mTypeError\u001b[0m: unsupported operand type(s) for +: 'My_set' and 'My_set'"
     ]
    }
   ],
   "source": [
    "my_a = My_set({1,24})\n",
    "my_b = My_set({1,243,5})\n",
    "\n",
    "\n",
    "my_a + my_b\n",
    "\n"
   ]
  },
  {
   "cell_type": "code",
   "execution_count": 8,
   "id": "4dc2b824",
   "metadata": {},
   "outputs": [
    {
     "ename": "TypeError",
     "evalue": "unsupported operand type(s) for +: 'set' and 'set'",
     "output_type": "error",
     "traceback": [
      "\u001b[1;31m---------------------------------------------------------------------------\u001b[0m",
      "\u001b[1;31mTypeError\u001b[0m                                 Traceback (most recent call last)",
      "Cell \u001b[1;32mIn[8], line 1\u001b[0m\n\u001b[1;32m----> 1\u001b[0m a \u001b[38;5;241m+\u001b[39m b\n",
      "\u001b[1;31mTypeError\u001b[0m: unsupported operand type(s) for +: 'set' and 'set'"
     ]
    }
   ],
   "source": [
    "a + b"
   ]
  },
  {
   "cell_type": "code",
   "execution_count": 12,
   "id": "f426ffbc",
   "metadata": {},
   "outputs": [],
   "source": [
    "# getter method:- data show to read only\n",
    "# setter method\n",
    "# static method\n",
    "# class method\n",
    "# destructor"
   ]
  },
  {
   "cell_type": "code",
   "execution_count": 35,
   "id": "57afe5da",
   "metadata": {},
   "outputs": [],
   "source": [
    "class Employee:\n",
    "    def __init__(self,name,salary):\n",
    "        self.name = name\n",
    "        self.salary = salary\n",
    "        \n",
    "    def get_details(self):\n",
    "        print(f'''Your name is: {self.name}\\nyour salary is {self.salary}''')\n",
    "    "
   ]
  },
  {
   "cell_type": "code",
   "execution_count": 36,
   "id": "88b495fe",
   "metadata": {},
   "outputs": [],
   "source": [
    "e1 = Employee('Jatin',987654)"
   ]
  },
  {
   "cell_type": "code",
   "execution_count": 37,
   "id": "714d839f",
   "metadata": {},
   "outputs": [
    {
     "name": "stdout",
     "output_type": "stream",
     "text": [
      "Your name is: Jatin\n",
      "your salary is 987654\n"
     ]
    }
   ],
   "source": [
    "e1.get_details()"
   ]
  },
  {
   "cell_type": "code",
   "execution_count": 38,
   "id": "8edd9e66",
   "metadata": {},
   "outputs": [],
   "source": [
    "# Protected\n",
    "class Employee:\n",
    "    def __init__(self,name,salary):\n",
    "        self._name = name\n",
    "        self._salary = salary\n",
    "        \n",
    "    def get_details(self):\n",
    "        print(f'''Your name is: {self._name}\\nyour salary is {self._salary}''')\n",
    "    "
   ]
  },
  {
   "cell_type": "code",
   "execution_count": 40,
   "id": "9be89562",
   "metadata": {},
   "outputs": [
    {
     "name": "stdout",
     "output_type": "stream",
     "text": [
      "Your name is: Karan\n",
      "your salary is 765\n"
     ]
    }
   ],
   "source": [
    "e2 = Employee('Karan',765)\n",
    "e2.get_details()"
   ]
  },
  {
   "cell_type": "code",
   "execution_count": 42,
   "id": "e976a8ca",
   "metadata": {},
   "outputs": [],
   "source": [
    "# e2._name"
   ]
  },
  {
   "cell_type": "code",
   "execution_count": 43,
   "id": "67397d0f",
   "metadata": {},
   "outputs": [],
   "source": [
    "# Private \n",
    "class Employee:\n",
    "    def __init__(self,name,salary):\n",
    "        self.__name = name\n",
    "        self.__salary = salary\n",
    "        \n",
    "    def get_details(self):\n",
    "        print(f'''Your name is: {self.__name}\\nyour salary is {self.__salary}''')\n",
    "    "
   ]
  },
  {
   "cell_type": "code",
   "execution_count": 44,
   "id": "8dcca6f1",
   "metadata": {},
   "outputs": [
    {
     "name": "stdout",
     "output_type": "stream",
     "text": [
      "Your name is: Mohan\n",
      "your salary is 987654\n"
     ]
    }
   ],
   "source": [
    "e3 = Employee('Mohan',987654)\n",
    "e3.get_details()"
   ]
  },
  {
   "cell_type": "code",
   "execution_count": 45,
   "id": "0c680721",
   "metadata": {},
   "outputs": [
    {
     "data": {
      "text/plain": [
       "'Mohan'"
      ]
     },
     "execution_count": 45,
     "metadata": {},
     "output_type": "execute_result"
    }
   ],
   "source": [
    "e3._Employee__name"
   ]
  },
  {
   "cell_type": "code",
   "execution_count": 64,
   "id": "2884983f",
   "metadata": {},
   "outputs": [],
   "source": [
    "# Private \n",
    "class Emp:\n",
    "    def __init__(self,name,salary):\n",
    "        self.__name = name\n",
    "        self.__salary = salary\n",
    "        \n",
    "    def get_details(self):\n",
    "        print(f'''Your name is: {self.__name}\\nyour salary is {self.__salary}''')\n",
    "    "
   ]
  },
  {
   "cell_type": "code",
   "execution_count": 61,
   "id": "f4893cc2",
   "metadata": {},
   "outputs": [],
   "source": [
    "e4 = Emp('Karan',987654)"
   ]
  },
  {
   "cell_type": "code",
   "execution_count": 62,
   "id": "5d325ebd",
   "metadata": {},
   "outputs": [
    {
     "name": "stdout",
     "output_type": "stream",
     "text": [
      "Your name is: Karan\n",
      "your salary is 987654\n"
     ]
    }
   ],
   "source": [
    "e4.get_details()"
   ]
  },
  {
   "cell_type": "code",
   "execution_count": 63,
   "id": "600f7bcc",
   "metadata": {},
   "outputs": [
    {
     "data": {
      "text/plain": [
       "987654"
      ]
     },
     "execution_count": 63,
     "metadata": {},
     "output_type": "execute_result"
    }
   ],
   "source": [
    "e4._Emp__salary"
   ]
  },
  {
   "cell_type": "code",
   "execution_count": 66,
   "id": "90d47307",
   "metadata": {},
   "outputs": [],
   "source": [
    "# setter\n",
    "# Public\n",
    "class Emp:\n",
    "    def __init__(self,name,salary):\n",
    "        self.name = name\n",
    "        self.salary = salary\n",
    "        \n",
    "    def get_details(self):\n",
    "        print(f'''Your name is: {self.name}\\nyour salary is {self.salary}''')\n",
    "    \n",
    "    def set_details(self,user_name,user_salary):\n",
    "        self.name = user_name\n",
    "        self.salary = user_salary\n",
    "        \n",
    "        return 'Success'"
   ]
  },
  {
   "cell_type": "code",
   "execution_count": 67,
   "id": "6a68ee23",
   "metadata": {},
   "outputs": [
    {
     "data": {
      "text/plain": [
       "<__main__.Emp at 0x18f8c91f610>"
      ]
     },
     "execution_count": 67,
     "metadata": {},
     "output_type": "execute_result"
    }
   ],
   "source": [
    "e5 = Emp('Komal',876543)\n",
    "e5"
   ]
  },
  {
   "cell_type": "code",
   "execution_count": 69,
   "id": "badaf671",
   "metadata": {},
   "outputs": [],
   "source": [
    "e5.name = 'Mohan'"
   ]
  },
  {
   "cell_type": "code",
   "execution_count": 72,
   "id": "0fdb4508",
   "metadata": {},
   "outputs": [
    {
     "data": {
      "text/plain": [
       "'Success'"
      ]
     },
     "execution_count": 72,
     "metadata": {},
     "output_type": "execute_result"
    }
   ],
   "source": [
    "e5.set_details('Akshay',98)"
   ]
  },
  {
   "cell_type": "code",
   "execution_count": 73,
   "id": "caf85c76",
   "metadata": {},
   "outputs": [
    {
     "data": {
      "text/plain": [
       "{'name': 'Akshay', 'salary': 98}"
      ]
     },
     "execution_count": 73,
     "metadata": {},
     "output_type": "execute_result"
    }
   ],
   "source": [
    "e5.__dict__"
   ]
  },
  {
   "cell_type": "code",
   "execution_count": null,
   "id": "306e0db8",
   "metadata": {},
   "outputs": [],
   "source": []
  },
  {
   "cell_type": "code",
   "execution_count": null,
   "id": "09f25772",
   "metadata": {},
   "outputs": [],
   "source": []
  },
  {
   "cell_type": "code",
   "execution_count": 74,
   "id": "af6fab0c",
   "metadata": {},
   "outputs": [],
   "source": [
    "# setter\n",
    "# Protected\n",
    "class Emp:\n",
    "    def __init__(self,name,salary):\n",
    "        self._name = name\n",
    "        self._salary = salary\n",
    "        \n",
    "    def get_details(self):\n",
    "        print(f'''Your name is: {self._name}\\nyour salary is {self._salary}''')\n",
    "    \n",
    "    def set_details(self,user_name,user_salary):\n",
    "        self._name = user_name\n",
    "        self._salary = user_salary\n",
    "        \n",
    "        return 'Success'"
   ]
  },
  {
   "cell_type": "code",
   "execution_count": 75,
   "id": "7db6130b",
   "metadata": {},
   "outputs": [
    {
     "data": {
      "text/plain": [
       "<__main__.Emp at 0x18f8cd21fd0>"
      ]
     },
     "execution_count": 75,
     "metadata": {},
     "output_type": "execute_result"
    }
   ],
   "source": [
    "e6 = Emp('lakshay',87654321)\n",
    "e6"
   ]
  },
  {
   "cell_type": "code",
   "execution_count": 77,
   "id": "6a7feaf0",
   "metadata": {},
   "outputs": [
    {
     "data": {
      "text/plain": [
       "'Success'"
      ]
     },
     "execution_count": 77,
     "metadata": {},
     "output_type": "execute_result"
    }
   ],
   "source": [
    "e6.set_details('Adani',987643)"
   ]
  },
  {
   "cell_type": "code",
   "execution_count": 78,
   "id": "a4b73d26",
   "metadata": {},
   "outputs": [
    {
     "data": {
      "text/plain": [
       "{'_name': 'Adani', '_salary': 987643}"
      ]
     },
     "execution_count": 78,
     "metadata": {},
     "output_type": "execute_result"
    }
   ],
   "source": [
    "e6.__dict__"
   ]
  },
  {
   "cell_type": "code",
   "execution_count": null,
   "id": "b083fdf0",
   "metadata": {},
   "outputs": [],
   "source": []
  },
  {
   "cell_type": "code",
   "execution_count": null,
   "id": "4d233a75",
   "metadata": {},
   "outputs": [],
   "source": []
  },
  {
   "cell_type": "code",
   "execution_count": 80,
   "id": "22d421ee",
   "metadata": {},
   "outputs": [],
   "source": [
    "# static method\n",
    "# class method\n",
    "\n",
    "# class variable"
   ]
  },
  {
   "cell_type": "code",
   "execution_count": 106,
   "id": "4a13813b",
   "metadata": {},
   "outputs": [],
   "source": [
    "class ATM:\n",
    "    \"This is a Class ATM docstring!!\"\n",
    "    msg = \"This is Minda ATM software!!\"\n",
    "    \n",
    "    def __init__(self):\n",
    "        pass\n",
    "    \n",
    "    def withdrawl(self):\n",
    "        pass\n",
    "    \n",
    "    def deposit(self):\n",
    "        pass\n",
    "    "
   ]
  },
  {
   "cell_type": "code",
   "execution_count": 107,
   "id": "2cad80b9",
   "metadata": {},
   "outputs": [],
   "source": [
    "icic = ATM()"
   ]
  },
  {
   "cell_type": "code",
   "execution_count": 108,
   "id": "1805b149",
   "metadata": {},
   "outputs": [
    {
     "data": {
      "text/plain": [
       "'This is Minda ATM software!!'"
      ]
     },
     "execution_count": 108,
     "metadata": {},
     "output_type": "execute_result"
    }
   ],
   "source": [
    "icic.msg"
   ]
  },
  {
   "cell_type": "code",
   "execution_count": 109,
   "id": "18385fc0",
   "metadata": {},
   "outputs": [],
   "source": [
    "axis = ATM()"
   ]
  },
  {
   "cell_type": "code",
   "execution_count": 110,
   "id": "6de82e81",
   "metadata": {},
   "outputs": [
    {
     "data": {
      "text/plain": [
       "'This is Minda ATM software!!'"
      ]
     },
     "execution_count": 110,
     "metadata": {},
     "output_type": "execute_result"
    }
   ],
   "source": [
    "axis.msg"
   ]
  },
  {
   "cell_type": "code",
   "execution_count": 111,
   "id": "c3716f4e",
   "metadata": {},
   "outputs": [
    {
     "data": {
      "text/plain": [
       "'This is Minda ATM software!!'"
      ]
     },
     "execution_count": 111,
     "metadata": {},
     "output_type": "execute_result"
    }
   ],
   "source": [
    "ATM.msg"
   ]
  },
  {
   "cell_type": "code",
   "execution_count": 112,
   "id": "eed30178",
   "metadata": {},
   "outputs": [
    {
     "data": {
      "text/plain": [
       "{}"
      ]
     },
     "execution_count": 112,
     "metadata": {},
     "output_type": "execute_result"
    }
   ],
   "source": [
    "icic.__dict__"
   ]
  },
  {
   "cell_type": "code",
   "execution_count": 113,
   "id": "89824463",
   "metadata": {},
   "outputs": [
    {
     "data": {
      "text/plain": [
       "{}"
      ]
     },
     "execution_count": 113,
     "metadata": {},
     "output_type": "execute_result"
    }
   ],
   "source": [
    "axis.__dict__"
   ]
  },
  {
   "cell_type": "code",
   "execution_count": 114,
   "id": "5963f155",
   "metadata": {},
   "outputs": [
    {
     "data": {
      "text/plain": [
       "mappingproxy({'__module__': '__main__',\n",
       "              '__doc__': 'This is a Class ATM docstring!!',\n",
       "              'msg': 'This is Minda ATM software!!',\n",
       "              '__init__': <function __main__.ATM.__init__(self)>,\n",
       "              'withdrawl': <function __main__.ATM.withdrawl(self)>,\n",
       "              'deposit': <function __main__.ATM.deposit(self)>,\n",
       "              '__dict__': <attribute '__dict__' of 'ATM' objects>,\n",
       "              '__weakref__': <attribute '__weakref__' of 'ATM' objects>})"
      ]
     },
     "execution_count": 114,
     "metadata": {},
     "output_type": "execute_result"
    }
   ],
   "source": [
    "ATM.__dict__"
   ]
  },
  {
   "cell_type": "code",
   "execution_count": 115,
   "id": "6846f87f",
   "metadata": {},
   "outputs": [
    {
     "data": {
      "text/plain": [
       "'This is a Class ATM docstring!!'"
      ]
     },
     "execution_count": 115,
     "metadata": {},
     "output_type": "execute_result"
    }
   ],
   "source": [
    "ATM.__doc__"
   ]
  },
  {
   "cell_type": "code",
   "execution_count": 116,
   "id": "6e90dc27",
   "metadata": {},
   "outputs": [
    {
     "name": "stdout",
     "output_type": "stream",
     "text": [
      "Help on class ATM in module __main__:\n",
      "\n",
      "class ATM(builtins.object)\n",
      " |  This is a Class ATM docstring!!\n",
      " |  \n",
      " |  Methods defined here:\n",
      " |  \n",
      " |  __init__(self)\n",
      " |      Initialize self.  See help(type(self)) for accurate signature.\n",
      " |  \n",
      " |  deposit(self)\n",
      " |  \n",
      " |  withdrawl(self)\n",
      " |  \n",
      " |  ----------------------------------------------------------------------\n",
      " |  Data descriptors defined here:\n",
      " |  \n",
      " |  __dict__\n",
      " |      dictionary for instance variables (if defined)\n",
      " |  \n",
      " |  __weakref__\n",
      " |      list of weak references to the object (if defined)\n",
      " |  \n",
      " |  ----------------------------------------------------------------------\n",
      " |  Data and other attributes defined here:\n",
      " |  \n",
      " |  msg = 'This is Minda ATM software!!'\n",
      "\n"
     ]
    }
   ],
   "source": [
    "help(ATM)"
   ]
  },
  {
   "cell_type": "code",
   "execution_count": 117,
   "id": "26cae9f1",
   "metadata": {},
   "outputs": [
    {
     "name": "stdout",
     "output_type": "stream",
     "text": [
      "Help on class int in module builtins:\n",
      "\n",
      "class int(object)\n",
      " |  int([x]) -> integer\n",
      " |  int(x, base=10) -> integer\n",
      " |  \n",
      " |  Convert a number or string to an integer, or return 0 if no arguments\n",
      " |  are given.  If x is a number, return x.__int__().  For floating point\n",
      " |  numbers, this truncates towards zero.\n",
      " |  \n",
      " |  If x is not a number or if base is given, then x must be a string,\n",
      " |  bytes, or bytearray instance representing an integer literal in the\n",
      " |  given base.  The literal can be preceded by '+' or '-' and be surrounded\n",
      " |  by whitespace.  The base defaults to 10.  Valid bases are 0 and 2-36.\n",
      " |  Base 0 means to interpret the base from the string as an integer literal.\n",
      " |  >>> int('0b100', base=0)\n",
      " |  4\n",
      " |  \n",
      " |  Built-in subclasses:\n",
      " |      bool\n",
      " |  \n",
      " |  Methods defined here:\n",
      " |  \n",
      " |  __abs__(self, /)\n",
      " |      abs(self)\n",
      " |  \n",
      " |  __add__(self, value, /)\n",
      " |      Return self+value.\n",
      " |  \n",
      " |  __and__(self, value, /)\n",
      " |      Return self&value.\n",
      " |  \n",
      " |  __bool__(self, /)\n",
      " |      True if self else False\n",
      " |  \n",
      " |  __ceil__(...)\n",
      " |      Ceiling of an Integral returns itself.\n",
      " |  \n",
      " |  __divmod__(self, value, /)\n",
      " |      Return divmod(self, value).\n",
      " |  \n",
      " |  __eq__(self, value, /)\n",
      " |      Return self==value.\n",
      " |  \n",
      " |  __float__(self, /)\n",
      " |      float(self)\n",
      " |  \n",
      " |  __floor__(...)\n",
      " |      Flooring an Integral returns itself.\n",
      " |  \n",
      " |  __floordiv__(self, value, /)\n",
      " |      Return self//value.\n",
      " |  \n",
      " |  __format__(self, format_spec, /)\n",
      " |      Default object formatter.\n",
      " |  \n",
      " |  __ge__(self, value, /)\n",
      " |      Return self>=value.\n",
      " |  \n",
      " |  __getattribute__(self, name, /)\n",
      " |      Return getattr(self, name).\n",
      " |  \n",
      " |  __getnewargs__(self, /)\n",
      " |  \n",
      " |  __gt__(self, value, /)\n",
      " |      Return self>value.\n",
      " |  \n",
      " |  __hash__(self, /)\n",
      " |      Return hash(self).\n",
      " |  \n",
      " |  __index__(self, /)\n",
      " |      Return self converted to an integer, if self is suitable for use as an index into a list.\n",
      " |  \n",
      " |  __int__(self, /)\n",
      " |      int(self)\n",
      " |  \n",
      " |  __invert__(self, /)\n",
      " |      ~self\n",
      " |  \n",
      " |  __le__(self, value, /)\n",
      " |      Return self<=value.\n",
      " |  \n",
      " |  __lshift__(self, value, /)\n",
      " |      Return self<<value.\n",
      " |  \n",
      " |  __lt__(self, value, /)\n",
      " |      Return self<value.\n",
      " |  \n",
      " |  __mod__(self, value, /)\n",
      " |      Return self%value.\n",
      " |  \n",
      " |  __mul__(self, value, /)\n",
      " |      Return self*value.\n",
      " |  \n",
      " |  __ne__(self, value, /)\n",
      " |      Return self!=value.\n",
      " |  \n",
      " |  __neg__(self, /)\n",
      " |      -self\n",
      " |  \n",
      " |  __or__(self, value, /)\n",
      " |      Return self|value.\n",
      " |  \n",
      " |  __pos__(self, /)\n",
      " |      +self\n",
      " |  \n",
      " |  __pow__(self, value, mod=None, /)\n",
      " |      Return pow(self, value, mod).\n",
      " |  \n",
      " |  __radd__(self, value, /)\n",
      " |      Return value+self.\n",
      " |  \n",
      " |  __rand__(self, value, /)\n",
      " |      Return value&self.\n",
      " |  \n",
      " |  __rdivmod__(self, value, /)\n",
      " |      Return divmod(value, self).\n",
      " |  \n",
      " |  __repr__(self, /)\n",
      " |      Return repr(self).\n",
      " |  \n",
      " |  __rfloordiv__(self, value, /)\n",
      " |      Return value//self.\n",
      " |  \n",
      " |  __rlshift__(self, value, /)\n",
      " |      Return value<<self.\n",
      " |  \n",
      " |  __rmod__(self, value, /)\n",
      " |      Return value%self.\n",
      " |  \n",
      " |  __rmul__(self, value, /)\n",
      " |      Return value*self.\n",
      " |  \n",
      " |  __ror__(self, value, /)\n",
      " |      Return value|self.\n",
      " |  \n",
      " |  __round__(...)\n",
      " |      Rounding an Integral returns itself.\n",
      " |      \n",
      " |      Rounding with an ndigits argument also returns an integer.\n",
      " |  \n",
      " |  __rpow__(self, value, mod=None, /)\n",
      " |      Return pow(value, self, mod).\n",
      " |  \n",
      " |  __rrshift__(self, value, /)\n",
      " |      Return value>>self.\n",
      " |  \n",
      " |  __rshift__(self, value, /)\n",
      " |      Return self>>value.\n",
      " |  \n",
      " |  __rsub__(self, value, /)\n",
      " |      Return value-self.\n",
      " |  \n",
      " |  __rtruediv__(self, value, /)\n",
      " |      Return value/self.\n",
      " |  \n",
      " |  __rxor__(self, value, /)\n",
      " |      Return value^self.\n",
      " |  \n",
      " |  __sizeof__(self, /)\n",
      " |      Returns size in memory, in bytes.\n",
      " |  \n",
      " |  __sub__(self, value, /)\n",
      " |      Return self-value.\n",
      " |  \n",
      " |  __truediv__(self, value, /)\n",
      " |      Return self/value.\n",
      " |  \n",
      " |  __trunc__(...)\n",
      " |      Truncating an Integral returns itself.\n",
      " |  \n",
      " |  __xor__(self, value, /)\n",
      " |      Return self^value.\n",
      " |  \n",
      " |  as_integer_ratio(self, /)\n",
      " |      Return integer ratio.\n",
      " |      \n",
      " |      Return a pair of integers, whose ratio is exactly equal to the original int\n",
      " |      and with a positive denominator.\n",
      " |      \n",
      " |      >>> (10).as_integer_ratio()\n",
      " |      (10, 1)\n",
      " |      >>> (-10).as_integer_ratio()\n",
      " |      (-10, 1)\n",
      " |      >>> (0).as_integer_ratio()\n",
      " |      (0, 1)\n",
      " |  \n",
      " |  bit_count(self, /)\n",
      " |      Number of ones in the binary representation of the absolute value of self.\n",
      " |      \n",
      " |      Also known as the population count.\n",
      " |      \n",
      " |      >>> bin(13)\n",
      " |      '0b1101'\n",
      " |      >>> (13).bit_count()\n",
      " |      3\n",
      " |  \n",
      " |  bit_length(self, /)\n",
      " |      Number of bits necessary to represent self in binary.\n",
      " |      \n",
      " |      >>> bin(37)\n",
      " |      '0b100101'\n",
      " |      >>> (37).bit_length()\n",
      " |      6\n",
      " |  \n",
      " |  conjugate(...)\n",
      " |      Returns self, the complex conjugate of any int.\n",
      " |  \n",
      " |  to_bytes(self, /, length=1, byteorder='big', *, signed=False)\n",
      " |      Return an array of bytes representing an integer.\n",
      " |      \n",
      " |      length\n",
      " |        Length of bytes object to use.  An OverflowError is raised if the\n",
      " |        integer is not representable with the given number of bytes.  Default\n",
      " |        is length 1.\n",
      " |      byteorder\n",
      " |        The byte order used to represent the integer.  If byteorder is 'big',\n",
      " |        the most significant byte is at the beginning of the byte array.  If\n",
      " |        byteorder is 'little', the most significant byte is at the end of the\n",
      " |        byte array.  To request the native byte order of the host system, use\n",
      " |        `sys.byteorder' as the byte order value.  Default is to use 'big'.\n",
      " |      signed\n",
      " |        Determines whether two's complement is used to represent the integer.\n",
      " |        If signed is False and a negative integer is given, an OverflowError\n",
      " |        is raised.\n",
      " |  \n",
      " |  ----------------------------------------------------------------------\n",
      " |  Class methods defined here:\n",
      " |  \n",
      " |  from_bytes(bytes, byteorder='big', *, signed=False) from builtins.type\n",
      " |      Return the integer represented by the given array of bytes.\n",
      " |      \n",
      " |      bytes\n",
      " |        Holds the array of bytes to convert.  The argument must either\n",
      " |        support the buffer protocol or be an iterable object producing bytes.\n",
      " |        Bytes and bytearray are examples of built-in objects that support the\n",
      " |        buffer protocol.\n",
      " |      byteorder\n",
      " |        The byte order used to represent the integer.  If byteorder is 'big',\n",
      " |        the most significant byte is at the beginning of the byte array.  If\n",
      " |        byteorder is 'little', the most significant byte is at the end of the\n",
      " |        byte array.  To request the native byte order of the host system, use\n",
      " |        `sys.byteorder' as the byte order value.  Default is to use 'big'.\n",
      " |      signed\n",
      " |        Indicates whether two's complement is used to represent the integer.\n",
      " |  \n",
      " |  ----------------------------------------------------------------------\n",
      " |  Static methods defined here:\n",
      " |  \n",
      " |  __new__(*args, **kwargs) from builtins.type\n",
      " |      Create and return a new object.  See help(type) for accurate signature.\n",
      " |  \n",
      " |  ----------------------------------------------------------------------\n",
      " |  Data descriptors defined here:\n",
      " |  \n",
      " |  denominator\n",
      " |      the denominator of a rational number in lowest terms\n",
      " |  \n",
      " |  imag\n",
      " |      the imaginary part of a complex number\n",
      " |  \n",
      " |  numerator\n",
      " |      the numerator of a rational number in lowest terms\n",
      " |  \n",
      " |  real\n",
      " |      the real part of a complex number\n",
      "\n"
     ]
    }
   ],
   "source": [
    "help(int)"
   ]
  },
  {
   "cell_type": "code",
   "execution_count": 120,
   "id": "7baf7e42",
   "metadata": {},
   "outputs": [
    {
     "data": {
      "text/plain": [
       "34"
      ]
     },
     "execution_count": 120,
     "metadata": {},
     "output_type": "execute_result"
    }
   ],
   "source": [
    "a  = -876543\n",
    "\n",
    "# abs(a)\n",
    "\n",
    "a = 345\n",
    "b = 34\n",
    "\n",
    "a & b\n",
    "\n",
    "a and b"
   ]
  },
  {
   "cell_type": "code",
   "execution_count": 123,
   "id": "c435b54d",
   "metadata": {},
   "outputs": [
    {
     "data": {
      "text/plain": [
       "True"
      ]
     },
     "execution_count": 123,
     "metadata": {},
     "output_type": "execute_result"
    }
   ],
   "source": [
    "a = -987654\n",
    "\n",
    "bool(a)"
   ]
  },
  {
   "cell_type": "code",
   "execution_count": 125,
   "id": "90086825",
   "metadata": {},
   "outputs": [
    {
     "name": "stdout",
     "output_type": "stream",
     "text": [
      "Help on class set in module builtins:\n",
      "\n",
      "class set(object)\n",
      " |  set() -> new empty set object\n",
      " |  set(iterable) -> new set object\n",
      " |  \n",
      " |  Build an unordered collection of unique elements.\n",
      " |  \n",
      " |  Methods defined here:\n",
      " |  \n",
      " |  __and__(self, value, /)\n",
      " |      Return self&value.\n",
      " |  \n",
      " |  __contains__(...)\n",
      " |      x.__contains__(y) <==> y in x.\n",
      " |  \n",
      " |  __eq__(self, value, /)\n",
      " |      Return self==value.\n",
      " |  \n",
      " |  __ge__(self, value, /)\n",
      " |      Return self>=value.\n",
      " |  \n",
      " |  __getattribute__(self, name, /)\n",
      " |      Return getattr(self, name).\n",
      " |  \n",
      " |  __gt__(self, value, /)\n",
      " |      Return self>value.\n",
      " |  \n",
      " |  __iand__(self, value, /)\n",
      " |      Return self&=value.\n",
      " |  \n",
      " |  __init__(self, /, *args, **kwargs)\n",
      " |      Initialize self.  See help(type(self)) for accurate signature.\n",
      " |  \n",
      " |  __ior__(self, value, /)\n",
      " |      Return self|=value.\n",
      " |  \n",
      " |  __isub__(self, value, /)\n",
      " |      Return self-=value.\n",
      " |  \n",
      " |  __iter__(self, /)\n",
      " |      Implement iter(self).\n",
      " |  \n",
      " |  __ixor__(self, value, /)\n",
      " |      Return self^=value.\n",
      " |  \n",
      " |  __le__(self, value, /)\n",
      " |      Return self<=value.\n",
      " |  \n",
      " |  __len__(self, /)\n",
      " |      Return len(self).\n",
      " |  \n",
      " |  __lt__(self, value, /)\n",
      " |      Return self<value.\n",
      " |  \n",
      " |  __ne__(self, value, /)\n",
      " |      Return self!=value.\n",
      " |  \n",
      " |  __or__(self, value, /)\n",
      " |      Return self|value.\n",
      " |  \n",
      " |  __rand__(self, value, /)\n",
      " |      Return value&self.\n",
      " |  \n",
      " |  __reduce__(...)\n",
      " |      Return state information for pickling.\n",
      " |  \n",
      " |  __repr__(self, /)\n",
      " |      Return repr(self).\n",
      " |  \n",
      " |  __ror__(self, value, /)\n",
      " |      Return value|self.\n",
      " |  \n",
      " |  __rsub__(self, value, /)\n",
      " |      Return value-self.\n",
      " |  \n",
      " |  __rxor__(self, value, /)\n",
      " |      Return value^self.\n",
      " |  \n",
      " |  __sizeof__(...)\n",
      " |      S.__sizeof__() -> size of S in memory, in bytes\n",
      " |  \n",
      " |  __sub__(self, value, /)\n",
      " |      Return self-value.\n",
      " |  \n",
      " |  __xor__(self, value, /)\n",
      " |      Return self^value.\n",
      " |  \n",
      " |  add(...)\n",
      " |      Add an element to a set.\n",
      " |      \n",
      " |      This has no effect if the element is already present.\n",
      " |  \n",
      " |  clear(...)\n",
      " |      Remove all elements from this set.\n",
      " |  \n",
      " |  copy(...)\n",
      " |      Return a shallow copy of a set.\n",
      " |  \n",
      " |  difference(...)\n",
      " |      Return the difference of two or more sets as a new set.\n",
      " |      \n",
      " |      (i.e. all elements that are in this set but not the others.)\n",
      " |  \n",
      " |  difference_update(...)\n",
      " |      Remove all elements of another set from this set.\n",
      " |  \n",
      " |  discard(...)\n",
      " |      Remove an element from a set if it is a member.\n",
      " |      \n",
      " |      Unlike set.remove(), the discard() method does not raise\n",
      " |      an exception when an element is missing from the set.\n",
      " |  \n",
      " |  intersection(...)\n",
      " |      Return the intersection of two sets as a new set.\n",
      " |      \n",
      " |      (i.e. all elements that are in both sets.)\n",
      " |  \n",
      " |  intersection_update(...)\n",
      " |      Update a set with the intersection of itself and another.\n",
      " |  \n",
      " |  isdisjoint(...)\n",
      " |      Return True if two sets have a null intersection.\n",
      " |  \n",
      " |  issubset(...)\n",
      " |      Report whether another set contains this set.\n",
      " |  \n",
      " |  issuperset(...)\n",
      " |      Report whether this set contains another set.\n",
      " |  \n",
      " |  pop(...)\n",
      " |      Remove and return an arbitrary set element.\n",
      " |      Raises KeyError if the set is empty.\n",
      " |  \n",
      " |  remove(...)\n",
      " |      Remove an element from a set; it must be a member.\n",
      " |      \n",
      " |      If the element is not a member, raise a KeyError.\n",
      " |  \n",
      " |  symmetric_difference(...)\n",
      " |      Return the symmetric difference of two sets as a new set.\n",
      " |      \n",
      " |      (i.e. all elements that are in exactly one of the sets.)\n",
      " |  \n",
      " |  symmetric_difference_update(...)\n",
      " |      Update a set with the symmetric difference of itself and another.\n",
      " |  \n",
      " |  union(...)\n",
      " |      Return the union of sets as a new set.\n",
      " |      \n",
      " |      (i.e. all elements that are in either set.)\n",
      " |  \n",
      " |  update(...)\n",
      " |      Update a set with the union of itself and others.\n",
      " |  \n",
      " |  ----------------------------------------------------------------------\n",
      " |  Class methods defined here:\n",
      " |  \n",
      " |  __class_getitem__(...) from builtins.type\n",
      " |      See PEP 585\n",
      " |  \n",
      " |  ----------------------------------------------------------------------\n",
      " |  Static methods defined here:\n",
      " |  \n",
      " |  __new__(*args, **kwargs) from builtins.type\n",
      " |      Create and return a new object.  See help(type) for accurate signature.\n",
      " |  \n",
      " |  ----------------------------------------------------------------------\n",
      " |  Data and other attributes defined here:\n",
      " |  \n",
      " |  __hash__ = None\n",
      "\n"
     ]
    }
   ],
   "source": [
    "help(set)"
   ]
  },
  {
   "cell_type": "code",
   "execution_count": null,
   "id": "cb38ae18",
   "metadata": {},
   "outputs": [],
   "source": []
  },
  {
   "cell_type": "code",
   "execution_count": null,
   "id": "14b4788b",
   "metadata": {},
   "outputs": [],
   "source": []
  },
  {
   "cell_type": "code",
   "execution_count": 141,
   "id": "7bcfd863",
   "metadata": {},
   "outputs": [],
   "source": [
    "class ATM:\n",
    "    \"This is a Class ATM docstring!!\"\n",
    "    \n",
    "    \n",
    "    count_instances = 0\n",
    "    msg = \"This is Minda ATM software!!\"\n",
    "    \n",
    "    def __init__(self):\n",
    "        ATM.count_instances += 1\n",
    "    \n",
    "    def withdrawl(self):\n",
    "        pass\n",
    "    \n",
    "    def deposit(self):\n",
    "        pass\n",
    "    "
   ]
  },
  {
   "cell_type": "code",
   "execution_count": 142,
   "id": "a215e4d3",
   "metadata": {},
   "outputs": [],
   "source": [
    "ic = ATM()"
   ]
  },
  {
   "cell_type": "code",
   "execution_count": 143,
   "id": "ebd5789d",
   "metadata": {},
   "outputs": [
    {
     "data": {
      "text/plain": [
       "1"
      ]
     },
     "execution_count": 143,
     "metadata": {},
     "output_type": "execute_result"
    }
   ],
   "source": [
    "ic.count_instances"
   ]
  },
  {
   "cell_type": "code",
   "execution_count": 144,
   "id": "ed0f9ac9",
   "metadata": {},
   "outputs": [],
   "source": [
    "sbi = ATM()"
   ]
  },
  {
   "cell_type": "code",
   "execution_count": 145,
   "id": "d508647f",
   "metadata": {},
   "outputs": [
    {
     "data": {
      "text/plain": [
       "2"
      ]
     },
     "execution_count": 145,
     "metadata": {},
     "output_type": "execute_result"
    }
   ],
   "source": [
    "sbi.count_instances"
   ]
  },
  {
   "cell_type": "code",
   "execution_count": 146,
   "id": "d9e71c97",
   "metadata": {},
   "outputs": [],
   "source": [
    "axis  = ATM()"
   ]
  },
  {
   "cell_type": "code",
   "execution_count": 147,
   "id": "7750442e",
   "metadata": {},
   "outputs": [
    {
     "data": {
      "text/plain": [
       "3"
      ]
     },
     "execution_count": 147,
     "metadata": {},
     "output_type": "execute_result"
    }
   ],
   "source": [
    "axis.count_instances"
   ]
  },
  {
   "cell_type": "code",
   "execution_count": 148,
   "id": "7c891385",
   "metadata": {},
   "outputs": [],
   "source": [
    "pnb  = ATM()"
   ]
  },
  {
   "cell_type": "code",
   "execution_count": 151,
   "id": "23593e45",
   "metadata": {},
   "outputs": [],
   "source": [
    "pnb.count_instances = 8"
   ]
  },
  {
   "cell_type": "code",
   "execution_count": 155,
   "id": "2e74b34f",
   "metadata": {},
   "outputs": [
    {
     "data": {
      "text/plain": [
       "8"
      ]
     },
     "execution_count": 155,
     "metadata": {},
     "output_type": "execute_result"
    }
   ],
   "source": [
    "pnb.count_instances"
   ]
  },
  {
   "cell_type": "code",
   "execution_count": 156,
   "id": "f4b604da",
   "metadata": {},
   "outputs": [
    {
     "data": {
      "text/plain": [
       "{}"
      ]
     },
     "execution_count": 156,
     "metadata": {},
     "output_type": "execute_result"
    }
   ],
   "source": [
    "axis.__dict__"
   ]
  },
  {
   "cell_type": "code",
   "execution_count": 157,
   "id": "a91582dd",
   "metadata": {},
   "outputs": [
    {
     "data": {
      "text/plain": [
       "{}"
      ]
     },
     "execution_count": 157,
     "metadata": {},
     "output_type": "execute_result"
    }
   ],
   "source": [
    "sbi.__dict__"
   ]
  },
  {
   "cell_type": "code",
   "execution_count": 153,
   "id": "9d9a337f",
   "metadata": {},
   "outputs": [],
   "source": [
    "idbi = ATM()"
   ]
  },
  {
   "cell_type": "code",
   "execution_count": 154,
   "id": "4693a6b6",
   "metadata": {},
   "outputs": [
    {
     "data": {
      "text/plain": [
       "5"
      ]
     },
     "execution_count": 154,
     "metadata": {},
     "output_type": "execute_result"
    }
   ],
   "source": [
    "idbi.count_instances"
   ]
  },
  {
   "cell_type": "code",
   "execution_count": 158,
   "id": "939bc671",
   "metadata": {},
   "outputs": [
    {
     "data": {
      "text/plain": [
       "{'count_instances': 8}"
      ]
     },
     "execution_count": 158,
     "metadata": {},
     "output_type": "execute_result"
    }
   ],
   "source": [
    "pnb.__dict__"
   ]
  },
  {
   "cell_type": "code",
   "execution_count": 160,
   "id": "c95711b3",
   "metadata": {},
   "outputs": [],
   "source": [
    "ATM.count_instances = 10"
   ]
  },
  {
   "cell_type": "code",
   "execution_count": 161,
   "id": "2f5993a9",
   "metadata": {},
   "outputs": [],
   "source": [
    "hdfc = ATM()"
   ]
  },
  {
   "cell_type": "code",
   "execution_count": 162,
   "id": "77b81063",
   "metadata": {},
   "outputs": [
    {
     "data": {
      "text/plain": [
       "11"
      ]
     },
     "execution_count": 162,
     "metadata": {},
     "output_type": "execute_result"
    }
   ],
   "source": [
    "hdfc.count_instances"
   ]
  },
  {
   "cell_type": "code",
   "execution_count": 164,
   "id": "28bd85a4",
   "metadata": {},
   "outputs": [],
   "source": []
  },
  {
   "cell_type": "code",
   "execution_count": 3,
   "id": "e2a8a6c9",
   "metadata": {},
   "outputs": [
    {
     "name": "stdout",
     "output_type": "stream",
     "text": [
      "No Prime\n"
     ]
    }
   ],
   "source": [
    "number = 45\n",
    "\n",
    "for i in range(2,number):\n",
    "    if number % i == 0:\n",
    "        print('No Prime')\n",
    "        break\n",
    "        \n",
    "else:\n",
    "    print('Prime')"
   ]
  },
  {
   "cell_type": "code",
   "execution_count": null,
   "id": "edd148c1",
   "metadata": {},
   "outputs": [],
   "source": []
  },
  {
   "cell_type": "code",
   "execution_count": 2,
   "id": "efa8d09f",
   "metadata": {},
   "outputs": [
    {
     "name": "stdout",
     "output_type": "stream",
     "text": [
      "No Prime\n",
      "Prime\n"
     ]
    }
   ],
   "source": [
    "number = 45\n",
    "\n",
    "for i in range(2,number):\n",
    "    if number % i == 0:\n",
    "        print('No Prime')\n",
    "        break\n",
    "        \n",
    "print('Prime')"
   ]
  },
  {
   "cell_type": "markdown",
   "id": "cd50cf75",
   "metadata": {},
   "source": [
    "# 3rd Day"
   ]
  },
  {
   "cell_type": "code",
   "execution_count": 4,
   "id": "24e3d769",
   "metadata": {},
   "outputs": [],
   "source": [
    "# nested class\n",
    "# destructor\n",
    "# meta class:with type func\n",
    "# module:_ package"
   ]
  },
  {
   "cell_type": "code",
   "execution_count": 5,
   "id": "215ae5ee",
   "metadata": {},
   "outputs": [],
   "source": [
    "# nested class:- class dependent second class"
   ]
  },
  {
   "cell_type": "code",
   "execution_count": 6,
   "id": "1825503f",
   "metadata": {},
   "outputs": [],
   "source": [
    "def one():\n",
    "    print('one')\n",
    "    \n",
    "    def two():\n",
    "        print('two')"
   ]
  },
  {
   "cell_type": "code",
   "execution_count": 8,
   "id": "f51a405b",
   "metadata": {},
   "outputs": [],
   "source": [
    "class Employee:\n",
    "    \n",
    "    def __init__(self):\n",
    "        print('Employee Class INIT')\n",
    "    \n",
    "    class Employee_Trip:\n",
    "        def __init__(self):\n",
    "            print('Employee Trip Init')\n",
    "        \n",
    "        def goa(self):\n",
    "            print('Goa trip!!')\n",
    "            \n",
    "        def haridwar(self):\n",
    "            print('Nepal Trip!!')\n",
    "            \n",
    "            \n",
    "    def salary(self):\n",
    "        print('Employee salary!!')\n",
    "        \n",
    "    def promotion(self):\n",
    "        print('Promote func!!')\n",
    "            "
   ]
  },
  {
   "cell_type": "code",
   "execution_count": 9,
   "id": "c8592f41",
   "metadata": {},
   "outputs": [
    {
     "name": "stdout",
     "output_type": "stream",
     "text": [
      "Employee Class INIT\n"
     ]
    }
   ],
   "source": [
    "e1 = Employee()"
   ]
  },
  {
   "cell_type": "code",
   "execution_count": 10,
   "id": "20c2b194",
   "metadata": {},
   "outputs": [
    {
     "name": "stdout",
     "output_type": "stream",
     "text": [
      "Employee Trip Init\n"
     ]
    }
   ],
   "source": [
    "trip = e1.Employee_Trip()"
   ]
  },
  {
   "cell_type": "code",
   "execution_count": 11,
   "id": "9996ac83",
   "metadata": {},
   "outputs": [
    {
     "name": "stdout",
     "output_type": "stream",
     "text": [
      "Employee salary!!\n"
     ]
    }
   ],
   "source": [
    "e1.salary()"
   ]
  },
  {
   "cell_type": "code",
   "execution_count": 12,
   "id": "61b4745e",
   "metadata": {},
   "outputs": [
    {
     "name": "stdout",
     "output_type": "stream",
     "text": [
      "Goa trip!!\n"
     ]
    }
   ],
   "source": [
    "trip.goa()"
   ]
  },
  {
   "cell_type": "code",
   "execution_count": 14,
   "id": "43e734a8",
   "metadata": {},
   "outputs": [],
   "source": [
    "import pandas as pd"
   ]
  },
  {
   "cell_type": "code",
   "execution_count": 16,
   "id": "0e547aef",
   "metadata": {},
   "outputs": [],
   "source": [
    "data = {'name':['karan','ajay'],'sec':list('AB')}\n",
    "\n",
    "table = pd.DataFrame(data)"
   ]
  },
  {
   "cell_type": "code",
   "execution_count": 18,
   "id": "455d3cc6",
   "metadata": {},
   "outputs": [],
   "source": [
    "# print(dir(table))"
   ]
  },
  {
   "cell_type": "code",
   "execution_count": 19,
   "id": "a6cd5a14",
   "metadata": {},
   "outputs": [],
   "source": [
    "import turtle as t"
   ]
  },
  {
   "cell_type": "code",
   "execution_count": 20,
   "id": "9beaa948",
   "metadata": {},
   "outputs": [
    {
     "data": {
      "text/plain": [
       "<tkinter.Canvas object .!canvas>"
      ]
     },
     "execution_count": 20,
     "metadata": {},
     "output_type": "execute_result"
    }
   ],
   "source": [
    "t.Canvas()"
   ]
  },
  {
   "cell_type": "code",
   "execution_count": 22,
   "id": "55e8c2ad",
   "metadata": {},
   "outputs": [
    {
     "name": "stdout",
     "output_type": "stream",
     "text": [
      "['DEFAULT_ANGLEOFFSET', 'DEFAULT_ANGLEORIENT', 'DEFAULT_MODE', 'START_ORIENTATION', '__class__', '__delattr__', '__dict__', '__dir__', '__doc__', '__eq__', '__format__', '__ge__', '__getattribute__', '__getstate__', '__gt__', '__hash__', '__init__', '__init_subclass__', '__le__', '__lt__', '__module__', '__ne__', '__new__', '__reduce__', '__reduce_ex__', '__repr__', '__setattr__', '__sizeof__', '__str__', '__subclasshook__', '__weakref__', '_cc', '_clear', '_clearstamp', '_color', '_colorstr', '_delay', '_drawturtle', '_getshapepoly', '_go', '_goto', '_newLine', '_pen', '_polytrafo', '_reset', '_rotate', '_screen', '_setDegreesPerAU', '_setmode', '_tracer', '_undo', '_undogoto', '_update', '_update_data', '_write', 'back', 'backward', 'begin_fill', 'begin_poly', 'bk', 'circle', 'clear', 'clearstamp', 'clearstamps', 'clone', 'color', 'degrees', 'distance', 'dot', 'down', 'end_fill', 'end_poly', 'fd', 'fillcolor', 'filling', 'forward', 'get_poly', 'get_shapepoly', 'getpen', 'getscreen', 'getturtle', 'goto', 'heading', 'hideturtle', 'home', 'ht', 'isdown', 'isvisible', 'left', 'lt', 'onclick', 'ondrag', 'onrelease', 'pd', 'pen', 'pencolor', 'pendown', 'pensize', 'penup', 'pos', 'position', 'pu', 'radians', 'reset', 'resizemode', 'right', 'rt', 'screens', 'seth', 'setheading', 'setpos', 'setposition', 'settiltangle', 'setundobuffer', 'setx', 'sety', 'shape', 'shapesize', 'shapetransform', 'shearfactor', 'showturtle', 'speed', 'st', 'stamp', 'tilt', 'tiltangle', 'towards', 'turtlesize', 'undo', 'undobufferentries', 'up', 'width', 'write', 'xcor', 'ycor']\n"
     ]
    }
   ],
   "source": [
    "print(dir(t.Pen))"
   ]
  },
  {
   "cell_type": "code",
   "execution_count": 23,
   "id": "1af1bf9d",
   "metadata": {},
   "outputs": [],
   "source": [
    "# class Turtle:\n",
    "#     class Pen:\n",
    "#         class DEFAULT_MODE"
   ]
  },
  {
   "cell_type": "code",
   "execution_count": null,
   "id": "45a85425",
   "metadata": {},
   "outputs": [],
   "source": []
  },
  {
   "cell_type": "code",
   "execution_count": null,
   "id": "cad57322",
   "metadata": {},
   "outputs": [],
   "source": []
  },
  {
   "cell_type": "code",
   "execution_count": 24,
   "id": "a7c66b67",
   "metadata": {},
   "outputs": [],
   "source": [
    "class Employee:\n",
    "    \n",
    "    def __init__(self):\n",
    "        print('Employee Class INIT')\n",
    "    \n",
    "    class Employee_Trip:\n",
    "        def __init__(self):\n",
    "            print('Employee Trip Init')\n",
    "        \n",
    "        def goa(self):\n",
    "            print('Goa trip!!')\n",
    "            \n",
    "        def haridwar(self):\n",
    "            print('Nepal Trip!!')\n",
    "            \n",
    "    class DOB:\n",
    "        def __init__(self,dd,mm,yy):\n",
    "            print(f'Your D.O.B is {dd}/{mm}/{yy}')\n",
    "            \n",
    "        \n",
    "            \n",
    "            \n",
    "    def salary(self):\n",
    "        print('Employee salary!!')\n",
    "        \n",
    "    def promotion(self):\n",
    "        print('Promote func!!')\n",
    "            "
   ]
  },
  {
   "cell_type": "code",
   "execution_count": 29,
   "id": "c0307981",
   "metadata": {},
   "outputs": [
    {
     "name": "stdout",
     "output_type": "stream",
     "text": [
      "Employee Class INIT\n"
     ]
    },
    {
     "data": {
      "text/plain": [
       "<__main__.Employee at 0x27f24b8dfd0>"
      ]
     },
     "execution_count": 29,
     "metadata": {},
     "output_type": "execute_result"
    }
   ],
   "source": [
    "aman = Employee()\n",
    "aman"
   ]
  },
  {
   "cell_type": "code",
   "execution_count": 28,
   "id": "b1b95b1b",
   "metadata": {},
   "outputs": [
    {
     "name": "stdout",
     "output_type": "stream",
     "text": [
      "Your D.O.B is 12/12/2012\n"
     ]
    },
    {
     "data": {
      "text/plain": [
       "<__main__.Employee.DOB at 0x27f270bd050>"
      ]
     },
     "execution_count": 28,
     "metadata": {},
     "output_type": "execute_result"
    }
   ],
   "source": [
    "aman.DOB(12,12,2012)"
   ]
  },
  {
   "cell_type": "code",
   "execution_count": null,
   "id": "4c34d1f0",
   "metadata": {},
   "outputs": [],
   "source": []
  },
  {
   "cell_type": "code",
   "execution_count": null,
   "id": "5f7e4cf4",
   "metadata": {},
   "outputs": [],
   "source": []
  },
  {
   "cell_type": "code",
   "execution_count": 38,
   "id": "0cd92b55",
   "metadata": {},
   "outputs": [],
   "source": [
    "class Employee:\n",
    "    \n",
    "    def __init__(self,dd,mm,yy):\n",
    "        \n",
    "        print('''Employee 2.5.1 (SDL 2.28.2, Python 3.11.3)\n",
    "Hello from the pygame community. https://www.Employee.org/contribute.html\n",
    "(5, 0)''')\n",
    "        \n",
    "        \n",
    "        print('Employee Class INIT')\n",
    "        self.DOB(dd,mm,yy)\n",
    "        self.Employee_Trip().haridwar()\n",
    "        \n",
    "        \n",
    "    class Employee_Trip:\n",
    "        def __init__(self):\n",
    "            print('Employee Trip Init')\n",
    "        \n",
    "        def goa(self):\n",
    "            print('Goa trip!!')\n",
    "            \n",
    "        def haridwar(self):\n",
    "            print('Nepal Trip!!')\n",
    "            \n",
    "    class DOB:\n",
    "        def __init__(self,dd,mm,yy):\n",
    "            print(f'Your D.O.B is {dd}/{mm}/{yy}')\n",
    "            \n",
    "        \n",
    "            \n",
    "            \n",
    "    def salary(self):\n",
    "        print('Employee salary!!')\n",
    "        \n",
    "    def promotion(self):\n",
    "        print('Promote func!!')\n",
    "            "
   ]
  },
  {
   "cell_type": "code",
   "execution_count": 39,
   "id": "11444a22",
   "metadata": {},
   "outputs": [
    {
     "name": "stdout",
     "output_type": "stream",
     "text": [
      "Employee 2.5.1 (SDL 2.28.2, Python 3.11.3)\n",
      "Hello from the pygame community. https://www.Employee.org/contribute.html\n",
      "(5, 0)\n",
      "Employee Class INIT\n",
      "Your D.O.B is 1/1/2024\n",
      "Employee Trip Init\n",
      "Nepal Trip!!\n"
     ]
    }
   ],
   "source": [
    "emp = Employee(1,1,2024)"
   ]
  },
  {
   "cell_type": "code",
   "execution_count": null,
   "id": "fa8a92b9",
   "metadata": {},
   "outputs": [],
   "source": []
  },
  {
   "cell_type": "code",
   "execution_count": null,
   "id": "736e1193",
   "metadata": {},
   "outputs": [],
   "source": []
  },
  {
   "cell_type": "code",
   "execution_count": null,
   "id": "5ba9f481",
   "metadata": {},
   "outputs": [],
   "source": []
  },
  {
   "cell_type": "code",
   "execution_count": 108,
   "id": "54a05175",
   "metadata": {},
   "outputs": [],
   "source": [
    "class Techvidya:\n",
    "    \n",
    "    def __init__(self):\n",
    "        print('Class constructor!!')\n",
    "        \n",
    "    def a(self):\n",
    "        print('this is a')\n",
    "        \n",
    "    def b(self):\n",
    "        print('b')\n",
    "        \n",
    "    def __del__(self):\n",
    "        print('Class destructor called!!')"
   ]
  },
  {
   "cell_type": "code",
   "execution_count": 48,
   "id": "970e8165",
   "metadata": {},
   "outputs": [
    {
     "name": "stdout",
     "output_type": "stream",
     "text": [
      "Class constructor!!\n"
     ]
    }
   ],
   "source": [
    "obj = Techvidya()"
   ]
  },
  {
   "cell_type": "code",
   "execution_count": 49,
   "id": "23a1fc7f",
   "metadata": {},
   "outputs": [
    {
     "data": {
      "text/plain": [
       "2744952077264"
      ]
     },
     "execution_count": 49,
     "metadata": {},
     "output_type": "execute_result"
    }
   ],
   "source": [
    "id(obj)"
   ]
  },
  {
   "cell_type": "code",
   "execution_count": 50,
   "id": "54ad9b65",
   "metadata": {},
   "outputs": [
    {
     "name": "stdout",
     "output_type": "stream",
     "text": [
      "Class destructor called!!\n"
     ]
    }
   ],
   "source": [
    "del obj"
   ]
  },
  {
   "cell_type": "code",
   "execution_count": 51,
   "id": "a62e30b3",
   "metadata": {},
   "outputs": [
    {
     "ename": "NameError",
     "evalue": "name 'obj' is not defined",
     "output_type": "error",
     "traceback": [
      "\u001b[1;31m---------------------------------------------------------------------------\u001b[0m",
      "\u001b[1;31mNameError\u001b[0m                                 Traceback (most recent call last)",
      "Cell \u001b[1;32mIn[51], line 1\u001b[0m\n\u001b[1;32m----> 1\u001b[0m \u001b[38;5;28mid\u001b[39m(obj)\n",
      "\u001b[1;31mNameError\u001b[0m: name 'obj' is not defined"
     ]
    }
   ],
   "source": [
    "id(obj)"
   ]
  },
  {
   "cell_type": "code",
   "execution_count": null,
   "id": "ffd1b880",
   "metadata": {},
   "outputs": [],
   "source": []
  },
  {
   "cell_type": "code",
   "execution_count": 54,
   "id": "755aae47",
   "metadata": {},
   "outputs": [
    {
     "name": "stdout",
     "output_type": "stream",
     "text": [
      "Class constructor!!\n"
     ]
    }
   ],
   "source": [
    "obj2 = Techvidya()"
   ]
  },
  {
   "cell_type": "code",
   "execution_count": 55,
   "id": "3a888d7d",
   "metadata": {},
   "outputs": [
    {
     "name": "stdout",
     "output_type": "stream",
     "text": [
      "Class destructor called!!\n"
     ]
    }
   ],
   "source": [
    "del obj2"
   ]
  },
  {
   "cell_type": "code",
   "execution_count": 56,
   "id": "52716b99",
   "metadata": {},
   "outputs": [
    {
     "ename": "NameError",
     "evalue": "name 'obj2' is not defined",
     "output_type": "error",
     "traceback": [
      "\u001b[1;31m---------------------------------------------------------------------------\u001b[0m",
      "\u001b[1;31mNameError\u001b[0m                                 Traceback (most recent call last)",
      "Cell \u001b[1;32mIn[56], line 1\u001b[0m\n\u001b[1;32m----> 1\u001b[0m \u001b[38;5;28mid\u001b[39m(obj2)\n",
      "\u001b[1;31mNameError\u001b[0m: name 'obj2' is not defined"
     ]
    }
   ],
   "source": [
    "id(obj2)"
   ]
  },
  {
   "cell_type": "code",
   "execution_count": null,
   "id": "da27837a",
   "metadata": {},
   "outputs": [],
   "source": []
  },
  {
   "cell_type": "code",
   "execution_count": 68,
   "id": "aecd8ab9",
   "metadata": {},
   "outputs": [
    {
     "name": "stdout",
     "output_type": "stream",
     "text": [
      "Class constructor!!\n"
     ]
    }
   ],
   "source": [
    "obj2 = Techvidya()"
   ]
  },
  {
   "cell_type": "code",
   "execution_count": 62,
   "id": "558775a1",
   "metadata": {},
   "outputs": [
    {
     "name": "stdout",
     "output_type": "stream",
     "text": [
      "Class destructor called!!\n"
     ]
    }
   ],
   "source": [
    "obj2.__del__()"
   ]
  },
  {
   "cell_type": "code",
   "execution_count": 63,
   "id": "e3afecb5",
   "metadata": {},
   "outputs": [
    {
     "data": {
      "text/plain": [
       "2745181060560"
      ]
     },
     "execution_count": 63,
     "metadata": {},
     "output_type": "execute_result"
    }
   ],
   "source": [
    "id(obj2)"
   ]
  },
  {
   "cell_type": "code",
   "execution_count": 64,
   "id": "b03f4fae",
   "metadata": {},
   "outputs": [
    {
     "name": "stdout",
     "output_type": "stream",
     "text": [
      "Class destructor called!!\n"
     ]
    }
   ],
   "source": [
    "del obj2"
   ]
  },
  {
   "cell_type": "code",
   "execution_count": 65,
   "id": "53768a6c",
   "metadata": {},
   "outputs": [],
   "source": [
    "import gc"
   ]
  },
  {
   "cell_type": "code",
   "execution_count": 66,
   "id": "6fae3b89",
   "metadata": {},
   "outputs": [
    {
     "name": "stdout",
     "output_type": "stream",
     "text": [
      "Class destructor called!!\n"
     ]
    },
    {
     "data": {
      "text/plain": [
       "8425"
      ]
     },
     "execution_count": 66,
     "metadata": {},
     "output_type": "execute_result"
    }
   ],
   "source": [
    "gc.collect()"
   ]
  },
  {
   "cell_type": "code",
   "execution_count": null,
   "id": "05907be6",
   "metadata": {},
   "outputs": [],
   "source": []
  },
  {
   "cell_type": "code",
   "execution_count": null,
   "id": "98636e7b",
   "metadata": {},
   "outputs": [],
   "source": []
  },
  {
   "cell_type": "code",
   "execution_count": 67,
   "id": "fb210490",
   "metadata": {},
   "outputs": [],
   "source": [
    "# meta class:with type func"
   ]
  },
  {
   "cell_type": "code",
   "execution_count": 69,
   "id": "d3f416a9",
   "metadata": {},
   "outputs": [
    {
     "data": {
      "text/plain": [
       "__main__.Techvidya"
      ]
     },
     "execution_count": 69,
     "metadata": {},
     "output_type": "execute_result"
    }
   ],
   "source": [
    "type(obj2)"
   ]
  },
  {
   "cell_type": "code",
   "execution_count": null,
   "id": "4b3e7e80",
   "metadata": {},
   "outputs": [],
   "source": []
  },
  {
   "cell_type": "code",
   "execution_count": 118,
   "id": "872398b1",
   "metadata": {},
   "outputs": [
    {
     "data": {
      "text/plain": [
       "__main__.Amit"
      ]
     },
     "execution_count": 118,
     "metadata": {},
     "output_type": "execute_result"
    }
   ],
   "source": [
    "# meta class\n",
    "# class Ab:\n",
    "#     pass\n",
    "\n",
    "type('Amit',(object,), {\"salary\":23987,\"address\":'Noida'})"
   ]
  },
  {
   "cell_type": "markdown",
   "id": "d64f3a72",
   "metadata": {},
   "source": [
    "# Creating custom Metaclass"
   ]
  },
  {
   "cell_type": "code",
   "execution_count": 119,
   "id": "ae5a775d",
   "metadata": {},
   "outputs": [],
   "source": [
    "naman = type('Amit',(Techvidya,), {\"salary\":23987,\"address\":'Noida'})"
   ]
  },
  {
   "cell_type": "code",
   "execution_count": 120,
   "id": "5c5e83db",
   "metadata": {},
   "outputs": [
    {
     "data": {
      "text/plain": [
       "[__main__.Amit, __main__.Techvidya, object]"
      ]
     },
     "execution_count": 120,
     "metadata": {},
     "output_type": "execute_result"
    }
   ],
   "source": [
    "naman.mro()"
   ]
  },
  {
   "cell_type": "code",
   "execution_count": 121,
   "id": "38ca3d9e",
   "metadata": {},
   "outputs": [
    {
     "data": {
      "text/plain": [
       "'Noida'"
      ]
     },
     "execution_count": 121,
     "metadata": {},
     "output_type": "execute_result"
    }
   ],
   "source": [
    "naman.address"
   ]
  },
  {
   "cell_type": "code",
   "execution_count": 122,
   "id": "24516868",
   "metadata": {},
   "outputs": [
    {
     "data": {
      "text/plain": [
       "23987"
      ]
     },
     "execution_count": 122,
     "metadata": {},
     "output_type": "execute_result"
    }
   ],
   "source": [
    "naman.salary"
   ]
  },
  {
   "cell_type": "code",
   "execution_count": null,
   "id": "0f72e6cb",
   "metadata": {},
   "outputs": [],
   "source": []
  },
  {
   "cell_type": "code",
   "execution_count": 123,
   "id": "ff7d6066",
   "metadata": {},
   "outputs": [
    {
     "name": "stdout",
     "output_type": "stream",
     "text": [
      "Class constructor!!\n",
      "Class destructor called!!\n"
     ]
    }
   ],
   "source": [
    "f = naman()"
   ]
  },
  {
   "cell_type": "code",
   "execution_count": 124,
   "id": "2c2f8716",
   "metadata": {},
   "outputs": [
    {
     "name": "stdout",
     "output_type": "stream",
     "text": [
      "this is a\n"
     ]
    }
   ],
   "source": [
    "f.a()"
   ]
  },
  {
   "cell_type": "code",
   "execution_count": 125,
   "id": "c0382e3f",
   "metadata": {},
   "outputs": [
    {
     "name": "stdout",
     "output_type": "stream",
     "text": [
      "b\n"
     ]
    }
   ],
   "source": [
    "f.b()"
   ]
  },
  {
   "cell_type": "code",
   "execution_count": null,
   "id": "6185935c",
   "metadata": {},
   "outputs": [],
   "source": []
  },
  {
   "cell_type": "code",
   "execution_count": null,
   "id": "2ded2646",
   "metadata": {},
   "outputs": [],
   "source": []
  }
 ],
 "metadata": {
  "kernelspec": {
   "display_name": "Python 3 (ipykernel)",
   "language": "python",
   "name": "python3"
  },
  "language_info": {
   "codemirror_mode": {
    "name": "ipython",
    "version": 3
   },
   "file_extension": ".py",
   "mimetype": "text/x-python",
   "name": "python",
   "nbconvert_exporter": "python",
   "pygments_lexer": "ipython3",
   "version": "3.11.3"
  }
 },
 "nbformat": 4,
 "nbformat_minor": 5
}
