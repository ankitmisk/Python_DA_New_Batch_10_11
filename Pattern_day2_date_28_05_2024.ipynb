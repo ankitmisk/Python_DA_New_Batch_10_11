{
 "cells": [
  {
   "cell_type": "code",
   "execution_count": null,
   "id": "44443033",
   "metadata": {},
   "outputs": [],
   "source": [
    "# Square box\n",
    "# 5 55 555 5555...\n",
    "#       *\n",
    "#     * *\n",
    "#   * * *"
   ]
  },
  {
   "cell_type": "code",
   "execution_count": 15,
   "id": "ec4eb45d",
   "metadata": {},
   "outputs": [
    {
     "name": "stdout",
     "output_type": "stream",
     "text": [
      "2 2 \n",
      "2 2 \n"
     ]
    }
   ],
   "source": [
    "# Square box\n",
    "\n",
    "# 5 5 5 5 5\n",
    "# 5 5 5 5 5 \n",
    "# 5 5 5 5 5 \n",
    "# 5 5 5 5 5 \n",
    "# 5 5 5 5 5 \n",
    "\n",
    "no  = 2\n",
    "\n",
    "for i in range(no):\n",
    "    print(f'{no} ' * no)"
   ]
  },
  {
   "cell_type": "code",
   "execution_count": 16,
   "id": "cbf25285",
   "metadata": {},
   "outputs": [],
   "source": [
    "# 5 55 555 5555 55555..."
   ]
  },
  {
   "cell_type": "code",
   "execution_count": 36,
   "id": "33f6f497",
   "metadata": {},
   "outputs": [
    {
     "name": "stdout",
     "output_type": "stream",
     "text": [
      "10 1010 101010 10101010 1010101010 101010101010 10101010101010 1010101010101010 101010101010101010 10101010101010101010 \b...\n"
     ]
    }
   ],
   "source": [
    "no = 10\n",
    "\n",
    "for i in range(1,no+1):\n",
    "    print(str(no)*i,end = ' ')\n",
    "print('\\b...')"
   ]
  },
  {
   "cell_type": "code",
   "execution_count": 42,
   "id": "39d863ae",
   "metadata": {
    "scrolled": true
   },
   "outputs": [
    {
     "name": "stdout",
     "output_type": "stream",
     "text": [
      "A AB ABC ABCD ABCDE "
     ]
    }
   ],
   "source": [
    "# \n",
    "# no = 5\n",
    "\n",
    "# A AB ABC ABCD ABCDE\n",
    "\n",
    "\n",
    "import string\n",
    "\n",
    "data = string.ascii_uppercase\n",
    "no = 5\n",
    "    \n",
    "for i in range(1,no+1):\n",
    "    print(data[0:i],end= ' ')"
   ]
  },
  {
   "cell_type": "code",
   "execution_count": 45,
   "id": "d0210f51",
   "metadata": {},
   "outputs": [],
   "source": [
    "# # star: 3  space 4\n",
    "#    *   #4\n",
    "#   * *   #2\n",
    "# * * *   #0"
   ]
  },
  {
   "cell_type": "code",
   "execution_count": 44,
   "id": "82f20421",
   "metadata": {},
   "outputs": [],
   "source": [
    "#       *   #6            # star: 4  space: 6\n",
    "#     * *   #4\n",
    "#   * * *   #2\n",
    "# * * * *   #0\n",
    "\n",
    "\n",
    "\n",
    "#         * #8         # star 5    space 8\n",
    "#       * * #6\n",
    "#     * * * #4\n",
    "#   * * * * #2\n",
    "# * * * * * #0\n",
    "\n",
    "\n",
    "\n",
    "#           * #10    #star 6  space 10\n",
    "#         * * #8\n",
    "#       * * * #6\n",
    "#     * * * * #4\n",
    "#   * * * * * #2\n",
    "# * * * * * * #0"
   ]
  },
  {
   "cell_type": "code",
   "execution_count": 61,
   "id": "28ed8c2f",
   "metadata": {},
   "outputs": [
    {
     "name": "stdout",
     "output_type": "stream",
     "text": [
      "                  * \n",
      "                * * \n",
      "              * * * \n",
      "            * * * * \n",
      "          * * * * * \n",
      "        * * * * * * \n",
      "      * * * * * * * \n",
      "    * * * * * * * * \n",
      "  * * * * * * * * * \n",
      "* * * * * * * * * * \n"
     ]
    }
   ],
   "source": [
    "no  = 10\n",
    "\n",
    "spaces = no + (no - 3) + 1\n",
    "\n",
    "for i in range(1,no+1):\n",
    "    print( ' '*spaces + i*'* ')\n",
    "    spaces -=2"
   ]
  },
  {
   "cell_type": "code",
   "execution_count": 67,
   "id": "ac6e80ee",
   "metadata": {},
   "outputs": [
    {
     "data": {
      "text/plain": [
       "'     mohan'"
      ]
     },
     "execution_count": 67,
     "metadata": {},
     "output_type": "execute_result"
    }
   ],
   "source": [
    "a = 'mohan'\n",
    "\n",
    "a.rjust(10,' ')"
   ]
  },
  {
   "cell_type": "code",
   "execution_count": 93,
   "id": "b41646cd",
   "metadata": {},
   "outputs": [
    {
     "name": "stdout",
     "output_type": "stream",
     "text": [
      "    * \n",
      "  * * \n",
      "* * * \n"
     ]
    }
   ],
   "source": [
    "no  = 3\n",
    "for i in range(1,no+1):\n",
    "    st = ('* '*i)\n",
    "    print(st.rjust(no*2,' '))"
   ]
  },
  {
   "cell_type": "code",
   "execution_count": null,
   "id": "eeca88d0",
   "metadata": {},
   "outputs": [],
   "source": []
  },
  {
   "cell_type": "code",
   "execution_count": null,
   "id": "8a2ba714",
   "metadata": {},
   "outputs": [],
   "source": [
    "        * #8 8 sp 1 star:- 9\n",
    "      * * #6 7 sp  2star:- 9\n",
    "    * * * #4 6 sp  3star:-9\n",
    "  * * * * #2 5 sp  4star:-9\n",
    "* * * * * #0 4 sp  5star:-9"
   ]
  },
  {
   "cell_type": "code",
   "execution_count": 121,
   "id": "d8a19071",
   "metadata": {},
   "outputs": [
    {
     "name": "stdout",
     "output_type": "stream",
     "text": [
      "        * \n",
      "      * * * \n",
      "    * * * * * \n",
      "  * * * * * * * \n",
      "* * * * * * * * * \n"
     ]
    }
   ],
   "source": [
    "no = 5\n",
    "spaces = no +(no-3)+1\n",
    "# print(spaces)\n",
    "for i in range(no):\n",
    "    for j in range(spaces):\n",
    "        print(''*spaces,end=' ')\n",
    "    \n",
    "    for k in range(no+no-1-spaces):\n",
    "        print('* ',end= '')\n",
    "    spaces-=2\n",
    "    print()"
   ]
  },
  {
   "cell_type": "code",
   "execution_count": null,
   "id": "19b88cd3",
   "metadata": {},
   "outputs": [],
   "source": []
  }
 ],
 "metadata": {
  "kernelspec": {
   "display_name": "Python 3 (ipykernel)",
   "language": "python",
   "name": "python3"
  },
  "language_info": {
   "codemirror_mode": {
    "name": "ipython",
    "version": 3
   },
   "file_extension": ".py",
   "mimetype": "text/x-python",
   "name": "python",
   "nbconvert_exporter": "python",
   "pygments_lexer": "ipython3",
   "version": "3.11.3"
  }
 },
 "nbformat": 4,
 "nbformat_minor": 5
}
