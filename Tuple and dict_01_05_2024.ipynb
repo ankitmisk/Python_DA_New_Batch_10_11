{
 "cells": [
  {
   "cell_type": "code",
   "execution_count": 2,
   "id": "d154ee5a",
   "metadata": {},
   "outputs": [
    {
     "name": "stdout",
     "output_type": "stream",
     "text": [
      "(1, 232, 53, 45, 4125, 67) <class 'tuple'>\n"
     ]
    }
   ],
   "source": [
    "a = (1,232,53,45,4125,67)\n",
    "\n",
    "print(a,type(a))"
   ]
  },
  {
   "cell_type": "code",
   "execution_count": 3,
   "id": "3abcd7ab",
   "metadata": {},
   "outputs": [
    {
     "name": "stdout",
     "output_type": "stream",
     "text": [
      "(23, 123, 54, 67, 54324, 54, 7) <class 'tuple'>\n"
     ]
    }
   ],
   "source": [
    "a = 23,123,54,67,54324,54,7\n",
    "\n",
    "print(a,type(a))"
   ]
  },
  {
   "cell_type": "code",
   "execution_count": 4,
   "id": "bb670f2a",
   "metadata": {},
   "outputs": [
    {
     "name": "stdout",
     "output_type": "stream",
     "text": [
      "() <class 'tuple'>\n"
     ]
    }
   ],
   "source": [
    "# empty tuple\n",
    "\n",
    "a = ()\n",
    "\n",
    "print(a,type(a))"
   ]
  },
  {
   "cell_type": "code",
   "execution_count": 5,
   "id": "b5d2bb9d",
   "metadata": {},
   "outputs": [
    {
     "name": "stdout",
     "output_type": "stream",
     "text": [
      "() <class 'tuple'>\n"
     ]
    }
   ],
   "source": [
    "# empty tuple\n",
    "\n",
    "a = tuple()\n",
    "\n",
    "print(a,type(a))"
   ]
  },
  {
   "cell_type": "code",
   "execution_count": 6,
   "id": "b2ef24e1",
   "metadata": {},
   "outputs": [
    {
     "name": "stdout",
     "output_type": "stream",
     "text": [
      "[] <class 'list'>\n"
     ]
    }
   ],
   "source": [
    "a = list()\n",
    "print(a,type(a))"
   ]
  },
  {
   "cell_type": "code",
   "execution_count": null,
   "id": "282b1033",
   "metadata": {},
   "outputs": [],
   "source": []
  },
  {
   "cell_type": "code",
   "execution_count": 8,
   "id": "ae729ac3",
   "metadata": {},
   "outputs": [
    {
     "name": "stdout",
     "output_type": "stream",
     "text": [
      "(23,) <class 'tuple'>\n"
     ]
    }
   ],
   "source": [
    "# single element tuple\n",
    "\n",
    "a = (23,)\n",
    "print(a,type(a))"
   ]
  },
  {
   "cell_type": "code",
   "execution_count": 9,
   "id": "35397295",
   "metadata": {},
   "outputs": [
    {
     "name": "stdout",
     "output_type": "stream",
     "text": [
      "(1, 2, 34, 3, 4, 5)\n"
     ]
    }
   ],
   "source": [
    "# basic op\n",
    "\n",
    "a = (1,2,34)\n",
    "b = (3,4,5)\n",
    "\n",
    "print(a+b)"
   ]
  },
  {
   "cell_type": "code",
   "execution_count": 14,
   "id": "bb92d463",
   "metadata": {},
   "outputs": [
    {
     "name": "stdout",
     "output_type": "stream",
     "text": [
      "(1, 2, 34, 1, 2, 34, 1, 2, 34, 1, 2, 34, 1, 2, 34)\n"
     ]
    }
   ],
   "source": [
    "# basic op\n",
    "# +,-,*,//,/,%\n",
    "\n",
    "a = (1,2,34)\n",
    "b = (3,4,5)\n",
    "\n",
    "print(a*5)"
   ]
  },
  {
   "cell_type": "code",
   "execution_count": 16,
   "id": "59714b2f",
   "metadata": {},
   "outputs": [],
   "source": [
    "# H/w\n",
    "# bit wise op\n",
    "# &,|,~,<<,>>,^"
   ]
  },
  {
   "cell_type": "code",
   "execution_count": 18,
   "id": "6330ac1a",
   "metadata": {},
   "outputs": [],
   "source": [
    "# tuple are immutable in nature\n",
    "# we can not change or assign item\n",
    "# remains same as list\n",
    "# indexing,slicing,nested,negative indexing\n"
   ]
  },
  {
   "cell_type": "code",
   "execution_count": 19,
   "id": "2f02ee41",
   "metadata": {},
   "outputs": [
    {
     "name": "stdout",
     "output_type": "stream",
     "text": [
      "6\n"
     ]
    }
   ],
   "source": [
    "a = (1,243,6,57)\n",
    "\n",
    "print(a[2])"
   ]
  },
  {
   "cell_type": "code",
   "execution_count": 20,
   "id": "9b936552",
   "metadata": {},
   "outputs": [
    {
     "ename": "TypeError",
     "evalue": "'tuple' object does not support item assignment",
     "output_type": "error",
     "traceback": [
      "\u001b[1;31m---------------------------------------------------------------------------\u001b[0m",
      "\u001b[1;31mTypeError\u001b[0m                                 Traceback (most recent call last)",
      "Cell \u001b[1;32mIn[20], line 1\u001b[0m\n\u001b[1;32m----> 1\u001b[0m a[\u001b[38;5;241m2\u001b[39m] \u001b[38;5;241m=\u001b[39m \u001b[38;5;241m1234567\u001b[39m\n",
      "\u001b[1;31mTypeError\u001b[0m: 'tuple' object does not support item assignment"
     ]
    }
   ],
   "source": [
    "a[2] = 1234567"
   ]
  },
  {
   "cell_type": "code",
   "execution_count": 21,
   "id": "57b4a8a8",
   "metadata": {},
   "outputs": [
    {
     "data": {
      "text/plain": [
       "(56, 321, 344, 56, 8)"
      ]
     },
     "execution_count": 21,
     "metadata": {},
     "output_type": "execute_result"
    }
   ],
   "source": [
    "a = (2,234,56,321,344,56,8,6543456)\n",
    "\n",
    "a[2:7]"
   ]
  },
  {
   "cell_type": "code",
   "execution_count": 22,
   "id": "e698ddc3",
   "metadata": {
    "scrolled": true
   },
   "outputs": [
    {
     "ename": "TypeError",
     "evalue": "'tuple' object does not support item assignment",
     "output_type": "error",
     "traceback": [
      "\u001b[1;31m---------------------------------------------------------------------------\u001b[0m",
      "\u001b[1;31mTypeError\u001b[0m                                 Traceback (most recent call last)",
      "Cell \u001b[1;32mIn[22], line 1\u001b[0m\n\u001b[1;32m----> 1\u001b[0m a[\u001b[38;5;241m2\u001b[39m:\u001b[38;5;241m7\u001b[39m] \u001b[38;5;241m=\u001b[39m \u001b[38;5;241m3456\u001b[39m\n",
      "\u001b[1;31mTypeError\u001b[0m: 'tuple' object does not support item assignment"
     ]
    }
   ],
   "source": [
    "a[2:7] = 3456"
   ]
  },
  {
   "cell_type": "code",
   "execution_count": 23,
   "id": "98b4e11c",
   "metadata": {},
   "outputs": [],
   "source": [
    "# basic func\n",
    "# min,max,sum,len,id,"
   ]
  },
  {
   "cell_type": "code",
   "execution_count": 24,
   "id": "850bc236",
   "metadata": {},
   "outputs": [
    {
     "data": {
      "text/plain": [
       "2900"
      ]
     },
     "execution_count": 24,
     "metadata": {},
     "output_type": "execute_result"
    }
   ],
   "source": [
    "a = (1,2432,467)\n",
    "\n",
    "sum(a)"
   ]
  },
  {
   "cell_type": "code",
   "execution_count": 25,
   "id": "68bc44e6",
   "metadata": {},
   "outputs": [
    {
     "data": {
      "text/plain": [
       "1"
      ]
     },
     "execution_count": 25,
     "metadata": {},
     "output_type": "execute_result"
    }
   ],
   "source": [
    "min(a)"
   ]
  },
  {
   "cell_type": "code",
   "execution_count": 26,
   "id": "be0eea7b",
   "metadata": {},
   "outputs": [
    {
     "data": {
      "text/plain": [
       "2432"
      ]
     },
     "execution_count": 26,
     "metadata": {},
     "output_type": "execute_result"
    }
   ],
   "source": [
    "max(a)"
   ]
  },
  {
   "cell_type": "code",
   "execution_count": 27,
   "id": "4a0621d3",
   "metadata": {},
   "outputs": [
    {
     "data": {
      "text/plain": [
       "2873125294592"
      ]
     },
     "execution_count": 27,
     "metadata": {},
     "output_type": "execute_result"
    }
   ],
   "source": [
    "id(a)"
   ]
  },
  {
   "cell_type": "code",
   "execution_count": 29,
   "id": "e1383274",
   "metadata": {},
   "outputs": [
    {
     "data": {
      "text/plain": [
       "3"
      ]
     },
     "execution_count": 29,
     "metadata": {},
     "output_type": "execute_result"
    }
   ],
   "source": [
    "len(a)"
   ]
  },
  {
   "cell_type": "code",
   "execution_count": 30,
   "id": "706994ef",
   "metadata": {},
   "outputs": [
    {
     "name": "stdout",
     "output_type": "stream",
     "text": [
      "(1, 2, 3, 45, (3, 4, 5, 6, (4, 5, 6, 78, (4, 5, 6, 7, (3, 56, 7)))))\n"
     ]
    }
   ],
   "source": [
    "# #nested tuple\n",
    "\n",
    "\n",
    "a = (1,2,3,45,(3,4,5,6,(4,5,6,78,(4,5,6,7,(3,56,7)))))\n",
    "\n",
    "\n",
    "print(a)"
   ]
  },
  {
   "cell_type": "code",
   "execution_count": 35,
   "id": "a6e57766",
   "metadata": {},
   "outputs": [
    {
     "data": {
      "text/plain": [
       "6"
      ]
     },
     "execution_count": 35,
     "metadata": {},
     "output_type": "execute_result"
    }
   ],
   "source": [
    "a[-1][-1][-1][2]"
   ]
  },
  {
   "cell_type": "code",
   "execution_count": 36,
   "id": "9ab70fba",
   "metadata": {},
   "outputs": [
    {
     "ename": "TypeError",
     "evalue": "'tuple' object does not support item assignment",
     "output_type": "error",
     "traceback": [
      "\u001b[1;31m---------------------------------------------------------------------------\u001b[0m",
      "\u001b[1;31mTypeError\u001b[0m                                 Traceback (most recent call last)",
      "Cell \u001b[1;32mIn[36], line 1\u001b[0m\n\u001b[1;32m----> 1\u001b[0m a[\u001b[38;5;241m-\u001b[39m\u001b[38;5;241m1\u001b[39m][\u001b[38;5;241m-\u001b[39m\u001b[38;5;241m1\u001b[39m][\u001b[38;5;241m-\u001b[39m\u001b[38;5;241m1\u001b[39m][\u001b[38;5;241m2\u001b[39m] \u001b[38;5;241m=\u001b[39m \u001b[38;5;241m234567\u001b[39m\n",
      "\u001b[1;31mTypeError\u001b[0m: 'tuple' object does not support item assignment"
     ]
    }
   ],
   "source": [
    "a[-1][-1][-1][2] = 234567"
   ]
  },
  {
   "cell_type": "code",
   "execution_count": 37,
   "id": "292534e8",
   "metadata": {},
   "outputs": [],
   "source": [
    "# we can change element/elements of tuple with the help of type casting"
   ]
  },
  {
   "cell_type": "code",
   "execution_count": 38,
   "id": "98b4b8e9",
   "metadata": {},
   "outputs": [
    {
     "name": "stdout",
     "output_type": "stream",
     "text": [
      "(1, 243, 543, 7)\n"
     ]
    }
   ],
   "source": [
    "a = (1,243,543,7)\n",
    "\n",
    "\n",
    "print(a)"
   ]
  },
  {
   "cell_type": "code",
   "execution_count": 42,
   "id": "c23d1407",
   "metadata": {},
   "outputs": [
    {
     "name": "stdout",
     "output_type": "stream",
     "text": [
      "[1, 243, 9999, 7]\n",
      "(1, 243, 9999, 7)\n"
     ]
    }
   ],
   "source": [
    "a = list(a)\n",
    "\n",
    "a[2] = 9999\n",
    "print(a)\n",
    "\n",
    "a = tuple(a)\n",
    "print(a)"
   ]
  },
  {
   "cell_type": "code",
   "execution_count": 43,
   "id": "c0f4eba2",
   "metadata": {},
   "outputs": [
    {
     "name": "stdout",
     "output_type": "stream",
     "text": [
      "(1, 2432, 64, 58, 54, [36647, 58, 3, 465], 4)\n"
     ]
    }
   ],
   "source": [
    "a = (1,2432,64,58,54,[36647,58,3,465],4)\n",
    "\n",
    "print(a)"
   ]
  },
  {
   "cell_type": "code",
   "execution_count": 46,
   "id": "0fe3ef55",
   "metadata": {},
   "outputs": [],
   "source": [
    "a[-2][-2] = 99999"
   ]
  },
  {
   "cell_type": "code",
   "execution_count": 47,
   "id": "1f11f06d",
   "metadata": {},
   "outputs": [
    {
     "name": "stdout",
     "output_type": "stream",
     "text": [
      "(1, 2432, 64, 58, 54, [36647, 58, 99999, 465], 4)\n"
     ]
    }
   ],
   "source": [
    "print(a)"
   ]
  },
  {
   "cell_type": "code",
   "execution_count": 48,
   "id": "840ff37b",
   "metadata": {},
   "outputs": [],
   "source": [
    "# nested tuple change element"
   ]
  },
  {
   "cell_type": "code",
   "execution_count": 50,
   "id": "951d108e",
   "metadata": {},
   "outputs": [],
   "source": [
    "a = (1,243,54,(1,243,467,(2,34,657,98)))\n",
    "\n",
    "# change 657 to 999"
   ]
  },
  {
   "cell_type": "markdown",
   "id": "72089bf2",
   "metadata": {},
   "source": [
    "# methods"
   ]
  },
  {
   "cell_type": "code",
   "execution_count": 51,
   "id": "b515fe20",
   "metadata": {},
   "outputs": [
    {
     "name": "stdout",
     "output_type": "stream",
     "text": [
      "['__add__', '__class__', '__class_getitem__', '__contains__', '__delattr__', '__dir__', '__doc__', '__eq__', '__format__', '__ge__', '__getattribute__', '__getitem__', '__getnewargs__', '__getstate__', '__gt__', '__hash__', '__init__', '__init_subclass__', '__iter__', '__le__', '__len__', '__lt__', '__mul__', '__ne__', '__new__', '__reduce__', '__reduce_ex__', '__repr__', '__rmul__', '__setattr__', '__sizeof__', '__str__', '__subclasshook__', 'count', 'index']\n"
     ]
    }
   ],
   "source": [
    "print(dir(tuple))"
   ]
  },
  {
   "cell_type": "code",
   "execution_count": 52,
   "id": "a875d234",
   "metadata": {},
   "outputs": [],
   "source": [
    "# 'count', 'index'"
   ]
  },
  {
   "cell_type": "code",
   "execution_count": 58,
   "id": "08009308",
   "metadata": {},
   "outputs": [
    {
     "data": {
      "text/plain": [
       "3"
      ]
     },
     "execution_count": 58,
     "metadata": {},
     "output_type": "execute_result"
    }
   ],
   "source": [
    "a = (11,1,2,2,2,(3,),3,3,3,4,4,4,5,56,67)\n",
    "\n",
    "\n",
    "a.count((3))"
   ]
  },
  {
   "cell_type": "code",
   "execution_count": 59,
   "id": "3f4eacd2",
   "metadata": {},
   "outputs": [
    {
     "data": {
      "text/plain": [
       "13"
      ]
     },
     "execution_count": 59,
     "metadata": {},
     "output_type": "execute_result"
    }
   ],
   "source": [
    "a.index(56)"
   ]
  },
  {
   "cell_type": "markdown",
   "id": "ead0db6a",
   "metadata": {},
   "source": [
    "# Dictionary/Mapping/Hash/JSON"
   ]
  },
  {
   "cell_type": "code",
   "execution_count": 64,
   "id": "7532663d",
   "metadata": {},
   "outputs": [],
   "source": [
    "# a = {'key':'Value',...}\n",
    "# 1 element: key:value\n",
    "\n",
    "\n",
    "a = {'datatype':'datatype'}"
   ]
  },
  {
   "cell_type": "code",
   "execution_count": 66,
   "id": "8648f76c",
   "metadata": {},
   "outputs": [],
   "source": [
    "# key position\n",
    "# immutables:- tuple,str,int,float,complex,bool,frozenset,None\n",
    "# mutable:- list,set,dict\n",
    "\n",
    "# value position:- all data types(objects)"
   ]
  },
  {
   "cell_type": "code",
   "execution_count": 67,
   "id": "dacbe25b",
   "metadata": {},
   "outputs": [
    {
     "name": "stdout",
     "output_type": "stream",
     "text": [
      "{'Name': 'karan', 'Age': 23, 'Address': 'Noida', 'Salary': 87898.98}\n"
     ]
    }
   ],
   "source": [
    "a = {'Name':'karan',\n",
    "     'Age':23,\n",
    "     'Address':'Noida',\n",
    "    'Salary':87898.98}\n",
    "\n",
    "print(a)"
   ]
  },
  {
   "cell_type": "code",
   "execution_count": 68,
   "id": "47f648ba",
   "metadata": {},
   "outputs": [
    {
     "data": {
      "text/plain": [
       "4"
      ]
     },
     "execution_count": 68,
     "metadata": {},
     "output_type": "execute_result"
    }
   ],
   "source": [
    "len(a)"
   ]
  },
  {
   "cell_type": "code",
   "execution_count": 69,
   "id": "580a57aa",
   "metadata": {},
   "outputs": [],
   "source": [
    "# multiple values"
   ]
  },
  {
   "cell_type": "code",
   "execution_count": 76,
   "id": "cbd41196",
   "metadata": {},
   "outputs": [
    {
     "name": "stdout",
     "output_type": "stream",
     "text": [
      "{'Names': ['Mohan', 'Ravi', 'Akshay', 'Karan', 'Ajay'], 'Salary': [2, 34, 5, 56, 34], 'Address': ['Noida', 'Delhi', 'Haryana', 'Gurgaon', 'Bihar'], 'Age': [12, 23, 34, 45, 56]}\n"
     ]
    }
   ],
   "source": [
    "a = {'Names':['Mohan','Ravi','Akshay','Karan','Ajay'],\n",
    "    'Salary':[2,34,5,56,34],\n",
    "    'Address':['Noida','Delhi','Haryana','Gurgaon','Bihar'],\n",
    "    'Age':[12,23,34,45,56]}\n",
    "\n",
    "\n",
    "\n",
    "print(a)\n",
    "import pandas as pd"
   ]
  },
  {
   "cell_type": "code",
   "execution_count": 78,
   "id": "c4adfdea",
   "metadata": {},
   "outputs": [
    {
     "data": {
      "text/html": [
       "<div>\n",
       "<style scoped>\n",
       "    .dataframe tbody tr th:only-of-type {\n",
       "        vertical-align: middle;\n",
       "    }\n",
       "\n",
       "    .dataframe tbody tr th {\n",
       "        vertical-align: top;\n",
       "    }\n",
       "\n",
       "    .dataframe thead th {\n",
       "        text-align: right;\n",
       "    }\n",
       "</style>\n",
       "<table border=\"1\" class=\"dataframe\">\n",
       "  <thead>\n",
       "    <tr style=\"text-align: right;\">\n",
       "      <th></th>\n",
       "      <th>Names</th>\n",
       "      <th>Salary</th>\n",
       "      <th>Address</th>\n",
       "      <th>Age</th>\n",
       "    </tr>\n",
       "  </thead>\n",
       "  <tbody>\n",
       "    <tr>\n",
       "      <th>0</th>\n",
       "      <td>Mohan</td>\n",
       "      <td>2</td>\n",
       "      <td>Noida</td>\n",
       "      <td>12</td>\n",
       "    </tr>\n",
       "    <tr>\n",
       "      <th>1</th>\n",
       "      <td>Ravi</td>\n",
       "      <td>34</td>\n",
       "      <td>Delhi</td>\n",
       "      <td>23</td>\n",
       "    </tr>\n",
       "    <tr>\n",
       "      <th>2</th>\n",
       "      <td>Akshay</td>\n",
       "      <td>5</td>\n",
       "      <td>Haryana</td>\n",
       "      <td>34</td>\n",
       "    </tr>\n",
       "    <tr>\n",
       "      <th>3</th>\n",
       "      <td>Karan</td>\n",
       "      <td>56</td>\n",
       "      <td>Gurgaon</td>\n",
       "      <td>45</td>\n",
       "    </tr>\n",
       "    <tr>\n",
       "      <th>4</th>\n",
       "      <td>Ajay</td>\n",
       "      <td>34</td>\n",
       "      <td>Bihar</td>\n",
       "      <td>56</td>\n",
       "    </tr>\n",
       "  </tbody>\n",
       "</table>\n",
       "</div>"
      ],
      "text/plain": [
       "    Names  Salary  Address  Age\n",
       "0   Mohan       2    Noida   12\n",
       "1    Ravi      34    Delhi   23\n",
       "2  Akshay       5  Haryana   34\n",
       "3   Karan      56  Gurgaon   45\n",
       "4    Ajay      34    Bihar   56"
      ]
     },
     "execution_count": 78,
     "metadata": {},
     "output_type": "execute_result"
    }
   ],
   "source": [
    "table = pd.DataFrame(a)\n",
    "table"
   ]
  },
  {
   "cell_type": "code",
   "execution_count": 80,
   "id": "ae72cb53",
   "metadata": {},
   "outputs": [
    {
     "name": "stdout",
     "output_type": "stream",
     "text": [
      "done\n"
     ]
    }
   ],
   "source": [
    "table.to_excel('student_details.xlsx',index=False)\n",
    "print('done')"
   ]
  },
  {
   "cell_type": "code",
   "execution_count": 82,
   "id": "f3ddd3ea",
   "metadata": {},
   "outputs": [
    {
     "ename": "NameError",
     "evalue": "name 'nulll' is not defined",
     "output_type": "error",
     "traceback": [
      "\u001b[1;31m---------------------------------------------------------------------------\u001b[0m",
      "\u001b[1;31mNameError\u001b[0m                                 Traceback (most recent call last)",
      "Cell \u001b[1;32mIn[82], line 3\u001b[0m\n\u001b[0;32m      1\u001b[0m null \u001b[38;5;241m=\u001b[39m \u001b[38;5;124m'\u001b[39m\u001b[38;5;124mI am null\u001b[39m\u001b[38;5;124m'\u001b[39m\n\u001b[1;32m----> 3\u001b[0m data \u001b[38;5;241m=\u001b[39m {\u001b[38;5;124m'\u001b[39m\u001b[38;5;124mFirst_name\u001b[39m\u001b[38;5;124m'\u001b[39m:nulll}\n\u001b[0;32m      4\u001b[0m data\n",
      "\u001b[1;31mNameError\u001b[0m: name 'nulll' is not defined"
     ]
    }
   ],
   "source": [
    "null = 'I am null'\n",
    "\n",
    "data = {'First_name':nulll}\n",
    "data"
   ]
  },
  {
   "cell_type": "code",
   "execution_count": 83,
   "id": "d91782f0",
   "metadata": {},
   "outputs": [],
   "source": [
    "#key position"
   ]
  },
  {
   "cell_type": "code",
   "execution_count": 84,
   "id": "e5570ad8",
   "metadata": {},
   "outputs": [
    {
     "name": "stdout",
     "output_type": "stream",
     "text": [
      "{(1, 2, 3, 4): [1, 233, 546, 7]}\n"
     ]
    }
   ],
   "source": [
    "# tuple\n",
    "a = {(1,2,3,4):[1,233,546,7]}\n",
    "\n",
    "print(a)"
   ]
  },
  {
   "cell_type": "code",
   "execution_count": 85,
   "id": "36ee7e44",
   "metadata": {},
   "outputs": [
    {
     "name": "stdout",
     "output_type": "stream",
     "text": [
      "{23: [1, 233, 546, 7]}\n"
     ]
    }
   ],
   "source": [
    "# int\n",
    "a = {23:[1,233,546,7]}\n",
    "\n",
    "print(a)"
   ]
  },
  {
   "cell_type": "code",
   "execution_count": 86,
   "id": "538d350f",
   "metadata": {},
   "outputs": [
    {
     "name": "stdout",
     "output_type": "stream",
     "text": [
      "{23.45: [1, 233, 546, 7]}\n"
     ]
    }
   ],
   "source": [
    "# float\n",
    "a = {23.45:[1,233,546,7]}\n",
    "\n",
    "print(a)"
   ]
  },
  {
   "cell_type": "code",
   "execution_count": 89,
   "id": "0609ece5",
   "metadata": {},
   "outputs": [
    {
     "name": "stdout",
     "output_type": "stream",
     "text": [
      "{(34.2, 67.8): [1, 233, 546, 7]}\n"
     ]
    }
   ],
   "source": [
    "# tuple\n",
    "a = {(34.2,67.8):[1,233,546,7]}\n",
    "\n",
    "print(a)"
   ]
  },
  {
   "cell_type": "code",
   "execution_count": 90,
   "id": "dd17a12c",
   "metadata": {},
   "outputs": [
    {
     "name": "stdout",
     "output_type": "stream",
     "text": [
      "{True: [1, 233, 546, 7]}\n"
     ]
    }
   ],
   "source": [
    "# tuple\n",
    "a = {True:[1,233,546,7]}\n",
    "\n",
    "print(a)"
   ]
  },
  {
   "cell_type": "code",
   "execution_count": 91,
   "id": "2a165f71",
   "metadata": {},
   "outputs": [
    {
     "name": "stdout",
     "output_type": "stream",
     "text": [
      "{False: [1, 233, 546, 7]}\n"
     ]
    }
   ],
   "source": [
    "# tuple\n",
    "a = {False:[1,233,546,7]}\n",
    "\n",
    "print(a)"
   ]
  },
  {
   "cell_type": "code",
   "execution_count": 92,
   "id": "8089875a",
   "metadata": {},
   "outputs": [
    {
     "name": "stdout",
     "output_type": "stream",
     "text": [
      "{(45-9j): [1, 233, 546, 7]}\n"
     ]
    }
   ],
   "source": [
    "# tuple\n",
    "a = {45-9j:[1,233,546,7]}\n",
    "\n",
    "print(a)"
   ]
  },
  {
   "cell_type": "code",
   "execution_count": 93,
   "id": "54ddacbe",
   "metadata": {},
   "outputs": [
    {
     "ename": "TypeError",
     "evalue": "unhashable type: 'set'",
     "output_type": "error",
     "traceback": [
      "\u001b[1;31m---------------------------------------------------------------------------\u001b[0m",
      "\u001b[1;31mTypeError\u001b[0m                                 Traceback (most recent call last)",
      "Cell \u001b[1;32mIn[93], line 2\u001b[0m\n\u001b[0;32m      1\u001b[0m \u001b[38;5;66;03m# tuple\u001b[39;00m\n\u001b[1;32m----> 2\u001b[0m a \u001b[38;5;241m=\u001b[39m {{\u001b[38;5;241m1\u001b[39m,\u001b[38;5;241m2\u001b[39m,\u001b[38;5;241m3\u001b[39m}:[\u001b[38;5;241m1\u001b[39m,\u001b[38;5;241m233\u001b[39m,\u001b[38;5;241m546\u001b[39m,\u001b[38;5;241m7\u001b[39m]}\n\u001b[0;32m      4\u001b[0m \u001b[38;5;28mprint\u001b[39m(a)\n",
      "\u001b[1;31mTypeError\u001b[0m: unhashable type: 'set'"
     ]
    }
   ],
   "source": [
    "# tuple\n",
    "a = {{1,2,3}:[1,233,546,7]}\n",
    "\n",
    "print(a)"
   ]
  },
  {
   "cell_type": "code",
   "execution_count": 95,
   "id": "45f9e64f",
   "metadata": {},
   "outputs": [],
   "source": [
    "a = frozenset({1,2,3,4,5})"
   ]
  },
  {
   "cell_type": "code",
   "execution_count": 96,
   "id": "bff5363a",
   "metadata": {},
   "outputs": [
    {
     "data": {
      "text/plain": [
       "frozenset"
      ]
     },
     "execution_count": 96,
     "metadata": {},
     "output_type": "execute_result"
    }
   ],
   "source": [
    "type(a)"
   ]
  },
  {
   "cell_type": "code",
   "execution_count": 97,
   "id": "b00d6a1e",
   "metadata": {},
   "outputs": [
    {
     "name": "stdout",
     "output_type": "stream",
     "text": [
      "{frozenset({1, 2, 3, 4, 5}): [1, 233, 546, 7]}\n"
     ]
    }
   ],
   "source": [
    "# frozenset\n",
    "a = {frozenset({1,2,3,4,5}):[1,233,546,7]}\n",
    "\n",
    "print(a)"
   ]
  },
  {
   "cell_type": "code",
   "execution_count": 98,
   "id": "92f2c889",
   "metadata": {},
   "outputs": [
    {
     "ename": "TypeError",
     "evalue": "unhashable type: 'list'",
     "output_type": "error",
     "traceback": [
      "\u001b[1;31m---------------------------------------------------------------------------\u001b[0m",
      "\u001b[1;31mTypeError\u001b[0m                                 Traceback (most recent call last)",
      "Cell \u001b[1;32mIn[98], line 3\u001b[0m\n\u001b[0;32m      1\u001b[0m \u001b[38;5;66;03m# list,dict,set\u001b[39;00m\n\u001b[1;32m----> 3\u001b[0m a \u001b[38;5;241m=\u001b[39m {[\u001b[38;5;241m1\u001b[39m,\u001b[38;5;241m243\u001b[39m,\u001b[38;5;241m26\u001b[39m]:\u001b[38;5;28;01mTrue\u001b[39;00m}\n\u001b[0;32m      5\u001b[0m \u001b[38;5;28mprint\u001b[39m(a)\n",
      "\u001b[1;31mTypeError\u001b[0m: unhashable type: 'list'"
     ]
    }
   ],
   "source": [
    "# list,dict,set\n",
    "\n",
    "a = {[1,243,26]:True}\n",
    "\n",
    "print(a)"
   ]
  },
  {
   "cell_type": "code",
   "execution_count": 99,
   "id": "edc42546",
   "metadata": {},
   "outputs": [
    {
     "ename": "TypeError",
     "evalue": "unhashable type: 'set'",
     "output_type": "error",
     "traceback": [
      "\u001b[1;31m---------------------------------------------------------------------------\u001b[0m",
      "\u001b[1;31mTypeError\u001b[0m                                 Traceback (most recent call last)",
      "Cell \u001b[1;32mIn[99], line 1\u001b[0m\n\u001b[1;32m----> 1\u001b[0m a \u001b[38;5;241m=\u001b[39m {{\u001b[38;5;241m1\u001b[39m,\u001b[38;5;241m2\u001b[39m,\u001b[38;5;241m3\u001b[39m}:\u001b[38;5;28;01mTrue\u001b[39;00m}\n\u001b[0;32m      3\u001b[0m \u001b[38;5;28mprint\u001b[39m(a)\n",
      "\u001b[1;31mTypeError\u001b[0m: unhashable type: 'set'"
     ]
    }
   ],
   "source": [
    "a = {{1,2,3}:True}\n",
    "\n",
    "print(a)"
   ]
  },
  {
   "cell_type": "code",
   "execution_count": 100,
   "id": "99a8e640",
   "metadata": {},
   "outputs": [
    {
     "ename": "TypeError",
     "evalue": "unhashable type: 'dict'",
     "output_type": "error",
     "traceback": [
      "\u001b[1;31m---------------------------------------------------------------------------\u001b[0m",
      "\u001b[1;31mTypeError\u001b[0m                                 Traceback (most recent call last)",
      "Cell \u001b[1;32mIn[100], line 1\u001b[0m\n\u001b[1;32m----> 1\u001b[0m a \u001b[38;5;241m=\u001b[39m {{\u001b[38;5;124m'\u001b[39m\u001b[38;5;124mName\u001b[39m\u001b[38;5;124m'\u001b[39m:\u001b[38;5;124m'\u001b[39m\u001b[38;5;124mnaman\u001b[39m\u001b[38;5;124m'\u001b[39m}:\u001b[38;5;28;01mTrue\u001b[39;00m}\n\u001b[0;32m      3\u001b[0m \u001b[38;5;28mprint\u001b[39m(a)\n",
      "\u001b[1;31mTypeError\u001b[0m: unhashable type: 'dict'"
     ]
    }
   ],
   "source": [
    "a = {{'Name':'naman'}:True}\n",
    "\n",
    "print(a)"
   ]
  },
  {
   "cell_type": "code",
   "execution_count": 102,
   "id": "35cf77c0",
   "metadata": {},
   "outputs": [
    {
     "data": {
      "text/plain": [
       "{1: True,\n",
       " 2: (1, 2, 4, 5),\n",
       " 3: [12, 43, 45, 7],\n",
       " 4: {1, 2, 34},\n",
       " 5: {'Name': 'komal'},\n",
       " 6: 6,\n",
       " 7: 9.8,\n",
       " 8: (89-9j),\n",
       " 9: None,\n",
       " 10: 'Ajay',\n",
       " 11: frozenset({1, 2, 3, 4})}"
      ]
     },
     "execution_count": 102,
     "metadata": {},
     "output_type": "execute_result"
    }
   ],
   "source": [
    "# all datatypes at value position\n",
    "\n",
    "\n",
    "a = {1:True,\n",
    "    2:(1,2,4,5),\n",
    "    3:[12,43,45,7],\n",
    "    4:{1,2,34},\n",
    "    5:{'Name':'komal'},\n",
    "    6:6,\n",
    "    7:9.8,\n",
    "    8:89-9j,\n",
    "    9:None,\n",
    "    10:'Ajay',\n",
    "    11:frozenset((1,2,3,4))}\n",
    "\n",
    "\n",
    "a"
   ]
  },
  {
   "cell_type": "code",
   "execution_count": null,
   "id": "51f60cc7",
   "metadata": {},
   "outputs": [],
   "source": []
  }
 ],
 "metadata": {
  "kernelspec": {
   "display_name": "Python 3 (ipykernel)",
   "language": "python",
   "name": "python3"
  },
  "language_info": {
   "codemirror_mode": {
    "name": "ipython",
    "version": 3
   },
   "file_extension": ".py",
   "mimetype": "text/x-python",
   "name": "python",
   "nbconvert_exporter": "python",
   "pygments_lexer": "ipython3",
   "version": "3.11.3"
  }
 },
 "nbformat": 4,
 "nbformat_minor": 5
}
