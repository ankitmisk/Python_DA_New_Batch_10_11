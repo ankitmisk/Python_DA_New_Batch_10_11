{
 "cells": [
  {
   "cell_type": "code",
   "execution_count": 3,
   "id": "d3253351",
   "metadata": {},
   "outputs": [],
   "source": [
    "#OOP:- Object oriented Programming\n",
    "\n",
    "# Conditional Programming\n",
    "# data types, if else, loops, op, break, pass, continue\n",
    "\n",
    "# Functional Programming:- \n",
    "#     def funcs\n",
    "# 3 Modules\n",
    "\n",
    "#\n",
    "# #OOP:- Object oriented Programming\n",
    "#  Libraries class concept:- we will create our own data type\n",
    "# class\n",
    "# functions bind class concept"
   ]
  },
  {
   "cell_type": "code",
   "execution_count": 4,
   "id": "49ed48a7",
   "metadata": {},
   "outputs": [],
   "source": [
    "# my data type :-  my class:- my object"
   ]
  },
  {
   "cell_type": "code",
   "execution_count": 5,
   "id": "c2caf458",
   "metadata": {},
   "outputs": [
    {
     "name": "stdout",
     "output_type": "stream",
     "text": [
      "<class 'int'>\n"
     ]
    }
   ],
   "source": [
    "a = 45\n",
    "\n",
    "print(type(a))"
   ]
  },
  {
   "cell_type": "code",
   "execution_count": 6,
   "id": "6810572b",
   "metadata": {},
   "outputs": [
    {
     "name": "stdout",
     "output_type": "stream",
     "text": [
      "<class 'str'>\n"
     ]
    }
   ],
   "source": [
    "b = 'Jatin'\n",
    "\n",
    "print(type(b))"
   ]
  },
  {
   "cell_type": "code",
   "execution_count": 7,
   "id": "bd2307aa",
   "metadata": {},
   "outputs": [
    {
     "data": {
      "text/plain": [
       "'JATIN'"
      ]
     },
     "execution_count": 7,
     "metadata": {},
     "output_type": "execute_result"
    }
   ],
   "source": [
    "b.upper()"
   ]
  },
  {
   "cell_type": "code",
   "execution_count": null,
   "id": "b8377ce2",
   "metadata": {},
   "outputs": [],
   "source": [
    "# def techvidya"
   ]
  },
  {
   "cell_type": "code",
   "execution_count": 16,
   "id": "23b5ad8a",
   "metadata": {},
   "outputs": [],
   "source": [
    "class Techvidya:\n",
    "    \n",
    "    def one():\n",
    "        pass\n",
    "    \n",
    "    def two():\n",
    "        pass\n",
    "    \n",
    "    def three():\n",
    "        pass"
   ]
  },
  {
   "cell_type": "code",
   "execution_count": 28,
   "id": "5e5d7325",
   "metadata": {},
   "outputs": [
    {
     "ename": "TypeError",
     "evalue": "Techvidya.one() takes 0 positional arguments but 1 was given",
     "output_type": "error",
     "traceback": [
      "\u001b[1;31m---------------------------------------------------------------------------\u001b[0m",
      "\u001b[1;31mTypeError\u001b[0m                                 Traceback (most recent call last)",
      "Cell \u001b[1;32mIn[28], line 4\u001b[0m\n\u001b[0;32m      1\u001b[0m a \u001b[38;5;241m=\u001b[39m Techvidya()\n\u001b[0;32m      2\u001b[0m \u001b[38;5;66;03m# instantiation\u001b[39;00m\n\u001b[1;32m----> 4\u001b[0m a\u001b[38;5;241m.\u001b[39mone()\n",
      "\u001b[1;31mTypeError\u001b[0m: Techvidya.one() takes 0 positional arguments but 1 was given"
     ]
    }
   ],
   "source": [
    "a = Techvidya()\n",
    "# instantiation\n",
    "\n",
    "a.one()"
   ]
  },
  {
   "cell_type": "code",
   "execution_count": 24,
   "id": "cfcc8e89",
   "metadata": {},
   "outputs": [],
   "source": [
    "b = Techvidya()"
   ]
  },
  {
   "cell_type": "code",
   "execution_count": 25,
   "id": "503af18c",
   "metadata": {},
   "outputs": [],
   "source": [
    "c = Techvidya()"
   ]
  },
  {
   "cell_type": "code",
   "execution_count": 26,
   "id": "96df42fa",
   "metadata": {},
   "outputs": [],
   "source": [
    "d = Techvidya()"
   ]
  },
  {
   "cell_type": "code",
   "execution_count": 27,
   "id": "5ff35073",
   "metadata": {},
   "outputs": [
    {
     "ename": "TypeError",
     "evalue": "Techvidya.three() takes 0 positional arguments but 1 was given",
     "output_type": "error",
     "traceback": [
      "\u001b[1;31m---------------------------------------------------------------------------\u001b[0m",
      "\u001b[1;31mTypeError\u001b[0m                                 Traceback (most recent call last)",
      "Cell \u001b[1;32mIn[27], line 1\u001b[0m\n\u001b[1;32m----> 1\u001b[0m d\u001b[38;5;241m.\u001b[39mthree()\n",
      "\u001b[1;31mTypeError\u001b[0m: Techvidya.three() takes 0 positional arguments but 1 was given"
     ]
    }
   ],
   "source": [
    "d.three()"
   ]
  },
  {
   "cell_type": "code",
   "execution_count": null,
   "id": "53eb5c2b",
   "metadata": {},
   "outputs": [],
   "source": [
    "# My_var is an instance"
   ]
  },
  {
   "cell_type": "code",
   "execution_count": 19,
   "id": "b2145880",
   "metadata": {},
   "outputs": [],
   "source": [
    "my_var.two()"
   ]
  },
  {
   "cell_type": "code",
   "execution_count": 20,
   "id": "7d0366ba",
   "metadata": {},
   "outputs": [
    {
     "name": "stdout",
     "output_type": "stream",
     "text": [
      "<class '__main__.Techvidya'>\n"
     ]
    }
   ],
   "source": [
    "print(type(my_var))"
   ]
  },
  {
   "cell_type": "code",
   "execution_count": 21,
   "id": "6c966f55",
   "metadata": {},
   "outputs": [],
   "source": [
    "import random"
   ]
  },
  {
   "cell_type": "code",
   "execution_count": 22,
   "id": "d568285a",
   "metadata": {},
   "outputs": [
    {
     "name": "stdout",
     "output_type": "stream",
     "text": [
      "<class 'module'>\n"
     ]
    }
   ],
   "source": [
    "print(type(random))"
   ]
  },
  {
   "cell_type": "code",
   "execution_count": null,
   "id": "203157fe",
   "metadata": {},
   "outputs": [],
   "source": []
  },
  {
   "cell_type": "code",
   "execution_count": null,
   "id": "02c894df",
   "metadata": {},
   "outputs": [],
   "source": []
  },
  {
   "cell_type": "code",
   "execution_count": null,
   "id": "3de38ff4",
   "metadata": {},
   "outputs": [],
   "source": []
  },
  {
   "cell_type": "code",
   "execution_count": 91,
   "id": "4a171c86",
   "metadata": {},
   "outputs": [],
   "source": [
    "class Techvidya_Final:\n",
    "    \n",
    "    def one(self):\n",
    "        print(id(self))\n",
    "        print('This is func one')\n",
    "    \n",
    "    def two(self):\n",
    "        print(id(self))\n",
    "        print('This is func two')\n",
    "\n",
    "    \n",
    "    def three(self):\n",
    "        print('This is func three')\n",
    "        \n",
    "\n",
    "    def four(self):\n",
    "        print('I am four')"
   ]
  },
  {
   "cell_type": "code",
   "execution_count": 97,
   "id": "a33e31a6",
   "metadata": {},
   "outputs": [
    {
     "name": "stdout",
     "output_type": "stream",
     "text": [
      "7 <class 'int'>\n"
     ]
    }
   ],
   "source": [
    "a:int = 7\n",
    "\n",
    "print(a,type(a))"
   ]
  },
  {
   "cell_type": "code",
   "execution_count": null,
   "id": "bf9f8586",
   "metadata": {},
   "outputs": [],
   "source": []
  },
  {
   "cell_type": "code",
   "execution_count": 92,
   "id": "bb09033d",
   "metadata": {},
   "outputs": [],
   "source": [
    "ob1 = Techvidya_Final()"
   ]
  },
  {
   "cell_type": "code",
   "execution_count": 93,
   "id": "772a589a",
   "metadata": {},
   "outputs": [
    {
     "ename": "TypeError",
     "evalue": "Techvidya_Final.four() takes 0 positional arguments but 1 was given",
     "output_type": "error",
     "traceback": [
      "\u001b[1;31m---------------------------------------------------------------------------\u001b[0m",
      "\u001b[1;31mTypeError\u001b[0m                                 Traceback (most recent call last)",
      "Cell \u001b[1;32mIn[93], line 1\u001b[0m\n\u001b[1;32m----> 1\u001b[0m ob1\u001b[38;5;241m.\u001b[39mfour()\n",
      "\u001b[1;31mTypeError\u001b[0m: Techvidya_Final.four() takes 0 positional arguments but 1 was given"
     ]
    }
   ],
   "source": [
    "ob1.four()"
   ]
  },
  {
   "cell_type": "code",
   "execution_count": 82,
   "id": "cfc58118",
   "metadata": {},
   "outputs": [
    {
     "name": "stdout",
     "output_type": "stream",
     "text": [
      "<class '__main__.Techvidya_Final'>\n"
     ]
    }
   ],
   "source": [
    "print(type(ob1))"
   ]
  },
  {
   "cell_type": "code",
   "execution_count": 83,
   "id": "7419cf3f",
   "metadata": {},
   "outputs": [],
   "source": [
    "# a.three()"
   ]
  },
  {
   "cell_type": "code",
   "execution_count": 84,
   "id": "ee3ee382",
   "metadata": {},
   "outputs": [
    {
     "name": "stdout",
     "output_type": "stream",
     "text": [
      "This is func three\n"
     ]
    }
   ],
   "source": [
    "ob1.three()"
   ]
  },
  {
   "cell_type": "code",
   "execution_count": 85,
   "id": "8aaea2d2",
   "metadata": {},
   "outputs": [
    {
     "name": "stdout",
     "output_type": "stream",
     "text": [
      "1488627078800\n",
      "This is func two\n"
     ]
    }
   ],
   "source": [
    "ob1.two()"
   ]
  },
  {
   "cell_type": "code",
   "execution_count": 86,
   "id": "e532731e",
   "metadata": {},
   "outputs": [
    {
     "name": "stdout",
     "output_type": "stream",
     "text": [
      "1488627078800\n",
      "This is func one\n"
     ]
    }
   ],
   "source": [
    "ob1.one()"
   ]
  },
  {
   "cell_type": "code",
   "execution_count": 88,
   "id": "d9b19993",
   "metadata": {},
   "outputs": [
    {
     "name": "stdout",
     "output_type": "stream",
     "text": [
      "1488627078800\n"
     ]
    }
   ],
   "source": [
    "print(id(ob1))"
   ]
  },
  {
   "cell_type": "code",
   "execution_count": 87,
   "id": "ca3af9bc",
   "metadata": {},
   "outputs": [
    {
     "name": "stdout",
     "output_type": "stream",
     "text": [
      "1488627078800\n",
      "This is func two\n"
     ]
    }
   ],
   "source": [
    "ob1.two()"
   ]
  },
  {
   "cell_type": "code",
   "execution_count": 90,
   "id": "8f680909",
   "metadata": {},
   "outputs": [
    {
     "name": "stdout",
     "output_type": "stream",
     "text": [
      "1488627078800\n"
     ]
    }
   ],
   "source": [
    "print(id(ob1))"
   ]
  },
  {
   "cell_type": "code",
   "execution_count": 70,
   "id": "78d48336",
   "metadata": {},
   "outputs": [],
   "source": [
    "ob2 = Techvidya_Final()"
   ]
  },
  {
   "cell_type": "code",
   "execution_count": 71,
   "id": "73bd7e16",
   "metadata": {},
   "outputs": [
    {
     "name": "stdout",
     "output_type": "stream",
     "text": [
      "<__main__.Techvidya_Final object at 0x0000015A97B78450>\n",
      "This is func one\n"
     ]
    }
   ],
   "source": [
    "ob2.one()"
   ]
  },
  {
   "cell_type": "code",
   "execution_count": null,
   "id": "dd5f27f8",
   "metadata": {},
   "outputs": [],
   "source": []
  },
  {
   "cell_type": "code",
   "execution_count": null,
   "id": "54fd32fa",
   "metadata": {},
   "outputs": [],
   "source": []
  },
  {
   "cell_type": "code",
   "execution_count": 189,
   "id": "6f925551",
   "metadata": {},
   "outputs": [],
   "source": [
    "class Audi:\n",
    "    \n",
    "    def __init__(self,gaddi_color, your_name,model): # initialization\n",
    "        \n",
    "        self.wheel = 4   #attributes \n",
    "        self.spare_wheel = 1\n",
    "        self.color = gaddi_color\n",
    "        \n",
    "        print(f'Welcome {your_name}!!')\n",
    "        print(f'You have Audi car and your model is {model}')\n",
    "        \n",
    "    \n",
    "    \n",
    "    # Methods\n",
    "    def engine_start(self):\n",
    "        print('Engine Start 🤫!!')\n",
    "    \n",
    "    def turbo_charger(self):\n",
    "        print('Performance Increase!!')\n",
    "    \n",
    "    def first_gear(self):\n",
    "        print('Car in First gear!!')\n",
    "    \n",
    "    def stop_engine(self):\n",
    "        print('Engine Stop off??')\n",
    "    \n",
    "    def apply_brake(self):\n",
    "        print('Brakes Applied!!')\n",
    "    \n",
    "    def horn(self):\n",
    "        print('Pii pii')\n",
    "    \n",
    "    def auto_lock(self,ans = None):\n",
    "        if ans == None:\n",
    "            print('car Locked\\n!!')\n",
    "        else:\n",
    "            print(f'car is in {ans} mode')"
   ]
  },
  {
   "cell_type": "code",
   "execution_count": null,
   "id": "9fb39927",
   "metadata": {},
   "outputs": [],
   "source": []
  },
  {
   "cell_type": "code",
   "execution_count": 190,
   "id": "d6edf4e8",
   "metadata": {},
   "outputs": [
    {
     "name": "stdout",
     "output_type": "stream",
     "text": [
      "Welcome ghost ridder!!\n",
      "You have Audi car and your model is q11\n"
     ]
    }
   ],
   "source": [
    "q11 = Audi('dark white','ghost ridder','q11')"
   ]
  },
  {
   "cell_type": "code",
   "execution_count": null,
   "id": "c8863c19",
   "metadata": {},
   "outputs": [],
   "source": []
  },
  {
   "cell_type": "code",
   "execution_count": 191,
   "id": "e2dd9e23",
   "metadata": {},
   "outputs": [
    {
     "name": "stdout",
     "output_type": "stream",
     "text": [
      "car Locked\n",
      "!!\n"
     ]
    }
   ],
   "source": [
    "q11.auto_lock()"
   ]
  },
  {
   "cell_type": "code",
   "execution_count": null,
   "id": "df95957b",
   "metadata": {},
   "outputs": [],
   "source": []
  },
  {
   "cell_type": "code",
   "execution_count": null,
   "id": "43529063",
   "metadata": {},
   "outputs": [],
   "source": []
  },
  {
   "cell_type": "code",
   "execution_count": null,
   "id": "7db4fa0a",
   "metadata": {},
   "outputs": [],
   "source": []
  },
  {
   "cell_type": "code",
   "execution_count": 152,
   "id": "ef6284a2",
   "metadata": {},
   "outputs": [],
   "source": [
    "# str(q7)"
   ]
  },
  {
   "cell_type": "code",
   "execution_count": 154,
   "id": "df43f8fc",
   "metadata": {},
   "outputs": [
    {
     "name": "stdout",
     "output_type": "stream",
     "text": [
      "Welcome Harry!!\n",
      "You have Audi car and your model is q7\n"
     ]
    }
   ],
   "source": [
    "q7 = Audi('Green','Harry','q7')"
   ]
  },
  {
   "cell_type": "code",
   "execution_count": 148,
   "id": "04a76705",
   "metadata": {},
   "outputs": [
    {
     "data": {
      "text/plain": [
       "'Green'"
      ]
     },
     "execution_count": 148,
     "metadata": {},
     "output_type": "execute_result"
    }
   ],
   "source": [
    "q7.color"
   ]
  },
  {
   "cell_type": "code",
   "execution_count": 155,
   "id": "01f3af1f",
   "metadata": {},
   "outputs": [
    {
     "name": "stdout",
     "output_type": "stream",
     "text": [
      "Welcome Mohan!!\n",
      "You have Audi car and your model is q9\n"
     ]
    }
   ],
   "source": [
    "q9 = Audi('White','Mohan','q9')"
   ]
  },
  {
   "cell_type": "code",
   "execution_count": 156,
   "id": "4ba2e16c",
   "metadata": {},
   "outputs": [
    {
     "data": {
      "text/plain": [
       "4"
      ]
     },
     "execution_count": 156,
     "metadata": {},
     "output_type": "execute_result"
    }
   ],
   "source": [
    "q9.wheel"
   ]
  },
  {
   "cell_type": "code",
   "execution_count": 158,
   "id": "a154e518",
   "metadata": {},
   "outputs": [
    {
     "name": "stdout",
     "output_type": "stream",
     "text": [
      "Engine Start 🤫!!\n"
     ]
    }
   ],
   "source": [
    "q9.engine_start()"
   ]
  },
  {
   "cell_type": "code",
   "execution_count": 161,
   "id": "9a964200",
   "metadata": {},
   "outputs": [
    {
     "data": {
      "text/plain": [
       "'White'"
      ]
     },
     "execution_count": 161,
     "metadata": {},
     "output_type": "execute_result"
    }
   ],
   "source": [
    "q9.color"
   ]
  },
  {
   "cell_type": "code",
   "execution_count": 162,
   "id": "92e7471f",
   "metadata": {},
   "outputs": [
    {
     "data": {
      "text/plain": [
       "4"
      ]
     },
     "execution_count": 162,
     "metadata": {},
     "output_type": "execute_result"
    }
   ],
   "source": [
    "q9.wheel"
   ]
  },
  {
   "cell_type": "code",
   "execution_count": 163,
   "id": "122b1b0b",
   "metadata": {},
   "outputs": [
    {
     "data": {
      "text/plain": [
       "'White'"
      ]
     },
     "execution_count": 163,
     "metadata": {},
     "output_type": "execute_result"
    }
   ],
   "source": [
    "q9.color"
   ]
  },
  {
   "cell_type": "code",
   "execution_count": 165,
   "id": "8a1503b1",
   "metadata": {
    "scrolled": true
   },
   "outputs": [
    {
     "data": {
      "text/plain": [
       "'Green'"
      ]
     },
     "execution_count": 165,
     "metadata": {},
     "output_type": "execute_result"
    }
   ],
   "source": [
    "q7.color"
   ]
  },
  {
   "cell_type": "code",
   "execution_count": 166,
   "id": "7d6e6207",
   "metadata": {},
   "outputs": [],
   "source": [
    "q7.color = 'Pink'"
   ]
  },
  {
   "cell_type": "code",
   "execution_count": 167,
   "id": "90b2ec13",
   "metadata": {},
   "outputs": [
    {
     "data": {
      "text/plain": [
       "'Pink'"
      ]
     },
     "execution_count": 167,
     "metadata": {},
     "output_type": "execute_result"
    }
   ],
   "source": [
    "q7.color"
   ]
  },
  {
   "cell_type": "code",
   "execution_count": 168,
   "id": "25f65e56",
   "metadata": {},
   "outputs": [
    {
     "data": {
      "text/plain": [
       "'White'"
      ]
     },
     "execution_count": 168,
     "metadata": {},
     "output_type": "execute_result"
    }
   ],
   "source": [
    "q9.color"
   ]
  },
  {
   "cell_type": "code",
   "execution_count": null,
   "id": "b6a89313",
   "metadata": {},
   "outputs": [],
   "source": []
  },
  {
   "cell_type": "code",
   "execution_count": null,
   "id": "f7051aec",
   "metadata": {},
   "outputs": [],
   "source": []
  },
  {
   "cell_type": "code",
   "execution_count": 101,
   "id": "8d036931",
   "metadata": {},
   "outputs": [],
   "source": [
    "q6 = Audi()"
   ]
  },
  {
   "cell_type": "code",
   "execution_count": 102,
   "id": "1dcdce2f",
   "metadata": {},
   "outputs": [
    {
     "name": "stdout",
     "output_type": "stream",
     "text": [
      "Engine Start 🤫!!\n"
     ]
    }
   ],
   "source": [
    "q6.engine_start()"
   ]
  },
  {
   "cell_type": "code",
   "execution_count": 103,
   "id": "b67d7973",
   "metadata": {},
   "outputs": [
    {
     "name": "stdout",
     "output_type": "stream",
     "text": [
      "Car in First gear!!\n"
     ]
    }
   ],
   "source": [
    "q6.first_gear()"
   ]
  },
  {
   "cell_type": "code",
   "execution_count": 104,
   "id": "724d2e8c",
   "metadata": {},
   "outputs": [
    {
     "name": "stdout",
     "output_type": "stream",
     "text": [
      "Pii pii\n"
     ]
    }
   ],
   "source": [
    "q6.horn()"
   ]
  },
  {
   "cell_type": "code",
   "execution_count": 105,
   "id": "5bb9d793",
   "metadata": {},
   "outputs": [
    {
     "name": "stdout",
     "output_type": "stream",
     "text": [
      "Engine Stop off??\n"
     ]
    }
   ],
   "source": [
    "q6.stop_engine()"
   ]
  },
  {
   "cell_type": "code",
   "execution_count": null,
   "id": "2f9ead3f",
   "metadata": {},
   "outputs": [],
   "source": []
  },
  {
   "cell_type": "code",
   "execution_count": 106,
   "id": "55c5b1db",
   "metadata": {},
   "outputs": [],
   "source": [
    "bmw = Audi()"
   ]
  },
  {
   "cell_type": "code",
   "execution_count": 107,
   "id": "46e97f3e",
   "metadata": {},
   "outputs": [
    {
     "name": "stdout",
     "output_type": "stream",
     "text": [
      "car Locked!!\n"
     ]
    }
   ],
   "source": [
    "bmw.auto_lock()"
   ]
  },
  {
   "cell_type": "code",
   "execution_count": 108,
   "id": "4e09017b",
   "metadata": {},
   "outputs": [],
   "source": [
    "nano = Audi()"
   ]
  },
  {
   "cell_type": "code",
   "execution_count": 109,
   "id": "6b0fc92f",
   "metadata": {},
   "outputs": [
    {
     "name": "stdout",
     "output_type": "stream",
     "text": [
      "Car in First gear!!\n"
     ]
    }
   ],
   "source": [
    "nano.first_gear()"
   ]
  },
  {
   "cell_type": "code",
   "execution_count": 112,
   "id": "1588d139",
   "metadata": {},
   "outputs": [],
   "source": [
    "kia = bmw"
   ]
  },
  {
   "cell_type": "code",
   "execution_count": 113,
   "id": "880a646c",
   "metadata": {},
   "outputs": [
    {
     "name": "stdout",
     "output_type": "stream",
     "text": [
      "Pii pii\n"
     ]
    }
   ],
   "source": [
    "kia.horn()"
   ]
  },
  {
   "cell_type": "code",
   "execution_count": 114,
   "id": "4375206c",
   "metadata": {},
   "outputs": [
    {
     "name": "stdout",
     "output_type": "stream",
     "text": [
      "1488625603728\n"
     ]
    }
   ],
   "source": [
    "print(id(bmw))"
   ]
  },
  {
   "cell_type": "code",
   "execution_count": 115,
   "id": "59eab932",
   "metadata": {},
   "outputs": [
    {
     "name": "stdout",
     "output_type": "stream",
     "text": [
      "1488625603728\n"
     ]
    }
   ],
   "source": [
    "print(id(kia))"
   ]
  },
  {
   "cell_type": "code",
   "execution_count": 116,
   "id": "2a55982b",
   "metadata": {},
   "outputs": [
    {
     "name": "stdout",
     "output_type": "stream",
     "text": [
      "1488625603728\n"
     ]
    }
   ],
   "source": [
    "print(id(nano))"
   ]
  },
  {
   "cell_type": "code",
   "execution_count": 117,
   "id": "f6511aea",
   "metadata": {},
   "outputs": [
    {
     "name": "stdout",
     "output_type": "stream",
     "text": [
      "1488626945616\n"
     ]
    }
   ],
   "source": [
    "print(id(q6))"
   ]
  },
  {
   "cell_type": "code",
   "execution_count": null,
   "id": "2e3b335f",
   "metadata": {},
   "outputs": [],
   "source": []
  },
  {
   "cell_type": "code",
   "execution_count": null,
   "id": "fc020a74",
   "metadata": {},
   "outputs": [],
   "source": []
  },
  {
   "cell_type": "code",
   "execution_count": 192,
   "id": "7ba9b5ab",
   "metadata": {},
   "outputs": [],
   "source": [
    "#h/w \n",
    "\n",
    "class Human:\n",
    "    \n",
    "    def __init__(self):\n",
    "        self.hand = 2\n",
    "        self.leg = 2\n",
    "        self.brain = 1\n",
    "        \n",
    "    def speak(self):\n",
    "        pass\n",
    "    \n",
    "    def walk(self):\n",
    "        pass\n",
    "    \n",
    "    def talk(self):\n",
    "        pass\n",
    "    \n",
    "    def use_brain(self):\n",
    "        pass\n",
    "    \n",
    "    def think(self):\n",
    "        pass"
   ]
  },
  {
   "cell_type": "code",
   "execution_count": null,
   "id": "de35b495",
   "metadata": {},
   "outputs": [],
   "source": []
  }
 ],
 "metadata": {
  "kernelspec": {
   "display_name": "Python 3 (ipykernel)",
   "language": "python",
   "name": "python3"
  },
  "language_info": {
   "codemirror_mode": {
    "name": "ipython",
    "version": 3
   },
   "file_extension": ".py",
   "mimetype": "text/x-python",
   "name": "python",
   "nbconvert_exporter": "python",
   "pygments_lexer": "ipython3",
   "version": "3.11.3"
  }
 },
 "nbformat": 4,
 "nbformat_minor": 5
}
