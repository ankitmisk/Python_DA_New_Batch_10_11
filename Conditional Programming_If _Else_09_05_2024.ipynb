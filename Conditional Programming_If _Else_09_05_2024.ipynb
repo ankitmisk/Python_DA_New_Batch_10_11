{
 "cells": [
  {
   "cell_type": "code",
   "execution_count": 1,
   "id": "7f9e53d8",
   "metadata": {},
   "outputs": [],
   "source": [
    "# if \n",
    "# else\n",
    "# if else: elif"
   ]
  },
  {
   "cell_type": "code",
   "execution_count": 4,
   "id": "ab596741",
   "metadata": {},
   "outputs": [],
   "source": [
    "# syntax\n",
    "# if statement/statements->bool->True:\n",
    "#     print('Code Block')\n",
    "    \n",
    "# else condition-No:\n",
    "#     print('Code block')"
   ]
  },
  {
   "cell_type": "code",
   "execution_count": 5,
   "id": "66a919b1",
   "metadata": {},
   "outputs": [],
   "source": [
    "# relational op:- <,>,==,!=,<=,>=\n",
    "# identity op:- is, is not\n",
    "# membership op:- in, not in\n",
    "# Logical op:- and, or, not\n",
    "    "
   ]
  },
  {
   "cell_type": "code",
   "execution_count": 7,
   "id": "1642268f",
   "metadata": {},
   "outputs": [
    {
     "name": "stdout",
     "output_type": "stream",
     "text": [
      "You are not allowed!!\n"
     ]
    }
   ],
   "source": [
    "age = 7\n",
    "\n",
    "if age >= 18:\n",
    "    print('You can Vote!!!')\n",
    "    \n",
    "else:\n",
    "    print('You are not allowed!!')\n",
    "    \n"
   ]
  },
  {
   "cell_type": "code",
   "execution_count": 10,
   "id": "83094067",
   "metadata": {},
   "outputs": [
    {
     "name": "stdout",
     "output_type": "stream",
     "text": [
      "Enter your age: 12\n",
      "You are not allowed!!\n"
     ]
    }
   ],
   "source": [
    "age = int(input('Enter your age: '))\n",
    "\n",
    "if age >= 18:\n",
    "    print('You can Vote!!!')\n",
    "    \n",
    "else:\n",
    "    print('You are not allowed!!')\n",
    "    \n"
   ]
  },
  {
   "cell_type": "code",
   "execution_count": 17,
   "id": "203828c1",
   "metadata": {},
   "outputs": [
    {
     "name": "stdout",
     "output_type": "stream",
     "text": [
      "Enter your name: karan\n",
      "Welcome!! karan\n"
     ]
    }
   ],
   "source": [
    "students = ['ajay','ravi','rahul','sumit']\n",
    "\n",
    "new_student = input('Enter your name: ')\n",
    "\n",
    "if new_student in students:\n",
    "    print('Your name already exist!!')\n",
    "    \n",
    "else:\n",
    "    print(f'Welcome!! {new_student}')\n",
    "    students.append(new_student)"
   ]
  },
  {
   "cell_type": "code",
   "execution_count": 12,
   "id": "6b0702e9",
   "metadata": {},
   "outputs": [
    {
     "name": "stdout",
     "output_type": "stream",
     "text": [
      "['ajay', 'ravi', 'rahul', 'sumit', 'karan']\n"
     ]
    }
   ],
   "source": [
    "print(students)"
   ]
  },
  {
   "cell_type": "code",
   "execution_count": 19,
   "id": "06bd86ac",
   "metadata": {},
   "outputs": [
    {
     "name": "stdout",
     "output_type": "stream",
     "text": [
      "Create your user id: karan@123\n",
      "Create your password!! karan1\n",
      "Enter your name: karan\n",
      "Enter your user id: karan@123\n",
      "Enter your password: karan1\n",
      "Welcome karan\n",
      "How are you??\n"
     ]
    }
   ],
   "source": [
    "user_id = input('Create your user id: ')\n",
    "\n",
    "password = input('Create your password!! ')\n",
    "\n",
    "\n",
    "name = input('Enter your name: ')\n",
    "\n",
    "uid = input('Enter your user id: ')\n",
    "\n",
    "pwd = input('Enter your password: ')\n",
    "\n",
    "\n",
    "if (user_id == uid) and (password == pwd):\n",
    "    print(f'Welcome {name}\\nHow are you??')\n",
    "    \n",
    "else:\n",
    "    print('Incorrect userid or password!!')"
   ]
  },
  {
   "cell_type": "code",
   "execution_count": 23,
   "id": "a94d00cf",
   "metadata": {},
   "outputs": [
    {
     "name": "stdout",
     "output_type": "stream",
     "text": [
      "You can vote!!\n",
      "Welcome Ajay!!\n",
      "You are in noida!!\n"
     ]
    }
   ],
   "source": [
    "# multiple if conditions\n",
    "\n",
    "\n",
    "age  = 12\n",
    "\n",
    "name  = 'ajay'\n",
    "\n",
    "address  = 'noida'\n",
    "\n",
    "\n",
    "if age >=10:\n",
    "    print('You can vote!!')\n",
    "if name == 'ajay':\n",
    "    print('Welcome Ajay!!')\n",
    "    \n",
    "if address == 'noida':\n",
    "    print('You are in noida!!')\n",
    "    \n",
    "else:\n",
    "    print('We are learning python!!')"
   ]
  },
  {
   "cell_type": "code",
   "execution_count": 32,
   "id": "65187bad",
   "metadata": {},
   "outputs": [
    {
     "name": "stdout",
     "output_type": "stream",
     "text": [
      "3456787654 greatest amongst all given numbers!!\n"
     ]
    }
   ],
   "source": [
    "# if else ladder\n",
    "\n",
    "n1   = 87655678\n",
    "n2  = 3456787654\n",
    "n3 = 87654354\n",
    "n4 = 68765432\n",
    "\n",
    "if n1>n2 and n1>n3 and n1>n4:\n",
    "    print(f'{n1} greatest amongst all given numbers!!')\n",
    "    \n",
    "elif n2>n1 and n2>n3 and n2>n4:\n",
    "    print(f'{n2} greatest amongst all given numbers!!')\n",
    "    \n",
    "elif n3>n1 and n3>n2 and n3>n4:\n",
    "    print(f'{n3} greatest amongst all given numbers!!')\n",
    "    \n",
    "else:\n",
    "    print(f'{n4} greatest amongst all given numbers!!')"
   ]
  },
  {
   "cell_type": "code",
   "execution_count": null,
   "id": "35cccfa5",
   "metadata": {},
   "outputs": [],
   "source": []
  },
  {
   "cell_type": "code",
   "execution_count": null,
   "id": "10aac62a",
   "metadata": {},
   "outputs": [],
   "source": []
  },
  {
   "cell_type": "code",
   "execution_count": 36,
   "id": "3d713d84",
   "metadata": {},
   "outputs": [
    {
     "name": "stdout",
     "output_type": "stream",
     "text": [
      "You have scored A+ with 22211.4%\n"
     ]
    }
   ],
   "source": [
    "# h/w\n",
    "\n",
    "# score grade system design\n",
    "\n",
    "\n",
    "maths = 5678\n",
    "sci = 54678\n",
    "sst  = 4567\n",
    "english  = 45678\n",
    "hindi  = 456\n",
    "\n",
    "\n",
    "total = maths+sci+sst+english+hindi\n",
    "\n",
    "percentage = total/5\n",
    "\n",
    "\n",
    "if percentage>=90:\n",
    "    print(f'You have scored A+ with {percentage}%')\n",
    "\n",
    "elif 80<=percentage<90:\n",
    "    print(f'You have scored A with {percentage}%')\n",
    "    \n",
    "elif 70<=percentage<80:\n",
    "    print(f'You have scored B+ with {percentage}%')\n",
    "\n",
    "    \n",
    "elif 60<=percentage<70:\n",
    "    print(f'You have scored B with {percentage}%')\n",
    "    \n",
    "    \n",
    "elif 50<=percentage<60:\n",
    "    print(f'You have scored C with {percentage}%')\n",
    "    \n",
    "elif 40<=percentage<50:\n",
    "    print(f'You have scored D with {percentage}%')\n",
    "    \n",
    "else:\n",
    "    print('OOPS!! You are fail!!😒😒😒')"
   ]
  },
  {
   "cell_type": "code",
   "execution_count": null,
   "id": "c44f9bbe",
   "metadata": {},
   "outputs": [],
   "source": []
  }
 ],
 "metadata": {
  "kernelspec": {
   "display_name": "Python 3 (ipykernel)",
   "language": "python",
   "name": "python3"
  },
  "language_info": {
   "codemirror_mode": {
    "name": "ipython",
    "version": 3
   },
   "file_extension": ".py",
   "mimetype": "text/x-python",
   "name": "python",
   "nbconvert_exporter": "python",
   "pygments_lexer": "ipython3",
   "version": "3.11.3"
  }
 },
 "nbformat": 4,
 "nbformat_minor": 5
}
