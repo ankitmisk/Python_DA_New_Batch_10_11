{
 "cells": [
  {
   "cell_type": "code",
   "execution_count": 1,
   "id": "62b881cc",
   "metadata": {},
   "outputs": [
    {
     "name": "stdout",
     "output_type": "stream",
     "text": [
      "[9897989878, 7654987876, 5432767676, 5432898786]\n"
     ]
    }
   ],
   "source": [
    "data = 'We have different phone numbers 9897 like 9898787654, 9878765432 and 7676765432  8987867654'\n",
    "\n",
    "phone_numbers = []\n",
    "\n",
    "temp_num = ''\n",
    "for i in data:\n",
    "    \n",
    "    if i.isdigit():\n",
    "        temp_num+= i\n",
    "        \n",
    "    if len(temp_num) == 10:\n",
    "        phone_numbers.append(int(temp_num))\n",
    "        \n",
    "        temp_num = ''\n",
    "        \n",
    "print(phone_numbers)"
   ]
  },
  {
   "cell_type": "code",
   "execution_count": 2,
   "id": "7acfa5ae",
   "metadata": {},
   "outputs": [],
   "source": [
    "# [9898787654,9878765432,...]"
   ]
  },
  {
   "cell_type": "code",
   "execution_count": 3,
   "id": "a9b5e2a0",
   "metadata": {},
   "outputs": [
    {
     "name": "stdout",
     "output_type": "stream",
     "text": [
      "['9897', '9898787654', '9878765432', '7676765432', '8987867654']\n"
     ]
    }
   ],
   "source": [
    "data = 'We have different phone numbers 9897 like 9898787654, 9878765432 and 7676765432  8987867654'\n",
    "\n",
    "phone_num = []\n",
    "\n",
    "for i in data.replace(',','').split(' '):\n",
    "    if i.isdigit():\n",
    "        phone_num.append(i)\n",
    "        \n",
    "        \n",
    "print(phone_num)"
   ]
  },
  {
   "cell_type": "code",
   "execution_count": null,
   "id": "1d6c753e",
   "metadata": {},
   "outputs": [],
   "source": []
  },
  {
   "cell_type": "code",
   "execution_count": null,
   "id": "099f2068",
   "metadata": {},
   "outputs": [],
   "source": []
  },
  {
   "cell_type": "code",
   "execution_count": 4,
   "id": "1e46ad04",
   "metadata": {},
   "outputs": [
    {
     "name": "stdout",
     "output_type": "stream",
     "text": [
      "['9897', '7676765432', '8987867654']\n"
     ]
    }
   ],
   "source": [
    "data = 'We have different phone numbers 9897 like +91-9898787654, +91-9878765432 and 7676765432  8987867654'\n",
    "\n",
    "phone_num = []\n",
    "\n",
    "for i in data.replace(',','').split(' '):\n",
    "    if i.isdigit():\n",
    "        phone_num.append(i)\n",
    "        \n",
    "        \n",
    "print(phone_num)"
   ]
  },
  {
   "cell_type": "code",
   "execution_count": null,
   "id": "b02958c1",
   "metadata": {},
   "outputs": [],
   "source": []
  },
  {
   "cell_type": "code",
   "execution_count": null,
   "id": "84f734d3",
   "metadata": {},
   "outputs": [],
   "source": []
  },
  {
   "cell_type": "markdown",
   "id": "323335cb",
   "metadata": {},
   "source": [
    "# Regular Expression_Regex\n",
    "- Pattern Matching"
   ]
  },
  {
   "cell_type": "code",
   "execution_count": 5,
   "id": "67ea032d",
   "metadata": {},
   "outputs": [],
   "source": [
    "import re"
   ]
  },
  {
   "cell_type": "code",
   "execution_count": null,
   "id": "98afe6af",
   "metadata": {},
   "outputs": [],
   "source": []
  },
  {
   "cell_type": "code",
   "execution_count": 28,
   "id": "4a821372",
   "metadata": {},
   "outputs": [
    {
     "data": {
      "text/plain": [
       "['565',\n",
       " '67686',\n",
       " '9897',\n",
       " '+919898787654',\n",
       " '+91-9898787654',\n",
       " '+91-9878765432',\n",
       " '7676765432',\n",
       " '8987867654']"
      ]
     },
     "execution_count": 28,
     "metadata": {},
     "output_type": "execute_result"
    }
   ],
   "source": [
    "data = 'We have different phone 565  67686 numbers 9897 like  +919898787654 +91-9898787654, +91-9878765432 and 7676765432  8987867654'\n",
    "\n",
    "pt = r'\\+?9?[1]?-?\\d{3,12}'\n",
    "\n",
    "re.findall(pt,data)"
   ]
  },
  {
   "cell_type": "code",
   "execution_count": 30,
   "id": "0ed9cc35",
   "metadata": {},
   "outputs": [],
   "source": [
    "# meta characters\n",
    "# *+-?.()[]{}!@#$%^_/d,/D,/W,/w,9,0"
   ]
  },
  {
   "cell_type": "code",
   "execution_count": null,
   "id": "0a6c5ac0",
   "metadata": {},
   "outputs": [],
   "source": []
  },
  {
   "cell_type": "code",
   "execution_count": 31,
   "id": "9d48a2fa",
   "metadata": {},
   "outputs": [],
   "source": [
    "# kis metachar ka kya kaam hai"
   ]
  },
  {
   "cell_type": "code",
   "execution_count": null,
   "id": "9dd0a096",
   "metadata": {},
   "outputs": [],
   "source": []
  },
  {
   "cell_type": "code",
   "execution_count": 34,
   "id": "625d9c06",
   "metadata": {},
   "outputs": [
    {
     "name": "stdout",
     "output_type": "stream",
     "text": [
      "['1', '2', '3', '4', '1', '5']\n"
     ]
    }
   ],
   "source": [
    "data = 'we are in 1234 Noida sec 15'\n",
    "\n",
    "pt = r'\\d'\n",
    "\n",
    "result = re.findall(pt,data)\n",
    "print(result)"
   ]
  },
  {
   "cell_type": "code",
   "execution_count": null,
   "id": "11c0c001",
   "metadata": {},
   "outputs": [],
   "source": []
  },
  {
   "cell_type": "code",
   "execution_count": null,
   "id": "7abbac62",
   "metadata": {},
   "outputs": [],
   "source": []
  },
  {
   "cell_type": "code",
   "execution_count": 35,
   "id": "7b73c1d0",
   "metadata": {},
   "outputs": [
    {
     "name": "stdout",
     "output_type": "stream",
     "text": [
      "['w', 'e', ' ', 'a', 'r', 'e', ' ', 'i', 'n', ' ', ' ', 'N', 'o', 'i', 'd', 'a', ' ', 's', 'e', 'c', ' ']\n"
     ]
    }
   ],
   "source": [
    "data = 'we are in 1234 Noida sec 15'\n",
    "\n",
    "pt = r'\\D'\n",
    "\n",
    "result = re.findall(pt,data)\n",
    "print(result)"
   ]
  },
  {
   "cell_type": "code",
   "execution_count": null,
   "id": "db5cf592",
   "metadata": {},
   "outputs": [],
   "source": []
  },
  {
   "cell_type": "code",
   "execution_count": null,
   "id": "3488c390",
   "metadata": {},
   "outputs": [],
   "source": []
  },
  {
   "cell_type": "code",
   "execution_count": 37,
   "id": "5a60c380",
   "metadata": {},
   "outputs": [
    {
     "name": "stdout",
     "output_type": "stream",
     "text": [
      "['w', 'e', 'a', 'r', 'e', 'i', 'n', '1', '2', '3', '4', 'N', 'o', 'i', 'd', 'a', 's', 'e', 'c', '1', '5']\n"
     ]
    }
   ],
   "source": [
    "data = 'we are in 1234 Noida sec 15'\n",
    "\n",
    "pt = r'\\w'\n",
    "\n",
    "result = re.findall(pt,data)\n",
    "print(result)"
   ]
  },
  {
   "cell_type": "code",
   "execution_count": null,
   "id": "6fc73243",
   "metadata": {},
   "outputs": [],
   "source": []
  },
  {
   "cell_type": "code",
   "execution_count": null,
   "id": "f00fde7c",
   "metadata": {},
   "outputs": [],
   "source": []
  },
  {
   "cell_type": "code",
   "execution_count": 39,
   "id": "bc03ceda",
   "metadata": {},
   "outputs": [
    {
     "name": "stdout",
     "output_type": "stream",
     "text": [
      "['w', 'e', 'a', 'r', 'e', 'i', 'n', '1', '2', '3', '4', 'N', 'o', 'i', 'd', 'a', 's', 'e', 'c', '1', '5']\n"
     ]
    }
   ],
   "source": [
    "data = 'we are @#$%^& in 1234 Noida sec 15'\n",
    "\n",
    "pt = r'\\w'\n",
    "\n",
    "result = re.findall(pt,data)\n",
    "print(result)"
   ]
  },
  {
   "cell_type": "code",
   "execution_count": null,
   "id": "8284772a",
   "metadata": {},
   "outputs": [],
   "source": []
  },
  {
   "cell_type": "code",
   "execution_count": null,
   "id": "492aee63",
   "metadata": {},
   "outputs": [],
   "source": []
  },
  {
   "cell_type": "code",
   "execution_count": null,
   "id": "a494444d",
   "metadata": {},
   "outputs": [],
   "source": []
  },
  {
   "cell_type": "code",
   "execution_count": 40,
   "id": "9024285c",
   "metadata": {},
   "outputs": [
    {
     "name": "stdout",
     "output_type": "stream",
     "text": [
      "[' ', ' ', '@', '#', '$', '%', '^', '&', ' ', ' ', ' ', ' ', ' ']\n"
     ]
    }
   ],
   "source": [
    "data = 'we are @#$%^& in 1234 Noida sec 15'\n",
    "\n",
    "pt = r'\\W'\n",
    "\n",
    "result = re.findall(pt,data)\n",
    "print(result)"
   ]
  },
  {
   "cell_type": "code",
   "execution_count": null,
   "id": "9c60b60e",
   "metadata": {},
   "outputs": [],
   "source": []
  },
  {
   "cell_type": "code",
   "execution_count": null,
   "id": "05dbe2fd",
   "metadata": {},
   "outputs": [],
   "source": []
  },
  {
   "cell_type": "code",
   "execution_count": 41,
   "id": "c2264d5f",
   "metadata": {},
   "outputs": [
    {
     "name": "stdout",
     "output_type": "stream",
     "text": [
      "[' ', ' ', ' ', ' ', ' ', ' ', ' ']\n"
     ]
    }
   ],
   "source": [
    "data = 'we are @#$%^& in 1234 Noida sec 15'\n",
    "\n",
    "pt = r'\\s'\n",
    "\n",
    "result = re.findall(pt,data)\n",
    "print(result)"
   ]
  },
  {
   "cell_type": "code",
   "execution_count": null,
   "id": "d1cca329",
   "metadata": {},
   "outputs": [],
   "source": []
  },
  {
   "cell_type": "code",
   "execution_count": null,
   "id": "b5ecbeac",
   "metadata": {},
   "outputs": [],
   "source": []
  },
  {
   "cell_type": "code",
   "execution_count": 42,
   "id": "86ed754c",
   "metadata": {},
   "outputs": [
    {
     "name": "stdout",
     "output_type": "stream",
     "text": [
      "[' ', ' ', ' ', ' ', ' ', ' ', ' ']\n"
     ]
    }
   ],
   "source": [
    "data = 'we are @#$%^& in 1234 Noida sec 15'\n",
    "\n",
    "pt = r' '\n",
    "\n",
    "result = re.findall(pt,data)\n",
    "print(result)"
   ]
  },
  {
   "cell_type": "code",
   "execution_count": null,
   "id": "62c44105",
   "metadata": {},
   "outputs": [],
   "source": []
  },
  {
   "cell_type": "code",
   "execution_count": 44,
   "id": "49af3dc2",
   "metadata": {},
   "outputs": [
    {
     "name": "stdout",
     "output_type": "stream",
     "text": [
      "['w', 'e', 'a', 'r', 'e', '@', '#', '$', '%', '^', '&', 'i', 'n', '1', '2', '3', '4', 'N', 'o', 'i', 'd', 'a', 's', 'e', 'c', '1', '5']\n"
     ]
    }
   ],
   "source": [
    "data = 'we are @#$%^& in 1234 Noida sec 15'\n",
    "\n",
    "pt = r'\\S'\n",
    "\n",
    "result = re.findall(pt,data)\n",
    "print(result)"
   ]
  },
  {
   "cell_type": "code",
   "execution_count": null,
   "id": "ea43c0ce",
   "metadata": {},
   "outputs": [],
   "source": []
  },
  {
   "cell_type": "code",
   "execution_count": null,
   "id": "423c426b",
   "metadata": {},
   "outputs": [],
   "source": []
  },
  {
   "cell_type": "code",
   "execution_count": 46,
   "id": "2b43b2b0",
   "metadata": {},
   "outputs": [
    {
     "name": "stdout",
     "output_type": "stream",
     "text": [
      "['1234']\n"
     ]
    }
   ],
   "source": [
    "data = 'we are @#$%^& in 1234 Noida sec 15'\n",
    "\n",
    "pt = r'\\d{4}'\n",
    "\n",
    "result = re.findall(pt,data)\n",
    "print(result)"
   ]
  },
  {
   "cell_type": "code",
   "execution_count": null,
   "id": "63047a15",
   "metadata": {},
   "outputs": [],
   "source": []
  },
  {
   "cell_type": "code",
   "execution_count": null,
   "id": "fc122306",
   "metadata": {},
   "outputs": [],
   "source": []
  },
  {
   "cell_type": "code",
   "execution_count": 47,
   "id": "dfb253ad",
   "metadata": {},
   "outputs": [
    {
     "name": "stdout",
     "output_type": "stream",
     "text": [
      "['9898787654', '9878765432', '7676765432', '8987867654']\n"
     ]
    }
   ],
   "source": [
    "data = 'We have different phone numbers 9897 like 9898787654, 9878765432 and 7676765432  8987867654'\n",
    "\n",
    "\n",
    "pt = r'\\d{10}'\n",
    "\n",
    "result = re.findall(pt,data)\n",
    "print(result)"
   ]
  },
  {
   "cell_type": "code",
   "execution_count": null,
   "id": "60fb0502",
   "metadata": {},
   "outputs": [],
   "source": []
  },
  {
   "cell_type": "code",
   "execution_count": null,
   "id": "99213f23",
   "metadata": {},
   "outputs": [],
   "source": []
  },
  {
   "cell_type": "code",
   "execution_count": 48,
   "id": "b3d9b1b9",
   "metadata": {},
   "outputs": [
    {
     "name": "stdout",
     "output_type": "stream",
     "text": [
      "['9897', '98987', '87654', '9878765', '76765432', '8987867654']\n"
     ]
    }
   ],
   "source": [
    "data = 'We have different phone numbers 9897 like 98987, 87654, 9878765, 432 and 76, 76765432  8987867654'\n",
    "\n",
    "\n",
    "pt = r'\\d{4,10}'\n",
    "\n",
    "result = re.findall(pt,data)\n",
    "print(result)"
   ]
  },
  {
   "cell_type": "code",
   "execution_count": null,
   "id": "49af9e46",
   "metadata": {},
   "outputs": [],
   "source": []
  },
  {
   "cell_type": "code",
   "execution_count": null,
   "id": "fe604b92",
   "metadata": {},
   "outputs": [],
   "source": []
  },
  {
   "cell_type": "code",
   "execution_count": 50,
   "id": "4b17d4bb",
   "metadata": {},
   "outputs": [
    {
     "name": "stdout",
     "output_type": "stream",
     "text": [
      "['9897', '98987', '87654', '9878765', '76765432', '8987867654', '987678767876767']\n"
     ]
    }
   ],
   "source": [
    "data = 'We have different phone numbers 9897 like 98987, 87654, 9878765, 432 and 76, 76765432  8987867654  987678767876767'\n",
    "\n",
    "\n",
    "pt = r'\\d{4,}'\n",
    "\n",
    "result = re.findall(pt,data)\n",
    "print(result)"
   ]
  },
  {
   "cell_type": "code",
   "execution_count": null,
   "id": "80092d40",
   "metadata": {},
   "outputs": [],
   "source": []
  },
  {
   "cell_type": "code",
   "execution_count": null,
   "id": "fd6574fb",
   "metadata": {},
   "outputs": [],
   "source": []
  },
  {
   "cell_type": "code",
   "execution_count": 53,
   "id": "7d07bd49",
   "metadata": {},
   "outputs": [
    {
     "name": "stdout",
     "output_type": "stream",
     "text": [
      "['9897', '98987', '87654', '9878765', '432', '76', '76765432', '8987867654', '987678767876767']\n"
     ]
    }
   ],
   "source": [
    "data = 'We have different phone numbers 9897 like 98987, 87654, 9878765, 432 and 76, 76765432  8987867654  987678767876767'\n",
    "\n",
    "\n",
    "pt = r'\\d{1,15}'\n",
    "\n",
    "result = re.findall(pt,data)\n",
    "print(result)"
   ]
  },
  {
   "cell_type": "code",
   "execution_count": null,
   "id": "8f25a34a",
   "metadata": {},
   "outputs": [],
   "source": []
  },
  {
   "cell_type": "code",
   "execution_count": 60,
   "id": "1c259b76",
   "metadata": {},
   "outputs": [
    {
     "name": "stdout",
     "output_type": "stream",
     "text": [
      "['harry', 'marry', 'karry', 'parry']\n"
     ]
    }
   ],
   "source": [
    "data = 'I lover harry marry karry parry'\n",
    "\n",
    "\n",
    "pt = r'h?m?k?p?arry'\n",
    "\n",
    "result = re.findall(pt,data)\n",
    "print(result)"
   ]
  },
  {
   "cell_type": "code",
   "execution_count": null,
   "id": "870f5d89",
   "metadata": {},
   "outputs": [],
   "source": []
  },
  {
   "cell_type": "code",
   "execution_count": null,
   "id": "1f55428e",
   "metadata": {},
   "outputs": [],
   "source": []
  },
  {
   "cell_type": "code",
   "execution_count": 64,
   "id": "ee053f11",
   "metadata": {},
   "outputs": [
    {
     "name": "stdout",
     "output_type": "stream",
     "text": [
      "['harrry', 'marrrry', 'karrrrry', 'parry']\n"
     ]
    }
   ],
   "source": [
    "data = 'I lover harrry marrrry karrrrry parry'\n",
    "\n",
    "\n",
    "pt = r'h?m?k?p?ar*y'\n",
    "\n",
    "result = re.findall(pt,data)\n",
    "print(result)"
   ]
  },
  {
   "cell_type": "code",
   "execution_count": null,
   "id": "ef51f09b",
   "metadata": {},
   "outputs": [],
   "source": []
  },
  {
   "cell_type": "code",
   "execution_count": null,
   "id": "48897236",
   "metadata": {},
   "outputs": [],
   "source": []
  },
  {
   "cell_type": "code",
   "execution_count": 65,
   "id": "df0c0029",
   "metadata": {},
   "outputs": [
    {
     "name": "stdout",
     "output_type": "stream",
     "text": [
      "['hay', 'harrry', 'marrrry', 'karrrrry', 'parry']\n"
     ]
    }
   ],
   "source": [
    "data = 'I lover hay harrry marrrry karrrrry parry'\n",
    "\n",
    "\n",
    "pt = r'h?m?k?p?ar*y'\n",
    "\n",
    "result = re.findall(pt,data)\n",
    "print(result)"
   ]
  },
  {
   "cell_type": "code",
   "execution_count": null,
   "id": "76977e33",
   "metadata": {},
   "outputs": [],
   "source": []
  },
  {
   "cell_type": "code",
   "execution_count": null,
   "id": "9ebd02f9",
   "metadata": {},
   "outputs": [],
   "source": []
  },
  {
   "cell_type": "code",
   "execution_count": 67,
   "id": "3de82608",
   "metadata": {},
   "outputs": [
    {
     "name": "stdout",
     "output_type": "stream",
     "text": [
      "['harrry', 'marrrry', 'karrrrry', 'parry']\n"
     ]
    }
   ],
   "source": [
    "data = 'I lover hay harrry marrrry karrrrry parry'\n",
    "\n",
    "\n",
    "pt = r'h?m?k?p?ar+y'\n",
    "\n",
    "result = re.findall(pt,data)\n",
    "print(result)"
   ]
  },
  {
   "cell_type": "code",
   "execution_count": null,
   "id": "ecf9fb26",
   "metadata": {},
   "outputs": [],
   "source": []
  },
  {
   "cell_type": "code",
   "execution_count": null,
   "id": "b3d4dfc2",
   "metadata": {},
   "outputs": [],
   "source": []
  },
  {
   "cell_type": "code",
   "execution_count": null,
   "id": "714c042d",
   "metadata": {},
   "outputs": [],
   "source": []
  },
  {
   "cell_type": "code",
   "execution_count": 70,
   "id": "c9aa7e49",
   "metadata": {},
   "outputs": [
    {
     "name": "stdout",
     "output_type": "stream",
     "text": [
      "['jarrry', 'harrry', 'marrrry', 'karrrrry', 'parry']\n"
     ]
    }
   ],
   "source": [
    "data = 'I lover hay jarrry harrry marrrry karrrrry parry'\n",
    "\n",
    "\n",
    "pt = r'[jhmkp]ar+y'\n",
    "\n",
    "result = re.findall(pt,data)\n",
    "print(result)"
   ]
  },
  {
   "cell_type": "code",
   "execution_count": null,
   "id": "bb54c053",
   "metadata": {},
   "outputs": [],
   "source": []
  },
  {
   "cell_type": "code",
   "execution_count": null,
   "id": "f921d808",
   "metadata": {},
   "outputs": [],
   "source": []
  },
  {
   "cell_type": "code",
   "execution_count": 76,
   "id": "24f7440d",
   "metadata": {},
   "outputs": [
    {
     "name": "stdout",
     "output_type": "stream",
     "text": [
      "['zarrry', 'jarrry', 'harrry', 'marrrry', 'karrrrry', 'parry']\n"
     ]
    }
   ],
   "source": [
    "data = 'I lover zarrry jarrry harrry marrrry karrrrry parry'\n",
    "\n",
    "\n",
    "pt = r'[a-z]ar+y'\n",
    "\n",
    "result = re.findall(pt,data)\n",
    "print(result)"
   ]
  },
  {
   "cell_type": "code",
   "execution_count": null,
   "id": "0f4e58d1",
   "metadata": {},
   "outputs": [],
   "source": []
  },
  {
   "cell_type": "code",
   "execution_count": null,
   "id": "c7aa05ef",
   "metadata": {},
   "outputs": [],
   "source": []
  },
  {
   "cell_type": "code",
   "execution_count": null,
   "id": "25546c17",
   "metadata": {},
   "outputs": [],
   "source": []
  },
  {
   "cell_type": "code",
   "execution_count": 78,
   "id": "ceecb8c4",
   "metadata": {},
   "outputs": [
    {
     "name": "stdout",
     "output_type": "stream",
     "text": [
      "['marrrry', 'karrrrry', 'parry']\n"
     ]
    }
   ],
   "source": [
    "data = 'I lover Zarrry Jarrry Harrry marrrry karrrrry parry'\n",
    "\n",
    "\n",
    "pt = r'[a-z]ar+y'\n",
    "\n",
    "result = re.findall(pt,data)\n",
    "print(result)"
   ]
  },
  {
   "cell_type": "code",
   "execution_count": null,
   "id": "8b1ffedb",
   "metadata": {},
   "outputs": [],
   "source": []
  },
  {
   "cell_type": "code",
   "execution_count": null,
   "id": "73112a1a",
   "metadata": {},
   "outputs": [],
   "source": []
  },
  {
   "cell_type": "code",
   "execution_count": 80,
   "id": "46da1156",
   "metadata": {},
   "outputs": [
    {
     "name": "stdout",
     "output_type": "stream",
     "text": [
      "['Zarrry', 'Jarrry', 'Harrry', 'marrrry', 'karrrrry', 'parry']\n"
     ]
    }
   ],
   "source": [
    "data = 'I lover 9arrrry Zarrry Jarrry Harrry marrrry karrrrry parry'\n",
    "\n",
    "\n",
    "pt = r'[a-zA-Z]ar+y'\n",
    "\n",
    "result = re.findall(pt,data)\n",
    "print(result)"
   ]
  },
  {
   "cell_type": "code",
   "execution_count": null,
   "id": "e7773710",
   "metadata": {},
   "outputs": [],
   "source": []
  },
  {
   "cell_type": "code",
   "execution_count": null,
   "id": "041fac84",
   "metadata": {},
   "outputs": [],
   "source": []
  },
  {
   "cell_type": "code",
   "execution_count": 83,
   "id": "59a950f3",
   "metadata": {},
   "outputs": [
    {
     "name": "stdout",
     "output_type": "stream",
     "text": [
      "['Zarrry', 'Jarrry', 'Harrry', 'marrrry', 'karrrrry', 'parry']\n"
     ]
    }
   ],
   "source": [
    "data = 'I lover arrrry Zarrry Jarrry Harrry marrrry karrrrry parry'\n",
    "\n",
    "\n",
    "pt = r'[a-zA-Z0-9]ar+y'\n",
    "\n",
    "result = re.findall(pt,data)\n",
    "print(result)"
   ]
  },
  {
   "cell_type": "code",
   "execution_count": null,
   "id": "a3297e81",
   "metadata": {},
   "outputs": [],
   "source": []
  }
 ],
 "metadata": {
  "kernelspec": {
   "display_name": "Python 3 (ipykernel)",
   "language": "python",
   "name": "python3"
  },
  "language_info": {
   "codemirror_mode": {
    "name": "ipython",
    "version": 3
   },
   "file_extension": ".py",
   "mimetype": "text/x-python",
   "name": "python",
   "nbconvert_exporter": "python",
   "pygments_lexer": "ipython3",
   "version": "3.11.3"
  }
 },
 "nbformat": 4,
 "nbformat_minor": 5
}
