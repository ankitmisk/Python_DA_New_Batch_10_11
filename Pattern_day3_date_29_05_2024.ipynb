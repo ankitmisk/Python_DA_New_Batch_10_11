{
 "cells": [
  {
   "cell_type": "code",
   "execution_count": 21,
   "id": "ccf6020a",
   "metadata": {},
   "outputs": [
    {
     "name": "stdout",
     "output_type": "stream",
     "text": [
      "    * \n",
      "   * * \n",
      "  * * * \n",
      " * * * * \n",
      "* * * * * \n"
     ]
    }
   ],
   "source": [
    "no = 5\n",
    "import time\n",
    "\n",
    "for i in range(no):\n",
    "    print(  ' '*(no-i-1)  + '* '*(i+1))\n",
    "#     time.sleep(2)"
   ]
  },
  {
   "cell_type": "code",
   "execution_count": 25,
   "id": "991b8611",
   "metadata": {},
   "outputs": [
    {
     "name": "stdout",
     "output_type": "stream",
     "text": [
      "        * \n",
      "      * * \n",
      "    * * * \n",
      "  * * * * \n",
      "* * * * * \n"
     ]
    }
   ],
   "source": [
    "no = 5\n",
    "\n",
    "for i in range(no):\n",
    "    print(  '  '*(no-i-1)  + '* '*(i+1))"
   ]
  },
  {
   "cell_type": "code",
   "execution_count": 31,
   "id": "80da867a",
   "metadata": {},
   "outputs": [
    {
     "name": "stdout",
     "output_type": "stream",
     "text": [
      "        * \n",
      "      * * \n",
      "    * * * \n",
      "  * * * * \n",
      "* * * * * \n"
     ]
    }
   ],
   "source": [
    "no = 5\n",
    "\n",
    "for i in range(no):\n",
    "    print(  '  '*(no-i-1)  + '* '*(i+1))"
   ]
  },
  {
   "cell_type": "code",
   "execution_count": 37,
   "id": "652f5a84",
   "metadata": {},
   "outputs": [
    {
     "name": "stdout",
     "output_type": "stream",
     "text": [
      "    A\n",
      "   AB\n",
      "  ABC\n",
      " ABCD\n",
      "ABCDE\n"
     ]
    }
   ],
   "source": [
    "no = 5\n",
    "import string\n",
    "data = string.ascii_uppercase\n",
    "\n",
    "for i in range(no):\n",
    "    print(  ' '*(no-i-1)  + f'{data[0:i+1]}')\n"
   ]
  },
  {
   "cell_type": "code",
   "execution_count": null,
   "id": "394d74b9",
   "metadata": {},
   "outputs": [],
   "source": []
  },
  {
   "cell_type": "code",
   "execution_count": null,
   "id": "cdb91e66",
   "metadata": {},
   "outputs": [],
   "source": []
  },
  {
   "cell_type": "code",
   "execution_count": 41,
   "id": "85dd45cb",
   "metadata": {},
   "outputs": [
    {
     "name": "stdout",
     "output_type": "stream",
     "text": [
      "    A\n",
      "   A B\n",
      "  A B C\n",
      " A B C D\n",
      "A B C D E\n"
     ]
    }
   ],
   "source": [
    "no = 5\n",
    "import string\n",
    "data = string.ascii_uppercase\n",
    "\n",
    "for i in range(no):\n",
    "    print(' '*(no-i-1)  + ' '.join(f'{data[0:i+1]}'))\n"
   ]
  },
  {
   "cell_type": "code",
   "execution_count": 61,
   "id": "4372f8e2",
   "metadata": {},
   "outputs": [
    {
     "name": "stdout",
     "output_type": "stream",
     "text": [
      "1234567\n",
      "      1\n",
      "     1 2\n",
      "    1 2 3\n",
      "   1 2 3 4\n",
      "  1 2 3 4 5\n",
      " 1 2 3 4 5 6\n",
      "1 2 3 4 5 6 7\n"
     ]
    }
   ],
   "source": [
    "no = 7\n",
    "data = ''\n",
    "for j in range(1,no+1):\n",
    "    data += str(j) \n",
    "    \n",
    "print(data)\n",
    "for i in range(no):\n",
    "    print(' '*(no-i-1)  + ' '.join(f'{data[0:i+1]}'))\n"
   ]
  },
  {
   "cell_type": "code",
   "execution_count": 57,
   "id": "870b9391",
   "metadata": {},
   "outputs": [
    {
     "data": {
      "text/plain": [
       "'1 2 3 4 5 6 7 8 9 1 0'"
      ]
     },
     "execution_count": 57,
     "metadata": {},
     "output_type": "execute_result"
    }
   ],
   "source": [
    "' '.join('12345678910')"
   ]
  },
  {
   "cell_type": "code",
   "execution_count": 86,
   "id": "7da5eda3",
   "metadata": {},
   "outputs": [
    {
     "name": "stdout",
     "output_type": "stream",
     "text": [
      "          1\n",
      "         1 2\n",
      "        1 2 3\n",
      "       1 2 3 4\n",
      "      1 2 3 4 5\n",
      "     1 2 3 4 5 6\n",
      "    1 2 3 4 5 6 7\n",
      "   1 2 3 4 5 6 7 8\n",
      "  1 2 3 4 5 6 7 8 9\n",
      " 1 2 3 4 5 6 7 8 9 10\n",
      "1 2 3 4 5 6 7 8 9 10 11\n"
     ]
    }
   ],
   "source": [
    "\n",
    "no = 11\n",
    "\n",
    "data = []\n",
    "for i in range(no):\n",
    "    data.append(str(i+1))\n",
    "    print(' '*(no-i-1)  + ' '.join(data[0:i+1]))\n"
   ]
  },
  {
   "cell_type": "code",
   "execution_count": null,
   "id": "eff91d95",
   "metadata": {},
   "outputs": [],
   "source": []
  },
  {
   "cell_type": "code",
   "execution_count": 107,
   "id": "f56cc83b",
   "metadata": {},
   "outputs": [
    {
     "name": "stdout",
     "output_type": "stream",
     "text": [
      "          1\n",
      "         2\n",
      "        3\n",
      "       4\n",
      "      5\n",
      "     6\n",
      "    7\n",
      "   8\n",
      "  9\n",
      " 10\n",
      "11\n"
     ]
    }
   ],
   "source": [
    "import string\n",
    "\n",
    "no = 11\n",
    "str_data = string.ascii_uppercase\n",
    "\n",
    "data = []\n",
    "for i in range(no):\n",
    "    data.append(str(i+1))\n",
    "    \n",
    "    print(' '*(no-i-1)  + str(i+1))\n"
   ]
  },
  {
   "cell_type": "code",
   "execution_count": null,
   "id": "00050840",
   "metadata": {},
   "outputs": [],
   "source": [
    "  1\n",
    " 1A2\n",
    "1A2B3"
   ]
  },
  {
   "cell_type": "code",
   "execution_count": 108,
   "id": "0159cc13",
   "metadata": {},
   "outputs": [],
   "source": [
    "# ['1']\n",
    "# ['1A','2']\n",
    "# ['1A','2B','3']\n",
    "# ['1A','2B','3C','4']"
   ]
  },
  {
   "cell_type": "code",
   "execution_count": 113,
   "id": "bea3f45f",
   "metadata": {},
   "outputs": [
    {
     "name": "stdout",
     "output_type": "stream",
     "text": [
      "1\n",
      "1A2\n",
      "1A2B3\n",
      "1A2B3C4\n"
     ]
    }
   ],
   "source": [
    "print(''.join(['1']))\n",
    "print(''.join(['1A','2']))\n",
    "print(''.join(['1A','2B','3']))\n",
    "print(''.join(['1A','2B','3C','4']))"
   ]
  },
  {
   "cell_type": "code",
   "execution_count": 133,
   "id": "705226eb",
   "metadata": {},
   "outputs": [
    {
     "name": "stdout",
     "output_type": "stream",
     "text": [
      "  1A\b\n",
      " 1A2B\b\n",
      "1A2B3C\b\n"
     ]
    }
   ],
   "source": [
    "no = 3\n",
    "\n",
    "data = [['1A'],['1A','2B'],['1A','2B','3C']]\n",
    "\n",
    "# for k in range()\n",
    "\n",
    "# str_data  = string.ascii_uppercase\n",
    "# for i in range(no):\n",
    "#     data.append(str(i+1)+str_data[i])\n",
    "\n",
    "    \n",
    "for j in range(no):\n",
    "    print(' '*(no-j-1) + ''.join(data[j][0:i+1])+'\\b')"
   ]
  },
  {
   "cell_type": "code",
   "execution_count": 150,
   "id": "067b863f",
   "metadata": {},
   "outputs": [
    {
     "name": "stdout",
     "output_type": "stream",
     "text": [
      "         1A\b\n",
      "        1A2B\b\n",
      "       1A2B3C\b\n",
      "      1A2B3C4D\b\n",
      "     1A2B3C4D5E\b\n",
      "    1A2B3C4D5E6F\b\n",
      "   1A2B3C4D5E6F7G\b\n",
      "  1A2B3C4D5E6F7G8H\b\n",
      " 1A2B3C4D5E6F7G8H9I\b\n",
      "1A2B3C4D5E6F7G8H9I10J\b\n"
     ]
    }
   ],
   "source": [
    "no = 10\n",
    "\n",
    "\n",
    "data = []\n",
    "\n",
    "\n",
    "for j in range(no,0,-1):\n",
    "    temp_data = []\n",
    "    for i in range(no+1-j):\n",
    "        temp_data.append(str(i+1)+str_data[i])\n",
    "    data.append(temp_data)\n",
    "    \n",
    "for j in range(no):\n",
    "    print(' '*(no-j-1) + ''.join(data[j][0:i+1])+'\\b')"
   ]
  },
  {
   "cell_type": "code",
   "execution_count": null,
   "id": "fa437757",
   "metadata": {},
   "outputs": [],
   "source": []
  }
 ],
 "metadata": {
  "kernelspec": {
   "display_name": "Python 3 (ipykernel)",
   "language": "python",
   "name": "python3"
  },
  "language_info": {
   "codemirror_mode": {
    "name": "ipython",
    "version": 3
   },
   "file_extension": ".py",
   "mimetype": "text/x-python",
   "name": "python",
   "nbconvert_exporter": "python",
   "pygments_lexer": "ipython3",
   "version": "3.11.3"
  }
 },
 "nbformat": 4,
 "nbformat_minor": 5
}
