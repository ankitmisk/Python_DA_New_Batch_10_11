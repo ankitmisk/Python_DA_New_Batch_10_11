{
 "cells": [
  {
   "cell_type": "code",
   "execution_count": 1,
   "id": "f76f5a16",
   "metadata": {},
   "outputs": [],
   "source": [
    "# while loop:- when we want's to run loop based on given conditions"
   ]
  },
  {
   "cell_type": "code",
   "execution_count": 2,
   "id": "7dd5caa8",
   "metadata": {},
   "outputs": [],
   "source": [
    "# # # for loop range()\n",
    "# # # while condition/s:\n",
    "\n",
    "# # while True:\n",
    "# #     code block\n",
    "\n",
    "\n",
    "# while False:\n",
    "#     code block no"
   ]
  },
  {
   "cell_type": "code",
   "execution_count": 3,
   "id": "ec031786",
   "metadata": {},
   "outputs": [],
   "source": [
    "# # op:- \n",
    "# # bool\n",
    "# membership\n",
    "# relational\n",
    "# identity\n",
    "# logical\n"
   ]
  },
  {
   "cell_type": "code",
   "execution_count": 5,
   "id": "044435ee",
   "metadata": {},
   "outputs": [
    {
     "name": "stdout",
     "output_type": "stream",
     "text": [
      "Hello World!! 1\n",
      "Hello World!! 2\n",
      "Hello World!! 3\n",
      "Hello World!! 4\n",
      "Hello World!! 5\n",
      "Hello World!! 6\n",
      "Hello World!! 7\n",
      "Hello World!! 8\n",
      "Hello World!! 9\n",
      "Hello World!! 10\n"
     ]
    }
   ],
   "source": [
    "a = 1\n",
    "\n",
    "while a<11:\n",
    "    print('Hello World!!',a)\n",
    "    a += 1"
   ]
  },
  {
   "cell_type": "code",
   "execution_count": 9,
   "id": "5ad78751",
   "metadata": {},
   "outputs": [
    {
     "name": "stdout",
     "output_type": "stream",
     "text": [
      "2 x 1 = 2\n",
      "2 x 2 = 4\n",
      "2 x 3 = 6\n",
      "2 x 4 = 8\n",
      "2 x 5 = 10\n",
      "2 x 6 = 12\n",
      "2 x 7 = 14\n",
      "2 x 8 = 16\n",
      "2 x 9 = 18\n",
      "2 x 10 = 20\n"
     ]
    }
   ],
   "source": [
    "# table print whith the while loop\n",
    "table = 2\n",
    "c = 1\n",
    "\n",
    "while c<11:\n",
    "    print(f'{table} x {c} = {table*c}')\n",
    "    \n",
    "    c+=1 "
   ]
  },
  {
   "cell_type": "code",
   "execution_count": 14,
   "id": "f0dfbd8a",
   "metadata": {},
   "outputs": [
    {
     "name": "stdout",
     "output_type": "stream",
     "text": [
      "arun\n",
      "akshay\n",
      "karan\n",
      "ravi\n",
      "deepak\n",
      "sahil\n"
     ]
    }
   ],
   "source": [
    "# iterate element using while loop\n",
    "names = ['arun','akshay','karan','ravi','deepak','sahil']\n",
    "\n",
    "index = 0\n",
    "\n",
    "while index<len(names):\n",
    "    \n",
    "    print(names[index])\n",
    "    index += 1"
   ]
  },
  {
   "cell_type": "code",
   "execution_count": 42,
   "id": "c038fb17",
   "metadata": {},
   "outputs": [
    {
     "name": "stdout",
     "output_type": "stream",
     "text": [
      "your name is: karan\n",
      "your age is: 23\n",
      "your class is: 12\n",
      "your school is: Pvt School\n",
      "your Address is: Noida\n"
     ]
    }
   ],
   "source": [
    "# iterate dict using while loop\n",
    "\n",
    "data = {'name':'karan','age':23,'class':12,'school':'Pvt School','Address':'Noida'}\n",
    "\n",
    "keys = data.keys()\n",
    "index = 0\n",
    "\n",
    "while index<len(data):\n",
    "    print(f'your {list(keys)[index]} is: {data[list(keys)[index]]}')\n",
    "    index+=1"
   ]
  },
  {
   "cell_type": "code",
   "execution_count": null,
   "id": "acef98e3",
   "metadata": {},
   "outputs": [],
   "source": []
  },
  {
   "cell_type": "code",
   "execution_count": null,
   "id": "878c801e",
   "metadata": {},
   "outputs": [],
   "source": []
  },
  {
   "cell_type": "code",
   "execution_count": 43,
   "id": "44147bed",
   "metadata": {},
   "outputs": [
    {
     "name": "stdout",
     "output_type": "stream",
     "text": [
      "[321, 2, 6]\n"
     ]
    }
   ],
   "source": [
    "# common element\n",
    "\n",
    "l_1 = [1,24,321,2,545,6]\n",
    "l_2 = [2,43,6,7657,321]\n",
    "\n",
    "\n",
    "common = []\n",
    "\n",
    "\n",
    "for i in l_1:\n",
    "    for j in l_2:\n",
    "        if i == j:\n",
    "            common.append(i)\n",
    "            \n",
    "            \n",
    "print(common)\n"
   ]
  },
  {
   "cell_type": "code",
   "execution_count": 46,
   "id": "cc6ed557",
   "metadata": {},
   "outputs": [
    {
     "name": "stdout",
     "output_type": "stream",
     "text": [
      "[321, 12, 16]\n"
     ]
    }
   ],
   "source": [
    "\n",
    "l_1 = [1,24,321,12,545,16]\n",
    "l_2 = [12,43,16,7657,321]\n",
    "\n",
    "\n",
    "c_1 = 0\n",
    "c_2 = 0\n",
    "\n",
    "common = []\n",
    "\n",
    "while c_1<len(l_1):    \n",
    "    while c_2<len(l_2):\n",
    "        \n",
    "        if l_1[c_1] == l_2[c_2]:\n",
    "            common.append(l_1[c_1])    \n",
    "        c_2+=1\n",
    "    \n",
    "    c_1+=1\n",
    "    c_2 = 0\n",
    "    \n",
    "print(common)"
   ]
  },
  {
   "cell_type": "code",
   "execution_count": 50,
   "id": "5c95907e",
   "metadata": {},
   "outputs": [
    {
     "name": "stdout",
     "output_type": "stream",
     "text": [
      "[321, 16]\n"
     ]
    }
   ],
   "source": [
    "\n",
    "l_1 = [1,24,321,12,545,16]\n",
    "l_2 = [12,43,16,7657,321]\n",
    "l_3 = [16,243,6,321,5346,5]\n",
    "\n",
    "c_1 = c_2 = c_3 = 0\n",
    "\n",
    "common = []\n",
    "\n",
    "while c_1<len(l_1):    \n",
    "    while c_2<len(l_2):\n",
    "        while c_3 < len(l_3): \n",
    "            if l_1[c_1] == l_2[c_2] == l_3[c_3]:\n",
    "                common.append(l_3[c_3])\n",
    "            c_3 += 1\n",
    "        c_2+=1\n",
    "        c_3 = 0 \n",
    "    c_1+=1\n",
    "    c_2 = 0\n",
    "    \n",
    "print(common)"
   ]
  },
  {
   "cell_type": "code",
   "execution_count": 54,
   "id": "a77405f9",
   "metadata": {
    "scrolled": true
   },
   "outputs": [
    {
     "name": "stdout",
     "output_type": "stream",
     "text": [
      "square of 1 is 1\n",
      "square of 234 is 54756\n",
      "square of 54 is 2916\n",
      "square of 24 is 576\n"
     ]
    }
   ],
   "source": [
    "# while with break continue or pass\n",
    "\n",
    "\n",
    "a = [1,234,54,24,456,43,56]\n",
    "\n",
    "c = 0\n",
    "\n",
    "while c<len(a):\n",
    "    if a[c]!=456:\n",
    "        print(f'square of {a[c]} is {a[c]**2}')\n",
    "    else:\n",
    "        break\n",
    "    c+=1"
   ]
  },
  {
   "cell_type": "markdown",
   "id": "529ecdff",
   "metadata": {},
   "source": [
    "# continue or pass"
   ]
  },
  {
   "cell_type": "code",
   "execution_count": 4,
   "id": "9385d6db",
   "metadata": {},
   "outputs": [
    {
     "name": "stdout",
     "output_type": "stream",
     "text": [
      "12 144\n",
      "43 1849\n",
      "5321 28313041\n",
      "65 4225\n",
      "7 49\n",
      "5434 29528356\n",
      "56 3136\n",
      "7 49\n"
     ]
    }
   ],
   "source": [
    "# while with else\n",
    "\n",
    "a = [12,43,5321,34,65,7,5434,56,7]\n",
    "\n",
    "c = 0\n",
    "\n",
    "while c<len(a):\n",
    "    if a[c] == 34:\n",
    "        c+=1\n",
    "        continue\n",
    "        \n",
    "    else:\n",
    "        print(a[c],a[c]**2)\n",
    "    c+=1"
   ]
  },
  {
   "cell_type": "code",
   "execution_count": 5,
   "id": "098226a4",
   "metadata": {},
   "outputs": [
    {
     "name": "stdout",
     "output_type": "stream",
     "text": [
      "Hello karan\n",
      "Hello ravi\n",
      "Hello mohan\n",
      "Hello dilip\n",
      "Hello ravi\n"
     ]
    }
   ],
   "source": [
    "a = ['karan','ravi','mohan','akshay','dilip','ravi']\n",
    "\n",
    "c = 0\n",
    "while c<len(a):\n",
    "    if a[c] == 'akshay':\n",
    "        pass\n",
    "    else:\n",
    "        print(f'Hello {a[c]}')\n",
    "    c+=1"
   ]
  },
  {
   "cell_type": "code",
   "execution_count": 18,
   "id": "9f2863a4",
   "metadata": {},
   "outputs": [
    {
     "name": "stdout",
     "output_type": "stream",
     "text": [
      "guess a number: exit\n",
      "comp choice:  1\n",
      "Final winings points:  10\n"
     ]
    }
   ],
   "source": [
    "points = 0\n",
    "import random\n",
    "round_details = {}\n",
    "r = 1\n",
    "while True:  \n",
    "    user = input('guess a number: ')\n",
    "    comp = str(random.randint(1,10))\n",
    "    print('comp choice: ',comp)\n",
    "    \n",
    "    \n",
    "    round_details[f'Round_{r}'] = {'comp':comp,'user':user}\n",
    "    r += 1\n",
    "    if user == comp:\n",
    "        print('you are right!!',end='\\n'*2)\n",
    "        points += 10\n",
    "    elif user.lower() in ['exit','e','q']:\n",
    "        print('Final winings points: ',points)\n",
    "        break\n",
    "    else:\n",
    "        print('you are wrong!!\\ntry again!!',end='\\n'*2)\n",
    "        if points>=5:\n",
    "            points -= 5\n",
    "        \n",
    "    display(clear=True)"
   ]
  },
  {
   "cell_type": "code",
   "execution_count": 22,
   "id": "1d5cf445",
   "metadata": {},
   "outputs": [],
   "source": [
    "# round_details"
   ]
  },
  {
   "cell_type": "code",
   "execution_count": 21,
   "id": "1ff8f16e",
   "metadata": {},
   "outputs": [
    {
     "data": {
      "text/plain": [
       "{'comp': '3', 'user': '1'}"
      ]
     },
     "execution_count": 21,
     "metadata": {},
     "output_type": "execute_result"
    }
   ],
   "source": [
    "round_details['Round_5']"
   ]
  },
  {
   "cell_type": "code",
   "execution_count": 10,
   "id": "3660f199",
   "metadata": {},
   "outputs": [],
   "source": [
    "import time"
   ]
  },
  {
   "cell_type": "code",
   "execution_count": 14,
   "id": "505e0a8f",
   "metadata": {},
   "outputs": [
    {
     "name": "stdout",
     "output_type": "stream",
     "text": [
      "Wed Jun  5 10:38:15 2024\n"
     ]
    },
    {
     "ename": "KeyboardInterrupt",
     "evalue": "",
     "output_type": "error",
     "traceback": [
      "\u001b[1;31m---------------------------------------------------------------------------\u001b[0m",
      "\u001b[1;31mKeyboardInterrupt\u001b[0m                         Traceback (most recent call last)",
      "Cell \u001b[1;32mIn[14], line 3\u001b[0m\n\u001b[0;32m      1\u001b[0m \u001b[38;5;28;01mwhile\u001b[39;00m \u001b[38;5;28;01mTrue\u001b[39;00m:\n\u001b[0;32m      2\u001b[0m     \u001b[38;5;28mprint\u001b[39m(time\u001b[38;5;241m.\u001b[39masctime())\n\u001b[1;32m----> 3\u001b[0m     time\u001b[38;5;241m.\u001b[39msleep(\u001b[38;5;241m1\u001b[39m)\n\u001b[0;32m      4\u001b[0m     display(clear\u001b[38;5;241m=\u001b[39m\u001b[38;5;28;01mTrue\u001b[39;00m)\n",
      "\u001b[1;31mKeyboardInterrupt\u001b[0m: "
     ]
    }
   ],
   "source": [
    "while True:\n",
    "    print(time.asctime())\n",
    "    time.sleep(1)\n",
    "    display(clear=True)"
   ]
  },
  {
   "cell_type": "code",
   "execution_count": null,
   "id": "e8cb9b4a",
   "metadata": {},
   "outputs": [],
   "source": []
  },
  {
   "cell_type": "code",
   "execution_count": 30,
   "id": "0b2ac998",
   "metadata": {},
   "outputs": [
    {
     "name": "stdout",
     "output_type": "stream",
     "text": [
      "👍👍👍👍👍👍👍👍👍👍👍👍👍👍👍👍👍👍👍👍👍👍👍👍👍👍👍👍👍👍👍👍👍👍👍👍👍👍👍👍👍👍👍👍👍👍👍👍👍👍👍👍👍👍👍👍👍👍👍👍👍👍👍👍👍👍👍👍👍👍👍👍👍👍👍👍👍👍👍👍👍👍👍👍👍👍👍👍👍👍👍👍👍👍👍👍👍👍👍👍 100%\n",
      "Success\n"
     ]
    }
   ],
   "source": [
    "download_per = 0\n",
    "\n",
    "while True:\n",
    "    time.sleep(random.randint(1,10)/10)\n",
    "    download_per += random.randint(1,10) \n",
    "    if download_per >=100:\n",
    "        download_per = 100\n",
    "        \n",
    "        \n",
    "    print(f'{\"👍\"*download_per} {download_per}%')\n",
    "    if download_per>=100:\n",
    "        print('Success')\n",
    "        break\n",
    "    display(clear=True)"
   ]
  },
  {
   "cell_type": "code",
   "execution_count": null,
   "id": "64e5dafd",
   "metadata": {},
   "outputs": [],
   "source": []
  }
 ],
 "metadata": {
  "kernelspec": {
   "display_name": "Python 3 (ipykernel)",
   "language": "python",
   "name": "python3"
  },
  "language_info": {
   "codemirror_mode": {
    "name": "ipython",
    "version": 3
   },
   "file_extension": ".py",
   "mimetype": "text/x-python",
   "name": "python",
   "nbconvert_exporter": "python",
   "pygments_lexer": "ipython3",
   "version": "3.11.3"
  }
 },
 "nbformat": 4,
 "nbformat_minor": 5
}
