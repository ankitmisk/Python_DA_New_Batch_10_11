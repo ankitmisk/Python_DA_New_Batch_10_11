{
 "cells": [
  {
   "cell_type": "code",
   "execution_count": 9,
   "id": "bee602e2-c7dc-40d8-b978-0b5ea92c8432",
   "metadata": {},
   "outputs": [],
   "source": [
    "# Q.1 = Explain the difference between mutable and immutable data type in python. Provide some example:-\n",
    "\n",
    "# Mutable = List[], \n",
    "# example\n",
    "a = [1,2,3,4,5]\n",
    "a[2] = 52"
   ]
  },
  {
   "cell_type": "code",
   "execution_count": 5,
   "id": "50149119-f4ff-46ca-9143-25c8bee158c4",
   "metadata": {},
   "outputs": [
    {
     "data": {
      "text/plain": [
       "[1, 2, 52, 4, 5]"
      ]
     },
     "execution_count": 5,
     "metadata": {},
     "output_type": "execute_result"
    }
   ],
   "source": [
    "a"
   ]
  },
  {
   "cell_type": "code",
   "execution_count": 11,
   "id": "dcb91845-d1db-4241-8ddd-0f4d37c08595",
   "metadata": {},
   "outputs": [
    {
     "ename": "SyntaxError",
     "evalue": "invalid syntax (1894873114.py, line 1)",
     "output_type": "error",
     "traceback": [
      "\u001b[1;36m  Cell \u001b[1;32mIn[11], line 1\u001b[1;36m\u001b[0m\n\u001b[1;33m    Q.1\u001b[0m\n\u001b[1;37m     ^\u001b[0m\n\u001b[1;31mSyntaxError\u001b[0m\u001b[1;31m:\u001b[0m invalid syntax\n"
     ]
    }
   ],
   "source": [
    "# Q.1\n",
    "# Immutable = set()\n",
    "# example:-\n",
    "\n",
    "b = ('aman','sharma')\n",
    "b[1] = 'naman'"
   ]
  },
  {
   "cell_type": "code",
   "execution_count": 6,
   "id": "8f9fbc2a-d8ba-428f-8737-b58660a6f443",
   "metadata": {},
   "outputs": [],
   "source": [
    "#.11 = Write a Python program to print the gwen pattern\n",
    "\n",
    "def petern(num):\n",
    "    for i in range(num):\n",
    "        print (' '*(num-i-1) + ' *'*(i+1))"
   ]
  },
  {
   "cell_type": "code",
   "execution_count": 8,
   "id": "8874fe37-c443-437a-8246-2db75bc746c3",
   "metadata": {},
   "outputs": [
    {
     "name": "stdout",
     "output_type": "stream",
     "text": [
      "          *\n",
      "         * *\n",
      "        * * *\n",
      "       * * * *\n",
      "      * * * * *\n",
      "     * * * * * *\n",
      "    * * * * * * *\n",
      "   * * * * * * * *\n",
      "  * * * * * * * * *\n",
      " * * * * * * * * * *\n"
     ]
    }
   ],
   "source": [
    "petern(10)"
   ]
  },
  {
   "cell_type": "code",
   "execution_count": 1,
   "id": "eb667bf1-4631-4713-b8ae-c3f74bd731ab",
   "metadata": {},
   "outputs": [],
   "source": [
    "# Q.4 = Write a Python function to print all prime numbers between given numberl and number2.\n",
    "\n",
    "def give_prime(num):\n",
    "    for i in range(2,num+1):\n",
    "        if num%2 == 0:\n",
    "            return 'not a prime no.'\n",
    "        else:\n",
    "            return 'prime no.'"
   ]
  },
  {
   "cell_type": "code",
   "execution_count": 2,
   "id": "06f5622f-2e55-485d-8c3b-3169189524cb",
   "metadata": {},
   "outputs": [
    {
     "data": {
      "text/plain": [
       "'prime no.'"
      ]
     },
     "execution_count": 2,
     "metadata": {},
     "output_type": "execute_result"
    }
   ],
   "source": [
    "give_prime(5)"
   ]
  },
  {
   "cell_type": "code",
   "execution_count": 4,
   "id": "7bba0b20-3aa1-4501-a250-b0e118bddcf0",
   "metadata": {},
   "outputs": [],
   "source": [
    "#.6 = Write a Python function to generate the first n Fibonacci numbers.\n",
    "\n",
    "def give_fibbo(no):\n",
    "    fibbo = [0,1]\n",
    "    for i in range (no-2):\n",
    "        fibbo.append(fibbo[-1] + fibbo[-2])\n",
    "    return fibbo"
   ]
  },
  {
   "cell_type": "code",
   "execution_count": 5,
   "id": "0c024371-8d7f-48f9-84ac-42677212da7e",
   "metadata": {},
   "outputs": [
    {
     "data": {
      "text/plain": [
       "[0, 1, 1, 2, 3, 5, 8, 13, 21, 34]"
      ]
     },
     "execution_count": 5,
     "metadata": {},
     "output_type": "execute_result"
    }
   ],
   "source": [
    "give_fibbo(10)"
   ]
  },
  {
   "cell_type": "code",
   "execution_count": 68,
   "id": "ba625a24-16e5-4ec4-a283-b48a104d1533",
   "metadata": {},
   "outputs": [],
   "source": [
    "# Q3 = How does Python handle variable scope and what are the different types of vaniable scopes available?\n",
    "\n",
    "# Ans = python has a 2 type of scoop variable one is local variable which is decleare in function and limited to the function \n",
    "#  And second is global which is use in function and outside of function \n",
    "\n"
   ]
  },
  {
   "cell_type": "code",
   "execution_count": 1,
   "id": "73922169-09f7-4da2-916c-2d9278c88183",
   "metadata": {},
   "outputs": [],
   "source": [
    "# Q.5 =  Create function to check given number is an Armstrong number or not.\n",
    "\n",
    "def check_armstrong(number):\n",
    "    lt = len(str(number))\n",
    "    result = 0\n",
    "    for i in str(number):\n",
    "        result += int (i)**lt\n",
    "\n",
    "    return 'armstrong'if result == number else 'not an armstron'"
   ]
  },
  {
   "cell_type": "code",
   "execution_count": 3,
   "id": "8a0608ef-d5fd-4f38-ae46-9c0b3c7636a2",
   "metadata": {},
   "outputs": [
    {
     "data": {
      "text/plain": [
       "'not an armstron'"
      ]
     },
     "execution_count": 3,
     "metadata": {},
     "output_type": "execute_result"
    }
   ],
   "source": [
    "check_armstrong(15858)"
   ]
  },
  {
   "cell_type": "code",
   "execution_count": 26,
   "id": "dd7f9e1f-45f9-4046-bd88-22c54ccd6113",
   "metadata": {},
   "outputs": [],
   "source": [
    "# Q.7 = Write a Python function to reverse a list without using list.reverse method or reversed 0 function.\n",
    "\n",
    "def list(data):\n",
    "    reverse_data = data[::-1]\n",
    "    return reverse_data\n",
    "    "
   ]
  },
  {
   "cell_type": "code",
   "execution_count": 27,
   "id": "4a946f8c-e57b-4d4d-a7bc-fea2caa40d72",
   "metadata": {},
   "outputs": [
    {
     "data": {
      "text/plain": [
       "[5, 4, 3, 2, 1]"
      ]
     },
     "execution_count": 27,
     "metadata": {},
     "output_type": "execute_result"
    }
   ],
   "source": [
    "list([1,2,3,4,5])"
   ]
  },
  {
   "cell_type": "code",
   "execution_count": null,
   "id": "08b9323e-a0f8-4c02-bf8b-9e42861eb4c3",
   "metadata": {},
   "outputs": [],
   "source": []
  },
  {
   "cell_type": "code",
   "execution_count": 101,
   "id": "20080441-fa1d-4cb5-84ba-5e4281c40eff",
   "metadata": {},
   "outputs": [],
   "source": [
    "# Q.9 = What is generator and yield concept in python.\n",
    "\n",
    "# Ans = generator and yield both are used to convert function to the generator"
   ]
  },
  {
   "cell_type": "code",
   "execution_count": null,
   "id": "07b9a96c-50e0-4d2a-99db-44bd8157ab17",
   "metadata": {},
   "outputs": [],
   "source": []
  },
  {
   "cell_type": "code",
   "execution_count": null,
   "id": "9fc1e89c-3e21-4385-9b8e-94eac915bd39",
   "metadata": {},
   "outputs": [],
   "source": [
    "# Q.12 = Explain the difference ways to import module and methods. Provide an example of some math, random and time module\n",
    "# different typen of import module (1)import random, (2)import time as t, (3) from gtts import gTTS\n",
    "\n",
    "# example of modules methods\n",
    "# import random\n",
    "# random.randint()\n",
    "# random.choice()\n",
    "\n",
    "# from datetime import datetime\n",
    "# datetime.()\n",
    "\n",
    "# import math as m\n",
    "# m.floor()\n",
    "# m.pi()"
   ]
  },
  {
   "cell_type": "code",
   "execution_count": 102,
   "id": "62ab3dbb-8df4-486d-b24e-460b07a1ba4a",
   "metadata": {},
   "outputs": [],
   "source": []
  },
  {
   "cell_type": "code",
   "execution_count": null,
   "id": "c8b98b7e-0032-4fe4-912d-49dd3e96ddfd",
   "metadata": {},
   "outputs": [],
   "source": []
  },
  {
   "cell_type": "code",
   "execution_count": 34,
   "id": "bbcbaca1-1b75-4711-be24-cdf1c5077531",
   "metadata": {},
   "outputs": [
    {
     "name": "stdout",
     "output_type": "stream",
     "text": [
      "[' techvidya@', '@techvidya.']\n"
     ]
    }
   ],
   "source": [
    "# Q. 15 = Write a Python program using regular expressions to find all email\n",
    "# addessrsina 82c 60008-\n",
    "# text - \"Contact us at techvidya@ education.com or support @techvidya.ong*\n",
    "import re \n",
    "data = \"Contact us at techvidya@ education.com or support @techvidya.ong\"\n",
    "\n",
    "pt = r'\\Wtechvidya\\S'\n",
    "\n",
    "result = re.findall(pt,data)\n",
    "print (result)"
   ]
  },
  {
   "cell_type": "code",
   "execution_count": null,
   "id": "0a97ae9a-ef5e-4d0d-9ba7-c97b59c0a7ca",
   "metadata": {},
   "outputs": [],
   "source": []
  },
  {
   "cell_type": "code",
   "execution_count": 135,
   "id": "3e500e15-42cf-47e5-8de1-e78348575b2e",
   "metadata": {},
   "outputs": [
    {
     "data": {
      "text/plain": [
       "<function TextIOWrapper.close()>"
      ]
     },
     "execution_count": 135,
     "metadata": {},
     "output_type": "execute_result"
    }
   ],
   "source": [
    "# Q.14 =  Write a Python program to read a textual file and write it into a new file, explain different modes of file handling with explanation.\n",
    "\n",
    "data = open(r'test.py.txt','w')\n",
    "data.write('are learnig python')\n",
    "\n",
    "data.close\n",
    "\n",
    "\n",
    "\n",
    "\n",
    "# different types of modes\n",
    "\n",
    "# w mode:- it use for write in the file\n",
    "# r mode:- is is use for read the file\n",
    "# a mode:- it is use for append in file\n",
    "# x mode :- it is use for if file is exist so the code give fuile exist error\n",
    "# rb mode:- it is use for read a binary file\n",
    "# wb mode:- it is use for write in binary file\n",
    "# ab mode:- it is use for append in binary file\n",
    "# xb mode :- it is use for binary file alreadt there so it gives error\n",
    "# a+ mode:- it is use for append + write\n",
    "# r+ mode\n",
    "# a+ mode\n",
    "# x+ mode"
   ]
  },
  {
   "cell_type": "code",
   "execution_count": 19,
   "id": "b237246c-f64b-4eb1-ab9f-5351935e7c57",
   "metadata": {},
   "outputs": [],
   "source": []
  },
  {
   "cell_type": "code",
   "execution_count": 21,
   "id": "3c5c77d0-b528-4366-9157-9d5e249e2ae3",
   "metadata": {},
   "outputs": [],
   "source": [
    "# Q.8 = Explain the concept of *args and **kwargs in fune\n",
    "# terence b/w\n",
    "# Ans = "
   ]
  },
  {
   "cell_type": "code",
   "execution_count": null,
   "id": "e8a73f56-d96c-45e6-8cf4-bc2a168ba243",
   "metadata": {},
   "outputs": [],
   "source": []
  },
  {
   "cell_type": "code",
   "execution_count": 16,
   "id": "d219ebde-dd49-48a8-9c1f-9a3802fedecd",
   "metadata": {},
   "outputs": [],
   "source": [
    "# Q.10 = Write a Python function to check if to strings are anagrams without using\n",
    "\n",
    "def check_anagram(str1,str2):\n",
    "    data1 = {}\n",
    "    data2 = {}\n",
    "    for i in str1:\n",
    "       data1[i] = str1.count(i)\n",
    "\n",
    "    for j in str2:\n",
    "        data2[j] = str2.count(j) \n",
    "\n",
    "    return 'anagram' if data1 == data2 else 'no anagram' "
   ]
  },
  {
   "cell_type": "code",
   "execution_count": 17,
   "id": "e6a1995e-0d4d-41b7-882a-34705977f876",
   "metadata": {},
   "outputs": [
    {
     "data": {
      "text/plain": [
       "'anagram'"
      ]
     },
     "execution_count": 17,
     "metadata": {},
     "output_type": "execute_result"
    }
   ],
   "source": [
    "check_anagram('earth','heart')"
   ]
  },
  {
   "cell_type": "code",
   "execution_count": null,
   "id": "0c069959-eba3-4f87-b9c4-b28c0a79ea42",
   "metadata": {},
   "outputs": [],
   "source": []
  },
  {
   "cell_type": "markdown",
   "id": "f2846fb7",
   "metadata": {},
   "source": [
    "# Aman Test Remarks"
   ]
  },
  {
   "cell_type": "markdown",
   "id": "faf07d7e",
   "metadata": {},
   "source": [
    "1. 2 Marks:- Good Example taken, but Incomplete Answer\n",
    "\n",
    "2. 0 Marks:- Not Attempted\n",
    "\n",
    "3. 2 Marks, Example Miss, Incomplete Explanation\n",
    "\n",
    "4. 1 Marks, Wrong Example taken, \n",
    "\n",
    "5. 4 Marks, Good\n",
    "\n",
    "6. 4 Marks, Good\n",
    "\n",
    "7. 3 Marks, Wrong function name taken, this will change inbuilt list features\n",
    "\n",
    "8. 0 Marks, Not attempted\n",
    "\n",
    "9. 1 Marks, Improper Explanation\n",
    "\n",
    "10. 4 Marks, Good\n",
    "\n",
    "11. 4 Marks, Good\n",
    "\n",
    "12. 2.5 Marks, Wrong way to call a function\n",
    "\n",
    "13. 0 Marks, Not attempted\n",
    "\n",
    "14. 2.5 Marks, Wrong Code, Good Example of file Modes\n",
    "\n",
    "15. 1 Marks, Wrong Logic, But good try \n",
    "\n",
    "\n",
    "Final Remarks:- 31/60:- Good Try, Do More focus on Faster way to write code, Understand question Proper, Justify answer with example"
   ]
  },
  {
   "cell_type": "code",
   "execution_count": null,
   "id": "8ec61133",
   "metadata": {},
   "outputs": [],
   "source": []
  }
 ],
 "metadata": {
  "kernelspec": {
   "display_name": "Python 3 (ipykernel)",
   "language": "python",
   "name": "python3"
  },
  "language_info": {
   "codemirror_mode": {
    "name": "ipython",
    "version": 3
   },
   "file_extension": ".py",
   "mimetype": "text/x-python",
   "name": "python",
   "nbconvert_exporter": "python",
   "pygments_lexer": "ipython3",
   "version": "3.11.3"
  }
 },
 "nbformat": 4,
 "nbformat_minor": 5
}
