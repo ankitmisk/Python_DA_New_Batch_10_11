{
 "cells": [
  {
   "cell_type": "code",
   "execution_count": 7,
   "id": "1ff4177f-f6ec-48af-9c6a-df734cf199db",
   "metadata": {},
   "outputs": [
    {
     "name": "stdout",
     "output_type": "stream",
     "text": [
      "[0, 1, 1]\n",
      "[0, 1, 1, 2]\n",
      "[0, 1, 1, 2, 3]\n",
      "[0, 1, 1, 2, 3, 5]\n",
      "[0, 1, 1, 2, 3, 5, 8]\n",
      "[0, 1, 1, 2, 3, 5, 8, 13]\n"
     ]
    }
   ],
   "source": [
    "#write  a python function to generate fibonaccio no.\n",
    "\n",
    "fibo = [0,1]\n",
    "user = 8\n",
    "for i in range (user-len(fibo)):\n",
    "    fibo.append(fibo[-1]+fibo[-2])\n",
    "    print (fibo)            "
   ]
  },
  {
   "cell_type": "code",
   "execution_count": 45,
   "id": "9e447b79-1e01-4355-a9c0-90d7860eee78",
   "metadata": {},
   "outputs": [
    {
     "ename": "TypeError",
     "evalue": "'tuple' object cannot be interpreted as an integer",
     "output_type": "error",
     "traceback": [
      "\u001b[1;31m---------------------------------------------------------------------------\u001b[0m",
      "\u001b[1;31mTypeError\u001b[0m                                 Traceback (most recent call last)",
      "Cell \u001b[1;32mIn[45], line 3\u001b[0m\n\u001b[0;32m      1\u001b[0m \u001b[38;5;66;03m# Write a Python function to print all prime nos b/w 1 to 12\u001b[39;00m\n\u001b[0;32m      2\u001b[0m no \u001b[38;5;241m=\u001b[39m  ()\n\u001b[1;32m----> 3\u001b[0m \u001b[38;5;28;01mfor\u001b[39;00m i \u001b[38;5;129;01min\u001b[39;00m \u001b[38;5;28mrange\u001b[39m(\u001b[38;5;241m2\u001b[39m,no):\n\u001b[0;32m      4\u001b[0m     \u001b[38;5;28;01mif\u001b[39;00m (no \u001b[38;5;241m%\u001b[39m i) \u001b[38;5;241m==\u001b[39m \u001b[38;5;241m0\u001b[39m:\n\u001b[0;32m      5\u001b[0m          \u001b[38;5;28mprint\u001b[39m (no, \u001b[38;5;124m\"\u001b[39m\u001b[38;5;124mis not a Prime No\u001b[39m\u001b[38;5;124m\"\u001b[39m)\n",
      "\u001b[1;31mTypeError\u001b[0m: 'tuple' object cannot be interpreted as an integer"
     ]
    }
   ],
   "source": [
    "# Write a Python function to print all prime nos b/w 1 to 12\n",
    "no =  ()\n",
    "for i in range(2,no):\n",
    "    if (no % i) == 0:\n",
    "         print (no, \"is not a Prime No\")\n",
    "         break\n",
    "else:\n",
    "        print (no, \"is Prime No\")\n"
   ]
  },
  {
   "cell_type": "code",
   "execution_count": 18,
   "id": "6a97dabd-644b-43bc-ba63-2a3a5fbde0f5",
   "metadata": {},
   "outputs": [
    {
     "name": "stdout",
     "output_type": "stream",
     "text": [
      "Object `pattern` not found.\n"
     ]
    }
   ],
   "source": [
    "Write a python program to print the given pattern?\n"
   ]
  },
  {
   "cell_type": "code",
   "execution_count": null,
   "id": "40b54cc1-f39c-471b-b942-fe252430c28f",
   "metadata": {},
   "outputs": [],
   "source": []
  },
  {
   "cell_type": "code",
   "execution_count": null,
   "id": "cb6afdca-dfde-42f0-9287-a1db0fddfb37",
   "metadata": {},
   "outputs": [],
   "source": [
    "# 1.Explain the difference betwwen mutabble and immutable data types in python.provide example for both?\n",
    "ans .Mutable data type are that which can be change the value of object.\n",
    "eg. list , arrays,ste,dictionary\n",
    "    immutable data type are those whose value cannnot be change.\n",
    "eg.numeric,string,tuple\n",
    "\n",
    "#2. list out all thje python keywords and explain lambda concept using map,filter and redue?\n",
    "ans. list of keyword in python\n",
    " 1. true 2.false 3.none 4.or 5.not 6.and 7.brea 8.pass 9.return 10.continue 11.for 12.in 13.while 14.class 15.if 16.else 17.import \n",
    "18.elif 19.def 20 .lambda\n",
    "lambda is used to create an anonymous function.\n",
    "map function its transform every element and create new one it is used when specific iteration will be done and its return the new value.\n",
    "filter function removes the element which are not required.\n",
    "reduce function reduce all element into single value.\n",
    "\n",
    "\n",
    "#3. How does Python handle variable scope and what are the different type of variable scope available?\n",
    "Ans. There are two types of Python handle varible scope - Global and Local.\n",
    "    Different type of variables scope are -\n",
    "Built-in Variables\n",
    "    In this we call them in any part of the program and it is used for pre-defined purposes. Example: print, def, true, false, if, else, elif.\n",
    "\n",
    "\n",
    "#8. Explain the concept of *args and **kwargs in function and difference b/w return and print with example.\n",
    "Ans. *args means arguments i.e. non leyword arguments.\n",
    "    1. it is used to pass a non-keyword variable length arguments list.\n",
    "    2. It is used to pass a variable no of arguments to a function.\n",
    "    3. take more arguments than the normal required.\n",
    "\n",
    "    **kwargs as our functions argument when we have doubts about the no of argument we should pass in a function.\n",
    "\n",
    "\n",
    "#9. What is generator and yield concept in python?\n",
    "Ans. yield statement defines generator. yield keyword is used to produce a value from the generator.\n",
    "    In Python, generator function using 'def' keyword but in place of return, we use yield. generator is to calculate a series of results one by one\n",
    "    on demand. generator is used to list where each element is calculated lazily."
   ]
  },
  {
   "cell_type": "code",
   "execution_count": null,
   "id": "07cdee72",
   "metadata": {},
   "outputs": [],
   "source": []
  },
  {
   "cell_type": "markdown",
   "id": "0fc7cc30",
   "metadata": {},
   "source": [
    "# Nidhi Test Remarks"
   ]
  },
  {
   "cell_type": "markdown",
   "id": "99ed0d44",
   "metadata": {},
   "source": [
    "1. 2.5 Marks, Example Missed\n",
    "\n",
    "2. 2.5 Marks, Example Missed\n",
    "\n",
    "3. 2.5 Marks, Good Definition, but example missed\n",
    "\n",
    "4. 1 Marks, Wrong Logic\n",
    "\n",
    "5. 0 Marks, Not attempted\n",
    "\n",
    "6. 2.5 Marks, Code must be written in Function\n",
    "\n",
    "7. 0 Marks, Not attempted\n",
    "\n",
    "8. 2 Marks, Example Missed\n",
    "\n",
    "9. 2 Marks, Example Missed\n",
    "\n",
    "10. 0 Marks, Not attempted\n",
    "\n",
    "11. 0 Marks, Not attempted\n",
    "\n",
    "12. 0 Marks, Not attempted\n",
    "\n",
    "13. 0 Marks, Not attempted\n",
    "\n",
    "14. 0 Marks, Not attempted\n",
    "\n",
    "15. 0 Marks, Not attempted\n",
    "\n",
    "\n",
    "Final Remarks: 15/60, well Try, Example Missed, Do more focus on Logic, Increase typing speed, Practice more, Focus on Basic concept, Learn to use jupyter notebook proper"
   ]
  },
  {
   "cell_type": "code",
   "execution_count": null,
   "id": "aa9babe8",
   "metadata": {},
   "outputs": [],
   "source": []
  }
 ],
 "metadata": {
  "kernelspec": {
   "display_name": "Python 3 (ipykernel)",
   "language": "python",
   "name": "python3"
  },
  "language_info": {
   "codemirror_mode": {
    "name": "ipython",
    "version": 3
   },
   "file_extension": ".py",
   "mimetype": "text/x-python",
   "name": "python",
   "nbconvert_exporter": "python",
   "pygments_lexer": "ipython3",
   "version": "3.11.3"
  }
 },
 "nbformat": 4,
 "nbformat_minor": 5
}
