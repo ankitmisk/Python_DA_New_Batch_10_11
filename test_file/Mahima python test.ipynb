{
 "cells": [
  {
   "cell_type": "code",
   "execution_count": null,
   "id": "29c06dde-1cf3-4d71-8024-427e3da53dae",
   "metadata": {},
   "outputs": [],
   "source": [
    "Q1. write a python function to print all prime number between given number1 and number2?\n",
    "\n"
   ]
  },
  {
   "cell_type": "code",
   "execution_count": 3,
   "id": "d0238cdc-2b26-49ba-ac53-1273a1c3e962",
   "metadata": {},
   "outputs": [],
   "source": [
    "def check_prime_number(n1:int,n2:int):\n",
    "\n",
    "    c=[]\n",
    "    for i in range(n1,n2+2):\n",
    "        if i%2==0:\n",
    "            print(f'{i} is not a prime number')\n",
    "        else:\n",
    "            print(f'{i} is a prime number')\n",
    "            c.append(i)\n",
    "            print(c)\n",
    "        \n",
    "    "
   ]
  },
  {
   "cell_type": "code",
   "execution_count": 4,
   "id": "80c24e3b-7b63-4d99-92a5-6d655776d249",
   "metadata": {},
   "outputs": [
    {
     "name": "stdout",
     "output_type": "stream",
     "text": [
      "1 is a prime number\n",
      "[1]\n",
      "2 is not a prime number\n",
      "3 is a prime number\n",
      "[1, 3]\n",
      "4 is not a prime number\n",
      "5 is a prime number\n",
      "[1, 3, 5]\n",
      "6 is not a prime number\n",
      "7 is a prime number\n",
      "[1, 3, 5, 7]\n",
      "8 is not a prime number\n",
      "9 is a prime number\n",
      "[1, 3, 5, 7, 9]\n",
      "10 is not a prime number\n",
      "11 is a prime number\n",
      "[1, 3, 5, 7, 9, 11]\n"
     ]
    }
   ],
   "source": [
    "check_prime_number(1,10)"
   ]
  },
  {
   "cell_type": "code",
   "execution_count": null,
   "id": "b55d3b50-72f9-4f21-ae15-4d9342099b9a",
   "metadata": {},
   "outputs": [],
   "source": [
    "Q11.write a python program to print the given pattern?\n"
   ]
  },
  {
   "cell_type": "code",
   "execution_count": 20,
   "id": "373baeed-c731-4d51-a090-41aa4a9605ff",
   "metadata": {},
   "outputs": [
    {
     "ename": "SyntaxError",
     "evalue": "invalid syntax (773929683.py, line 2)",
     "output_type": "error",
     "traceback": [
      "\u001b[1;36m  Cell \u001b[1;32mIn[20], line 2\u001b[1;36m\u001b[0m\n\u001b[1;33m    c=*\u001b[0m\n\u001b[1;37m       ^\u001b[0m\n\u001b[1;31mSyntaxError\u001b[0m\u001b[1;31m:\u001b[0m invalid syntax\n"
     ]
    }
   ],
   "source": [
    "no=6\n",
    "c=*\n",
    "pt=[]\n",
    "\n",
    "for i in range(1,no+1):\n",
    "    print(i*'*',end=\" \")\n",
    "    print()\n",
    "    "
   ]
  },
  {
   "cell_type": "code",
   "execution_count": null,
   "id": "b10d74de-a4a8-42fc-bf2c-1adac020eac8",
   "metadata": {},
   "outputs": [],
   "source": []
  },
  {
   "cell_type": "code",
   "execution_count": null,
   "id": "4b3e991c-cad4-4f32-a08d-e5dde3e8c067",
   "metadata": {},
   "outputs": [],
   "source": [
    "Q5.create function to check givrn number is armstrong number or not?\n",
    "\n",
    "    "
   ]
  },
  {
   "cell_type": "code",
   "execution_count": 38,
   "id": "e9598efd-ebdd-45b4-bab3-85644532af5e",
   "metadata": {},
   "outputs": [],
   "source": [
    "def check_armstrong(num:int):\n",
    "    length=len(str(int))\n",
    "    output=0\n",
    "    for i in str(num):\n",
    "        output+=int(i)*num\n",
    "        if output==num:\n",
    "            print(f'{num} is a armstrong')\n",
    "        else:\n",
    "            print(f'{num} is not a armstrong')\n",
    "   \n"
   ]
  },
  {
   "cell_type": "code",
   "execution_count": 40,
   "id": "dc8833e5-56d8-4604-bec6-4b208336fd2c",
   "metadata": {},
   "outputs": [
    {
     "name": "stdout",
     "output_type": "stream",
     "text": [
      "23 is not a armstrong\n",
      "23 is not a armstrong\n"
     ]
    }
   ],
   "source": [
    "check_armstrong(23)\n"
   ]
  },
  {
   "cell_type": "code",
   "execution_count": null,
   "id": "7fd19a30-c0b5-4392-9351-dbcd64815ee9",
   "metadata": {},
   "outputs": [],
   "source": [
    "Q11.PATTERN\n"
   ]
  },
  {
   "cell_type": "code",
   "execution_count": 85,
   "id": "ab09fcba-fc7f-4c2f-ae3f-072b7243251e",
   "metadata": {},
   "outputs": [
    {
     "name": "stdout",
     "output_type": "stream",
     "text": [
      "     * \n",
      "    * * \n",
      "   * * * \n",
      "  * * * * \n",
      " * * * * * \n",
      "* * * * * * \n"
     ]
    }
   ],
   "source": [
    "no = 6\n",
    "import time\n",
    "\n",
    "for i in range(no):\n",
    "    print(' '*(no-i-1)  + '* '*(i+1))\n",
    "time.sleep(2)"
   ]
  },
  {
   "cell_type": "code",
   "execution_count": null,
   "id": "052f39a0-4f39-4bc8-8dbe-2be5cf2f34db",
   "metadata": {},
   "outputs": [],
   "source": [
    "Q6.write a python function to generate the first n fibonacci numbers?\n"
   ]
  },
  {
   "cell_type": "code",
   "execution_count": 49,
   "id": "7be298da-555b-46ea-930e-81f4f01561f6",
   "metadata": {},
   "outputs": [
    {
     "ename": "TypeError",
     "evalue": "'int' object is not iterable",
     "output_type": "error",
     "traceback": [
      "\u001b[1;31m---------------------------------------------------------------------------\u001b[0m",
      "\u001b[1;31mTypeError\u001b[0m                                 Traceback (most recent call last)",
      "Cell \u001b[1;32mIn[49], line 6\u001b[0m\n\u001b[0;32m      3\u001b[0m c\u001b[38;5;241m=\u001b[39m[]\n\u001b[0;32m      5\u001b[0m \u001b[38;5;28;01mfor\u001b[39;00m i \u001b[38;5;129;01min\u001b[39;00m \u001b[38;5;28mrange\u001b[39m(n,n\u001b[38;5;241m+\u001b[39m\u001b[38;5;241m1\u001b[39m):\n\u001b[1;32m----> 6\u001b[0m    c\u001b[38;5;241m+\u001b[39m\u001b[38;5;241m=\u001b[39mfibo[\u001b[38;5;241m0\u001b[39m\u001b[38;5;241m+\u001b[39m\u001b[38;5;241m1\u001b[39m]\n\u001b[0;32m      7\u001b[0m \u001b[38;5;28mprint\u001b[39m(c)\n",
      "\u001b[1;31mTypeError\u001b[0m: 'int' object is not iterable"
     ]
    }
   ],
   "source": [
    "fibo=[0,1]\n",
    "n=10\n",
    "c=[]\n",
    "\n",
    "for i in range(n,n+1):\n",
    "   c+=fibo[0+1]\n",
    "print(c)"
   ]
  },
  {
   "cell_type": "code",
   "execution_count": null,
   "id": "24be8afb-54cf-43b8-a1a2-42e1f785cc29",
   "metadata": {},
   "outputs": [],
   "source": [
    "Q7.write a python function to reverse a list without using list list.reverse() method or reversed() function?\n",
    "\n"
   ]
  },
  {
   "cell_type": "code",
   "execution_count": 55,
   "id": "ea9c7387-e872-47b1-b9e9-4b01a0c2e26d",
   "metadata": {},
   "outputs": [
    {
     "ename": "SyntaxError",
     "evalue": "invalid syntax (954590734.py, line 4)",
     "output_type": "error",
     "traceback": [
      "\u001b[1;36m  Cell \u001b[1;32mIn[55], line 4\u001b[1;36m\u001b[0m\n\u001b[1;33m    for i in data(1:1:-1)\u001b[0m\n\u001b[1;37m                   ^\u001b[0m\n\u001b[1;31mSyntaxError\u001b[0m\u001b[1;31m:\u001b[0m invalid syntax\n"
     ]
    }
   ],
   "source": [
    "def reverse_list(data:int):\n",
    "    data=[1,2,3,4,5]\n",
    "    reversed=[]\n",
    "    for i in data(1:1:-1)\n",
    "        reversed.append(i)\n",
    "    print(reversed)"
   ]
  },
  {
   "cell_type": "code",
   "execution_count": null,
   "id": "59f084dd-2728-42f5-9725-c54b83682692",
   "metadata": {},
   "outputs": [],
   "source": [
    "Q6.write a python function to generate the first n fibonacci numbers?"
   ]
  },
  {
   "cell_type": "code",
   "execution_count": 56,
   "id": "56be7d83-7304-4650-8b33-6d284bb116b8",
   "metadata": {},
   "outputs": [
    {
     "name": "stdout",
     "output_type": "stream",
     "text": [
      "[0, 1, 1, 2, 3, 5, 8, 13, 21, 34]\n"
     ]
    }
   ],
   "source": [
    "fibbo=[0,1]\n",
    "no=8\n",
    "\n",
    "for i in range(no-2):\n",
    "    fibbo.append(fibbo[-1]+fibbo[-2])\n",
    "print(fibbo)"
   ]
  },
  {
   "cell_type": "code",
   "execution_count": null,
   "id": "edf9e10f-d312-487d-90f3-0b106da05e18",
   "metadata": {},
   "outputs": [],
   "source": [
    "Q10. write a python function to check if two strings are anagram without using any methods?"
   ]
  },
  {
   "cell_type": "code",
   "execution_count": 71,
   "id": "86ddbd7f-6bf0-4f2b-9d3d-2b6310c9221d",
   "metadata": {},
   "outputs": [
    {
     "ename": "SyntaxError",
     "evalue": "cannot assign to function call here. Maybe you meant '==' instead of '='? (3488103920.py, line 5)",
     "output_type": "error",
     "traceback": [
      "\u001b[1;36m  Cell \u001b[1;32mIn[71], line 5\u001b[1;36m\u001b[0m\n\u001b[1;33m    data1(i)=str1(i)\u001b[0m\n\u001b[1;37m    ^\u001b[0m\n\u001b[1;31mSyntaxError\u001b[0m\u001b[1;31m:\u001b[0m cannot assign to function call here. Maybe you meant '==' instead of '='?\n"
     ]
    }
   ],
   "source": [
    "def check_anagram(str1,str2):\n",
    "    data1=()\n",
    "    data2=()\n",
    "    for i in str1:\n",
    "        data1(i)=str1(i)\n",
    "        for j in str2:\n",
    "            data2(i)=str2(i)\n",
    "            if data1==data2:\n",
    "                return('anagram')\n",
    "            else:\n",
    "                return('not an anagram')\n",
    "        "
   ]
  },
  {
   "cell_type": "code",
   "execution_count": null,
   "id": "5d191e5c-52b9-4907-a97d-d57c2cb74011",
   "metadata": {},
   "outputs": [],
   "source": []
  },
  {
   "cell_type": "code",
   "execution_count": 70,
   "id": "0ee19af5-31b8-4067-a052-c4068898368b",
   "metadata": {},
   "outputs": [
    {
     "ename": "TypeError",
     "evalue": "'str' object is not callable",
     "output_type": "error",
     "traceback": [
      "\u001b[1;31m---------------------------------------------------------------------------\u001b[0m",
      "\u001b[1;31mTypeError\u001b[0m                                 Traceback (most recent call last)",
      "Cell \u001b[1;32mIn[70], line 1\u001b[0m\n\u001b[1;32m----> 1\u001b[0m check_anagram(\u001b[38;5;124m'\u001b[39m\u001b[38;5;124mnitin\u001b[39m\u001b[38;5;124m'\u001b[39m,\u001b[38;5;124m'\u001b[39m\u001b[38;5;124mnitin\u001b[39m\u001b[38;5;124m'\u001b[39m )\n",
      "Cell \u001b[1;32mIn[69], line 5\u001b[0m, in \u001b[0;36mcheck_anagram\u001b[1;34m(str1, str2)\u001b[0m\n\u001b[0;32m      3\u001b[0m data2\u001b[38;5;241m=\u001b[39m{}\n\u001b[0;32m      4\u001b[0m \u001b[38;5;28;01mfor\u001b[39;00m i \u001b[38;5;129;01min\u001b[39;00m str1:\n\u001b[1;32m----> 5\u001b[0m     data1[i]\u001b[38;5;241m=\u001b[39mstr1(i)\n\u001b[0;32m      6\u001b[0m     \u001b[38;5;28;01mfor\u001b[39;00m j \u001b[38;5;129;01min\u001b[39;00m str2:\n\u001b[0;32m      7\u001b[0m         data2[i]\u001b[38;5;241m=\u001b[39mstr2(i)\n",
      "\u001b[1;31mTypeError\u001b[0m: 'str' object is not callable"
     ]
    }
   ],
   "source": [
    "check_anagram('nitin','nitin' )"
   ]
  },
  {
   "cell_type": "code",
   "execution_count": null,
   "id": "26eaa590-d3db-46b3-9a05-dff75dd53c72",
   "metadata": {},
   "outputs": [],
   "source": [
    "Q8.Explain the concept of *args and **kwargs in function and differnce between b/w return and return with examples?"
   ]
  },
  {
   "cell_type": "code",
   "execution_count": null,
   "id": "27b2523f-1a86-4175-92ba-d3df5f33acf8",
   "metadata": {},
   "outputs": [],
   "source": [
    "The help of special symbols pre-defined by Python which are known as *args and **kwargs. The args stands for arguments that are passed to the function whereas kwargs stands for keyword arguments which are passed along with the values into the function."
   ]
  },
  {
   "cell_type": "code",
   "execution_count": null,
   "id": "7d814eeb-d627-47ee-8fcc-0f105c36b7e8",
   "metadata": {},
   "outputs": [],
   "source": [
    "Q12.Explain the differnce ways to import module and methoda provide an example of some math,random,and time module?\n",
    "ans.(a)TIME MODULE\n",
    "    import time:\n",
    "    time.sleep(0.5)\n",
    "\n",
    "    (b)RANDOM MODULE\n",
    "    import random:\n",
    "    random.randint(1,100)\n"
   ]
  },
  {
   "cell_type": "code",
   "execution_count": null,
   "id": "80be6933-e73b-4c11-91f2-c81907d6396e",
   "metadata": {},
   "outputs": [],
   "source": [
    "Q13.write a program taht catches a value error or type error exception and prints an appropriate message ,what are the different block of try and exception handling? "
   ]
  },
  {
   "cell_type": "code",
   "execution_count": 77,
   "id": "3f115527-5934-4560-97d5-9ea135fc59f9",
   "metadata": {},
   "outputs": [
    {
     "name": "stdout",
     "output_type": "stream",
     "text": [
      "hello\n",
      "I Love India\n",
      "pyhton\n",
      "pyhton\n",
      "pyhton\n",
      "pyhton\n",
      "pyhton\n",
      "\n"
     ]
    }
   ],
   "source": [
    "print('hello')\n",
    "print('I Love India')\n",
    "try:\n",
    "    print(1/0)\n",
    "except:\n",
    "    print('pyhton\\n'*5)"
   ]
  },
  {
   "cell_type": "code",
   "execution_count": null,
   "id": "98c33800-cc4e-4a97-b9a7-90c23791e943",
   "metadata": {},
   "outputs": [],
   "source": [
    "Q14.write a python program to read a textual file and write it into a new file ,explain different modes of file handling with explanation?"
   ]
  },
  {
   "cell_type": "code",
   "execution_count": 84,
   "id": "880a14fb-bb41-4513-b575-bddb90a344ab",
   "metadata": {},
   "outputs": [
    {
     "ename": "SyntaxError",
     "evalue": "unexpected character after line continuation character (374542975.py, line 1)",
     "output_type": "error",
     "traceback": [
      "\u001b[1;36m  Cell \u001b[1;32mIn[84], line 1\u001b[1;36m\u001b[0m\n\u001b[1;33m    data=(r\"C:\\Users\\Mahima Sagar\\Desktop\\students.csv\"\\r)\u001b[0m\n\u001b[1;37m                                                        ^\u001b[0m\n\u001b[1;31mSyntaxError\u001b[0m\u001b[1;31m:\u001b[0m unexpected character after line continuation character\n"
     ]
    }
   ],
   "source": [
    "data=(r\"C:\\Users\\Mahima Sagar\\Desktop\\students.csv\")"
   ]
  },
  {
   "cell_type": "code",
   "execution_count": 81,
   "id": "eb9bc423-4669-4b2e-9fa6-707340b685ff",
   "metadata": {},
   "outputs": [
    {
     "name": "stdout",
     "output_type": "stream",
     "text": [
      "C:\\Users\\Mahima Sagar\\Desktop\\students.csv\n"
     ]
    }
   ],
   "source": [
    "print(data)"
   ]
  },
  {
   "cell_type": "code",
   "execution_count": null,
   "id": "956e7206-8363-4240-8f15-93235eecdf47",
   "metadata": {},
   "outputs": [],
   "source": [
    "Q1.Explain the differnce between mutable and immutable data types in pyhton provide examples for both?"
   ]
  },
  {
   "cell_type": "code",
   "execution_count": null,
   "id": "b18553ce-6dce-43fc-a928-41b9df1f32f4",
   "metadata": {},
   "outputs": [],
   "source": [
    "Python being a dynamically-typed language offers a variety of mutable and immutable objects. Lists, dictionaries, and sets are instances of mutable objects, while numbers, strings, and tuples are instances of immutable object\n",
    "s. "
   ]
  },
  {
   "cell_type": "code",
   "execution_count": null,
   "id": "feec3a3b",
   "metadata": {},
   "outputs": [],
   "source": []
  },
  {
   "cell_type": "markdown",
   "id": "8639a7a5",
   "metadata": {},
   "source": [
    "# Mahima Test remarks"
   ]
  },
  {
   "cell_type": "markdown",
   "id": "5cb11ab5",
   "metadata": {},
   "source": [
    "1. 2 Marks, Example Missed\n",
    "\n",
    "2. 0 Marks, Not attempted\n",
    "\n",
    "3. 0 Marks, Not attempted\n",
    "\n",
    "4. 2 Marks, Incomplete Logic\n",
    "\n",
    "5. 2.5 marks, Incomplete Logic\n",
    "\n",
    "6. 4 Marks, Good\n",
    "\n",
    "7. 1.5 Marks, Incomplete Code\n",
    "\n",
    "8. 2 Marks, Good Explanation, But Example Missed\n",
    "\n",
    "9. 0 Marks, Not attempted\n",
    "\n",
    "10. 2.5 Marks Indentation Logic Error\n",
    "\n",
    "11. 4 Marks, Good\n",
    "\n",
    "12. 2 Marks, Half Answer\n",
    "\n",
    "13. 1.5 Marks, Incomplete Answer\n",
    "\n",
    "14. 0.5 Marks, Wrong attempt\n",
    "\n",
    "15. 0 Marks, Not attempted\n",
    "\n",
    "Final Remarks: 24.5/60, Need More focus on Answer explanation, Most code incomplete, focus on Logic building, Increase typing speed"
   ]
  },
  {
   "cell_type": "code",
   "execution_count": null,
   "id": "d9634e81",
   "metadata": {},
   "outputs": [],
   "source": []
  }
 ],
 "metadata": {
  "kernelspec": {
   "display_name": "Python 3 (ipykernel)",
   "language": "python",
   "name": "python3"
  },
  "language_info": {
   "codemirror_mode": {
    "name": "ipython",
    "version": 3
   },
   "file_extension": ".py",
   "mimetype": "text/x-python",
   "name": "python",
   "nbconvert_exporter": "python",
   "pygments_lexer": "ipython3",
   "version": "3.11.3"
  }
 },
 "nbformat": 4,
 "nbformat_minor": 5
}
