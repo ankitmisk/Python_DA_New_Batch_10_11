{
 "cells": [
  {
   "cell_type": "code",
   "execution_count": 125,
   "id": "3b6db8ab-6473-473e-822c-c2de35303b58",
   "metadata": {},
   "outputs": [],
   "source": [
    "\n",
    "#\n",
    "\n",
    "    "
   ]
  },
  {
   "cell_type": "code",
   "execution_count": null,
   "id": "6e0a5b8b-200f-48ef-b871-e8bc042a6ab8",
   "metadata": {},
   "outputs": [],
   "source": []
  },
  {
   "cell_type": "code",
   "execution_count": 150,
   "id": "256a3fee-0e66-425c-933e-968253dc49dc",
   "metadata": {},
   "outputs": [],
   "source": [
    "# Q4. Write a Python function to print all the prime numbers between number 1 and number2.\n",
    "def check_pri(num1:int,num2:int):\n",
    "   \n",
    "    for i in range(num1,num2+1):\n",
    "            if i%2==0:\n",
    "               \n",
    "                print (f'it is not a prime number',{i})\n",
    "                \n",
    "            else:\n",
    "                print (f'it is a prime number',{i})\n",
    "                \n",
    "   \n",
    "            "
   ]
  },
  {
   "cell_type": "code",
   "execution_count": 151,
   "id": "a39c21d0-3dfa-4aff-bb64-9a8592405e22",
   "metadata": {},
   "outputs": [
    {
     "name": "stdout",
     "output_type": "stream",
     "text": [
      "it is a prime number {1}\n",
      "it is not a prime number {2}\n",
      "it is a prime number {3}\n",
      "it is not a prime number {4}\n",
      "it is a prime number {5}\n",
      "it is not a prime number {6}\n",
      "it is a prime number {7}\n",
      "it is not a prime number {8}\n",
      "it is a prime number {9}\n",
      "it is not a prime number {10}\n"
     ]
    }
   ],
   "source": [
    "check_pri(1,10)"
   ]
  },
  {
   "cell_type": "code",
   "execution_count": 80,
   "id": "c829273f-f092-41a6-9ad9-eb8915df4143",
   "metadata": {},
   "outputs": [
    {
     "name": "stdout",
     "output_type": "stream",
     "text": [
      "* * * * * * * \n",
      "* * * * * * \n",
      "* * * * * \n",
      "* * * * \n",
      "* * * \n",
      "* * \n",
      "* \n"
     ]
    }
   ],
   "source": [
    "#Q11. write a python program to print the given pattern.\n",
    "no=6\n",
    "for i in range(no+1):\n",
    "    for j in range(i,no+1):\n",
    "        print('*', end=\" \")\n",
    "\n",
    "    print()\n"
   ]
  },
  {
   "cell_type": "code",
   "execution_count": null,
   "id": "0dca19d4-4ffa-42ca-8342-104eacac454a",
   "metadata": {},
   "outputs": [],
   "source": []
  },
  {
   "cell_type": "code",
   "execution_count": null,
   "id": "50fb901c-15ce-4f80-a1dc-14092f0560a2",
   "metadata": {},
   "outputs": [],
   "source": [
    "\n"
   ]
  },
  {
   "cell_type": "code",
   "execution_count": 3,
   "id": "62a4f01e-6edf-49e6-82a1-6e4521c5d6be",
   "metadata": {},
   "outputs": [],
   "source": [
    "#Q5. create a function to check given numbers is an armstrong or not.\n",
    "def check_arms(number:int):\n",
    "    arm = len(str(number))\n",
    "    result = 0\n",
    "    for i in str(number):\n",
    "        result += int(i)**arm\n",
    "        if result == number:\n",
    "            print ('it is not an Armstrong')\n",
    "        else:\n",
    "            print(' It is armstrong')\n",
    "\n",
    "        "
   ]
  },
  {
   "cell_type": "code",
   "execution_count": 4,
   "id": "8469f7dc-5d69-4686-ad28-5ad9f824af15",
   "metadata": {},
   "outputs": [
    {
     "name": "stdout",
     "output_type": "stream",
     "text": [
      " It is armstrong\n",
      " It is armstrong\n",
      "it is not an Armstrong\n"
     ]
    }
   ],
   "source": [
    "check_arms(153)"
   ]
  },
  {
   "cell_type": "code",
   "execution_count": null,
   "id": "a54d175c-b02f-47b9-a124-c16acaad22ec",
   "metadata": {},
   "outputs": [],
   "source": []
  },
  {
   "cell_type": "code",
   "execution_count": 104,
   "id": "1ccd17da-fdcd-451d-a527-1f9a31aa3988",
   "metadata": {},
   "outputs": [
    {
     "name": "stdout",
     "output_type": "stream",
     "text": [
      " It is armstrong\n",
      " It is armstrong\n",
      "it is not an Armstrong\n"
     ]
    }
   ],
   "source": [
    "check_arms(153)"
   ]
  },
  {
   "cell_type": "code",
   "execution_count": 52,
   "id": "be42ea4a-feae-40d1-b2be-42f365fdbc4e",
   "metadata": {},
   "outputs": [],
   "source": [
    "\n",
    "\n",
    "        "
   ]
  },
  {
   "cell_type": "code",
   "execution_count": 7,
   "id": "01931a1e-338e-4a7e-824b-bec430f07e9e",
   "metadata": {},
   "outputs": [],
   "source": [
    "# Q10.Write a python function to check if to strings are anagram without using any methods.\n",
    "\n",
    "def check_anagram(word:'str',word2:'str')  :\n",
    "    d1 = {}\n",
    "    d2 = {}\n",
    "    \n",
    "    for i in word:\n",
    "        d1[i] = word.count(i)\n",
    "        \n",
    "    for j in word2:\n",
    "        d2[j] = word2.count(j)\n",
    "        if d1  == d2:\n",
    "            print('It is a anagram')\n",
    "        else:\n",
    "            print(\"Not an Anagram\")"
   ]
  },
  {
   "cell_type": "code",
   "execution_count": 8,
   "id": "117c86bb-2bf9-4c4e-812d-9808898d5ec6",
   "metadata": {},
   "outputs": [
    {
     "name": "stdout",
     "output_type": "stream",
     "text": [
      "Not an Anagram\n",
      "Not an Anagram\n",
      "It is a anagram\n"
     ]
    }
   ],
   "source": [
    "check_anagram('ear','are')"
   ]
  },
  {
   "cell_type": "code",
   "execution_count": 63,
   "id": "0f2fb2c8-d4b2-4144-8f80-0d4d36e4352a",
   "metadata": {},
   "outputs": [],
   "source": []
  },
  {
   "cell_type": "code",
   "execution_count": null,
   "id": "f02bd75f-5acc-499e-af41-2d3f40ea5823",
   "metadata": {},
   "outputs": [],
   "source": []
  },
  {
   "cell_type": "code",
   "execution_count": 65,
   "id": "179302c6-621a-4273-8d69-602762507b2d",
   "metadata": {},
   "outputs": [],
   "source": [
    "#Q6. Write a python function to generate the first n fibonacci numbers.\n",
    "def get_fibbo(numb:'int'):\n",
    "    \n",
    "    if type(numb) == int:\n",
    "    \n",
    "        fibbo = [0,1]\n",
    "\n",
    "        for i in range(numb-2):\n",
    "            fibbo.append(fibbo[-1] + fibbo[-2])\n",
    "        print ('fibbo is:', fibbo)\n",
    "    "
   ]
  },
  {
   "cell_type": "code",
   "execution_count": 105,
   "id": "a8134742-efe4-4635-bbe9-953e92bb0ce7",
   "metadata": {},
   "outputs": [
    {
     "name": "stdout",
     "output_type": "stream",
     "text": [
      "fibbo is: [0, 1, 1, 2, 3]\n"
     ]
    }
   ],
   "source": [
    "get_fibbo(5)"
   ]
  },
  {
   "cell_type": "code",
   "execution_count": null,
   "id": "aa7e24ad-a0e2-4cf9-baed-e5bb1bad312d",
   "metadata": {},
   "outputs": [],
   "source": [
    "#Q1. Explain the mutables and immutable data types in python. Provide examples for both.\n",
    "\n",
    "# Ans. Python has mainly two kinds of data types such as mutables and immutables. Mutable data types\n",
    "# contains data which can be changed as per the requirements of user whereas Immutables datatypes contain\n",
    "# data which can not be changed. examples for mutables datatypes are lists and for immutables are sets nd tuples.\n",
    "\n",
    "\n"
   ]
  },
  {
   "cell_type": "code",
   "execution_count": null,
   "id": "46b12894-b08d-4e28-8dd6-8e4b67902a81",
   "metadata": {},
   "outputs": [],
   "source": [
    "# Q8. 2. difference between return and print with examples.\n",
    "#Ans. The main difference between return and print is that return allows you to perform further mathematical applications on the result. Return\n",
    "#also makes your code look crisp and easy to understand. In contrast, print is used only to show the result and \n",
    "#you won't be able to change it without going to the code block prior to print.\n",
    "\n",
    "\n"
   ]
  },
  {
   "cell_type": "code",
   "execution_count": 110,
   "id": "0c4de238-5eb5-4f76-a788-2b67ddc628e1",
   "metadata": {},
   "outputs": [
    {
     "name": "stdin",
     "output_type": "stream",
     "text": [
      "enter a no. here:  s\n"
     ]
    },
    {
     "ename": "ValueError",
     "evalue": "invalid literal for int() with base 10: 's'",
     "output_type": "error",
     "traceback": [
      "\u001b[1;31m---------------------------------------------------------------------------\u001b[0m",
      "\u001b[1;31mValueError\u001b[0m                                Traceback (most recent call last)",
      "Cell \u001b[1;32mIn[110], line 4\u001b[0m\n\u001b[0;32m      1\u001b[0m \u001b[38;5;66;03m#Q 13. write a python program that catches a value Error or Type Error exception and prints an approprite \u001b[39;00m\n\u001b[0;32m      2\u001b[0m \u001b[38;5;66;03m# message,what are the different Block of try and exception handling.\u001b[39;00m\n\u001b[1;32m----> 4\u001b[0m b\u001b[38;5;241m=\u001b[39m\u001b[38;5;28mint\u001b[39m(\u001b[38;5;28minput\u001b[39m (\u001b[38;5;124m'\u001b[39m\u001b[38;5;124menter a no. here: \u001b[39m\u001b[38;5;124m'\u001b[39m))\n\u001b[0;32m      5\u001b[0m \u001b[38;5;28mprint\u001b[39m(b)\n",
      "\u001b[1;31mValueError\u001b[0m: invalid literal for int() with base 10: 's'"
     ]
    }
   ],
   "source": [
    "#Q 13. write a python program that catches a value Error or Type Error exception and prints an approprite \n",
    "# message,what are the different Block of try and exception handling.\n",
    "\n",
    "b=int(input ('enter a no. here: '))\n",
    "print(b)"
   ]
  },
  {
   "cell_type": "code",
   "execution_count": null,
   "id": "8e1124e5-d073-4c09-82cb-bb3672b56754",
   "metadata": {},
   "outputs": [],
   "source": []
  },
  {
   "cell_type": "code",
   "execution_count": 112,
   "id": "da6449c3-ddfb-4adf-8a90-b2a1c1150847",
   "metadata": {},
   "outputs": [
    {
     "name": "stdin",
     "output_type": "stream",
     "text": [
      "enter a no. here:  f\n"
     ]
    },
    {
     "name": "stdout",
     "output_type": "stream",
     "text": [
      "try a no. instead of string\n"
     ]
    }
   ],
   "source": [
    "\n",
    "try:\n",
    "    b=int(input ('enter a no. here: '))\n",
    "    print(b)\n",
    "except:\n",
    "    print('try a no. instead of string')"
   ]
  },
  {
   "cell_type": "code",
   "execution_count": 113,
   "id": "177fa68e-8622-4041-b7d0-1fe9f3dd1e07",
   "metadata": {},
   "outputs": [
    {
     "ename": "TypeError",
     "evalue": "can only concatenate list (not \"str\") to list",
     "output_type": "error",
     "traceback": [
      "\u001b[1;31m---------------------------------------------------------------------------\u001b[0m",
      "\u001b[1;31mTypeError\u001b[0m                                 Traceback (most recent call last)",
      "Cell \u001b[1;32mIn[113], line 3\u001b[0m\n\u001b[0;32m      1\u001b[0m n\u001b[38;5;241m=\u001b[39m[\u001b[38;5;241m2\u001b[39m,\u001b[38;5;241m3\u001b[39m,\u001b[38;5;241m4\u001b[39m,\u001b[38;5;241m5\u001b[39m]\n\u001b[0;32m      2\u001b[0m b\u001b[38;5;241m=\u001b[39m\u001b[38;5;124m'\u001b[39m\u001b[38;5;124mshiksha\u001b[39m\u001b[38;5;124m'\u001b[39m\n\u001b[1;32m----> 3\u001b[0m n\u001b[38;5;241m+\u001b[39mb\n",
      "\u001b[1;31mTypeError\u001b[0m: can only concatenate list (not \"str\") to list"
     ]
    }
   ],
   "source": [
    "n=[2,3,4,5]\n",
    "b='shiksha'\n",
    "n+b\n"
   ]
  },
  {
   "cell_type": "code",
   "execution_count": 117,
   "id": "4ca92f06-2999-4f10-9871-1234ed9847e2",
   "metadata": {},
   "outputs": [
    {
     "name": "stdout",
     "output_type": "stream",
     "text": [
      "string cannot be concatenated with a list\n"
     ]
    }
   ],
   "source": [
    "try:\n",
    "    n=[2,3,4,5]\n",
    "    b='shiksha'\n",
    "    c=n+b\n",
    "except:\n",
    "    print ('string cannot be concatenated with a list')"
   ]
  },
  {
   "cell_type": "code",
   "execution_count": null,
   "id": "d41a3078-b15f-4f7f-8a8e-da8894968c00",
   "metadata": {},
   "outputs": [],
   "source": [
    "# Q15.wrte a python program using regular expressions to find all email address in a given string.\n",
    "     text=\"contact us at at techvidya@education.com or support@techvidya.org\""
   ]
  },
  {
   "cell_type": "code",
   "execution_count": null,
   "id": "327418c7",
   "metadata": {},
   "outputs": [],
   "source": []
  },
  {
   "cell_type": "markdown",
   "id": "ff213c38",
   "metadata": {},
   "source": [
    "# Shiksha Test Remarks"
   ]
  },
  {
   "cell_type": "markdown",
   "id": "8f0da1df",
   "metadata": {},
   "source": [
    "1. 2.5 Marks, Example Missed\n",
    "\n",
    "2. \n",
    "\n",
    "3. \n",
    "\n",
    "4. 2 Marks, Wrong Logic\n",
    "\n",
    "5. 2 Marks, Good Try but wrong Logic\n",
    "\n",
    "6. 4 Marks, Good\n",
    "\n",
    "7. \n",
    "\n",
    "8. 2.5 Marks, Example Missed\n",
    "\n",
    "9. \n",
    "\n",
    "10. 3.5 Marks, Indentation issue\n",
    "\n",
    "11. 1 Marks, Wrong Pattern Code\n",
    "\n",
    "12. \n",
    "\n",
    "13. 4 Marks, Good\n",
    "\n",
    "14. \n",
    "\n",
    "15. \n",
    "\n",
    "Final Remarks: 21.5/60 Good theoretical Explanation, Example Missed, Typing speed increase, Focus on indentation, Focus on Logic, Do more practice \n",
    "\n",
    "  "
   ]
  },
  {
   "cell_type": "code",
   "execution_count": null,
   "id": "5737532f",
   "metadata": {},
   "outputs": [],
   "source": []
  }
 ],
 "metadata": {
  "kernelspec": {
   "display_name": "Python 3 (ipykernel)",
   "language": "python",
   "name": "python3"
  },
  "language_info": {
   "codemirror_mode": {
    "name": "ipython",
    "version": 3
   },
   "file_extension": ".py",
   "mimetype": "text/x-python",
   "name": "python",
   "nbconvert_exporter": "python",
   "pygments_lexer": "ipython3",
   "version": "3.11.3"
  }
 },
 "nbformat": 4,
 "nbformat_minor": 5
}
