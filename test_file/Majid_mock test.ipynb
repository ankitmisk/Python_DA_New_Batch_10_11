{
 "cells": [
  {
   "cell_type": "code",
   "execution_count": 11,
   "id": "1a03212b-1b51-4abd-af18-ea50d3bb5ff6",
   "metadata": {},
   "outputs": [],
   "source": [
    "# Q 11. write a python program to print the given pattern\n",
    "def pyramid_pattern(num):\n",
    "    for i in range(num):\n",
    "        print(' '*(num-i-1)+ ' *'*(i+1))\n",
    "        \n"
   ]
  },
  {
   "cell_type": "code",
   "execution_count": 12,
   "id": "fda02ee6-fd27-4a4f-9f29-5f1eadad3ff4",
   "metadata": {},
   "outputs": [
    {
     "name": "stdout",
     "output_type": "stream",
     "text": [
      "        *\n",
      "       * *\n",
      "      * * *\n",
      "     * * * *\n",
      "    * * * * *\n",
      "   * * * * * *\n",
      "  * * * * * * *\n",
      " * * * * * * * *\n"
     ]
    }
   ],
   "source": [
    "pyramid_pattern(8)"
   ]
  },
  {
   "cell_type": "code",
   "execution_count": 20,
   "id": "ddedfea7-11aa-47e4-b5f8-85463bb69b19",
   "metadata": {},
   "outputs": [],
   "source": [
    "# Q 6. write a python function to genr=erate the first n fibonacci number\n",
    "def fibo_number(number):\n",
    "    fibo =[0,1]\n",
    "    for i in range(number - 2):\n",
    "        fibo.append(fibo[-1]+fibo[-2])\n",
    "    return fibo"
   ]
  },
  {
   "cell_type": "code",
   "execution_count": 22,
   "id": "3f892233-38be-441a-b83e-e2c9dd411d45",
   "metadata": {},
   "outputs": [
    {
     "data": {
      "text/plain": [
       "[0, 1, 1, 2, 3, 5, 8, 13, 21, 34, 55, 89, 144, 233, 377, 610, 987, 1597, 2584]"
      ]
     },
     "execution_count": 22,
     "metadata": {},
     "output_type": "execute_result"
    }
   ],
   "source": [
    "fibo_number(19)"
   ]
  },
  {
   "cell_type": "code",
   "execution_count": 39,
   "id": "ba3317d8-2248-43ef-a890-082e9a5102fc",
   "metadata": {},
   "outputs": [],
   "source": [
    "# write a python function to print all prime number between given number1 and number2\n",
    "\n",
    "    "
   ]
  },
  {
   "cell_type": "code",
   "execution_count": null,
   "id": "addee058-6a33-482a-92ec-547c932b2fbe",
   "metadata": {},
   "outputs": [],
   "source": []
  },
  {
   "cell_type": "code",
   "execution_count": null,
   "id": "047fbfc5-5963-46ad-b183-5510067ffd23",
   "metadata": {},
   "outputs": [],
   "source": []
  },
  {
   "cell_type": "code",
   "execution_count": 38,
   "id": "d5417dce-285d-43a3-a22a-6772508990ad",
   "metadata": {},
   "outputs": [
    {
     "name": "stdout",
     "output_type": "stream",
     "text": [
      "8 not a prime no\n"
     ]
    }
   ],
   "source": [
    "# write a python function to print all prime number between given number1 and number2\n",
    "num=8\n",
    "for i in range (2,num):\n",
    "    if num%i==0:\n",
    "        print(f'{num} not a prime no')\n",
    "        break\n",
    "else:\n",
    "    print('prime no')"
   ]
  },
  {
   "cell_type": "code",
   "execution_count": 1,
   "id": "4529e03f-45c0-48aa-b74e-46027467e87d",
   "metadata": {},
   "outputs": [],
   "source": [
    "#Q1. create a function to check given number is an armstrong number or not  \n",
    "def check_armstrong(number : 'int'):\n",
    "    length= len(str (number))\n",
    "    result=0\n",
    "    for i in str(number):\n",
    "        result+=int(i)**length\n",
    "    return 'arms' if result ==number else 'not  a armstrong'"
   ]
  },
  {
   "cell_type": "code",
   "execution_count": 4,
   "id": "7a33abe5-8361-4258-8c17-617f56beb15c",
   "metadata": {},
   "outputs": [
    {
     "data": {
      "text/plain": [
       "'not  a armstrong'"
      ]
     },
     "execution_count": 4,
     "metadata": {},
     "output_type": "execute_result"
    }
   ],
   "source": [
    "check_armstrong(10)"
   ]
  },
  {
   "cell_type": "code",
   "execution_count": null,
   "id": "d7becfc4-4480-4473-9108-47d841b5dce0",
   "metadata": {},
   "outputs": [],
   "source": [
    "#Q8. explain the concept of *args and **kwargs in function and difference b/w print example"
   ]
  },
  {
   "cell_type": "code",
   "execution_count": 40,
   "id": "880acafe-2fa1-421a-84f2-17d25c0f5858",
   "metadata": {},
   "outputs": [],
   "source": [
    "#Q10. WRITE  A PYTHON FUNCTION TO CHECK IF TWO STRING ARE ANAGRAMS WITHOUT USING ANY METHODS.\n",
    "def check_anagram(str1,str2):\n",
    "    data1 ={}\n",
    "    data2 ={}\n",
    "    for i in str1:\n",
    "        data1[i]=str1.count(i)\n",
    "    for j in str2:\n",
    "        data2[j]=str2.count(j)\n",
    "    return 'anagram' if (data1==data2) else 'not an anagram'"
   ]
  },
  {
   "cell_type": "code",
   "execution_count": 43,
   "id": "9bc4c42e-788c-4a82-b7ae-c3439a66b6d5",
   "metadata": {},
   "outputs": [
    {
     "data": {
      "text/plain": [
       "'not an anagram'"
      ]
     },
     "execution_count": 43,
     "metadata": {},
     "output_type": "execute_result"
    }
   ],
   "source": [
    "check_anagram('majid','sajid')"
   ]
  },
  {
   "cell_type": "code",
   "execution_count": 61,
   "id": "e90740e9-1821-4a36-a8d8-c65f1a459d10",
   "metadata": {},
   "outputs": [],
   "source": [
    "#Q2 . LIST OUT ALL THE PYHTON KEYWORD AND EXPLAIN LAMBDA CONCEPT USING MAP , FILTER AND REDUCE\n",
    "#  ANS = IN LAMBDA  WITH THE HELP OF MAP FUNCTION WE CAN CHECK THE THE THE DATA THAT IT IS DIVISIBLE BY GIVEN NUMBER OR NOT\n",
    "# IF IT IS DIVISIBLE BY GIVEN NUMBER IT WILL GIVE US THAT NUMBER AND IF IT DOSE NOT DIVISIBLE BY GIVEN NUMBER IT WILL NOT GIVE US OUTPUT \n",
    "# MAP FUNCTION DOES NOT GIVE ERROR \n",
    "# IN MAP FUNCTION MAP GIVES YOU ONLY THAT WHICH IS DIVIBLE BY GIVEN NUMBER\n",
    "data = [23,4,5464,23,433,5,45,45,345,366,6,676,345]\n",
    "check = lambda x : x if x%3 == 0 else None"
   ]
  },
  {
   "cell_type": "code",
   "execution_count": 62,
   "id": "196dc612-d170-459b-bbbe-87c96a394258",
   "metadata": {},
   "outputs": [
    {
     "data": {
      "text/plain": [
       "9"
      ]
     },
     "execution_count": 62,
     "metadata": {},
     "output_type": "execute_result"
    }
   ],
   "source": [
    "check(9)"
   ]
  },
  {
   "cell_type": "code",
   "execution_count": 63,
   "id": "ef118fa8-80ad-4c55-bfee-ab5fdba73477",
   "metadata": {},
   "outputs": [
    {
     "data": {
      "text/plain": [
       "[None, None, None, None, None, None, 45, 45, 345, 366, 6, None, 345]"
      ]
     },
     "execution_count": 63,
     "metadata": {},
     "output_type": "execute_result"
    }
   ],
   "source": [
    "list(map(check,data))"
   ]
  },
  {
   "cell_type": "code",
   "execution_count": 64,
   "id": "31dfcb19-0809-4dd2-bd35-009c5a0064b3",
   "metadata": {},
   "outputs": [],
   "source": [
    "# FILTER = FILTER GIVES ALL THE NUMBER WHICH ARE DIVISIBLE BY GIVEN NUMBER"
   ]
  },
  {
   "cell_type": "code",
   "execution_count": 65,
   "id": "ee9b1672-358e-4845-b9e3-9a5a98959a0d",
   "metadata": {},
   "outputs": [
    {
     "data": {
      "text/plain": [
       "[45, 45, 345, 366, 6, 345]"
      ]
     },
     "execution_count": 65,
     "metadata": {},
     "output_type": "execute_result"
    }
   ],
   "source": [
    "list(filter(check,data))"
   ]
  },
  {
   "cell_type": "code",
   "execution_count": 66,
   "id": "3e367464-c205-4ca4-835f-ae94d3163d9d",
   "metadata": {},
   "outputs": [
    {
     "data": {
      "text/plain": [
       "[45, 45, 345, 366, 6, 345]"
      ]
     },
     "execution_count": 66,
     "metadata": {},
     "output_type": "execute_result"
    }
   ],
   "source": [
    "list(filter(lambda x : x if x%3 == 0 else None,data))\n",
    "\n"
   ]
  },
  {
   "cell_type": "code",
   "execution_count": 85,
   "id": "1121de7a-7dd0-445d-92b9-6c6dd6f336be",
   "metadata": {},
   "outputs": [],
   "source": [
    "#Q 9. WHAT IS GENERATOR AND YIELD CONCEPT IN PYTHON\n",
    "#YIELD = YIELD HELP US TO GIVE ELEMENTS ONE BY ONE FOE EXAMPLE -:\n",
    "def give_one_by_one_element():\n",
    "    yield 'we are in noida'\n",
    "    yield 'we are giving  python mock test'\n",
    "    yield 'if we scored good marks we will get job'\n",
    "    yield 'thank you'"
   ]
  },
  {
   "cell_type": "code",
   "execution_count": 86,
   "id": "ee8a0fa7-20fa-409b-b3e5-f52327118ba4",
   "metadata": {},
   "outputs": [],
   "source": [
    " give_me_elements=give_one_by_one_element()"
   ]
  },
  {
   "cell_type": "code",
   "execution_count": 87,
   "id": "dc53bd30-6055-4e39-8e27-53db861fdb7a",
   "metadata": {},
   "outputs": [
    {
     "data": {
      "text/plain": [
       "<generator object give_one_by_one_element at 0x0000026FCE0E1FE0>"
      ]
     },
     "execution_count": 87,
     "metadata": {},
     "output_type": "execute_result"
    }
   ],
   "source": [
    "give_me_elements"
   ]
  },
  {
   "cell_type": "code",
   "execution_count": 89,
   "id": "b0cad099-3826-4ec4-8de9-b6a487222646",
   "metadata": {},
   "outputs": [
    {
     "data": {
      "text/plain": [
       "'we are giving  python mock test'"
      ]
     },
     "execution_count": 89,
     "metadata": {},
     "output_type": "execute_result"
    }
   ],
   "source": [
    "next(give_me_elements)"
   ]
  },
  {
   "cell_type": "code",
   "execution_count": null,
   "id": "495d07a2-289b-4b20-bf4b-574a59a705a4",
   "metadata": {},
   "outputs": [],
   "source": [
    "# Q 1. explain the difference between mutuable and immutable in data type in python . provide example for both .\n",
    "\n",
    " #answer =\n",
    "        # mutable = we can change the mutable data type for example we can change the elemnts of list data type \n",
    "       # immutable = we cannot change the immutable data type after creation for example we annot cahnge the set data \n",
    "\n"
   ]
  },
  {
   "cell_type": "code",
   "execution_count": null,
   "id": "6841c2b6-83d0-4b5e-a5e0-906db846ce3d",
   "metadata": {},
   "outputs": [],
   "source": [
    "#Q8. explain the concept of *args and **kwargs in function and difference b/w print example\n",
    "#answer\n",
    "    # *args = *args helps user to add more than one number \n",
    "    # **args =  \n",
    "    # print = print help us to print whatever written in print it will give you as it is\n",
    "    # return = "
   ]
  },
  {
   "cell_type": "code",
   "execution_count": 99,
   "id": "ded3ee59-e3fa-4923-aac8-f6bc8eeb725e",
   "metadata": {},
   "outputs": [
    {
     "data": {
      "text/plain": [
       "[98, 66, 644, 45, 23, 12]"
      ]
     },
     "execution_count": 99,
     "metadata": {},
     "output_type": "execute_result"
    }
   ],
   "source": [
    "#Q7. write a python funtion to reverse a list without using list.reverse() method or reversed()function\n",
    "a = [12,23,45,644,66,98]\n",
    "a[::-1]"
   ]
  },
  {
   "cell_type": "code",
   "execution_count": null,
   "id": "53070e8c-e51b-4522-afc0-28d789175ccb",
   "metadata": {},
   "outputs": [],
   "source": []
  },
  {
   "cell_type": "markdown",
   "id": "3a0aa1b4",
   "metadata": {},
   "source": [
    "# Majid Test Remarks\n",
    "\n",
    "1. 2.5 Marks, Some Example Missed\n",
    "\n",
    "2. 2.5 Good Attempt, But some Proper explanation missed\n",
    "\n",
    "3. 0 Marks, Not attempted\n",
    "\n",
    "4. 2.5 Marks, Incomplete code\n",
    "\n",
    "5. 4 Marks, good\n",
    "\n",
    "6. 4 Marks, good\n",
    "\n",
    "7. 1.5 Marks, Function concept missed\n",
    "\n",
    "8. 1.5 Marks, Incomplete answer\n",
    "\n",
    "9. 2 Marks, Generator Concept missed\n",
    "\n",
    "10. 4 Marks, good\n",
    "\n",
    "11. 4 Marks, Good\n",
    "\n",
    "12. 0 Marks, Not attempted\n",
    "\n",
    "13. 0 Marks, Not attempted\n",
    "\n",
    "14. 0 Marks, Not attempted\n",
    "\n",
    "15. 0 Marks, Not attempted\n",
    "\n",
    "Final Remarks: 28.5/60 Focus more on Explanation, Increase Speed, Important question missed, Focus more on Logic"
   ]
  },
  {
   "cell_type": "code",
   "execution_count": null,
   "id": "1f9eaaa1",
   "metadata": {},
   "outputs": [],
   "source": []
  }
 ],
 "metadata": {
  "kernelspec": {
   "display_name": "Python 3 (ipykernel)",
   "language": "python",
   "name": "python3"
  },
  "language_info": {
   "codemirror_mode": {
    "name": "ipython",
    "version": 3
   },
   "file_extension": ".py",
   "mimetype": "text/x-python",
   "name": "python",
   "nbconvert_exporter": "python",
   "pygments_lexer": "ipython3",
   "version": "3.11.3"
  }
 },
 "nbformat": 4,
 "nbformat_minor": 5
}
