{
 "cells": [
  {
   "cell_type": "code",
   "execution_count": 1,
   "id": "77c5d1a9",
   "metadata": {},
   "outputs": [],
   "source": [
    "# enumerate\n",
    "# pandas with dict wirh for loop\n",
    "# Imp Examples"
   ]
  },
  {
   "cell_type": "code",
   "execution_count": 4,
   "id": "e43d1a4b",
   "metadata": {},
   "outputs": [],
   "source": [
    "# enumerate\n",
    "# min\n",
    "# max\n",
    "# print\n",
    "# sum\n",
    "# id\n",
    "# len\n",
    "# None"
   ]
  },
  {
   "cell_type": "code",
   "execution_count": 3,
   "id": "c1eec316",
   "metadata": {},
   "outputs": [
    {
     "name": "stdout",
     "output_type": "stream",
     "text": [
      "karan\n",
      "ravi\n",
      "mohan\n",
      "akshay\n",
      "anil\n"
     ]
    }
   ],
   "source": [
    "a = ['karan','ravi','mohan','akshay','anil']\n",
    "\n",
    "for i in a:\n",
    "    print(i)"
   ]
  },
  {
   "cell_type": "code",
   "execution_count": 5,
   "id": "76a2cec6",
   "metadata": {},
   "outputs": [
    {
     "name": "stdout",
     "output_type": "stream",
     "text": [
      "(0, 'karan')\n",
      "(1, 'ravi')\n",
      "(2, 'mohan')\n",
      "(3, 'akshay')\n",
      "(4, 'anil')\n"
     ]
    }
   ],
   "source": [
    "a = ['karan','ravi','mohan','akshay','anil']\n",
    "\n",
    "for i in enumerate(a):\n",
    "    print(i)"
   ]
  },
  {
   "cell_type": "code",
   "execution_count": null,
   "id": "cc205efe",
   "metadata": {},
   "outputs": [],
   "source": [
    "c,b = (0,'Mohan')\n",
    "\n"
   ]
  },
  {
   "cell_type": "code",
   "execution_count": 8,
   "id": "a919d4bf",
   "metadata": {},
   "outputs": [
    {
     "name": "stdout",
     "output_type": "stream",
     "text": [
      "0 karan\n",
      "1 ravi\n",
      "2 mohan\n",
      "3 akshay\n",
      "4 anil\n"
     ]
    }
   ],
   "source": [
    "a = ['karan','ravi','mohan','akshay','anil']\n",
    "\n",
    "for i,j in enumerate(a):\n",
    "    print(i,j)"
   ]
  },
  {
   "cell_type": "code",
   "execution_count": null,
   "id": "8fe5e814",
   "metadata": {},
   "outputs": [],
   "source": []
  },
  {
   "cell_type": "code",
   "execution_count": 10,
   "id": "eb09be0a",
   "metadata": {},
   "outputs": [
    {
     "name": "stdout",
     "output_type": "stream",
     "text": [
      "karan\n",
      "ravi\n",
      "mohan\n",
      "akshay\n",
      "anil\n"
     ]
    }
   ],
   "source": [
    "a = ['karan','ravi','mohan','akshay','anil']\n",
    "\n",
    "for index,value in enumerate(a):\n",
    "    print(value)"
   ]
  },
  {
   "cell_type": "code",
   "execution_count": 11,
   "id": "bbb5b505",
   "metadata": {},
   "outputs": [
    {
     "name": "stdout",
     "output_type": "stream",
     "text": [
      "karan\n",
      "ravi\n"
     ]
    }
   ],
   "source": [
    "a = ['karan','ravi','mohan','akshay','anil']\n",
    "\n",
    "for index,value in enumerate(a):\n",
    "    if value == 'mohan':\n",
    "        break\n",
    "    print(value)"
   ]
  },
  {
   "cell_type": "code",
   "execution_count": 12,
   "id": "214320e7",
   "metadata": {},
   "outputs": [
    {
     "name": "stdout",
     "output_type": "stream",
     "text": [
      "karan\n",
      "ravi\n"
     ]
    }
   ],
   "source": [
    "a = ['karan','ravi','mohan','akshay','anil']\n",
    "\n",
    "for index,value in enumerate(a):\n",
    "    if index == 2:\n",
    "        break\n",
    "    print(value)"
   ]
  },
  {
   "cell_type": "code",
   "execution_count": 14,
   "id": "ae6dad3e",
   "metadata": {},
   "outputs": [
    {
     "name": "stdout",
     "output_type": "stream",
     "text": [
      "karan\n",
      "mohan\n"
     ]
    }
   ],
   "source": [
    "a = ['karan','ravi','mohan','akshay','anil']\n",
    "\n",
    "for index,value in enumerate(a):\n",
    "    if index in [1,3,4]:\n",
    "        continue\n",
    "    print(value)"
   ]
  },
  {
   "cell_type": "code",
   "execution_count": 17,
   "id": "005608e7",
   "metadata": {},
   "outputs": [
    {
     "data": {
      "text/plain": [
       "(0, 'karan')"
      ]
     },
     "execution_count": 17,
     "metadata": {},
     "output_type": "execute_result"
    }
   ],
   "source": [
    "next(enumerate(a))"
   ]
  },
  {
   "cell_type": "code",
   "execution_count": 18,
   "id": "d5529a90",
   "metadata": {},
   "outputs": [],
   "source": [
    "var = enumerate(a)"
   ]
  },
  {
   "cell_type": "code",
   "execution_count": 25,
   "id": "45bf6293",
   "metadata": {},
   "outputs": [
    {
     "ename": "StopIteration",
     "evalue": "",
     "output_type": "error",
     "traceback": [
      "\u001b[1;31m---------------------------------------------------------------------------\u001b[0m",
      "\u001b[1;31mStopIteration\u001b[0m                             Traceback (most recent call last)",
      "Cell \u001b[1;32mIn[25], line 1\u001b[0m\n\u001b[1;32m----> 1\u001b[0m \u001b[38;5;28mnext\u001b[39m(var)\n",
      "\u001b[1;31mStopIteration\u001b[0m: "
     ]
    }
   ],
   "source": [
    "next(var)"
   ]
  },
  {
   "cell_type": "code",
   "execution_count": null,
   "id": "0c63793f",
   "metadata": {},
   "outputs": [],
   "source": []
  },
  {
   "cell_type": "code",
   "execution_count": 26,
   "id": "afc833f3",
   "metadata": {},
   "outputs": [
    {
     "name": "stdout",
     "output_type": "stream",
     "text": [
      "\n",
      "Here is a list of the Python keywords.  Enter any keyword to get more help.\n",
      "\n",
      "False               class               from                or\n",
      "None                continue            global              pass\n",
      "True                def                 if                  raise\n",
      "and                 del                 import              return\n",
      "as                  elif                in                  try\n",
      "assert              else                is                  while\n",
      "async               except              lambda              with\n",
      "await               finally             nonlocal            yield\n",
      "break               for                 not                 \n",
      "\n"
     ]
    }
   ],
   "source": [
    "help('keywords')"
   ]
  },
  {
   "cell_type": "code",
   "execution_count": 27,
   "id": "82f0e3f8",
   "metadata": {},
   "outputs": [
    {
     "ename": "SyntaxError",
     "evalue": "invalid syntax (2011969743.py, line 3)",
     "output_type": "error",
     "traceback": [
      "\u001b[1;36m  Cell \u001b[1;32mIn[27], line 3\u001b[1;36m\u001b[0m\n\u001b[1;33m    class = 57\u001b[0m\n\u001b[1;37m          ^\u001b[0m\n\u001b[1;31mSyntaxError\u001b[0m\u001b[1;31m:\u001b[0m invalid syntax\n"
     ]
    }
   ],
   "source": [
    "# user input \n",
    "# name, age, class, address, sec\n",
    "class = 57"
   ]
  },
  {
   "cell_type": "code",
   "execution_count": 28,
   "id": "3f2a570f",
   "metadata": {},
   "outputs": [
    {
     "ename": "SyntaxError",
     "evalue": "invalid syntax (3556012459.py, line 1)",
     "output_type": "error",
     "traceback": [
      "\u001b[1;36m  Cell \u001b[1;32mIn[28], line 1\u001b[1;36m\u001b[0m\n\u001b[1;33m    for = 23\u001b[0m\n\u001b[1;37m        ^\u001b[0m\n\u001b[1;31mSyntaxError\u001b[0m\u001b[1;31m:\u001b[0m invalid syntax\n"
     ]
    }
   ],
   "source": [
    "for = 23"
   ]
  },
  {
   "cell_type": "code",
   "execution_count": 29,
   "id": "79b9ed82",
   "metadata": {},
   "outputs": [],
   "source": [
    "# user input \n",
    "# name, age, class, address, sec"
   ]
  },
  {
   "cell_type": "code",
   "execution_count": 30,
   "id": "48a8f5b5",
   "metadata": {},
   "outputs": [
    {
     "name": "stdout",
     "output_type": "stream",
     "text": [
      "Enter your name: Karan\n",
      "Enter your age: 23\n",
      "Enter your class: 12\n",
      "Enter your address: Noida\n",
      "Enter your sec: A\n"
     ]
    },
    {
     "name": "stderr",
     "output_type": "stream",
     "text": [
      "C:\\Users\\Lenovo\\anaconda3\\Lib\\site-packages\\pandas\\core\\arrays\\masked.py:60: UserWarning: Pandas requires version '1.3.6' or newer of 'bottleneck' (version '1.3.5' currently installed).\n",
      "  from pandas.core import (\n"
     ]
    }
   ],
   "source": [
    "name = input('Enter your name: ')\n",
    "age = int(input('Enter your age: '))\n",
    "Class = input('Enter your class: ')\n",
    "address = input('Enter your address: ')\n",
    "sec = input('Enter your sec: ')\n",
    "\n",
    "\n",
    "\n",
    "data = {'Name':name,'Age':age,'Class':Class,'Address':address,'Sec':sec}\n",
    "\n",
    "\n"
   ]
  },
  {
   "cell_type": "code",
   "execution_count": 31,
   "id": "ac77f54a",
   "metadata": {},
   "outputs": [
    {
     "data": {
      "text/plain": [
       "{'Name': 'Karan', 'Age': 23, 'Class': '12', 'Address': 'Noida', 'Sec': 'A'}"
      ]
     },
     "execution_count": 31,
     "metadata": {},
     "output_type": "execute_result"
    }
   ],
   "source": [
    "data"
   ]
  },
  {
   "cell_type": "code",
   "execution_count": 32,
   "id": "42324ca2",
   "metadata": {},
   "outputs": [],
   "source": [
    "import pandas as pd"
   ]
  },
  {
   "cell_type": "code",
   "execution_count": 33,
   "id": "1dbc2842",
   "metadata": {},
   "outputs": [
    {
     "data": {
      "text/html": [
       "<div>\n",
       "<style scoped>\n",
       "    .dataframe tbody tr th:only-of-type {\n",
       "        vertical-align: middle;\n",
       "    }\n",
       "\n",
       "    .dataframe tbody tr th {\n",
       "        vertical-align: top;\n",
       "    }\n",
       "\n",
       "    .dataframe thead th {\n",
       "        text-align: right;\n",
       "    }\n",
       "</style>\n",
       "<table border=\"1\" class=\"dataframe\">\n",
       "  <thead>\n",
       "    <tr style=\"text-align: right;\">\n",
       "      <th></th>\n",
       "      <th>Name</th>\n",
       "      <th>Age</th>\n",
       "      <th>Class</th>\n",
       "      <th>Address</th>\n",
       "      <th>Sec</th>\n",
       "    </tr>\n",
       "  </thead>\n",
       "  <tbody>\n",
       "    <tr>\n",
       "      <th>0</th>\n",
       "      <td>Karan</td>\n",
       "      <td>23</td>\n",
       "      <td>12</td>\n",
       "      <td>Noida</td>\n",
       "      <td>A</td>\n",
       "    </tr>\n",
       "  </tbody>\n",
       "</table>\n",
       "</div>"
      ],
      "text/plain": [
       "    Name  Age Class Address Sec\n",
       "0  Karan   23    12   Noida   A"
      ]
     },
     "execution_count": 33,
     "metadata": {},
     "output_type": "execute_result"
    }
   ],
   "source": [
    "pd.DataFrame(data,index=[0])"
   ]
  },
  {
   "cell_type": "code",
   "execution_count": 34,
   "id": "b3b5455c",
   "metadata": {},
   "outputs": [
    {
     "name": "stdout",
     "output_type": "stream",
     "text": [
      "Enter your name: Arun\n",
      "Enter your age: 12\n",
      "Enter your class: 10\n",
      "Enter your address: Noida\n",
      "Enter your sec: A\n",
      "1 Record Added Successfully!!\n",
      "Enter your name: Karan\n",
      "Enter your age: 23\n",
      "Enter your class: 12\n",
      "Enter your address: Delhi\n",
      "Enter your sec: B\n",
      "2 Record Added Successfully!!\n",
      "Enter your name: Jatin\n",
      "Enter your age: 11\n",
      "Enter your class: 7\n",
      "Enter your address: Goa\n",
      "Enter your sec: C\n",
      "3 Record Added Successfully!!\n",
      "Enter your name: Ravi\n",
      "Enter your age: 16\n",
      "Enter your class: 12\n",
      "Enter your address: Noida\n",
      "Enter your sec: B\n",
      "4 Record Added Successfully!!\n",
      "Enter your name: Rohan\n",
      "Enter your age: 18\n",
      "Enter your class: 11\n",
      "Enter your address: Gr Noida\n",
      "Enter your sec: A\n",
      "5 Record Added Successfully!!\n"
     ]
    },
    {
     "data": {
      "text/html": [
       "<div>\n",
       "<style scoped>\n",
       "    .dataframe tbody tr th:only-of-type {\n",
       "        vertical-align: middle;\n",
       "    }\n",
       "\n",
       "    .dataframe tbody tr th {\n",
       "        vertical-align: top;\n",
       "    }\n",
       "\n",
       "    .dataframe thead th {\n",
       "        text-align: right;\n",
       "    }\n",
       "</style>\n",
       "<table border=\"1\" class=\"dataframe\">\n",
       "  <thead>\n",
       "    <tr style=\"text-align: right;\">\n",
       "      <th></th>\n",
       "      <th>Name</th>\n",
       "      <th>Age</th>\n",
       "      <th>Class</th>\n",
       "      <th>Address</th>\n",
       "      <th>Sec</th>\n",
       "    </tr>\n",
       "  </thead>\n",
       "  <tbody>\n",
       "    <tr>\n",
       "      <th>0</th>\n",
       "      <td>Arun</td>\n",
       "      <td>12</td>\n",
       "      <td>10</td>\n",
       "      <td>Noida</td>\n",
       "      <td>A</td>\n",
       "    </tr>\n",
       "    <tr>\n",
       "      <th>1</th>\n",
       "      <td>Karan</td>\n",
       "      <td>23</td>\n",
       "      <td>12</td>\n",
       "      <td>Delhi</td>\n",
       "      <td>B</td>\n",
       "    </tr>\n",
       "    <tr>\n",
       "      <th>2</th>\n",
       "      <td>Jatin</td>\n",
       "      <td>11</td>\n",
       "      <td>7</td>\n",
       "      <td>Goa</td>\n",
       "      <td>C</td>\n",
       "    </tr>\n",
       "    <tr>\n",
       "      <th>3</th>\n",
       "      <td>Ravi</td>\n",
       "      <td>16</td>\n",
       "      <td>12</td>\n",
       "      <td>Noida</td>\n",
       "      <td>B</td>\n",
       "    </tr>\n",
       "    <tr>\n",
       "      <th>4</th>\n",
       "      <td>Rohan</td>\n",
       "      <td>18</td>\n",
       "      <td>11</td>\n",
       "      <td>Gr Noida</td>\n",
       "      <td>A</td>\n",
       "    </tr>\n",
       "  </tbody>\n",
       "</table>\n",
       "</div>"
      ],
      "text/plain": [
       "    Name  Age Class   Address Sec\n",
       "0   Arun   12    10     Noida   A\n",
       "1  Karan   23    12     Delhi   B\n",
       "2  Jatin   11     7       Goa   C\n",
       "3   Ravi   16    12     Noida   B\n",
       "4  Rohan   18    11  Gr Noida   A"
      ]
     },
     "execution_count": 34,
     "metadata": {},
     "output_type": "execute_result"
    }
   ],
   "source": [
    "data = {'Name':[],'Age':[],'Class':[],'Address':[],'Sec':[]}\n",
    "\n",
    "for i in range(1,6):\n",
    "    name = input('Enter your name: ')\n",
    "    age = int(input('Enter your age: '))\n",
    "    Class = input('Enter your class: ')\n",
    "    address = input('Enter your address: ')\n",
    "    sec = input('Enter your sec: ')\n",
    "\n",
    "    data['Name'].append(name)    \n",
    "    data['Age'].append(age)\n",
    "    data['Class'].append(Class)\n",
    "    data['Address'].append(address)\n",
    "    data['Sec'].append(sec)\n",
    "    \n",
    "    print(f'{i} Record Added Successfully!!')\n",
    "    \n",
    "pd.DataFrame(data)"
   ]
  },
  {
   "cell_type": "code",
   "execution_count": 35,
   "id": "0381c9db",
   "metadata": {},
   "outputs": [
    {
     "data": {
      "text/plain": [
       "{'Name': ['Arun', 'Karan', 'Jatin', 'Ravi', 'Rohan'],\n",
       " 'Age': [12, 23, 11, 16, 18],\n",
       " 'Class': ['10', '12', '7', '12', '11'],\n",
       " 'Address': ['Noida', 'Delhi', 'Goa', 'Noida', 'Gr Noida'],\n",
       " 'Sec': ['A', 'B', 'C', 'B', 'A']}"
      ]
     },
     "execution_count": 35,
     "metadata": {},
     "output_type": "execute_result"
    }
   ],
   "source": [
    "data"
   ]
  },
  {
   "cell_type": "code",
   "execution_count": 37,
   "id": "3bdd28d1",
   "metadata": {},
   "outputs": [
    {
     "data": {
      "text/html": [
       "<div>\n",
       "<style scoped>\n",
       "    .dataframe tbody tr th:only-of-type {\n",
       "        vertical-align: middle;\n",
       "    }\n",
       "\n",
       "    .dataframe tbody tr th {\n",
       "        vertical-align: top;\n",
       "    }\n",
       "\n",
       "    .dataframe thead th {\n",
       "        text-align: right;\n",
       "    }\n",
       "</style>\n",
       "<table border=\"1\" class=\"dataframe\">\n",
       "  <thead>\n",
       "    <tr style=\"text-align: right;\">\n",
       "      <th></th>\n",
       "      <th>Name</th>\n",
       "      <th>Age</th>\n",
       "      <th>Class</th>\n",
       "      <th>Address</th>\n",
       "      <th>Sec</th>\n",
       "    </tr>\n",
       "  </thead>\n",
       "  <tbody>\n",
       "    <tr>\n",
       "      <th>0</th>\n",
       "      <td>Arun</td>\n",
       "      <td>12</td>\n",
       "      <td>10</td>\n",
       "      <td>Noida</td>\n",
       "      <td>A</td>\n",
       "    </tr>\n",
       "    <tr>\n",
       "      <th>1</th>\n",
       "      <td>Karan</td>\n",
       "      <td>23</td>\n",
       "      <td>12</td>\n",
       "      <td>Delhi</td>\n",
       "      <td>B</td>\n",
       "    </tr>\n",
       "    <tr>\n",
       "      <th>2</th>\n",
       "      <td>Jatin</td>\n",
       "      <td>11</td>\n",
       "      <td>7</td>\n",
       "      <td>Goa</td>\n",
       "      <td>C</td>\n",
       "    </tr>\n",
       "    <tr>\n",
       "      <th>3</th>\n",
       "      <td>Ravi</td>\n",
       "      <td>16</td>\n",
       "      <td>12</td>\n",
       "      <td>Noida</td>\n",
       "      <td>B</td>\n",
       "    </tr>\n",
       "    <tr>\n",
       "      <th>4</th>\n",
       "      <td>Rohan</td>\n",
       "      <td>18</td>\n",
       "      <td>11</td>\n",
       "      <td>Gr Noida</td>\n",
       "      <td>A</td>\n",
       "    </tr>\n",
       "  </tbody>\n",
       "</table>\n",
       "</div>"
      ],
      "text/plain": [
       "    Name  Age Class   Address Sec\n",
       "0   Arun   12    10     Noida   A\n",
       "1  Karan   23    12     Delhi   B\n",
       "2  Jatin   11     7       Goa   C\n",
       "3   Ravi   16    12     Noida   B\n",
       "4  Rohan   18    11  Gr Noida   A"
      ]
     },
     "execution_count": 37,
     "metadata": {},
     "output_type": "execute_result"
    }
   ],
   "source": [
    "table = pd.DataFrame(data)\n",
    "table"
   ]
  },
  {
   "cell_type": "code",
   "execution_count": 38,
   "id": "dd8c1089",
   "metadata": {},
   "outputs": [
    {
     "name": "stdout",
     "output_type": "stream",
     "text": [
      "Done\n"
     ]
    }
   ],
   "source": [
    "table.to_excel(r\"C:\\Users\\Lenovo\\Desktop\\student_details.xlsx\")\n",
    "print('Done')"
   ]
  },
  {
   "cell_type": "code",
   "execution_count": 39,
   "id": "5fefce54",
   "metadata": {},
   "outputs": [],
   "source": [
    "# H/w\n",
    "# Employee 5\n",
    "# Name, Emp_id, Designation, Dept, Salary, Address"
   ]
  },
  {
   "cell_type": "markdown",
   "id": "21917186",
   "metadata": {},
   "source": [
    "# IMP Examples"
   ]
  },
  {
   "cell_type": "markdown",
   "id": "ab0af1ee",
   "metadata": {},
   "source": [
    "# Sum of n natural numbers"
   ]
  },
  {
   "cell_type": "code",
   "execution_count": 45,
   "id": "e3ea1480",
   "metadata": {},
   "outputs": [
    {
     "name": "stdout",
     "output_type": "stream",
     "text": [
      "5050\n"
     ]
    }
   ],
   "source": [
    "# n = 10\n",
    "# # 1+2+3+4+5+6+7+8+9+10 = \n",
    "\n",
    "n= 100\n",
    "total_sum = 0\n",
    "for i in range(1,n+1):\n",
    "    total_sum+=i\n",
    "    \n",
    "print(total_sum)"
   ]
  },
  {
   "cell_type": "markdown",
   "id": "ba5c29c6",
   "metadata": {},
   "source": [
    "# factorial of a number"
   ]
  },
  {
   "cell_type": "code",
   "execution_count": 46,
   "id": "030646fa",
   "metadata": {},
   "outputs": [],
   "source": [
    "# 'ant'\n",
    "\n",
    "\n",
    "# 'ant'\n",
    "# 'atn'\n",
    "# 'nat'\n",
    "# 'tna'\n",
    "# 'nta'\n",
    "# 'tan'\n",
    "\n",
    "\n",
    "\n",
    "# 'four'\n",
    "\n",
    "\n",
    "# 'four'\n",
    "# 'ourf'\n",
    "# 'urfo'\n",
    "# 'rfou'\n",
    "# 'ruof'\n",
    "# 'uofr'\n",
    "# 'ofru'\n",
    "# 'fruo'\n",
    "# .............."
   ]
  },
  {
   "cell_type": "code",
   "execution_count": 47,
   "id": "8ac65b9c",
   "metadata": {},
   "outputs": [
    {
     "data": {
      "text/plain": [
       "6"
      ]
     },
     "execution_count": 47,
     "metadata": {},
     "output_type": "execute_result"
    }
   ],
   "source": [
    "# 3!\n",
    "\n",
    "3*2*1"
   ]
  },
  {
   "cell_type": "code",
   "execution_count": 48,
   "id": "89988364",
   "metadata": {},
   "outputs": [
    {
     "data": {
      "text/plain": [
       "24"
      ]
     },
     "execution_count": 48,
     "metadata": {},
     "output_type": "execute_result"
    }
   ],
   "source": [
    "4*3*2*1"
   ]
  },
  {
   "cell_type": "code",
   "execution_count": 49,
   "id": "95d028d8",
   "metadata": {},
   "outputs": [
    {
     "data": {
      "text/plain": [
       "120"
      ]
     },
     "execution_count": 49,
     "metadata": {},
     "output_type": "execute_result"
    }
   ],
   "source": [
    "5*4*3*2*1"
   ]
  },
  {
   "cell_type": "code",
   "execution_count": 50,
   "id": "8f9beb24",
   "metadata": {},
   "outputs": [
    {
     "data": {
      "text/plain": [
       "3628800"
      ]
     },
     "execution_count": 50,
     "metadata": {},
     "output_type": "execute_result"
    }
   ],
   "source": [
    "10*9*8*7*6*5*4*3*2*1"
   ]
  },
  {
   "cell_type": "code",
   "execution_count": 53,
   "id": "38750d3e",
   "metadata": {},
   "outputs": [
    {
     "name": "stdout",
     "output_type": "stream",
     "text": [
      "24\n"
     ]
    }
   ],
   "source": [
    "n = 4\n",
    "\n",
    "result = 1\n",
    "\n",
    "for i in range(1,n+1):\n",
    "    result*=i\n",
    "\n",
    "print(result)"
   ]
  },
  {
   "cell_type": "code",
   "execution_count": 55,
   "id": "3816d815",
   "metadata": {},
   "outputs": [],
   "source": [
    "# max element\n",
    "# min element"
   ]
  },
  {
   "cell_type": "code",
   "execution_count": 56,
   "id": "c2b613ed",
   "metadata": {},
   "outputs": [
    {
     "data": {
      "text/plain": [
       "4312"
      ]
     },
     "execution_count": 56,
     "metadata": {},
     "output_type": "execute_result"
    }
   ],
   "source": [
    "a = [1,23,212,43,4312,343,5,2,234,343,54,5]\n",
    "\n",
    "max(a)"
   ]
  },
  {
   "cell_type": "code",
   "execution_count": 64,
   "id": "dbfc6b78",
   "metadata": {},
   "outputs": [
    {
     "name": "stdout",
     "output_type": "stream",
     "text": [
      "34300\n"
     ]
    }
   ],
   "source": [
    "a = [1,23,212,43,4312,343,5,2,234,34300,54,5]\n",
    "\n",
    "my_max = a[0]\n",
    "\n",
    "for i in a:\n",
    "    if i>my_max:\n",
    "        my_max = i\n",
    "        \n",
    "print(my_max)"
   ]
  },
  {
   "cell_type": "code",
   "execution_count": 68,
   "id": "a7dfb657",
   "metadata": {},
   "outputs": [
    {
     "name": "stdout",
     "output_type": "stream",
     "text": [
      "100 100\n",
      "23 100\n",
      "212 23\n",
      "43 23\n",
      "4312 23\n",
      "343 23\n",
      "5 23\n",
      "2 5\n",
      "234 2\n",
      "34300 2\n",
      "54 2\n",
      "5 2\n",
      "2\n"
     ]
    }
   ],
   "source": [
    "# min\n",
    "\n",
    "import time\n",
    "a = [100,23,212,43,4312,343,5,2,234,34300,54,5]\n",
    "\n",
    "my_min = a[0]\n",
    "\n",
    "for i in a:\n",
    "    time.sleep(1)\n",
    "    print(i,my_min)\n",
    "    if i<my_min:\n",
    "        my_min = i\n",
    "        \n",
    "print(my_min)"
   ]
  },
  {
   "cell_type": "code",
   "execution_count": 69,
   "id": "fa20cc33",
   "metadata": {},
   "outputs": [
    {
     "name": "stdout",
     "output_type": "stream",
     "text": [
      "No of v: 18\n",
      "No of c: 45\n"
     ]
    }
   ],
   "source": [
    "data = 'Basically, the sum of the first 100 natural numbers is equal to'\n",
    "\n",
    "v_count = 0\n",
    "c_count = 0\n",
    "\n",
    "\n",
    "for i in data:\n",
    "    if i.lower() in 'aeiou':\n",
    "        v_count+=1\n",
    "    else:\n",
    "        c_count+=1\n",
    "        \n",
    "print('No of v:',v_count)\n",
    "print('No of c:',c_count)"
   ]
  },
  {
   "cell_type": "code",
   "execution_count": 72,
   "id": "569e6819",
   "metadata": {},
   "outputs": [
    {
     "name": "stdout",
     "output_type": "stream",
     "text": [
      "12\n"
     ]
    }
   ],
   "source": [
    "number  = 345\n",
    "\n",
    "result = 0\n",
    "\n",
    "for i in str(number):\n",
    "    result+= int(i)\n",
    "    \n",
    "print(result)"
   ]
  },
  {
   "cell_type": "code",
   "execution_count": 73,
   "id": "e1eff9e6",
   "metadata": {},
   "outputs": [],
   "source": [
    "# 3456787654"
   ]
  },
  {
   "cell_type": "code",
   "execution_count": null,
   "id": "a4c511ea",
   "metadata": {},
   "outputs": [],
   "source": []
  }
 ],
 "metadata": {
  "kernelspec": {
   "display_name": "Python 3 (ipykernel)",
   "language": "python",
   "name": "python3"
  },
  "language_info": {
   "codemirror_mode": {
    "name": "ipython",
    "version": 3
   },
   "file_extension": ".py",
   "mimetype": "text/x-python",
   "name": "python",
   "nbconvert_exporter": "python",
   "pygments_lexer": "ipython3",
   "version": "3.11.3"
  }
 },
 "nbformat": 4,
 "nbformat_minor": 5
}
