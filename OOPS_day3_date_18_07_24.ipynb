{
 "cells": [
  {
   "cell_type": "code",
   "execution_count": 3,
   "id": "d3253351",
   "metadata": {},
   "outputs": [],
   "source": [
    "#OOP:- Object oriented Programming\n",
    "\n",
    "# Conditional Programming\n",
    "# data types, if else, loops, op, break, pass, continue\n",
    "\n",
    "# Functional Programming:- \n",
    "#     def funcs\n",
    "# 3 Modules\n",
    "\n",
    "#\n",
    "# #OOP:- Object oriented Programming\n",
    "#  Libraries class concept:- we will create our own data type\n",
    "# class\n",
    "# functions bind class concept"
   ]
  },
  {
   "cell_type": "code",
   "execution_count": 4,
   "id": "49ed48a7",
   "metadata": {},
   "outputs": [],
   "source": [
    "# my data type :-  my class:- my object"
   ]
  },
  {
   "cell_type": "code",
   "execution_count": 5,
   "id": "c2caf458",
   "metadata": {},
   "outputs": [
    {
     "name": "stdout",
     "output_type": "stream",
     "text": [
      "<class 'int'>\n"
     ]
    }
   ],
   "source": [
    "a = 45\n",
    "\n",
    "print(type(a))"
   ]
  },
  {
   "cell_type": "code",
   "execution_count": 6,
   "id": "6810572b",
   "metadata": {},
   "outputs": [
    {
     "name": "stdout",
     "output_type": "stream",
     "text": [
      "<class 'str'>\n"
     ]
    }
   ],
   "source": [
    "b = 'Jatin'\n",
    "\n",
    "print(type(b))"
   ]
  },
  {
   "cell_type": "code",
   "execution_count": 7,
   "id": "bd2307aa",
   "metadata": {},
   "outputs": [
    {
     "data": {
      "text/plain": [
       "'JATIN'"
      ]
     },
     "execution_count": 7,
     "metadata": {},
     "output_type": "execute_result"
    }
   ],
   "source": [
    "b.upper()"
   ]
  },
  {
   "cell_type": "code",
   "execution_count": null,
   "id": "b8377ce2",
   "metadata": {},
   "outputs": [],
   "source": [
    "# def techvidya"
   ]
  },
  {
   "cell_type": "code",
   "execution_count": 16,
   "id": "23b5ad8a",
   "metadata": {},
   "outputs": [],
   "source": [
    "class Techvidya:\n",
    "    \n",
    "    def one():\n",
    "        pass\n",
    "    \n",
    "    def two():\n",
    "        pass\n",
    "    \n",
    "    def three():\n",
    "        pass"
   ]
  },
  {
   "cell_type": "code",
   "execution_count": 28,
   "id": "5e5d7325",
   "metadata": {},
   "outputs": [
    {
     "ename": "TypeError",
     "evalue": "Techvidya.one() takes 0 positional arguments but 1 was given",
     "output_type": "error",
     "traceback": [
      "\u001b[1;31m---------------------------------------------------------------------------\u001b[0m",
      "\u001b[1;31mTypeError\u001b[0m                                 Traceback (most recent call last)",
      "Cell \u001b[1;32mIn[28], line 4\u001b[0m\n\u001b[0;32m      1\u001b[0m a \u001b[38;5;241m=\u001b[39m Techvidya()\n\u001b[0;32m      2\u001b[0m \u001b[38;5;66;03m# instantiation\u001b[39;00m\n\u001b[1;32m----> 4\u001b[0m a\u001b[38;5;241m.\u001b[39mone()\n",
      "\u001b[1;31mTypeError\u001b[0m: Techvidya.one() takes 0 positional arguments but 1 was given"
     ]
    }
   ],
   "source": [
    "a = Techvidya()\n",
    "# instantiation\n",
    "\n",
    "a.one()"
   ]
  },
  {
   "cell_type": "code",
   "execution_count": 24,
   "id": "cfcc8e89",
   "metadata": {},
   "outputs": [],
   "source": [
    "b = Techvidya()"
   ]
  },
  {
   "cell_type": "code",
   "execution_count": 25,
   "id": "503af18c",
   "metadata": {},
   "outputs": [],
   "source": [
    "c = Techvidya()"
   ]
  },
  {
   "cell_type": "code",
   "execution_count": 26,
   "id": "96df42fa",
   "metadata": {},
   "outputs": [],
   "source": [
    "d = Techvidya()"
   ]
  },
  {
   "cell_type": "code",
   "execution_count": 27,
   "id": "5ff35073",
   "metadata": {},
   "outputs": [
    {
     "ename": "TypeError",
     "evalue": "Techvidya.three() takes 0 positional arguments but 1 was given",
     "output_type": "error",
     "traceback": [
      "\u001b[1;31m---------------------------------------------------------------------------\u001b[0m",
      "\u001b[1;31mTypeError\u001b[0m                                 Traceback (most recent call last)",
      "Cell \u001b[1;32mIn[27], line 1\u001b[0m\n\u001b[1;32m----> 1\u001b[0m d\u001b[38;5;241m.\u001b[39mthree()\n",
      "\u001b[1;31mTypeError\u001b[0m: Techvidya.three() takes 0 positional arguments but 1 was given"
     ]
    }
   ],
   "source": [
    "d.three()"
   ]
  },
  {
   "cell_type": "code",
   "execution_count": null,
   "id": "53eb5c2b",
   "metadata": {},
   "outputs": [],
   "source": [
    "# My_var is an instance"
   ]
  },
  {
   "cell_type": "code",
   "execution_count": 19,
   "id": "b2145880",
   "metadata": {},
   "outputs": [],
   "source": [
    "my_var.two()"
   ]
  },
  {
   "cell_type": "code",
   "execution_count": 20,
   "id": "7d0366ba",
   "metadata": {},
   "outputs": [
    {
     "name": "stdout",
     "output_type": "stream",
     "text": [
      "<class '__main__.Techvidya'>\n"
     ]
    }
   ],
   "source": [
    "print(type(my_var))"
   ]
  },
  {
   "cell_type": "code",
   "execution_count": 21,
   "id": "6c966f55",
   "metadata": {},
   "outputs": [],
   "source": [
    "import random"
   ]
  },
  {
   "cell_type": "code",
   "execution_count": 22,
   "id": "d568285a",
   "metadata": {},
   "outputs": [
    {
     "name": "stdout",
     "output_type": "stream",
     "text": [
      "<class 'module'>\n"
     ]
    }
   ],
   "source": [
    "print(type(random))"
   ]
  },
  {
   "cell_type": "code",
   "execution_count": null,
   "id": "203157fe",
   "metadata": {},
   "outputs": [],
   "source": []
  },
  {
   "cell_type": "code",
   "execution_count": null,
   "id": "02c894df",
   "metadata": {},
   "outputs": [],
   "source": []
  },
  {
   "cell_type": "code",
   "execution_count": null,
   "id": "3de38ff4",
   "metadata": {},
   "outputs": [],
   "source": []
  },
  {
   "cell_type": "code",
   "execution_count": 91,
   "id": "4a171c86",
   "metadata": {},
   "outputs": [],
   "source": [
    "class Techvidya_Final:\n",
    "    \n",
    "    def one(self):\n",
    "        print(id(self))\n",
    "        print('This is func one')\n",
    "    \n",
    "    def two(self):\n",
    "        print(id(self))\n",
    "        print('This is func two')\n",
    "\n",
    "    \n",
    "    def three(self):\n",
    "        print('This is func three')\n",
    "        \n",
    "\n",
    "    def four(self):\n",
    "        print('I am four')"
   ]
  },
  {
   "cell_type": "code",
   "execution_count": 97,
   "id": "a33e31a6",
   "metadata": {},
   "outputs": [
    {
     "name": "stdout",
     "output_type": "stream",
     "text": [
      "7 <class 'int'>\n"
     ]
    }
   ],
   "source": [
    "a:int = 7\n",
    "\n",
    "print(a,type(a))"
   ]
  },
  {
   "cell_type": "code",
   "execution_count": null,
   "id": "bf9f8586",
   "metadata": {},
   "outputs": [],
   "source": []
  },
  {
   "cell_type": "code",
   "execution_count": 92,
   "id": "bb09033d",
   "metadata": {},
   "outputs": [],
   "source": [
    "ob1 = Techvidya_Final()"
   ]
  },
  {
   "cell_type": "code",
   "execution_count": 93,
   "id": "772a589a",
   "metadata": {},
   "outputs": [
    {
     "ename": "TypeError",
     "evalue": "Techvidya_Final.four() takes 0 positional arguments but 1 was given",
     "output_type": "error",
     "traceback": [
      "\u001b[1;31m---------------------------------------------------------------------------\u001b[0m",
      "\u001b[1;31mTypeError\u001b[0m                                 Traceback (most recent call last)",
      "Cell \u001b[1;32mIn[93], line 1\u001b[0m\n\u001b[1;32m----> 1\u001b[0m ob1\u001b[38;5;241m.\u001b[39mfour()\n",
      "\u001b[1;31mTypeError\u001b[0m: Techvidya_Final.four() takes 0 positional arguments but 1 was given"
     ]
    }
   ],
   "source": [
    "ob1.four()"
   ]
  },
  {
   "cell_type": "code",
   "execution_count": 82,
   "id": "cfc58118",
   "metadata": {},
   "outputs": [
    {
     "name": "stdout",
     "output_type": "stream",
     "text": [
      "<class '__main__.Techvidya_Final'>\n"
     ]
    }
   ],
   "source": [
    "print(type(ob1))"
   ]
  },
  {
   "cell_type": "code",
   "execution_count": 83,
   "id": "7419cf3f",
   "metadata": {},
   "outputs": [],
   "source": [
    "# a.three()"
   ]
  },
  {
   "cell_type": "code",
   "execution_count": 84,
   "id": "ee3ee382",
   "metadata": {},
   "outputs": [
    {
     "name": "stdout",
     "output_type": "stream",
     "text": [
      "This is func three\n"
     ]
    }
   ],
   "source": [
    "ob1.three()"
   ]
  },
  {
   "cell_type": "code",
   "execution_count": 85,
   "id": "8aaea2d2",
   "metadata": {},
   "outputs": [
    {
     "name": "stdout",
     "output_type": "stream",
     "text": [
      "1488627078800\n",
      "This is func two\n"
     ]
    }
   ],
   "source": [
    "ob1.two()"
   ]
  },
  {
   "cell_type": "code",
   "execution_count": 86,
   "id": "e532731e",
   "metadata": {},
   "outputs": [
    {
     "name": "stdout",
     "output_type": "stream",
     "text": [
      "1488627078800\n",
      "This is func one\n"
     ]
    }
   ],
   "source": [
    "ob1.one()"
   ]
  },
  {
   "cell_type": "code",
   "execution_count": 88,
   "id": "d9b19993",
   "metadata": {},
   "outputs": [
    {
     "name": "stdout",
     "output_type": "stream",
     "text": [
      "1488627078800\n"
     ]
    }
   ],
   "source": [
    "print(id(ob1))"
   ]
  },
  {
   "cell_type": "code",
   "execution_count": 87,
   "id": "ca3af9bc",
   "metadata": {},
   "outputs": [
    {
     "name": "stdout",
     "output_type": "stream",
     "text": [
      "1488627078800\n",
      "This is func two\n"
     ]
    }
   ],
   "source": [
    "ob1.two()"
   ]
  },
  {
   "cell_type": "code",
   "execution_count": 90,
   "id": "8f680909",
   "metadata": {},
   "outputs": [
    {
     "name": "stdout",
     "output_type": "stream",
     "text": [
      "1488627078800\n"
     ]
    }
   ],
   "source": [
    "print(id(ob1))"
   ]
  },
  {
   "cell_type": "code",
   "execution_count": 70,
   "id": "78d48336",
   "metadata": {},
   "outputs": [],
   "source": [
    "ob2 = Techvidya_Final()"
   ]
  },
  {
   "cell_type": "code",
   "execution_count": 71,
   "id": "73bd7e16",
   "metadata": {},
   "outputs": [
    {
     "name": "stdout",
     "output_type": "stream",
     "text": [
      "<__main__.Techvidya_Final object at 0x0000015A97B78450>\n",
      "This is func one\n"
     ]
    }
   ],
   "source": [
    "ob2.one()"
   ]
  },
  {
   "cell_type": "code",
   "execution_count": null,
   "id": "dd5f27f8",
   "metadata": {},
   "outputs": [],
   "source": []
  },
  {
   "cell_type": "code",
   "execution_count": null,
   "id": "54fd32fa",
   "metadata": {},
   "outputs": [],
   "source": []
  },
  {
   "cell_type": "code",
   "execution_count": 189,
   "id": "6f925551",
   "metadata": {},
   "outputs": [],
   "source": [
    "class Audi:\n",
    "    \n",
    "    def __init__(self,gaddi_color, your_name,model): # initialization\n",
    "        \n",
    "        self.wheel = 4   #attributes \n",
    "        self.spare_wheel = 1\n",
    "        self.color = gaddi_color\n",
    "        \n",
    "        print(f'Welcome {your_name}!!')\n",
    "        print(f'You have Audi car and your model is {model}')\n",
    "        \n",
    "    \n",
    "    \n",
    "    # Methods\n",
    "    def engine_start(self):\n",
    "        print('Engine Start 🤫!!')\n",
    "    \n",
    "    def turbo_charger(self):\n",
    "        print('Performance Increase!!')\n",
    "    \n",
    "    def first_gear(self):\n",
    "        print('Car in First gear!!')\n",
    "    \n",
    "    def stop_engine(self):\n",
    "        print('Engine Stop off??')\n",
    "    \n",
    "    def apply_brake(self):\n",
    "        print('Brakes Applied!!')\n",
    "    \n",
    "    def horn(self):\n",
    "        print('Pii pii')\n",
    "    \n",
    "    def auto_lock(self,ans = None):\n",
    "        if ans == None:\n",
    "            print('car Locked\\n!!')\n",
    "        else:\n",
    "            print(f'car is in {ans} mode')"
   ]
  },
  {
   "cell_type": "code",
   "execution_count": null,
   "id": "9fb39927",
   "metadata": {},
   "outputs": [],
   "source": []
  },
  {
   "cell_type": "code",
   "execution_count": 190,
   "id": "d6edf4e8",
   "metadata": {},
   "outputs": [
    {
     "name": "stdout",
     "output_type": "stream",
     "text": [
      "Welcome ghost ridder!!\n",
      "You have Audi car and your model is q11\n"
     ]
    }
   ],
   "source": [
    "q11 = Audi('dark white','ghost ridder','q11')"
   ]
  },
  {
   "cell_type": "code",
   "execution_count": null,
   "id": "c8863c19",
   "metadata": {},
   "outputs": [],
   "source": []
  },
  {
   "cell_type": "code",
   "execution_count": 191,
   "id": "e2dd9e23",
   "metadata": {},
   "outputs": [
    {
     "name": "stdout",
     "output_type": "stream",
     "text": [
      "car Locked\n",
      "!!\n"
     ]
    }
   ],
   "source": [
    "q11.auto_lock()"
   ]
  },
  {
   "cell_type": "code",
   "execution_count": null,
   "id": "df95957b",
   "metadata": {},
   "outputs": [],
   "source": []
  },
  {
   "cell_type": "code",
   "execution_count": null,
   "id": "43529063",
   "metadata": {},
   "outputs": [],
   "source": []
  },
  {
   "cell_type": "code",
   "execution_count": null,
   "id": "7db4fa0a",
   "metadata": {},
   "outputs": [],
   "source": []
  },
  {
   "cell_type": "code",
   "execution_count": 152,
   "id": "ef6284a2",
   "metadata": {},
   "outputs": [],
   "source": [
    "# str(q7)"
   ]
  },
  {
   "cell_type": "code",
   "execution_count": 154,
   "id": "df43f8fc",
   "metadata": {},
   "outputs": [
    {
     "name": "stdout",
     "output_type": "stream",
     "text": [
      "Welcome Harry!!\n",
      "You have Audi car and your model is q7\n"
     ]
    }
   ],
   "source": [
    "q7 = Audi('Green','Harry','q7')"
   ]
  },
  {
   "cell_type": "code",
   "execution_count": 148,
   "id": "04a76705",
   "metadata": {},
   "outputs": [
    {
     "data": {
      "text/plain": [
       "'Green'"
      ]
     },
     "execution_count": 148,
     "metadata": {},
     "output_type": "execute_result"
    }
   ],
   "source": [
    "q7.color"
   ]
  },
  {
   "cell_type": "code",
   "execution_count": 155,
   "id": "01f3af1f",
   "metadata": {},
   "outputs": [
    {
     "name": "stdout",
     "output_type": "stream",
     "text": [
      "Welcome Mohan!!\n",
      "You have Audi car and your model is q9\n"
     ]
    }
   ],
   "source": [
    "q9 = Audi('White','Mohan','q9')"
   ]
  },
  {
   "cell_type": "code",
   "execution_count": 156,
   "id": "4ba2e16c",
   "metadata": {},
   "outputs": [
    {
     "data": {
      "text/plain": [
       "4"
      ]
     },
     "execution_count": 156,
     "metadata": {},
     "output_type": "execute_result"
    }
   ],
   "source": [
    "q9.wheel"
   ]
  },
  {
   "cell_type": "code",
   "execution_count": 158,
   "id": "a154e518",
   "metadata": {},
   "outputs": [
    {
     "name": "stdout",
     "output_type": "stream",
     "text": [
      "Engine Start 🤫!!\n"
     ]
    }
   ],
   "source": [
    "q9.engine_start()"
   ]
  },
  {
   "cell_type": "code",
   "execution_count": 161,
   "id": "9a964200",
   "metadata": {},
   "outputs": [
    {
     "data": {
      "text/plain": [
       "'White'"
      ]
     },
     "execution_count": 161,
     "metadata": {},
     "output_type": "execute_result"
    }
   ],
   "source": [
    "q9.color"
   ]
  },
  {
   "cell_type": "code",
   "execution_count": 162,
   "id": "92e7471f",
   "metadata": {},
   "outputs": [
    {
     "data": {
      "text/plain": [
       "4"
      ]
     },
     "execution_count": 162,
     "metadata": {},
     "output_type": "execute_result"
    }
   ],
   "source": [
    "q9.wheel"
   ]
  },
  {
   "cell_type": "code",
   "execution_count": 163,
   "id": "122b1b0b",
   "metadata": {},
   "outputs": [
    {
     "data": {
      "text/plain": [
       "'White'"
      ]
     },
     "execution_count": 163,
     "metadata": {},
     "output_type": "execute_result"
    }
   ],
   "source": [
    "q9.color"
   ]
  },
  {
   "cell_type": "code",
   "execution_count": 165,
   "id": "8a1503b1",
   "metadata": {
    "scrolled": true
   },
   "outputs": [
    {
     "data": {
      "text/plain": [
       "'Green'"
      ]
     },
     "execution_count": 165,
     "metadata": {},
     "output_type": "execute_result"
    }
   ],
   "source": [
    "q7.color"
   ]
  },
  {
   "cell_type": "code",
   "execution_count": 166,
   "id": "7d6e6207",
   "metadata": {},
   "outputs": [],
   "source": [
    "q7.color = 'Pink'"
   ]
  },
  {
   "cell_type": "code",
   "execution_count": 167,
   "id": "90b2ec13",
   "metadata": {},
   "outputs": [
    {
     "data": {
      "text/plain": [
       "'Pink'"
      ]
     },
     "execution_count": 167,
     "metadata": {},
     "output_type": "execute_result"
    }
   ],
   "source": [
    "q7.color"
   ]
  },
  {
   "cell_type": "code",
   "execution_count": 168,
   "id": "25f65e56",
   "metadata": {},
   "outputs": [
    {
     "data": {
      "text/plain": [
       "'White'"
      ]
     },
     "execution_count": 168,
     "metadata": {},
     "output_type": "execute_result"
    }
   ],
   "source": [
    "q9.color"
   ]
  },
  {
   "cell_type": "code",
   "execution_count": null,
   "id": "b6a89313",
   "metadata": {},
   "outputs": [],
   "source": []
  },
  {
   "cell_type": "code",
   "execution_count": null,
   "id": "f7051aec",
   "metadata": {},
   "outputs": [],
   "source": []
  },
  {
   "cell_type": "code",
   "execution_count": 101,
   "id": "8d036931",
   "metadata": {},
   "outputs": [],
   "source": [
    "q6 = Audi()"
   ]
  },
  {
   "cell_type": "code",
   "execution_count": 102,
   "id": "1dcdce2f",
   "metadata": {},
   "outputs": [
    {
     "name": "stdout",
     "output_type": "stream",
     "text": [
      "Engine Start 🤫!!\n"
     ]
    }
   ],
   "source": [
    "q6.engine_start()"
   ]
  },
  {
   "cell_type": "code",
   "execution_count": 103,
   "id": "b67d7973",
   "metadata": {},
   "outputs": [
    {
     "name": "stdout",
     "output_type": "stream",
     "text": [
      "Car in First gear!!\n"
     ]
    }
   ],
   "source": [
    "q6.first_gear()"
   ]
  },
  {
   "cell_type": "code",
   "execution_count": 104,
   "id": "724d2e8c",
   "metadata": {},
   "outputs": [
    {
     "name": "stdout",
     "output_type": "stream",
     "text": [
      "Pii pii\n"
     ]
    }
   ],
   "source": [
    "q6.horn()"
   ]
  },
  {
   "cell_type": "code",
   "execution_count": 105,
   "id": "5bb9d793",
   "metadata": {},
   "outputs": [
    {
     "name": "stdout",
     "output_type": "stream",
     "text": [
      "Engine Stop off??\n"
     ]
    }
   ],
   "source": [
    "q6.stop_engine()"
   ]
  },
  {
   "cell_type": "code",
   "execution_count": null,
   "id": "2f9ead3f",
   "metadata": {},
   "outputs": [],
   "source": []
  },
  {
   "cell_type": "code",
   "execution_count": 106,
   "id": "55c5b1db",
   "metadata": {},
   "outputs": [],
   "source": [
    "bmw = Audi()"
   ]
  },
  {
   "cell_type": "code",
   "execution_count": 107,
   "id": "46e97f3e",
   "metadata": {},
   "outputs": [
    {
     "name": "stdout",
     "output_type": "stream",
     "text": [
      "car Locked!!\n"
     ]
    }
   ],
   "source": [
    "bmw.auto_lock()"
   ]
  },
  {
   "cell_type": "code",
   "execution_count": 108,
   "id": "4e09017b",
   "metadata": {},
   "outputs": [],
   "source": [
    "nano = Audi()"
   ]
  },
  {
   "cell_type": "code",
   "execution_count": 109,
   "id": "6b0fc92f",
   "metadata": {},
   "outputs": [
    {
     "name": "stdout",
     "output_type": "stream",
     "text": [
      "Car in First gear!!\n"
     ]
    }
   ],
   "source": [
    "nano.first_gear()"
   ]
  },
  {
   "cell_type": "code",
   "execution_count": 112,
   "id": "1588d139",
   "metadata": {},
   "outputs": [],
   "source": [
    "kia = bmw"
   ]
  },
  {
   "cell_type": "code",
   "execution_count": 113,
   "id": "880a646c",
   "metadata": {},
   "outputs": [
    {
     "name": "stdout",
     "output_type": "stream",
     "text": [
      "Pii pii\n"
     ]
    }
   ],
   "source": [
    "kia.horn()"
   ]
  },
  {
   "cell_type": "code",
   "execution_count": 114,
   "id": "4375206c",
   "metadata": {},
   "outputs": [
    {
     "name": "stdout",
     "output_type": "stream",
     "text": [
      "1488625603728\n"
     ]
    }
   ],
   "source": [
    "print(id(bmw))"
   ]
  },
  {
   "cell_type": "code",
   "execution_count": 115,
   "id": "59eab932",
   "metadata": {},
   "outputs": [
    {
     "name": "stdout",
     "output_type": "stream",
     "text": [
      "1488625603728\n"
     ]
    }
   ],
   "source": [
    "print(id(kia))"
   ]
  },
  {
   "cell_type": "code",
   "execution_count": 116,
   "id": "2a55982b",
   "metadata": {},
   "outputs": [
    {
     "name": "stdout",
     "output_type": "stream",
     "text": [
      "1488625603728\n"
     ]
    }
   ],
   "source": [
    "print(id(nano))"
   ]
  },
  {
   "cell_type": "code",
   "execution_count": 117,
   "id": "f6511aea",
   "metadata": {},
   "outputs": [
    {
     "name": "stdout",
     "output_type": "stream",
     "text": [
      "1488626945616\n"
     ]
    }
   ],
   "source": [
    "print(id(q6))"
   ]
  },
  {
   "cell_type": "code",
   "execution_count": null,
   "id": "2e3b335f",
   "metadata": {},
   "outputs": [],
   "source": []
  },
  {
   "cell_type": "code",
   "execution_count": null,
   "id": "fc020a74",
   "metadata": {},
   "outputs": [],
   "source": []
  },
  {
   "cell_type": "code",
   "execution_count": 1,
   "id": "7ba9b5ab",
   "metadata": {},
   "outputs": [],
   "source": [
    "#h/w \n",
    "\n",
    "class Human:\n",
    "    \n",
    "    def __init__(self):\n",
    "        self.hand = 2\n",
    "        self.leg = 2\n",
    "        self.brain = 1\n",
    "        \n",
    "    def speak(self):\n",
    "        pass\n",
    "    \n",
    "    def walk(self):\n",
    "        pass\n",
    "    \n",
    "    def talk(self):\n",
    "        pass\n",
    "    \n",
    "    def use_brain(self):\n",
    "        pass\n",
    "    \n",
    "    def think(self):\n",
    "        pass"
   ]
  },
  {
   "cell_type": "code",
   "execution_count": null,
   "id": "de35b495",
   "metadata": {},
   "outputs": [],
   "source": []
  },
  {
   "cell_type": "code",
   "execution_count": null,
   "id": "97cfdacd",
   "metadata": {},
   "outputs": [],
   "source": []
  },
  {
   "cell_type": "markdown",
   "id": "0d633070",
   "metadata": {},
   "source": [
    "## day 2"
   ]
  },
  {
   "cell_type": "code",
   "execution_count": 1,
   "id": "678e11be",
   "metadata": {},
   "outputs": [],
   "source": [
    "import random\n",
    "import time\n",
    "import re\n",
    "\n",
    "class ATM:\n",
    "    def __init__(self):\n",
    "        self.balance = 2000\n",
    "        self.pin = '0000'\n",
    "        \n",
    "        user_pin = input('Enter your Pin: ')\n",
    "        \n",
    "        if user_pin == self.pin:\n",
    "            \n",
    "            user_choice = input('''Select any one choice:\n",
    "            1> Check Balance\n",
    "            2> Withdrawl\n",
    "            3> Deposit\n",
    "            4> Pin Change\n",
    "            5> Past Statements\n",
    "            6> Fast Cash\n",
    "            >>  ''')\n",
    "            \n",
    "            if user_choice == '1':\n",
    "                self.check_balance()\n",
    "                \n",
    "            elif user_choice == '2':\n",
    "                self.withdrawl()\n",
    "                \n",
    "            elif user_choice == '3':\n",
    "                self.deposit()\n",
    "                \n",
    "            elif user_choice == '4':\n",
    "                self.change_pin()\n",
    "                \n",
    "            elif user_choice == '5':\n",
    "                self.past_statements()\n",
    "                \n",
    "            elif user_choice == '6':\n",
    "                self.fast_cash()\n",
    "                \n",
    "            else:\n",
    "                print('Incorrect Choice!!')\n",
    "            \n",
    "            \n",
    "        else:\n",
    "            print('Incorrect Pin!!')\n",
    "        \n",
    "        \n",
    "        \n",
    "    def check_balance(self):\n",
    "        print(f'Your current balance is Rs {self.balance} !!')\n",
    "        self.play_audio(f'Your current balance is Rs {self.balance}')\n",
    "        \n",
    "    \n",
    "    def play_audio(self,data):\n",
    "        import pygame\n",
    "        from gtts import gTTS\n",
    "        pygame.init()\n",
    "\n",
    "        audio = gTTS(data)\n",
    "        audio.save('temp.mp3')\n",
    "        \n",
    "        my_sound = pygame.mixer.Sound('temp.mp3')\n",
    "        my_sound.play()\n",
    "    \n",
    "    def withdrawl(self):\n",
    "        try:\n",
    "            user_amount = int(input('Enter amount: '))\n",
    "            if 0<user_amount<=self.balance:\n",
    "                if user_amount % 100 == 0:\n",
    "                    if user_amount<=25000:\n",
    "                        print(f'Amount Rs {user_amount} withdrawl successfully!!')\n",
    "                        \n",
    "                        self.balance -= user_amount\n",
    "                        \n",
    "                        print(f'Updated Balance is RS {self.balance}')\n",
    "\n",
    "                    else:\n",
    "                        print('Daily limit exceed!!')\n",
    "\n",
    "                else:\n",
    "                    print('Amount must be multiple of rs 100')\n",
    "\n",
    "            else:\n",
    "                print('Invalid/Insufficient amount')\n",
    "                \n",
    "        except:\n",
    "            print('Invalid Amount!!\\nAmount must be in Rs')\n",
    "        \n",
    "    \n",
    "    def deposit(self):\n",
    "        user_deposit_amount = int(input('Enter amount: '))\n",
    "        \n",
    "        if 0 < user_deposit_amount<=50000:\n",
    "            \n",
    "            if user_deposit_amount % 100 == 0:\n",
    "                print(f'Amount Rs {user_deposit_amount} deposit successfully!!')\n",
    "                self.balance += user_deposit_amount\n",
    "                \n",
    "                self.check_balance()\n",
    "                \n",
    "            else:\n",
    "                print('Amount must be multiple of rs 100')\n",
    "        else:\n",
    "            print('Amount Daily Limit Exceed or \\nInvalid Amount!!') \n",
    "            \n",
    "            \n",
    "    \n",
    "    def change_pin(self):\n",
    "        \n",
    "        user_phone_no = input(\"Enter your registered mobile number: \")        \n",
    "        if len(user_phone_no) == 10:\n",
    "            pt = r'[6789]\\d{9}'\n",
    "\n",
    "            result = re.findall(pt,user_phone_no)\n",
    "            if len(result)!=0:\n",
    "                print(f'OTP has been sent to {result[0]}')\n",
    "                \n",
    "\n",
    "                sys_otp = random.randint(1111,9999)\n",
    "                \n",
    "                print('Sending',end='')\n",
    "                for i in range(5):\n",
    "                    time.sleep(1)\n",
    "                    print('.',end='')\n",
    "                    \n",
    "                \n",
    "                print(f'\\n\\nYour OTP is: {sys_otp}')\n",
    "\n",
    "                user_otp = int(input('Enter otp here: '))\n",
    "\n",
    "                try:\n",
    "                \n",
    "                    if user_otp == sys_otp:\n",
    "                        new_pin_1 = input('Create your Pin: ')\n",
    "\n",
    "                        if new_pin_1.isdigit():\n",
    "                            if len(new_pin_1) == 4:\n",
    "                                new_pin_2 = input('confirm your Pin: ')\n",
    "\n",
    "                                if new_pin_1 == new_pin_2:\n",
    "                                    self.pin = new_pin_1\n",
    "                                    print('Pin changed successfully!!')\n",
    "\n",
    "                                else:\n",
    "                                    print('Pin Mismatched!!')\n",
    "                            else:\n",
    "                                print('Pin must be a 4 digit number!!')\n",
    "                        else:\n",
    "                            print('Pin must be a 4 digit number!!')\n",
    "\n",
    "                    else:\n",
    "                        print('Incorrect OTP!!')\n",
    "                except:\n",
    "                    print('Incorrect Input!!')\n",
    "                \n",
    "                \n",
    "            else:\n",
    "                print('Incorrect Phone No!!')\n",
    "    \n",
    "        else:\n",
    "            print('Incorrect Phone No!!')\n",
    "        \n",
    "        \n",
    "\n",
    "    def past_statements(self,days = None):\n",
    "        \n",
    "        if days == None:\n",
    "            print('No such past transactions!!')\n",
    "            \n",
    "        else:\n",
    "        \n",
    "            past_data = [ random.choice(['+','-']) + str(random.randint(10,5000)) for i in range(1,days+1)]\n",
    "\n",
    "            for index,amount in enumerate(past_data):\n",
    "                index += 1\n",
    "                if amount[0] == '+':\n",
    "                    print(f'Transaction {index} amount credit {amount}')\n",
    "                else:\n",
    "                    print(f'Transaction {index} amount debit {amount}')\n",
    "\n",
    "                \n",
    "    \n",
    "    def fast_cash(self):\n",
    "        print('Development In Process!!')\n",
    "    \n",
    "    def card_less_Transactions(self):\n",
    "        print('Development In Process!!')"
   ]
  },
  {
   "cell_type": "code",
   "execution_count": null,
   "id": "d6ce491b",
   "metadata": {},
   "outputs": [],
   "source": []
  },
  {
   "cell_type": "code",
   "execution_count": 84,
   "id": "87083656",
   "metadata": {},
   "outputs": [
    {
     "name": "stdout",
     "output_type": "stream",
     "text": [
      "Enter your Pin: 0000\n",
      "Select any one choice:\n",
      "            1> Check Balance\n",
      "            2> Withdrawl\n",
      "            3> Deposit\n",
      "            4> Pin Change\n",
      "            5> Past Statements\n",
      "            6> Fast Cash\n",
      "            >>  1\n",
      "Your current balance is Rs 2000 !!\n"
     ]
    }
   ],
   "source": [
    "icic = ATM()"
   ]
  },
  {
   "cell_type": "code",
   "execution_count": null,
   "id": "c63181f7",
   "metadata": {},
   "outputs": [],
   "source": []
  },
  {
   "cell_type": "code",
   "execution_count": 85,
   "id": "1804f12f",
   "metadata": {},
   "outputs": [
    {
     "name": "stdout",
     "output_type": "stream",
     "text": [
      "Enter amount: 20000\n",
      "Amount Rs 20000 deposit successfully!!\n",
      "Your current balance is Rs 22000 !!\n"
     ]
    }
   ],
   "source": [
    "icic.deposit()"
   ]
  },
  {
   "cell_type": "code",
   "execution_count": 86,
   "id": "825166d2",
   "metadata": {},
   "outputs": [
    {
     "name": "stdout",
     "output_type": "stream",
     "text": [
      "Enter amount: 15000\n",
      "Amount Rs 15000 withdrawl successfully!!\n",
      "Updated Balance is RS 7000\n"
     ]
    }
   ],
   "source": [
    "icic.withdrawl()"
   ]
  },
  {
   "cell_type": "code",
   "execution_count": 87,
   "id": "b2707914",
   "metadata": {},
   "outputs": [
    {
     "name": "stdout",
     "output_type": "stream",
     "text": [
      "Your current balance is Rs 7000 !!\n"
     ]
    }
   ],
   "source": [
    "icic.check_balance()"
   ]
  },
  {
   "cell_type": "code",
   "execution_count": 77,
   "id": "1e2e0acd",
   "metadata": {},
   "outputs": [
    {
     "name": "stdout",
     "output_type": "stream",
     "text": [
      "Enter your registered mobile number: 9898787654\n",
      "OTP has been sent to 9898787654\n",
      "Sending.....\n",
      "\n",
      "Your OTP is: 8135\n",
      "Enter otp here: 8135\n",
      "Create your Pin: 1234\n",
      "confirm your Pin: 1234\n",
      "Pin changed successfully!!\n"
     ]
    }
   ],
   "source": [
    "icic.change_pin()"
   ]
  },
  {
   "cell_type": "code",
   "execution_count": null,
   "id": "4ed8fa0d",
   "metadata": {},
   "outputs": [],
   "source": []
  },
  {
   "cell_type": "code",
   "execution_count": null,
   "id": "6e3343d1",
   "metadata": {},
   "outputs": [],
   "source": []
  },
  {
   "cell_type": "code",
   "execution_count": null,
   "id": "ba789af7",
   "metadata": {},
   "outputs": [],
   "source": []
  },
  {
   "cell_type": "code",
   "execution_count": null,
   "id": "3c85a404",
   "metadata": {},
   "outputs": [],
   "source": []
  },
  {
   "cell_type": "code",
   "execution_count": 2,
   "id": "d6825f36",
   "metadata": {},
   "outputs": [
    {
     "name": "stdout",
     "output_type": "stream",
     "text": [
      "Enter your Pin: 0000\n",
      "Select any one choice:\n",
      "            1> Check Balance\n",
      "            2> Withdrawl\n",
      "            3> Deposit\n",
      "            4> Pin Change\n",
      "            5> Past Statements\n",
      "            6> Fast Cash\n",
      "            >>  2\n",
      "Enter amount: 1500\n",
      "Amount Rs 1500 withdrawl successfully!!\n",
      "Updated Balance is RS 500\n"
     ]
    }
   ],
   "source": [
    "hdfc = ATM()"
   ]
  },
  {
   "cell_type": "code",
   "execution_count": 3,
   "id": "06acd8f3",
   "metadata": {},
   "outputs": [
    {
     "name": "stdout",
     "output_type": "stream",
     "text": [
      "Your current balance is Rs 500 !!\n",
      "pygame 2.5.1 (SDL 2.28.2, Python 3.11.3)\n",
      "Hello from the pygame community. https://www.pygame.org/contribute.html\n"
     ]
    }
   ],
   "source": [
    "hdfc.check_balance()"
   ]
  },
  {
   "cell_type": "code",
   "execution_count": 4,
   "id": "90c51169",
   "metadata": {},
   "outputs": [
    {
     "name": "stdout",
     "output_type": "stream",
     "text": [
      "Enter amount: 25000\n",
      "Amount Rs 25000 deposit successfully!!\n",
      "Your current balance is Rs 25500 !!\n"
     ]
    }
   ],
   "source": [
    "hdfc.deposit()"
   ]
  },
  {
   "cell_type": "code",
   "execution_count": 10,
   "id": "4c0a71d8",
   "metadata": {},
   "outputs": [
    {
     "name": "stdout",
     "output_type": "stream",
     "text": [
      "Enter your registered mobile number: 9898787654\n",
      "OTP has been sent to 9898787654\n",
      "Sending.....\n",
      "\n",
      "Your OTP is: 3307\n",
      "Enter otp here: 3307\n",
      "Create your Pin: 1234\n",
      "confirm your Pin: 1234\n",
      "Pin changed successfully!!\n"
     ]
    }
   ],
   "source": [
    "hdfc.change_pin()"
   ]
  },
  {
   "cell_type": "code",
   "execution_count": 11,
   "id": "ec7a3dfb",
   "metadata": {},
   "outputs": [
    {
     "data": {
      "text/plain": [
       "'1234'"
      ]
     },
     "execution_count": 11,
     "metadata": {},
     "output_type": "execute_result"
    }
   ],
   "source": [
    "hdfc.pin"
   ]
  },
  {
   "cell_type": "code",
   "execution_count": null,
   "id": "357e2e60",
   "metadata": {},
   "outputs": [],
   "source": []
  },
  {
   "cell_type": "code",
   "execution_count": null,
   "id": "284b2c5f",
   "metadata": {},
   "outputs": [],
   "source": []
  },
  {
   "cell_type": "code",
   "execution_count": null,
   "id": "716ad29d",
   "metadata": {},
   "outputs": [],
   "source": []
  },
  {
   "cell_type": "markdown",
   "id": "3b637194",
   "metadata": {},
   "source": [
    "# Day 3 OOPS"
   ]
  },
  {
   "cell_type": "code",
   "execution_count": null,
   "id": "ce217e26",
   "metadata": {},
   "outputs": [],
   "source": [
    "# I\n",
    "# P\n",
    "# E\n",
    "# A"
   ]
  },
  {
   "attachments": {
    "4-pillars-of-OOP-1024x585.jpg": {
     "image/jpeg": "[encoded data removed]"
    }
   },
   "cell_type": "markdown",
   "id": "fa05037c",
   "metadata": {},
   "source": [
    "![4-pillars-of-OOP-1024x585.jpg](attachment:4-pillars-of-OOP-1024x585.jpg)"
   ]
  },
  {
   "cell_type": "code",
   "execution_count": 12,
   "id": "7beb5e18",
   "metadata": {},
   "outputs": [
    {
     "data": {
      "text/plain": [
       "'1234'"
      ]
     },
     "execution_count": 12,
     "metadata": {},
     "output_type": "execute_result"
    }
   ],
   "source": [
    "hdfc.pin"
   ]
  },
  {
   "cell_type": "code",
   "execution_count": 13,
   "id": "621eadce",
   "metadata": {},
   "outputs": [],
   "source": [
    "hdfc.play_audio('Welcome')"
   ]
  },
  {
   "cell_type": "code",
   "execution_count": 14,
   "id": "6629f61a",
   "metadata": {},
   "outputs": [],
   "source": [
    "# class A\n",
    "# 4 m\n",
    "\n",
    "# class B\n",
    "# 3\n",
    "\n",
    "# class C\n"
   ]
  },
  {
   "cell_type": "code",
   "execution_count": 15,
   "id": "9c6b3374",
   "metadata": {},
   "outputs": [],
   "source": [
    "# private variable\n",
    "# public varible\n",
    "# protected variable"
   ]
  },
  {
   "cell_type": "markdown",
   "id": "4de5d3cd",
   "metadata": {},
   "source": [
    "# Encapsulation"
   ]
  },
  {
   "cell_type": "code",
   "execution_count": 16,
   "id": "c1895290",
   "metadata": {},
   "outputs": [],
   "source": [
    "# public varible\n",
    "class ATM:\n",
    "    def __init__(self):\n",
    "        self.pin = '0000'\n",
    "        self.balance = 3245678\n",
    "        \n",
    "    def deposit(self):\n",
    "        print('deposit')\n",
    "    \n",
    "    def play_audio(self):\n",
    "        print('Audio')\n",
    "        \n",
    "    def withdrawl(self):\n",
    "        print('withdrawl')"
   ]
  },
  {
   "cell_type": "code",
   "execution_count": 17,
   "id": "4e18ab8e",
   "metadata": {},
   "outputs": [],
   "source": [
    "axis = ATM()"
   ]
  },
  {
   "cell_type": "code",
   "execution_count": 18,
   "id": "0cdc0a3c",
   "metadata": {},
   "outputs": [
    {
     "data": {
      "text/plain": [
       "'0000'"
      ]
     },
     "execution_count": 18,
     "metadata": {},
     "output_type": "execute_result"
    }
   ],
   "source": [
    "axis.pin"
   ]
  },
  {
   "cell_type": "code",
   "execution_count": 19,
   "id": "61d91ebf",
   "metadata": {},
   "outputs": [
    {
     "name": "stdout",
     "output_type": "stream",
     "text": [
      "withdrawl\n"
     ]
    }
   ],
   "source": [
    "axis.withdrawl()"
   ]
  },
  {
   "cell_type": "code",
   "execution_count": 20,
   "id": "548463d4",
   "metadata": {},
   "outputs": [],
   "source": [
    "# protected variable"
   ]
  },
  {
   "cell_type": "code",
   "execution_count": 21,
   "id": "61f4ba95",
   "metadata": {},
   "outputs": [],
   "source": [
    "class ATM:\n",
    "    def __init__(self):\n",
    "        self._pin = '0000'\n",
    "        self._balance = 3245678\n",
    "        \n",
    "    def deposit(self):\n",
    "        print('deposit')\n",
    "    \n",
    "    def play_audio(self):\n",
    "        print('Audio')\n",
    "        \n",
    "    def withdrawl(self):\n",
    "        print('withdrawl')"
   ]
  },
  {
   "cell_type": "code",
   "execution_count": 22,
   "id": "780751f4",
   "metadata": {},
   "outputs": [],
   "source": [
    "icic = ATM()"
   ]
  },
  {
   "cell_type": "code",
   "execution_count": 27,
   "id": "bdea9d9d",
   "metadata": {},
   "outputs": [
    {
     "data": {
      "text/plain": [
       "'0000'"
      ]
     },
     "execution_count": 27,
     "metadata": {},
     "output_type": "execute_result"
    }
   ],
   "source": [
    "icic._pin"
   ]
  },
  {
   "cell_type": "code",
   "execution_count": 26,
   "id": "85ec9e5c",
   "metadata": {},
   "outputs": [
    {
     "data": {
      "text/plain": [
       "'0000'"
      ]
     },
     "execution_count": 26,
     "metadata": {},
     "output_type": "execute_result"
    }
   ],
   "source": [
    "icic._pin"
   ]
  },
  {
   "cell_type": "code",
   "execution_count": null,
   "id": "2e97b4d2",
   "metadata": {},
   "outputs": [],
   "source": []
  },
  {
   "cell_type": "code",
   "execution_count": null,
   "id": "9d1273ea",
   "metadata": {},
   "outputs": [],
   "source": []
  },
  {
   "cell_type": "code",
   "execution_count": 38,
   "id": "b10222e2",
   "metadata": {},
   "outputs": [],
   "source": [
    "# Private variable\n",
    "class ATM:\n",
    "    def __init__(self):\n",
    "        self.__pin = '0000'\n",
    "        self.__balance = 3245678\n",
    "        \n",
    "    def deposit(self):\n",
    "        print('deposit')\n",
    "    \n",
    "    def play_audio(self):\n",
    "        print('Audio')\n",
    "        \n",
    "    def withdrawl(self):\n",
    "        print('withdrawl')"
   ]
  },
  {
   "cell_type": "code",
   "execution_count": null,
   "id": "6064b041",
   "metadata": {},
   "outputs": [],
   "source": []
  },
  {
   "cell_type": "code",
   "execution_count": 32,
   "id": "c2df6ea9",
   "metadata": {},
   "outputs": [],
   "source": [
    "# int a = 12 "
   ]
  },
  {
   "cell_type": "code",
   "execution_count": 34,
   "id": "f3249eec",
   "metadata": {},
   "outputs": [],
   "source": [
    "# gold rush"
   ]
  },
  {
   "cell_type": "code",
   "execution_count": 37,
   "id": "37590072",
   "metadata": {},
   "outputs": [],
   "source": [
    "# open ai:- chat gpt:- google:- deep mind\n",
    "# meta:- VR\n",
    "# IBM\n",
    "# amazon\n",
    "# mic\n",
    "# nvidia:- AI chips\n",
    "\n",
    "# impl"
   ]
  },
  {
   "cell_type": "code",
   "execution_count": 39,
   "id": "e772be44",
   "metadata": {},
   "outputs": [],
   "source": [
    "# Private variable\n",
    "class ATM:\n",
    "    def __init__(self):\n",
    "        self.__pin = '0000'\n",
    "        self.__balance = 3245678\n",
    "        \n",
    "    def deposit(self):\n",
    "        print('deposit')\n",
    "    \n",
    "    def play_audio(self):\n",
    "        print('Audio')\n",
    "        \n",
    "    def withdrawl(self):\n",
    "        print('withdrawl')"
   ]
  },
  {
   "cell_type": "code",
   "execution_count": 41,
   "id": "8b7e01e2",
   "metadata": {},
   "outputs": [],
   "source": [
    "axis = ATM()"
   ]
  },
  {
   "cell_type": "code",
   "execution_count": 45,
   "id": "7dd23e36",
   "metadata": {},
   "outputs": [
    {
     "data": {
      "text/plain": [
       "'0000'"
      ]
     },
     "execution_count": 45,
     "metadata": {},
     "output_type": "execute_result"
    }
   ],
   "source": [
    "axis._ATM__pin"
   ]
  },
  {
   "cell_type": "code",
   "execution_count": 49,
   "id": "82297821",
   "metadata": {},
   "outputs": [],
   "source": [
    "ATM()._ATM__pin = 9899"
   ]
  },
  {
   "cell_type": "code",
   "execution_count": 50,
   "id": "cded58ab",
   "metadata": {},
   "outputs": [],
   "source": [
    "fbi = ATM()"
   ]
  },
  {
   "cell_type": "code",
   "execution_count": 51,
   "id": "f4e0392b",
   "metadata": {},
   "outputs": [
    {
     "data": {
      "text/plain": [
       "'0000'"
      ]
     },
     "execution_count": 51,
     "metadata": {},
     "output_type": "execute_result"
    }
   ],
   "source": [
    "fbi._ATM__pin"
   ]
  },
  {
   "cell_type": "code",
   "execution_count": 52,
   "id": "eef77522",
   "metadata": {},
   "outputs": [],
   "source": [
    "hdfc = ATM()"
   ]
  },
  {
   "cell_type": "code",
   "execution_count": 53,
   "id": "b453fd48",
   "metadata": {},
   "outputs": [
    {
     "data": {
      "text/plain": [
       "'0000'"
      ]
     },
     "execution_count": 53,
     "metadata": {},
     "output_type": "execute_result"
    }
   ],
   "source": [
    "hdfc._ATM__pin"
   ]
  },
  {
   "cell_type": "code",
   "execution_count": 54,
   "id": "24e26293",
   "metadata": {},
   "outputs": [],
   "source": [
    "hdfc._ATM__pin = 9999"
   ]
  },
  {
   "cell_type": "code",
   "execution_count": 55,
   "id": "fc57771d",
   "metadata": {},
   "outputs": [
    {
     "data": {
      "text/plain": [
       "9999"
      ]
     },
     "execution_count": 55,
     "metadata": {},
     "output_type": "execute_result"
    }
   ],
   "source": [
    "hdfc._ATM__pin"
   ]
  },
  {
   "cell_type": "code",
   "execution_count": 56,
   "id": "9864935a",
   "metadata": {},
   "outputs": [],
   "source": [
    "hdfc.pin = 2345"
   ]
  },
  {
   "cell_type": "code",
   "execution_count": 57,
   "id": "447d39de",
   "metadata": {},
   "outputs": [
    {
     "data": {
      "text/plain": [
       "9999"
      ]
     },
     "execution_count": 57,
     "metadata": {},
     "output_type": "execute_result"
    }
   ],
   "source": [
    "hdfc._ATM__pin"
   ]
  },
  {
   "cell_type": "code",
   "execution_count": null,
   "id": "e088a9fe",
   "metadata": {},
   "outputs": [],
   "source": []
  },
  {
   "cell_type": "markdown",
   "id": "14c7ffae",
   "metadata": {},
   "source": [
    "# Day 4"
   ]
  },
  {
   "cell_type": "markdown",
   "id": "7706b949",
   "metadata": {},
   "source": [
    "# Inheritance"
   ]
  },
  {
   "cell_type": "code",
   "execution_count": 1,
   "id": "da626b0d",
   "metadata": {},
   "outputs": [],
   "source": [
    "# simple \n",
    "# multiple\n",
    "# multilevel\n",
    "# hybrid"
   ]
  },
  {
   "cell_type": "code",
   "execution_count": 24,
   "id": "a7e145fe",
   "metadata": {},
   "outputs": [],
   "source": [
    "# simple \n",
    "\n",
    "class A:\n",
    "    def func_a(self):\n",
    "        print('I am class A func_a')\n",
    "    \n",
    "    def func_b(self):\n",
    "        print('I am class A func_b')"
   ]
  },
  {
   "cell_type": "code",
   "execution_count": 25,
   "id": "5516d5d9",
   "metadata": {},
   "outputs": [],
   "source": [
    "class B(A):\n",
    "    def event_a(self):\n",
    "        print('I am class B event_a')\n",
    "    \n",
    "    def event_b(self):\n",
    "        print('I am class B event_b') "
   ]
  },
  {
   "cell_type": "code",
   "execution_count": null,
   "id": "cc4ac07b",
   "metadata": {},
   "outputs": [],
   "source": []
  },
  {
   "cell_type": "code",
   "execution_count": 13,
   "id": "13628ae1",
   "metadata": {},
   "outputs": [],
   "source": [
    "objb = B()"
   ]
  },
  {
   "cell_type": "code",
   "execution_count": 14,
   "id": "c55388b3",
   "metadata": {},
   "outputs": [
    {
     "name": "stdout",
     "output_type": "stream",
     "text": [
      "I am class B event_a\n"
     ]
    }
   ],
   "source": [
    "objb.event_a()"
   ]
  },
  {
   "cell_type": "code",
   "execution_count": 15,
   "id": "e30308a6",
   "metadata": {},
   "outputs": [
    {
     "name": "stdout",
     "output_type": "stream",
     "text": [
      "I am class A func_a\n"
     ]
    }
   ],
   "source": [
    "objb.func_a()"
   ]
  },
  {
   "cell_type": "code",
   "execution_count": 16,
   "id": "30ed9c5f",
   "metadata": {},
   "outputs": [
    {
     "name": "stdout",
     "output_type": "stream",
     "text": [
      "I am class A func_b\n"
     ]
    }
   ],
   "source": [
    "objb.func_b()"
   ]
  },
  {
   "cell_type": "code",
   "execution_count": null,
   "id": "81ca1b2c",
   "metadata": {},
   "outputs": [],
   "source": []
  },
  {
   "cell_type": "code",
   "execution_count": 19,
   "id": "99fc141c",
   "metadata": {},
   "outputs": [],
   "source": [
    "obj_a = A()"
   ]
  },
  {
   "cell_type": "code",
   "execution_count": 20,
   "id": "6274aa92",
   "metadata": {},
   "outputs": [],
   "source": [
    "# obj_a"
   ]
  },
  {
   "cell_type": "code",
   "execution_count": null,
   "id": "8b5b4021",
   "metadata": {},
   "outputs": [],
   "source": []
  },
  {
   "cell_type": "code",
   "execution_count": null,
   "id": "beaca423",
   "metadata": {},
   "outputs": [],
   "source": []
  },
  {
   "cell_type": "code",
   "execution_count": 26,
   "id": "a40687ac",
   "metadata": {},
   "outputs": [],
   "source": [
    "# multiple"
   ]
  },
  {
   "cell_type": "code",
   "execution_count": 27,
   "id": "04811e15",
   "metadata": {},
   "outputs": [],
   "source": [
    "class Samsung:\n",
    "    def display(self):\n",
    "        print('Samsung HD Amoled Display')\n",
    "        \n",
    "    \n",
    "class Sony:\n",
    "    def camera_lens(self):\n",
    "        print('High MPX Camera Lens')\n",
    "        \n",
    "\n",
    "        \n",
    "class Mediatek:\n",
    "    def dimensity_7020(self):\n",
    "        print('dimensity_7020')\n",
    "        \n",
    "\n",
    "class Lava:\n",
    "    \n",
    "    def super_charge_battery(self):\n",
    "        print('I can charge within sec!!')\n",
    "        \n",
    "class TSMC:\n",
    "    \n",
    "    def mother_board(self):\n",
    "        print('I can make any nanometer chips!!')\n",
    "        \n",
    "\n",
    "class Foxcon:\n",
    "    \n",
    "    def phone_cover(self):\n",
    "        print('unbreakable scratch resistant cover!!')\n",
    "        \n",
    "        \n"
   ]
  },
  {
   "cell_type": "code",
   "execution_count": 32,
   "id": "317d56b2",
   "metadata": {},
   "outputs": [],
   "source": [
    "class Nokia(Samsung,Sony,Mediatek,Lava,TSMC,Foxcon):\n",
    "    def brand_name(self):\n",
    "        print('Rising Brand name!!')"
   ]
  },
  {
   "cell_type": "code",
   "execution_count": 33,
   "id": "a7511bc0",
   "metadata": {},
   "outputs": [],
   "source": [
    "nokia_1210 = Nokia()"
   ]
  },
  {
   "cell_type": "code",
   "execution_count": 34,
   "id": "c5122100",
   "metadata": {},
   "outputs": [
    {
     "name": "stdout",
     "output_type": "stream",
     "text": [
      "Rising Brand name!!\n"
     ]
    }
   ],
   "source": [
    "nokia_1210.brand_name()"
   ]
  },
  {
   "cell_type": "code",
   "execution_count": 35,
   "id": "53d06db9",
   "metadata": {},
   "outputs": [
    {
     "name": "stdout",
     "output_type": "stream",
     "text": [
      "High MPX Camera Lens\n"
     ]
    }
   ],
   "source": [
    "nokia_1210.camera_lens()"
   ]
  },
  {
   "cell_type": "code",
   "execution_count": 36,
   "id": "37d43eeb",
   "metadata": {},
   "outputs": [
    {
     "name": "stdout",
     "output_type": "stream",
     "text": [
      "unbreakable scratch resistant cover!!\n"
     ]
    }
   ],
   "source": [
    "nokia_1210.phone_cover()"
   ]
  },
  {
   "cell_type": "code",
   "execution_count": 37,
   "id": "c87c1e32",
   "metadata": {},
   "outputs": [
    {
     "name": "stdout",
     "output_type": "stream",
     "text": [
      "I can charge within sec!!\n"
     ]
    }
   ],
   "source": [
    "nokia_1210.super_charge_battery()"
   ]
  },
  {
   "cell_type": "code",
   "execution_count": null,
   "id": "91048655",
   "metadata": {},
   "outputs": [],
   "source": []
  },
  {
   "cell_type": "code",
   "execution_count": null,
   "id": "7d5738d1",
   "metadata": {},
   "outputs": [],
   "source": []
  },
  {
   "cell_type": "code",
   "execution_count": 38,
   "id": "c75fa206",
   "metadata": {},
   "outputs": [],
   "source": [
    "# multilevel"
   ]
  },
  {
   "cell_type": "code",
   "execution_count": 39,
   "id": "76c0d55b",
   "metadata": {},
   "outputs": [],
   "source": [
    "class Fore_Grand_Father:\n",
    "    def Zameen_mafia(self):\n",
    "        print('Zameen Hi Zameen')\n",
    "\n",
    "\n",
    "class GrandFather(Fore_Grand_Father):\n",
    "    def blind_money(self):\n",
    "        print('Andha Paisa!!')\n",
    "        \n",
    "\n",
    "class Father(GrandFather):\n",
    "    def moral_lessons(self):\n",
    "        print('Daily Moral Lessons!!')\n",
    "        \n",
    "class Son(Father):\n",
    "    def time(self):\n",
    "        print('Mein samay hoon!!')\n",
    "        \n"
   ]
  },
  {
   "cell_type": "code",
   "execution_count": 40,
   "id": "7395462f",
   "metadata": {},
   "outputs": [],
   "source": [
    "tau = Fore_Grand_Father()"
   ]
  },
  {
   "cell_type": "code",
   "execution_count": 41,
   "id": "7a0c1576",
   "metadata": {},
   "outputs": [
    {
     "name": "stdout",
     "output_type": "stream",
     "text": [
      "Zameen Hi Zameen\n"
     ]
    }
   ],
   "source": [
    "tau.Zameen_mafia()"
   ]
  },
  {
   "cell_type": "code",
   "execution_count": 42,
   "id": "97801517",
   "metadata": {},
   "outputs": [],
   "source": [
    "tau_ka_beta = GrandFather()"
   ]
  },
  {
   "cell_type": "code",
   "execution_count": 43,
   "id": "d52a6772",
   "metadata": {},
   "outputs": [
    {
     "name": "stdout",
     "output_type": "stream",
     "text": [
      "Andha Paisa!!\n"
     ]
    }
   ],
   "source": [
    "tau_ka_beta.blind_money()"
   ]
  },
  {
   "cell_type": "code",
   "execution_count": 44,
   "id": "83d37c5d",
   "metadata": {},
   "outputs": [
    {
     "name": "stdout",
     "output_type": "stream",
     "text": [
      "Zameen Hi Zameen\n"
     ]
    }
   ],
   "source": [
    "tau_ka_beta.Zameen_mafia()"
   ]
  },
  {
   "cell_type": "code",
   "execution_count": null,
   "id": "b46daefb",
   "metadata": {},
   "outputs": [],
   "source": []
  },
  {
   "cell_type": "code",
   "execution_count": 45,
   "id": "72eda1a2",
   "metadata": {},
   "outputs": [],
   "source": [
    "gulshan_kumar = Father()"
   ]
  },
  {
   "cell_type": "code",
   "execution_count": 46,
   "id": "96ea682c",
   "metadata": {},
   "outputs": [
    {
     "name": "stdout",
     "output_type": "stream",
     "text": [
      "Daily Moral Lessons!!\n"
     ]
    }
   ],
   "source": [
    "gulshan_kumar.moral_lessons()"
   ]
  },
  {
   "cell_type": "code",
   "execution_count": 47,
   "id": "61842d0c",
   "metadata": {},
   "outputs": [
    {
     "name": "stdout",
     "output_type": "stream",
     "text": [
      "Zameen Hi Zameen\n"
     ]
    }
   ],
   "source": [
    "gulshan_kumar.Zameen_mafia()"
   ]
  },
  {
   "cell_type": "code",
   "execution_count": null,
   "id": "02c501a6",
   "metadata": {},
   "outputs": [],
   "source": []
  },
  {
   "cell_type": "code",
   "execution_count": 48,
   "id": "988f7b80",
   "metadata": {},
   "outputs": [],
   "source": [
    "dolly_chai_wala = Son()"
   ]
  },
  {
   "cell_type": "code",
   "execution_count": 49,
   "id": "52ad55bc",
   "metadata": {},
   "outputs": [
    {
     "name": "stdout",
     "output_type": "stream",
     "text": [
      "Mein samay hoon!!\n"
     ]
    }
   ],
   "source": [
    "dolly_chai_wala.time()"
   ]
  },
  {
   "cell_type": "code",
   "execution_count": null,
   "id": "87ee21a5",
   "metadata": {},
   "outputs": [],
   "source": []
  },
  {
   "cell_type": "code",
   "execution_count": null,
   "id": "75971134",
   "metadata": {},
   "outputs": [],
   "source": []
  },
  {
   "cell_type": "code",
   "execution_count": 50,
   "id": "bc4e13e7",
   "metadata": {},
   "outputs": [],
   "source": [
    "# Hybrid"
   ]
  },
  {
   "cell_type": "code",
   "execution_count": 51,
   "id": "ea59858f",
   "metadata": {},
   "outputs": [],
   "source": [
    "class Putin:\n",
    "    def self_driven(self):\n",
    "        print('Ab to Bhag Milkha!!')\n",
    "        \n",
    "class Trump:\n",
    "    def next_president(self):\n",
    "        print('next_president!!')"
   ]
  },
  {
   "cell_type": "code",
   "execution_count": 52,
   "id": "fb2b8bb3",
   "metadata": {},
   "outputs": [],
   "source": [
    "class Son(Father,Putin,Trump):\n",
    "    def time(self):\n",
    "        print('Mein samay hoon!!')\n",
    "        "
   ]
  },
  {
   "cell_type": "code",
   "execution_count": 53,
   "id": "98b156b8",
   "metadata": {},
   "outputs": [],
   "source": [
    "tapri = Son()"
   ]
  },
  {
   "cell_type": "code",
   "execution_count": 54,
   "id": "96ce9e67",
   "metadata": {},
   "outputs": [
    {
     "name": "stdout",
     "output_type": "stream",
     "text": [
      "Ab to Bhag Milkha!!\n"
     ]
    }
   ],
   "source": [
    "tapri.self_driven()"
   ]
  },
  {
   "cell_type": "code",
   "execution_count": 55,
   "id": "9b8a389a",
   "metadata": {},
   "outputs": [
    {
     "name": "stdout",
     "output_type": "stream",
     "text": [
      "next_president!!\n"
     ]
    }
   ],
   "source": [
    "tapri.next_president()"
   ]
  },
  {
   "cell_type": "code",
   "execution_count": null,
   "id": "61cbd109",
   "metadata": {},
   "outputs": [],
   "source": []
  },
  {
   "cell_type": "code",
   "execution_count": null,
   "id": "cb4b1759",
   "metadata": {},
   "outputs": [],
   "source": []
  },
  {
   "cell_type": "code",
   "execution_count": 58,
   "id": "5509c7af",
   "metadata": {},
   "outputs": [
    {
     "ename": "ImportError",
     "evalue": "cannot import name 'panday' from 'random' (C:\\Users\\Lenovo\\anaconda3\\Lib\\random.py)",
     "output_type": "error",
     "traceback": [
      "\u001b[1;31m---------------------------------------------------------------------------\u001b[0m",
      "\u001b[1;31mImportError\u001b[0m                               Traceback (most recent call last)",
      "Cell \u001b[1;32mIn[58], line 1\u001b[0m\n\u001b[1;32m----> 1\u001b[0m \u001b[38;5;28;01mfrom\u001b[39;00m \u001b[38;5;21;01mrandom\u001b[39;00m \u001b[38;5;28;01mimport\u001b[39;00m panday\n",
      "\u001b[1;31mImportError\u001b[0m: cannot import name 'panday' from 'random' (C:\\Users\\Lenovo\\anaconda3\\Lib\\random.py)"
     ]
    }
   ],
   "source": [
    "from random import panday"
   ]
  },
  {
   "cell_type": "code",
   "execution_count": null,
   "id": "1468f61a",
   "metadata": {},
   "outputs": [],
   "source": []
  },
  {
   "cell_type": "code",
   "execution_count": null,
   "id": "04e5ba36",
   "metadata": {},
   "outputs": [],
   "source": []
  },
  {
   "cell_type": "code",
   "execution_count": 60,
   "id": "24bea895",
   "metadata": {},
   "outputs": [],
   "source": [
    "import IPython"
   ]
  },
  {
   "cell_type": "code",
   "execution_count": 62,
   "id": "0cddc9c1",
   "metadata": {},
   "outputs": [
    {
     "data": {
      "text/html": [
       "<style>pre { line-height: 125%; }\n",
       "td.linenos .normal { color: inherit; background-color: transparent; padding-left: 5px; padding-right: 5px; }\n",
       "span.linenos { color: inherit; background-color: transparent; padding-left: 5px; padding-right: 5px; }\n",
       "td.linenos .special { color: #000000; background-color: #ffffc0; padding-left: 5px; padding-right: 5px; }\n",
       "span.linenos.special { color: #000000; background-color: #ffffc0; padding-left: 5px; padding-right: 5px; }\n",
       ".output_html .hll { background-color: #ffffcc }\n",
       ".output_html { background: #f8f8f8; }\n",
       ".output_html .c { color: #3D7B7B; font-style: italic } /* Comment */\n",
       ".output_html .err { border: 1px solid #FF0000 } /* Error */\n",
       ".output_html .k { color: #008000; font-weight: bold } /* Keyword */\n",
       ".output_html .o { color: #666666 } /* Operator */\n",
       ".output_html .ch { color: #3D7B7B; font-style: italic } /* Comment.Hashbang */\n",
       ".output_html .cm { color: #3D7B7B; font-style: italic } /* Comment.Multiline */\n",
       ".output_html .cp { color: #9C6500 } /* Comment.Preproc */\n",
       ".output_html .cpf { color: #3D7B7B; font-style: italic } /* Comment.PreprocFile */\n",
       ".output_html .c1 { color: #3D7B7B; font-style: italic } /* Comment.Single */\n",
       ".output_html .cs { color: #3D7B7B; font-style: italic } /* Comment.Special */\n",
       ".output_html .gd { color: #A00000 } /* Generic.Deleted */\n",
       ".output_html .ge { font-style: italic } /* Generic.Emph */\n",
       ".output_html .gr { color: #E40000 } /* Generic.Error */\n",
       ".output_html .gh { color: #000080; font-weight: bold } /* Generic.Heading */\n",
       ".output_html .gi { color: #008400 } /* Generic.Inserted */\n",
       ".output_html .go { color: #717171 } /* Generic.Output */\n",
       ".output_html .gp { color: #000080; font-weight: bold } /* Generic.Prompt */\n",
       ".output_html .gs { font-weight: bold } /* Generic.Strong */\n",
       ".output_html .gu { color: #800080; font-weight: bold } /* Generic.Subheading */\n",
       ".output_html .gt { color: #0044DD } /* Generic.Traceback */\n",
       ".output_html .kc { color: #008000; font-weight: bold } /* Keyword.Constant */\n",
       ".output_html .kd { color: #008000; font-weight: bold } /* Keyword.Declaration */\n",
       ".output_html .kn { color: #008000; font-weight: bold } /* Keyword.Namespace */\n",
       ".output_html .kp { color: #008000 } /* Keyword.Pseudo */\n",
       ".output_html .kr { color: #008000; font-weight: bold } /* Keyword.Reserved */\n",
       ".output_html .kt { color: #B00040 } /* Keyword.Type */\n",
       ".output_html .m { color: #666666 } /* Literal.Number */\n",
       ".output_html .s { color: #BA2121 } /* Literal.String */\n",
       ".output_html .na { color: #687822 } /* Name.Attribute */\n",
       ".output_html .nb { color: #008000 } /* Name.Builtin */\n",
       ".output_html .nc { color: #0000FF; font-weight: bold } /* Name.Class */\n",
       ".output_html .no { color: #880000 } /* Name.Constant */\n",
       ".output_html .nd { color: #AA22FF } /* Name.Decorator */\n",
       ".output_html .ni { color: #717171; font-weight: bold } /* Name.Entity */\n",
       ".output_html .ne { color: #CB3F38; font-weight: bold } /* Name.Exception */\n",
       ".output_html .nf { color: #0000FF } /* Name.Function */\n",
       ".output_html .nl { color: #767600 } /* Name.Label */\n",
       ".output_html .nn { color: #0000FF; font-weight: bold } /* Name.Namespace */\n",
       ".output_html .nt { color: #008000; font-weight: bold } /* Name.Tag */\n",
       ".output_html .nv { color: #19177C } /* Name.Variable */\n",
       ".output_html .ow { color: #AA22FF; font-weight: bold } /* Operator.Word */\n",
       ".output_html .w { color: #bbbbbb } /* Text.Whitespace */\n",
       ".output_html .mb { color: #666666 } /* Literal.Number.Bin */\n",
       ".output_html .mf { color: #666666 } /* Literal.Number.Float */\n",
       ".output_html .mh { color: #666666 } /* Literal.Number.Hex */\n",
       ".output_html .mi { color: #666666 } /* Literal.Number.Integer */\n",
       ".output_html .mo { color: #666666 } /* Literal.Number.Oct */\n",
       ".output_html .sa { color: #BA2121 } /* Literal.String.Affix */\n",
       ".output_html .sb { color: #BA2121 } /* Literal.String.Backtick */\n",
       ".output_html .sc { color: #BA2121 } /* Literal.String.Char */\n",
       ".output_html .dl { color: #BA2121 } /* Literal.String.Delimiter */\n",
       ".output_html .sd { color: #BA2121; font-style: italic } /* Literal.String.Doc */\n",
       ".output_html .s2 { color: #BA2121 } /* Literal.String.Double */\n",
       ".output_html .se { color: #AA5D1F; font-weight: bold } /* Literal.String.Escape */\n",
       ".output_html .sh { color: #BA2121 } /* Literal.String.Heredoc */\n",
       ".output_html .si { color: #A45A77; font-weight: bold } /* Literal.String.Interpol */\n",
       ".output_html .sx { color: #008000 } /* Literal.String.Other */\n",
       ".output_html .sr { color: #A45A77 } /* Literal.String.Regex */\n",
       ".output_html .s1 { color: #BA2121 } /* Literal.String.Single */\n",
       ".output_html .ss { color: #19177C } /* Literal.String.Symbol */\n",
       ".output_html .bp { color: #008000 } /* Name.Builtin.Pseudo */\n",
       ".output_html .fm { color: #0000FF } /* Name.Function.Magic */\n",
       ".output_html .vc { color: #19177C } /* Name.Variable.Class */\n",
       ".output_html .vg { color: #19177C } /* Name.Variable.Global */\n",
       ".output_html .vi { color: #19177C } /* Name.Variable.Instance */\n",
       ".output_html .vm { color: #19177C } /* Name.Variable.Magic */\n",
       ".output_html .il { color: #666666 } /* Literal.Number.Integer.Long */</style><div class=\"highlight\"><pre><span></span><span class=\"sd\">&quot;&quot;&quot;Random variable generators.</span>\n",
       "\n",
       "<span class=\"sd\">    bytes</span>\n",
       "<span class=\"sd\">    -----</span>\n",
       "<span class=\"sd\">           uniform bytes (values between 0 and 255)</span>\n",
       "\n",
       "<span class=\"sd\">    integers</span>\n",
       "<span class=\"sd\">    --------</span>\n",
       "<span class=\"sd\">           uniform within range</span>\n",
       "\n",
       "<span class=\"sd\">    sequences</span>\n",
       "<span class=\"sd\">    ---------</span>\n",
       "<span class=\"sd\">           pick random element</span>\n",
       "<span class=\"sd\">           pick random sample</span>\n",
       "<span class=\"sd\">           pick weighted random sample</span>\n",
       "<span class=\"sd\">           generate random permutation</span>\n",
       "\n",
       "<span class=\"sd\">    distributions on the real line:</span>\n",
       "<span class=\"sd\">    ------------------------------</span>\n",
       "<span class=\"sd\">           uniform</span>\n",
       "<span class=\"sd\">           triangular</span>\n",
       "<span class=\"sd\">           normal (Gaussian)</span>\n",
       "<span class=\"sd\">           lognormal</span>\n",
       "<span class=\"sd\">           negative exponential</span>\n",
       "<span class=\"sd\">           gamma</span>\n",
       "<span class=\"sd\">           beta</span>\n",
       "<span class=\"sd\">           pareto</span>\n",
       "<span class=\"sd\">           Weibull</span>\n",
       "\n",
       "<span class=\"sd\">    distributions on the circle (angles 0 to 2pi)</span>\n",
       "<span class=\"sd\">    ---------------------------------------------</span>\n",
       "<span class=\"sd\">           circular uniform</span>\n",
       "<span class=\"sd\">           von Mises</span>\n",
       "\n",
       "<span class=\"sd\">General notes on the underlying Mersenne Twister core generator:</span>\n",
       "\n",
       "<span class=\"sd\">* The period is 2**19937-1.</span>\n",
       "<span class=\"sd\">* It is one of the most extensively tested generators in existence.</span>\n",
       "<span class=\"sd\">* The random() method is implemented in C, executes in a single Python step,</span>\n",
       "<span class=\"sd\">  and is, therefore, threadsafe.</span>\n",
       "\n",
       "<span class=\"sd\">&quot;&quot;&quot;</span>\n",
       "\n",
       "<span class=\"c1\"># Translated by Guido van Rossum from C source provided by</span>\n",
       "<span class=\"c1\"># Adrian Baddeley.  Adapted by Raymond Hettinger for use with</span>\n",
       "<span class=\"c1\"># the Mersenne Twister  and os.urandom() core generators.</span>\n",
       "\n",
       "<span class=\"kn\">from</span> <span class=\"nn\">warnings</span> <span class=\"kn\">import</span> <span class=\"n\">warn</span> <span class=\"k\">as</span> <span class=\"n\">_warn</span>\n",
       "<span class=\"kn\">from</span> <span class=\"nn\">math</span> <span class=\"kn\">import</span> <span class=\"n\">log</span> <span class=\"k\">as</span> <span class=\"n\">_log</span><span class=\"p\">,</span> <span class=\"n\">exp</span> <span class=\"k\">as</span> <span class=\"n\">_exp</span><span class=\"p\">,</span> <span class=\"n\">pi</span> <span class=\"k\">as</span> <span class=\"n\">_pi</span><span class=\"p\">,</span> <span class=\"n\">e</span> <span class=\"k\">as</span> <span class=\"n\">_e</span><span class=\"p\">,</span> <span class=\"n\">ceil</span> <span class=\"k\">as</span> <span class=\"n\">_ceil</span>\n",
       "<span class=\"kn\">from</span> <span class=\"nn\">math</span> <span class=\"kn\">import</span> <span class=\"n\">sqrt</span> <span class=\"k\">as</span> <span class=\"n\">_sqrt</span><span class=\"p\">,</span> <span class=\"n\">acos</span> <span class=\"k\">as</span> <span class=\"n\">_acos</span><span class=\"p\">,</span> <span class=\"n\">cos</span> <span class=\"k\">as</span> <span class=\"n\">_cos</span><span class=\"p\">,</span> <span class=\"n\">sin</span> <span class=\"k\">as</span> <span class=\"n\">_sin</span>\n",
       "<span class=\"kn\">from</span> <span class=\"nn\">math</span> <span class=\"kn\">import</span> <span class=\"n\">tau</span> <span class=\"k\">as</span> <span class=\"n\">TWOPI</span><span class=\"p\">,</span> <span class=\"n\">floor</span> <span class=\"k\">as</span> <span class=\"n\">_floor</span><span class=\"p\">,</span> <span class=\"n\">isfinite</span> <span class=\"k\">as</span> <span class=\"n\">_isfinite</span>\n",
       "<span class=\"kn\">from</span> <span class=\"nn\">os</span> <span class=\"kn\">import</span> <span class=\"n\">urandom</span> <span class=\"k\">as</span> <span class=\"n\">_urandom</span>\n",
       "<span class=\"kn\">from</span> <span class=\"nn\">_collections_abc</span> <span class=\"kn\">import</span> <span class=\"n\">Set</span> <span class=\"k\">as</span> <span class=\"n\">_Set</span><span class=\"p\">,</span> <span class=\"n\">Sequence</span> <span class=\"k\">as</span> <span class=\"n\">_Sequence</span>\n",
       "<span class=\"kn\">from</span> <span class=\"nn\">operator</span> <span class=\"kn\">import</span> <span class=\"n\">index</span> <span class=\"k\">as</span> <span class=\"n\">_index</span>\n",
       "<span class=\"kn\">from</span> <span class=\"nn\">itertools</span> <span class=\"kn\">import</span> <span class=\"n\">accumulate</span> <span class=\"k\">as</span> <span class=\"n\">_accumulate</span><span class=\"p\">,</span> <span class=\"n\">repeat</span> <span class=\"k\">as</span> <span class=\"n\">_repeat</span>\n",
       "<span class=\"kn\">from</span> <span class=\"nn\">bisect</span> <span class=\"kn\">import</span> <span class=\"n\">bisect</span> <span class=\"k\">as</span> <span class=\"n\">_bisect</span>\n",
       "<span class=\"kn\">import</span> <span class=\"nn\">os</span> <span class=\"k\">as</span> <span class=\"nn\">_os</span>\n",
       "<span class=\"kn\">import</span> <span class=\"nn\">_random</span>\n",
       "\n",
       "<span class=\"k\">try</span><span class=\"p\">:</span>\n",
       "    <span class=\"c1\"># hashlib is pretty heavy to load, try lean internal module first</span>\n",
       "    <span class=\"kn\">from</span> <span class=\"nn\">_sha512</span> <span class=\"kn\">import</span> <span class=\"n\">sha512</span> <span class=\"k\">as</span> <span class=\"n\">_sha512</span>\n",
       "<span class=\"k\">except</span> <span class=\"ne\">ImportError</span><span class=\"p\">:</span>\n",
       "    <span class=\"c1\"># fallback to official implementation</span>\n",
       "    <span class=\"kn\">from</span> <span class=\"nn\">hashlib</span> <span class=\"kn\">import</span> <span class=\"n\">sha512</span> <span class=\"k\">as</span> <span class=\"n\">_sha512</span>\n",
       "\n",
       "<span class=\"n\">__all__</span> <span class=\"o\">=</span> <span class=\"p\">[</span>\n",
       "    <span class=\"s2\">&quot;Random&quot;</span><span class=\"p\">,</span>\n",
       "    <span class=\"s2\">&quot;SystemRandom&quot;</span><span class=\"p\">,</span>\n",
       "    <span class=\"s2\">&quot;betavariate&quot;</span><span class=\"p\">,</span>\n",
       "    <span class=\"s2\">&quot;choice&quot;</span><span class=\"p\">,</span>\n",
       "    <span class=\"s2\">&quot;choices&quot;</span><span class=\"p\">,</span>\n",
       "    <span class=\"s2\">&quot;expovariate&quot;</span><span class=\"p\">,</span>\n",
       "    <span class=\"s2\">&quot;gammavariate&quot;</span><span class=\"p\">,</span>\n",
       "    <span class=\"s2\">&quot;gauss&quot;</span><span class=\"p\">,</span>\n",
       "    <span class=\"s2\">&quot;getrandbits&quot;</span><span class=\"p\">,</span>\n",
       "    <span class=\"s2\">&quot;getstate&quot;</span><span class=\"p\">,</span>\n",
       "    <span class=\"s2\">&quot;lognormvariate&quot;</span><span class=\"p\">,</span>\n",
       "    <span class=\"s2\">&quot;normalvariate&quot;</span><span class=\"p\">,</span>\n",
       "    <span class=\"s2\">&quot;paretovariate&quot;</span><span class=\"p\">,</span>\n",
       "    <span class=\"s2\">&quot;randbytes&quot;</span><span class=\"p\">,</span>\n",
       "    <span class=\"s2\">&quot;randint&quot;</span><span class=\"p\">,</span>\n",
       "    <span class=\"s2\">&quot;random&quot;</span><span class=\"p\">,</span>\n",
       "    <span class=\"s2\">&quot;randrange&quot;</span><span class=\"p\">,</span>\n",
       "    <span class=\"s2\">&quot;sample&quot;</span><span class=\"p\">,</span>\n",
       "    <span class=\"s2\">&quot;seed&quot;</span><span class=\"p\">,</span>\n",
       "    <span class=\"s2\">&quot;setstate&quot;</span><span class=\"p\">,</span>\n",
       "    <span class=\"s2\">&quot;shuffle&quot;</span><span class=\"p\">,</span>\n",
       "    <span class=\"s2\">&quot;triangular&quot;</span><span class=\"p\">,</span>\n",
       "    <span class=\"s2\">&quot;uniform&quot;</span><span class=\"p\">,</span>\n",
       "    <span class=\"s2\">&quot;vonmisesvariate&quot;</span><span class=\"p\">,</span>\n",
       "    <span class=\"s2\">&quot;weibullvariate&quot;</span><span class=\"p\">,</span>\n",
       "<span class=\"p\">]</span>\n",
       "\n",
       "<span class=\"n\">NV_MAGICCONST</span> <span class=\"o\">=</span> <span class=\"mi\">4</span> <span class=\"o\">*</span> <span class=\"n\">_exp</span><span class=\"p\">(</span><span class=\"o\">-</span><span class=\"mf\">0.5</span><span class=\"p\">)</span> <span class=\"o\">/</span> <span class=\"n\">_sqrt</span><span class=\"p\">(</span><span class=\"mf\">2.0</span><span class=\"p\">)</span>\n",
       "<span class=\"n\">LOG4</span> <span class=\"o\">=</span> <span class=\"n\">_log</span><span class=\"p\">(</span><span class=\"mf\">4.0</span><span class=\"p\">)</span>\n",
       "<span class=\"n\">SG_MAGICCONST</span> <span class=\"o\">=</span> <span class=\"mf\">1.0</span> <span class=\"o\">+</span> <span class=\"n\">_log</span><span class=\"p\">(</span><span class=\"mf\">4.5</span><span class=\"p\">)</span>\n",
       "<span class=\"n\">BPF</span> <span class=\"o\">=</span> <span class=\"mi\">53</span>        <span class=\"c1\"># Number of bits in a float</span>\n",
       "<span class=\"n\">RECIP_BPF</span> <span class=\"o\">=</span> <span class=\"mi\">2</span> <span class=\"o\">**</span> <span class=\"o\">-</span><span class=\"n\">BPF</span>\n",
       "<span class=\"n\">_ONE</span> <span class=\"o\">=</span> <span class=\"mi\">1</span>\n",
       "\n",
       "\n",
       "<span class=\"k\">class</span> <span class=\"nc\">Random</span><span class=\"p\">(</span><span class=\"n\">_random</span><span class=\"o\">.</span><span class=\"n\">Random</span><span class=\"p\">):</span>\n",
       "<span class=\"w\">    </span><span class=\"sd\">&quot;&quot;&quot;Random number generator base class used by bound module functions.</span>\n",
       "\n",
       "<span class=\"sd\">    Used to instantiate instances of Random to get generators that don&#39;t</span>\n",
       "<span class=\"sd\">    share state.</span>\n",
       "\n",
       "<span class=\"sd\">    Class Random can also be subclassed if you want to use a different basic</span>\n",
       "<span class=\"sd\">    generator of your own devising: in that case, override the following</span>\n",
       "<span class=\"sd\">    methods:  random(), seed(), getstate(), and setstate().</span>\n",
       "<span class=\"sd\">    Optionally, implement a getrandbits() method so that randrange()</span>\n",
       "<span class=\"sd\">    can cover arbitrarily large ranges.</span>\n",
       "\n",
       "<span class=\"sd\">    &quot;&quot;&quot;</span>\n",
       "\n",
       "    <span class=\"n\">VERSION</span> <span class=\"o\">=</span> <span class=\"mi\">3</span>     <span class=\"c1\"># used by getstate/setstate</span>\n",
       "\n",
       "    <span class=\"k\">def</span> <span class=\"fm\">__init__</span><span class=\"p\">(</span><span class=\"bp\">self</span><span class=\"p\">,</span> <span class=\"n\">x</span><span class=\"o\">=</span><span class=\"kc\">None</span><span class=\"p\">):</span>\n",
       "<span class=\"w\">        </span><span class=\"sd\">&quot;&quot;&quot;Initialize an instance.</span>\n",
       "\n",
       "<span class=\"sd\">        Optional argument x controls seeding, as for Random.seed().</span>\n",
       "<span class=\"sd\">        &quot;&quot;&quot;</span>\n",
       "\n",
       "        <span class=\"bp\">self</span><span class=\"o\">.</span><span class=\"n\">seed</span><span class=\"p\">(</span><span class=\"n\">x</span><span class=\"p\">)</span>\n",
       "        <span class=\"bp\">self</span><span class=\"o\">.</span><span class=\"n\">gauss_next</span> <span class=\"o\">=</span> <span class=\"kc\">None</span>\n",
       "\n",
       "    <span class=\"k\">def</span> <span class=\"nf\">seed</span><span class=\"p\">(</span><span class=\"bp\">self</span><span class=\"p\">,</span> <span class=\"n\">a</span><span class=\"o\">=</span><span class=\"kc\">None</span><span class=\"p\">,</span> <span class=\"n\">version</span><span class=\"o\">=</span><span class=\"mi\">2</span><span class=\"p\">):</span>\n",
       "<span class=\"w\">        </span><span class=\"sd\">&quot;&quot;&quot;Initialize internal state from a seed.</span>\n",
       "\n",
       "<span class=\"sd\">        The only supported seed types are None, int, float,</span>\n",
       "<span class=\"sd\">        str, bytes, and bytearray.</span>\n",
       "\n",
       "<span class=\"sd\">        None or no argument seeds from current time or from an operating</span>\n",
       "<span class=\"sd\">        system specific randomness source if available.</span>\n",
       "\n",
       "<span class=\"sd\">        If *a* is an int, all bits are used.</span>\n",
       "\n",
       "<span class=\"sd\">        For version 2 (the default), all of the bits are used if *a* is a str,</span>\n",
       "<span class=\"sd\">        bytes, or bytearray.  For version 1 (provided for reproducing random</span>\n",
       "<span class=\"sd\">        sequences from older versions of Python), the algorithm for str and</span>\n",
       "<span class=\"sd\">        bytes generates a narrower range of seeds.</span>\n",
       "\n",
       "<span class=\"sd\">        &quot;&quot;&quot;</span>\n",
       "\n",
       "        <span class=\"k\">if</span> <span class=\"n\">version</span> <span class=\"o\">==</span> <span class=\"mi\">1</span> <span class=\"ow\">and</span> <span class=\"nb\">isinstance</span><span class=\"p\">(</span><span class=\"n\">a</span><span class=\"p\">,</span> <span class=\"p\">(</span><span class=\"nb\">str</span><span class=\"p\">,</span> <span class=\"nb\">bytes</span><span class=\"p\">)):</span>\n",
       "            <span class=\"n\">a</span> <span class=\"o\">=</span> <span class=\"n\">a</span><span class=\"o\">.</span><span class=\"n\">decode</span><span class=\"p\">(</span><span class=\"s1\">&#39;latin-1&#39;</span><span class=\"p\">)</span> <span class=\"k\">if</span> <span class=\"nb\">isinstance</span><span class=\"p\">(</span><span class=\"n\">a</span><span class=\"p\">,</span> <span class=\"nb\">bytes</span><span class=\"p\">)</span> <span class=\"k\">else</span> <span class=\"n\">a</span>\n",
       "            <span class=\"n\">x</span> <span class=\"o\">=</span> <span class=\"nb\">ord</span><span class=\"p\">(</span><span class=\"n\">a</span><span class=\"p\">[</span><span class=\"mi\">0</span><span class=\"p\">])</span> <span class=\"o\">&lt;&lt;</span> <span class=\"mi\">7</span> <span class=\"k\">if</span> <span class=\"n\">a</span> <span class=\"k\">else</span> <span class=\"mi\">0</span>\n",
       "            <span class=\"k\">for</span> <span class=\"n\">c</span> <span class=\"ow\">in</span> <span class=\"nb\">map</span><span class=\"p\">(</span><span class=\"nb\">ord</span><span class=\"p\">,</span> <span class=\"n\">a</span><span class=\"p\">):</span>\n",
       "                <span class=\"n\">x</span> <span class=\"o\">=</span> <span class=\"p\">((</span><span class=\"mi\">1000003</span> <span class=\"o\">*</span> <span class=\"n\">x</span><span class=\"p\">)</span> <span class=\"o\">^</span> <span class=\"n\">c</span><span class=\"p\">)</span> <span class=\"o\">&amp;</span> <span class=\"mh\">0xFFFFFFFFFFFFFFFF</span>\n",
       "            <span class=\"n\">x</span> <span class=\"o\">^=</span> <span class=\"nb\">len</span><span class=\"p\">(</span><span class=\"n\">a</span><span class=\"p\">)</span>\n",
       "            <span class=\"n\">a</span> <span class=\"o\">=</span> <span class=\"o\">-</span><span class=\"mi\">2</span> <span class=\"k\">if</span> <span class=\"n\">x</span> <span class=\"o\">==</span> <span class=\"o\">-</span><span class=\"mi\">1</span> <span class=\"k\">else</span> <span class=\"n\">x</span>\n",
       "\n",
       "        <span class=\"k\">elif</span> <span class=\"n\">version</span> <span class=\"o\">==</span> <span class=\"mi\">2</span> <span class=\"ow\">and</span> <span class=\"nb\">isinstance</span><span class=\"p\">(</span><span class=\"n\">a</span><span class=\"p\">,</span> <span class=\"p\">(</span><span class=\"nb\">str</span><span class=\"p\">,</span> <span class=\"nb\">bytes</span><span class=\"p\">,</span> <span class=\"nb\">bytearray</span><span class=\"p\">)):</span>\n",
       "            <span class=\"k\">if</span> <span class=\"nb\">isinstance</span><span class=\"p\">(</span><span class=\"n\">a</span><span class=\"p\">,</span> <span class=\"nb\">str</span><span class=\"p\">):</span>\n",
       "                <span class=\"n\">a</span> <span class=\"o\">=</span> <span class=\"n\">a</span><span class=\"o\">.</span><span class=\"n\">encode</span><span class=\"p\">()</span>\n",
       "            <span class=\"n\">a</span> <span class=\"o\">=</span> <span class=\"nb\">int</span><span class=\"o\">.</span><span class=\"n\">from_bytes</span><span class=\"p\">(</span><span class=\"n\">a</span> <span class=\"o\">+</span> <span class=\"n\">_sha512</span><span class=\"p\">(</span><span class=\"n\">a</span><span class=\"p\">)</span><span class=\"o\">.</span><span class=\"n\">digest</span><span class=\"p\">())</span>\n",
       "\n",
       "        <span class=\"k\">elif</span> <span class=\"ow\">not</span> <span class=\"nb\">isinstance</span><span class=\"p\">(</span><span class=\"n\">a</span><span class=\"p\">,</span> <span class=\"p\">(</span><span class=\"nb\">type</span><span class=\"p\">(</span><span class=\"kc\">None</span><span class=\"p\">),</span> <span class=\"nb\">int</span><span class=\"p\">,</span> <span class=\"nb\">float</span><span class=\"p\">,</span> <span class=\"nb\">str</span><span class=\"p\">,</span> <span class=\"nb\">bytes</span><span class=\"p\">,</span> <span class=\"nb\">bytearray</span><span class=\"p\">)):</span>\n",
       "            <span class=\"k\">raise</span> <span class=\"ne\">TypeError</span><span class=\"p\">(</span><span class=\"s1\">&#39;The only supported seed types are: None,</span><span class=\"se\">\\n</span><span class=\"s1\">&#39;</span>\n",
       "                            <span class=\"s1\">&#39;int, float, str, bytes, and bytearray.&#39;</span><span class=\"p\">)</span>\n",
       "\n",
       "        <span class=\"nb\">super</span><span class=\"p\">()</span><span class=\"o\">.</span><span class=\"n\">seed</span><span class=\"p\">(</span><span class=\"n\">a</span><span class=\"p\">)</span>\n",
       "        <span class=\"bp\">self</span><span class=\"o\">.</span><span class=\"n\">gauss_next</span> <span class=\"o\">=</span> <span class=\"kc\">None</span>\n",
       "\n",
       "    <span class=\"k\">def</span> <span class=\"nf\">getstate</span><span class=\"p\">(</span><span class=\"bp\">self</span><span class=\"p\">):</span>\n",
       "<span class=\"w\">        </span><span class=\"sd\">&quot;&quot;&quot;Return internal state; can be passed to setstate() later.&quot;&quot;&quot;</span>\n",
       "        <span class=\"k\">return</span> <span class=\"bp\">self</span><span class=\"o\">.</span><span class=\"n\">VERSION</span><span class=\"p\">,</span> <span class=\"nb\">super</span><span class=\"p\">()</span><span class=\"o\">.</span><span class=\"n\">getstate</span><span class=\"p\">(),</span> <span class=\"bp\">self</span><span class=\"o\">.</span><span class=\"n\">gauss_next</span>\n",
       "\n",
       "    <span class=\"k\">def</span> <span class=\"nf\">setstate</span><span class=\"p\">(</span><span class=\"bp\">self</span><span class=\"p\">,</span> <span class=\"n\">state</span><span class=\"p\">):</span>\n",
       "<span class=\"w\">        </span><span class=\"sd\">&quot;&quot;&quot;Restore internal state from object returned by getstate().&quot;&quot;&quot;</span>\n",
       "        <span class=\"n\">version</span> <span class=\"o\">=</span> <span class=\"n\">state</span><span class=\"p\">[</span><span class=\"mi\">0</span><span class=\"p\">]</span>\n",
       "        <span class=\"k\">if</span> <span class=\"n\">version</span> <span class=\"o\">==</span> <span class=\"mi\">3</span><span class=\"p\">:</span>\n",
       "            <span class=\"n\">version</span><span class=\"p\">,</span> <span class=\"n\">internalstate</span><span class=\"p\">,</span> <span class=\"bp\">self</span><span class=\"o\">.</span><span class=\"n\">gauss_next</span> <span class=\"o\">=</span> <span class=\"n\">state</span>\n",
       "            <span class=\"nb\">super</span><span class=\"p\">()</span><span class=\"o\">.</span><span class=\"n\">setstate</span><span class=\"p\">(</span><span class=\"n\">internalstate</span><span class=\"p\">)</span>\n",
       "        <span class=\"k\">elif</span> <span class=\"n\">version</span> <span class=\"o\">==</span> <span class=\"mi\">2</span><span class=\"p\">:</span>\n",
       "            <span class=\"n\">version</span><span class=\"p\">,</span> <span class=\"n\">internalstate</span><span class=\"p\">,</span> <span class=\"bp\">self</span><span class=\"o\">.</span><span class=\"n\">gauss_next</span> <span class=\"o\">=</span> <span class=\"n\">state</span>\n",
       "            <span class=\"c1\"># In version 2, the state was saved as signed ints, which causes</span>\n",
       "            <span class=\"c1\">#   inconsistencies between 32/64-bit systems. The state is</span>\n",
       "            <span class=\"c1\">#   really unsigned 32-bit ints, so we convert negative ints from</span>\n",
       "            <span class=\"c1\">#   version 2 to positive longs for version 3.</span>\n",
       "            <span class=\"k\">try</span><span class=\"p\">:</span>\n",
       "                <span class=\"n\">internalstate</span> <span class=\"o\">=</span> <span class=\"nb\">tuple</span><span class=\"p\">(</span><span class=\"n\">x</span> <span class=\"o\">%</span> <span class=\"p\">(</span><span class=\"mi\">2</span> <span class=\"o\">**</span> <span class=\"mi\">32</span><span class=\"p\">)</span> <span class=\"k\">for</span> <span class=\"n\">x</span> <span class=\"ow\">in</span> <span class=\"n\">internalstate</span><span class=\"p\">)</span>\n",
       "            <span class=\"k\">except</span> <span class=\"ne\">ValueError</span> <span class=\"k\">as</span> <span class=\"n\">e</span><span class=\"p\">:</span>\n",
       "                <span class=\"k\">raise</span> <span class=\"ne\">TypeError</span> <span class=\"kn\">from</span> <span class=\"nn\">e</span>\n",
       "            <span class=\"nb\">super</span><span class=\"p\">()</span><span class=\"o\">.</span><span class=\"n\">setstate</span><span class=\"p\">(</span><span class=\"n\">internalstate</span><span class=\"p\">)</span>\n",
       "        <span class=\"k\">else</span><span class=\"p\">:</span>\n",
       "            <span class=\"k\">raise</span> <span class=\"ne\">ValueError</span><span class=\"p\">(</span><span class=\"s2\">&quot;state with version </span><span class=\"si\">%s</span><span class=\"s2\"> passed to &quot;</span>\n",
       "                             <span class=\"s2\">&quot;Random.setstate() of version </span><span class=\"si\">%s</span><span class=\"s2\">&quot;</span> <span class=\"o\">%</span>\n",
       "                             <span class=\"p\">(</span><span class=\"n\">version</span><span class=\"p\">,</span> <span class=\"bp\">self</span><span class=\"o\">.</span><span class=\"n\">VERSION</span><span class=\"p\">))</span>\n",
       "\n",
       "\n",
       "    <span class=\"c1\">## -------------------------------------------------------</span>\n",
       "    <span class=\"c1\">## ---- Methods below this point do not need to be overridden or extended</span>\n",
       "    <span class=\"c1\">## ---- when subclassing for the purpose of using a different core generator.</span>\n",
       "\n",
       "\n",
       "    <span class=\"c1\">## -------------------- pickle support  -------------------</span>\n",
       "\n",
       "    <span class=\"c1\"># Issue 17489: Since __reduce__ was defined to fix #759889 this is no</span>\n",
       "    <span class=\"c1\"># longer called; we leave it here because it has been here since random was</span>\n",
       "    <span class=\"c1\"># rewritten back in 2001 and why risk breaking something.</span>\n",
       "    <span class=\"k\">def</span> <span class=\"nf\">__getstate__</span><span class=\"p\">(</span><span class=\"bp\">self</span><span class=\"p\">):</span>  <span class=\"c1\"># for pickle</span>\n",
       "        <span class=\"k\">return</span> <span class=\"bp\">self</span><span class=\"o\">.</span><span class=\"n\">getstate</span><span class=\"p\">()</span>\n",
       "\n",
       "    <span class=\"k\">def</span> <span class=\"nf\">__setstate__</span><span class=\"p\">(</span><span class=\"bp\">self</span><span class=\"p\">,</span> <span class=\"n\">state</span><span class=\"p\">):</span>  <span class=\"c1\"># for pickle</span>\n",
       "        <span class=\"bp\">self</span><span class=\"o\">.</span><span class=\"n\">setstate</span><span class=\"p\">(</span><span class=\"n\">state</span><span class=\"p\">)</span>\n",
       "\n",
       "    <span class=\"k\">def</span> <span class=\"nf\">__reduce__</span><span class=\"p\">(</span><span class=\"bp\">self</span><span class=\"p\">):</span>\n",
       "        <span class=\"k\">return</span> <span class=\"bp\">self</span><span class=\"o\">.</span><span class=\"vm\">__class__</span><span class=\"p\">,</span> <span class=\"p\">(),</span> <span class=\"bp\">self</span><span class=\"o\">.</span><span class=\"n\">getstate</span><span class=\"p\">()</span>\n",
       "\n",
       "\n",
       "    <span class=\"c1\">## ---- internal support method for evenly distributed integers ----</span>\n",
       "\n",
       "    <span class=\"k\">def</span> <span class=\"nf\">__init_subclass__</span><span class=\"p\">(</span><span class=\"bp\">cls</span><span class=\"p\">,</span> <span class=\"o\">/</span><span class=\"p\">,</span> <span class=\"o\">**</span><span class=\"n\">kwargs</span><span class=\"p\">):</span>\n",
       "<span class=\"w\">        </span><span class=\"sd\">&quot;&quot;&quot;Control how subclasses generate random integers.</span>\n",
       "\n",
       "<span class=\"sd\">        The algorithm a subclass can use depends on the random() and/or</span>\n",
       "<span class=\"sd\">        getrandbits() implementation available to it and determines</span>\n",
       "<span class=\"sd\">        whether it can generate random integers from arbitrarily large</span>\n",
       "<span class=\"sd\">        ranges.</span>\n",
       "<span class=\"sd\">        &quot;&quot;&quot;</span>\n",
       "\n",
       "        <span class=\"k\">for</span> <span class=\"n\">c</span> <span class=\"ow\">in</span> <span class=\"bp\">cls</span><span class=\"o\">.</span><span class=\"vm\">__mro__</span><span class=\"p\">:</span>\n",
       "            <span class=\"k\">if</span> <span class=\"s1\">&#39;_randbelow&#39;</span> <span class=\"ow\">in</span> <span class=\"n\">c</span><span class=\"o\">.</span><span class=\"vm\">__dict__</span><span class=\"p\">:</span>\n",
       "                <span class=\"c1\"># just inherit it</span>\n",
       "                <span class=\"k\">break</span>\n",
       "            <span class=\"k\">if</span> <span class=\"s1\">&#39;getrandbits&#39;</span> <span class=\"ow\">in</span> <span class=\"n\">c</span><span class=\"o\">.</span><span class=\"vm\">__dict__</span><span class=\"p\">:</span>\n",
       "                <span class=\"bp\">cls</span><span class=\"o\">.</span><span class=\"n\">_randbelow</span> <span class=\"o\">=</span> <span class=\"bp\">cls</span><span class=\"o\">.</span><span class=\"n\">_randbelow_with_getrandbits</span>\n",
       "                <span class=\"k\">break</span>\n",
       "            <span class=\"k\">if</span> <span class=\"s1\">&#39;random&#39;</span> <span class=\"ow\">in</span> <span class=\"n\">c</span><span class=\"o\">.</span><span class=\"vm\">__dict__</span><span class=\"p\">:</span>\n",
       "                <span class=\"bp\">cls</span><span class=\"o\">.</span><span class=\"n\">_randbelow</span> <span class=\"o\">=</span> <span class=\"bp\">cls</span><span class=\"o\">.</span><span class=\"n\">_randbelow_without_getrandbits</span>\n",
       "                <span class=\"k\">break</span>\n",
       "\n",
       "    <span class=\"k\">def</span> <span class=\"nf\">_randbelow_with_getrandbits</span><span class=\"p\">(</span><span class=\"bp\">self</span><span class=\"p\">,</span> <span class=\"n\">n</span><span class=\"p\">):</span>\n",
       "        <span class=\"s2\">&quot;Return a random int in the range [0,n).  Defined for n &gt; 0.&quot;</span>\n",
       "\n",
       "        <span class=\"n\">getrandbits</span> <span class=\"o\">=</span> <span class=\"bp\">self</span><span class=\"o\">.</span><span class=\"n\">getrandbits</span>\n",
       "        <span class=\"n\">k</span> <span class=\"o\">=</span> <span class=\"n\">n</span><span class=\"o\">.</span><span class=\"n\">bit_length</span><span class=\"p\">()</span>  <span class=\"c1\"># don&#39;t use (n-1) here because n can be 1</span>\n",
       "        <span class=\"n\">r</span> <span class=\"o\">=</span> <span class=\"n\">getrandbits</span><span class=\"p\">(</span><span class=\"n\">k</span><span class=\"p\">)</span>  <span class=\"c1\"># 0 &lt;= r &lt; 2**k</span>\n",
       "        <span class=\"k\">while</span> <span class=\"n\">r</span> <span class=\"o\">&gt;=</span> <span class=\"n\">n</span><span class=\"p\">:</span>\n",
       "            <span class=\"n\">r</span> <span class=\"o\">=</span> <span class=\"n\">getrandbits</span><span class=\"p\">(</span><span class=\"n\">k</span><span class=\"p\">)</span>\n",
       "        <span class=\"k\">return</span> <span class=\"n\">r</span>\n",
       "\n",
       "    <span class=\"k\">def</span> <span class=\"nf\">_randbelow_without_getrandbits</span><span class=\"p\">(</span><span class=\"bp\">self</span><span class=\"p\">,</span> <span class=\"n\">n</span><span class=\"p\">,</span> <span class=\"n\">maxsize</span><span class=\"o\">=</span><span class=\"mi\">1</span><span class=\"o\">&lt;&lt;</span><span class=\"n\">BPF</span><span class=\"p\">):</span>\n",
       "<span class=\"w\">        </span><span class=\"sd\">&quot;&quot;&quot;Return a random int in the range [0,n).  Defined for n &gt; 0.</span>\n",
       "\n",
       "<span class=\"sd\">        The implementation does not use getrandbits, but only random.</span>\n",
       "<span class=\"sd\">        &quot;&quot;&quot;</span>\n",
       "\n",
       "        <span class=\"n\">random</span> <span class=\"o\">=</span> <span class=\"bp\">self</span><span class=\"o\">.</span><span class=\"n\">random</span>\n",
       "        <span class=\"k\">if</span> <span class=\"n\">n</span> <span class=\"o\">&gt;=</span> <span class=\"n\">maxsize</span><span class=\"p\">:</span>\n",
       "            <span class=\"n\">_warn</span><span class=\"p\">(</span><span class=\"s2\">&quot;Underlying random() generator does not supply </span><span class=\"se\">\\n</span><span class=\"s2\">&quot;</span>\n",
       "                <span class=\"s2\">&quot;enough bits to choose from a population range this large.</span><span class=\"se\">\\n</span><span class=\"s2\">&quot;</span>\n",
       "                <span class=\"s2\">&quot;To remove the range limitation, add a getrandbits() method.&quot;</span><span class=\"p\">)</span>\n",
       "            <span class=\"k\">return</span> <span class=\"n\">_floor</span><span class=\"p\">(</span><span class=\"n\">random</span><span class=\"p\">()</span> <span class=\"o\">*</span> <span class=\"n\">n</span><span class=\"p\">)</span>\n",
       "        <span class=\"n\">rem</span> <span class=\"o\">=</span> <span class=\"n\">maxsize</span> <span class=\"o\">%</span> <span class=\"n\">n</span>\n",
       "        <span class=\"n\">limit</span> <span class=\"o\">=</span> <span class=\"p\">(</span><span class=\"n\">maxsize</span> <span class=\"o\">-</span> <span class=\"n\">rem</span><span class=\"p\">)</span> <span class=\"o\">/</span> <span class=\"n\">maxsize</span>   <span class=\"c1\"># int(limit * maxsize) % n == 0</span>\n",
       "        <span class=\"n\">r</span> <span class=\"o\">=</span> <span class=\"n\">random</span><span class=\"p\">()</span>\n",
       "        <span class=\"k\">while</span> <span class=\"n\">r</span> <span class=\"o\">&gt;=</span> <span class=\"n\">limit</span><span class=\"p\">:</span>\n",
       "            <span class=\"n\">r</span> <span class=\"o\">=</span> <span class=\"n\">random</span><span class=\"p\">()</span>\n",
       "        <span class=\"k\">return</span> <span class=\"n\">_floor</span><span class=\"p\">(</span><span class=\"n\">r</span> <span class=\"o\">*</span> <span class=\"n\">maxsize</span><span class=\"p\">)</span> <span class=\"o\">%</span> <span class=\"n\">n</span>\n",
       "\n",
       "    <span class=\"n\">_randbelow</span> <span class=\"o\">=</span> <span class=\"n\">_randbelow_with_getrandbits</span>\n",
       "\n",
       "\n",
       "    <span class=\"c1\">## --------------------------------------------------------</span>\n",
       "    <span class=\"c1\">## ---- Methods below this point generate custom distributions</span>\n",
       "    <span class=\"c1\">## ---- based on the methods defined above.  They do not</span>\n",
       "    <span class=\"c1\">## ---- directly touch the underlying generator and only</span>\n",
       "    <span class=\"c1\">## ---- access randomness through the methods:  random(),</span>\n",
       "    <span class=\"c1\">## ---- getrandbits(), or _randbelow().</span>\n",
       "\n",
       "\n",
       "    <span class=\"c1\">## -------------------- bytes methods ---------------------</span>\n",
       "\n",
       "    <span class=\"k\">def</span> <span class=\"nf\">randbytes</span><span class=\"p\">(</span><span class=\"bp\">self</span><span class=\"p\">,</span> <span class=\"n\">n</span><span class=\"p\">):</span>\n",
       "<span class=\"w\">        </span><span class=\"sd\">&quot;&quot;&quot;Generate n random bytes.&quot;&quot;&quot;</span>\n",
       "        <span class=\"k\">return</span> <span class=\"bp\">self</span><span class=\"o\">.</span><span class=\"n\">getrandbits</span><span class=\"p\">(</span><span class=\"n\">n</span> <span class=\"o\">*</span> <span class=\"mi\">8</span><span class=\"p\">)</span><span class=\"o\">.</span><span class=\"n\">to_bytes</span><span class=\"p\">(</span><span class=\"n\">n</span><span class=\"p\">,</span> <span class=\"s1\">&#39;little&#39;</span><span class=\"p\">)</span>\n",
       "\n",
       "\n",
       "    <span class=\"c1\">## -------------------- integer methods  -------------------</span>\n",
       "\n",
       "    <span class=\"k\">def</span> <span class=\"nf\">randrange</span><span class=\"p\">(</span><span class=\"bp\">self</span><span class=\"p\">,</span> <span class=\"n\">start</span><span class=\"p\">,</span> <span class=\"n\">stop</span><span class=\"o\">=</span><span class=\"kc\">None</span><span class=\"p\">,</span> <span class=\"n\">step</span><span class=\"o\">=</span><span class=\"n\">_ONE</span><span class=\"p\">):</span>\n",
       "<span class=\"w\">        </span><span class=\"sd\">&quot;&quot;&quot;Choose a random item from range(stop) or range(start, stop[, step]).</span>\n",
       "\n",
       "<span class=\"sd\">        Roughly equivalent to ``choice(range(start, stop, step))`` but</span>\n",
       "<span class=\"sd\">        supports arbitrarily large ranges and is optimized for common cases.</span>\n",
       "\n",
       "<span class=\"sd\">        &quot;&quot;&quot;</span>\n",
       "\n",
       "        <span class=\"c1\"># This code is a bit messy to make it fast for the</span>\n",
       "        <span class=\"c1\"># common case while still doing adequate error checking.</span>\n",
       "        <span class=\"k\">try</span><span class=\"p\">:</span>\n",
       "            <span class=\"n\">istart</span> <span class=\"o\">=</span> <span class=\"n\">_index</span><span class=\"p\">(</span><span class=\"n\">start</span><span class=\"p\">)</span>\n",
       "        <span class=\"k\">except</span> <span class=\"ne\">TypeError</span><span class=\"p\">:</span>\n",
       "            <span class=\"n\">istart</span> <span class=\"o\">=</span> <span class=\"nb\">int</span><span class=\"p\">(</span><span class=\"n\">start</span><span class=\"p\">)</span>\n",
       "            <span class=\"k\">if</span> <span class=\"n\">istart</span> <span class=\"o\">!=</span> <span class=\"n\">start</span><span class=\"p\">:</span>\n",
       "                <span class=\"n\">_warn</span><span class=\"p\">(</span><span class=\"s1\">&#39;randrange() will raise TypeError in the future&#39;</span><span class=\"p\">,</span>\n",
       "                      <span class=\"ne\">DeprecationWarning</span><span class=\"p\">,</span> <span class=\"mi\">2</span><span class=\"p\">)</span>\n",
       "                <span class=\"k\">raise</span> <span class=\"ne\">ValueError</span><span class=\"p\">(</span><span class=\"s2\">&quot;non-integer arg 1 for randrange()&quot;</span><span class=\"p\">)</span>\n",
       "            <span class=\"n\">_warn</span><span class=\"p\">(</span><span class=\"s1\">&#39;non-integer arguments to randrange() have been deprecated &#39;</span>\n",
       "                  <span class=\"s1\">&#39;since Python 3.10 and will be removed in a subsequent &#39;</span>\n",
       "                  <span class=\"s1\">&#39;version&#39;</span><span class=\"p\">,</span>\n",
       "                  <span class=\"ne\">DeprecationWarning</span><span class=\"p\">,</span> <span class=\"mi\">2</span><span class=\"p\">)</span>\n",
       "        <span class=\"k\">if</span> <span class=\"n\">stop</span> <span class=\"ow\">is</span> <span class=\"kc\">None</span><span class=\"p\">:</span>\n",
       "            <span class=\"c1\"># We don&#39;t check for &quot;step != 1&quot; because it hasn&#39;t been</span>\n",
       "            <span class=\"c1\"># type checked and converted to an integer yet.</span>\n",
       "            <span class=\"k\">if</span> <span class=\"n\">step</span> <span class=\"ow\">is</span> <span class=\"ow\">not</span> <span class=\"n\">_ONE</span><span class=\"p\">:</span>\n",
       "                <span class=\"k\">raise</span> <span class=\"ne\">TypeError</span><span class=\"p\">(</span><span class=\"s1\">&#39;Missing a non-None stop argument&#39;</span><span class=\"p\">)</span>\n",
       "            <span class=\"k\">if</span> <span class=\"n\">istart</span> <span class=\"o\">&gt;</span> <span class=\"mi\">0</span><span class=\"p\">:</span>\n",
       "                <span class=\"k\">return</span> <span class=\"bp\">self</span><span class=\"o\">.</span><span class=\"n\">_randbelow</span><span class=\"p\">(</span><span class=\"n\">istart</span><span class=\"p\">)</span>\n",
       "            <span class=\"k\">raise</span> <span class=\"ne\">ValueError</span><span class=\"p\">(</span><span class=\"s2\">&quot;empty range for randrange()&quot;</span><span class=\"p\">)</span>\n",
       "\n",
       "        <span class=\"c1\"># stop argument supplied.</span>\n",
       "        <span class=\"k\">try</span><span class=\"p\">:</span>\n",
       "            <span class=\"n\">istop</span> <span class=\"o\">=</span> <span class=\"n\">_index</span><span class=\"p\">(</span><span class=\"n\">stop</span><span class=\"p\">)</span>\n",
       "        <span class=\"k\">except</span> <span class=\"ne\">TypeError</span><span class=\"p\">:</span>\n",
       "            <span class=\"n\">istop</span> <span class=\"o\">=</span> <span class=\"nb\">int</span><span class=\"p\">(</span><span class=\"n\">stop</span><span class=\"p\">)</span>\n",
       "            <span class=\"k\">if</span> <span class=\"n\">istop</span> <span class=\"o\">!=</span> <span class=\"n\">stop</span><span class=\"p\">:</span>\n",
       "                <span class=\"n\">_warn</span><span class=\"p\">(</span><span class=\"s1\">&#39;randrange() will raise TypeError in the future&#39;</span><span class=\"p\">,</span>\n",
       "                      <span class=\"ne\">DeprecationWarning</span><span class=\"p\">,</span> <span class=\"mi\">2</span><span class=\"p\">)</span>\n",
       "                <span class=\"k\">raise</span> <span class=\"ne\">ValueError</span><span class=\"p\">(</span><span class=\"s2\">&quot;non-integer stop for randrange()&quot;</span><span class=\"p\">)</span>\n",
       "            <span class=\"n\">_warn</span><span class=\"p\">(</span><span class=\"s1\">&#39;non-integer arguments to randrange() have been deprecated &#39;</span>\n",
       "                  <span class=\"s1\">&#39;since Python 3.10 and will be removed in a subsequent &#39;</span>\n",
       "                  <span class=\"s1\">&#39;version&#39;</span><span class=\"p\">,</span>\n",
       "                  <span class=\"ne\">DeprecationWarning</span><span class=\"p\">,</span> <span class=\"mi\">2</span><span class=\"p\">)</span>\n",
       "        <span class=\"n\">width</span> <span class=\"o\">=</span> <span class=\"n\">istop</span> <span class=\"o\">-</span> <span class=\"n\">istart</span>\n",
       "        <span class=\"k\">try</span><span class=\"p\">:</span>\n",
       "            <span class=\"n\">istep</span> <span class=\"o\">=</span> <span class=\"n\">_index</span><span class=\"p\">(</span><span class=\"n\">step</span><span class=\"p\">)</span>\n",
       "        <span class=\"k\">except</span> <span class=\"ne\">TypeError</span><span class=\"p\">:</span>\n",
       "            <span class=\"n\">istep</span> <span class=\"o\">=</span> <span class=\"nb\">int</span><span class=\"p\">(</span><span class=\"n\">step</span><span class=\"p\">)</span>\n",
       "            <span class=\"k\">if</span> <span class=\"n\">istep</span> <span class=\"o\">!=</span> <span class=\"n\">step</span><span class=\"p\">:</span>\n",
       "                <span class=\"n\">_warn</span><span class=\"p\">(</span><span class=\"s1\">&#39;randrange() will raise TypeError in the future&#39;</span><span class=\"p\">,</span>\n",
       "                      <span class=\"ne\">DeprecationWarning</span><span class=\"p\">,</span> <span class=\"mi\">2</span><span class=\"p\">)</span>\n",
       "                <span class=\"k\">raise</span> <span class=\"ne\">ValueError</span><span class=\"p\">(</span><span class=\"s2\">&quot;non-integer step for randrange()&quot;</span><span class=\"p\">)</span>\n",
       "            <span class=\"n\">_warn</span><span class=\"p\">(</span><span class=\"s1\">&#39;non-integer arguments to randrange() have been deprecated &#39;</span>\n",
       "                  <span class=\"s1\">&#39;since Python 3.10 and will be removed in a subsequent &#39;</span>\n",
       "                  <span class=\"s1\">&#39;version&#39;</span><span class=\"p\">,</span>\n",
       "                  <span class=\"ne\">DeprecationWarning</span><span class=\"p\">,</span> <span class=\"mi\">2</span><span class=\"p\">)</span>\n",
       "        <span class=\"c1\"># Fast path.</span>\n",
       "        <span class=\"k\">if</span> <span class=\"n\">istep</span> <span class=\"o\">==</span> <span class=\"mi\">1</span><span class=\"p\">:</span>\n",
       "            <span class=\"k\">if</span> <span class=\"n\">width</span> <span class=\"o\">&gt;</span> <span class=\"mi\">0</span><span class=\"p\">:</span>\n",
       "                <span class=\"k\">return</span> <span class=\"n\">istart</span> <span class=\"o\">+</span> <span class=\"bp\">self</span><span class=\"o\">.</span><span class=\"n\">_randbelow</span><span class=\"p\">(</span><span class=\"n\">width</span><span class=\"p\">)</span>\n",
       "            <span class=\"k\">raise</span> <span class=\"ne\">ValueError</span><span class=\"p\">(</span><span class=\"s2\">&quot;empty range for randrange() (</span><span class=\"si\">%d</span><span class=\"s2\">, </span><span class=\"si\">%d</span><span class=\"s2\">, </span><span class=\"si\">%d</span><span class=\"s2\">)&quot;</span> <span class=\"o\">%</span> <span class=\"p\">(</span><span class=\"n\">istart</span><span class=\"p\">,</span> <span class=\"n\">istop</span><span class=\"p\">,</span> <span class=\"n\">width</span><span class=\"p\">))</span>\n",
       "\n",
       "        <span class=\"c1\"># Non-unit step argument supplied.</span>\n",
       "        <span class=\"k\">if</span> <span class=\"n\">istep</span> <span class=\"o\">&gt;</span> <span class=\"mi\">0</span><span class=\"p\">:</span>\n",
       "            <span class=\"n\">n</span> <span class=\"o\">=</span> <span class=\"p\">(</span><span class=\"n\">width</span> <span class=\"o\">+</span> <span class=\"n\">istep</span> <span class=\"o\">-</span> <span class=\"mi\">1</span><span class=\"p\">)</span> <span class=\"o\">//</span> <span class=\"n\">istep</span>\n",
       "        <span class=\"k\">elif</span> <span class=\"n\">istep</span> <span class=\"o\">&lt;</span> <span class=\"mi\">0</span><span class=\"p\">:</span>\n",
       "            <span class=\"n\">n</span> <span class=\"o\">=</span> <span class=\"p\">(</span><span class=\"n\">width</span> <span class=\"o\">+</span> <span class=\"n\">istep</span> <span class=\"o\">+</span> <span class=\"mi\">1</span><span class=\"p\">)</span> <span class=\"o\">//</span> <span class=\"n\">istep</span>\n",
       "        <span class=\"k\">else</span><span class=\"p\">:</span>\n",
       "            <span class=\"k\">raise</span> <span class=\"ne\">ValueError</span><span class=\"p\">(</span><span class=\"s2\">&quot;zero step for randrange()&quot;</span><span class=\"p\">)</span>\n",
       "        <span class=\"k\">if</span> <span class=\"n\">n</span> <span class=\"o\">&lt;=</span> <span class=\"mi\">0</span><span class=\"p\">:</span>\n",
       "            <span class=\"k\">raise</span> <span class=\"ne\">ValueError</span><span class=\"p\">(</span><span class=\"s2\">&quot;empty range for randrange()&quot;</span><span class=\"p\">)</span>\n",
       "        <span class=\"k\">return</span> <span class=\"n\">istart</span> <span class=\"o\">+</span> <span class=\"n\">istep</span> <span class=\"o\">*</span> <span class=\"bp\">self</span><span class=\"o\">.</span><span class=\"n\">_randbelow</span><span class=\"p\">(</span><span class=\"n\">n</span><span class=\"p\">)</span>\n",
       "\n",
       "    <span class=\"k\">def</span> <span class=\"nf\">randint</span><span class=\"p\">(</span><span class=\"bp\">self</span><span class=\"p\">,</span> <span class=\"n\">a</span><span class=\"p\">,</span> <span class=\"n\">b</span><span class=\"p\">):</span>\n",
       "<span class=\"w\">        </span><span class=\"sd\">&quot;&quot;&quot;Return random integer in range [a, b], including both end points.</span>\n",
       "<span class=\"sd\">        &quot;&quot;&quot;</span>\n",
       "\n",
       "        <span class=\"k\">return</span> <span class=\"bp\">self</span><span class=\"o\">.</span><span class=\"n\">randrange</span><span class=\"p\">(</span><span class=\"n\">a</span><span class=\"p\">,</span> <span class=\"n\">b</span><span class=\"o\">+</span><span class=\"mi\">1</span><span class=\"p\">)</span>\n",
       "\n",
       "\n",
       "    <span class=\"c1\">## -------------------- sequence methods  -------------------</span>\n",
       "\n",
       "    <span class=\"k\">def</span> <span class=\"nf\">choice</span><span class=\"p\">(</span><span class=\"bp\">self</span><span class=\"p\">,</span> <span class=\"n\">seq</span><span class=\"p\">):</span>\n",
       "<span class=\"w\">        </span><span class=\"sd\">&quot;&quot;&quot;Choose a random element from a non-empty sequence.&quot;&quot;&quot;</span>\n",
       "\n",
       "        <span class=\"c1\"># As an accommodation for NumPy, we don&#39;t use &quot;if not seq&quot;</span>\n",
       "        <span class=\"c1\"># because bool(numpy.array()) raises a ValueError.</span>\n",
       "        <span class=\"k\">if</span> <span class=\"ow\">not</span> <span class=\"nb\">len</span><span class=\"p\">(</span><span class=\"n\">seq</span><span class=\"p\">):</span>\n",
       "            <span class=\"k\">raise</span> <span class=\"ne\">IndexError</span><span class=\"p\">(</span><span class=\"s1\">&#39;Cannot choose from an empty sequence&#39;</span><span class=\"p\">)</span>\n",
       "        <span class=\"k\">return</span> <span class=\"n\">seq</span><span class=\"p\">[</span><span class=\"bp\">self</span><span class=\"o\">.</span><span class=\"n\">_randbelow</span><span class=\"p\">(</span><span class=\"nb\">len</span><span class=\"p\">(</span><span class=\"n\">seq</span><span class=\"p\">))]</span>\n",
       "\n",
       "    <span class=\"k\">def</span> <span class=\"nf\">shuffle</span><span class=\"p\">(</span><span class=\"bp\">self</span><span class=\"p\">,</span> <span class=\"n\">x</span><span class=\"p\">):</span>\n",
       "<span class=\"w\">        </span><span class=\"sd\">&quot;&quot;&quot;Shuffle list x in place, and return None.&quot;&quot;&quot;</span>\n",
       "\n",
       "        <span class=\"n\">randbelow</span> <span class=\"o\">=</span> <span class=\"bp\">self</span><span class=\"o\">.</span><span class=\"n\">_randbelow</span>\n",
       "        <span class=\"k\">for</span> <span class=\"n\">i</span> <span class=\"ow\">in</span> <span class=\"nb\">reversed</span><span class=\"p\">(</span><span class=\"nb\">range</span><span class=\"p\">(</span><span class=\"mi\">1</span><span class=\"p\">,</span> <span class=\"nb\">len</span><span class=\"p\">(</span><span class=\"n\">x</span><span class=\"p\">))):</span>\n",
       "            <span class=\"c1\"># pick an element in x[:i+1] with which to exchange x[i]</span>\n",
       "            <span class=\"n\">j</span> <span class=\"o\">=</span> <span class=\"n\">randbelow</span><span class=\"p\">(</span><span class=\"n\">i</span> <span class=\"o\">+</span> <span class=\"mi\">1</span><span class=\"p\">)</span>\n",
       "            <span class=\"n\">x</span><span class=\"p\">[</span><span class=\"n\">i</span><span class=\"p\">],</span> <span class=\"n\">x</span><span class=\"p\">[</span><span class=\"n\">j</span><span class=\"p\">]</span> <span class=\"o\">=</span> <span class=\"n\">x</span><span class=\"p\">[</span><span class=\"n\">j</span><span class=\"p\">],</span> <span class=\"n\">x</span><span class=\"p\">[</span><span class=\"n\">i</span><span class=\"p\">]</span>\n",
       "\n",
       "    <span class=\"k\">def</span> <span class=\"nf\">sample</span><span class=\"p\">(</span><span class=\"bp\">self</span><span class=\"p\">,</span> <span class=\"n\">population</span><span class=\"p\">,</span> <span class=\"n\">k</span><span class=\"p\">,</span> <span class=\"o\">*</span><span class=\"p\">,</span> <span class=\"n\">counts</span><span class=\"o\">=</span><span class=\"kc\">None</span><span class=\"p\">):</span>\n",
       "<span class=\"w\">        </span><span class=\"sd\">&quot;&quot;&quot;Chooses k unique random elements from a population sequence.</span>\n",
       "\n",
       "<span class=\"sd\">        Returns a new list containing elements from the population while</span>\n",
       "<span class=\"sd\">        leaving the original population unchanged.  The resulting list is</span>\n",
       "<span class=\"sd\">        in selection order so that all sub-slices will also be valid random</span>\n",
       "<span class=\"sd\">        samples.  This allows raffle winners (the sample) to be partitioned</span>\n",
       "<span class=\"sd\">        into grand prize and second place winners (the subslices).</span>\n",
       "\n",
       "<span class=\"sd\">        Members of the population need not be hashable or unique.  If the</span>\n",
       "<span class=\"sd\">        population contains repeats, then each occurrence is a possible</span>\n",
       "<span class=\"sd\">        selection in the sample.</span>\n",
       "\n",
       "<span class=\"sd\">        Repeated elements can be specified one at a time or with the optional</span>\n",
       "<span class=\"sd\">        counts parameter.  For example:</span>\n",
       "\n",
       "<span class=\"sd\">            sample([&#39;red&#39;, &#39;blue&#39;], counts=[4, 2], k=5)</span>\n",
       "\n",
       "<span class=\"sd\">        is equivalent to:</span>\n",
       "\n",
       "<span class=\"sd\">            sample([&#39;red&#39;, &#39;red&#39;, &#39;red&#39;, &#39;red&#39;, &#39;blue&#39;, &#39;blue&#39;], k=5)</span>\n",
       "\n",
       "<span class=\"sd\">        To choose a sample from a range of integers, use range() for the</span>\n",
       "<span class=\"sd\">        population argument.  This is especially fast and space efficient</span>\n",
       "<span class=\"sd\">        for sampling from a large population:</span>\n",
       "\n",
       "<span class=\"sd\">            sample(range(10000000), 60)</span>\n",
       "\n",
       "<span class=\"sd\">        &quot;&quot;&quot;</span>\n",
       "\n",
       "        <span class=\"c1\"># Sampling without replacement entails tracking either potential</span>\n",
       "        <span class=\"c1\"># selections (the pool) in a list or previous selections in a set.</span>\n",
       "\n",
       "        <span class=\"c1\"># When the number of selections is small compared to the</span>\n",
       "        <span class=\"c1\"># population, then tracking selections is efficient, requiring</span>\n",
       "        <span class=\"c1\"># only a small set and an occasional reselection.  For</span>\n",
       "        <span class=\"c1\"># a larger number of selections, the pool tracking method is</span>\n",
       "        <span class=\"c1\"># preferred since the list takes less space than the</span>\n",
       "        <span class=\"c1\"># set and it doesn&#39;t suffer from frequent reselections.</span>\n",
       "\n",
       "        <span class=\"c1\"># The number of calls to _randbelow() is kept at or near k, the</span>\n",
       "        <span class=\"c1\"># theoretical minimum.  This is important because running time</span>\n",
       "        <span class=\"c1\"># is dominated by _randbelow() and because it extracts the</span>\n",
       "        <span class=\"c1\"># least entropy from the underlying random number generators.</span>\n",
       "\n",
       "        <span class=\"c1\"># Memory requirements are kept to the smaller of a k-length</span>\n",
       "        <span class=\"c1\"># set or an n-length list.</span>\n",
       "\n",
       "        <span class=\"c1\"># There are other sampling algorithms that do not require</span>\n",
       "        <span class=\"c1\"># auxiliary memory, but they were rejected because they made</span>\n",
       "        <span class=\"c1\"># too many calls to _randbelow(), making them slower and</span>\n",
       "        <span class=\"c1\"># causing them to eat more entropy than necessary.</span>\n",
       "\n",
       "        <span class=\"k\">if</span> <span class=\"ow\">not</span> <span class=\"nb\">isinstance</span><span class=\"p\">(</span><span class=\"n\">population</span><span class=\"p\">,</span> <span class=\"n\">_Sequence</span><span class=\"p\">):</span>\n",
       "            <span class=\"k\">raise</span> <span class=\"ne\">TypeError</span><span class=\"p\">(</span><span class=\"s2\">&quot;Population must be a sequence.  &quot;</span>\n",
       "                            <span class=\"s2\">&quot;For dicts or sets, use sorted(d).&quot;</span><span class=\"p\">)</span>\n",
       "        <span class=\"n\">n</span> <span class=\"o\">=</span> <span class=\"nb\">len</span><span class=\"p\">(</span><span class=\"n\">population</span><span class=\"p\">)</span>\n",
       "        <span class=\"k\">if</span> <span class=\"n\">counts</span> <span class=\"ow\">is</span> <span class=\"ow\">not</span> <span class=\"kc\">None</span><span class=\"p\">:</span>\n",
       "            <span class=\"n\">cum_counts</span> <span class=\"o\">=</span> <span class=\"nb\">list</span><span class=\"p\">(</span><span class=\"n\">_accumulate</span><span class=\"p\">(</span><span class=\"n\">counts</span><span class=\"p\">))</span>\n",
       "            <span class=\"k\">if</span> <span class=\"nb\">len</span><span class=\"p\">(</span><span class=\"n\">cum_counts</span><span class=\"p\">)</span> <span class=\"o\">!=</span> <span class=\"n\">n</span><span class=\"p\">:</span>\n",
       "                <span class=\"k\">raise</span> <span class=\"ne\">ValueError</span><span class=\"p\">(</span><span class=\"s1\">&#39;The number of counts does not match the population&#39;</span><span class=\"p\">)</span>\n",
       "            <span class=\"n\">total</span> <span class=\"o\">=</span> <span class=\"n\">cum_counts</span><span class=\"o\">.</span><span class=\"n\">pop</span><span class=\"p\">()</span>\n",
       "            <span class=\"k\">if</span> <span class=\"ow\">not</span> <span class=\"nb\">isinstance</span><span class=\"p\">(</span><span class=\"n\">total</span><span class=\"p\">,</span> <span class=\"nb\">int</span><span class=\"p\">):</span>\n",
       "                <span class=\"k\">raise</span> <span class=\"ne\">TypeError</span><span class=\"p\">(</span><span class=\"s1\">&#39;Counts must be integers&#39;</span><span class=\"p\">)</span>\n",
       "            <span class=\"k\">if</span> <span class=\"n\">total</span> <span class=\"o\">&lt;=</span> <span class=\"mi\">0</span><span class=\"p\">:</span>\n",
       "                <span class=\"k\">raise</span> <span class=\"ne\">ValueError</span><span class=\"p\">(</span><span class=\"s1\">&#39;Total of counts must be greater than zero&#39;</span><span class=\"p\">)</span>\n",
       "            <span class=\"n\">selections</span> <span class=\"o\">=</span> <span class=\"bp\">self</span><span class=\"o\">.</span><span class=\"n\">sample</span><span class=\"p\">(</span><span class=\"nb\">range</span><span class=\"p\">(</span><span class=\"n\">total</span><span class=\"p\">),</span> <span class=\"n\">k</span><span class=\"o\">=</span><span class=\"n\">k</span><span class=\"p\">)</span>\n",
       "            <span class=\"n\">bisect</span> <span class=\"o\">=</span> <span class=\"n\">_bisect</span>\n",
       "            <span class=\"k\">return</span> <span class=\"p\">[</span><span class=\"n\">population</span><span class=\"p\">[</span><span class=\"n\">bisect</span><span class=\"p\">(</span><span class=\"n\">cum_counts</span><span class=\"p\">,</span> <span class=\"n\">s</span><span class=\"p\">)]</span> <span class=\"k\">for</span> <span class=\"n\">s</span> <span class=\"ow\">in</span> <span class=\"n\">selections</span><span class=\"p\">]</span>\n",
       "        <span class=\"n\">randbelow</span> <span class=\"o\">=</span> <span class=\"bp\">self</span><span class=\"o\">.</span><span class=\"n\">_randbelow</span>\n",
       "        <span class=\"k\">if</span> <span class=\"ow\">not</span> <span class=\"mi\">0</span> <span class=\"o\">&lt;=</span> <span class=\"n\">k</span> <span class=\"o\">&lt;=</span> <span class=\"n\">n</span><span class=\"p\">:</span>\n",
       "            <span class=\"k\">raise</span> <span class=\"ne\">ValueError</span><span class=\"p\">(</span><span class=\"s2\">&quot;Sample larger than population or is negative&quot;</span><span class=\"p\">)</span>\n",
       "        <span class=\"n\">result</span> <span class=\"o\">=</span> <span class=\"p\">[</span><span class=\"kc\">None</span><span class=\"p\">]</span> <span class=\"o\">*</span> <span class=\"n\">k</span>\n",
       "        <span class=\"n\">setsize</span> <span class=\"o\">=</span> <span class=\"mi\">21</span>        <span class=\"c1\"># size of a small set minus size of an empty list</span>\n",
       "        <span class=\"k\">if</span> <span class=\"n\">k</span> <span class=\"o\">&gt;</span> <span class=\"mi\">5</span><span class=\"p\">:</span>\n",
       "            <span class=\"n\">setsize</span> <span class=\"o\">+=</span> <span class=\"mi\">4</span> <span class=\"o\">**</span> <span class=\"n\">_ceil</span><span class=\"p\">(</span><span class=\"n\">_log</span><span class=\"p\">(</span><span class=\"n\">k</span> <span class=\"o\">*</span> <span class=\"mi\">3</span><span class=\"p\">,</span> <span class=\"mi\">4</span><span class=\"p\">))</span>  <span class=\"c1\"># table size for big sets</span>\n",
       "        <span class=\"k\">if</span> <span class=\"n\">n</span> <span class=\"o\">&lt;=</span> <span class=\"n\">setsize</span><span class=\"p\">:</span>\n",
       "            <span class=\"c1\"># An n-length list is smaller than a k-length set.</span>\n",
       "            <span class=\"c1\"># Invariant:  non-selected at pool[0 : n-i]</span>\n",
       "            <span class=\"n\">pool</span> <span class=\"o\">=</span> <span class=\"nb\">list</span><span class=\"p\">(</span><span class=\"n\">population</span><span class=\"p\">)</span>\n",
       "            <span class=\"k\">for</span> <span class=\"n\">i</span> <span class=\"ow\">in</span> <span class=\"nb\">range</span><span class=\"p\">(</span><span class=\"n\">k</span><span class=\"p\">):</span>\n",
       "                <span class=\"n\">j</span> <span class=\"o\">=</span> <span class=\"n\">randbelow</span><span class=\"p\">(</span><span class=\"n\">n</span> <span class=\"o\">-</span> <span class=\"n\">i</span><span class=\"p\">)</span>\n",
       "                <span class=\"n\">result</span><span class=\"p\">[</span><span class=\"n\">i</span><span class=\"p\">]</span> <span class=\"o\">=</span> <span class=\"n\">pool</span><span class=\"p\">[</span><span class=\"n\">j</span><span class=\"p\">]</span>\n",
       "                <span class=\"n\">pool</span><span class=\"p\">[</span><span class=\"n\">j</span><span class=\"p\">]</span> <span class=\"o\">=</span> <span class=\"n\">pool</span><span class=\"p\">[</span><span class=\"n\">n</span> <span class=\"o\">-</span> <span class=\"n\">i</span> <span class=\"o\">-</span> <span class=\"mi\">1</span><span class=\"p\">]</span>  <span class=\"c1\"># move non-selected item into vacancy</span>\n",
       "        <span class=\"k\">else</span><span class=\"p\">:</span>\n",
       "            <span class=\"n\">selected</span> <span class=\"o\">=</span> <span class=\"nb\">set</span><span class=\"p\">()</span>\n",
       "            <span class=\"n\">selected_add</span> <span class=\"o\">=</span> <span class=\"n\">selected</span><span class=\"o\">.</span><span class=\"n\">add</span>\n",
       "            <span class=\"k\">for</span> <span class=\"n\">i</span> <span class=\"ow\">in</span> <span class=\"nb\">range</span><span class=\"p\">(</span><span class=\"n\">k</span><span class=\"p\">):</span>\n",
       "                <span class=\"n\">j</span> <span class=\"o\">=</span> <span class=\"n\">randbelow</span><span class=\"p\">(</span><span class=\"n\">n</span><span class=\"p\">)</span>\n",
       "                <span class=\"k\">while</span> <span class=\"n\">j</span> <span class=\"ow\">in</span> <span class=\"n\">selected</span><span class=\"p\">:</span>\n",
       "                    <span class=\"n\">j</span> <span class=\"o\">=</span> <span class=\"n\">randbelow</span><span class=\"p\">(</span><span class=\"n\">n</span><span class=\"p\">)</span>\n",
       "                <span class=\"n\">selected_add</span><span class=\"p\">(</span><span class=\"n\">j</span><span class=\"p\">)</span>\n",
       "                <span class=\"n\">result</span><span class=\"p\">[</span><span class=\"n\">i</span><span class=\"p\">]</span> <span class=\"o\">=</span> <span class=\"n\">population</span><span class=\"p\">[</span><span class=\"n\">j</span><span class=\"p\">]</span>\n",
       "        <span class=\"k\">return</span> <span class=\"n\">result</span>\n",
       "\n",
       "    <span class=\"k\">def</span> <span class=\"nf\">choices</span><span class=\"p\">(</span><span class=\"bp\">self</span><span class=\"p\">,</span> <span class=\"n\">population</span><span class=\"p\">,</span> <span class=\"n\">weights</span><span class=\"o\">=</span><span class=\"kc\">None</span><span class=\"p\">,</span> <span class=\"o\">*</span><span class=\"p\">,</span> <span class=\"n\">cum_weights</span><span class=\"o\">=</span><span class=\"kc\">None</span><span class=\"p\">,</span> <span class=\"n\">k</span><span class=\"o\">=</span><span class=\"mi\">1</span><span class=\"p\">):</span>\n",
       "<span class=\"w\">        </span><span class=\"sd\">&quot;&quot;&quot;Return a k sized list of population elements chosen with replacement.</span>\n",
       "\n",
       "<span class=\"sd\">        If the relative weights or cumulative weights are not specified,</span>\n",
       "<span class=\"sd\">        the selections are made with equal probability.</span>\n",
       "\n",
       "<span class=\"sd\">        &quot;&quot;&quot;</span>\n",
       "        <span class=\"n\">random</span> <span class=\"o\">=</span> <span class=\"bp\">self</span><span class=\"o\">.</span><span class=\"n\">random</span>\n",
       "        <span class=\"n\">n</span> <span class=\"o\">=</span> <span class=\"nb\">len</span><span class=\"p\">(</span><span class=\"n\">population</span><span class=\"p\">)</span>\n",
       "        <span class=\"k\">if</span> <span class=\"n\">cum_weights</span> <span class=\"ow\">is</span> <span class=\"kc\">None</span><span class=\"p\">:</span>\n",
       "            <span class=\"k\">if</span> <span class=\"n\">weights</span> <span class=\"ow\">is</span> <span class=\"kc\">None</span><span class=\"p\">:</span>\n",
       "                <span class=\"n\">floor</span> <span class=\"o\">=</span> <span class=\"n\">_floor</span>\n",
       "                <span class=\"n\">n</span> <span class=\"o\">+=</span> <span class=\"mf\">0.0</span>    <span class=\"c1\"># convert to float for a small speed improvement</span>\n",
       "                <span class=\"k\">return</span> <span class=\"p\">[</span><span class=\"n\">population</span><span class=\"p\">[</span><span class=\"n\">floor</span><span class=\"p\">(</span><span class=\"n\">random</span><span class=\"p\">()</span> <span class=\"o\">*</span> <span class=\"n\">n</span><span class=\"p\">)]</span> <span class=\"k\">for</span> <span class=\"n\">i</span> <span class=\"ow\">in</span> <span class=\"n\">_repeat</span><span class=\"p\">(</span><span class=\"kc\">None</span><span class=\"p\">,</span> <span class=\"n\">k</span><span class=\"p\">)]</span>\n",
       "            <span class=\"k\">try</span><span class=\"p\">:</span>\n",
       "                <span class=\"n\">cum_weights</span> <span class=\"o\">=</span> <span class=\"nb\">list</span><span class=\"p\">(</span><span class=\"n\">_accumulate</span><span class=\"p\">(</span><span class=\"n\">weights</span><span class=\"p\">))</span>\n",
       "            <span class=\"k\">except</span> <span class=\"ne\">TypeError</span><span class=\"p\">:</span>\n",
       "                <span class=\"k\">if</span> <span class=\"ow\">not</span> <span class=\"nb\">isinstance</span><span class=\"p\">(</span><span class=\"n\">weights</span><span class=\"p\">,</span> <span class=\"nb\">int</span><span class=\"p\">):</span>\n",
       "                    <span class=\"k\">raise</span>\n",
       "                <span class=\"n\">k</span> <span class=\"o\">=</span> <span class=\"n\">weights</span>\n",
       "                <span class=\"k\">raise</span> <span class=\"ne\">TypeError</span><span class=\"p\">(</span>\n",
       "                    <span class=\"sa\">f</span><span class=\"s1\">&#39;The number of choices must be a keyword argument: </span><span class=\"si\">{</span><span class=\"n\">k</span><span class=\"si\">=}</span><span class=\"s1\">&#39;</span>\n",
       "                <span class=\"p\">)</span> <span class=\"kn\">from</span> <span class=\"kc\">None</span>\n",
       "        <span class=\"k\">elif</span> <span class=\"n\">weights</span> <span class=\"ow\">is</span> <span class=\"ow\">not</span> <span class=\"kc\">None</span><span class=\"p\">:</span>\n",
       "            <span class=\"k\">raise</span> <span class=\"ne\">TypeError</span><span class=\"p\">(</span><span class=\"s1\">&#39;Cannot specify both weights and cumulative weights&#39;</span><span class=\"p\">)</span>\n",
       "        <span class=\"k\">if</span> <span class=\"nb\">len</span><span class=\"p\">(</span><span class=\"n\">cum_weights</span><span class=\"p\">)</span> <span class=\"o\">!=</span> <span class=\"n\">n</span><span class=\"p\">:</span>\n",
       "            <span class=\"k\">raise</span> <span class=\"ne\">ValueError</span><span class=\"p\">(</span><span class=\"s1\">&#39;The number of weights does not match the population&#39;</span><span class=\"p\">)</span>\n",
       "        <span class=\"n\">total</span> <span class=\"o\">=</span> <span class=\"n\">cum_weights</span><span class=\"p\">[</span><span class=\"o\">-</span><span class=\"mi\">1</span><span class=\"p\">]</span> <span class=\"o\">+</span> <span class=\"mf\">0.0</span>   <span class=\"c1\"># convert to float</span>\n",
       "        <span class=\"k\">if</span> <span class=\"n\">total</span> <span class=\"o\">&lt;=</span> <span class=\"mf\">0.0</span><span class=\"p\">:</span>\n",
       "            <span class=\"k\">raise</span> <span class=\"ne\">ValueError</span><span class=\"p\">(</span><span class=\"s1\">&#39;Total of weights must be greater than zero&#39;</span><span class=\"p\">)</span>\n",
       "        <span class=\"k\">if</span> <span class=\"ow\">not</span> <span class=\"n\">_isfinite</span><span class=\"p\">(</span><span class=\"n\">total</span><span class=\"p\">):</span>\n",
       "            <span class=\"k\">raise</span> <span class=\"ne\">ValueError</span><span class=\"p\">(</span><span class=\"s1\">&#39;Total of weights must be finite&#39;</span><span class=\"p\">)</span>\n",
       "        <span class=\"n\">bisect</span> <span class=\"o\">=</span> <span class=\"n\">_bisect</span>\n",
       "        <span class=\"n\">hi</span> <span class=\"o\">=</span> <span class=\"n\">n</span> <span class=\"o\">-</span> <span class=\"mi\">1</span>\n",
       "        <span class=\"k\">return</span> <span class=\"p\">[</span><span class=\"n\">population</span><span class=\"p\">[</span><span class=\"n\">bisect</span><span class=\"p\">(</span><span class=\"n\">cum_weights</span><span class=\"p\">,</span> <span class=\"n\">random</span><span class=\"p\">()</span> <span class=\"o\">*</span> <span class=\"n\">total</span><span class=\"p\">,</span> <span class=\"mi\">0</span><span class=\"p\">,</span> <span class=\"n\">hi</span><span class=\"p\">)]</span>\n",
       "                <span class=\"k\">for</span> <span class=\"n\">i</span> <span class=\"ow\">in</span> <span class=\"n\">_repeat</span><span class=\"p\">(</span><span class=\"kc\">None</span><span class=\"p\">,</span> <span class=\"n\">k</span><span class=\"p\">)]</span>\n",
       "\n",
       "\n",
       "    <span class=\"c1\">## -------------------- real-valued distributions  -------------------</span>\n",
       "\n",
       "    <span class=\"k\">def</span> <span class=\"nf\">uniform</span><span class=\"p\">(</span><span class=\"bp\">self</span><span class=\"p\">,</span> <span class=\"n\">a</span><span class=\"p\">,</span> <span class=\"n\">b</span><span class=\"p\">):</span>\n",
       "        <span class=\"s2\">&quot;Get a random number in the range [a, b) or [a, b] depending on rounding.&quot;</span>\n",
       "        <span class=\"k\">return</span> <span class=\"n\">a</span> <span class=\"o\">+</span> <span class=\"p\">(</span><span class=\"n\">b</span> <span class=\"o\">-</span> <span class=\"n\">a</span><span class=\"p\">)</span> <span class=\"o\">*</span> <span class=\"bp\">self</span><span class=\"o\">.</span><span class=\"n\">random</span><span class=\"p\">()</span>\n",
       "\n",
       "    <span class=\"k\">def</span> <span class=\"nf\">triangular</span><span class=\"p\">(</span><span class=\"bp\">self</span><span class=\"p\">,</span> <span class=\"n\">low</span><span class=\"o\">=</span><span class=\"mf\">0.0</span><span class=\"p\">,</span> <span class=\"n\">high</span><span class=\"o\">=</span><span class=\"mf\">1.0</span><span class=\"p\">,</span> <span class=\"n\">mode</span><span class=\"o\">=</span><span class=\"kc\">None</span><span class=\"p\">):</span>\n",
       "<span class=\"w\">        </span><span class=\"sd\">&quot;&quot;&quot;Triangular distribution.</span>\n",
       "\n",
       "<span class=\"sd\">        Continuous distribution bounded by given lower and upper limits,</span>\n",
       "<span class=\"sd\">        and having a given mode value in-between.</span>\n",
       "\n",
       "<span class=\"sd\">        http://en.wikipedia.org/wiki/Triangular_distribution</span>\n",
       "\n",
       "<span class=\"sd\">        &quot;&quot;&quot;</span>\n",
       "        <span class=\"n\">u</span> <span class=\"o\">=</span> <span class=\"bp\">self</span><span class=\"o\">.</span><span class=\"n\">random</span><span class=\"p\">()</span>\n",
       "        <span class=\"k\">try</span><span class=\"p\">:</span>\n",
       "            <span class=\"n\">c</span> <span class=\"o\">=</span> <span class=\"mf\">0.5</span> <span class=\"k\">if</span> <span class=\"n\">mode</span> <span class=\"ow\">is</span> <span class=\"kc\">None</span> <span class=\"k\">else</span> <span class=\"p\">(</span><span class=\"n\">mode</span> <span class=\"o\">-</span> <span class=\"n\">low</span><span class=\"p\">)</span> <span class=\"o\">/</span> <span class=\"p\">(</span><span class=\"n\">high</span> <span class=\"o\">-</span> <span class=\"n\">low</span><span class=\"p\">)</span>\n",
       "        <span class=\"k\">except</span> <span class=\"ne\">ZeroDivisionError</span><span class=\"p\">:</span>\n",
       "            <span class=\"k\">return</span> <span class=\"n\">low</span>\n",
       "        <span class=\"k\">if</span> <span class=\"n\">u</span> <span class=\"o\">&gt;</span> <span class=\"n\">c</span><span class=\"p\">:</span>\n",
       "            <span class=\"n\">u</span> <span class=\"o\">=</span> <span class=\"mf\">1.0</span> <span class=\"o\">-</span> <span class=\"n\">u</span>\n",
       "            <span class=\"n\">c</span> <span class=\"o\">=</span> <span class=\"mf\">1.0</span> <span class=\"o\">-</span> <span class=\"n\">c</span>\n",
       "            <span class=\"n\">low</span><span class=\"p\">,</span> <span class=\"n\">high</span> <span class=\"o\">=</span> <span class=\"n\">high</span><span class=\"p\">,</span> <span class=\"n\">low</span>\n",
       "        <span class=\"k\">return</span> <span class=\"n\">low</span> <span class=\"o\">+</span> <span class=\"p\">(</span><span class=\"n\">high</span> <span class=\"o\">-</span> <span class=\"n\">low</span><span class=\"p\">)</span> <span class=\"o\">*</span> <span class=\"n\">_sqrt</span><span class=\"p\">(</span><span class=\"n\">u</span> <span class=\"o\">*</span> <span class=\"n\">c</span><span class=\"p\">)</span>\n",
       "\n",
       "    <span class=\"k\">def</span> <span class=\"nf\">normalvariate</span><span class=\"p\">(</span><span class=\"bp\">self</span><span class=\"p\">,</span> <span class=\"n\">mu</span><span class=\"o\">=</span><span class=\"mf\">0.0</span><span class=\"p\">,</span> <span class=\"n\">sigma</span><span class=\"o\">=</span><span class=\"mf\">1.0</span><span class=\"p\">):</span>\n",
       "<span class=\"w\">        </span><span class=\"sd\">&quot;&quot;&quot;Normal distribution.</span>\n",
       "\n",
       "<span class=\"sd\">        mu is the mean, and sigma is the standard deviation.</span>\n",
       "\n",
       "<span class=\"sd\">        &quot;&quot;&quot;</span>\n",
       "        <span class=\"c1\"># Uses Kinderman and Monahan method. Reference: Kinderman,</span>\n",
       "        <span class=\"c1\"># A.J. and Monahan, J.F., &quot;Computer generation of random</span>\n",
       "        <span class=\"c1\"># variables using the ratio of uniform deviates&quot;, ACM Trans</span>\n",
       "        <span class=\"c1\"># Math Software, 3, (1977), pp257-260.</span>\n",
       "\n",
       "        <span class=\"n\">random</span> <span class=\"o\">=</span> <span class=\"bp\">self</span><span class=\"o\">.</span><span class=\"n\">random</span>\n",
       "        <span class=\"k\">while</span> <span class=\"kc\">True</span><span class=\"p\">:</span>\n",
       "            <span class=\"n\">u1</span> <span class=\"o\">=</span> <span class=\"n\">random</span><span class=\"p\">()</span>\n",
       "            <span class=\"n\">u2</span> <span class=\"o\">=</span> <span class=\"mf\">1.0</span> <span class=\"o\">-</span> <span class=\"n\">random</span><span class=\"p\">()</span>\n",
       "            <span class=\"n\">z</span> <span class=\"o\">=</span> <span class=\"n\">NV_MAGICCONST</span> <span class=\"o\">*</span> <span class=\"p\">(</span><span class=\"n\">u1</span> <span class=\"o\">-</span> <span class=\"mf\">0.5</span><span class=\"p\">)</span> <span class=\"o\">/</span> <span class=\"n\">u2</span>\n",
       "            <span class=\"n\">zz</span> <span class=\"o\">=</span> <span class=\"n\">z</span> <span class=\"o\">*</span> <span class=\"n\">z</span> <span class=\"o\">/</span> <span class=\"mf\">4.0</span>\n",
       "            <span class=\"k\">if</span> <span class=\"n\">zz</span> <span class=\"o\">&lt;=</span> <span class=\"o\">-</span><span class=\"n\">_log</span><span class=\"p\">(</span><span class=\"n\">u2</span><span class=\"p\">):</span>\n",
       "                <span class=\"k\">break</span>\n",
       "        <span class=\"k\">return</span> <span class=\"n\">mu</span> <span class=\"o\">+</span> <span class=\"n\">z</span> <span class=\"o\">*</span> <span class=\"n\">sigma</span>\n",
       "\n",
       "    <span class=\"k\">def</span> <span class=\"nf\">gauss</span><span class=\"p\">(</span><span class=\"bp\">self</span><span class=\"p\">,</span> <span class=\"n\">mu</span><span class=\"o\">=</span><span class=\"mf\">0.0</span><span class=\"p\">,</span> <span class=\"n\">sigma</span><span class=\"o\">=</span><span class=\"mf\">1.0</span><span class=\"p\">):</span>\n",
       "<span class=\"w\">        </span><span class=\"sd\">&quot;&quot;&quot;Gaussian distribution.</span>\n",
       "\n",
       "<span class=\"sd\">        mu is the mean, and sigma is the standard deviation.  This is</span>\n",
       "<span class=\"sd\">        slightly faster than the normalvariate() function.</span>\n",
       "\n",
       "<span class=\"sd\">        Not thread-safe without a lock around calls.</span>\n",
       "\n",
       "<span class=\"sd\">        &quot;&quot;&quot;</span>\n",
       "        <span class=\"c1\"># When x and y are two variables from [0, 1), uniformly</span>\n",
       "        <span class=\"c1\"># distributed, then</span>\n",
       "        <span class=\"c1\">#</span>\n",
       "        <span class=\"c1\">#    cos(2*pi*x)*sqrt(-2*log(1-y))</span>\n",
       "        <span class=\"c1\">#    sin(2*pi*x)*sqrt(-2*log(1-y))</span>\n",
       "        <span class=\"c1\">#</span>\n",
       "        <span class=\"c1\"># are two *independent* variables with normal distribution</span>\n",
       "        <span class=\"c1\"># (mu = 0, sigma = 1).</span>\n",
       "        <span class=\"c1\"># (Lambert Meertens)</span>\n",
       "        <span class=\"c1\"># (corrected version; bug discovered by Mike Miller, fixed by LM)</span>\n",
       "\n",
       "        <span class=\"c1\"># Multithreading note: When two threads call this function</span>\n",
       "        <span class=\"c1\"># simultaneously, it is possible that they will receive the</span>\n",
       "        <span class=\"c1\"># same return value.  The window is very small though.  To</span>\n",
       "        <span class=\"c1\"># avoid this, you have to use a lock around all calls.  (I</span>\n",
       "        <span class=\"c1\"># didn&#39;t want to slow this down in the serial case by using a</span>\n",
       "        <span class=\"c1\"># lock here.)</span>\n",
       "\n",
       "        <span class=\"n\">random</span> <span class=\"o\">=</span> <span class=\"bp\">self</span><span class=\"o\">.</span><span class=\"n\">random</span>\n",
       "        <span class=\"n\">z</span> <span class=\"o\">=</span> <span class=\"bp\">self</span><span class=\"o\">.</span><span class=\"n\">gauss_next</span>\n",
       "        <span class=\"bp\">self</span><span class=\"o\">.</span><span class=\"n\">gauss_next</span> <span class=\"o\">=</span> <span class=\"kc\">None</span>\n",
       "        <span class=\"k\">if</span> <span class=\"n\">z</span> <span class=\"ow\">is</span> <span class=\"kc\">None</span><span class=\"p\">:</span>\n",
       "            <span class=\"n\">x2pi</span> <span class=\"o\">=</span> <span class=\"n\">random</span><span class=\"p\">()</span> <span class=\"o\">*</span> <span class=\"n\">TWOPI</span>\n",
       "            <span class=\"n\">g2rad</span> <span class=\"o\">=</span> <span class=\"n\">_sqrt</span><span class=\"p\">(</span><span class=\"o\">-</span><span class=\"mf\">2.0</span> <span class=\"o\">*</span> <span class=\"n\">_log</span><span class=\"p\">(</span><span class=\"mf\">1.0</span> <span class=\"o\">-</span> <span class=\"n\">random</span><span class=\"p\">()))</span>\n",
       "            <span class=\"n\">z</span> <span class=\"o\">=</span> <span class=\"n\">_cos</span><span class=\"p\">(</span><span class=\"n\">x2pi</span><span class=\"p\">)</span> <span class=\"o\">*</span> <span class=\"n\">g2rad</span>\n",
       "            <span class=\"bp\">self</span><span class=\"o\">.</span><span class=\"n\">gauss_next</span> <span class=\"o\">=</span> <span class=\"n\">_sin</span><span class=\"p\">(</span><span class=\"n\">x2pi</span><span class=\"p\">)</span> <span class=\"o\">*</span> <span class=\"n\">g2rad</span>\n",
       "\n",
       "        <span class=\"k\">return</span> <span class=\"n\">mu</span> <span class=\"o\">+</span> <span class=\"n\">z</span> <span class=\"o\">*</span> <span class=\"n\">sigma</span>\n",
       "\n",
       "    <span class=\"k\">def</span> <span class=\"nf\">lognormvariate</span><span class=\"p\">(</span><span class=\"bp\">self</span><span class=\"p\">,</span> <span class=\"n\">mu</span><span class=\"p\">,</span> <span class=\"n\">sigma</span><span class=\"p\">):</span>\n",
       "<span class=\"w\">        </span><span class=\"sd\">&quot;&quot;&quot;Log normal distribution.</span>\n",
       "\n",
       "<span class=\"sd\">        If you take the natural logarithm of this distribution, you&#39;ll get a</span>\n",
       "<span class=\"sd\">        normal distribution with mean mu and standard deviation sigma.</span>\n",
       "<span class=\"sd\">        mu can have any value, and sigma must be greater than zero.</span>\n",
       "\n",
       "<span class=\"sd\">        &quot;&quot;&quot;</span>\n",
       "        <span class=\"k\">return</span> <span class=\"n\">_exp</span><span class=\"p\">(</span><span class=\"bp\">self</span><span class=\"o\">.</span><span class=\"n\">normalvariate</span><span class=\"p\">(</span><span class=\"n\">mu</span><span class=\"p\">,</span> <span class=\"n\">sigma</span><span class=\"p\">))</span>\n",
       "\n",
       "    <span class=\"k\">def</span> <span class=\"nf\">expovariate</span><span class=\"p\">(</span><span class=\"bp\">self</span><span class=\"p\">,</span> <span class=\"n\">lambd</span><span class=\"p\">):</span>\n",
       "<span class=\"w\">        </span><span class=\"sd\">&quot;&quot;&quot;Exponential distribution.</span>\n",
       "\n",
       "<span class=\"sd\">        lambd is 1.0 divided by the desired mean.  It should be</span>\n",
       "<span class=\"sd\">        nonzero.  (The parameter would be called &quot;lambda&quot;, but that is</span>\n",
       "<span class=\"sd\">        a reserved word in Python.)  Returned values range from 0 to</span>\n",
       "<span class=\"sd\">        positive infinity if lambd is positive, and from negative</span>\n",
       "<span class=\"sd\">        infinity to 0 if lambd is negative.</span>\n",
       "\n",
       "<span class=\"sd\">        &quot;&quot;&quot;</span>\n",
       "        <span class=\"c1\"># lambd: rate lambd = 1/mean</span>\n",
       "        <span class=\"c1\"># (&#39;lambda&#39; is a Python reserved word)</span>\n",
       "\n",
       "        <span class=\"c1\"># we use 1-random() instead of random() to preclude the</span>\n",
       "        <span class=\"c1\"># possibility of taking the log of zero.</span>\n",
       "        <span class=\"k\">return</span> <span class=\"o\">-</span><span class=\"n\">_log</span><span class=\"p\">(</span><span class=\"mf\">1.0</span> <span class=\"o\">-</span> <span class=\"bp\">self</span><span class=\"o\">.</span><span class=\"n\">random</span><span class=\"p\">())</span> <span class=\"o\">/</span> <span class=\"n\">lambd</span>\n",
       "\n",
       "    <span class=\"k\">def</span> <span class=\"nf\">vonmisesvariate</span><span class=\"p\">(</span><span class=\"bp\">self</span><span class=\"p\">,</span> <span class=\"n\">mu</span><span class=\"p\">,</span> <span class=\"n\">kappa</span><span class=\"p\">):</span>\n",
       "<span class=\"w\">        </span><span class=\"sd\">&quot;&quot;&quot;Circular data distribution.</span>\n",
       "\n",
       "<span class=\"sd\">        mu is the mean angle, expressed in radians between 0 and 2*pi, and</span>\n",
       "<span class=\"sd\">        kappa is the concentration parameter, which must be greater than or</span>\n",
       "<span class=\"sd\">        equal to zero.  If kappa is equal to zero, this distribution reduces</span>\n",
       "<span class=\"sd\">        to a uniform random angle over the range 0 to 2*pi.</span>\n",
       "\n",
       "<span class=\"sd\">        &quot;&quot;&quot;</span>\n",
       "        <span class=\"c1\"># Based upon an algorithm published in: Fisher, N.I.,</span>\n",
       "        <span class=\"c1\"># &quot;Statistical Analysis of Circular Data&quot;, Cambridge</span>\n",
       "        <span class=\"c1\"># University Press, 1993.</span>\n",
       "\n",
       "        <span class=\"c1\"># Thanks to Magnus Kessler for a correction to the</span>\n",
       "        <span class=\"c1\"># implementation of step 4.</span>\n",
       "\n",
       "        <span class=\"n\">random</span> <span class=\"o\">=</span> <span class=\"bp\">self</span><span class=\"o\">.</span><span class=\"n\">random</span>\n",
       "        <span class=\"k\">if</span> <span class=\"n\">kappa</span> <span class=\"o\">&lt;=</span> <span class=\"mf\">1e-6</span><span class=\"p\">:</span>\n",
       "            <span class=\"k\">return</span> <span class=\"n\">TWOPI</span> <span class=\"o\">*</span> <span class=\"n\">random</span><span class=\"p\">()</span>\n",
       "\n",
       "        <span class=\"n\">s</span> <span class=\"o\">=</span> <span class=\"mf\">0.5</span> <span class=\"o\">/</span> <span class=\"n\">kappa</span>\n",
       "        <span class=\"n\">r</span> <span class=\"o\">=</span> <span class=\"n\">s</span> <span class=\"o\">+</span> <span class=\"n\">_sqrt</span><span class=\"p\">(</span><span class=\"mf\">1.0</span> <span class=\"o\">+</span> <span class=\"n\">s</span> <span class=\"o\">*</span> <span class=\"n\">s</span><span class=\"p\">)</span>\n",
       "\n",
       "        <span class=\"k\">while</span> <span class=\"kc\">True</span><span class=\"p\">:</span>\n",
       "            <span class=\"n\">u1</span> <span class=\"o\">=</span> <span class=\"n\">random</span><span class=\"p\">()</span>\n",
       "            <span class=\"n\">z</span> <span class=\"o\">=</span> <span class=\"n\">_cos</span><span class=\"p\">(</span><span class=\"n\">_pi</span> <span class=\"o\">*</span> <span class=\"n\">u1</span><span class=\"p\">)</span>\n",
       "\n",
       "            <span class=\"n\">d</span> <span class=\"o\">=</span> <span class=\"n\">z</span> <span class=\"o\">/</span> <span class=\"p\">(</span><span class=\"n\">r</span> <span class=\"o\">+</span> <span class=\"n\">z</span><span class=\"p\">)</span>\n",
       "            <span class=\"n\">u2</span> <span class=\"o\">=</span> <span class=\"n\">random</span><span class=\"p\">()</span>\n",
       "            <span class=\"k\">if</span> <span class=\"n\">u2</span> <span class=\"o\">&lt;</span> <span class=\"mf\">1.0</span> <span class=\"o\">-</span> <span class=\"n\">d</span> <span class=\"o\">*</span> <span class=\"n\">d</span> <span class=\"ow\">or</span> <span class=\"n\">u2</span> <span class=\"o\">&lt;=</span> <span class=\"p\">(</span><span class=\"mf\">1.0</span> <span class=\"o\">-</span> <span class=\"n\">d</span><span class=\"p\">)</span> <span class=\"o\">*</span> <span class=\"n\">_exp</span><span class=\"p\">(</span><span class=\"n\">d</span><span class=\"p\">):</span>\n",
       "                <span class=\"k\">break</span>\n",
       "\n",
       "        <span class=\"n\">q</span> <span class=\"o\">=</span> <span class=\"mf\">1.0</span> <span class=\"o\">/</span> <span class=\"n\">r</span>\n",
       "        <span class=\"n\">f</span> <span class=\"o\">=</span> <span class=\"p\">(</span><span class=\"n\">q</span> <span class=\"o\">+</span> <span class=\"n\">z</span><span class=\"p\">)</span> <span class=\"o\">/</span> <span class=\"p\">(</span><span class=\"mf\">1.0</span> <span class=\"o\">+</span> <span class=\"n\">q</span> <span class=\"o\">*</span> <span class=\"n\">z</span><span class=\"p\">)</span>\n",
       "        <span class=\"n\">u3</span> <span class=\"o\">=</span> <span class=\"n\">random</span><span class=\"p\">()</span>\n",
       "        <span class=\"k\">if</span> <span class=\"n\">u3</span> <span class=\"o\">&gt;</span> <span class=\"mf\">0.5</span><span class=\"p\">:</span>\n",
       "            <span class=\"n\">theta</span> <span class=\"o\">=</span> <span class=\"p\">(</span><span class=\"n\">mu</span> <span class=\"o\">+</span> <span class=\"n\">_acos</span><span class=\"p\">(</span><span class=\"n\">f</span><span class=\"p\">))</span> <span class=\"o\">%</span> <span class=\"n\">TWOPI</span>\n",
       "        <span class=\"k\">else</span><span class=\"p\">:</span>\n",
       "            <span class=\"n\">theta</span> <span class=\"o\">=</span> <span class=\"p\">(</span><span class=\"n\">mu</span> <span class=\"o\">-</span> <span class=\"n\">_acos</span><span class=\"p\">(</span><span class=\"n\">f</span><span class=\"p\">))</span> <span class=\"o\">%</span> <span class=\"n\">TWOPI</span>\n",
       "\n",
       "        <span class=\"k\">return</span> <span class=\"n\">theta</span>\n",
       "\n",
       "    <span class=\"k\">def</span> <span class=\"nf\">gammavariate</span><span class=\"p\">(</span><span class=\"bp\">self</span><span class=\"p\">,</span> <span class=\"n\">alpha</span><span class=\"p\">,</span> <span class=\"n\">beta</span><span class=\"p\">):</span>\n",
       "<span class=\"w\">        </span><span class=\"sd\">&quot;&quot;&quot;Gamma distribution.  Not the gamma function!</span>\n",
       "\n",
       "<span class=\"sd\">        Conditions on the parameters are alpha &gt; 0 and beta &gt; 0.</span>\n",
       "\n",
       "<span class=\"sd\">        The probability distribution function is:</span>\n",
       "\n",
       "<span class=\"sd\">                    x ** (alpha - 1) * math.exp(-x / beta)</span>\n",
       "<span class=\"sd\">          pdf(x) =  --------------------------------------</span>\n",
       "<span class=\"sd\">                      math.gamma(alpha) * beta ** alpha</span>\n",
       "\n",
       "<span class=\"sd\">        &quot;&quot;&quot;</span>\n",
       "        <span class=\"c1\"># alpha &gt; 0, beta &gt; 0, mean is alpha*beta, variance is alpha*beta**2</span>\n",
       "\n",
       "        <span class=\"c1\"># Warning: a few older sources define the gamma distribution in terms</span>\n",
       "        <span class=\"c1\"># of alpha &gt; -1.0</span>\n",
       "        <span class=\"k\">if</span> <span class=\"n\">alpha</span> <span class=\"o\">&lt;=</span> <span class=\"mf\">0.0</span> <span class=\"ow\">or</span> <span class=\"n\">beta</span> <span class=\"o\">&lt;=</span> <span class=\"mf\">0.0</span><span class=\"p\">:</span>\n",
       "            <span class=\"k\">raise</span> <span class=\"ne\">ValueError</span><span class=\"p\">(</span><span class=\"s1\">&#39;gammavariate: alpha and beta must be &gt; 0.0&#39;</span><span class=\"p\">)</span>\n",
       "\n",
       "        <span class=\"n\">random</span> <span class=\"o\">=</span> <span class=\"bp\">self</span><span class=\"o\">.</span><span class=\"n\">random</span>\n",
       "        <span class=\"k\">if</span> <span class=\"n\">alpha</span> <span class=\"o\">&gt;</span> <span class=\"mf\">1.0</span><span class=\"p\">:</span>\n",
       "\n",
       "            <span class=\"c1\"># Uses R.C.H. Cheng, &quot;The generation of Gamma</span>\n",
       "            <span class=\"c1\"># variables with non-integral shape parameters&quot;,</span>\n",
       "            <span class=\"c1\"># Applied Statistics, (1977), 26, No. 1, p71-74</span>\n",
       "\n",
       "            <span class=\"n\">ainv</span> <span class=\"o\">=</span> <span class=\"n\">_sqrt</span><span class=\"p\">(</span><span class=\"mf\">2.0</span> <span class=\"o\">*</span> <span class=\"n\">alpha</span> <span class=\"o\">-</span> <span class=\"mf\">1.0</span><span class=\"p\">)</span>\n",
       "            <span class=\"n\">bbb</span> <span class=\"o\">=</span> <span class=\"n\">alpha</span> <span class=\"o\">-</span> <span class=\"n\">LOG4</span>\n",
       "            <span class=\"n\">ccc</span> <span class=\"o\">=</span> <span class=\"n\">alpha</span> <span class=\"o\">+</span> <span class=\"n\">ainv</span>\n",
       "\n",
       "            <span class=\"k\">while</span> <span class=\"kc\">True</span><span class=\"p\">:</span>\n",
       "                <span class=\"n\">u1</span> <span class=\"o\">=</span> <span class=\"n\">random</span><span class=\"p\">()</span>\n",
       "                <span class=\"k\">if</span> <span class=\"ow\">not</span> <span class=\"mf\">1e-7</span> <span class=\"o\">&lt;</span> <span class=\"n\">u1</span> <span class=\"o\">&lt;</span> <span class=\"mf\">0.9999999</span><span class=\"p\">:</span>\n",
       "                    <span class=\"k\">continue</span>\n",
       "                <span class=\"n\">u2</span> <span class=\"o\">=</span> <span class=\"mf\">1.0</span> <span class=\"o\">-</span> <span class=\"n\">random</span><span class=\"p\">()</span>\n",
       "                <span class=\"n\">v</span> <span class=\"o\">=</span> <span class=\"n\">_log</span><span class=\"p\">(</span><span class=\"n\">u1</span> <span class=\"o\">/</span> <span class=\"p\">(</span><span class=\"mf\">1.0</span> <span class=\"o\">-</span> <span class=\"n\">u1</span><span class=\"p\">))</span> <span class=\"o\">/</span> <span class=\"n\">ainv</span>\n",
       "                <span class=\"n\">x</span> <span class=\"o\">=</span> <span class=\"n\">alpha</span> <span class=\"o\">*</span> <span class=\"n\">_exp</span><span class=\"p\">(</span><span class=\"n\">v</span><span class=\"p\">)</span>\n",
       "                <span class=\"n\">z</span> <span class=\"o\">=</span> <span class=\"n\">u1</span> <span class=\"o\">*</span> <span class=\"n\">u1</span> <span class=\"o\">*</span> <span class=\"n\">u2</span>\n",
       "                <span class=\"n\">r</span> <span class=\"o\">=</span> <span class=\"n\">bbb</span> <span class=\"o\">+</span> <span class=\"n\">ccc</span> <span class=\"o\">*</span> <span class=\"n\">v</span> <span class=\"o\">-</span> <span class=\"n\">x</span>\n",
       "                <span class=\"k\">if</span> <span class=\"n\">r</span> <span class=\"o\">+</span> <span class=\"n\">SG_MAGICCONST</span> <span class=\"o\">-</span> <span class=\"mf\">4.5</span> <span class=\"o\">*</span> <span class=\"n\">z</span> <span class=\"o\">&gt;=</span> <span class=\"mf\">0.0</span> <span class=\"ow\">or</span> <span class=\"n\">r</span> <span class=\"o\">&gt;=</span> <span class=\"n\">_log</span><span class=\"p\">(</span><span class=\"n\">z</span><span class=\"p\">):</span>\n",
       "                    <span class=\"k\">return</span> <span class=\"n\">x</span> <span class=\"o\">*</span> <span class=\"n\">beta</span>\n",
       "\n",
       "        <span class=\"k\">elif</span> <span class=\"n\">alpha</span> <span class=\"o\">==</span> <span class=\"mf\">1.0</span><span class=\"p\">:</span>\n",
       "            <span class=\"c1\"># expovariate(1/beta)</span>\n",
       "            <span class=\"k\">return</span> <span class=\"o\">-</span><span class=\"n\">_log</span><span class=\"p\">(</span><span class=\"mf\">1.0</span> <span class=\"o\">-</span> <span class=\"n\">random</span><span class=\"p\">())</span> <span class=\"o\">*</span> <span class=\"n\">beta</span>\n",
       "\n",
       "        <span class=\"k\">else</span><span class=\"p\">:</span>\n",
       "            <span class=\"c1\"># alpha is between 0 and 1 (exclusive)</span>\n",
       "            <span class=\"c1\"># Uses ALGORITHM GS of Statistical Computing - Kennedy &amp; Gentle</span>\n",
       "            <span class=\"k\">while</span> <span class=\"kc\">True</span><span class=\"p\">:</span>\n",
       "                <span class=\"n\">u</span> <span class=\"o\">=</span> <span class=\"n\">random</span><span class=\"p\">()</span>\n",
       "                <span class=\"n\">b</span> <span class=\"o\">=</span> <span class=\"p\">(</span><span class=\"n\">_e</span> <span class=\"o\">+</span> <span class=\"n\">alpha</span><span class=\"p\">)</span> <span class=\"o\">/</span> <span class=\"n\">_e</span>\n",
       "                <span class=\"n\">p</span> <span class=\"o\">=</span> <span class=\"n\">b</span> <span class=\"o\">*</span> <span class=\"n\">u</span>\n",
       "                <span class=\"k\">if</span> <span class=\"n\">p</span> <span class=\"o\">&lt;=</span> <span class=\"mf\">1.0</span><span class=\"p\">:</span>\n",
       "                    <span class=\"n\">x</span> <span class=\"o\">=</span> <span class=\"n\">p</span> <span class=\"o\">**</span> <span class=\"p\">(</span><span class=\"mf\">1.0</span> <span class=\"o\">/</span> <span class=\"n\">alpha</span><span class=\"p\">)</span>\n",
       "                <span class=\"k\">else</span><span class=\"p\">:</span>\n",
       "                    <span class=\"n\">x</span> <span class=\"o\">=</span> <span class=\"o\">-</span><span class=\"n\">_log</span><span class=\"p\">((</span><span class=\"n\">b</span> <span class=\"o\">-</span> <span class=\"n\">p</span><span class=\"p\">)</span> <span class=\"o\">/</span> <span class=\"n\">alpha</span><span class=\"p\">)</span>\n",
       "                <span class=\"n\">u1</span> <span class=\"o\">=</span> <span class=\"n\">random</span><span class=\"p\">()</span>\n",
       "                <span class=\"k\">if</span> <span class=\"n\">p</span> <span class=\"o\">&gt;</span> <span class=\"mf\">1.0</span><span class=\"p\">:</span>\n",
       "                    <span class=\"k\">if</span> <span class=\"n\">u1</span> <span class=\"o\">&lt;=</span> <span class=\"n\">x</span> <span class=\"o\">**</span> <span class=\"p\">(</span><span class=\"n\">alpha</span> <span class=\"o\">-</span> <span class=\"mf\">1.0</span><span class=\"p\">):</span>\n",
       "                        <span class=\"k\">break</span>\n",
       "                <span class=\"k\">elif</span> <span class=\"n\">u1</span> <span class=\"o\">&lt;=</span> <span class=\"n\">_exp</span><span class=\"p\">(</span><span class=\"o\">-</span><span class=\"n\">x</span><span class=\"p\">):</span>\n",
       "                    <span class=\"k\">break</span>\n",
       "            <span class=\"k\">return</span> <span class=\"n\">x</span> <span class=\"o\">*</span> <span class=\"n\">beta</span>\n",
       "\n",
       "    <span class=\"k\">def</span> <span class=\"nf\">betavariate</span><span class=\"p\">(</span><span class=\"bp\">self</span><span class=\"p\">,</span> <span class=\"n\">alpha</span><span class=\"p\">,</span> <span class=\"n\">beta</span><span class=\"p\">):</span>\n",
       "<span class=\"w\">        </span><span class=\"sd\">&quot;&quot;&quot;Beta distribution.</span>\n",
       "\n",
       "<span class=\"sd\">        Conditions on the parameters are alpha &gt; 0 and beta &gt; 0.</span>\n",
       "<span class=\"sd\">        Returned values range between 0 and 1.</span>\n",
       "\n",
       "<span class=\"sd\">        &quot;&quot;&quot;</span>\n",
       "        <span class=\"c1\">## See</span>\n",
       "        <span class=\"c1\">## http://mail.python.org/pipermail/python-bugs-list/2001-January/003752.html</span>\n",
       "        <span class=\"c1\">## for Ivan Frohne&#39;s insightful analysis of why the original implementation:</span>\n",
       "        <span class=\"c1\">##</span>\n",
       "        <span class=\"c1\">##    def betavariate(self, alpha, beta):</span>\n",
       "        <span class=\"c1\">##        # Discrete Event Simulation in C, pp 87-88.</span>\n",
       "        <span class=\"c1\">##</span>\n",
       "        <span class=\"c1\">##        y = self.expovariate(alpha)</span>\n",
       "        <span class=\"c1\">##        z = self.expovariate(1.0/beta)</span>\n",
       "        <span class=\"c1\">##        return z/(y+z)</span>\n",
       "        <span class=\"c1\">##</span>\n",
       "        <span class=\"c1\">## was dead wrong, and how it probably got that way.</span>\n",
       "\n",
       "        <span class=\"c1\"># This version due to Janne Sinkkonen, and matches all the std</span>\n",
       "        <span class=\"c1\"># texts (e.g., Knuth Vol 2 Ed 3 pg 134 &quot;the beta distribution&quot;).</span>\n",
       "        <span class=\"n\">y</span> <span class=\"o\">=</span> <span class=\"bp\">self</span><span class=\"o\">.</span><span class=\"n\">gammavariate</span><span class=\"p\">(</span><span class=\"n\">alpha</span><span class=\"p\">,</span> <span class=\"mf\">1.0</span><span class=\"p\">)</span>\n",
       "        <span class=\"k\">if</span> <span class=\"n\">y</span><span class=\"p\">:</span>\n",
       "            <span class=\"k\">return</span> <span class=\"n\">y</span> <span class=\"o\">/</span> <span class=\"p\">(</span><span class=\"n\">y</span> <span class=\"o\">+</span> <span class=\"bp\">self</span><span class=\"o\">.</span><span class=\"n\">gammavariate</span><span class=\"p\">(</span><span class=\"n\">beta</span><span class=\"p\">,</span> <span class=\"mf\">1.0</span><span class=\"p\">))</span>\n",
       "        <span class=\"k\">return</span> <span class=\"mf\">0.0</span>\n",
       "\n",
       "    <span class=\"k\">def</span> <span class=\"nf\">paretovariate</span><span class=\"p\">(</span><span class=\"bp\">self</span><span class=\"p\">,</span> <span class=\"n\">alpha</span><span class=\"p\">):</span>\n",
       "<span class=\"w\">        </span><span class=\"sd\">&quot;&quot;&quot;Pareto distribution.  alpha is the shape parameter.&quot;&quot;&quot;</span>\n",
       "        <span class=\"c1\"># Jain, pg. 495</span>\n",
       "\n",
       "        <span class=\"n\">u</span> <span class=\"o\">=</span> <span class=\"mf\">1.0</span> <span class=\"o\">-</span> <span class=\"bp\">self</span><span class=\"o\">.</span><span class=\"n\">random</span><span class=\"p\">()</span>\n",
       "        <span class=\"k\">return</span> <span class=\"n\">u</span> <span class=\"o\">**</span> <span class=\"p\">(</span><span class=\"o\">-</span><span class=\"mf\">1.0</span> <span class=\"o\">/</span> <span class=\"n\">alpha</span><span class=\"p\">)</span>\n",
       "\n",
       "    <span class=\"k\">def</span> <span class=\"nf\">weibullvariate</span><span class=\"p\">(</span><span class=\"bp\">self</span><span class=\"p\">,</span> <span class=\"n\">alpha</span><span class=\"p\">,</span> <span class=\"n\">beta</span><span class=\"p\">):</span>\n",
       "<span class=\"w\">        </span><span class=\"sd\">&quot;&quot;&quot;Weibull distribution.</span>\n",
       "\n",
       "<span class=\"sd\">        alpha is the scale parameter and beta is the shape parameter.</span>\n",
       "\n",
       "<span class=\"sd\">        &quot;&quot;&quot;</span>\n",
       "        <span class=\"c1\"># Jain, pg. 499; bug fix courtesy Bill Arms</span>\n",
       "\n",
       "        <span class=\"n\">u</span> <span class=\"o\">=</span> <span class=\"mf\">1.0</span> <span class=\"o\">-</span> <span class=\"bp\">self</span><span class=\"o\">.</span><span class=\"n\">random</span><span class=\"p\">()</span>\n",
       "        <span class=\"k\">return</span> <span class=\"n\">alpha</span> <span class=\"o\">*</span> <span class=\"p\">(</span><span class=\"o\">-</span><span class=\"n\">_log</span><span class=\"p\">(</span><span class=\"n\">u</span><span class=\"p\">))</span> <span class=\"o\">**</span> <span class=\"p\">(</span><span class=\"mf\">1.0</span> <span class=\"o\">/</span> <span class=\"n\">beta</span><span class=\"p\">)</span>\n",
       "\n",
       "\n",
       "<span class=\"c1\">## ------------------------------------------------------------------</span>\n",
       "<span class=\"c1\">## --------------- Operating System Random Source  ------------------</span>\n",
       "\n",
       "\n",
       "<span class=\"k\">class</span> <span class=\"nc\">SystemRandom</span><span class=\"p\">(</span><span class=\"n\">Random</span><span class=\"p\">):</span>\n",
       "<span class=\"w\">    </span><span class=\"sd\">&quot;&quot;&quot;Alternate random number generator using sources provided</span>\n",
       "<span class=\"sd\">    by the operating system (such as /dev/urandom on Unix or</span>\n",
       "<span class=\"sd\">    CryptGenRandom on Windows).</span>\n",
       "\n",
       "<span class=\"sd\">     Not available on all systems (see os.urandom() for details).</span>\n",
       "\n",
       "<span class=\"sd\">    &quot;&quot;&quot;</span>\n",
       "\n",
       "    <span class=\"k\">def</span> <span class=\"nf\">random</span><span class=\"p\">(</span><span class=\"bp\">self</span><span class=\"p\">):</span>\n",
       "<span class=\"w\">        </span><span class=\"sd\">&quot;&quot;&quot;Get the next random number in the range 0.0 &lt;= X &lt; 1.0.&quot;&quot;&quot;</span>\n",
       "        <span class=\"k\">return</span> <span class=\"p\">(</span><span class=\"nb\">int</span><span class=\"o\">.</span><span class=\"n\">from_bytes</span><span class=\"p\">(</span><span class=\"n\">_urandom</span><span class=\"p\">(</span><span class=\"mi\">7</span><span class=\"p\">))</span> <span class=\"o\">&gt;&gt;</span> <span class=\"mi\">3</span><span class=\"p\">)</span> <span class=\"o\">*</span> <span class=\"n\">RECIP_BPF</span>\n",
       "\n",
       "    <span class=\"k\">def</span> <span class=\"nf\">getrandbits</span><span class=\"p\">(</span><span class=\"bp\">self</span><span class=\"p\">,</span> <span class=\"n\">k</span><span class=\"p\">):</span>\n",
       "<span class=\"w\">        </span><span class=\"sd\">&quot;&quot;&quot;getrandbits(k) -&gt; x.  Generates an int with k random bits.&quot;&quot;&quot;</span>\n",
       "        <span class=\"k\">if</span> <span class=\"n\">k</span> <span class=\"o\">&lt;</span> <span class=\"mi\">0</span><span class=\"p\">:</span>\n",
       "            <span class=\"k\">raise</span> <span class=\"ne\">ValueError</span><span class=\"p\">(</span><span class=\"s1\">&#39;number of bits must be non-negative&#39;</span><span class=\"p\">)</span>\n",
       "        <span class=\"n\">numbytes</span> <span class=\"o\">=</span> <span class=\"p\">(</span><span class=\"n\">k</span> <span class=\"o\">+</span> <span class=\"mi\">7</span><span class=\"p\">)</span> <span class=\"o\">//</span> <span class=\"mi\">8</span>                       <span class=\"c1\"># bits / 8 and rounded up</span>\n",
       "        <span class=\"n\">x</span> <span class=\"o\">=</span> <span class=\"nb\">int</span><span class=\"o\">.</span><span class=\"n\">from_bytes</span><span class=\"p\">(</span><span class=\"n\">_urandom</span><span class=\"p\">(</span><span class=\"n\">numbytes</span><span class=\"p\">))</span>\n",
       "        <span class=\"k\">return</span> <span class=\"n\">x</span> <span class=\"o\">&gt;&gt;</span> <span class=\"p\">(</span><span class=\"n\">numbytes</span> <span class=\"o\">*</span> <span class=\"mi\">8</span> <span class=\"o\">-</span> <span class=\"n\">k</span><span class=\"p\">)</span>                <span class=\"c1\"># trim excess bits</span>\n",
       "\n",
       "    <span class=\"k\">def</span> <span class=\"nf\">randbytes</span><span class=\"p\">(</span><span class=\"bp\">self</span><span class=\"p\">,</span> <span class=\"n\">n</span><span class=\"p\">):</span>\n",
       "<span class=\"w\">        </span><span class=\"sd\">&quot;&quot;&quot;Generate n random bytes.&quot;&quot;&quot;</span>\n",
       "        <span class=\"c1\"># os.urandom(n) fails with ValueError for n &lt; 0</span>\n",
       "        <span class=\"c1\"># and returns an empty bytes string for n == 0.</span>\n",
       "        <span class=\"k\">return</span> <span class=\"n\">_urandom</span><span class=\"p\">(</span><span class=\"n\">n</span><span class=\"p\">)</span>\n",
       "\n",
       "    <span class=\"k\">def</span> <span class=\"nf\">seed</span><span class=\"p\">(</span><span class=\"bp\">self</span><span class=\"p\">,</span> <span class=\"o\">*</span><span class=\"n\">args</span><span class=\"p\">,</span> <span class=\"o\">**</span><span class=\"n\">kwds</span><span class=\"p\">):</span>\n",
       "        <span class=\"s2\">&quot;Stub method.  Not used for a system random number generator.&quot;</span>\n",
       "        <span class=\"k\">return</span> <span class=\"kc\">None</span>\n",
       "\n",
       "    <span class=\"k\">def</span> <span class=\"nf\">_notimplemented</span><span class=\"p\">(</span><span class=\"bp\">self</span><span class=\"p\">,</span> <span class=\"o\">*</span><span class=\"n\">args</span><span class=\"p\">,</span> <span class=\"o\">**</span><span class=\"n\">kwds</span><span class=\"p\">):</span>\n",
       "        <span class=\"s2\">&quot;Method should not be called for a system random number generator.&quot;</span>\n",
       "        <span class=\"k\">raise</span> <span class=\"ne\">NotImplementedError</span><span class=\"p\">(</span><span class=\"s1\">&#39;System entropy source does not have state.&#39;</span><span class=\"p\">)</span>\n",
       "    <span class=\"n\">getstate</span> <span class=\"o\">=</span> <span class=\"n\">setstate</span> <span class=\"o\">=</span> <span class=\"n\">_notimplemented</span>\n",
       "\n",
       "\n",
       "<span class=\"c1\"># ----------------------------------------------------------------------</span>\n",
       "<span class=\"c1\"># Create one instance, seeded from current time, and export its methods</span>\n",
       "<span class=\"c1\"># as module-level functions.  The functions share state across all uses</span>\n",
       "<span class=\"c1\"># (both in the user&#39;s code and in the Python libraries), but that&#39;s fine</span>\n",
       "<span class=\"c1\"># for most programs and is easier for the casual user than making them</span>\n",
       "<span class=\"c1\"># instantiate their own Random() instance.</span>\n",
       "\n",
       "<span class=\"n\">_inst</span> <span class=\"o\">=</span> <span class=\"n\">Random</span><span class=\"p\">()</span>\n",
       "<span class=\"n\">seed</span> <span class=\"o\">=</span> <span class=\"n\">_inst</span><span class=\"o\">.</span><span class=\"n\">seed</span>\n",
       "<span class=\"n\">random</span> <span class=\"o\">=</span> <span class=\"n\">_inst</span><span class=\"o\">.</span><span class=\"n\">random</span>\n",
       "<span class=\"n\">uniform</span> <span class=\"o\">=</span> <span class=\"n\">_inst</span><span class=\"o\">.</span><span class=\"n\">uniform</span>\n",
       "<span class=\"n\">triangular</span> <span class=\"o\">=</span> <span class=\"n\">_inst</span><span class=\"o\">.</span><span class=\"n\">triangular</span>\n",
       "<span class=\"n\">randint</span> <span class=\"o\">=</span> <span class=\"n\">_inst</span><span class=\"o\">.</span><span class=\"n\">randint</span>\n",
       "<span class=\"n\">choice</span> <span class=\"o\">=</span> <span class=\"n\">_inst</span><span class=\"o\">.</span><span class=\"n\">choice</span>\n",
       "<span class=\"n\">randrange</span> <span class=\"o\">=</span> <span class=\"n\">_inst</span><span class=\"o\">.</span><span class=\"n\">randrange</span>\n",
       "<span class=\"n\">sample</span> <span class=\"o\">=</span> <span class=\"n\">_inst</span><span class=\"o\">.</span><span class=\"n\">sample</span>\n",
       "<span class=\"n\">shuffle</span> <span class=\"o\">=</span> <span class=\"n\">_inst</span><span class=\"o\">.</span><span class=\"n\">shuffle</span>\n",
       "<span class=\"n\">choices</span> <span class=\"o\">=</span> <span class=\"n\">_inst</span><span class=\"o\">.</span><span class=\"n\">choices</span>\n",
       "<span class=\"n\">normalvariate</span> <span class=\"o\">=</span> <span class=\"n\">_inst</span><span class=\"o\">.</span><span class=\"n\">normalvariate</span>\n",
       "<span class=\"n\">lognormvariate</span> <span class=\"o\">=</span> <span class=\"n\">_inst</span><span class=\"o\">.</span><span class=\"n\">lognormvariate</span>\n",
       "<span class=\"n\">expovariate</span> <span class=\"o\">=</span> <span class=\"n\">_inst</span><span class=\"o\">.</span><span class=\"n\">expovariate</span>\n",
       "<span class=\"n\">vonmisesvariate</span> <span class=\"o\">=</span> <span class=\"n\">_inst</span><span class=\"o\">.</span><span class=\"n\">vonmisesvariate</span>\n",
       "<span class=\"n\">gammavariate</span> <span class=\"o\">=</span> <span class=\"n\">_inst</span><span class=\"o\">.</span><span class=\"n\">gammavariate</span>\n",
       "<span class=\"n\">gauss</span> <span class=\"o\">=</span> <span class=\"n\">_inst</span><span class=\"o\">.</span><span class=\"n\">gauss</span>\n",
       "<span class=\"n\">betavariate</span> <span class=\"o\">=</span> <span class=\"n\">_inst</span><span class=\"o\">.</span><span class=\"n\">betavariate</span>\n",
       "<span class=\"n\">paretovariate</span> <span class=\"o\">=</span> <span class=\"n\">_inst</span><span class=\"o\">.</span><span class=\"n\">paretovariate</span>\n",
       "<span class=\"n\">weibullvariate</span> <span class=\"o\">=</span> <span class=\"n\">_inst</span><span class=\"o\">.</span><span class=\"n\">weibullvariate</span>\n",
       "<span class=\"n\">getstate</span> <span class=\"o\">=</span> <span class=\"n\">_inst</span><span class=\"o\">.</span><span class=\"n\">getstate</span>\n",
       "<span class=\"n\">setstate</span> <span class=\"o\">=</span> <span class=\"n\">_inst</span><span class=\"o\">.</span><span class=\"n\">setstate</span>\n",
       "<span class=\"n\">getrandbits</span> <span class=\"o\">=</span> <span class=\"n\">_inst</span><span class=\"o\">.</span><span class=\"n\">getrandbits</span>\n",
       "<span class=\"n\">randbytes</span> <span class=\"o\">=</span> <span class=\"n\">_inst</span><span class=\"o\">.</span><span class=\"n\">randbytes</span>\n",
       "\n",
       "\n",
       "<span class=\"c1\">## ------------------------------------------------------</span>\n",
       "<span class=\"c1\">## ----------------- test program -----------------------</span>\n",
       "\n",
       "<span class=\"k\">def</span> <span class=\"nf\">_test_generator</span><span class=\"p\">(</span><span class=\"n\">n</span><span class=\"p\">,</span> <span class=\"n\">func</span><span class=\"p\">,</span> <span class=\"n\">args</span><span class=\"p\">):</span>\n",
       "    <span class=\"kn\">from</span> <span class=\"nn\">statistics</span> <span class=\"kn\">import</span> <span class=\"n\">stdev</span><span class=\"p\">,</span> <span class=\"n\">fmean</span> <span class=\"k\">as</span> <span class=\"n\">mean</span>\n",
       "    <span class=\"kn\">from</span> <span class=\"nn\">time</span> <span class=\"kn\">import</span> <span class=\"n\">perf_counter</span>\n",
       "\n",
       "    <span class=\"n\">t0</span> <span class=\"o\">=</span> <span class=\"n\">perf_counter</span><span class=\"p\">()</span>\n",
       "    <span class=\"n\">data</span> <span class=\"o\">=</span> <span class=\"p\">[</span><span class=\"n\">func</span><span class=\"p\">(</span><span class=\"o\">*</span><span class=\"n\">args</span><span class=\"p\">)</span> <span class=\"k\">for</span> <span class=\"n\">i</span> <span class=\"ow\">in</span> <span class=\"n\">_repeat</span><span class=\"p\">(</span><span class=\"kc\">None</span><span class=\"p\">,</span> <span class=\"n\">n</span><span class=\"p\">)]</span>\n",
       "    <span class=\"n\">t1</span> <span class=\"o\">=</span> <span class=\"n\">perf_counter</span><span class=\"p\">()</span>\n",
       "\n",
       "    <span class=\"n\">xbar</span> <span class=\"o\">=</span> <span class=\"n\">mean</span><span class=\"p\">(</span><span class=\"n\">data</span><span class=\"p\">)</span>\n",
       "    <span class=\"n\">sigma</span> <span class=\"o\">=</span> <span class=\"n\">stdev</span><span class=\"p\">(</span><span class=\"n\">data</span><span class=\"p\">,</span> <span class=\"n\">xbar</span><span class=\"p\">)</span>\n",
       "    <span class=\"n\">low</span> <span class=\"o\">=</span> <span class=\"nb\">min</span><span class=\"p\">(</span><span class=\"n\">data</span><span class=\"p\">)</span>\n",
       "    <span class=\"n\">high</span> <span class=\"o\">=</span> <span class=\"nb\">max</span><span class=\"p\">(</span><span class=\"n\">data</span><span class=\"p\">)</span>\n",
       "\n",
       "    <span class=\"nb\">print</span><span class=\"p\">(</span><span class=\"sa\">f</span><span class=\"s1\">&#39;</span><span class=\"si\">{</span><span class=\"n\">t1</span><span class=\"w\"> </span><span class=\"o\">-</span><span class=\"w\"> </span><span class=\"n\">t0</span><span class=\"si\">:</span><span class=\"s1\">.3f</span><span class=\"si\">}</span><span class=\"s1\"> sec, </span><span class=\"si\">{</span><span class=\"n\">n</span><span class=\"si\">}</span><span class=\"s1\"> times </span><span class=\"si\">{</span><span class=\"n\">func</span><span class=\"o\">.</span><span class=\"vm\">__name__</span><span class=\"si\">}</span><span class=\"s1\">&#39;</span><span class=\"p\">)</span>\n",
       "    <span class=\"nb\">print</span><span class=\"p\">(</span><span class=\"s1\">&#39;avg </span><span class=\"si\">%g</span><span class=\"s1\">, stddev </span><span class=\"si\">%g</span><span class=\"s1\">, min </span><span class=\"si\">%g</span><span class=\"s1\">, max </span><span class=\"si\">%g</span><span class=\"se\">\\n</span><span class=\"s1\">&#39;</span> <span class=\"o\">%</span> <span class=\"p\">(</span><span class=\"n\">xbar</span><span class=\"p\">,</span> <span class=\"n\">sigma</span><span class=\"p\">,</span> <span class=\"n\">low</span><span class=\"p\">,</span> <span class=\"n\">high</span><span class=\"p\">))</span>\n",
       "\n",
       "\n",
       "<span class=\"k\">def</span> <span class=\"nf\">_test</span><span class=\"p\">(</span><span class=\"n\">N</span><span class=\"o\">=</span><span class=\"mi\">2000</span><span class=\"p\">):</span>\n",
       "    <span class=\"n\">_test_generator</span><span class=\"p\">(</span><span class=\"n\">N</span><span class=\"p\">,</span> <span class=\"n\">random</span><span class=\"p\">,</span> <span class=\"p\">())</span>\n",
       "    <span class=\"n\">_test_generator</span><span class=\"p\">(</span><span class=\"n\">N</span><span class=\"p\">,</span> <span class=\"n\">normalvariate</span><span class=\"p\">,</span> <span class=\"p\">(</span><span class=\"mf\">0.0</span><span class=\"p\">,</span> <span class=\"mf\">1.0</span><span class=\"p\">))</span>\n",
       "    <span class=\"n\">_test_generator</span><span class=\"p\">(</span><span class=\"n\">N</span><span class=\"p\">,</span> <span class=\"n\">lognormvariate</span><span class=\"p\">,</span> <span class=\"p\">(</span><span class=\"mf\">0.0</span><span class=\"p\">,</span> <span class=\"mf\">1.0</span><span class=\"p\">))</span>\n",
       "    <span class=\"n\">_test_generator</span><span class=\"p\">(</span><span class=\"n\">N</span><span class=\"p\">,</span> <span class=\"n\">vonmisesvariate</span><span class=\"p\">,</span> <span class=\"p\">(</span><span class=\"mf\">0.0</span><span class=\"p\">,</span> <span class=\"mf\">1.0</span><span class=\"p\">))</span>\n",
       "    <span class=\"n\">_test_generator</span><span class=\"p\">(</span><span class=\"n\">N</span><span class=\"p\">,</span> <span class=\"n\">gammavariate</span><span class=\"p\">,</span> <span class=\"p\">(</span><span class=\"mf\">0.01</span><span class=\"p\">,</span> <span class=\"mf\">1.0</span><span class=\"p\">))</span>\n",
       "    <span class=\"n\">_test_generator</span><span class=\"p\">(</span><span class=\"n\">N</span><span class=\"p\">,</span> <span class=\"n\">gammavariate</span><span class=\"p\">,</span> <span class=\"p\">(</span><span class=\"mf\">0.1</span><span class=\"p\">,</span> <span class=\"mf\">1.0</span><span class=\"p\">))</span>\n",
       "    <span class=\"n\">_test_generator</span><span class=\"p\">(</span><span class=\"n\">N</span><span class=\"p\">,</span> <span class=\"n\">gammavariate</span><span class=\"p\">,</span> <span class=\"p\">(</span><span class=\"mf\">0.1</span><span class=\"p\">,</span> <span class=\"mf\">2.0</span><span class=\"p\">))</span>\n",
       "    <span class=\"n\">_test_generator</span><span class=\"p\">(</span><span class=\"n\">N</span><span class=\"p\">,</span> <span class=\"n\">gammavariate</span><span class=\"p\">,</span> <span class=\"p\">(</span><span class=\"mf\">0.5</span><span class=\"p\">,</span> <span class=\"mf\">1.0</span><span class=\"p\">))</span>\n",
       "    <span class=\"n\">_test_generator</span><span class=\"p\">(</span><span class=\"n\">N</span><span class=\"p\">,</span> <span class=\"n\">gammavariate</span><span class=\"p\">,</span> <span class=\"p\">(</span><span class=\"mf\">0.9</span><span class=\"p\">,</span> <span class=\"mf\">1.0</span><span class=\"p\">))</span>\n",
       "    <span class=\"n\">_test_generator</span><span class=\"p\">(</span><span class=\"n\">N</span><span class=\"p\">,</span> <span class=\"n\">gammavariate</span><span class=\"p\">,</span> <span class=\"p\">(</span><span class=\"mf\">1.0</span><span class=\"p\">,</span> <span class=\"mf\">1.0</span><span class=\"p\">))</span>\n",
       "    <span class=\"n\">_test_generator</span><span class=\"p\">(</span><span class=\"n\">N</span><span class=\"p\">,</span> <span class=\"n\">gammavariate</span><span class=\"p\">,</span> <span class=\"p\">(</span><span class=\"mf\">2.0</span><span class=\"p\">,</span> <span class=\"mf\">1.0</span><span class=\"p\">))</span>\n",
       "    <span class=\"n\">_test_generator</span><span class=\"p\">(</span><span class=\"n\">N</span><span class=\"p\">,</span> <span class=\"n\">gammavariate</span><span class=\"p\">,</span> <span class=\"p\">(</span><span class=\"mf\">20.0</span><span class=\"p\">,</span> <span class=\"mf\">1.0</span><span class=\"p\">))</span>\n",
       "    <span class=\"n\">_test_generator</span><span class=\"p\">(</span><span class=\"n\">N</span><span class=\"p\">,</span> <span class=\"n\">gammavariate</span><span class=\"p\">,</span> <span class=\"p\">(</span><span class=\"mf\">200.0</span><span class=\"p\">,</span> <span class=\"mf\">1.0</span><span class=\"p\">))</span>\n",
       "    <span class=\"n\">_test_generator</span><span class=\"p\">(</span><span class=\"n\">N</span><span class=\"p\">,</span> <span class=\"n\">gauss</span><span class=\"p\">,</span> <span class=\"p\">(</span><span class=\"mf\">0.0</span><span class=\"p\">,</span> <span class=\"mf\">1.0</span><span class=\"p\">))</span>\n",
       "    <span class=\"n\">_test_generator</span><span class=\"p\">(</span><span class=\"n\">N</span><span class=\"p\">,</span> <span class=\"n\">betavariate</span><span class=\"p\">,</span> <span class=\"p\">(</span><span class=\"mf\">3.0</span><span class=\"p\">,</span> <span class=\"mf\">3.0</span><span class=\"p\">))</span>\n",
       "    <span class=\"n\">_test_generator</span><span class=\"p\">(</span><span class=\"n\">N</span><span class=\"p\">,</span> <span class=\"n\">triangular</span><span class=\"p\">,</span> <span class=\"p\">(</span><span class=\"mf\">0.0</span><span class=\"p\">,</span> <span class=\"mf\">1.0</span><span class=\"p\">,</span> <span class=\"mf\">1.0</span> <span class=\"o\">/</span> <span class=\"mf\">3.0</span><span class=\"p\">))</span>\n",
       "\n",
       "\n",
       "<span class=\"c1\">## ------------------------------------------------------</span>\n",
       "<span class=\"c1\">## ------------------ fork support  ---------------------</span>\n",
       "\n",
       "<span class=\"k\">if</span> <span class=\"nb\">hasattr</span><span class=\"p\">(</span><span class=\"n\">_os</span><span class=\"p\">,</span> <span class=\"s2\">&quot;fork&quot;</span><span class=\"p\">):</span>\n",
       "    <span class=\"n\">_os</span><span class=\"o\">.</span><span class=\"n\">register_at_fork</span><span class=\"p\">(</span><span class=\"n\">after_in_child</span><span class=\"o\">=</span><span class=\"n\">_inst</span><span class=\"o\">.</span><span class=\"n\">seed</span><span class=\"p\">)</span>\n",
       "\n",
       "\n",
       "<span class=\"k\">if</span> <span class=\"vm\">__name__</span> <span class=\"o\">==</span> <span class=\"s1\">&#39;__main__&#39;</span><span class=\"p\">:</span>\n",
       "    <span class=\"n\">_test</span><span class=\"p\">()</span>\n",
       "</pre></div>\n"
      ],
      "text/latex": [
       "\\begin{Verbatim}[commandchars=\\\\\\{\\}]\n",
       "\\PY{l+s+sd}{\\PYZdq{}\\PYZdq{}\\PYZdq{}Random variable generators.}\n",
       "\n",
       "\\PY{l+s+sd}{    bytes}\n",
       "\\PY{l+s+sd}{    \\PYZhy{}\\PYZhy{}\\PYZhy{}\\PYZhy{}\\PYZhy{}}\n",
       "\\PY{l+s+sd}{           uniform bytes (values between 0 and 255)}\n",
       "\n",
       "\\PY{l+s+sd}{    integers}\n",
       "\\PY{l+s+sd}{    \\PYZhy{}\\PYZhy{}\\PYZhy{}\\PYZhy{}\\PYZhy{}\\PYZhy{}\\PYZhy{}\\PYZhy{}}\n",
       "\\PY{l+s+sd}{           uniform within range}\n",
       "\n",
       "\\PY{l+s+sd}{    sequences}\n",
       "\\PY{l+s+sd}{    \\PYZhy{}\\PYZhy{}\\PYZhy{}\\PYZhy{}\\PYZhy{}\\PYZhy{}\\PYZhy{}\\PYZhy{}\\PYZhy{}}\n",
       "\\PY{l+s+sd}{           pick random element}\n",
       "\\PY{l+s+sd}{           pick random sample}\n",
       "\\PY{l+s+sd}{           pick weighted random sample}\n",
       "\\PY{l+s+sd}{           generate random permutation}\n",
       "\n",
       "\\PY{l+s+sd}{    distributions on the real line:}\n",
       "\\PY{l+s+sd}{    \\PYZhy{}\\PYZhy{}\\PYZhy{}\\PYZhy{}\\PYZhy{}\\PYZhy{}\\PYZhy{}\\PYZhy{}\\PYZhy{}\\PYZhy{}\\PYZhy{}\\PYZhy{}\\PYZhy{}\\PYZhy{}\\PYZhy{}\\PYZhy{}\\PYZhy{}\\PYZhy{}\\PYZhy{}\\PYZhy{}\\PYZhy{}\\PYZhy{}\\PYZhy{}\\PYZhy{}\\PYZhy{}\\PYZhy{}\\PYZhy{}\\PYZhy{}\\PYZhy{}\\PYZhy{}}\n",
       "\\PY{l+s+sd}{           uniform}\n",
       "\\PY{l+s+sd}{           triangular}\n",
       "\\PY{l+s+sd}{           normal (Gaussian)}\n",
       "\\PY{l+s+sd}{           lognormal}\n",
       "\\PY{l+s+sd}{           negative exponential}\n",
       "\\PY{l+s+sd}{           gamma}\n",
       "\\PY{l+s+sd}{           beta}\n",
       "\\PY{l+s+sd}{           pareto}\n",
       "\\PY{l+s+sd}{           Weibull}\n",
       "\n",
       "\\PY{l+s+sd}{    distributions on the circle (angles 0 to 2pi)}\n",
       "\\PY{l+s+sd}{    \\PYZhy{}\\PYZhy{}\\PYZhy{}\\PYZhy{}\\PYZhy{}\\PYZhy{}\\PYZhy{}\\PYZhy{}\\PYZhy{}\\PYZhy{}\\PYZhy{}\\PYZhy{}\\PYZhy{}\\PYZhy{}\\PYZhy{}\\PYZhy{}\\PYZhy{}\\PYZhy{}\\PYZhy{}\\PYZhy{}\\PYZhy{}\\PYZhy{}\\PYZhy{}\\PYZhy{}\\PYZhy{}\\PYZhy{}\\PYZhy{}\\PYZhy{}\\PYZhy{}\\PYZhy{}\\PYZhy{}\\PYZhy{}\\PYZhy{}\\PYZhy{}\\PYZhy{}\\PYZhy{}\\PYZhy{}\\PYZhy{}\\PYZhy{}\\PYZhy{}\\PYZhy{}\\PYZhy{}\\PYZhy{}\\PYZhy{}\\PYZhy{}}\n",
       "\\PY{l+s+sd}{           circular uniform}\n",
       "\\PY{l+s+sd}{           von Mises}\n",
       "\n",
       "\\PY{l+s+sd}{General notes on the underlying Mersenne Twister core generator:}\n",
       "\n",
       "\\PY{l+s+sd}{* The period is 2**19937\\PYZhy{}1.}\n",
       "\\PY{l+s+sd}{* It is one of the most extensively tested generators in existence.}\n",
       "\\PY{l+s+sd}{* The random() method is implemented in C, executes in a single Python step,}\n",
       "\\PY{l+s+sd}{  and is, therefore, threadsafe.}\n",
       "\n",
       "\\PY{l+s+sd}{\\PYZdq{}\\PYZdq{}\\PYZdq{}}\n",
       "\n",
       "\\PY{c+c1}{\\PYZsh{} Translated by Guido van Rossum from C source provided by}\n",
       "\\PY{c+c1}{\\PYZsh{} Adrian Baddeley.  Adapted by Raymond Hettinger for use with}\n",
       "\\PY{c+c1}{\\PYZsh{} the Mersenne Twister  and os.urandom() core generators.}\n",
       "\n",
       "\\PY{k+kn}{from} \\PY{n+nn}{warnings} \\PY{k+kn}{import} \\PY{n}{warn} \\PY{k}{as} \\PY{n}{\\PYZus{}warn}\n",
       "\\PY{k+kn}{from} \\PY{n+nn}{math} \\PY{k+kn}{import} \\PY{n}{log} \\PY{k}{as} \\PY{n}{\\PYZus{}log}\\PY{p}{,} \\PY{n}{exp} \\PY{k}{as} \\PY{n}{\\PYZus{}exp}\\PY{p}{,} \\PY{n}{pi} \\PY{k}{as} \\PY{n}{\\PYZus{}pi}\\PY{p}{,} \\PY{n}{e} \\PY{k}{as} \\PY{n}{\\PYZus{}e}\\PY{p}{,} \\PY{n}{ceil} \\PY{k}{as} \\PY{n}{\\PYZus{}ceil}\n",
       "\\PY{k+kn}{from} \\PY{n+nn}{math} \\PY{k+kn}{import} \\PY{n}{sqrt} \\PY{k}{as} \\PY{n}{\\PYZus{}sqrt}\\PY{p}{,} \\PY{n}{acos} \\PY{k}{as} \\PY{n}{\\PYZus{}acos}\\PY{p}{,} \\PY{n}{cos} \\PY{k}{as} \\PY{n}{\\PYZus{}cos}\\PY{p}{,} \\PY{n}{sin} \\PY{k}{as} \\PY{n}{\\PYZus{}sin}\n",
       "\\PY{k+kn}{from} \\PY{n+nn}{math} \\PY{k+kn}{import} \\PY{n}{tau} \\PY{k}{as} \\PY{n}{TWOPI}\\PY{p}{,} \\PY{n}{floor} \\PY{k}{as} \\PY{n}{\\PYZus{}floor}\\PY{p}{,} \\PY{n}{isfinite} \\PY{k}{as} \\PY{n}{\\PYZus{}isfinite}\n",
       "\\PY{k+kn}{from} \\PY{n+nn}{os} \\PY{k+kn}{import} \\PY{n}{urandom} \\PY{k}{as} \\PY{n}{\\PYZus{}urandom}\n",
       "\\PY{k+kn}{from} \\PY{n+nn}{\\PYZus{}collections\\PYZus{}abc} \\PY{k+kn}{import} \\PY{n}{Set} \\PY{k}{as} \\PY{n}{\\PYZus{}Set}\\PY{p}{,} \\PY{n}{Sequence} \\PY{k}{as} \\PY{n}{\\PYZus{}Sequence}\n",
       "\\PY{k+kn}{from} \\PY{n+nn}{operator} \\PY{k+kn}{import} \\PY{n}{index} \\PY{k}{as} \\PY{n}{\\PYZus{}index}\n",
       "\\PY{k+kn}{from} \\PY{n+nn}{itertools} \\PY{k+kn}{import} \\PY{n}{accumulate} \\PY{k}{as} \\PY{n}{\\PYZus{}accumulate}\\PY{p}{,} \\PY{n}{repeat} \\PY{k}{as} \\PY{n}{\\PYZus{}repeat}\n",
       "\\PY{k+kn}{from} \\PY{n+nn}{bisect} \\PY{k+kn}{import} \\PY{n}{bisect} \\PY{k}{as} \\PY{n}{\\PYZus{}bisect}\n",
       "\\PY{k+kn}{import} \\PY{n+nn}{os} \\PY{k}{as} \\PY{n+nn}{\\PYZus{}os}\n",
       "\\PY{k+kn}{import} \\PY{n+nn}{\\PYZus{}random}\n",
       "\n",
       "\\PY{k}{try}\\PY{p}{:}\n",
       "    \\PY{c+c1}{\\PYZsh{} hashlib is pretty heavy to load, try lean internal module first}\n",
       "    \\PY{k+kn}{from} \\PY{n+nn}{\\PYZus{}sha512} \\PY{k+kn}{import} \\PY{n}{sha512} \\PY{k}{as} \\PY{n}{\\PYZus{}sha512}\n",
       "\\PY{k}{except} \\PY{n+ne}{ImportError}\\PY{p}{:}\n",
       "    \\PY{c+c1}{\\PYZsh{} fallback to official implementation}\n",
       "    \\PY{k+kn}{from} \\PY{n+nn}{hashlib} \\PY{k+kn}{import} \\PY{n}{sha512} \\PY{k}{as} \\PY{n}{\\PYZus{}sha512}\n",
       "\n",
       "\\PY{n}{\\PYZus{}\\PYZus{}all\\PYZus{}\\PYZus{}} \\PY{o}{=} \\PY{p}{[}\n",
       "    \\PY{l+s+s2}{\\PYZdq{}}\\PY{l+s+s2}{Random}\\PY{l+s+s2}{\\PYZdq{}}\\PY{p}{,}\n",
       "    \\PY{l+s+s2}{\\PYZdq{}}\\PY{l+s+s2}{SystemRandom}\\PY{l+s+s2}{\\PYZdq{}}\\PY{p}{,}\n",
       "    \\PY{l+s+s2}{\\PYZdq{}}\\PY{l+s+s2}{betavariate}\\PY{l+s+s2}{\\PYZdq{}}\\PY{p}{,}\n",
       "    \\PY{l+s+s2}{\\PYZdq{}}\\PY{l+s+s2}{choice}\\PY{l+s+s2}{\\PYZdq{}}\\PY{p}{,}\n",
       "    \\PY{l+s+s2}{\\PYZdq{}}\\PY{l+s+s2}{choices}\\PY{l+s+s2}{\\PYZdq{}}\\PY{p}{,}\n",
       "    \\PY{l+s+s2}{\\PYZdq{}}\\PY{l+s+s2}{expovariate}\\PY{l+s+s2}{\\PYZdq{}}\\PY{p}{,}\n",
       "    \\PY{l+s+s2}{\\PYZdq{}}\\PY{l+s+s2}{gammavariate}\\PY{l+s+s2}{\\PYZdq{}}\\PY{p}{,}\n",
       "    \\PY{l+s+s2}{\\PYZdq{}}\\PY{l+s+s2}{gauss}\\PY{l+s+s2}{\\PYZdq{}}\\PY{p}{,}\n",
       "    \\PY{l+s+s2}{\\PYZdq{}}\\PY{l+s+s2}{getrandbits}\\PY{l+s+s2}{\\PYZdq{}}\\PY{p}{,}\n",
       "    \\PY{l+s+s2}{\\PYZdq{}}\\PY{l+s+s2}{getstate}\\PY{l+s+s2}{\\PYZdq{}}\\PY{p}{,}\n",
       "    \\PY{l+s+s2}{\\PYZdq{}}\\PY{l+s+s2}{lognormvariate}\\PY{l+s+s2}{\\PYZdq{}}\\PY{p}{,}\n",
       "    \\PY{l+s+s2}{\\PYZdq{}}\\PY{l+s+s2}{normalvariate}\\PY{l+s+s2}{\\PYZdq{}}\\PY{p}{,}\n",
       "    \\PY{l+s+s2}{\\PYZdq{}}\\PY{l+s+s2}{paretovariate}\\PY{l+s+s2}{\\PYZdq{}}\\PY{p}{,}\n",
       "    \\PY{l+s+s2}{\\PYZdq{}}\\PY{l+s+s2}{randbytes}\\PY{l+s+s2}{\\PYZdq{}}\\PY{p}{,}\n",
       "    \\PY{l+s+s2}{\\PYZdq{}}\\PY{l+s+s2}{randint}\\PY{l+s+s2}{\\PYZdq{}}\\PY{p}{,}\n",
       "    \\PY{l+s+s2}{\\PYZdq{}}\\PY{l+s+s2}{random}\\PY{l+s+s2}{\\PYZdq{}}\\PY{p}{,}\n",
       "    \\PY{l+s+s2}{\\PYZdq{}}\\PY{l+s+s2}{randrange}\\PY{l+s+s2}{\\PYZdq{}}\\PY{p}{,}\n",
       "    \\PY{l+s+s2}{\\PYZdq{}}\\PY{l+s+s2}{sample}\\PY{l+s+s2}{\\PYZdq{}}\\PY{p}{,}\n",
       "    \\PY{l+s+s2}{\\PYZdq{}}\\PY{l+s+s2}{seed}\\PY{l+s+s2}{\\PYZdq{}}\\PY{p}{,}\n",
       "    \\PY{l+s+s2}{\\PYZdq{}}\\PY{l+s+s2}{setstate}\\PY{l+s+s2}{\\PYZdq{}}\\PY{p}{,}\n",
       "    \\PY{l+s+s2}{\\PYZdq{}}\\PY{l+s+s2}{shuffle}\\PY{l+s+s2}{\\PYZdq{}}\\PY{p}{,}\n",
       "    \\PY{l+s+s2}{\\PYZdq{}}\\PY{l+s+s2}{triangular}\\PY{l+s+s2}{\\PYZdq{}}\\PY{p}{,}\n",
       "    \\PY{l+s+s2}{\\PYZdq{}}\\PY{l+s+s2}{uniform}\\PY{l+s+s2}{\\PYZdq{}}\\PY{p}{,}\n",
       "    \\PY{l+s+s2}{\\PYZdq{}}\\PY{l+s+s2}{vonmisesvariate}\\PY{l+s+s2}{\\PYZdq{}}\\PY{p}{,}\n",
       "    \\PY{l+s+s2}{\\PYZdq{}}\\PY{l+s+s2}{weibullvariate}\\PY{l+s+s2}{\\PYZdq{}}\\PY{p}{,}\n",
       "\\PY{p}{]}\n",
       "\n",
       "\\PY{n}{NV\\PYZus{}MAGICCONST} \\PY{o}{=} \\PY{l+m+mi}{4} \\PY{o}{*} \\PY{n}{\\PYZus{}exp}\\PY{p}{(}\\PY{o}{\\PYZhy{}}\\PY{l+m+mf}{0.5}\\PY{p}{)} \\PY{o}{/} \\PY{n}{\\PYZus{}sqrt}\\PY{p}{(}\\PY{l+m+mf}{2.0}\\PY{p}{)}\n",
       "\\PY{n}{LOG4} \\PY{o}{=} \\PY{n}{\\PYZus{}log}\\PY{p}{(}\\PY{l+m+mf}{4.0}\\PY{p}{)}\n",
       "\\PY{n}{SG\\PYZus{}MAGICCONST} \\PY{o}{=} \\PY{l+m+mf}{1.0} \\PY{o}{+} \\PY{n}{\\PYZus{}log}\\PY{p}{(}\\PY{l+m+mf}{4.5}\\PY{p}{)}\n",
       "\\PY{n}{BPF} \\PY{o}{=} \\PY{l+m+mi}{53}        \\PY{c+c1}{\\PYZsh{} Number of bits in a float}\n",
       "\\PY{n}{RECIP\\PYZus{}BPF} \\PY{o}{=} \\PY{l+m+mi}{2} \\PY{o}{*}\\PY{o}{*} \\PY{o}{\\PYZhy{}}\\PY{n}{BPF}\n",
       "\\PY{n}{\\PYZus{}ONE} \\PY{o}{=} \\PY{l+m+mi}{1}\n",
       "\n",
       "\n",
       "\\PY{k}{class} \\PY{n+nc}{Random}\\PY{p}{(}\\PY{n}{\\PYZus{}random}\\PY{o}{.}\\PY{n}{Random}\\PY{p}{)}\\PY{p}{:}\n",
       "\\PY{+w}{    }\\PY{l+s+sd}{\\PYZdq{}\\PYZdq{}\\PYZdq{}Random number generator base class used by bound module functions.}\n",
       "\n",
       "\\PY{l+s+sd}{    Used to instantiate instances of Random to get generators that don\\PYZsq{}t}\n",
       "\\PY{l+s+sd}{    share state.}\n",
       "\n",
       "\\PY{l+s+sd}{    Class Random can also be subclassed if you want to use a different basic}\n",
       "\\PY{l+s+sd}{    generator of your own devising: in that case, override the following}\n",
       "\\PY{l+s+sd}{    methods:  random(), seed(), getstate(), and setstate().}\n",
       "\\PY{l+s+sd}{    Optionally, implement a getrandbits() method so that randrange()}\n",
       "\\PY{l+s+sd}{    can cover arbitrarily large ranges.}\n",
       "\n",
       "\\PY{l+s+sd}{    \\PYZdq{}\\PYZdq{}\\PYZdq{}}\n",
       "\n",
       "    \\PY{n}{VERSION} \\PY{o}{=} \\PY{l+m+mi}{3}     \\PY{c+c1}{\\PYZsh{} used by getstate/setstate}\n",
       "\n",
       "    \\PY{k}{def} \\PY{n+nf+fm}{\\PYZus{}\\PYZus{}init\\PYZus{}\\PYZus{}}\\PY{p}{(}\\PY{n+nb+bp}{self}\\PY{p}{,} \\PY{n}{x}\\PY{o}{=}\\PY{k+kc}{None}\\PY{p}{)}\\PY{p}{:}\n",
       "\\PY{+w}{        }\\PY{l+s+sd}{\\PYZdq{}\\PYZdq{}\\PYZdq{}Initialize an instance.}\n",
       "\n",
       "\\PY{l+s+sd}{        Optional argument x controls seeding, as for Random.seed().}\n",
       "\\PY{l+s+sd}{        \\PYZdq{}\\PYZdq{}\\PYZdq{}}\n",
       "\n",
       "        \\PY{n+nb+bp}{self}\\PY{o}{.}\\PY{n}{seed}\\PY{p}{(}\\PY{n}{x}\\PY{p}{)}\n",
       "        \\PY{n+nb+bp}{self}\\PY{o}{.}\\PY{n}{gauss\\PYZus{}next} \\PY{o}{=} \\PY{k+kc}{None}\n",
       "\n",
       "    \\PY{k}{def} \\PY{n+nf}{seed}\\PY{p}{(}\\PY{n+nb+bp}{self}\\PY{p}{,} \\PY{n}{a}\\PY{o}{=}\\PY{k+kc}{None}\\PY{p}{,} \\PY{n}{version}\\PY{o}{=}\\PY{l+m+mi}{2}\\PY{p}{)}\\PY{p}{:}\n",
       "\\PY{+w}{        }\\PY{l+s+sd}{\\PYZdq{}\\PYZdq{}\\PYZdq{}Initialize internal state from a seed.}\n",
       "\n",
       "\\PY{l+s+sd}{        The only supported seed types are None, int, float,}\n",
       "\\PY{l+s+sd}{        str, bytes, and bytearray.}\n",
       "\n",
       "\\PY{l+s+sd}{        None or no argument seeds from current time or from an operating}\n",
       "\\PY{l+s+sd}{        system specific randomness source if available.}\n",
       "\n",
       "\\PY{l+s+sd}{        If *a* is an int, all bits are used.}\n",
       "\n",
       "\\PY{l+s+sd}{        For version 2 (the default), all of the bits are used if *a* is a str,}\n",
       "\\PY{l+s+sd}{        bytes, or bytearray.  For version 1 (provided for reproducing random}\n",
       "\\PY{l+s+sd}{        sequences from older versions of Python), the algorithm for str and}\n",
       "\\PY{l+s+sd}{        bytes generates a narrower range of seeds.}\n",
       "\n",
       "\\PY{l+s+sd}{        \\PYZdq{}\\PYZdq{}\\PYZdq{}}\n",
       "\n",
       "        \\PY{k}{if} \\PY{n}{version} \\PY{o}{==} \\PY{l+m+mi}{1} \\PY{o+ow}{and} \\PY{n+nb}{isinstance}\\PY{p}{(}\\PY{n}{a}\\PY{p}{,} \\PY{p}{(}\\PY{n+nb}{str}\\PY{p}{,} \\PY{n+nb}{bytes}\\PY{p}{)}\\PY{p}{)}\\PY{p}{:}\n",
       "            \\PY{n}{a} \\PY{o}{=} \\PY{n}{a}\\PY{o}{.}\\PY{n}{decode}\\PY{p}{(}\\PY{l+s+s1}{\\PYZsq{}}\\PY{l+s+s1}{latin\\PYZhy{}1}\\PY{l+s+s1}{\\PYZsq{}}\\PY{p}{)} \\PY{k}{if} \\PY{n+nb}{isinstance}\\PY{p}{(}\\PY{n}{a}\\PY{p}{,} \\PY{n+nb}{bytes}\\PY{p}{)} \\PY{k}{else} \\PY{n}{a}\n",
       "            \\PY{n}{x} \\PY{o}{=} \\PY{n+nb}{ord}\\PY{p}{(}\\PY{n}{a}\\PY{p}{[}\\PY{l+m+mi}{0}\\PY{p}{]}\\PY{p}{)} \\PY{o}{\\PYZlt{}\\PYZlt{}} \\PY{l+m+mi}{7} \\PY{k}{if} \\PY{n}{a} \\PY{k}{else} \\PY{l+m+mi}{0}\n",
       "            \\PY{k}{for} \\PY{n}{c} \\PY{o+ow}{in} \\PY{n+nb}{map}\\PY{p}{(}\\PY{n+nb}{ord}\\PY{p}{,} \\PY{n}{a}\\PY{p}{)}\\PY{p}{:}\n",
       "                \\PY{n}{x} \\PY{o}{=} \\PY{p}{(}\\PY{p}{(}\\PY{l+m+mi}{1000003} \\PY{o}{*} \\PY{n}{x}\\PY{p}{)} \\PY{o}{\\PYZca{}} \\PY{n}{c}\\PY{p}{)} \\PY{o}{\\PYZam{}} \\PY{l+m+mh}{0xFFFFFFFFFFFFFFFF}\n",
       "            \\PY{n}{x} \\PY{o}{\\PYZca{}}\\PY{o}{=} \\PY{n+nb}{len}\\PY{p}{(}\\PY{n}{a}\\PY{p}{)}\n",
       "            \\PY{n}{a} \\PY{o}{=} \\PY{o}{\\PYZhy{}}\\PY{l+m+mi}{2} \\PY{k}{if} \\PY{n}{x} \\PY{o}{==} \\PY{o}{\\PYZhy{}}\\PY{l+m+mi}{1} \\PY{k}{else} \\PY{n}{x}\n",
       "\n",
       "        \\PY{k}{elif} \\PY{n}{version} \\PY{o}{==} \\PY{l+m+mi}{2} \\PY{o+ow}{and} \\PY{n+nb}{isinstance}\\PY{p}{(}\\PY{n}{a}\\PY{p}{,} \\PY{p}{(}\\PY{n+nb}{str}\\PY{p}{,} \\PY{n+nb}{bytes}\\PY{p}{,} \\PY{n+nb}{bytearray}\\PY{p}{)}\\PY{p}{)}\\PY{p}{:}\n",
       "            \\PY{k}{if} \\PY{n+nb}{isinstance}\\PY{p}{(}\\PY{n}{a}\\PY{p}{,} \\PY{n+nb}{str}\\PY{p}{)}\\PY{p}{:}\n",
       "                \\PY{n}{a} \\PY{o}{=} \\PY{n}{a}\\PY{o}{.}\\PY{n}{encode}\\PY{p}{(}\\PY{p}{)}\n",
       "            \\PY{n}{a} \\PY{o}{=} \\PY{n+nb}{int}\\PY{o}{.}\\PY{n}{from\\PYZus{}bytes}\\PY{p}{(}\\PY{n}{a} \\PY{o}{+} \\PY{n}{\\PYZus{}sha512}\\PY{p}{(}\\PY{n}{a}\\PY{p}{)}\\PY{o}{.}\\PY{n}{digest}\\PY{p}{(}\\PY{p}{)}\\PY{p}{)}\n",
       "\n",
       "        \\PY{k}{elif} \\PY{o+ow}{not} \\PY{n+nb}{isinstance}\\PY{p}{(}\\PY{n}{a}\\PY{p}{,} \\PY{p}{(}\\PY{n+nb}{type}\\PY{p}{(}\\PY{k+kc}{None}\\PY{p}{)}\\PY{p}{,} \\PY{n+nb}{int}\\PY{p}{,} \\PY{n+nb}{float}\\PY{p}{,} \\PY{n+nb}{str}\\PY{p}{,} \\PY{n+nb}{bytes}\\PY{p}{,} \\PY{n+nb}{bytearray}\\PY{p}{)}\\PY{p}{)}\\PY{p}{:}\n",
       "            \\PY{k}{raise} \\PY{n+ne}{TypeError}\\PY{p}{(}\\PY{l+s+s1}{\\PYZsq{}}\\PY{l+s+s1}{The only supported seed types are: None,}\\PY{l+s+se}{\\PYZbs{}n}\\PY{l+s+s1}{\\PYZsq{}}\n",
       "                            \\PY{l+s+s1}{\\PYZsq{}}\\PY{l+s+s1}{int, float, str, bytes, and bytearray.}\\PY{l+s+s1}{\\PYZsq{}}\\PY{p}{)}\n",
       "\n",
       "        \\PY{n+nb}{super}\\PY{p}{(}\\PY{p}{)}\\PY{o}{.}\\PY{n}{seed}\\PY{p}{(}\\PY{n}{a}\\PY{p}{)}\n",
       "        \\PY{n+nb+bp}{self}\\PY{o}{.}\\PY{n}{gauss\\PYZus{}next} \\PY{o}{=} \\PY{k+kc}{None}\n",
       "\n",
       "    \\PY{k}{def} \\PY{n+nf}{getstate}\\PY{p}{(}\\PY{n+nb+bp}{self}\\PY{p}{)}\\PY{p}{:}\n",
       "\\PY{+w}{        }\\PY{l+s+sd}{\\PYZdq{}\\PYZdq{}\\PYZdq{}Return internal state; can be passed to setstate() later.\\PYZdq{}\\PYZdq{}\\PYZdq{}}\n",
       "        \\PY{k}{return} \\PY{n+nb+bp}{self}\\PY{o}{.}\\PY{n}{VERSION}\\PY{p}{,} \\PY{n+nb}{super}\\PY{p}{(}\\PY{p}{)}\\PY{o}{.}\\PY{n}{getstate}\\PY{p}{(}\\PY{p}{)}\\PY{p}{,} \\PY{n+nb+bp}{self}\\PY{o}{.}\\PY{n}{gauss\\PYZus{}next}\n",
       "\n",
       "    \\PY{k}{def} \\PY{n+nf}{setstate}\\PY{p}{(}\\PY{n+nb+bp}{self}\\PY{p}{,} \\PY{n}{state}\\PY{p}{)}\\PY{p}{:}\n",
       "\\PY{+w}{        }\\PY{l+s+sd}{\\PYZdq{}\\PYZdq{}\\PYZdq{}Restore internal state from object returned by getstate().\\PYZdq{}\\PYZdq{}\\PYZdq{}}\n",
       "        \\PY{n}{version} \\PY{o}{=} \\PY{n}{state}\\PY{p}{[}\\PY{l+m+mi}{0}\\PY{p}{]}\n",
       "        \\PY{k}{if} \\PY{n}{version} \\PY{o}{==} \\PY{l+m+mi}{3}\\PY{p}{:}\n",
       "            \\PY{n}{version}\\PY{p}{,} \\PY{n}{internalstate}\\PY{p}{,} \\PY{n+nb+bp}{self}\\PY{o}{.}\\PY{n}{gauss\\PYZus{}next} \\PY{o}{=} \\PY{n}{state}\n",
       "            \\PY{n+nb}{super}\\PY{p}{(}\\PY{p}{)}\\PY{o}{.}\\PY{n}{setstate}\\PY{p}{(}\\PY{n}{internalstate}\\PY{p}{)}\n",
       "        \\PY{k}{elif} \\PY{n}{version} \\PY{o}{==} \\PY{l+m+mi}{2}\\PY{p}{:}\n",
       "            \\PY{n}{version}\\PY{p}{,} \\PY{n}{internalstate}\\PY{p}{,} \\PY{n+nb+bp}{self}\\PY{o}{.}\\PY{n}{gauss\\PYZus{}next} \\PY{o}{=} \\PY{n}{state}\n",
       "            \\PY{c+c1}{\\PYZsh{} In version 2, the state was saved as signed ints, which causes}\n",
       "            \\PY{c+c1}{\\PYZsh{}   inconsistencies between 32/64\\PYZhy{}bit systems. The state is}\n",
       "            \\PY{c+c1}{\\PYZsh{}   really unsigned 32\\PYZhy{}bit ints, so we convert negative ints from}\n",
       "            \\PY{c+c1}{\\PYZsh{}   version 2 to positive longs for version 3.}\n",
       "            \\PY{k}{try}\\PY{p}{:}\n",
       "                \\PY{n}{internalstate} \\PY{o}{=} \\PY{n+nb}{tuple}\\PY{p}{(}\\PY{n}{x} \\PY{o}{\\PYZpc{}} \\PY{p}{(}\\PY{l+m+mi}{2} \\PY{o}{*}\\PY{o}{*} \\PY{l+m+mi}{32}\\PY{p}{)} \\PY{k}{for} \\PY{n}{x} \\PY{o+ow}{in} \\PY{n}{internalstate}\\PY{p}{)}\n",
       "            \\PY{k}{except} \\PY{n+ne}{ValueError} \\PY{k}{as} \\PY{n}{e}\\PY{p}{:}\n",
       "                \\PY{k}{raise} \\PY{n+ne}{TypeError} \\PY{k+kn}{from} \\PY{n+nn}{e}\n",
       "            \\PY{n+nb}{super}\\PY{p}{(}\\PY{p}{)}\\PY{o}{.}\\PY{n}{setstate}\\PY{p}{(}\\PY{n}{internalstate}\\PY{p}{)}\n",
       "        \\PY{k}{else}\\PY{p}{:}\n",
       "            \\PY{k}{raise} \\PY{n+ne}{ValueError}\\PY{p}{(}\\PY{l+s+s2}{\\PYZdq{}}\\PY{l+s+s2}{state with version }\\PY{l+s+si}{\\PYZpc{}s}\\PY{l+s+s2}{ passed to }\\PY{l+s+s2}{\\PYZdq{}}\n",
       "                             \\PY{l+s+s2}{\\PYZdq{}}\\PY{l+s+s2}{Random.setstate() of version }\\PY{l+s+si}{\\PYZpc{}s}\\PY{l+s+s2}{\\PYZdq{}} \\PY{o}{\\PYZpc{}}\n",
       "                             \\PY{p}{(}\\PY{n}{version}\\PY{p}{,} \\PY{n+nb+bp}{self}\\PY{o}{.}\\PY{n}{VERSION}\\PY{p}{)}\\PY{p}{)}\n",
       "\n",
       "\n",
       "    \\PY{c+c1}{\\PYZsh{}\\PYZsh{} \\PYZhy{}\\PYZhy{}\\PYZhy{}\\PYZhy{}\\PYZhy{}\\PYZhy{}\\PYZhy{}\\PYZhy{}\\PYZhy{}\\PYZhy{}\\PYZhy{}\\PYZhy{}\\PYZhy{}\\PYZhy{}\\PYZhy{}\\PYZhy{}\\PYZhy{}\\PYZhy{}\\PYZhy{}\\PYZhy{}\\PYZhy{}\\PYZhy{}\\PYZhy{}\\PYZhy{}\\PYZhy{}\\PYZhy{}\\PYZhy{}\\PYZhy{}\\PYZhy{}\\PYZhy{}\\PYZhy{}\\PYZhy{}\\PYZhy{}\\PYZhy{}\\PYZhy{}\\PYZhy{}\\PYZhy{}\\PYZhy{}\\PYZhy{}\\PYZhy{}\\PYZhy{}\\PYZhy{}\\PYZhy{}\\PYZhy{}\\PYZhy{}\\PYZhy{}\\PYZhy{}\\PYZhy{}\\PYZhy{}\\PYZhy{}\\PYZhy{}\\PYZhy{}\\PYZhy{}\\PYZhy{}\\PYZhy{}}\n",
       "    \\PY{c+c1}{\\PYZsh{}\\PYZsh{} \\PYZhy{}\\PYZhy{}\\PYZhy{}\\PYZhy{} Methods below this point do not need to be overridden or extended}\n",
       "    \\PY{c+c1}{\\PYZsh{}\\PYZsh{} \\PYZhy{}\\PYZhy{}\\PYZhy{}\\PYZhy{} when subclassing for the purpose of using a different core generator.}\n",
       "\n",
       "\n",
       "    \\PY{c+c1}{\\PYZsh{}\\PYZsh{} \\PYZhy{}\\PYZhy{}\\PYZhy{}\\PYZhy{}\\PYZhy{}\\PYZhy{}\\PYZhy{}\\PYZhy{}\\PYZhy{}\\PYZhy{}\\PYZhy{}\\PYZhy{}\\PYZhy{}\\PYZhy{}\\PYZhy{}\\PYZhy{}\\PYZhy{}\\PYZhy{}\\PYZhy{}\\PYZhy{} pickle support  \\PYZhy{}\\PYZhy{}\\PYZhy{}\\PYZhy{}\\PYZhy{}\\PYZhy{}\\PYZhy{}\\PYZhy{}\\PYZhy{}\\PYZhy{}\\PYZhy{}\\PYZhy{}\\PYZhy{}\\PYZhy{}\\PYZhy{}\\PYZhy{}\\PYZhy{}\\PYZhy{}\\PYZhy{}}\n",
       "\n",
       "    \\PY{c+c1}{\\PYZsh{} Issue 17489: Since \\PYZus{}\\PYZus{}reduce\\PYZus{}\\PYZus{} was defined to fix \\PYZsh{}759889 this is no}\n",
       "    \\PY{c+c1}{\\PYZsh{} longer called; we leave it here because it has been here since random was}\n",
       "    \\PY{c+c1}{\\PYZsh{} rewritten back in 2001 and why risk breaking something.}\n",
       "    \\PY{k}{def} \\PY{n+nf}{\\PYZus{}\\PYZus{}getstate\\PYZus{}\\PYZus{}}\\PY{p}{(}\\PY{n+nb+bp}{self}\\PY{p}{)}\\PY{p}{:}  \\PY{c+c1}{\\PYZsh{} for pickle}\n",
       "        \\PY{k}{return} \\PY{n+nb+bp}{self}\\PY{o}{.}\\PY{n}{getstate}\\PY{p}{(}\\PY{p}{)}\n",
       "\n",
       "    \\PY{k}{def} \\PY{n+nf}{\\PYZus{}\\PYZus{}setstate\\PYZus{}\\PYZus{}}\\PY{p}{(}\\PY{n+nb+bp}{self}\\PY{p}{,} \\PY{n}{state}\\PY{p}{)}\\PY{p}{:}  \\PY{c+c1}{\\PYZsh{} for pickle}\n",
       "        \\PY{n+nb+bp}{self}\\PY{o}{.}\\PY{n}{setstate}\\PY{p}{(}\\PY{n}{state}\\PY{p}{)}\n",
       "\n",
       "    \\PY{k}{def} \\PY{n+nf}{\\PYZus{}\\PYZus{}reduce\\PYZus{}\\PYZus{}}\\PY{p}{(}\\PY{n+nb+bp}{self}\\PY{p}{)}\\PY{p}{:}\n",
       "        \\PY{k}{return} \\PY{n+nb+bp}{self}\\PY{o}{.}\\PY{n+nv+vm}{\\PYZus{}\\PYZus{}class\\PYZus{}\\PYZus{}}\\PY{p}{,} \\PY{p}{(}\\PY{p}{)}\\PY{p}{,} \\PY{n+nb+bp}{self}\\PY{o}{.}\\PY{n}{getstate}\\PY{p}{(}\\PY{p}{)}\n",
       "\n",
       "\n",
       "    \\PY{c+c1}{\\PYZsh{}\\PYZsh{} \\PYZhy{}\\PYZhy{}\\PYZhy{}\\PYZhy{} internal support method for evenly distributed integers \\PYZhy{}\\PYZhy{}\\PYZhy{}\\PYZhy{}}\n",
       "\n",
       "    \\PY{k}{def} \\PY{n+nf}{\\PYZus{}\\PYZus{}init\\PYZus{}subclass\\PYZus{}\\PYZus{}}\\PY{p}{(}\\PY{n+nb+bp}{cls}\\PY{p}{,} \\PY{o}{/}\\PY{p}{,} \\PY{o}{*}\\PY{o}{*}\\PY{n}{kwargs}\\PY{p}{)}\\PY{p}{:}\n",
       "\\PY{+w}{        }\\PY{l+s+sd}{\\PYZdq{}\\PYZdq{}\\PYZdq{}Control how subclasses generate random integers.}\n",
       "\n",
       "\\PY{l+s+sd}{        The algorithm a subclass can use depends on the random() and/or}\n",
       "\\PY{l+s+sd}{        getrandbits() implementation available to it and determines}\n",
       "\\PY{l+s+sd}{        whether it can generate random integers from arbitrarily large}\n",
       "\\PY{l+s+sd}{        ranges.}\n",
       "\\PY{l+s+sd}{        \\PYZdq{}\\PYZdq{}\\PYZdq{}}\n",
       "\n",
       "        \\PY{k}{for} \\PY{n}{c} \\PY{o+ow}{in} \\PY{n+nb+bp}{cls}\\PY{o}{.}\\PY{n+nv+vm}{\\PYZus{}\\PYZus{}mro\\PYZus{}\\PYZus{}}\\PY{p}{:}\n",
       "            \\PY{k}{if} \\PY{l+s+s1}{\\PYZsq{}}\\PY{l+s+s1}{\\PYZus{}randbelow}\\PY{l+s+s1}{\\PYZsq{}} \\PY{o+ow}{in} \\PY{n}{c}\\PY{o}{.}\\PY{n+nv+vm}{\\PYZus{}\\PYZus{}dict\\PYZus{}\\PYZus{}}\\PY{p}{:}\n",
       "                \\PY{c+c1}{\\PYZsh{} just inherit it}\n",
       "                \\PY{k}{break}\n",
       "            \\PY{k}{if} \\PY{l+s+s1}{\\PYZsq{}}\\PY{l+s+s1}{getrandbits}\\PY{l+s+s1}{\\PYZsq{}} \\PY{o+ow}{in} \\PY{n}{c}\\PY{o}{.}\\PY{n+nv+vm}{\\PYZus{}\\PYZus{}dict\\PYZus{}\\PYZus{}}\\PY{p}{:}\n",
       "                \\PY{n+nb+bp}{cls}\\PY{o}{.}\\PY{n}{\\PYZus{}randbelow} \\PY{o}{=} \\PY{n+nb+bp}{cls}\\PY{o}{.}\\PY{n}{\\PYZus{}randbelow\\PYZus{}with\\PYZus{}getrandbits}\n",
       "                \\PY{k}{break}\n",
       "            \\PY{k}{if} \\PY{l+s+s1}{\\PYZsq{}}\\PY{l+s+s1}{random}\\PY{l+s+s1}{\\PYZsq{}} \\PY{o+ow}{in} \\PY{n}{c}\\PY{o}{.}\\PY{n+nv+vm}{\\PYZus{}\\PYZus{}dict\\PYZus{}\\PYZus{}}\\PY{p}{:}\n",
       "                \\PY{n+nb+bp}{cls}\\PY{o}{.}\\PY{n}{\\PYZus{}randbelow} \\PY{o}{=} \\PY{n+nb+bp}{cls}\\PY{o}{.}\\PY{n}{\\PYZus{}randbelow\\PYZus{}without\\PYZus{}getrandbits}\n",
       "                \\PY{k}{break}\n",
       "\n",
       "    \\PY{k}{def} \\PY{n+nf}{\\PYZus{}randbelow\\PYZus{}with\\PYZus{}getrandbits}\\PY{p}{(}\\PY{n+nb+bp}{self}\\PY{p}{,} \\PY{n}{n}\\PY{p}{)}\\PY{p}{:}\n",
       "        \\PY{l+s+s2}{\\PYZdq{}}\\PY{l+s+s2}{Return a random int in the range [0,n).  Defined for n \\PYZgt{} 0.}\\PY{l+s+s2}{\\PYZdq{}}\n",
       "\n",
       "        \\PY{n}{getrandbits} \\PY{o}{=} \\PY{n+nb+bp}{self}\\PY{o}{.}\\PY{n}{getrandbits}\n",
       "        \\PY{n}{k} \\PY{o}{=} \\PY{n}{n}\\PY{o}{.}\\PY{n}{bit\\PYZus{}length}\\PY{p}{(}\\PY{p}{)}  \\PY{c+c1}{\\PYZsh{} don\\PYZsq{}t use (n\\PYZhy{}1) here because n can be 1}\n",
       "        \\PY{n}{r} \\PY{o}{=} \\PY{n}{getrandbits}\\PY{p}{(}\\PY{n}{k}\\PY{p}{)}  \\PY{c+c1}{\\PYZsh{} 0 \\PYZlt{}= r \\PYZlt{} 2**k}\n",
       "        \\PY{k}{while} \\PY{n}{r} \\PY{o}{\\PYZgt{}}\\PY{o}{=} \\PY{n}{n}\\PY{p}{:}\n",
       "            \\PY{n}{r} \\PY{o}{=} \\PY{n}{getrandbits}\\PY{p}{(}\\PY{n}{k}\\PY{p}{)}\n",
       "        \\PY{k}{return} \\PY{n}{r}\n",
       "\n",
       "    \\PY{k}{def} \\PY{n+nf}{\\PYZus{}randbelow\\PYZus{}without\\PYZus{}getrandbits}\\PY{p}{(}\\PY{n+nb+bp}{self}\\PY{p}{,} \\PY{n}{n}\\PY{p}{,} \\PY{n}{maxsize}\\PY{o}{=}\\PY{l+m+mi}{1}\\PY{o}{\\PYZlt{}\\PYZlt{}}\\PY{n}{BPF}\\PY{p}{)}\\PY{p}{:}\n",
       "\\PY{+w}{        }\\PY{l+s+sd}{\\PYZdq{}\\PYZdq{}\\PYZdq{}Return a random int in the range [0,n).  Defined for n \\PYZgt{} 0.}\n",
       "\n",
       "\\PY{l+s+sd}{        The implementation does not use getrandbits, but only random.}\n",
       "\\PY{l+s+sd}{        \\PYZdq{}\\PYZdq{}\\PYZdq{}}\n",
       "\n",
       "        \\PY{n}{random} \\PY{o}{=} \\PY{n+nb+bp}{self}\\PY{o}{.}\\PY{n}{random}\n",
       "        \\PY{k}{if} \\PY{n}{n} \\PY{o}{\\PYZgt{}}\\PY{o}{=} \\PY{n}{maxsize}\\PY{p}{:}\n",
       "            \\PY{n}{\\PYZus{}warn}\\PY{p}{(}\\PY{l+s+s2}{\\PYZdq{}}\\PY{l+s+s2}{Underlying random() generator does not supply }\\PY{l+s+se}{\\PYZbs{}n}\\PY{l+s+s2}{\\PYZdq{}}\n",
       "                \\PY{l+s+s2}{\\PYZdq{}}\\PY{l+s+s2}{enough bits to choose from a population range this large.}\\PY{l+s+se}{\\PYZbs{}n}\\PY{l+s+s2}{\\PYZdq{}}\n",
       "                \\PY{l+s+s2}{\\PYZdq{}}\\PY{l+s+s2}{To remove the range limitation, add a getrandbits() method.}\\PY{l+s+s2}{\\PYZdq{}}\\PY{p}{)}\n",
       "            \\PY{k}{return} \\PY{n}{\\PYZus{}floor}\\PY{p}{(}\\PY{n}{random}\\PY{p}{(}\\PY{p}{)} \\PY{o}{*} \\PY{n}{n}\\PY{p}{)}\n",
       "        \\PY{n}{rem} \\PY{o}{=} \\PY{n}{maxsize} \\PY{o}{\\PYZpc{}} \\PY{n}{n}\n",
       "        \\PY{n}{limit} \\PY{o}{=} \\PY{p}{(}\\PY{n}{maxsize} \\PY{o}{\\PYZhy{}} \\PY{n}{rem}\\PY{p}{)} \\PY{o}{/} \\PY{n}{maxsize}   \\PY{c+c1}{\\PYZsh{} int(limit * maxsize) \\PYZpc{} n == 0}\n",
       "        \\PY{n}{r} \\PY{o}{=} \\PY{n}{random}\\PY{p}{(}\\PY{p}{)}\n",
       "        \\PY{k}{while} \\PY{n}{r} \\PY{o}{\\PYZgt{}}\\PY{o}{=} \\PY{n}{limit}\\PY{p}{:}\n",
       "            \\PY{n}{r} \\PY{o}{=} \\PY{n}{random}\\PY{p}{(}\\PY{p}{)}\n",
       "        \\PY{k}{return} \\PY{n}{\\PYZus{}floor}\\PY{p}{(}\\PY{n}{r} \\PY{o}{*} \\PY{n}{maxsize}\\PY{p}{)} \\PY{o}{\\PYZpc{}} \\PY{n}{n}\n",
       "\n",
       "    \\PY{n}{\\PYZus{}randbelow} \\PY{o}{=} \\PY{n}{\\PYZus{}randbelow\\PYZus{}with\\PYZus{}getrandbits}\n",
       "\n",
       "\n",
       "    \\PY{c+c1}{\\PYZsh{}\\PYZsh{} \\PYZhy{}\\PYZhy{}\\PYZhy{}\\PYZhy{}\\PYZhy{}\\PYZhy{}\\PYZhy{}\\PYZhy{}\\PYZhy{}\\PYZhy{}\\PYZhy{}\\PYZhy{}\\PYZhy{}\\PYZhy{}\\PYZhy{}\\PYZhy{}\\PYZhy{}\\PYZhy{}\\PYZhy{}\\PYZhy{}\\PYZhy{}\\PYZhy{}\\PYZhy{}\\PYZhy{}\\PYZhy{}\\PYZhy{}\\PYZhy{}\\PYZhy{}\\PYZhy{}\\PYZhy{}\\PYZhy{}\\PYZhy{}\\PYZhy{}\\PYZhy{}\\PYZhy{}\\PYZhy{}\\PYZhy{}\\PYZhy{}\\PYZhy{}\\PYZhy{}\\PYZhy{}\\PYZhy{}\\PYZhy{}\\PYZhy{}\\PYZhy{}\\PYZhy{}\\PYZhy{}\\PYZhy{}\\PYZhy{}\\PYZhy{}\\PYZhy{}\\PYZhy{}\\PYZhy{}\\PYZhy{}\\PYZhy{}\\PYZhy{}}\n",
       "    \\PY{c+c1}{\\PYZsh{}\\PYZsh{} \\PYZhy{}\\PYZhy{}\\PYZhy{}\\PYZhy{} Methods below this point generate custom distributions}\n",
       "    \\PY{c+c1}{\\PYZsh{}\\PYZsh{} \\PYZhy{}\\PYZhy{}\\PYZhy{}\\PYZhy{} based on the methods defined above.  They do not}\n",
       "    \\PY{c+c1}{\\PYZsh{}\\PYZsh{} \\PYZhy{}\\PYZhy{}\\PYZhy{}\\PYZhy{} directly touch the underlying generator and only}\n",
       "    \\PY{c+c1}{\\PYZsh{}\\PYZsh{} \\PYZhy{}\\PYZhy{}\\PYZhy{}\\PYZhy{} access randomness through the methods:  random(),}\n",
       "    \\PY{c+c1}{\\PYZsh{}\\PYZsh{} \\PYZhy{}\\PYZhy{}\\PYZhy{}\\PYZhy{} getrandbits(), or \\PYZus{}randbelow().}\n",
       "\n",
       "\n",
       "    \\PY{c+c1}{\\PYZsh{}\\PYZsh{} \\PYZhy{}\\PYZhy{}\\PYZhy{}\\PYZhy{}\\PYZhy{}\\PYZhy{}\\PYZhy{}\\PYZhy{}\\PYZhy{}\\PYZhy{}\\PYZhy{}\\PYZhy{}\\PYZhy{}\\PYZhy{}\\PYZhy{}\\PYZhy{}\\PYZhy{}\\PYZhy{}\\PYZhy{}\\PYZhy{} bytes methods \\PYZhy{}\\PYZhy{}\\PYZhy{}\\PYZhy{}\\PYZhy{}\\PYZhy{}\\PYZhy{}\\PYZhy{}\\PYZhy{}\\PYZhy{}\\PYZhy{}\\PYZhy{}\\PYZhy{}\\PYZhy{}\\PYZhy{}\\PYZhy{}\\PYZhy{}\\PYZhy{}\\PYZhy{}\\PYZhy{}\\PYZhy{}}\n",
       "\n",
       "    \\PY{k}{def} \\PY{n+nf}{randbytes}\\PY{p}{(}\\PY{n+nb+bp}{self}\\PY{p}{,} \\PY{n}{n}\\PY{p}{)}\\PY{p}{:}\n",
       "\\PY{+w}{        }\\PY{l+s+sd}{\\PYZdq{}\\PYZdq{}\\PYZdq{}Generate n random bytes.\\PYZdq{}\\PYZdq{}\\PYZdq{}}\n",
       "        \\PY{k}{return} \\PY{n+nb+bp}{self}\\PY{o}{.}\\PY{n}{getrandbits}\\PY{p}{(}\\PY{n}{n} \\PY{o}{*} \\PY{l+m+mi}{8}\\PY{p}{)}\\PY{o}{.}\\PY{n}{to\\PYZus{}bytes}\\PY{p}{(}\\PY{n}{n}\\PY{p}{,} \\PY{l+s+s1}{\\PYZsq{}}\\PY{l+s+s1}{little}\\PY{l+s+s1}{\\PYZsq{}}\\PY{p}{)}\n",
       "\n",
       "\n",
       "    \\PY{c+c1}{\\PYZsh{}\\PYZsh{} \\PYZhy{}\\PYZhy{}\\PYZhy{}\\PYZhy{}\\PYZhy{}\\PYZhy{}\\PYZhy{}\\PYZhy{}\\PYZhy{}\\PYZhy{}\\PYZhy{}\\PYZhy{}\\PYZhy{}\\PYZhy{}\\PYZhy{}\\PYZhy{}\\PYZhy{}\\PYZhy{}\\PYZhy{}\\PYZhy{} integer methods  \\PYZhy{}\\PYZhy{}\\PYZhy{}\\PYZhy{}\\PYZhy{}\\PYZhy{}\\PYZhy{}\\PYZhy{}\\PYZhy{}\\PYZhy{}\\PYZhy{}\\PYZhy{}\\PYZhy{}\\PYZhy{}\\PYZhy{}\\PYZhy{}\\PYZhy{}\\PYZhy{}\\PYZhy{}}\n",
       "\n",
       "    \\PY{k}{def} \\PY{n+nf}{randrange}\\PY{p}{(}\\PY{n+nb+bp}{self}\\PY{p}{,} \\PY{n}{start}\\PY{p}{,} \\PY{n}{stop}\\PY{o}{=}\\PY{k+kc}{None}\\PY{p}{,} \\PY{n}{step}\\PY{o}{=}\\PY{n}{\\PYZus{}ONE}\\PY{p}{)}\\PY{p}{:}\n",
       "\\PY{+w}{        }\\PY{l+s+sd}{\\PYZdq{}\\PYZdq{}\\PYZdq{}Choose a random item from range(stop) or range(start, stop[, step]).}\n",
       "\n",
       "\\PY{l+s+sd}{        Roughly equivalent to ``choice(range(start, stop, step))`` but}\n",
       "\\PY{l+s+sd}{        supports arbitrarily large ranges and is optimized for common cases.}\n",
       "\n",
       "\\PY{l+s+sd}{        \\PYZdq{}\\PYZdq{}\\PYZdq{}}\n",
       "\n",
       "        \\PY{c+c1}{\\PYZsh{} This code is a bit messy to make it fast for the}\n",
       "        \\PY{c+c1}{\\PYZsh{} common case while still doing adequate error checking.}\n",
       "        \\PY{k}{try}\\PY{p}{:}\n",
       "            \\PY{n}{istart} \\PY{o}{=} \\PY{n}{\\PYZus{}index}\\PY{p}{(}\\PY{n}{start}\\PY{p}{)}\n",
       "        \\PY{k}{except} \\PY{n+ne}{TypeError}\\PY{p}{:}\n",
       "            \\PY{n}{istart} \\PY{o}{=} \\PY{n+nb}{int}\\PY{p}{(}\\PY{n}{start}\\PY{p}{)}\n",
       "            \\PY{k}{if} \\PY{n}{istart} \\PY{o}{!=} \\PY{n}{start}\\PY{p}{:}\n",
       "                \\PY{n}{\\PYZus{}warn}\\PY{p}{(}\\PY{l+s+s1}{\\PYZsq{}}\\PY{l+s+s1}{randrange() will raise TypeError in the future}\\PY{l+s+s1}{\\PYZsq{}}\\PY{p}{,}\n",
       "                      \\PY{n+ne}{DeprecationWarning}\\PY{p}{,} \\PY{l+m+mi}{2}\\PY{p}{)}\n",
       "                \\PY{k}{raise} \\PY{n+ne}{ValueError}\\PY{p}{(}\\PY{l+s+s2}{\\PYZdq{}}\\PY{l+s+s2}{non\\PYZhy{}integer arg 1 for randrange()}\\PY{l+s+s2}{\\PYZdq{}}\\PY{p}{)}\n",
       "            \\PY{n}{\\PYZus{}warn}\\PY{p}{(}\\PY{l+s+s1}{\\PYZsq{}}\\PY{l+s+s1}{non\\PYZhy{}integer arguments to randrange() have been deprecated }\\PY{l+s+s1}{\\PYZsq{}}\n",
       "                  \\PY{l+s+s1}{\\PYZsq{}}\\PY{l+s+s1}{since Python 3.10 and will be removed in a subsequent }\\PY{l+s+s1}{\\PYZsq{}}\n",
       "                  \\PY{l+s+s1}{\\PYZsq{}}\\PY{l+s+s1}{version}\\PY{l+s+s1}{\\PYZsq{}}\\PY{p}{,}\n",
       "                  \\PY{n+ne}{DeprecationWarning}\\PY{p}{,} \\PY{l+m+mi}{2}\\PY{p}{)}\n",
       "        \\PY{k}{if} \\PY{n}{stop} \\PY{o+ow}{is} \\PY{k+kc}{None}\\PY{p}{:}\n",
       "            \\PY{c+c1}{\\PYZsh{} We don\\PYZsq{}t check for \\PYZdq{}step != 1\\PYZdq{} because it hasn\\PYZsq{}t been}\n",
       "            \\PY{c+c1}{\\PYZsh{} type checked and converted to an integer yet.}\n",
       "            \\PY{k}{if} \\PY{n}{step} \\PY{o+ow}{is} \\PY{o+ow}{not} \\PY{n}{\\PYZus{}ONE}\\PY{p}{:}\n",
       "                \\PY{k}{raise} \\PY{n+ne}{TypeError}\\PY{p}{(}\\PY{l+s+s1}{\\PYZsq{}}\\PY{l+s+s1}{Missing a non\\PYZhy{}None stop argument}\\PY{l+s+s1}{\\PYZsq{}}\\PY{p}{)}\n",
       "            \\PY{k}{if} \\PY{n}{istart} \\PY{o}{\\PYZgt{}} \\PY{l+m+mi}{0}\\PY{p}{:}\n",
       "                \\PY{k}{return} \\PY{n+nb+bp}{self}\\PY{o}{.}\\PY{n}{\\PYZus{}randbelow}\\PY{p}{(}\\PY{n}{istart}\\PY{p}{)}\n",
       "            \\PY{k}{raise} \\PY{n+ne}{ValueError}\\PY{p}{(}\\PY{l+s+s2}{\\PYZdq{}}\\PY{l+s+s2}{empty range for randrange()}\\PY{l+s+s2}{\\PYZdq{}}\\PY{p}{)}\n",
       "\n",
       "        \\PY{c+c1}{\\PYZsh{} stop argument supplied.}\n",
       "        \\PY{k}{try}\\PY{p}{:}\n",
       "            \\PY{n}{istop} \\PY{o}{=} \\PY{n}{\\PYZus{}index}\\PY{p}{(}\\PY{n}{stop}\\PY{p}{)}\n",
       "        \\PY{k}{except} \\PY{n+ne}{TypeError}\\PY{p}{:}\n",
       "            \\PY{n}{istop} \\PY{o}{=} \\PY{n+nb}{int}\\PY{p}{(}\\PY{n}{stop}\\PY{p}{)}\n",
       "            \\PY{k}{if} \\PY{n}{istop} \\PY{o}{!=} \\PY{n}{stop}\\PY{p}{:}\n",
       "                \\PY{n}{\\PYZus{}warn}\\PY{p}{(}\\PY{l+s+s1}{\\PYZsq{}}\\PY{l+s+s1}{randrange() will raise TypeError in the future}\\PY{l+s+s1}{\\PYZsq{}}\\PY{p}{,}\n",
       "                      \\PY{n+ne}{DeprecationWarning}\\PY{p}{,} \\PY{l+m+mi}{2}\\PY{p}{)}\n",
       "                \\PY{k}{raise} \\PY{n+ne}{ValueError}\\PY{p}{(}\\PY{l+s+s2}{\\PYZdq{}}\\PY{l+s+s2}{non\\PYZhy{}integer stop for randrange()}\\PY{l+s+s2}{\\PYZdq{}}\\PY{p}{)}\n",
       "            \\PY{n}{\\PYZus{}warn}\\PY{p}{(}\\PY{l+s+s1}{\\PYZsq{}}\\PY{l+s+s1}{non\\PYZhy{}integer arguments to randrange() have been deprecated }\\PY{l+s+s1}{\\PYZsq{}}\n",
       "                  \\PY{l+s+s1}{\\PYZsq{}}\\PY{l+s+s1}{since Python 3.10 and will be removed in a subsequent }\\PY{l+s+s1}{\\PYZsq{}}\n",
       "                  \\PY{l+s+s1}{\\PYZsq{}}\\PY{l+s+s1}{version}\\PY{l+s+s1}{\\PYZsq{}}\\PY{p}{,}\n",
       "                  \\PY{n+ne}{DeprecationWarning}\\PY{p}{,} \\PY{l+m+mi}{2}\\PY{p}{)}\n",
       "        \\PY{n}{width} \\PY{o}{=} \\PY{n}{istop} \\PY{o}{\\PYZhy{}} \\PY{n}{istart}\n",
       "        \\PY{k}{try}\\PY{p}{:}\n",
       "            \\PY{n}{istep} \\PY{o}{=} \\PY{n}{\\PYZus{}index}\\PY{p}{(}\\PY{n}{step}\\PY{p}{)}\n",
       "        \\PY{k}{except} \\PY{n+ne}{TypeError}\\PY{p}{:}\n",
       "            \\PY{n}{istep} \\PY{o}{=} \\PY{n+nb}{int}\\PY{p}{(}\\PY{n}{step}\\PY{p}{)}\n",
       "            \\PY{k}{if} \\PY{n}{istep} \\PY{o}{!=} \\PY{n}{step}\\PY{p}{:}\n",
       "                \\PY{n}{\\PYZus{}warn}\\PY{p}{(}\\PY{l+s+s1}{\\PYZsq{}}\\PY{l+s+s1}{randrange() will raise TypeError in the future}\\PY{l+s+s1}{\\PYZsq{}}\\PY{p}{,}\n",
       "                      \\PY{n+ne}{DeprecationWarning}\\PY{p}{,} \\PY{l+m+mi}{2}\\PY{p}{)}\n",
       "                \\PY{k}{raise} \\PY{n+ne}{ValueError}\\PY{p}{(}\\PY{l+s+s2}{\\PYZdq{}}\\PY{l+s+s2}{non\\PYZhy{}integer step for randrange()}\\PY{l+s+s2}{\\PYZdq{}}\\PY{p}{)}\n",
       "            \\PY{n}{\\PYZus{}warn}\\PY{p}{(}\\PY{l+s+s1}{\\PYZsq{}}\\PY{l+s+s1}{non\\PYZhy{}integer arguments to randrange() have been deprecated }\\PY{l+s+s1}{\\PYZsq{}}\n",
       "                  \\PY{l+s+s1}{\\PYZsq{}}\\PY{l+s+s1}{since Python 3.10 and will be removed in a subsequent }\\PY{l+s+s1}{\\PYZsq{}}\n",
       "                  \\PY{l+s+s1}{\\PYZsq{}}\\PY{l+s+s1}{version}\\PY{l+s+s1}{\\PYZsq{}}\\PY{p}{,}\n",
       "                  \\PY{n+ne}{DeprecationWarning}\\PY{p}{,} \\PY{l+m+mi}{2}\\PY{p}{)}\n",
       "        \\PY{c+c1}{\\PYZsh{} Fast path.}\n",
       "        \\PY{k}{if} \\PY{n}{istep} \\PY{o}{==} \\PY{l+m+mi}{1}\\PY{p}{:}\n",
       "            \\PY{k}{if} \\PY{n}{width} \\PY{o}{\\PYZgt{}} \\PY{l+m+mi}{0}\\PY{p}{:}\n",
       "                \\PY{k}{return} \\PY{n}{istart} \\PY{o}{+} \\PY{n+nb+bp}{self}\\PY{o}{.}\\PY{n}{\\PYZus{}randbelow}\\PY{p}{(}\\PY{n}{width}\\PY{p}{)}\n",
       "            \\PY{k}{raise} \\PY{n+ne}{ValueError}\\PY{p}{(}\\PY{l+s+s2}{\\PYZdq{}}\\PY{l+s+s2}{empty range for randrange() (}\\PY{l+s+si}{\\PYZpc{}d}\\PY{l+s+s2}{, }\\PY{l+s+si}{\\PYZpc{}d}\\PY{l+s+s2}{, }\\PY{l+s+si}{\\PYZpc{}d}\\PY{l+s+s2}{)}\\PY{l+s+s2}{\\PYZdq{}} \\PY{o}{\\PYZpc{}} \\PY{p}{(}\\PY{n}{istart}\\PY{p}{,} \\PY{n}{istop}\\PY{p}{,} \\PY{n}{width}\\PY{p}{)}\\PY{p}{)}\n",
       "\n",
       "        \\PY{c+c1}{\\PYZsh{} Non\\PYZhy{}unit step argument supplied.}\n",
       "        \\PY{k}{if} \\PY{n}{istep} \\PY{o}{\\PYZgt{}} \\PY{l+m+mi}{0}\\PY{p}{:}\n",
       "            \\PY{n}{n} \\PY{o}{=} \\PY{p}{(}\\PY{n}{width} \\PY{o}{+} \\PY{n}{istep} \\PY{o}{\\PYZhy{}} \\PY{l+m+mi}{1}\\PY{p}{)} \\PY{o}{/}\\PY{o}{/} \\PY{n}{istep}\n",
       "        \\PY{k}{elif} \\PY{n}{istep} \\PY{o}{\\PYZlt{}} \\PY{l+m+mi}{0}\\PY{p}{:}\n",
       "            \\PY{n}{n} \\PY{o}{=} \\PY{p}{(}\\PY{n}{width} \\PY{o}{+} \\PY{n}{istep} \\PY{o}{+} \\PY{l+m+mi}{1}\\PY{p}{)} \\PY{o}{/}\\PY{o}{/} \\PY{n}{istep}\n",
       "        \\PY{k}{else}\\PY{p}{:}\n",
       "            \\PY{k}{raise} \\PY{n+ne}{ValueError}\\PY{p}{(}\\PY{l+s+s2}{\\PYZdq{}}\\PY{l+s+s2}{zero step for randrange()}\\PY{l+s+s2}{\\PYZdq{}}\\PY{p}{)}\n",
       "        \\PY{k}{if} \\PY{n}{n} \\PY{o}{\\PYZlt{}}\\PY{o}{=} \\PY{l+m+mi}{0}\\PY{p}{:}\n",
       "            \\PY{k}{raise} \\PY{n+ne}{ValueError}\\PY{p}{(}\\PY{l+s+s2}{\\PYZdq{}}\\PY{l+s+s2}{empty range for randrange()}\\PY{l+s+s2}{\\PYZdq{}}\\PY{p}{)}\n",
       "        \\PY{k}{return} \\PY{n}{istart} \\PY{o}{+} \\PY{n}{istep} \\PY{o}{*} \\PY{n+nb+bp}{self}\\PY{o}{.}\\PY{n}{\\PYZus{}randbelow}\\PY{p}{(}\\PY{n}{n}\\PY{p}{)}\n",
       "\n",
       "    \\PY{k}{def} \\PY{n+nf}{randint}\\PY{p}{(}\\PY{n+nb+bp}{self}\\PY{p}{,} \\PY{n}{a}\\PY{p}{,} \\PY{n}{b}\\PY{p}{)}\\PY{p}{:}\n",
       "\\PY{+w}{        }\\PY{l+s+sd}{\\PYZdq{}\\PYZdq{}\\PYZdq{}Return random integer in range [a, b], including both end points.}\n",
       "\\PY{l+s+sd}{        \\PYZdq{}\\PYZdq{}\\PYZdq{}}\n",
       "\n",
       "        \\PY{k}{return} \\PY{n+nb+bp}{self}\\PY{o}{.}\\PY{n}{randrange}\\PY{p}{(}\\PY{n}{a}\\PY{p}{,} \\PY{n}{b}\\PY{o}{+}\\PY{l+m+mi}{1}\\PY{p}{)}\n",
       "\n",
       "\n",
       "    \\PY{c+c1}{\\PYZsh{}\\PYZsh{} \\PYZhy{}\\PYZhy{}\\PYZhy{}\\PYZhy{}\\PYZhy{}\\PYZhy{}\\PYZhy{}\\PYZhy{}\\PYZhy{}\\PYZhy{}\\PYZhy{}\\PYZhy{}\\PYZhy{}\\PYZhy{}\\PYZhy{}\\PYZhy{}\\PYZhy{}\\PYZhy{}\\PYZhy{}\\PYZhy{} sequence methods  \\PYZhy{}\\PYZhy{}\\PYZhy{}\\PYZhy{}\\PYZhy{}\\PYZhy{}\\PYZhy{}\\PYZhy{}\\PYZhy{}\\PYZhy{}\\PYZhy{}\\PYZhy{}\\PYZhy{}\\PYZhy{}\\PYZhy{}\\PYZhy{}\\PYZhy{}\\PYZhy{}\\PYZhy{}}\n",
       "\n",
       "    \\PY{k}{def} \\PY{n+nf}{choice}\\PY{p}{(}\\PY{n+nb+bp}{self}\\PY{p}{,} \\PY{n}{seq}\\PY{p}{)}\\PY{p}{:}\n",
       "\\PY{+w}{        }\\PY{l+s+sd}{\\PYZdq{}\\PYZdq{}\\PYZdq{}Choose a random element from a non\\PYZhy{}empty sequence.\\PYZdq{}\\PYZdq{}\\PYZdq{}}\n",
       "\n",
       "        \\PY{c+c1}{\\PYZsh{} As an accommodation for NumPy, we don\\PYZsq{}t use \\PYZdq{}if not seq\\PYZdq{}}\n",
       "        \\PY{c+c1}{\\PYZsh{} because bool(numpy.array()) raises a ValueError.}\n",
       "        \\PY{k}{if} \\PY{o+ow}{not} \\PY{n+nb}{len}\\PY{p}{(}\\PY{n}{seq}\\PY{p}{)}\\PY{p}{:}\n",
       "            \\PY{k}{raise} \\PY{n+ne}{IndexError}\\PY{p}{(}\\PY{l+s+s1}{\\PYZsq{}}\\PY{l+s+s1}{Cannot choose from an empty sequence}\\PY{l+s+s1}{\\PYZsq{}}\\PY{p}{)}\n",
       "        \\PY{k}{return} \\PY{n}{seq}\\PY{p}{[}\\PY{n+nb+bp}{self}\\PY{o}{.}\\PY{n}{\\PYZus{}randbelow}\\PY{p}{(}\\PY{n+nb}{len}\\PY{p}{(}\\PY{n}{seq}\\PY{p}{)}\\PY{p}{)}\\PY{p}{]}\n",
       "\n",
       "    \\PY{k}{def} \\PY{n+nf}{shuffle}\\PY{p}{(}\\PY{n+nb+bp}{self}\\PY{p}{,} \\PY{n}{x}\\PY{p}{)}\\PY{p}{:}\n",
       "\\PY{+w}{        }\\PY{l+s+sd}{\\PYZdq{}\\PYZdq{}\\PYZdq{}Shuffle list x in place, and return None.\\PYZdq{}\\PYZdq{}\\PYZdq{}}\n",
       "\n",
       "        \\PY{n}{randbelow} \\PY{o}{=} \\PY{n+nb+bp}{self}\\PY{o}{.}\\PY{n}{\\PYZus{}randbelow}\n",
       "        \\PY{k}{for} \\PY{n}{i} \\PY{o+ow}{in} \\PY{n+nb}{reversed}\\PY{p}{(}\\PY{n+nb}{range}\\PY{p}{(}\\PY{l+m+mi}{1}\\PY{p}{,} \\PY{n+nb}{len}\\PY{p}{(}\\PY{n}{x}\\PY{p}{)}\\PY{p}{)}\\PY{p}{)}\\PY{p}{:}\n",
       "            \\PY{c+c1}{\\PYZsh{} pick an element in x[:i+1] with which to exchange x[i]}\n",
       "            \\PY{n}{j} \\PY{o}{=} \\PY{n}{randbelow}\\PY{p}{(}\\PY{n}{i} \\PY{o}{+} \\PY{l+m+mi}{1}\\PY{p}{)}\n",
       "            \\PY{n}{x}\\PY{p}{[}\\PY{n}{i}\\PY{p}{]}\\PY{p}{,} \\PY{n}{x}\\PY{p}{[}\\PY{n}{j}\\PY{p}{]} \\PY{o}{=} \\PY{n}{x}\\PY{p}{[}\\PY{n}{j}\\PY{p}{]}\\PY{p}{,} \\PY{n}{x}\\PY{p}{[}\\PY{n}{i}\\PY{p}{]}\n",
       "\n",
       "    \\PY{k}{def} \\PY{n+nf}{sample}\\PY{p}{(}\\PY{n+nb+bp}{self}\\PY{p}{,} \\PY{n}{population}\\PY{p}{,} \\PY{n}{k}\\PY{p}{,} \\PY{o}{*}\\PY{p}{,} \\PY{n}{counts}\\PY{o}{=}\\PY{k+kc}{None}\\PY{p}{)}\\PY{p}{:}\n",
       "\\PY{+w}{        }\\PY{l+s+sd}{\\PYZdq{}\\PYZdq{}\\PYZdq{}Chooses k unique random elements from a population sequence.}\n",
       "\n",
       "\\PY{l+s+sd}{        Returns a new list containing elements from the population while}\n",
       "\\PY{l+s+sd}{        leaving the original population unchanged.  The resulting list is}\n",
       "\\PY{l+s+sd}{        in selection order so that all sub\\PYZhy{}slices will also be valid random}\n",
       "\\PY{l+s+sd}{        samples.  This allows raffle winners (the sample) to be partitioned}\n",
       "\\PY{l+s+sd}{        into grand prize and second place winners (the subslices).}\n",
       "\n",
       "\\PY{l+s+sd}{        Members of the population need not be hashable or unique.  If the}\n",
       "\\PY{l+s+sd}{        population contains repeats, then each occurrence is a possible}\n",
       "\\PY{l+s+sd}{        selection in the sample.}\n",
       "\n",
       "\\PY{l+s+sd}{        Repeated elements can be specified one at a time or with the optional}\n",
       "\\PY{l+s+sd}{        counts parameter.  For example:}\n",
       "\n",
       "\\PY{l+s+sd}{            sample([\\PYZsq{}red\\PYZsq{}, \\PYZsq{}blue\\PYZsq{}], counts=[4, 2], k=5)}\n",
       "\n",
       "\\PY{l+s+sd}{        is equivalent to:}\n",
       "\n",
       "\\PY{l+s+sd}{            sample([\\PYZsq{}red\\PYZsq{}, \\PYZsq{}red\\PYZsq{}, \\PYZsq{}red\\PYZsq{}, \\PYZsq{}red\\PYZsq{}, \\PYZsq{}blue\\PYZsq{}, \\PYZsq{}blue\\PYZsq{}], k=5)}\n",
       "\n",
       "\\PY{l+s+sd}{        To choose a sample from a range of integers, use range() for the}\n",
       "\\PY{l+s+sd}{        population argument.  This is especially fast and space efficient}\n",
       "\\PY{l+s+sd}{        for sampling from a large population:}\n",
       "\n",
       "\\PY{l+s+sd}{            sample(range(10000000), 60)}\n",
       "\n",
       "\\PY{l+s+sd}{        \\PYZdq{}\\PYZdq{}\\PYZdq{}}\n",
       "\n",
       "        \\PY{c+c1}{\\PYZsh{} Sampling without replacement entails tracking either potential}\n",
       "        \\PY{c+c1}{\\PYZsh{} selections (the pool) in a list or previous selections in a set.}\n",
       "\n",
       "        \\PY{c+c1}{\\PYZsh{} When the number of selections is small compared to the}\n",
       "        \\PY{c+c1}{\\PYZsh{} population, then tracking selections is efficient, requiring}\n",
       "        \\PY{c+c1}{\\PYZsh{} only a small set and an occasional reselection.  For}\n",
       "        \\PY{c+c1}{\\PYZsh{} a larger number of selections, the pool tracking method is}\n",
       "        \\PY{c+c1}{\\PYZsh{} preferred since the list takes less space than the}\n",
       "        \\PY{c+c1}{\\PYZsh{} set and it doesn\\PYZsq{}t suffer from frequent reselections.}\n",
       "\n",
       "        \\PY{c+c1}{\\PYZsh{} The number of calls to \\PYZus{}randbelow() is kept at or near k, the}\n",
       "        \\PY{c+c1}{\\PYZsh{} theoretical minimum.  This is important because running time}\n",
       "        \\PY{c+c1}{\\PYZsh{} is dominated by \\PYZus{}randbelow() and because it extracts the}\n",
       "        \\PY{c+c1}{\\PYZsh{} least entropy from the underlying random number generators.}\n",
       "\n",
       "        \\PY{c+c1}{\\PYZsh{} Memory requirements are kept to the smaller of a k\\PYZhy{}length}\n",
       "        \\PY{c+c1}{\\PYZsh{} set or an n\\PYZhy{}length list.}\n",
       "\n",
       "        \\PY{c+c1}{\\PYZsh{} There are other sampling algorithms that do not require}\n",
       "        \\PY{c+c1}{\\PYZsh{} auxiliary memory, but they were rejected because they made}\n",
       "        \\PY{c+c1}{\\PYZsh{} too many calls to \\PYZus{}randbelow(), making them slower and}\n",
       "        \\PY{c+c1}{\\PYZsh{} causing them to eat more entropy than necessary.}\n",
       "\n",
       "        \\PY{k}{if} \\PY{o+ow}{not} \\PY{n+nb}{isinstance}\\PY{p}{(}\\PY{n}{population}\\PY{p}{,} \\PY{n}{\\PYZus{}Sequence}\\PY{p}{)}\\PY{p}{:}\n",
       "            \\PY{k}{raise} \\PY{n+ne}{TypeError}\\PY{p}{(}\\PY{l+s+s2}{\\PYZdq{}}\\PY{l+s+s2}{Population must be a sequence.  }\\PY{l+s+s2}{\\PYZdq{}}\n",
       "                            \\PY{l+s+s2}{\\PYZdq{}}\\PY{l+s+s2}{For dicts or sets, use sorted(d).}\\PY{l+s+s2}{\\PYZdq{}}\\PY{p}{)}\n",
       "        \\PY{n}{n} \\PY{o}{=} \\PY{n+nb}{len}\\PY{p}{(}\\PY{n}{population}\\PY{p}{)}\n",
       "        \\PY{k}{if} \\PY{n}{counts} \\PY{o+ow}{is} \\PY{o+ow}{not} \\PY{k+kc}{None}\\PY{p}{:}\n",
       "            \\PY{n}{cum\\PYZus{}counts} \\PY{o}{=} \\PY{n+nb}{list}\\PY{p}{(}\\PY{n}{\\PYZus{}accumulate}\\PY{p}{(}\\PY{n}{counts}\\PY{p}{)}\\PY{p}{)}\n",
       "            \\PY{k}{if} \\PY{n+nb}{len}\\PY{p}{(}\\PY{n}{cum\\PYZus{}counts}\\PY{p}{)} \\PY{o}{!=} \\PY{n}{n}\\PY{p}{:}\n",
       "                \\PY{k}{raise} \\PY{n+ne}{ValueError}\\PY{p}{(}\\PY{l+s+s1}{\\PYZsq{}}\\PY{l+s+s1}{The number of counts does not match the population}\\PY{l+s+s1}{\\PYZsq{}}\\PY{p}{)}\n",
       "            \\PY{n}{total} \\PY{o}{=} \\PY{n}{cum\\PYZus{}counts}\\PY{o}{.}\\PY{n}{pop}\\PY{p}{(}\\PY{p}{)}\n",
       "            \\PY{k}{if} \\PY{o+ow}{not} \\PY{n+nb}{isinstance}\\PY{p}{(}\\PY{n}{total}\\PY{p}{,} \\PY{n+nb}{int}\\PY{p}{)}\\PY{p}{:}\n",
       "                \\PY{k}{raise} \\PY{n+ne}{TypeError}\\PY{p}{(}\\PY{l+s+s1}{\\PYZsq{}}\\PY{l+s+s1}{Counts must be integers}\\PY{l+s+s1}{\\PYZsq{}}\\PY{p}{)}\n",
       "            \\PY{k}{if} \\PY{n}{total} \\PY{o}{\\PYZlt{}}\\PY{o}{=} \\PY{l+m+mi}{0}\\PY{p}{:}\n",
       "                \\PY{k}{raise} \\PY{n+ne}{ValueError}\\PY{p}{(}\\PY{l+s+s1}{\\PYZsq{}}\\PY{l+s+s1}{Total of counts must be greater than zero}\\PY{l+s+s1}{\\PYZsq{}}\\PY{p}{)}\n",
       "            \\PY{n}{selections} \\PY{o}{=} \\PY{n+nb+bp}{self}\\PY{o}{.}\\PY{n}{sample}\\PY{p}{(}\\PY{n+nb}{range}\\PY{p}{(}\\PY{n}{total}\\PY{p}{)}\\PY{p}{,} \\PY{n}{k}\\PY{o}{=}\\PY{n}{k}\\PY{p}{)}\n",
       "            \\PY{n}{bisect} \\PY{o}{=} \\PY{n}{\\PYZus{}bisect}\n",
       "            \\PY{k}{return} \\PY{p}{[}\\PY{n}{population}\\PY{p}{[}\\PY{n}{bisect}\\PY{p}{(}\\PY{n}{cum\\PYZus{}counts}\\PY{p}{,} \\PY{n}{s}\\PY{p}{)}\\PY{p}{]} \\PY{k}{for} \\PY{n}{s} \\PY{o+ow}{in} \\PY{n}{selections}\\PY{p}{]}\n",
       "        \\PY{n}{randbelow} \\PY{o}{=} \\PY{n+nb+bp}{self}\\PY{o}{.}\\PY{n}{\\PYZus{}randbelow}\n",
       "        \\PY{k}{if} \\PY{o+ow}{not} \\PY{l+m+mi}{0} \\PY{o}{\\PYZlt{}}\\PY{o}{=} \\PY{n}{k} \\PY{o}{\\PYZlt{}}\\PY{o}{=} \\PY{n}{n}\\PY{p}{:}\n",
       "            \\PY{k}{raise} \\PY{n+ne}{ValueError}\\PY{p}{(}\\PY{l+s+s2}{\\PYZdq{}}\\PY{l+s+s2}{Sample larger than population or is negative}\\PY{l+s+s2}{\\PYZdq{}}\\PY{p}{)}\n",
       "        \\PY{n}{result} \\PY{o}{=} \\PY{p}{[}\\PY{k+kc}{None}\\PY{p}{]} \\PY{o}{*} \\PY{n}{k}\n",
       "        \\PY{n}{setsize} \\PY{o}{=} \\PY{l+m+mi}{21}        \\PY{c+c1}{\\PYZsh{} size of a small set minus size of an empty list}\n",
       "        \\PY{k}{if} \\PY{n}{k} \\PY{o}{\\PYZgt{}} \\PY{l+m+mi}{5}\\PY{p}{:}\n",
       "            \\PY{n}{setsize} \\PY{o}{+}\\PY{o}{=} \\PY{l+m+mi}{4} \\PY{o}{*}\\PY{o}{*} \\PY{n}{\\PYZus{}ceil}\\PY{p}{(}\\PY{n}{\\PYZus{}log}\\PY{p}{(}\\PY{n}{k} \\PY{o}{*} \\PY{l+m+mi}{3}\\PY{p}{,} \\PY{l+m+mi}{4}\\PY{p}{)}\\PY{p}{)}  \\PY{c+c1}{\\PYZsh{} table size for big sets}\n",
       "        \\PY{k}{if} \\PY{n}{n} \\PY{o}{\\PYZlt{}}\\PY{o}{=} \\PY{n}{setsize}\\PY{p}{:}\n",
       "            \\PY{c+c1}{\\PYZsh{} An n\\PYZhy{}length list is smaller than a k\\PYZhy{}length set.}\n",
       "            \\PY{c+c1}{\\PYZsh{} Invariant:  non\\PYZhy{}selected at pool[0 : n\\PYZhy{}i]}\n",
       "            \\PY{n}{pool} \\PY{o}{=} \\PY{n+nb}{list}\\PY{p}{(}\\PY{n}{population}\\PY{p}{)}\n",
       "            \\PY{k}{for} \\PY{n}{i} \\PY{o+ow}{in} \\PY{n+nb}{range}\\PY{p}{(}\\PY{n}{k}\\PY{p}{)}\\PY{p}{:}\n",
       "                \\PY{n}{j} \\PY{o}{=} \\PY{n}{randbelow}\\PY{p}{(}\\PY{n}{n} \\PY{o}{\\PYZhy{}} \\PY{n}{i}\\PY{p}{)}\n",
       "                \\PY{n}{result}\\PY{p}{[}\\PY{n}{i}\\PY{p}{]} \\PY{o}{=} \\PY{n}{pool}\\PY{p}{[}\\PY{n}{j}\\PY{p}{]}\n",
       "                \\PY{n}{pool}\\PY{p}{[}\\PY{n}{j}\\PY{p}{]} \\PY{o}{=} \\PY{n}{pool}\\PY{p}{[}\\PY{n}{n} \\PY{o}{\\PYZhy{}} \\PY{n}{i} \\PY{o}{\\PYZhy{}} \\PY{l+m+mi}{1}\\PY{p}{]}  \\PY{c+c1}{\\PYZsh{} move non\\PYZhy{}selected item into vacancy}\n",
       "        \\PY{k}{else}\\PY{p}{:}\n",
       "            \\PY{n}{selected} \\PY{o}{=} \\PY{n+nb}{set}\\PY{p}{(}\\PY{p}{)}\n",
       "            \\PY{n}{selected\\PYZus{}add} \\PY{o}{=} \\PY{n}{selected}\\PY{o}{.}\\PY{n}{add}\n",
       "            \\PY{k}{for} \\PY{n}{i} \\PY{o+ow}{in} \\PY{n+nb}{range}\\PY{p}{(}\\PY{n}{k}\\PY{p}{)}\\PY{p}{:}\n",
       "                \\PY{n}{j} \\PY{o}{=} \\PY{n}{randbelow}\\PY{p}{(}\\PY{n}{n}\\PY{p}{)}\n",
       "                \\PY{k}{while} \\PY{n}{j} \\PY{o+ow}{in} \\PY{n}{selected}\\PY{p}{:}\n",
       "                    \\PY{n}{j} \\PY{o}{=} \\PY{n}{randbelow}\\PY{p}{(}\\PY{n}{n}\\PY{p}{)}\n",
       "                \\PY{n}{selected\\PYZus{}add}\\PY{p}{(}\\PY{n}{j}\\PY{p}{)}\n",
       "                \\PY{n}{result}\\PY{p}{[}\\PY{n}{i}\\PY{p}{]} \\PY{o}{=} \\PY{n}{population}\\PY{p}{[}\\PY{n}{j}\\PY{p}{]}\n",
       "        \\PY{k}{return} \\PY{n}{result}\n",
       "\n",
       "    \\PY{k}{def} \\PY{n+nf}{choices}\\PY{p}{(}\\PY{n+nb+bp}{self}\\PY{p}{,} \\PY{n}{population}\\PY{p}{,} \\PY{n}{weights}\\PY{o}{=}\\PY{k+kc}{None}\\PY{p}{,} \\PY{o}{*}\\PY{p}{,} \\PY{n}{cum\\PYZus{}weights}\\PY{o}{=}\\PY{k+kc}{None}\\PY{p}{,} \\PY{n}{k}\\PY{o}{=}\\PY{l+m+mi}{1}\\PY{p}{)}\\PY{p}{:}\n",
       "\\PY{+w}{        }\\PY{l+s+sd}{\\PYZdq{}\\PYZdq{}\\PYZdq{}Return a k sized list of population elements chosen with replacement.}\n",
       "\n",
       "\\PY{l+s+sd}{        If the relative weights or cumulative weights are not specified,}\n",
       "\\PY{l+s+sd}{        the selections are made with equal probability.}\n",
       "\n",
       "\\PY{l+s+sd}{        \\PYZdq{}\\PYZdq{}\\PYZdq{}}\n",
       "        \\PY{n}{random} \\PY{o}{=} \\PY{n+nb+bp}{self}\\PY{o}{.}\\PY{n}{random}\n",
       "        \\PY{n}{n} \\PY{o}{=} \\PY{n+nb}{len}\\PY{p}{(}\\PY{n}{population}\\PY{p}{)}\n",
       "        \\PY{k}{if} \\PY{n}{cum\\PYZus{}weights} \\PY{o+ow}{is} \\PY{k+kc}{None}\\PY{p}{:}\n",
       "            \\PY{k}{if} \\PY{n}{weights} \\PY{o+ow}{is} \\PY{k+kc}{None}\\PY{p}{:}\n",
       "                \\PY{n}{floor} \\PY{o}{=} \\PY{n}{\\PYZus{}floor}\n",
       "                \\PY{n}{n} \\PY{o}{+}\\PY{o}{=} \\PY{l+m+mf}{0.0}    \\PY{c+c1}{\\PYZsh{} convert to float for a small speed improvement}\n",
       "                \\PY{k}{return} \\PY{p}{[}\\PY{n}{population}\\PY{p}{[}\\PY{n}{floor}\\PY{p}{(}\\PY{n}{random}\\PY{p}{(}\\PY{p}{)} \\PY{o}{*} \\PY{n}{n}\\PY{p}{)}\\PY{p}{]} \\PY{k}{for} \\PY{n}{i} \\PY{o+ow}{in} \\PY{n}{\\PYZus{}repeat}\\PY{p}{(}\\PY{k+kc}{None}\\PY{p}{,} \\PY{n}{k}\\PY{p}{)}\\PY{p}{]}\n",
       "            \\PY{k}{try}\\PY{p}{:}\n",
       "                \\PY{n}{cum\\PYZus{}weights} \\PY{o}{=} \\PY{n+nb}{list}\\PY{p}{(}\\PY{n}{\\PYZus{}accumulate}\\PY{p}{(}\\PY{n}{weights}\\PY{p}{)}\\PY{p}{)}\n",
       "            \\PY{k}{except} \\PY{n+ne}{TypeError}\\PY{p}{:}\n",
       "                \\PY{k}{if} \\PY{o+ow}{not} \\PY{n+nb}{isinstance}\\PY{p}{(}\\PY{n}{weights}\\PY{p}{,} \\PY{n+nb}{int}\\PY{p}{)}\\PY{p}{:}\n",
       "                    \\PY{k}{raise}\n",
       "                \\PY{n}{k} \\PY{o}{=} \\PY{n}{weights}\n",
       "                \\PY{k}{raise} \\PY{n+ne}{TypeError}\\PY{p}{(}\n",
       "                    \\PY{l+s+sa}{f}\\PY{l+s+s1}{\\PYZsq{}}\\PY{l+s+s1}{The number of choices must be a keyword argument: }\\PY{l+s+si}{\\PYZob{}}\\PY{n}{k}\\PY{l+s+si}{=\\PYZcb{}}\\PY{l+s+s1}{\\PYZsq{}}\n",
       "                \\PY{p}{)} \\PY{k+kn}{from} \\PY{k+kc}{None}\n",
       "        \\PY{k}{elif} \\PY{n}{weights} \\PY{o+ow}{is} \\PY{o+ow}{not} \\PY{k+kc}{None}\\PY{p}{:}\n",
       "            \\PY{k}{raise} \\PY{n+ne}{TypeError}\\PY{p}{(}\\PY{l+s+s1}{\\PYZsq{}}\\PY{l+s+s1}{Cannot specify both weights and cumulative weights}\\PY{l+s+s1}{\\PYZsq{}}\\PY{p}{)}\n",
       "        \\PY{k}{if} \\PY{n+nb}{len}\\PY{p}{(}\\PY{n}{cum\\PYZus{}weights}\\PY{p}{)} \\PY{o}{!=} \\PY{n}{n}\\PY{p}{:}\n",
       "            \\PY{k}{raise} \\PY{n+ne}{ValueError}\\PY{p}{(}\\PY{l+s+s1}{\\PYZsq{}}\\PY{l+s+s1}{The number of weights does not match the population}\\PY{l+s+s1}{\\PYZsq{}}\\PY{p}{)}\n",
       "        \\PY{n}{total} \\PY{o}{=} \\PY{n}{cum\\PYZus{}weights}\\PY{p}{[}\\PY{o}{\\PYZhy{}}\\PY{l+m+mi}{1}\\PY{p}{]} \\PY{o}{+} \\PY{l+m+mf}{0.0}   \\PY{c+c1}{\\PYZsh{} convert to float}\n",
       "        \\PY{k}{if} \\PY{n}{total} \\PY{o}{\\PYZlt{}}\\PY{o}{=} \\PY{l+m+mf}{0.0}\\PY{p}{:}\n",
       "            \\PY{k}{raise} \\PY{n+ne}{ValueError}\\PY{p}{(}\\PY{l+s+s1}{\\PYZsq{}}\\PY{l+s+s1}{Total of weights must be greater than zero}\\PY{l+s+s1}{\\PYZsq{}}\\PY{p}{)}\n",
       "        \\PY{k}{if} \\PY{o+ow}{not} \\PY{n}{\\PYZus{}isfinite}\\PY{p}{(}\\PY{n}{total}\\PY{p}{)}\\PY{p}{:}\n",
       "            \\PY{k}{raise} \\PY{n+ne}{ValueError}\\PY{p}{(}\\PY{l+s+s1}{\\PYZsq{}}\\PY{l+s+s1}{Total of weights must be finite}\\PY{l+s+s1}{\\PYZsq{}}\\PY{p}{)}\n",
       "        \\PY{n}{bisect} \\PY{o}{=} \\PY{n}{\\PYZus{}bisect}\n",
       "        \\PY{n}{hi} \\PY{o}{=} \\PY{n}{n} \\PY{o}{\\PYZhy{}} \\PY{l+m+mi}{1}\n",
       "        \\PY{k}{return} \\PY{p}{[}\\PY{n}{population}\\PY{p}{[}\\PY{n}{bisect}\\PY{p}{(}\\PY{n}{cum\\PYZus{}weights}\\PY{p}{,} \\PY{n}{random}\\PY{p}{(}\\PY{p}{)} \\PY{o}{*} \\PY{n}{total}\\PY{p}{,} \\PY{l+m+mi}{0}\\PY{p}{,} \\PY{n}{hi}\\PY{p}{)}\\PY{p}{]}\n",
       "                \\PY{k}{for} \\PY{n}{i} \\PY{o+ow}{in} \\PY{n}{\\PYZus{}repeat}\\PY{p}{(}\\PY{k+kc}{None}\\PY{p}{,} \\PY{n}{k}\\PY{p}{)}\\PY{p}{]}\n",
       "\n",
       "\n",
       "    \\PY{c+c1}{\\PYZsh{}\\PYZsh{} \\PYZhy{}\\PYZhy{}\\PYZhy{}\\PYZhy{}\\PYZhy{}\\PYZhy{}\\PYZhy{}\\PYZhy{}\\PYZhy{}\\PYZhy{}\\PYZhy{}\\PYZhy{}\\PYZhy{}\\PYZhy{}\\PYZhy{}\\PYZhy{}\\PYZhy{}\\PYZhy{}\\PYZhy{}\\PYZhy{} real\\PYZhy{}valued distributions  \\PYZhy{}\\PYZhy{}\\PYZhy{}\\PYZhy{}\\PYZhy{}\\PYZhy{}\\PYZhy{}\\PYZhy{}\\PYZhy{}\\PYZhy{}\\PYZhy{}\\PYZhy{}\\PYZhy{}\\PYZhy{}\\PYZhy{}\\PYZhy{}\\PYZhy{}\\PYZhy{}\\PYZhy{}}\n",
       "\n",
       "    \\PY{k}{def} \\PY{n+nf}{uniform}\\PY{p}{(}\\PY{n+nb+bp}{self}\\PY{p}{,} \\PY{n}{a}\\PY{p}{,} \\PY{n}{b}\\PY{p}{)}\\PY{p}{:}\n",
       "        \\PY{l+s+s2}{\\PYZdq{}}\\PY{l+s+s2}{Get a random number in the range [a, b) or [a, b] depending on rounding.}\\PY{l+s+s2}{\\PYZdq{}}\n",
       "        \\PY{k}{return} \\PY{n}{a} \\PY{o}{+} \\PY{p}{(}\\PY{n}{b} \\PY{o}{\\PYZhy{}} \\PY{n}{a}\\PY{p}{)} \\PY{o}{*} \\PY{n+nb+bp}{self}\\PY{o}{.}\\PY{n}{random}\\PY{p}{(}\\PY{p}{)}\n",
       "\n",
       "    \\PY{k}{def} \\PY{n+nf}{triangular}\\PY{p}{(}\\PY{n+nb+bp}{self}\\PY{p}{,} \\PY{n}{low}\\PY{o}{=}\\PY{l+m+mf}{0.0}\\PY{p}{,} \\PY{n}{high}\\PY{o}{=}\\PY{l+m+mf}{1.0}\\PY{p}{,} \\PY{n}{mode}\\PY{o}{=}\\PY{k+kc}{None}\\PY{p}{)}\\PY{p}{:}\n",
       "\\PY{+w}{        }\\PY{l+s+sd}{\\PYZdq{}\\PYZdq{}\\PYZdq{}Triangular distribution.}\n",
       "\n",
       "\\PY{l+s+sd}{        Continuous distribution bounded by given lower and upper limits,}\n",
       "\\PY{l+s+sd}{        and having a given mode value in\\PYZhy{}between.}\n",
       "\n",
       "\\PY{l+s+sd}{        http://en.wikipedia.org/wiki/Triangular\\PYZus{}distribution}\n",
       "\n",
       "\\PY{l+s+sd}{        \\PYZdq{}\\PYZdq{}\\PYZdq{}}\n",
       "        \\PY{n}{u} \\PY{o}{=} \\PY{n+nb+bp}{self}\\PY{o}{.}\\PY{n}{random}\\PY{p}{(}\\PY{p}{)}\n",
       "        \\PY{k}{try}\\PY{p}{:}\n",
       "            \\PY{n}{c} \\PY{o}{=} \\PY{l+m+mf}{0.5} \\PY{k}{if} \\PY{n}{mode} \\PY{o+ow}{is} \\PY{k+kc}{None} \\PY{k}{else} \\PY{p}{(}\\PY{n}{mode} \\PY{o}{\\PYZhy{}} \\PY{n}{low}\\PY{p}{)} \\PY{o}{/} \\PY{p}{(}\\PY{n}{high} \\PY{o}{\\PYZhy{}} \\PY{n}{low}\\PY{p}{)}\n",
       "        \\PY{k}{except} \\PY{n+ne}{ZeroDivisionError}\\PY{p}{:}\n",
       "            \\PY{k}{return} \\PY{n}{low}\n",
       "        \\PY{k}{if} \\PY{n}{u} \\PY{o}{\\PYZgt{}} \\PY{n}{c}\\PY{p}{:}\n",
       "            \\PY{n}{u} \\PY{o}{=} \\PY{l+m+mf}{1.0} \\PY{o}{\\PYZhy{}} \\PY{n}{u}\n",
       "            \\PY{n}{c} \\PY{o}{=} \\PY{l+m+mf}{1.0} \\PY{o}{\\PYZhy{}} \\PY{n}{c}\n",
       "            \\PY{n}{low}\\PY{p}{,} \\PY{n}{high} \\PY{o}{=} \\PY{n}{high}\\PY{p}{,} \\PY{n}{low}\n",
       "        \\PY{k}{return} \\PY{n}{low} \\PY{o}{+} \\PY{p}{(}\\PY{n}{high} \\PY{o}{\\PYZhy{}} \\PY{n}{low}\\PY{p}{)} \\PY{o}{*} \\PY{n}{\\PYZus{}sqrt}\\PY{p}{(}\\PY{n}{u} \\PY{o}{*} \\PY{n}{c}\\PY{p}{)}\n",
       "\n",
       "    \\PY{k}{def} \\PY{n+nf}{normalvariate}\\PY{p}{(}\\PY{n+nb+bp}{self}\\PY{p}{,} \\PY{n}{mu}\\PY{o}{=}\\PY{l+m+mf}{0.0}\\PY{p}{,} \\PY{n}{sigma}\\PY{o}{=}\\PY{l+m+mf}{1.0}\\PY{p}{)}\\PY{p}{:}\n",
       "\\PY{+w}{        }\\PY{l+s+sd}{\\PYZdq{}\\PYZdq{}\\PYZdq{}Normal distribution.}\n",
       "\n",
       "\\PY{l+s+sd}{        mu is the mean, and sigma is the standard deviation.}\n",
       "\n",
       "\\PY{l+s+sd}{        \\PYZdq{}\\PYZdq{}\\PYZdq{}}\n",
       "        \\PY{c+c1}{\\PYZsh{} Uses Kinderman and Monahan method. Reference: Kinderman,}\n",
       "        \\PY{c+c1}{\\PYZsh{} A.J. and Monahan, J.F., \\PYZdq{}Computer generation of random}\n",
       "        \\PY{c+c1}{\\PYZsh{} variables using the ratio of uniform deviates\\PYZdq{}, ACM Trans}\n",
       "        \\PY{c+c1}{\\PYZsh{} Math Software, 3, (1977), pp257\\PYZhy{}260.}\n",
       "\n",
       "        \\PY{n}{random} \\PY{o}{=} \\PY{n+nb+bp}{self}\\PY{o}{.}\\PY{n}{random}\n",
       "        \\PY{k}{while} \\PY{k+kc}{True}\\PY{p}{:}\n",
       "            \\PY{n}{u1} \\PY{o}{=} \\PY{n}{random}\\PY{p}{(}\\PY{p}{)}\n",
       "            \\PY{n}{u2} \\PY{o}{=} \\PY{l+m+mf}{1.0} \\PY{o}{\\PYZhy{}} \\PY{n}{random}\\PY{p}{(}\\PY{p}{)}\n",
       "            \\PY{n}{z} \\PY{o}{=} \\PY{n}{NV\\PYZus{}MAGICCONST} \\PY{o}{*} \\PY{p}{(}\\PY{n}{u1} \\PY{o}{\\PYZhy{}} \\PY{l+m+mf}{0.5}\\PY{p}{)} \\PY{o}{/} \\PY{n}{u2}\n",
       "            \\PY{n}{zz} \\PY{o}{=} \\PY{n}{z} \\PY{o}{*} \\PY{n}{z} \\PY{o}{/} \\PY{l+m+mf}{4.0}\n",
       "            \\PY{k}{if} \\PY{n}{zz} \\PY{o}{\\PYZlt{}}\\PY{o}{=} \\PY{o}{\\PYZhy{}}\\PY{n}{\\PYZus{}log}\\PY{p}{(}\\PY{n}{u2}\\PY{p}{)}\\PY{p}{:}\n",
       "                \\PY{k}{break}\n",
       "        \\PY{k}{return} \\PY{n}{mu} \\PY{o}{+} \\PY{n}{z} \\PY{o}{*} \\PY{n}{sigma}\n",
       "\n",
       "    \\PY{k}{def} \\PY{n+nf}{gauss}\\PY{p}{(}\\PY{n+nb+bp}{self}\\PY{p}{,} \\PY{n}{mu}\\PY{o}{=}\\PY{l+m+mf}{0.0}\\PY{p}{,} \\PY{n}{sigma}\\PY{o}{=}\\PY{l+m+mf}{1.0}\\PY{p}{)}\\PY{p}{:}\n",
       "\\PY{+w}{        }\\PY{l+s+sd}{\\PYZdq{}\\PYZdq{}\\PYZdq{}Gaussian distribution.}\n",
       "\n",
       "\\PY{l+s+sd}{        mu is the mean, and sigma is the standard deviation.  This is}\n",
       "\\PY{l+s+sd}{        slightly faster than the normalvariate() function.}\n",
       "\n",
       "\\PY{l+s+sd}{        Not thread\\PYZhy{}safe without a lock around calls.}\n",
       "\n",
       "\\PY{l+s+sd}{        \\PYZdq{}\\PYZdq{}\\PYZdq{}}\n",
       "        \\PY{c+c1}{\\PYZsh{} When x and y are two variables from [0, 1), uniformly}\n",
       "        \\PY{c+c1}{\\PYZsh{} distributed, then}\n",
       "        \\PY{c+c1}{\\PYZsh{}}\n",
       "        \\PY{c+c1}{\\PYZsh{}    cos(2*pi*x)*sqrt(\\PYZhy{}2*log(1\\PYZhy{}y))}\n",
       "        \\PY{c+c1}{\\PYZsh{}    sin(2*pi*x)*sqrt(\\PYZhy{}2*log(1\\PYZhy{}y))}\n",
       "        \\PY{c+c1}{\\PYZsh{}}\n",
       "        \\PY{c+c1}{\\PYZsh{} are two *independent* variables with normal distribution}\n",
       "        \\PY{c+c1}{\\PYZsh{} (mu = 0, sigma = 1).}\n",
       "        \\PY{c+c1}{\\PYZsh{} (Lambert Meertens)}\n",
       "        \\PY{c+c1}{\\PYZsh{} (corrected version; bug discovered by Mike Miller, fixed by LM)}\n",
       "\n",
       "        \\PY{c+c1}{\\PYZsh{} Multithreading note: When two threads call this function}\n",
       "        \\PY{c+c1}{\\PYZsh{} simultaneously, it is possible that they will receive the}\n",
       "        \\PY{c+c1}{\\PYZsh{} same return value.  The window is very small though.  To}\n",
       "        \\PY{c+c1}{\\PYZsh{} avoid this, you have to use a lock around all calls.  (I}\n",
       "        \\PY{c+c1}{\\PYZsh{} didn\\PYZsq{}t want to slow this down in the serial case by using a}\n",
       "        \\PY{c+c1}{\\PYZsh{} lock here.)}\n",
       "\n",
       "        \\PY{n}{random} \\PY{o}{=} \\PY{n+nb+bp}{self}\\PY{o}{.}\\PY{n}{random}\n",
       "        \\PY{n}{z} \\PY{o}{=} \\PY{n+nb+bp}{self}\\PY{o}{.}\\PY{n}{gauss\\PYZus{}next}\n",
       "        \\PY{n+nb+bp}{self}\\PY{o}{.}\\PY{n}{gauss\\PYZus{}next} \\PY{o}{=} \\PY{k+kc}{None}\n",
       "        \\PY{k}{if} \\PY{n}{z} \\PY{o+ow}{is} \\PY{k+kc}{None}\\PY{p}{:}\n",
       "            \\PY{n}{x2pi} \\PY{o}{=} \\PY{n}{random}\\PY{p}{(}\\PY{p}{)} \\PY{o}{*} \\PY{n}{TWOPI}\n",
       "            \\PY{n}{g2rad} \\PY{o}{=} \\PY{n}{\\PYZus{}sqrt}\\PY{p}{(}\\PY{o}{\\PYZhy{}}\\PY{l+m+mf}{2.0} \\PY{o}{*} \\PY{n}{\\PYZus{}log}\\PY{p}{(}\\PY{l+m+mf}{1.0} \\PY{o}{\\PYZhy{}} \\PY{n}{random}\\PY{p}{(}\\PY{p}{)}\\PY{p}{)}\\PY{p}{)}\n",
       "            \\PY{n}{z} \\PY{o}{=} \\PY{n}{\\PYZus{}cos}\\PY{p}{(}\\PY{n}{x2pi}\\PY{p}{)} \\PY{o}{*} \\PY{n}{g2rad}\n",
       "            \\PY{n+nb+bp}{self}\\PY{o}{.}\\PY{n}{gauss\\PYZus{}next} \\PY{o}{=} \\PY{n}{\\PYZus{}sin}\\PY{p}{(}\\PY{n}{x2pi}\\PY{p}{)} \\PY{o}{*} \\PY{n}{g2rad}\n",
       "\n",
       "        \\PY{k}{return} \\PY{n}{mu} \\PY{o}{+} \\PY{n}{z} \\PY{o}{*} \\PY{n}{sigma}\n",
       "\n",
       "    \\PY{k}{def} \\PY{n+nf}{lognormvariate}\\PY{p}{(}\\PY{n+nb+bp}{self}\\PY{p}{,} \\PY{n}{mu}\\PY{p}{,} \\PY{n}{sigma}\\PY{p}{)}\\PY{p}{:}\n",
       "\\PY{+w}{        }\\PY{l+s+sd}{\\PYZdq{}\\PYZdq{}\\PYZdq{}Log normal distribution.}\n",
       "\n",
       "\\PY{l+s+sd}{        If you take the natural logarithm of this distribution, you\\PYZsq{}ll get a}\n",
       "\\PY{l+s+sd}{        normal distribution with mean mu and standard deviation sigma.}\n",
       "\\PY{l+s+sd}{        mu can have any value, and sigma must be greater than zero.}\n",
       "\n",
       "\\PY{l+s+sd}{        \\PYZdq{}\\PYZdq{}\\PYZdq{}}\n",
       "        \\PY{k}{return} \\PY{n}{\\PYZus{}exp}\\PY{p}{(}\\PY{n+nb+bp}{self}\\PY{o}{.}\\PY{n}{normalvariate}\\PY{p}{(}\\PY{n}{mu}\\PY{p}{,} \\PY{n}{sigma}\\PY{p}{)}\\PY{p}{)}\n",
       "\n",
       "    \\PY{k}{def} \\PY{n+nf}{expovariate}\\PY{p}{(}\\PY{n+nb+bp}{self}\\PY{p}{,} \\PY{n}{lambd}\\PY{p}{)}\\PY{p}{:}\n",
       "\\PY{+w}{        }\\PY{l+s+sd}{\\PYZdq{}\\PYZdq{}\\PYZdq{}Exponential distribution.}\n",
       "\n",
       "\\PY{l+s+sd}{        lambd is 1.0 divided by the desired mean.  It should be}\n",
       "\\PY{l+s+sd}{        nonzero.  (The parameter would be called \\PYZdq{}lambda\\PYZdq{}, but that is}\n",
       "\\PY{l+s+sd}{        a reserved word in Python.)  Returned values range from 0 to}\n",
       "\\PY{l+s+sd}{        positive infinity if lambd is positive, and from negative}\n",
       "\\PY{l+s+sd}{        infinity to 0 if lambd is negative.}\n",
       "\n",
       "\\PY{l+s+sd}{        \\PYZdq{}\\PYZdq{}\\PYZdq{}}\n",
       "        \\PY{c+c1}{\\PYZsh{} lambd: rate lambd = 1/mean}\n",
       "        \\PY{c+c1}{\\PYZsh{} (\\PYZsq{}lambda\\PYZsq{} is a Python reserved word)}\n",
       "\n",
       "        \\PY{c+c1}{\\PYZsh{} we use 1\\PYZhy{}random() instead of random() to preclude the}\n",
       "        \\PY{c+c1}{\\PYZsh{} possibility of taking the log of zero.}\n",
       "        \\PY{k}{return} \\PY{o}{\\PYZhy{}}\\PY{n}{\\PYZus{}log}\\PY{p}{(}\\PY{l+m+mf}{1.0} \\PY{o}{\\PYZhy{}} \\PY{n+nb+bp}{self}\\PY{o}{.}\\PY{n}{random}\\PY{p}{(}\\PY{p}{)}\\PY{p}{)} \\PY{o}{/} \\PY{n}{lambd}\n",
       "\n",
       "    \\PY{k}{def} \\PY{n+nf}{vonmisesvariate}\\PY{p}{(}\\PY{n+nb+bp}{self}\\PY{p}{,} \\PY{n}{mu}\\PY{p}{,} \\PY{n}{kappa}\\PY{p}{)}\\PY{p}{:}\n",
       "\\PY{+w}{        }\\PY{l+s+sd}{\\PYZdq{}\\PYZdq{}\\PYZdq{}Circular data distribution.}\n",
       "\n",
       "\\PY{l+s+sd}{        mu is the mean angle, expressed in radians between 0 and 2*pi, and}\n",
       "\\PY{l+s+sd}{        kappa is the concentration parameter, which must be greater than or}\n",
       "\\PY{l+s+sd}{        equal to zero.  If kappa is equal to zero, this distribution reduces}\n",
       "\\PY{l+s+sd}{        to a uniform random angle over the range 0 to 2*pi.}\n",
       "\n",
       "\\PY{l+s+sd}{        \\PYZdq{}\\PYZdq{}\\PYZdq{}}\n",
       "        \\PY{c+c1}{\\PYZsh{} Based upon an algorithm published in: Fisher, N.I.,}\n",
       "        \\PY{c+c1}{\\PYZsh{} \\PYZdq{}Statistical Analysis of Circular Data\\PYZdq{}, Cambridge}\n",
       "        \\PY{c+c1}{\\PYZsh{} University Press, 1993.}\n",
       "\n",
       "        \\PY{c+c1}{\\PYZsh{} Thanks to Magnus Kessler for a correction to the}\n",
       "        \\PY{c+c1}{\\PYZsh{} implementation of step 4.}\n",
       "\n",
       "        \\PY{n}{random} \\PY{o}{=} \\PY{n+nb+bp}{self}\\PY{o}{.}\\PY{n}{random}\n",
       "        \\PY{k}{if} \\PY{n}{kappa} \\PY{o}{\\PYZlt{}}\\PY{o}{=} \\PY{l+m+mf}{1e\\PYZhy{}6}\\PY{p}{:}\n",
       "            \\PY{k}{return} \\PY{n}{TWOPI} \\PY{o}{*} \\PY{n}{random}\\PY{p}{(}\\PY{p}{)}\n",
       "\n",
       "        \\PY{n}{s} \\PY{o}{=} \\PY{l+m+mf}{0.5} \\PY{o}{/} \\PY{n}{kappa}\n",
       "        \\PY{n}{r} \\PY{o}{=} \\PY{n}{s} \\PY{o}{+} \\PY{n}{\\PYZus{}sqrt}\\PY{p}{(}\\PY{l+m+mf}{1.0} \\PY{o}{+} \\PY{n}{s} \\PY{o}{*} \\PY{n}{s}\\PY{p}{)}\n",
       "\n",
       "        \\PY{k}{while} \\PY{k+kc}{True}\\PY{p}{:}\n",
       "            \\PY{n}{u1} \\PY{o}{=} \\PY{n}{random}\\PY{p}{(}\\PY{p}{)}\n",
       "            \\PY{n}{z} \\PY{o}{=} \\PY{n}{\\PYZus{}cos}\\PY{p}{(}\\PY{n}{\\PYZus{}pi} \\PY{o}{*} \\PY{n}{u1}\\PY{p}{)}\n",
       "\n",
       "            \\PY{n}{d} \\PY{o}{=} \\PY{n}{z} \\PY{o}{/} \\PY{p}{(}\\PY{n}{r} \\PY{o}{+} \\PY{n}{z}\\PY{p}{)}\n",
       "            \\PY{n}{u2} \\PY{o}{=} \\PY{n}{random}\\PY{p}{(}\\PY{p}{)}\n",
       "            \\PY{k}{if} \\PY{n}{u2} \\PY{o}{\\PYZlt{}} \\PY{l+m+mf}{1.0} \\PY{o}{\\PYZhy{}} \\PY{n}{d} \\PY{o}{*} \\PY{n}{d} \\PY{o+ow}{or} \\PY{n}{u2} \\PY{o}{\\PYZlt{}}\\PY{o}{=} \\PY{p}{(}\\PY{l+m+mf}{1.0} \\PY{o}{\\PYZhy{}} \\PY{n}{d}\\PY{p}{)} \\PY{o}{*} \\PY{n}{\\PYZus{}exp}\\PY{p}{(}\\PY{n}{d}\\PY{p}{)}\\PY{p}{:}\n",
       "                \\PY{k}{break}\n",
       "\n",
       "        \\PY{n}{q} \\PY{o}{=} \\PY{l+m+mf}{1.0} \\PY{o}{/} \\PY{n}{r}\n",
       "        \\PY{n}{f} \\PY{o}{=} \\PY{p}{(}\\PY{n}{q} \\PY{o}{+} \\PY{n}{z}\\PY{p}{)} \\PY{o}{/} \\PY{p}{(}\\PY{l+m+mf}{1.0} \\PY{o}{+} \\PY{n}{q} \\PY{o}{*} \\PY{n}{z}\\PY{p}{)}\n",
       "        \\PY{n}{u3} \\PY{o}{=} \\PY{n}{random}\\PY{p}{(}\\PY{p}{)}\n",
       "        \\PY{k}{if} \\PY{n}{u3} \\PY{o}{\\PYZgt{}} \\PY{l+m+mf}{0.5}\\PY{p}{:}\n",
       "            \\PY{n}{theta} \\PY{o}{=} \\PY{p}{(}\\PY{n}{mu} \\PY{o}{+} \\PY{n}{\\PYZus{}acos}\\PY{p}{(}\\PY{n}{f}\\PY{p}{)}\\PY{p}{)} \\PY{o}{\\PYZpc{}} \\PY{n}{TWOPI}\n",
       "        \\PY{k}{else}\\PY{p}{:}\n",
       "            \\PY{n}{theta} \\PY{o}{=} \\PY{p}{(}\\PY{n}{mu} \\PY{o}{\\PYZhy{}} \\PY{n}{\\PYZus{}acos}\\PY{p}{(}\\PY{n}{f}\\PY{p}{)}\\PY{p}{)} \\PY{o}{\\PYZpc{}} \\PY{n}{TWOPI}\n",
       "\n",
       "        \\PY{k}{return} \\PY{n}{theta}\n",
       "\n",
       "    \\PY{k}{def} \\PY{n+nf}{gammavariate}\\PY{p}{(}\\PY{n+nb+bp}{self}\\PY{p}{,} \\PY{n}{alpha}\\PY{p}{,} \\PY{n}{beta}\\PY{p}{)}\\PY{p}{:}\n",
       "\\PY{+w}{        }\\PY{l+s+sd}{\\PYZdq{}\\PYZdq{}\\PYZdq{}Gamma distribution.  Not the gamma function!}\n",
       "\n",
       "\\PY{l+s+sd}{        Conditions on the parameters are alpha \\PYZgt{} 0 and beta \\PYZgt{} 0.}\n",
       "\n",
       "\\PY{l+s+sd}{        The probability distribution function is:}\n",
       "\n",
       "\\PY{l+s+sd}{                    x ** (alpha \\PYZhy{} 1) * math.exp(\\PYZhy{}x / beta)}\n",
       "\\PY{l+s+sd}{          pdf(x) =  \\PYZhy{}\\PYZhy{}\\PYZhy{}\\PYZhy{}\\PYZhy{}\\PYZhy{}\\PYZhy{}\\PYZhy{}\\PYZhy{}\\PYZhy{}\\PYZhy{}\\PYZhy{}\\PYZhy{}\\PYZhy{}\\PYZhy{}\\PYZhy{}\\PYZhy{}\\PYZhy{}\\PYZhy{}\\PYZhy{}\\PYZhy{}\\PYZhy{}\\PYZhy{}\\PYZhy{}\\PYZhy{}\\PYZhy{}\\PYZhy{}\\PYZhy{}\\PYZhy{}\\PYZhy{}\\PYZhy{}\\PYZhy{}\\PYZhy{}\\PYZhy{}\\PYZhy{}\\PYZhy{}\\PYZhy{}\\PYZhy{}}\n",
       "\\PY{l+s+sd}{                      math.gamma(alpha) * beta ** alpha}\n",
       "\n",
       "\\PY{l+s+sd}{        \\PYZdq{}\\PYZdq{}\\PYZdq{}}\n",
       "        \\PY{c+c1}{\\PYZsh{} alpha \\PYZgt{} 0, beta \\PYZgt{} 0, mean is alpha*beta, variance is alpha*beta**2}\n",
       "\n",
       "        \\PY{c+c1}{\\PYZsh{} Warning: a few older sources define the gamma distribution in terms}\n",
       "        \\PY{c+c1}{\\PYZsh{} of alpha \\PYZgt{} \\PYZhy{}1.0}\n",
       "        \\PY{k}{if} \\PY{n}{alpha} \\PY{o}{\\PYZlt{}}\\PY{o}{=} \\PY{l+m+mf}{0.0} \\PY{o+ow}{or} \\PY{n}{beta} \\PY{o}{\\PYZlt{}}\\PY{o}{=} \\PY{l+m+mf}{0.0}\\PY{p}{:}\n",
       "            \\PY{k}{raise} \\PY{n+ne}{ValueError}\\PY{p}{(}\\PY{l+s+s1}{\\PYZsq{}}\\PY{l+s+s1}{gammavariate: alpha and beta must be \\PYZgt{} 0.0}\\PY{l+s+s1}{\\PYZsq{}}\\PY{p}{)}\n",
       "\n",
       "        \\PY{n}{random} \\PY{o}{=} \\PY{n+nb+bp}{self}\\PY{o}{.}\\PY{n}{random}\n",
       "        \\PY{k}{if} \\PY{n}{alpha} \\PY{o}{\\PYZgt{}} \\PY{l+m+mf}{1.0}\\PY{p}{:}\n",
       "\n",
       "            \\PY{c+c1}{\\PYZsh{} Uses R.C.H. Cheng, \\PYZdq{}The generation of Gamma}\n",
       "            \\PY{c+c1}{\\PYZsh{} variables with non\\PYZhy{}integral shape parameters\\PYZdq{},}\n",
       "            \\PY{c+c1}{\\PYZsh{} Applied Statistics, (1977), 26, No. 1, p71\\PYZhy{}74}\n",
       "\n",
       "            \\PY{n}{ainv} \\PY{o}{=} \\PY{n}{\\PYZus{}sqrt}\\PY{p}{(}\\PY{l+m+mf}{2.0} \\PY{o}{*} \\PY{n}{alpha} \\PY{o}{\\PYZhy{}} \\PY{l+m+mf}{1.0}\\PY{p}{)}\n",
       "            \\PY{n}{bbb} \\PY{o}{=} \\PY{n}{alpha} \\PY{o}{\\PYZhy{}} \\PY{n}{LOG4}\n",
       "            \\PY{n}{ccc} \\PY{o}{=} \\PY{n}{alpha} \\PY{o}{+} \\PY{n}{ainv}\n",
       "\n",
       "            \\PY{k}{while} \\PY{k+kc}{True}\\PY{p}{:}\n",
       "                \\PY{n}{u1} \\PY{o}{=} \\PY{n}{random}\\PY{p}{(}\\PY{p}{)}\n",
       "                \\PY{k}{if} \\PY{o+ow}{not} \\PY{l+m+mf}{1e\\PYZhy{}7} \\PY{o}{\\PYZlt{}} \\PY{n}{u1} \\PY{o}{\\PYZlt{}} \\PY{l+m+mf}{0.9999999}\\PY{p}{:}\n",
       "                    \\PY{k}{continue}\n",
       "                \\PY{n}{u2} \\PY{o}{=} \\PY{l+m+mf}{1.0} \\PY{o}{\\PYZhy{}} \\PY{n}{random}\\PY{p}{(}\\PY{p}{)}\n",
       "                \\PY{n}{v} \\PY{o}{=} \\PY{n}{\\PYZus{}log}\\PY{p}{(}\\PY{n}{u1} \\PY{o}{/} \\PY{p}{(}\\PY{l+m+mf}{1.0} \\PY{o}{\\PYZhy{}} \\PY{n}{u1}\\PY{p}{)}\\PY{p}{)} \\PY{o}{/} \\PY{n}{ainv}\n",
       "                \\PY{n}{x} \\PY{o}{=} \\PY{n}{alpha} \\PY{o}{*} \\PY{n}{\\PYZus{}exp}\\PY{p}{(}\\PY{n}{v}\\PY{p}{)}\n",
       "                \\PY{n}{z} \\PY{o}{=} \\PY{n}{u1} \\PY{o}{*} \\PY{n}{u1} \\PY{o}{*} \\PY{n}{u2}\n",
       "                \\PY{n}{r} \\PY{o}{=} \\PY{n}{bbb} \\PY{o}{+} \\PY{n}{ccc} \\PY{o}{*} \\PY{n}{v} \\PY{o}{\\PYZhy{}} \\PY{n}{x}\n",
       "                \\PY{k}{if} \\PY{n}{r} \\PY{o}{+} \\PY{n}{SG\\PYZus{}MAGICCONST} \\PY{o}{\\PYZhy{}} \\PY{l+m+mf}{4.5} \\PY{o}{*} \\PY{n}{z} \\PY{o}{\\PYZgt{}}\\PY{o}{=} \\PY{l+m+mf}{0.0} \\PY{o+ow}{or} \\PY{n}{r} \\PY{o}{\\PYZgt{}}\\PY{o}{=} \\PY{n}{\\PYZus{}log}\\PY{p}{(}\\PY{n}{z}\\PY{p}{)}\\PY{p}{:}\n",
       "                    \\PY{k}{return} \\PY{n}{x} \\PY{o}{*} \\PY{n}{beta}\n",
       "\n",
       "        \\PY{k}{elif} \\PY{n}{alpha} \\PY{o}{==} \\PY{l+m+mf}{1.0}\\PY{p}{:}\n",
       "            \\PY{c+c1}{\\PYZsh{} expovariate(1/beta)}\n",
       "            \\PY{k}{return} \\PY{o}{\\PYZhy{}}\\PY{n}{\\PYZus{}log}\\PY{p}{(}\\PY{l+m+mf}{1.0} \\PY{o}{\\PYZhy{}} \\PY{n}{random}\\PY{p}{(}\\PY{p}{)}\\PY{p}{)} \\PY{o}{*} \\PY{n}{beta}\n",
       "\n",
       "        \\PY{k}{else}\\PY{p}{:}\n",
       "            \\PY{c+c1}{\\PYZsh{} alpha is between 0 and 1 (exclusive)}\n",
       "            \\PY{c+c1}{\\PYZsh{} Uses ALGORITHM GS of Statistical Computing \\PYZhy{} Kennedy \\PYZam{} Gentle}\n",
       "            \\PY{k}{while} \\PY{k+kc}{True}\\PY{p}{:}\n",
       "                \\PY{n}{u} \\PY{o}{=} \\PY{n}{random}\\PY{p}{(}\\PY{p}{)}\n",
       "                \\PY{n}{b} \\PY{o}{=} \\PY{p}{(}\\PY{n}{\\PYZus{}e} \\PY{o}{+} \\PY{n}{alpha}\\PY{p}{)} \\PY{o}{/} \\PY{n}{\\PYZus{}e}\n",
       "                \\PY{n}{p} \\PY{o}{=} \\PY{n}{b} \\PY{o}{*} \\PY{n}{u}\n",
       "                \\PY{k}{if} \\PY{n}{p} \\PY{o}{\\PYZlt{}}\\PY{o}{=} \\PY{l+m+mf}{1.0}\\PY{p}{:}\n",
       "                    \\PY{n}{x} \\PY{o}{=} \\PY{n}{p} \\PY{o}{*}\\PY{o}{*} \\PY{p}{(}\\PY{l+m+mf}{1.0} \\PY{o}{/} \\PY{n}{alpha}\\PY{p}{)}\n",
       "                \\PY{k}{else}\\PY{p}{:}\n",
       "                    \\PY{n}{x} \\PY{o}{=} \\PY{o}{\\PYZhy{}}\\PY{n}{\\PYZus{}log}\\PY{p}{(}\\PY{p}{(}\\PY{n}{b} \\PY{o}{\\PYZhy{}} \\PY{n}{p}\\PY{p}{)} \\PY{o}{/} \\PY{n}{alpha}\\PY{p}{)}\n",
       "                \\PY{n}{u1} \\PY{o}{=} \\PY{n}{random}\\PY{p}{(}\\PY{p}{)}\n",
       "                \\PY{k}{if} \\PY{n}{p} \\PY{o}{\\PYZgt{}} \\PY{l+m+mf}{1.0}\\PY{p}{:}\n",
       "                    \\PY{k}{if} \\PY{n}{u1} \\PY{o}{\\PYZlt{}}\\PY{o}{=} \\PY{n}{x} \\PY{o}{*}\\PY{o}{*} \\PY{p}{(}\\PY{n}{alpha} \\PY{o}{\\PYZhy{}} \\PY{l+m+mf}{1.0}\\PY{p}{)}\\PY{p}{:}\n",
       "                        \\PY{k}{break}\n",
       "                \\PY{k}{elif} \\PY{n}{u1} \\PY{o}{\\PYZlt{}}\\PY{o}{=} \\PY{n}{\\PYZus{}exp}\\PY{p}{(}\\PY{o}{\\PYZhy{}}\\PY{n}{x}\\PY{p}{)}\\PY{p}{:}\n",
       "                    \\PY{k}{break}\n",
       "            \\PY{k}{return} \\PY{n}{x} \\PY{o}{*} \\PY{n}{beta}\n",
       "\n",
       "    \\PY{k}{def} \\PY{n+nf}{betavariate}\\PY{p}{(}\\PY{n+nb+bp}{self}\\PY{p}{,} \\PY{n}{alpha}\\PY{p}{,} \\PY{n}{beta}\\PY{p}{)}\\PY{p}{:}\n",
       "\\PY{+w}{        }\\PY{l+s+sd}{\\PYZdq{}\\PYZdq{}\\PYZdq{}Beta distribution.}\n",
       "\n",
       "\\PY{l+s+sd}{        Conditions on the parameters are alpha \\PYZgt{} 0 and beta \\PYZgt{} 0.}\n",
       "\\PY{l+s+sd}{        Returned values range between 0 and 1.}\n",
       "\n",
       "\\PY{l+s+sd}{        \\PYZdq{}\\PYZdq{}\\PYZdq{}}\n",
       "        \\PY{c+c1}{\\PYZsh{}\\PYZsh{} See}\n",
       "        \\PY{c+c1}{\\PYZsh{}\\PYZsh{} http://mail.python.org/pipermail/python\\PYZhy{}bugs\\PYZhy{}list/2001\\PYZhy{}January/003752.html}\n",
       "        \\PY{c+c1}{\\PYZsh{}\\PYZsh{} for Ivan Frohne\\PYZsq{}s insightful analysis of why the original implementation:}\n",
       "        \\PY{c+c1}{\\PYZsh{}\\PYZsh{}}\n",
       "        \\PY{c+c1}{\\PYZsh{}\\PYZsh{}    def betavariate(self, alpha, beta):}\n",
       "        \\PY{c+c1}{\\PYZsh{}\\PYZsh{}        \\PYZsh{} Discrete Event Simulation in C, pp 87\\PYZhy{}88.}\n",
       "        \\PY{c+c1}{\\PYZsh{}\\PYZsh{}}\n",
       "        \\PY{c+c1}{\\PYZsh{}\\PYZsh{}        y = self.expovariate(alpha)}\n",
       "        \\PY{c+c1}{\\PYZsh{}\\PYZsh{}        z = self.expovariate(1.0/beta)}\n",
       "        \\PY{c+c1}{\\PYZsh{}\\PYZsh{}        return z/(y+z)}\n",
       "        \\PY{c+c1}{\\PYZsh{}\\PYZsh{}}\n",
       "        \\PY{c+c1}{\\PYZsh{}\\PYZsh{} was dead wrong, and how it probably got that way.}\n",
       "\n",
       "        \\PY{c+c1}{\\PYZsh{} This version due to Janne Sinkkonen, and matches all the std}\n",
       "        \\PY{c+c1}{\\PYZsh{} texts (e.g., Knuth Vol 2 Ed 3 pg 134 \\PYZdq{}the beta distribution\\PYZdq{}).}\n",
       "        \\PY{n}{y} \\PY{o}{=} \\PY{n+nb+bp}{self}\\PY{o}{.}\\PY{n}{gammavariate}\\PY{p}{(}\\PY{n}{alpha}\\PY{p}{,} \\PY{l+m+mf}{1.0}\\PY{p}{)}\n",
       "        \\PY{k}{if} \\PY{n}{y}\\PY{p}{:}\n",
       "            \\PY{k}{return} \\PY{n}{y} \\PY{o}{/} \\PY{p}{(}\\PY{n}{y} \\PY{o}{+} \\PY{n+nb+bp}{self}\\PY{o}{.}\\PY{n}{gammavariate}\\PY{p}{(}\\PY{n}{beta}\\PY{p}{,} \\PY{l+m+mf}{1.0}\\PY{p}{)}\\PY{p}{)}\n",
       "        \\PY{k}{return} \\PY{l+m+mf}{0.0}\n",
       "\n",
       "    \\PY{k}{def} \\PY{n+nf}{paretovariate}\\PY{p}{(}\\PY{n+nb+bp}{self}\\PY{p}{,} \\PY{n}{alpha}\\PY{p}{)}\\PY{p}{:}\n",
       "\\PY{+w}{        }\\PY{l+s+sd}{\\PYZdq{}\\PYZdq{}\\PYZdq{}Pareto distribution.  alpha is the shape parameter.\\PYZdq{}\\PYZdq{}\\PYZdq{}}\n",
       "        \\PY{c+c1}{\\PYZsh{} Jain, pg. 495}\n",
       "\n",
       "        \\PY{n}{u} \\PY{o}{=} \\PY{l+m+mf}{1.0} \\PY{o}{\\PYZhy{}} \\PY{n+nb+bp}{self}\\PY{o}{.}\\PY{n}{random}\\PY{p}{(}\\PY{p}{)}\n",
       "        \\PY{k}{return} \\PY{n}{u} \\PY{o}{*}\\PY{o}{*} \\PY{p}{(}\\PY{o}{\\PYZhy{}}\\PY{l+m+mf}{1.0} \\PY{o}{/} \\PY{n}{alpha}\\PY{p}{)}\n",
       "\n",
       "    \\PY{k}{def} \\PY{n+nf}{weibullvariate}\\PY{p}{(}\\PY{n+nb+bp}{self}\\PY{p}{,} \\PY{n}{alpha}\\PY{p}{,} \\PY{n}{beta}\\PY{p}{)}\\PY{p}{:}\n",
       "\\PY{+w}{        }\\PY{l+s+sd}{\\PYZdq{}\\PYZdq{}\\PYZdq{}Weibull distribution.}\n",
       "\n",
       "\\PY{l+s+sd}{        alpha is the scale parameter and beta is the shape parameter.}\n",
       "\n",
       "\\PY{l+s+sd}{        \\PYZdq{}\\PYZdq{}\\PYZdq{}}\n",
       "        \\PY{c+c1}{\\PYZsh{} Jain, pg. 499; bug fix courtesy Bill Arms}\n",
       "\n",
       "        \\PY{n}{u} \\PY{o}{=} \\PY{l+m+mf}{1.0} \\PY{o}{\\PYZhy{}} \\PY{n+nb+bp}{self}\\PY{o}{.}\\PY{n}{random}\\PY{p}{(}\\PY{p}{)}\n",
       "        \\PY{k}{return} \\PY{n}{alpha} \\PY{o}{*} \\PY{p}{(}\\PY{o}{\\PYZhy{}}\\PY{n}{\\PYZus{}log}\\PY{p}{(}\\PY{n}{u}\\PY{p}{)}\\PY{p}{)} \\PY{o}{*}\\PY{o}{*} \\PY{p}{(}\\PY{l+m+mf}{1.0} \\PY{o}{/} \\PY{n}{beta}\\PY{p}{)}\n",
       "\n",
       "\n",
       "\\PY{c+c1}{\\PYZsh{}\\PYZsh{} \\PYZhy{}\\PYZhy{}\\PYZhy{}\\PYZhy{}\\PYZhy{}\\PYZhy{}\\PYZhy{}\\PYZhy{}\\PYZhy{}\\PYZhy{}\\PYZhy{}\\PYZhy{}\\PYZhy{}\\PYZhy{}\\PYZhy{}\\PYZhy{}\\PYZhy{}\\PYZhy{}\\PYZhy{}\\PYZhy{}\\PYZhy{}\\PYZhy{}\\PYZhy{}\\PYZhy{}\\PYZhy{}\\PYZhy{}\\PYZhy{}\\PYZhy{}\\PYZhy{}\\PYZhy{}\\PYZhy{}\\PYZhy{}\\PYZhy{}\\PYZhy{}\\PYZhy{}\\PYZhy{}\\PYZhy{}\\PYZhy{}\\PYZhy{}\\PYZhy{}\\PYZhy{}\\PYZhy{}\\PYZhy{}\\PYZhy{}\\PYZhy{}\\PYZhy{}\\PYZhy{}\\PYZhy{}\\PYZhy{}\\PYZhy{}\\PYZhy{}\\PYZhy{}\\PYZhy{}\\PYZhy{}\\PYZhy{}\\PYZhy{}\\PYZhy{}\\PYZhy{}\\PYZhy{}\\PYZhy{}\\PYZhy{}\\PYZhy{}\\PYZhy{}\\PYZhy{}\\PYZhy{}\\PYZhy{}}\n",
       "\\PY{c+c1}{\\PYZsh{}\\PYZsh{} \\PYZhy{}\\PYZhy{}\\PYZhy{}\\PYZhy{}\\PYZhy{}\\PYZhy{}\\PYZhy{}\\PYZhy{}\\PYZhy{}\\PYZhy{}\\PYZhy{}\\PYZhy{}\\PYZhy{}\\PYZhy{}\\PYZhy{} Operating System Random Source  \\PYZhy{}\\PYZhy{}\\PYZhy{}\\PYZhy{}\\PYZhy{}\\PYZhy{}\\PYZhy{}\\PYZhy{}\\PYZhy{}\\PYZhy{}\\PYZhy{}\\PYZhy{}\\PYZhy{}\\PYZhy{}\\PYZhy{}\\PYZhy{}\\PYZhy{}\\PYZhy{}}\n",
       "\n",
       "\n",
       "\\PY{k}{class} \\PY{n+nc}{SystemRandom}\\PY{p}{(}\\PY{n}{Random}\\PY{p}{)}\\PY{p}{:}\n",
       "\\PY{+w}{    }\\PY{l+s+sd}{\\PYZdq{}\\PYZdq{}\\PYZdq{}Alternate random number generator using sources provided}\n",
       "\\PY{l+s+sd}{    by the operating system (such as /dev/urandom on Unix or}\n",
       "\\PY{l+s+sd}{    CryptGenRandom on Windows).}\n",
       "\n",
       "\\PY{l+s+sd}{     Not available on all systems (see os.urandom() for details).}\n",
       "\n",
       "\\PY{l+s+sd}{    \\PYZdq{}\\PYZdq{}\\PYZdq{}}\n",
       "\n",
       "    \\PY{k}{def} \\PY{n+nf}{random}\\PY{p}{(}\\PY{n+nb+bp}{self}\\PY{p}{)}\\PY{p}{:}\n",
       "\\PY{+w}{        }\\PY{l+s+sd}{\\PYZdq{}\\PYZdq{}\\PYZdq{}Get the next random number in the range 0.0 \\PYZlt{}= X \\PYZlt{} 1.0.\\PYZdq{}\\PYZdq{}\\PYZdq{}}\n",
       "        \\PY{k}{return} \\PY{p}{(}\\PY{n+nb}{int}\\PY{o}{.}\\PY{n}{from\\PYZus{}bytes}\\PY{p}{(}\\PY{n}{\\PYZus{}urandom}\\PY{p}{(}\\PY{l+m+mi}{7}\\PY{p}{)}\\PY{p}{)} \\PY{o}{\\PYZgt{}\\PYZgt{}} \\PY{l+m+mi}{3}\\PY{p}{)} \\PY{o}{*} \\PY{n}{RECIP\\PYZus{}BPF}\n",
       "\n",
       "    \\PY{k}{def} \\PY{n+nf}{getrandbits}\\PY{p}{(}\\PY{n+nb+bp}{self}\\PY{p}{,} \\PY{n}{k}\\PY{p}{)}\\PY{p}{:}\n",
       "\\PY{+w}{        }\\PY{l+s+sd}{\\PYZdq{}\\PYZdq{}\\PYZdq{}getrandbits(k) \\PYZhy{}\\PYZgt{} x.  Generates an int with k random bits.\\PYZdq{}\\PYZdq{}\\PYZdq{}}\n",
       "        \\PY{k}{if} \\PY{n}{k} \\PY{o}{\\PYZlt{}} \\PY{l+m+mi}{0}\\PY{p}{:}\n",
       "            \\PY{k}{raise} \\PY{n+ne}{ValueError}\\PY{p}{(}\\PY{l+s+s1}{\\PYZsq{}}\\PY{l+s+s1}{number of bits must be non\\PYZhy{}negative}\\PY{l+s+s1}{\\PYZsq{}}\\PY{p}{)}\n",
       "        \\PY{n}{numbytes} \\PY{o}{=} \\PY{p}{(}\\PY{n}{k} \\PY{o}{+} \\PY{l+m+mi}{7}\\PY{p}{)} \\PY{o}{/}\\PY{o}{/} \\PY{l+m+mi}{8}                       \\PY{c+c1}{\\PYZsh{} bits / 8 and rounded up}\n",
       "        \\PY{n}{x} \\PY{o}{=} \\PY{n+nb}{int}\\PY{o}{.}\\PY{n}{from\\PYZus{}bytes}\\PY{p}{(}\\PY{n}{\\PYZus{}urandom}\\PY{p}{(}\\PY{n}{numbytes}\\PY{p}{)}\\PY{p}{)}\n",
       "        \\PY{k}{return} \\PY{n}{x} \\PY{o}{\\PYZgt{}\\PYZgt{}} \\PY{p}{(}\\PY{n}{numbytes} \\PY{o}{*} \\PY{l+m+mi}{8} \\PY{o}{\\PYZhy{}} \\PY{n}{k}\\PY{p}{)}                \\PY{c+c1}{\\PYZsh{} trim excess bits}\n",
       "\n",
       "    \\PY{k}{def} \\PY{n+nf}{randbytes}\\PY{p}{(}\\PY{n+nb+bp}{self}\\PY{p}{,} \\PY{n}{n}\\PY{p}{)}\\PY{p}{:}\n",
       "\\PY{+w}{        }\\PY{l+s+sd}{\\PYZdq{}\\PYZdq{}\\PYZdq{}Generate n random bytes.\\PYZdq{}\\PYZdq{}\\PYZdq{}}\n",
       "        \\PY{c+c1}{\\PYZsh{} os.urandom(n) fails with ValueError for n \\PYZlt{} 0}\n",
       "        \\PY{c+c1}{\\PYZsh{} and returns an empty bytes string for n == 0.}\n",
       "        \\PY{k}{return} \\PY{n}{\\PYZus{}urandom}\\PY{p}{(}\\PY{n}{n}\\PY{p}{)}\n",
       "\n",
       "    \\PY{k}{def} \\PY{n+nf}{seed}\\PY{p}{(}\\PY{n+nb+bp}{self}\\PY{p}{,} \\PY{o}{*}\\PY{n}{args}\\PY{p}{,} \\PY{o}{*}\\PY{o}{*}\\PY{n}{kwds}\\PY{p}{)}\\PY{p}{:}\n",
       "        \\PY{l+s+s2}{\\PYZdq{}}\\PY{l+s+s2}{Stub method.  Not used for a system random number generator.}\\PY{l+s+s2}{\\PYZdq{}}\n",
       "        \\PY{k}{return} \\PY{k+kc}{None}\n",
       "\n",
       "    \\PY{k}{def} \\PY{n+nf}{\\PYZus{}notimplemented}\\PY{p}{(}\\PY{n+nb+bp}{self}\\PY{p}{,} \\PY{o}{*}\\PY{n}{args}\\PY{p}{,} \\PY{o}{*}\\PY{o}{*}\\PY{n}{kwds}\\PY{p}{)}\\PY{p}{:}\n",
       "        \\PY{l+s+s2}{\\PYZdq{}}\\PY{l+s+s2}{Method should not be called for a system random number generator.}\\PY{l+s+s2}{\\PYZdq{}}\n",
       "        \\PY{k}{raise} \\PY{n+ne}{NotImplementedError}\\PY{p}{(}\\PY{l+s+s1}{\\PYZsq{}}\\PY{l+s+s1}{System entropy source does not have state.}\\PY{l+s+s1}{\\PYZsq{}}\\PY{p}{)}\n",
       "    \\PY{n}{getstate} \\PY{o}{=} \\PY{n}{setstate} \\PY{o}{=} \\PY{n}{\\PYZus{}notimplemented}\n",
       "\n",
       "\n",
       "\\PY{c+c1}{\\PYZsh{} \\PYZhy{}\\PYZhy{}\\PYZhy{}\\PYZhy{}\\PYZhy{}\\PYZhy{}\\PYZhy{}\\PYZhy{}\\PYZhy{}\\PYZhy{}\\PYZhy{}\\PYZhy{}\\PYZhy{}\\PYZhy{}\\PYZhy{}\\PYZhy{}\\PYZhy{}\\PYZhy{}\\PYZhy{}\\PYZhy{}\\PYZhy{}\\PYZhy{}\\PYZhy{}\\PYZhy{}\\PYZhy{}\\PYZhy{}\\PYZhy{}\\PYZhy{}\\PYZhy{}\\PYZhy{}\\PYZhy{}\\PYZhy{}\\PYZhy{}\\PYZhy{}\\PYZhy{}\\PYZhy{}\\PYZhy{}\\PYZhy{}\\PYZhy{}\\PYZhy{}\\PYZhy{}\\PYZhy{}\\PYZhy{}\\PYZhy{}\\PYZhy{}\\PYZhy{}\\PYZhy{}\\PYZhy{}\\PYZhy{}\\PYZhy{}\\PYZhy{}\\PYZhy{}\\PYZhy{}\\PYZhy{}\\PYZhy{}\\PYZhy{}\\PYZhy{}\\PYZhy{}\\PYZhy{}\\PYZhy{}\\PYZhy{}\\PYZhy{}\\PYZhy{}\\PYZhy{}\\PYZhy{}\\PYZhy{}\\PYZhy{}\\PYZhy{}\\PYZhy{}\\PYZhy{}}\n",
       "\\PY{c+c1}{\\PYZsh{} Create one instance, seeded from current time, and export its methods}\n",
       "\\PY{c+c1}{\\PYZsh{} as module\\PYZhy{}level functions.  The functions share state across all uses}\n",
       "\\PY{c+c1}{\\PYZsh{} (both in the user\\PYZsq{}s code and in the Python libraries), but that\\PYZsq{}s fine}\n",
       "\\PY{c+c1}{\\PYZsh{} for most programs and is easier for the casual user than making them}\n",
       "\\PY{c+c1}{\\PYZsh{} instantiate their own Random() instance.}\n",
       "\n",
       "\\PY{n}{\\PYZus{}inst} \\PY{o}{=} \\PY{n}{Random}\\PY{p}{(}\\PY{p}{)}\n",
       "\\PY{n}{seed} \\PY{o}{=} \\PY{n}{\\PYZus{}inst}\\PY{o}{.}\\PY{n}{seed}\n",
       "\\PY{n}{random} \\PY{o}{=} \\PY{n}{\\PYZus{}inst}\\PY{o}{.}\\PY{n}{random}\n",
       "\\PY{n}{uniform} \\PY{o}{=} \\PY{n}{\\PYZus{}inst}\\PY{o}{.}\\PY{n}{uniform}\n",
       "\\PY{n}{triangular} \\PY{o}{=} \\PY{n}{\\PYZus{}inst}\\PY{o}{.}\\PY{n}{triangular}\n",
       "\\PY{n}{randint} \\PY{o}{=} \\PY{n}{\\PYZus{}inst}\\PY{o}{.}\\PY{n}{randint}\n",
       "\\PY{n}{choice} \\PY{o}{=} \\PY{n}{\\PYZus{}inst}\\PY{o}{.}\\PY{n}{choice}\n",
       "\\PY{n}{randrange} \\PY{o}{=} \\PY{n}{\\PYZus{}inst}\\PY{o}{.}\\PY{n}{randrange}\n",
       "\\PY{n}{sample} \\PY{o}{=} \\PY{n}{\\PYZus{}inst}\\PY{o}{.}\\PY{n}{sample}\n",
       "\\PY{n}{shuffle} \\PY{o}{=} \\PY{n}{\\PYZus{}inst}\\PY{o}{.}\\PY{n}{shuffle}\n",
       "\\PY{n}{choices} \\PY{o}{=} \\PY{n}{\\PYZus{}inst}\\PY{o}{.}\\PY{n}{choices}\n",
       "\\PY{n}{normalvariate} \\PY{o}{=} \\PY{n}{\\PYZus{}inst}\\PY{o}{.}\\PY{n}{normalvariate}\n",
       "\\PY{n}{lognormvariate} \\PY{o}{=} \\PY{n}{\\PYZus{}inst}\\PY{o}{.}\\PY{n}{lognormvariate}\n",
       "\\PY{n}{expovariate} \\PY{o}{=} \\PY{n}{\\PYZus{}inst}\\PY{o}{.}\\PY{n}{expovariate}\n",
       "\\PY{n}{vonmisesvariate} \\PY{o}{=} \\PY{n}{\\PYZus{}inst}\\PY{o}{.}\\PY{n}{vonmisesvariate}\n",
       "\\PY{n}{gammavariate} \\PY{o}{=} \\PY{n}{\\PYZus{}inst}\\PY{o}{.}\\PY{n}{gammavariate}\n",
       "\\PY{n}{gauss} \\PY{o}{=} \\PY{n}{\\PYZus{}inst}\\PY{o}{.}\\PY{n}{gauss}\n",
       "\\PY{n}{betavariate} \\PY{o}{=} \\PY{n}{\\PYZus{}inst}\\PY{o}{.}\\PY{n}{betavariate}\n",
       "\\PY{n}{paretovariate} \\PY{o}{=} \\PY{n}{\\PYZus{}inst}\\PY{o}{.}\\PY{n}{paretovariate}\n",
       "\\PY{n}{weibullvariate} \\PY{o}{=} \\PY{n}{\\PYZus{}inst}\\PY{o}{.}\\PY{n}{weibullvariate}\n",
       "\\PY{n}{getstate} \\PY{o}{=} \\PY{n}{\\PYZus{}inst}\\PY{o}{.}\\PY{n}{getstate}\n",
       "\\PY{n}{setstate} \\PY{o}{=} \\PY{n}{\\PYZus{}inst}\\PY{o}{.}\\PY{n}{setstate}\n",
       "\\PY{n}{getrandbits} \\PY{o}{=} \\PY{n}{\\PYZus{}inst}\\PY{o}{.}\\PY{n}{getrandbits}\n",
       "\\PY{n}{randbytes} \\PY{o}{=} \\PY{n}{\\PYZus{}inst}\\PY{o}{.}\\PY{n}{randbytes}\n",
       "\n",
       "\n",
       "\\PY{c+c1}{\\PYZsh{}\\PYZsh{} \\PYZhy{}\\PYZhy{}\\PYZhy{}\\PYZhy{}\\PYZhy{}\\PYZhy{}\\PYZhy{}\\PYZhy{}\\PYZhy{}\\PYZhy{}\\PYZhy{}\\PYZhy{}\\PYZhy{}\\PYZhy{}\\PYZhy{}\\PYZhy{}\\PYZhy{}\\PYZhy{}\\PYZhy{}\\PYZhy{}\\PYZhy{}\\PYZhy{}\\PYZhy{}\\PYZhy{}\\PYZhy{}\\PYZhy{}\\PYZhy{}\\PYZhy{}\\PYZhy{}\\PYZhy{}\\PYZhy{}\\PYZhy{}\\PYZhy{}\\PYZhy{}\\PYZhy{}\\PYZhy{}\\PYZhy{}\\PYZhy{}\\PYZhy{}\\PYZhy{}\\PYZhy{}\\PYZhy{}\\PYZhy{}\\PYZhy{}\\PYZhy{}\\PYZhy{}\\PYZhy{}\\PYZhy{}\\PYZhy{}\\PYZhy{}\\PYZhy{}\\PYZhy{}\\PYZhy{}\\PYZhy{}}\n",
       "\\PY{c+c1}{\\PYZsh{}\\PYZsh{} \\PYZhy{}\\PYZhy{}\\PYZhy{}\\PYZhy{}\\PYZhy{}\\PYZhy{}\\PYZhy{}\\PYZhy{}\\PYZhy{}\\PYZhy{}\\PYZhy{}\\PYZhy{}\\PYZhy{}\\PYZhy{}\\PYZhy{}\\PYZhy{}\\PYZhy{} test program \\PYZhy{}\\PYZhy{}\\PYZhy{}\\PYZhy{}\\PYZhy{}\\PYZhy{}\\PYZhy{}\\PYZhy{}\\PYZhy{}\\PYZhy{}\\PYZhy{}\\PYZhy{}\\PYZhy{}\\PYZhy{}\\PYZhy{}\\PYZhy{}\\PYZhy{}\\PYZhy{}\\PYZhy{}\\PYZhy{}\\PYZhy{}\\PYZhy{}\\PYZhy{}}\n",
       "\n",
       "\\PY{k}{def} \\PY{n+nf}{\\PYZus{}test\\PYZus{}generator}\\PY{p}{(}\\PY{n}{n}\\PY{p}{,} \\PY{n}{func}\\PY{p}{,} \\PY{n}{args}\\PY{p}{)}\\PY{p}{:}\n",
       "    \\PY{k+kn}{from} \\PY{n+nn}{statistics} \\PY{k+kn}{import} \\PY{n}{stdev}\\PY{p}{,} \\PY{n}{fmean} \\PY{k}{as} \\PY{n}{mean}\n",
       "    \\PY{k+kn}{from} \\PY{n+nn}{time} \\PY{k+kn}{import} \\PY{n}{perf\\PYZus{}counter}\n",
       "\n",
       "    \\PY{n}{t0} \\PY{o}{=} \\PY{n}{perf\\PYZus{}counter}\\PY{p}{(}\\PY{p}{)}\n",
       "    \\PY{n}{data} \\PY{o}{=} \\PY{p}{[}\\PY{n}{func}\\PY{p}{(}\\PY{o}{*}\\PY{n}{args}\\PY{p}{)} \\PY{k}{for} \\PY{n}{i} \\PY{o+ow}{in} \\PY{n}{\\PYZus{}repeat}\\PY{p}{(}\\PY{k+kc}{None}\\PY{p}{,} \\PY{n}{n}\\PY{p}{)}\\PY{p}{]}\n",
       "    \\PY{n}{t1} \\PY{o}{=} \\PY{n}{perf\\PYZus{}counter}\\PY{p}{(}\\PY{p}{)}\n",
       "\n",
       "    \\PY{n}{xbar} \\PY{o}{=} \\PY{n}{mean}\\PY{p}{(}\\PY{n}{data}\\PY{p}{)}\n",
       "    \\PY{n}{sigma} \\PY{o}{=} \\PY{n}{stdev}\\PY{p}{(}\\PY{n}{data}\\PY{p}{,} \\PY{n}{xbar}\\PY{p}{)}\n",
       "    \\PY{n}{low} \\PY{o}{=} \\PY{n+nb}{min}\\PY{p}{(}\\PY{n}{data}\\PY{p}{)}\n",
       "    \\PY{n}{high} \\PY{o}{=} \\PY{n+nb}{max}\\PY{p}{(}\\PY{n}{data}\\PY{p}{)}\n",
       "\n",
       "    \\PY{n+nb}{print}\\PY{p}{(}\\PY{l+s+sa}{f}\\PY{l+s+s1}{\\PYZsq{}}\\PY{l+s+si}{\\PYZob{}}\\PY{n}{t1}\\PY{+w}{ }\\PY{o}{\\PYZhy{}}\\PY{+w}{ }\\PY{n}{t0}\\PY{l+s+si}{:}\\PY{l+s+s1}{.3f}\\PY{l+s+si}{\\PYZcb{}}\\PY{l+s+s1}{ sec, }\\PY{l+s+si}{\\PYZob{}}\\PY{n}{n}\\PY{l+s+si}{\\PYZcb{}}\\PY{l+s+s1}{ times }\\PY{l+s+si}{\\PYZob{}}\\PY{n}{func}\\PY{o}{.}\\PY{n+nv+vm}{\\PYZus{}\\PYZus{}name\\PYZus{}\\PYZus{}}\\PY{l+s+si}{\\PYZcb{}}\\PY{l+s+s1}{\\PYZsq{}}\\PY{p}{)}\n",
       "    \\PY{n+nb}{print}\\PY{p}{(}\\PY{l+s+s1}{\\PYZsq{}}\\PY{l+s+s1}{avg }\\PY{l+s+si}{\\PYZpc{}g}\\PY{l+s+s1}{, stddev }\\PY{l+s+si}{\\PYZpc{}g}\\PY{l+s+s1}{, min }\\PY{l+s+si}{\\PYZpc{}g}\\PY{l+s+s1}{, max }\\PY{l+s+si}{\\PYZpc{}g}\\PY{l+s+se}{\\PYZbs{}n}\\PY{l+s+s1}{\\PYZsq{}} \\PY{o}{\\PYZpc{}} \\PY{p}{(}\\PY{n}{xbar}\\PY{p}{,} \\PY{n}{sigma}\\PY{p}{,} \\PY{n}{low}\\PY{p}{,} \\PY{n}{high}\\PY{p}{)}\\PY{p}{)}\n",
       "\n",
       "\n",
       "\\PY{k}{def} \\PY{n+nf}{\\PYZus{}test}\\PY{p}{(}\\PY{n}{N}\\PY{o}{=}\\PY{l+m+mi}{2000}\\PY{p}{)}\\PY{p}{:}\n",
       "    \\PY{n}{\\PYZus{}test\\PYZus{}generator}\\PY{p}{(}\\PY{n}{N}\\PY{p}{,} \\PY{n}{random}\\PY{p}{,} \\PY{p}{(}\\PY{p}{)}\\PY{p}{)}\n",
       "    \\PY{n}{\\PYZus{}test\\PYZus{}generator}\\PY{p}{(}\\PY{n}{N}\\PY{p}{,} \\PY{n}{normalvariate}\\PY{p}{,} \\PY{p}{(}\\PY{l+m+mf}{0.0}\\PY{p}{,} \\PY{l+m+mf}{1.0}\\PY{p}{)}\\PY{p}{)}\n",
       "    \\PY{n}{\\PYZus{}test\\PYZus{}generator}\\PY{p}{(}\\PY{n}{N}\\PY{p}{,} \\PY{n}{lognormvariate}\\PY{p}{,} \\PY{p}{(}\\PY{l+m+mf}{0.0}\\PY{p}{,} \\PY{l+m+mf}{1.0}\\PY{p}{)}\\PY{p}{)}\n",
       "    \\PY{n}{\\PYZus{}test\\PYZus{}generator}\\PY{p}{(}\\PY{n}{N}\\PY{p}{,} \\PY{n}{vonmisesvariate}\\PY{p}{,} \\PY{p}{(}\\PY{l+m+mf}{0.0}\\PY{p}{,} \\PY{l+m+mf}{1.0}\\PY{p}{)}\\PY{p}{)}\n",
       "    \\PY{n}{\\PYZus{}test\\PYZus{}generator}\\PY{p}{(}\\PY{n}{N}\\PY{p}{,} \\PY{n}{gammavariate}\\PY{p}{,} \\PY{p}{(}\\PY{l+m+mf}{0.01}\\PY{p}{,} \\PY{l+m+mf}{1.0}\\PY{p}{)}\\PY{p}{)}\n",
       "    \\PY{n}{\\PYZus{}test\\PYZus{}generator}\\PY{p}{(}\\PY{n}{N}\\PY{p}{,} \\PY{n}{gammavariate}\\PY{p}{,} \\PY{p}{(}\\PY{l+m+mf}{0.1}\\PY{p}{,} \\PY{l+m+mf}{1.0}\\PY{p}{)}\\PY{p}{)}\n",
       "    \\PY{n}{\\PYZus{}test\\PYZus{}generator}\\PY{p}{(}\\PY{n}{N}\\PY{p}{,} \\PY{n}{gammavariate}\\PY{p}{,} \\PY{p}{(}\\PY{l+m+mf}{0.1}\\PY{p}{,} \\PY{l+m+mf}{2.0}\\PY{p}{)}\\PY{p}{)}\n",
       "    \\PY{n}{\\PYZus{}test\\PYZus{}generator}\\PY{p}{(}\\PY{n}{N}\\PY{p}{,} \\PY{n}{gammavariate}\\PY{p}{,} \\PY{p}{(}\\PY{l+m+mf}{0.5}\\PY{p}{,} \\PY{l+m+mf}{1.0}\\PY{p}{)}\\PY{p}{)}\n",
       "    \\PY{n}{\\PYZus{}test\\PYZus{}generator}\\PY{p}{(}\\PY{n}{N}\\PY{p}{,} \\PY{n}{gammavariate}\\PY{p}{,} \\PY{p}{(}\\PY{l+m+mf}{0.9}\\PY{p}{,} \\PY{l+m+mf}{1.0}\\PY{p}{)}\\PY{p}{)}\n",
       "    \\PY{n}{\\PYZus{}test\\PYZus{}generator}\\PY{p}{(}\\PY{n}{N}\\PY{p}{,} \\PY{n}{gammavariate}\\PY{p}{,} \\PY{p}{(}\\PY{l+m+mf}{1.0}\\PY{p}{,} \\PY{l+m+mf}{1.0}\\PY{p}{)}\\PY{p}{)}\n",
       "    \\PY{n}{\\PYZus{}test\\PYZus{}generator}\\PY{p}{(}\\PY{n}{N}\\PY{p}{,} \\PY{n}{gammavariate}\\PY{p}{,} \\PY{p}{(}\\PY{l+m+mf}{2.0}\\PY{p}{,} \\PY{l+m+mf}{1.0}\\PY{p}{)}\\PY{p}{)}\n",
       "    \\PY{n}{\\PYZus{}test\\PYZus{}generator}\\PY{p}{(}\\PY{n}{N}\\PY{p}{,} \\PY{n}{gammavariate}\\PY{p}{,} \\PY{p}{(}\\PY{l+m+mf}{20.0}\\PY{p}{,} \\PY{l+m+mf}{1.0}\\PY{p}{)}\\PY{p}{)}\n",
       "    \\PY{n}{\\PYZus{}test\\PYZus{}generator}\\PY{p}{(}\\PY{n}{N}\\PY{p}{,} \\PY{n}{gammavariate}\\PY{p}{,} \\PY{p}{(}\\PY{l+m+mf}{200.0}\\PY{p}{,} \\PY{l+m+mf}{1.0}\\PY{p}{)}\\PY{p}{)}\n",
       "    \\PY{n}{\\PYZus{}test\\PYZus{}generator}\\PY{p}{(}\\PY{n}{N}\\PY{p}{,} \\PY{n}{gauss}\\PY{p}{,} \\PY{p}{(}\\PY{l+m+mf}{0.0}\\PY{p}{,} \\PY{l+m+mf}{1.0}\\PY{p}{)}\\PY{p}{)}\n",
       "    \\PY{n}{\\PYZus{}test\\PYZus{}generator}\\PY{p}{(}\\PY{n}{N}\\PY{p}{,} \\PY{n}{betavariate}\\PY{p}{,} \\PY{p}{(}\\PY{l+m+mf}{3.0}\\PY{p}{,} \\PY{l+m+mf}{3.0}\\PY{p}{)}\\PY{p}{)}\n",
       "    \\PY{n}{\\PYZus{}test\\PYZus{}generator}\\PY{p}{(}\\PY{n}{N}\\PY{p}{,} \\PY{n}{triangular}\\PY{p}{,} \\PY{p}{(}\\PY{l+m+mf}{0.0}\\PY{p}{,} \\PY{l+m+mf}{1.0}\\PY{p}{,} \\PY{l+m+mf}{1.0} \\PY{o}{/} \\PY{l+m+mf}{3.0}\\PY{p}{)}\\PY{p}{)}\n",
       "\n",
       "\n",
       "\\PY{c+c1}{\\PYZsh{}\\PYZsh{} \\PYZhy{}\\PYZhy{}\\PYZhy{}\\PYZhy{}\\PYZhy{}\\PYZhy{}\\PYZhy{}\\PYZhy{}\\PYZhy{}\\PYZhy{}\\PYZhy{}\\PYZhy{}\\PYZhy{}\\PYZhy{}\\PYZhy{}\\PYZhy{}\\PYZhy{}\\PYZhy{}\\PYZhy{}\\PYZhy{}\\PYZhy{}\\PYZhy{}\\PYZhy{}\\PYZhy{}\\PYZhy{}\\PYZhy{}\\PYZhy{}\\PYZhy{}\\PYZhy{}\\PYZhy{}\\PYZhy{}\\PYZhy{}\\PYZhy{}\\PYZhy{}\\PYZhy{}\\PYZhy{}\\PYZhy{}\\PYZhy{}\\PYZhy{}\\PYZhy{}\\PYZhy{}\\PYZhy{}\\PYZhy{}\\PYZhy{}\\PYZhy{}\\PYZhy{}\\PYZhy{}\\PYZhy{}\\PYZhy{}\\PYZhy{}\\PYZhy{}\\PYZhy{}\\PYZhy{}\\PYZhy{}}\n",
       "\\PY{c+c1}{\\PYZsh{}\\PYZsh{} \\PYZhy{}\\PYZhy{}\\PYZhy{}\\PYZhy{}\\PYZhy{}\\PYZhy{}\\PYZhy{}\\PYZhy{}\\PYZhy{}\\PYZhy{}\\PYZhy{}\\PYZhy{}\\PYZhy{}\\PYZhy{}\\PYZhy{}\\PYZhy{}\\PYZhy{}\\PYZhy{} fork support  \\PYZhy{}\\PYZhy{}\\PYZhy{}\\PYZhy{}\\PYZhy{}\\PYZhy{}\\PYZhy{}\\PYZhy{}\\PYZhy{}\\PYZhy{}\\PYZhy{}\\PYZhy{}\\PYZhy{}\\PYZhy{}\\PYZhy{}\\PYZhy{}\\PYZhy{}\\PYZhy{}\\PYZhy{}\\PYZhy{}\\PYZhy{}}\n",
       "\n",
       "\\PY{k}{if} \\PY{n+nb}{hasattr}\\PY{p}{(}\\PY{n}{\\PYZus{}os}\\PY{p}{,} \\PY{l+s+s2}{\\PYZdq{}}\\PY{l+s+s2}{fork}\\PY{l+s+s2}{\\PYZdq{}}\\PY{p}{)}\\PY{p}{:}\n",
       "    \\PY{n}{\\PYZus{}os}\\PY{o}{.}\\PY{n}{register\\PYZus{}at\\PYZus{}fork}\\PY{p}{(}\\PY{n}{after\\PYZus{}in\\PYZus{}child}\\PY{o}{=}\\PY{n}{\\PYZus{}inst}\\PY{o}{.}\\PY{n}{seed}\\PY{p}{)}\n",
       "\n",
       "\n",
       "\\PY{k}{if} \\PY{n+nv+vm}{\\PYZus{}\\PYZus{}name\\PYZus{}\\PYZus{}} \\PY{o}{==} \\PY{l+s+s1}{\\PYZsq{}}\\PY{l+s+s1}{\\PYZus{}\\PYZus{}main\\PYZus{}\\PYZus{}}\\PY{l+s+s1}{\\PYZsq{}}\\PY{p}{:}\n",
       "    \\PY{n}{\\PYZus{}test}\\PY{p}{(}\\PY{p}{)}\n",
       "\\end{Verbatim}\n"
      ],
      "text/plain": [
       "\"\"\"Random variable generators.\n",
       "\n",
       "    bytes\n",
       "    -----\n",
       "           uniform bytes (values between 0 and 255)\n",
       "\n",
       "    integers\n",
       "    --------\n",
       "           uniform within range\n",
       "\n",
       "    sequences\n",
       "    ---------\n",
       "           pick random element\n",
       "           pick random sample\n",
       "           pick weighted random sample\n",
       "           generate random permutation\n",
       "\n",
       "    distributions on the real line:\n",
       "    ------------------------------\n",
       "           uniform\n",
       "           triangular\n",
       "           normal (Gaussian)\n",
       "           lognormal\n",
       "           negative exponential\n",
       "           gamma\n",
       "           beta\n",
       "           pareto\n",
       "           Weibull\n",
       "\n",
       "    distributions on the circle (angles 0 to 2pi)\n",
       "    ---------------------------------------------\n",
       "           circular uniform\n",
       "           von Mises\n",
       "\n",
       "General notes on the underlying Mersenne Twister core generator:\n",
       "\n",
       "* The period is 2**19937-1.\n",
       "* It is one of the most extensively tested generators in existence.\n",
       "* The random() method is implemented in C, executes in a single Python step,\n",
       "  and is, therefore, threadsafe.\n",
       "\n",
       "\"\"\"\n",
       "\n",
       "# Translated by Guido van Rossum from C source provided by\n",
       "# Adrian Baddeley.  Adapted by Raymond Hettinger for use with\n",
       "# the Mersenne Twister  and os.urandom() core generators.\n",
       "\n",
       "from warnings import warn as _warn\n",
       "from math import log as _log, exp as _exp, pi as _pi, e as _e, ceil as _ceil\n",
       "from math import sqrt as _sqrt, acos as _acos, cos as _cos, sin as _sin\n",
       "from math import tau as TWOPI, floor as _floor, isfinite as _isfinite\n",
       "from os import urandom as _urandom\n",
       "from _collections_abc import Set as _Set, Sequence as _Sequence\n",
       "from operator import index as _index\n",
       "from itertools import accumulate as _accumulate, repeat as _repeat\n",
       "from bisect import bisect as _bisect\n",
       "import os as _os\n",
       "import _random\n",
       "\n",
       "try:\n",
       "    # hashlib is pretty heavy to load, try lean internal module first\n",
       "    from _sha512 import sha512 as _sha512\n",
       "except ImportError:\n",
       "    # fallback to official implementation\n",
       "    from hashlib import sha512 as _sha512\n",
       "\n",
       "__all__ = [\n",
       "    \"Random\",\n",
       "    \"SystemRandom\",\n",
       "    \"betavariate\",\n",
       "    \"choice\",\n",
       "    \"choices\",\n",
       "    \"expovariate\",\n",
       "    \"gammavariate\",\n",
       "    \"gauss\",\n",
       "    \"getrandbits\",\n",
       "    \"getstate\",\n",
       "    \"lognormvariate\",\n",
       "    \"normalvariate\",\n",
       "    \"paretovariate\",\n",
       "    \"randbytes\",\n",
       "    \"randint\",\n",
       "    \"random\",\n",
       "    \"randrange\",\n",
       "    \"sample\",\n",
       "    \"seed\",\n",
       "    \"setstate\",\n",
       "    \"shuffle\",\n",
       "    \"triangular\",\n",
       "    \"uniform\",\n",
       "    \"vonmisesvariate\",\n",
       "    \"weibullvariate\",\n",
       "]\n",
       "\n",
       "NV_MAGICCONST = 4 * _exp(-0.5) / _sqrt(2.0)\n",
       "LOG4 = _log(4.0)\n",
       "SG_MAGICCONST = 1.0 + _log(4.5)\n",
       "BPF = 53        # Number of bits in a float\n",
       "RECIP_BPF = 2 ** -BPF\n",
       "_ONE = 1\n",
       "\n",
       "\n",
       "class Random(_random.Random):\n",
       "    \"\"\"Random number generator base class used by bound module functions.\n",
       "\n",
       "    Used to instantiate instances of Random to get generators that don't\n",
       "    share state.\n",
       "\n",
       "    Class Random can also be subclassed if you want to use a different basic\n",
       "    generator of your own devising: in that case, override the following\n",
       "    methods:  random(), seed(), getstate(), and setstate().\n",
       "    Optionally, implement a getrandbits() method so that randrange()\n",
       "    can cover arbitrarily large ranges.\n",
       "\n",
       "    \"\"\"\n",
       "\n",
       "    VERSION = 3     # used by getstate/setstate\n",
       "\n",
       "    def __init__(self, x=None):\n",
       "        \"\"\"Initialize an instance.\n",
       "\n",
       "        Optional argument x controls seeding, as for Random.seed().\n",
       "        \"\"\"\n",
       "\n",
       "        self.seed(x)\n",
       "        self.gauss_next = None\n",
       "\n",
       "    def seed(self, a=None, version=2):\n",
       "        \"\"\"Initialize internal state from a seed.\n",
       "\n",
       "        The only supported seed types are None, int, float,\n",
       "        str, bytes, and bytearray.\n",
       "\n",
       "        None or no argument seeds from current time or from an operating\n",
       "        system specific randomness source if available.\n",
       "\n",
       "        If *a* is an int, all bits are used.\n",
       "\n",
       "        For version 2 (the default), all of the bits are used if *a* is a str,\n",
       "        bytes, or bytearray.  For version 1 (provided for reproducing random\n",
       "        sequences from older versions of Python), the algorithm for str and\n",
       "        bytes generates a narrower range of seeds.\n",
       "\n",
       "        \"\"\"\n",
       "\n",
       "        if version == 1 and isinstance(a, (str, bytes)):\n",
       "            a = a.decode('latin-1') if isinstance(a, bytes) else a\n",
       "            x = ord(a[0]) << 7 if a else 0\n",
       "            for c in map(ord, a):\n",
       "                x = ((1000003 * x) ^ c) & 0xFFFFFFFFFFFFFFFF\n",
       "            x ^= len(a)\n",
       "            a = -2 if x == -1 else x\n",
       "\n",
       "        elif version == 2 and isinstance(a, (str, bytes, bytearray)):\n",
       "            if isinstance(a, str):\n",
       "                a = a.encode()\n",
       "            a = int.from_bytes(a + _sha512(a).digest())\n",
       "\n",
       "        elif not isinstance(a, (type(None), int, float, str, bytes, bytearray)):\n",
       "            raise TypeError('The only supported seed types are: None,\\n'\n",
       "                            'int, float, str, bytes, and bytearray.')\n",
       "\n",
       "        super().seed(a)\n",
       "        self.gauss_next = None\n",
       "\n",
       "    def getstate(self):\n",
       "        \"\"\"Return internal state; can be passed to setstate() later.\"\"\"\n",
       "        return self.VERSION, super().getstate(), self.gauss_next\n",
       "\n",
       "    def setstate(self, state):\n",
       "        \"\"\"Restore internal state from object returned by getstate().\"\"\"\n",
       "        version = state[0]\n",
       "        if version == 3:\n",
       "            version, internalstate, self.gauss_next = state\n",
       "            super().setstate(internalstate)\n",
       "        elif version == 2:\n",
       "            version, internalstate, self.gauss_next = state\n",
       "            # In version 2, the state was saved as signed ints, which causes\n",
       "            #   inconsistencies between 32/64-bit systems. The state is\n",
       "            #   really unsigned 32-bit ints, so we convert negative ints from\n",
       "            #   version 2 to positive longs for version 3.\n",
       "            try:\n",
       "                internalstate = tuple(x % (2 ** 32) for x in internalstate)\n",
       "            except ValueError as e:\n",
       "                raise TypeError from e\n",
       "            super().setstate(internalstate)\n",
       "        else:\n",
       "            raise ValueError(\"state with version %s passed to \"\n",
       "                             \"Random.setstate() of version %s\" %\n",
       "                             (version, self.VERSION))\n",
       "\n",
       "\n",
       "    ## -------------------------------------------------------\n",
       "    ## ---- Methods below this point do not need to be overridden or extended\n",
       "    ## ---- when subclassing for the purpose of using a different core generator.\n",
       "\n",
       "\n",
       "    ## -------------------- pickle support  -------------------\n",
       "\n",
       "    # Issue 17489: Since __reduce__ was defined to fix #759889 this is no\n",
       "    # longer called; we leave it here because it has been here since random was\n",
       "    # rewritten back in 2001 and why risk breaking something.\n",
       "    def __getstate__(self):  # for pickle\n",
       "        return self.getstate()\n",
       "\n",
       "    def __setstate__(self, state):  # for pickle\n",
       "        self.setstate(state)\n",
       "\n",
       "    def __reduce__(self):\n",
       "        return self.__class__, (), self.getstate()\n",
       "\n",
       "\n",
       "    ## ---- internal support method for evenly distributed integers ----\n",
       "\n",
       "    def __init_subclass__(cls, /, **kwargs):\n",
       "        \"\"\"Control how subclasses generate random integers.\n",
       "\n",
       "        The algorithm a subclass can use depends on the random() and/or\n",
       "        getrandbits() implementation available to it and determines\n",
       "        whether it can generate random integers from arbitrarily large\n",
       "        ranges.\n",
       "        \"\"\"\n",
       "\n",
       "        for c in cls.__mro__:\n",
       "            if '_randbelow' in c.__dict__:\n",
       "                # just inherit it\n",
       "                break\n",
       "            if 'getrandbits' in c.__dict__:\n",
       "                cls._randbelow = cls._randbelow_with_getrandbits\n",
       "                break\n",
       "            if 'random' in c.__dict__:\n",
       "                cls._randbelow = cls._randbelow_without_getrandbits\n",
       "                break\n",
       "\n",
       "    def _randbelow_with_getrandbits(self, n):\n",
       "        \"Return a random int in the range [0,n).  Defined for n > 0.\"\n",
       "\n",
       "        getrandbits = self.getrandbits\n",
       "        k = n.bit_length()  # don't use (n-1) here because n can be 1\n",
       "        r = getrandbits(k)  # 0 <= r < 2**k\n",
       "        while r >= n:\n",
       "            r = getrandbits(k)\n",
       "        return r\n",
       "\n",
       "    def _randbelow_without_getrandbits(self, n, maxsize=1<<BPF):\n",
       "        \"\"\"Return a random int in the range [0,n).  Defined for n > 0.\n",
       "\n",
       "        The implementation does not use getrandbits, but only random.\n",
       "        \"\"\"\n",
       "\n",
       "        random = self.random\n",
       "        if n >= maxsize:\n",
       "            _warn(\"Underlying random() generator does not supply \\n\"\n",
       "                \"enough bits to choose from a population range this large.\\n\"\n",
       "                \"To remove the range limitation, add a getrandbits() method.\")\n",
       "            return _floor(random() * n)\n",
       "        rem = maxsize % n\n",
       "        limit = (maxsize - rem) / maxsize   # int(limit * maxsize) % n == 0\n",
       "        r = random()\n",
       "        while r >= limit:\n",
       "            r = random()\n",
       "        return _floor(r * maxsize) % n\n",
       "\n",
       "    _randbelow = _randbelow_with_getrandbits\n",
       "\n",
       "\n",
       "    ## --------------------------------------------------------\n",
       "    ## ---- Methods below this point generate custom distributions\n",
       "    ## ---- based on the methods defined above.  They do not\n",
       "    ## ---- directly touch the underlying generator and only\n",
       "    ## ---- access randomness through the methods:  random(),\n",
       "    ## ---- getrandbits(), or _randbelow().\n",
       "\n",
       "\n",
       "    ## -------------------- bytes methods ---------------------\n",
       "\n",
       "    def randbytes(self, n):\n",
       "        \"\"\"Generate n random bytes.\"\"\"\n",
       "        return self.getrandbits(n * 8).to_bytes(n, 'little')\n",
       "\n",
       "\n",
       "    ## -------------------- integer methods  -------------------\n",
       "\n",
       "    def randrange(self, start, stop=None, step=_ONE):\n",
       "        \"\"\"Choose a random item from range(stop) or range(start, stop[, step]).\n",
       "\n",
       "        Roughly equivalent to ``choice(range(start, stop, step))`` but\n",
       "        supports arbitrarily large ranges and is optimized for common cases.\n",
       "\n",
       "        \"\"\"\n",
       "\n",
       "        # This code is a bit messy to make it fast for the\n",
       "        # common case while still doing adequate error checking.\n",
       "        try:\n",
       "            istart = _index(start)\n",
       "        except TypeError:\n",
       "            istart = int(start)\n",
       "            if istart != start:\n",
       "                _warn('randrange() will raise TypeError in the future',\n",
       "                      DeprecationWarning, 2)\n",
       "                raise ValueError(\"non-integer arg 1 for randrange()\")\n",
       "            _warn('non-integer arguments to randrange() have been deprecated '\n",
       "                  'since Python 3.10 and will be removed in a subsequent '\n",
       "                  'version',\n",
       "                  DeprecationWarning, 2)\n",
       "        if stop is None:\n",
       "            # We don't check for \"step != 1\" because it hasn't been\n",
       "            # type checked and converted to an integer yet.\n",
       "            if step is not _ONE:\n",
       "                raise TypeError('Missing a non-None stop argument')\n",
       "            if istart > 0:\n",
       "                return self._randbelow(istart)\n",
       "            raise ValueError(\"empty range for randrange()\")\n",
       "\n",
       "        # stop argument supplied.\n",
       "        try:\n",
       "            istop = _index(stop)\n",
       "        except TypeError:\n",
       "            istop = int(stop)\n",
       "            if istop != stop:\n",
       "                _warn('randrange() will raise TypeError in the future',\n",
       "                      DeprecationWarning, 2)\n",
       "                raise ValueError(\"non-integer stop for randrange()\")\n",
       "            _warn('non-integer arguments to randrange() have been deprecated '\n",
       "                  'since Python 3.10 and will be removed in a subsequent '\n",
       "                  'version',\n",
       "                  DeprecationWarning, 2)\n",
       "        width = istop - istart\n",
       "        try:\n",
       "            istep = _index(step)\n",
       "        except TypeError:\n",
       "            istep = int(step)\n",
       "            if istep != step:\n",
       "                _warn('randrange() will raise TypeError in the future',\n",
       "                      DeprecationWarning, 2)\n",
       "                raise ValueError(\"non-integer step for randrange()\")\n",
       "            _warn('non-integer arguments to randrange() have been deprecated '\n",
       "                  'since Python 3.10 and will be removed in a subsequent '\n",
       "                  'version',\n",
       "                  DeprecationWarning, 2)\n",
       "        # Fast path.\n",
       "        if istep == 1:\n",
       "            if width > 0:\n",
       "                return istart + self._randbelow(width)\n",
       "            raise ValueError(\"empty range for randrange() (%d, %d, %d)\" % (istart, istop, width))\n",
       "\n",
       "        # Non-unit step argument supplied.\n",
       "        if istep > 0:\n",
       "            n = (width + istep - 1) // istep\n",
       "        elif istep < 0:\n",
       "            n = (width + istep + 1) // istep\n",
       "        else:\n",
       "            raise ValueError(\"zero step for randrange()\")\n",
       "        if n <= 0:\n",
       "            raise ValueError(\"empty range for randrange()\")\n",
       "        return istart + istep * self._randbelow(n)\n",
       "\n",
       "    def randint(self, a, b):\n",
       "        \"\"\"Return random integer in range [a, b], including both end points.\n",
       "        \"\"\"\n",
       "\n",
       "        return self.randrange(a, b+1)\n",
       "\n",
       "\n",
       "    ## -------------------- sequence methods  -------------------\n",
       "\n",
       "    def choice(self, seq):\n",
       "        \"\"\"Choose a random element from a non-empty sequence.\"\"\"\n",
       "\n",
       "        # As an accommodation for NumPy, we don't use \"if not seq\"\n",
       "        # because bool(numpy.array()) raises a ValueError.\n",
       "        if not len(seq):\n",
       "            raise IndexError('Cannot choose from an empty sequence')\n",
       "        return seq[self._randbelow(len(seq))]\n",
       "\n",
       "    def shuffle(self, x):\n",
       "        \"\"\"Shuffle list x in place, and return None.\"\"\"\n",
       "\n",
       "        randbelow = self._randbelow\n",
       "        for i in reversed(range(1, len(x))):\n",
       "            # pick an element in x[:i+1] with which to exchange x[i]\n",
       "            j = randbelow(i + 1)\n",
       "            x[i], x[j] = x[j], x[i]\n",
       "\n",
       "    def sample(self, population, k, *, counts=None):\n",
       "        \"\"\"Chooses k unique random elements from a population sequence.\n",
       "\n",
       "        Returns a new list containing elements from the population while\n",
       "        leaving the original population unchanged.  The resulting list is\n",
       "        in selection order so that all sub-slices will also be valid random\n",
       "        samples.  This allows raffle winners (the sample) to be partitioned\n",
       "        into grand prize and second place winners (the subslices).\n",
       "\n",
       "        Members of the population need not be hashable or unique.  If the\n",
       "        population contains repeats, then each occurrence is a possible\n",
       "        selection in the sample.\n",
       "\n",
       "        Repeated elements can be specified one at a time or with the optional\n",
       "        counts parameter.  For example:\n",
       "\n",
       "            sample(['red', 'blue'], counts=[4, 2], k=5)\n",
       "\n",
       "        is equivalent to:\n",
       "\n",
       "            sample(['red', 'red', 'red', 'red', 'blue', 'blue'], k=5)\n",
       "\n",
       "        To choose a sample from a range of integers, use range() for the\n",
       "        population argument.  This is especially fast and space efficient\n",
       "        for sampling from a large population:\n",
       "\n",
       "            sample(range(10000000), 60)\n",
       "\n",
       "        \"\"\"\n",
       "\n",
       "        # Sampling without replacement entails tracking either potential\n",
       "        # selections (the pool) in a list or previous selections in a set.\n",
       "\n",
       "        # When the number of selections is small compared to the\n",
       "        # population, then tracking selections is efficient, requiring\n",
       "        # only a small set and an occasional reselection.  For\n",
       "        # a larger number of selections, the pool tracking method is\n",
       "        # preferred since the list takes less space than the\n",
       "        # set and it doesn't suffer from frequent reselections.\n",
       "\n",
       "        # The number of calls to _randbelow() is kept at or near k, the\n",
       "        # theoretical minimum.  This is important because running time\n",
       "        # is dominated by _randbelow() and because it extracts the\n",
       "        # least entropy from the underlying random number generators.\n",
       "\n",
       "        # Memory requirements are kept to the smaller of a k-length\n",
       "        # set or an n-length list.\n",
       "\n",
       "        # There are other sampling algorithms that do not require\n",
       "        # auxiliary memory, but they were rejected because they made\n",
       "        # too many calls to _randbelow(), making them slower and\n",
       "        # causing them to eat more entropy than necessary.\n",
       "\n",
       "        if not isinstance(population, _Sequence):\n",
       "            raise TypeError(\"Population must be a sequence.  \"\n",
       "                            \"For dicts or sets, use sorted(d).\")\n",
       "        n = len(population)\n",
       "        if counts is not None:\n",
       "            cum_counts = list(_accumulate(counts))\n",
       "            if len(cum_counts) != n:\n",
       "                raise ValueError('The number of counts does not match the population')\n",
       "            total = cum_counts.pop()\n",
       "            if not isinstance(total, int):\n",
       "                raise TypeError('Counts must be integers')\n",
       "            if total <= 0:\n",
       "                raise ValueError('Total of counts must be greater than zero')\n",
       "            selections = self.sample(range(total), k=k)\n",
       "            bisect = _bisect\n",
       "            return [population[bisect(cum_counts, s)] for s in selections]\n",
       "        randbelow = self._randbelow\n",
       "        if not 0 <= k <= n:\n",
       "            raise ValueError(\"Sample larger than population or is negative\")\n",
       "        result = [None] * k\n",
       "        setsize = 21        # size of a small set minus size of an empty list\n",
       "        if k > 5:\n",
       "            setsize += 4 ** _ceil(_log(k * 3, 4))  # table size for big sets\n",
       "        if n <= setsize:\n",
       "            # An n-length list is smaller than a k-length set.\n",
       "            # Invariant:  non-selected at pool[0 : n-i]\n",
       "            pool = list(population)\n",
       "            for i in range(k):\n",
       "                j = randbelow(n - i)\n",
       "                result[i] = pool[j]\n",
       "                pool[j] = pool[n - i - 1]  # move non-selected item into vacancy\n",
       "        else:\n",
       "            selected = set()\n",
       "            selected_add = selected.add\n",
       "            for i in range(k):\n",
       "                j = randbelow(n)\n",
       "                while j in selected:\n",
       "                    j = randbelow(n)\n",
       "                selected_add(j)\n",
       "                result[i] = population[j]\n",
       "        return result\n",
       "\n",
       "    def choices(self, population, weights=None, *, cum_weights=None, k=1):\n",
       "        \"\"\"Return a k sized list of population elements chosen with replacement.\n",
       "\n",
       "        If the relative weights or cumulative weights are not specified,\n",
       "        the selections are made with equal probability.\n",
       "\n",
       "        \"\"\"\n",
       "        random = self.random\n",
       "        n = len(population)\n",
       "        if cum_weights is None:\n",
       "            if weights is None:\n",
       "                floor = _floor\n",
       "                n += 0.0    # convert to float for a small speed improvement\n",
       "                return [population[floor(random() * n)] for i in _repeat(None, k)]\n",
       "            try:\n",
       "                cum_weights = list(_accumulate(weights))\n",
       "            except TypeError:\n",
       "                if not isinstance(weights, int):\n",
       "                    raise\n",
       "                k = weights\n",
       "                raise TypeError(\n",
       "                    f'The number of choices must be a keyword argument: {k=}'\n",
       "                ) from None\n",
       "        elif weights is not None:\n",
       "            raise TypeError('Cannot specify both weights and cumulative weights')\n",
       "        if len(cum_weights) != n:\n",
       "            raise ValueError('The number of weights does not match the population')\n",
       "        total = cum_weights[-1] + 0.0   # convert to float\n",
       "        if total <= 0.0:\n",
       "            raise ValueError('Total of weights must be greater than zero')\n",
       "        if not _isfinite(total):\n",
       "            raise ValueError('Total of weights must be finite')\n",
       "        bisect = _bisect\n",
       "        hi = n - 1\n",
       "        return [population[bisect(cum_weights, random() * total, 0, hi)]\n",
       "                for i in _repeat(None, k)]\n",
       "\n",
       "\n",
       "    ## -------------------- real-valued distributions  -------------------\n",
       "\n",
       "    def uniform(self, a, b):\n",
       "        \"Get a random number in the range [a, b) or [a, b] depending on rounding.\"\n",
       "        return a + (b - a) * self.random()\n",
       "\n",
       "    def triangular(self, low=0.0, high=1.0, mode=None):\n",
       "        \"\"\"Triangular distribution.\n",
       "\n",
       "        Continuous distribution bounded by given lower and upper limits,\n",
       "        and having a given mode value in-between.\n",
       "\n",
       "        http://en.wikipedia.org/wiki/Triangular_distribution\n",
       "\n",
       "        \"\"\"\n",
       "        u = self.random()\n",
       "        try:\n",
       "            c = 0.5 if mode is None else (mode - low) / (high - low)\n",
       "        except ZeroDivisionError:\n",
       "            return low\n",
       "        if u > c:\n",
       "            u = 1.0 - u\n",
       "            c = 1.0 - c\n",
       "            low, high = high, low\n",
       "        return low + (high - low) * _sqrt(u * c)\n",
       "\n",
       "    def normalvariate(self, mu=0.0, sigma=1.0):\n",
       "        \"\"\"Normal distribution.\n",
       "\n",
       "        mu is the mean, and sigma is the standard deviation.\n",
       "\n",
       "        \"\"\"\n",
       "        # Uses Kinderman and Monahan method. Reference: Kinderman,\n",
       "        # A.J. and Monahan, J.F., \"Computer generation of random\n",
       "        # variables using the ratio of uniform deviates\", ACM Trans\n",
       "        # Math Software, 3, (1977), pp257-260.\n",
       "\n",
       "        random = self.random\n",
       "        while True:\n",
       "            u1 = random()\n",
       "            u2 = 1.0 - random()\n",
       "            z = NV_MAGICCONST * (u1 - 0.5) / u2\n",
       "            zz = z * z / 4.0\n",
       "            if zz <= -_log(u2):\n",
       "                break\n",
       "        return mu + z * sigma\n",
       "\n",
       "    def gauss(self, mu=0.0, sigma=1.0):\n",
       "        \"\"\"Gaussian distribution.\n",
       "\n",
       "        mu is the mean, and sigma is the standard deviation.  This is\n",
       "        slightly faster than the normalvariate() function.\n",
       "\n",
       "        Not thread-safe without a lock around calls.\n",
       "\n",
       "        \"\"\"\n",
       "        # When x and y are two variables from [0, 1), uniformly\n",
       "        # distributed, then\n",
       "        #\n",
       "        #    cos(2*pi*x)*sqrt(-2*log(1-y))\n",
       "        #    sin(2*pi*x)*sqrt(-2*log(1-y))\n",
       "        #\n",
       "        # are two *independent* variables with normal distribution\n",
       "        # (mu = 0, sigma = 1).\n",
       "        # (Lambert Meertens)\n",
       "        # (corrected version; bug discovered by Mike Miller, fixed by LM)\n",
       "\n",
       "        # Multithreading note: When two threads call this function\n",
       "        # simultaneously, it is possible that they will receive the\n",
       "        # same return value.  The window is very small though.  To\n",
       "        # avoid this, you have to use a lock around all calls.  (I\n",
       "        # didn't want to slow this down in the serial case by using a\n",
       "        # lock here.)\n",
       "\n",
       "        random = self.random\n",
       "        z = self.gauss_next\n",
       "        self.gauss_next = None\n",
       "        if z is None:\n",
       "            x2pi = random() * TWOPI\n",
       "            g2rad = _sqrt(-2.0 * _log(1.0 - random()))\n",
       "            z = _cos(x2pi) * g2rad\n",
       "            self.gauss_next = _sin(x2pi) * g2rad\n",
       "\n",
       "        return mu + z * sigma\n",
       "\n",
       "    def lognormvariate(self, mu, sigma):\n",
       "        \"\"\"Log normal distribution.\n",
       "\n",
       "        If you take the natural logarithm of this distribution, you'll get a\n",
       "        normal distribution with mean mu and standard deviation sigma.\n",
       "        mu can have any value, and sigma must be greater than zero.\n",
       "\n",
       "        \"\"\"\n",
       "        return _exp(self.normalvariate(mu, sigma))\n",
       "\n",
       "    def expovariate(self, lambd):\n",
       "        \"\"\"Exponential distribution.\n",
       "\n",
       "        lambd is 1.0 divided by the desired mean.  It should be\n",
       "        nonzero.  (The parameter would be called \"lambda\", but that is\n",
       "        a reserved word in Python.)  Returned values range from 0 to\n",
       "        positive infinity if lambd is positive, and from negative\n",
       "        infinity to 0 if lambd is negative.\n",
       "\n",
       "        \"\"\"\n",
       "        # lambd: rate lambd = 1/mean\n",
       "        # ('lambda' is a Python reserved word)\n",
       "\n",
       "        # we use 1-random() instead of random() to preclude the\n",
       "        # possibility of taking the log of zero.\n",
       "        return -_log(1.0 - self.random()) / lambd\n",
       "\n",
       "    def vonmisesvariate(self, mu, kappa):\n",
       "        \"\"\"Circular data distribution.\n",
       "\n",
       "        mu is the mean angle, expressed in radians between 0 and 2*pi, and\n",
       "        kappa is the concentration parameter, which must be greater than or\n",
       "        equal to zero.  If kappa is equal to zero, this distribution reduces\n",
       "        to a uniform random angle over the range 0 to 2*pi.\n",
       "\n",
       "        \"\"\"\n",
       "        # Based upon an algorithm published in: Fisher, N.I.,\n",
       "        # \"Statistical Analysis of Circular Data\", Cambridge\n",
       "        # University Press, 1993.\n",
       "\n",
       "        # Thanks to Magnus Kessler for a correction to the\n",
       "        # implementation of step 4.\n",
       "\n",
       "        random = self.random\n",
       "        if kappa <= 1e-6:\n",
       "            return TWOPI * random()\n",
       "\n",
       "        s = 0.5 / kappa\n",
       "        r = s + _sqrt(1.0 + s * s)\n",
       "\n",
       "        while True:\n",
       "            u1 = random()\n",
       "            z = _cos(_pi * u1)\n",
       "\n",
       "            d = z / (r + z)\n",
       "            u2 = random()\n",
       "            if u2 < 1.0 - d * d or u2 <= (1.0 - d) * _exp(d):\n",
       "                break\n",
       "\n",
       "        q = 1.0 / r\n",
       "        f = (q + z) / (1.0 + q * z)\n",
       "        u3 = random()\n",
       "        if u3 > 0.5:\n",
       "            theta = (mu + _acos(f)) % TWOPI\n",
       "        else:\n",
       "            theta = (mu - _acos(f)) % TWOPI\n",
       "\n",
       "        return theta\n",
       "\n",
       "    def gammavariate(self, alpha, beta):\n",
       "        \"\"\"Gamma distribution.  Not the gamma function!\n",
       "\n",
       "        Conditions on the parameters are alpha > 0 and beta > 0.\n",
       "\n",
       "        The probability distribution function is:\n",
       "\n",
       "                    x ** (alpha - 1) * math.exp(-x / beta)\n",
       "          pdf(x) =  --------------------------------------\n",
       "                      math.gamma(alpha) * beta ** alpha\n",
       "\n",
       "        \"\"\"\n",
       "        # alpha > 0, beta > 0, mean is alpha*beta, variance is alpha*beta**2\n",
       "\n",
       "        # Warning: a few older sources define the gamma distribution in terms\n",
       "        # of alpha > -1.0\n",
       "        if alpha <= 0.0 or beta <= 0.0:\n",
       "            raise ValueError('gammavariate: alpha and beta must be > 0.0')\n",
       "\n",
       "        random = self.random\n",
       "        if alpha > 1.0:\n",
       "\n",
       "            # Uses R.C.H. Cheng, \"The generation of Gamma\n",
       "            # variables with non-integral shape parameters\",\n",
       "            # Applied Statistics, (1977), 26, No. 1, p71-74\n",
       "\n",
       "            ainv = _sqrt(2.0 * alpha - 1.0)\n",
       "            bbb = alpha - LOG4\n",
       "            ccc = alpha + ainv\n",
       "\n",
       "            while True:\n",
       "                u1 = random()\n",
       "                if not 1e-7 < u1 < 0.9999999:\n",
       "                    continue\n",
       "                u2 = 1.0 - random()\n",
       "                v = _log(u1 / (1.0 - u1)) / ainv\n",
       "                x = alpha * _exp(v)\n",
       "                z = u1 * u1 * u2\n",
       "                r = bbb + ccc * v - x\n",
       "                if r + SG_MAGICCONST - 4.5 * z >= 0.0 or r >= _log(z):\n",
       "                    return x * beta\n",
       "\n",
       "        elif alpha == 1.0:\n",
       "            # expovariate(1/beta)\n",
       "            return -_log(1.0 - random()) * beta\n",
       "\n",
       "        else:\n",
       "            # alpha is between 0 and 1 (exclusive)\n",
       "            # Uses ALGORITHM GS of Statistical Computing - Kennedy & Gentle\n",
       "            while True:\n",
       "                u = random()\n",
       "                b = (_e + alpha) / _e\n",
       "                p = b * u\n",
       "                if p <= 1.0:\n",
       "                    x = p ** (1.0 / alpha)\n",
       "                else:\n",
       "                    x = -_log((b - p) / alpha)\n",
       "                u1 = random()\n",
       "                if p > 1.0:\n",
       "                    if u1 <= x ** (alpha - 1.0):\n",
       "                        break\n",
       "                elif u1 <= _exp(-x):\n",
       "                    break\n",
       "            return x * beta\n",
       "\n",
       "    def betavariate(self, alpha, beta):\n",
       "        \"\"\"Beta distribution.\n",
       "\n",
       "        Conditions on the parameters are alpha > 0 and beta > 0.\n",
       "        Returned values range between 0 and 1.\n",
       "\n",
       "        \"\"\"\n",
       "        ## See\n",
       "        ## http://mail.python.org/pipermail/python-bugs-list/2001-January/003752.html\n",
       "        ## for Ivan Frohne's insightful analysis of why the original implementation:\n",
       "        ##\n",
       "        ##    def betavariate(self, alpha, beta):\n",
       "        ##        # Discrete Event Simulation in C, pp 87-88.\n",
       "        ##\n",
       "        ##        y = self.expovariate(alpha)\n",
       "        ##        z = self.expovariate(1.0/beta)\n",
       "        ##        return z/(y+z)\n",
       "        ##\n",
       "        ## was dead wrong, and how it probably got that way.\n",
       "\n",
       "        # This version due to Janne Sinkkonen, and matches all the std\n",
       "        # texts (e.g., Knuth Vol 2 Ed 3 pg 134 \"the beta distribution\").\n",
       "        y = self.gammavariate(alpha, 1.0)\n",
       "        if y:\n",
       "            return y / (y + self.gammavariate(beta, 1.0))\n",
       "        return 0.0\n",
       "\n",
       "    def paretovariate(self, alpha):\n",
       "        \"\"\"Pareto distribution.  alpha is the shape parameter.\"\"\"\n",
       "        # Jain, pg. 495\n",
       "\n",
       "        u = 1.0 - self.random()\n",
       "        return u ** (-1.0 / alpha)\n",
       "\n",
       "    def weibullvariate(self, alpha, beta):\n",
       "        \"\"\"Weibull distribution.\n",
       "\n",
       "        alpha is the scale parameter and beta is the shape parameter.\n",
       "\n",
       "        \"\"\"\n",
       "        # Jain, pg. 499; bug fix courtesy Bill Arms\n",
       "\n",
       "        u = 1.0 - self.random()\n",
       "        return alpha * (-_log(u)) ** (1.0 / beta)\n",
       "\n",
       "\n",
       "## ------------------------------------------------------------------\n",
       "## --------------- Operating System Random Source  ------------------\n",
       "\n",
       "\n",
       "class SystemRandom(Random):\n",
       "    \"\"\"Alternate random number generator using sources provided\n",
       "    by the operating system (such as /dev/urandom on Unix or\n",
       "    CryptGenRandom on Windows).\n",
       "\n",
       "     Not available on all systems (see os.urandom() for details).\n",
       "\n",
       "    \"\"\"\n",
       "\n",
       "    def random(self):\n",
       "        \"\"\"Get the next random number in the range 0.0 <= X < 1.0.\"\"\"\n",
       "        return (int.from_bytes(_urandom(7)) >> 3) * RECIP_BPF\n",
       "\n",
       "    def getrandbits(self, k):\n",
       "        \"\"\"getrandbits(k) -> x.  Generates an int with k random bits.\"\"\"\n",
       "        if k < 0:\n",
       "            raise ValueError('number of bits must be non-negative')\n",
       "        numbytes = (k + 7) // 8                       # bits / 8 and rounded up\n",
       "        x = int.from_bytes(_urandom(numbytes))\n",
       "        return x >> (numbytes * 8 - k)                # trim excess bits\n",
       "\n",
       "    def randbytes(self, n):\n",
       "        \"\"\"Generate n random bytes.\"\"\"\n",
       "        # os.urandom(n) fails with ValueError for n < 0\n",
       "        # and returns an empty bytes string for n == 0.\n",
       "        return _urandom(n)\n",
       "\n",
       "    def seed(self, *args, **kwds):\n",
       "        \"Stub method.  Not used for a system random number generator.\"\n",
       "        return None\n",
       "\n",
       "    def _notimplemented(self, *args, **kwds):\n",
       "        \"Method should not be called for a system random number generator.\"\n",
       "        raise NotImplementedError('System entropy source does not have state.')\n",
       "    getstate = setstate = _notimplemented\n",
       "\n",
       "\n",
       "# ----------------------------------------------------------------------\n",
       "# Create one instance, seeded from current time, and export its methods\n",
       "# as module-level functions.  The functions share state across all uses\n",
       "# (both in the user's code and in the Python libraries), but that's fine\n",
       "# for most programs and is easier for the casual user than making them\n",
       "# instantiate their own Random() instance.\n",
       "\n",
       "_inst = Random()\n",
       "seed = _inst.seed\n",
       "random = _inst.random\n",
       "uniform = _inst.uniform\n",
       "triangular = _inst.triangular\n",
       "randint = _inst.randint\n",
       "choice = _inst.choice\n",
       "randrange = _inst.randrange\n",
       "sample = _inst.sample\n",
       "shuffle = _inst.shuffle\n",
       "choices = _inst.choices\n",
       "normalvariate = _inst.normalvariate\n",
       "lognormvariate = _inst.lognormvariate\n",
       "expovariate = _inst.expovariate\n",
       "vonmisesvariate = _inst.vonmisesvariate\n",
       "gammavariate = _inst.gammavariate\n",
       "gauss = _inst.gauss\n",
       "betavariate = _inst.betavariate\n",
       "paretovariate = _inst.paretovariate\n",
       "weibullvariate = _inst.weibullvariate\n",
       "getstate = _inst.getstate\n",
       "setstate = _inst.setstate\n",
       "getrandbits = _inst.getrandbits\n",
       "randbytes = _inst.randbytes\n",
       "\n",
       "\n",
       "## ------------------------------------------------------\n",
       "## ----------------- test program -----------------------\n",
       "\n",
       "def _test_generator(n, func, args):\n",
       "    from statistics import stdev, fmean as mean\n",
       "    from time import perf_counter\n",
       "\n",
       "    t0 = perf_counter()\n",
       "    data = [func(*args) for i in _repeat(None, n)]\n",
       "    t1 = perf_counter()\n",
       "\n",
       "    xbar = mean(data)\n",
       "    sigma = stdev(data, xbar)\n",
       "    low = min(data)\n",
       "    high = max(data)\n",
       "\n",
       "    print(f'{t1 - t0:.3f} sec, {n} times {func.__name__}')\n",
       "    print('avg %g, stddev %g, min %g, max %g\\n' % (xbar, sigma, low, high))\n",
       "\n",
       "\n",
       "def _test(N=2000):\n",
       "    _test_generator(N, random, ())\n",
       "    _test_generator(N, normalvariate, (0.0, 1.0))\n",
       "    _test_generator(N, lognormvariate, (0.0, 1.0))\n",
       "    _test_generator(N, vonmisesvariate, (0.0, 1.0))\n",
       "    _test_generator(N, gammavariate, (0.01, 1.0))\n",
       "    _test_generator(N, gammavariate, (0.1, 1.0))\n",
       "    _test_generator(N, gammavariate, (0.1, 2.0))\n",
       "    _test_generator(N, gammavariate, (0.5, 1.0))\n",
       "    _test_generator(N, gammavariate, (0.9, 1.0))\n",
       "    _test_generator(N, gammavariate, (1.0, 1.0))\n",
       "    _test_generator(N, gammavariate, (2.0, 1.0))\n",
       "    _test_generator(N, gammavariate, (20.0, 1.0))\n",
       "    _test_generator(N, gammavariate, (200.0, 1.0))\n",
       "    _test_generator(N, gauss, (0.0, 1.0))\n",
       "    _test_generator(N, betavariate, (3.0, 3.0))\n",
       "    _test_generator(N, triangular, (0.0, 1.0, 1.0 / 3.0))\n",
       "\n",
       "\n",
       "## ------------------------------------------------------\n",
       "## ------------------ fork support  ---------------------\n",
       "\n",
       "if hasattr(_os, \"fork\"):\n",
       "    _os.register_at_fork(after_in_child=_inst.seed)\n",
       "\n",
       "\n",
       "if __name__ == '__main__':\n",
       "    _test()"
      ]
     },
     "execution_count": 62,
     "metadata": {},
     "output_type": "execute_result"
    }
   ],
   "source": [
    "IPython.display.Code(r'C:\\Users\\Lenovo\\anaconda3\\Lib\\random.py')"
   ]
  },
  {
   "cell_type": "code",
   "execution_count": null,
   "id": "25619ada",
   "metadata": {},
   "outputs": [],
   "source": []
  },
  {
   "cell_type": "code",
   "execution_count": null,
   "id": "4c518c49",
   "metadata": {},
   "outputs": [],
   "source": []
  },
  {
   "cell_type": "code",
   "execution_count": null,
   "id": "5ba03abb",
   "metadata": {},
   "outputs": [],
   "source": []
  },
  {
   "cell_type": "code",
   "execution_count": null,
   "id": "0698a043",
   "metadata": {},
   "outputs": [],
   "source": []
  },
  {
   "cell_type": "code",
   "execution_count": 69,
   "id": "324f81d8",
   "metadata": {},
   "outputs": [],
   "source": [
    "class Putin:\n",
    "    def self_driven(self):\n",
    "        print('Ab to Bhag Milkha!!')\n",
    "        \n",
    "class Trump:\n",
    "    '''This is a Trump Class'''\n",
    "    \n",
    "    def next_president(self):\n",
    "        '''This is just a next_president_func docstring!!'''\n",
    "        print('next_president!!')"
   ]
  },
  {
   "cell_type": "code",
   "execution_count": 68,
   "id": "2cf55297",
   "metadata": {},
   "outputs": [],
   "source": [
    "obj_tr = Trump()"
   ]
  },
  {
   "cell_type": "code",
   "execution_count": null,
   "id": "7b33aaa9",
   "metadata": {},
   "outputs": [],
   "source": [
    "obj_tr.next_president()"
   ]
  },
  {
   "cell_type": "code",
   "execution_count": null,
   "id": "7d66b5c4",
   "metadata": {},
   "outputs": [],
   "source": []
  },
  {
   "cell_type": "code",
   "execution_count": null,
   "id": "b7d01216",
   "metadata": {},
   "outputs": [],
   "source": []
  },
  {
   "cell_type": "markdown",
   "id": "4367e0f5",
   "metadata": {},
   "source": [
    "# Day 5"
   ]
  },
  {
   "cell_type": "markdown",
   "id": "b606bbf6",
   "metadata": {},
   "source": [
    "# Polymorphism"
   ]
  },
  {
   "cell_type": "code",
   "execution_count": 1,
   "id": "81b7c719",
   "metadata": {},
   "outputs": [],
   "source": [
    "# method overloading\n",
    "# method overriding"
   ]
  },
  {
   "cell_type": "code",
   "execution_count": 2,
   "id": "f9db7ca0",
   "metadata": {},
   "outputs": [],
   "source": [
    "# method overriding"
   ]
  },
  {
   "cell_type": "code",
   "execution_count": 4,
   "id": "b6d6cd7b",
   "metadata": {},
   "outputs": [],
   "source": [
    "class Animal:\n",
    "    def speak(self):\n",
    "        print('many different speaks nature!!')\n",
    "        \n",
    "class Dog:\n",
    "    def speak(self):\n",
    "        print('Bark!! Bark!!')\n",
    "        \n",
    "class Cat:\n",
    "    def speak(self):\n",
    "        print('Meow!! Meow!!')\n",
    "        \n",
    "class Human:\n",
    "    def speak(self):\n",
    "        print('I am a Human!!')"
   ]
  },
  {
   "cell_type": "code",
   "execution_count": 6,
   "id": "892e777b",
   "metadata": {},
   "outputs": [
    {
     "name": "stdout",
     "output_type": "stream",
     "text": [
      "57\n"
     ]
    }
   ],
   "source": [
    "a = 23\n",
    "b = 34\n",
    "\n",
    "print(a + b)"
   ]
  },
  {
   "cell_type": "code",
   "execution_count": 7,
   "id": "c3332e39",
   "metadata": {},
   "outputs": [
    {
     "name": "stdout",
     "output_type": "stream",
     "text": [
      "2334\n"
     ]
    }
   ],
   "source": [
    "a = \"23\"\n",
    "b = \"34\"\n",
    "\n",
    "print(a + b)"
   ]
  },
  {
   "cell_type": "code",
   "execution_count": 8,
   "id": "1c76a67e",
   "metadata": {},
   "outputs": [
    {
     "name": "stdout",
     "output_type": "stream",
     "text": [
      "6\n"
     ]
    }
   ],
   "source": [
    "data = 'python'\n",
    "print(len(data))"
   ]
  },
  {
   "cell_type": "code",
   "execution_count": 9,
   "id": "d38cf7a1",
   "metadata": {},
   "outputs": [
    {
     "name": "stdout",
     "output_type": "stream",
     "text": [
      "1\n"
     ]
    }
   ],
   "source": [
    "data = ['Python']\n",
    "print(len(data))"
   ]
  },
  {
   "cell_type": "code",
   "execution_count": 10,
   "id": "44dc55f4",
   "metadata": {},
   "outputs": [
    {
     "name": "stdout",
     "output_type": "stream",
     "text": [
      "many different speaks nature!!\n"
     ]
    }
   ],
   "source": [
    "python_ob = Animal()\n",
    "\n",
    "python_ob.speak()"
   ]
  },
  {
   "cell_type": "code",
   "execution_count": 11,
   "id": "1290c6e6",
   "metadata": {},
   "outputs": [
    {
     "name": "stdout",
     "output_type": "stream",
     "text": [
      "Meow!! Meow!!\n"
     ]
    }
   ],
   "source": [
    "python_ob = Cat()\n",
    "\n",
    "python_ob.speak()"
   ]
  },
  {
   "cell_type": "code",
   "execution_count": 12,
   "id": "d02fefef",
   "metadata": {},
   "outputs": [
    {
     "name": "stdout",
     "output_type": "stream",
     "text": [
      "Bark!! Bark!!\n"
     ]
    }
   ],
   "source": [
    "python_ob = Dog()\n",
    "\n",
    "python_ob.speak()"
   ]
  },
  {
   "cell_type": "code",
   "execution_count": 13,
   "id": "692455f8",
   "metadata": {},
   "outputs": [
    {
     "name": "stdout",
     "output_type": "stream",
     "text": [
      "I am a Human!!\n"
     ]
    }
   ],
   "source": [
    "python_ob = Human()\n",
    "\n",
    "python_ob.speak()"
   ]
  },
  {
   "cell_type": "code",
   "execution_count": null,
   "id": "20a9aefc",
   "metadata": {},
   "outputs": [],
   "source": []
  },
  {
   "cell_type": "code",
   "execution_count": null,
   "id": "93dd980f",
   "metadata": {},
   "outputs": [],
   "source": []
  },
  {
   "cell_type": "code",
   "execution_count": 20,
   "id": "0537c9f0",
   "metadata": {},
   "outputs": [],
   "source": [
    "class Animal:\n",
    "    def speak(self):\n",
    "        print('many different speaks nature!!')\n",
    "        \n",
    "class Dog(Animal):\n",
    "    def speak(self):\n",
    "        print('Bark!! Bark!!')\n",
    "        \n",
    "class Cat(Animal):\n",
    "    def speak(self):\n",
    "        print('Meow!! Meow!!')"
   ]
  },
  {
   "cell_type": "code",
   "execution_count": 21,
   "id": "a320acbe",
   "metadata": {},
   "outputs": [
    {
     "name": "stdout",
     "output_type": "stream",
     "text": [
      "many different speaks nature!!\n"
     ]
    }
   ],
   "source": [
    "ob1 = Animal()\n",
    "ob1.speak()"
   ]
  },
  {
   "cell_type": "code",
   "execution_count": 22,
   "id": "61032281",
   "metadata": {},
   "outputs": [
    {
     "name": "stdout",
     "output_type": "stream",
     "text": [
      "Meow!! Meow!!\n"
     ]
    }
   ],
   "source": [
    "ob2 = Cat()\n",
    "ob2.speak()"
   ]
  },
  {
   "cell_type": "code",
   "execution_count": null,
   "id": "94c82fe8",
   "metadata": {},
   "outputs": [],
   "source": []
  },
  {
   "cell_type": "code",
   "execution_count": 23,
   "id": "9236ae7e",
   "metadata": {},
   "outputs": [
    {
     "name": "stdout",
     "output_type": "stream",
     "text": [
      "355\n"
     ]
    }
   ],
   "source": [
    "a = 34\n",
    "a = 355\n",
    "\n",
    "print(a)"
   ]
  },
  {
   "cell_type": "code",
   "execution_count": 25,
   "id": "cc0cdfd8",
   "metadata": {},
   "outputs": [],
   "source": [
    "# method overloading:- change some arguments and you will see different results"
   ]
  },
  {
   "cell_type": "code",
   "execution_count": 26,
   "id": "1712875d",
   "metadata": {},
   "outputs": [],
   "source": [
    "class Techvidya:\n",
    "    def intro(self,name=None):\n",
    "        if name == None:\n",
    "            print('Hello Buddy!!, How are you??')\n",
    "            \n",
    "        else:\n",
    "            print(f'Hello {name}!!, How are you??')"
   ]
  },
  {
   "cell_type": "code",
   "execution_count": 27,
   "id": "4202d142",
   "metadata": {},
   "outputs": [],
   "source": [
    "ab = Techvidya()"
   ]
  },
  {
   "cell_type": "code",
   "execution_count": 28,
   "id": "2f198612",
   "metadata": {},
   "outputs": [
    {
     "name": "stdout",
     "output_type": "stream",
     "text": [
      "Hello Buddy!!, How are you??\n"
     ]
    }
   ],
   "source": [
    "ab.intro()"
   ]
  },
  {
   "cell_type": "code",
   "execution_count": 31,
   "id": "13a1d261",
   "metadata": {},
   "outputs": [
    {
     "name": "stdout",
     "output_type": "stream",
     "text": [
      "Hello Buddy!!, How are you??\n"
     ]
    }
   ],
   "source": [
    "ab.intro()"
   ]
  },
  {
   "cell_type": "markdown",
   "id": "bdf7a658",
   "metadata": {},
   "source": [
    "# Abstraction"
   ]
  },
  {
   "cell_type": "code",
   "execution_count": 35,
   "id": "b4dbaa9d",
   "metadata": {},
   "outputs": [],
   "source": [
    "from abc import ABC,abstractmethod"
   ]
  },
  {
   "cell_type": "code",
   "execution_count": 40,
   "id": "87915619",
   "metadata": {},
   "outputs": [],
   "source": [
    "class Kejri(ABC):\n",
    "    \n",
    "    @abstractmethod\n",
    "    def lake_city(self):\n",
    "        print('City of Lakes!!')\n",
    "     \n",
    "    \n",
    "    @abstractmethod   \n",
    "    def pm_candidate(self):\n",
    "        print('Dream to become a PM')\n",
    "    \n",
    "    \n",
    "    @abstractmethod\n",
    "    def yamuna_clean(self):\n",
    "        print('want to clean Yamuna river!!')"
   ]
  },
  {
   "cell_type": "code",
   "execution_count": 41,
   "id": "e354ee00",
   "metadata": {},
   "outputs": [
    {
     "ename": "TypeError",
     "evalue": "Can't instantiate abstract class Kejri with abstract methods lake_city, pm_candidate, yamuna_clean",
     "output_type": "error",
     "traceback": [
      "\u001b[1;31m---------------------------------------------------------------------------\u001b[0m",
      "\u001b[1;31mTypeError\u001b[0m                                 Traceback (most recent call last)",
      "Cell \u001b[1;32mIn[41], line 1\u001b[0m\n\u001b[1;32m----> 1\u001b[0m delhi \u001b[38;5;241m=\u001b[39m Kejri()\n\u001b[0;32m      2\u001b[0m \u001b[38;5;28mprint\u001b[39m(\u001b[38;5;124m'\u001b[39m\u001b[38;5;124mObject created successfully!!\u001b[39m\u001b[38;5;124m'\u001b[39m)\n",
      "\u001b[1;31mTypeError\u001b[0m: Can't instantiate abstract class Kejri with abstract methods lake_city, pm_candidate, yamuna_clean"
     ]
    }
   ],
   "source": [
    "delhi = Kejri()\n",
    "print('Object created successfully!!')"
   ]
  },
  {
   "cell_type": "code",
   "execution_count": 38,
   "id": "b1618693",
   "metadata": {},
   "outputs": [],
   "source": []
  },
  {
   "cell_type": "code",
   "execution_count": null,
   "id": "98be644a",
   "metadata": {},
   "outputs": [],
   "source": []
  },
  {
   "cell_type": "code",
   "execution_count": null,
   "id": "3ba11482",
   "metadata": {},
   "outputs": [],
   "source": []
  },
  {
   "cell_type": "code",
   "execution_count": 42,
   "id": "c954453a",
   "metadata": {},
   "outputs": [],
   "source": [
    "class Kejri():\n",
    "    \n",
    "    # majid task\n",
    "    def lake_city(self):\n",
    "        print('City of Lakes!!')\n",
    "     \n",
    "    \n",
    "    # aman task\n",
    "    def pm_candidate(self):\n",
    "        print('Dream to become a PM')\n",
    "    \n",
    "    \n",
    "    # amit task\n",
    "    def yamuna_clean(self):\n",
    "        print('want to clean Yamuna river!!')"
   ]
  },
  {
   "cell_type": "code",
   "execution_count": 43,
   "id": "44f566ea",
   "metadata": {},
   "outputs": [],
   "source": [
    "class Majid:\n",
    "        \n",
    "    # majid task\n",
    "    def lake_city(self):\n",
    "        print('City of Lakes!!\\nCreated by Majid!!')"
   ]
  },
  {
   "cell_type": "code",
   "execution_count": 44,
   "id": "6bccf078",
   "metadata": {},
   "outputs": [],
   "source": [
    "class Aman:\n",
    "        # aman task\n",
    "    def pm_candidate(self):\n",
    "        print('Dream to become a PM\\nCreated by Aman')"
   ]
  },
  {
   "cell_type": "code",
   "execution_count": 52,
   "id": "11e59aae",
   "metadata": {},
   "outputs": [],
   "source": [
    "class Amit:\n",
    "        # amit task\n",
    "    def yamuna_clean(self):\n",
    "        print('want to clean Yamuna river!!\\nCreated by Amit⛴️')"
   ]
  },
  {
   "cell_type": "code",
   "execution_count": 53,
   "id": "5d06b446",
   "metadata": {},
   "outputs": [],
   "source": [
    "class Client_Project(Amit,Aman,Majid):\n",
    "    def __init__(self):\n",
    "        print('Project created!!')"
   ]
  },
  {
   "cell_type": "code",
   "execution_count": null,
   "id": "c1cbd3f5",
   "metadata": {},
   "outputs": [],
   "source": []
  },
  {
   "cell_type": "code",
   "execution_count": 54,
   "id": "5b57341e",
   "metadata": {},
   "outputs": [
    {
     "name": "stdout",
     "output_type": "stream",
     "text": [
      "Project created!!\n"
     ]
    }
   ],
   "source": [
    "rahul = Client_Project()"
   ]
  },
  {
   "cell_type": "code",
   "execution_count": 55,
   "id": "3d700b7e",
   "metadata": {},
   "outputs": [
    {
     "name": "stdout",
     "output_type": "stream",
     "text": [
      "City of Lakes!!\n",
      "Created by Majid!!\n"
     ]
    }
   ],
   "source": [
    "rahul.lake_city()"
   ]
  },
  {
   "cell_type": "code",
   "execution_count": 56,
   "id": "ba5a39ec",
   "metadata": {},
   "outputs": [
    {
     "name": "stdout",
     "output_type": "stream",
     "text": [
      "Dream to become a PM\n",
      "Created by Aman\n"
     ]
    }
   ],
   "source": [
    "rahul.pm_candidate()"
   ]
  },
  {
   "cell_type": "code",
   "execution_count": 57,
   "id": "9b980ea5",
   "metadata": {},
   "outputs": [
    {
     "name": "stdout",
     "output_type": "stream",
     "text": [
      "want to clean Yamuna river!!\n",
      "Created by Amit⛴️\n"
     ]
    }
   ],
   "source": [
    "rahul.yamuna_clean()"
   ]
  },
  {
   "cell_type": "code",
   "execution_count": null,
   "id": "ae65daf0",
   "metadata": {},
   "outputs": [],
   "source": []
  },
  {
   "cell_type": "code",
   "execution_count": 58,
   "id": "9f9fc2b6",
   "metadata": {},
   "outputs": [
    {
     "name": "stdout",
     "output_type": "stream",
     "text": [
      "Player 1, Press enter to roll the dice\n",
      "dice_result: 3\n",
      "Climbed Ladder at 4\n",
      "-------------game state-------------\n",
      "Player: 1 is at pos 6\n",
      "Player: 2 is at pos 1\n",
      "-------------game state-------------\n",
      "\n",
      "\n",
      "Player 2, Press enter to roll the dice\n",
      "dice_result: 2\n",
      "-------------game state-------------\n",
      "Player: 1 is at pos 6\n",
      "Player: 2 is at pos 3\n",
      "-------------game state-------------\n",
      "\n",
      "\n",
      "Player 1, Press enter to roll the dice\n",
      "dice_result: 3\n",
      "-------------game state-------------\n",
      "Player: 1 is at pos 9\n",
      "Player: 2 is at pos 3\n",
      "-------------game state-------------\n",
      "\n",
      "\n",
      "Player 2, Press enter to roll the dice\n",
      "dice_result: 3\n",
      "-------------game state-------------\n",
      "Player: 1 is at pos 9\n",
      "Player: 2 is at pos 6\n",
      "-------------game state-------------\n",
      "\n",
      "\n",
      "Player 1, Press enter to roll the dice\n",
      "dice_result: 5\n",
      "-------------game state-------------\n",
      "Player: 1 is at pos 9\n",
      "Player: 2 is at pos 6\n",
      "-------------game state-------------\n",
      "\n",
      "\n",
      "Player 2, Press enter to roll the dice\n",
      "dice_result: 2\n",
      "-------------game state-------------\n",
      "Player: 1 is at pos 9\n",
      "Player: 2 is at pos 8\n",
      "-------------game state-------------\n",
      "\n",
      "\n",
      "Player 1, Press enter to roll the dice\n",
      "dice_result: 2\n",
      "-------------game state-------------\n",
      "Player: 1 is at pos 9\n",
      "Player: 2 is at pos 8\n",
      "-------------game state-------------\n",
      "\n",
      "\n",
      "Player 2, Press enter to roll the dice\n",
      "dice_result: 1\n",
      "-------------game state-------------\n",
      "Player: 1 is at pos 9\n",
      "Player: 2 is at pos 9\n",
      "-------------game state-------------\n",
      "\n",
      "\n"
     ]
    },
    {
     "name": "stderr",
     "output_type": "stream",
     "text": [
      "\n",
      "KeyboardInterrupt\n",
      "\n"
     ]
    }
   ],
   "source": [
    "class GamePlayer:\n",
    "\t\"\"\"\n",
    "\tEncapsulates a player properties\n",
    "\t\"\"\"\n",
    "\n",
    "\tdef __init__(self, _id):\n",
    "\t\tself._id = _id\n",
    "\t\t# initial dummy rank -1\n",
    "\t\tself.rank = -1\n",
    "\t\t# starting position for every player is 1\n",
    "\t\tself.position = 1\n",
    "\n",
    "\tdef set_position(self, pos):\n",
    "\t\tself.position = pos\n",
    "\n",
    "\tdef set_rank(self, rank):\n",
    "\t\tself.rank = rank\n",
    "\n",
    "\tdef get_pos(self):\n",
    "\t\treturn self.position\n",
    "\n",
    "\tdef get_rank(self):\n",
    "\t\treturn self.rank\n",
    "\n",
    "\n",
    "class MovingEntity:\n",
    "\t\"\"\"\n",
    "\tYou can create any moving entity , like snake or ladder or\n",
    "\twormhole by extending this\n",
    "\t\"\"\"\n",
    "\n",
    "\tdef __init__(self, end_pos=None):\n",
    "\t# end pos where player would be send on board\n",
    "\t\tself.end_pos = end_pos\n",
    "\t\t# description of moving entity\n",
    "\t\tself.desc = None\n",
    "\n",
    "\tdef set_description(self, desc):\n",
    "\t\tself.desc = None\n",
    "\n",
    "\tdef get_end_pos(self):\n",
    "\t\tif self.end_pos is None:\n",
    "\t\t\traise Exception(\"no_end_position_defined\")\n",
    "\t\treturn self.end_pos\n",
    "\n",
    "\n",
    "class Snake(MovingEntity):\n",
    "\t\"\"\"Snake entity\"\"\"\n",
    "\n",
    "\tdef __init__(self, end_pos=None):\n",
    "\t\tsuper(Snake, self).__init__(end_pos)\n",
    "\t\tself.desc = \"Bit by Snake\"\n",
    "\n",
    "\n",
    "class Ladder(MovingEntity):\n",
    "\t\"\"\"Ladder entity\"\"\"\n",
    "\n",
    "\tdef __init__(self, end_pos=None):\n",
    "\t\tsuper(Ladder, self).__init__(end_pos)\n",
    "\t\tself.desc = \"Climbed Ladder\"\n",
    "\n",
    "\n",
    "class Board:\n",
    "\t\"\"\"\n",
    "\tdefine board with size and moving entities\n",
    "\t\"\"\"\n",
    "\n",
    "\tdef __init__(self, size):\n",
    "\t\tself.size = size\n",
    "\t\t# instead of using list, we can use map of\n",
    "\t\t# {pos:moving_entity} to save space\n",
    "\t\tself.board = {}\n",
    "\n",
    "\tdef get_size(self):\n",
    "\t\treturn self.size\n",
    "\n",
    "\tdef set_moving_entity(self, pos, moving_entity):\n",
    "\t\t# set moving entity to pos\n",
    "\t\tself.board[pos] = moving_entity\n",
    "\n",
    "\tdef get_next_pos(self, player_pos):\n",
    "\t\t# get next pos given a specific position player is on\n",
    "\t\tif player_pos > self.size:\n",
    "\t\t\treturn player_pos\n",
    "\t\tif player_pos not in self.board:\n",
    "\t\t\treturn player_pos\n",
    "\t\tprint(f'{self.board[player_pos].desc} at {player_pos}')\n",
    "\t\treturn self.board[player_pos].get_end_pos()\n",
    "\n",
    "\tdef at_last_pos(self, pos):\n",
    "\t\tif pos == self.size:\n",
    "\t\t\treturn True\n",
    "\t\treturn False\n",
    "\n",
    "\n",
    "class Dice:\n",
    "\tdef __init__(self, sides):\n",
    "\t# no of sides in the dice\n",
    "\t\tself.sides = sides\n",
    "\n",
    "\tdef roll(self):\n",
    "\t\t# return random number between 1 to sides\n",
    "\t\timport random\n",
    "\t\tans = random.randrange(1, self.sides + 1)\n",
    "\t\treturn ans\n",
    "\n",
    "\n",
    "class Game:\n",
    "\n",
    "\tdef __init__(self):\n",
    "\t# game board object\n",
    "\t\tself.board = None\n",
    "\t\t# game dice object\n",
    "\t\tself.dice = None\n",
    "\t\t# list of game player objects\n",
    "\t\tself.players = []\n",
    "\t\t# curr turn\n",
    "\t\tself.turn = 0\n",
    "\t\tself.winner = None\n",
    "\t\t# last rank achieved\n",
    "\t\tself.last_rank = 0\n",
    "\t\t# no of consecutive six in one turn, resets every turn\n",
    "\t\tself.consecutive_six = 0\n",
    "\n",
    "\tdef initialize_game(self, board: Board, dice_sides, players):\n",
    "\t\t\"\"\"\n",
    "\tInitialize game using board, dice and players\n",
    "\t\"\"\"\n",
    "\t\tself.board = board\n",
    "\t\tself.dice = Dice(dice_sides)\n",
    "\t\tself.players = [GamePlayer(i) for i in range(players)]\n",
    "\n",
    "\tdef can_play(self):\n",
    "\t\tif self.last_rank != len(self.players):\n",
    "\t\t\treturn True\n",
    "\t\treturn False\n",
    "\n",
    "\tdef get_next_player(self):\n",
    "\t\t\"\"\"\n",
    "\tReturn curr_turn player but if it has already won/completed game , return\n",
    "\tnext player which is still active\n",
    "\t\"\"\"\n",
    "\t\twhile True:\n",
    "\t\t\t# if rank is -1 , player is still active so return\n",
    "\t\t\tif self.players[self.turn].get_rank() == -1:\n",
    "\t\t\t\treturn self.players[self.turn]\n",
    "\t\t\t# check next player\n",
    "\t\t\tself.turn = (self.turn + 1) % len(self.players)\n",
    "\n",
    "\tdef move_player(self, curr_player, next_pos):\n",
    "\t\t# Move player to next_pos\n",
    "\t\tcurr_player.set_position(next_pos)\n",
    "\t\tif self.board.at_last_pos(curr_player.get_pos()):\n",
    "\t\t\t# if at last position set rank\n",
    "\t\t\tcurr_player.set_rank(self.last_rank + 1)\n",
    "\t\t\tself.last_rank += 1\n",
    "\n",
    "\tdef can_move(self, curr_player, to_move_pos):\n",
    "\t\t# check if player can move or not ie. between board bound\n",
    "\t\tif to_move_pos <= self.board.get_size() and curr_player.get_rank() == -1:\n",
    "\t\t\treturn True\n",
    "\t\treturn False\n",
    "\n",
    "\tdef change_turn(self, dice_result):\n",
    "\t\t# change player turn basis dice result.\n",
    "\t\t# if it's six, do not change .\n",
    "\t\t# if it's three consecutive sixes or not a six, change\n",
    "\t\tself.consecutive_six = 0 if dice_result != 6 else self.consecutive_six + 1\n",
    "\t\tif dice_result != 6 or self.consecutive_six == 3:\n",
    "\t\t\tif self.consecutive_six == 3:\n",
    "\t\t\t\tprint(\"Changing turn due to 3 consecutive sixes\")\n",
    "\t\t\tself.turn = (self.turn + 1) % len(self.players)\n",
    "\t\telse:\n",
    "\t\t\tprint(f\"One more turn for player {self.turn+1} after rolling 6\")\n",
    "\n",
    "\tdef play(self):\n",
    "\t\t\"\"\"\n",
    "\tstarting point of game\n",
    "\tgame will be player until all players have not been assigned a rank\n",
    "\t# get curr player to play\n",
    "\t# roll dice\n",
    "\t# get next pos of player\n",
    "\t# see if pos is valid to move\n",
    "\t# move player to next pos\n",
    "\t# change turn\n",
    "\tNote: Currently everything is automated, ie. dice roll input is not taken from user.\n",
    "\tif required , we can change that to give some control to user.\n",
    "\t\"\"\"\n",
    "\t\twhile self.can_play():\n",
    "\t\t\tcurr_player = self.get_next_player()\n",
    "\t\t\tplayer_input = input(\n",
    "\t\t\t\tf\"Player {self.turn+1}, Press enter to roll the dice\")\n",
    "\t\t\tdice_result = self.dice.roll()\n",
    "\t\t\tprint(f'dice_result: {dice_result}')\n",
    "\t\t\t_next_pos = self.board.get_next_pos(\n",
    "\t\t\t\tcurr_player.get_pos() + dice_result)\n",
    "\t\t\tif self.can_move(curr_player, _next_pos):\n",
    "\t\t\t\tself.move_player(curr_player, _next_pos)\n",
    "\t\t\tself.change_turn(dice_result)\n",
    "\t\t\tself.print_game_state()\n",
    "\t\tself.print_game_result()\n",
    "\n",
    "\tdef print_game_state(self):\n",
    "\t\t# Print state of game after every turn\n",
    "\t\tprint('-------------game state-------------')\n",
    "\t\tfor ix, _p in enumerate(self.players):\n",
    "\t\t\tprint(f'Player: {ix+1} is at pos {_p.get_pos()}')\n",
    "\t\tprint('-------------game state-------------\\n\\n')\n",
    "\n",
    "\tdef print_game_result(self):\n",
    "\t\t# Print final game result with ranks of each player\n",
    "\t\tprint('-------------final result-------------')\n",
    "\t\tfor _p in sorted(self.players, key=lambda x: x.get_rank()):\n",
    "\t\t\tprint(f'Player: {_p._id+1} , Rank: {_p.get_rank()}')\n",
    "\n",
    "\n",
    "def sample_run():\n",
    "\t# a simple flow of the game\n",
    "\t# here we create a board of size 10 and dice of side 6\n",
    "\t# set snake at 5 with end at 2\n",
    "\t# set ladder at 4 with end at 6\n",
    "\tboard = Board(10)\n",
    "\tboard.set_moving_entity(7, Snake(2))\n",
    "\tboard.set_moving_entity(4, Ladder(6))\n",
    "\tgame = Game()\n",
    "\tgame.initialize_game(board, 6, 2)\n",
    "\tgame.play()\n",
    "\n",
    "\n",
    "sample_run()\n"
   ]
  },
  {
   "cell_type": "code",
   "execution_count": null,
   "id": "4afceedd",
   "metadata": {},
   "outputs": [],
   "source": []
  }
 ],
 "metadata": {
  "kernelspec": {
   "display_name": "Python 3 (ipykernel)",
   "language": "python",
   "name": "python3"
  },
  "language_info": {
   "codemirror_mode": {
    "name": "ipython",
    "version": 3
   },
   "file_extension": ".py",
   "mimetype": "text/x-python",
   "name": "python",
   "nbconvert_exporter": "python",
   "pygments_lexer": "ipython3",
   "version": "3.11.3"
  }
 },
 "nbformat": 4,
 "nbformat_minor": 5
}
