{
 "cells": [
  {
   "cell_type": "code",
   "execution_count": 3,
   "id": "5e837190",
   "metadata": {},
   "outputs": [
    {
     "name": "stdout",
     "output_type": "stream",
     "text": [
      "Yes\n"
     ]
    }
   ],
   "source": [
    "# fibonacci\n",
    "\n",
    "if 2==2:\n",
    "    print('Yes')"
   ]
  },
  {
   "attachments": {
    "Fibonacci-sequence.webp": {
     "image/webp": "[encoded data removed]"
    }
   },
   "cell_type": "markdown",
   "id": "4ffb293c",
   "metadata": {},
   "source": [
    "![Fibonacci-sequence.webp](attachment:Fibonacci-sequence.webp)"
   ]
  },
  {
   "cell_type": "code",
   "execution_count": 8,
   "id": "8f89c96c",
   "metadata": {},
   "outputs": [
    {
     "name": "stdout",
     "output_type": "stream",
     "text": [
      "[0, 1, 1, 2, 3, 5, 8, 13]\n"
     ]
    }
   ],
   "source": [
    "fibo = [0,1]\n",
    "\n",
    "user = 8\n",
    "\n",
    "for i in range(user-len(fibo)):\n",
    "    fibo.append(fibo[-1]+fibo[-2])\n",
    "    \n",
    "print(fibo)"
   ]
  },
  {
   "cell_type": "code",
   "execution_count": null,
   "id": "7e29469d",
   "metadata": {},
   "outputs": [],
   "source": []
  },
  {
   "cell_type": "code",
   "execution_count": 9,
   "id": "82a6524c",
   "metadata": {},
   "outputs": [],
   "source": [
    "#func"
   ]
  },
  {
   "cell_type": "markdown",
   "id": "abe79c12",
   "metadata": {},
   "source": [
    "# Pattern Printing"
   ]
  },
  {
   "cell_type": "code",
   "execution_count": 10,
   "id": "9ad5c6e1",
   "metadata": {},
   "outputs": [],
   "source": [
    "# *\n",
    "# * *\n",
    "# * * *\n",
    "# * * * *\n",
    "# * * * * *"
   ]
  },
  {
   "cell_type": "code",
   "execution_count": 15,
   "id": "3c9d25b4",
   "metadata": {},
   "outputs": [
    {
     "name": "stdout",
     "output_type": "stream",
     "text": [
      "*\n",
      "**\n",
      "***\n",
      "****\n",
      "*****\n"
     ]
    }
   ],
   "source": [
    "no = 5\n",
    "pt = '*'\n",
    "\n",
    "\n",
    "# pt*1\n",
    "# pt*2\n",
    "# pt*3\n",
    "\n",
    "for i in range(1,no+1):\n",
    "    print(pt*i)"
   ]
  },
  {
   "cell_type": "code",
   "execution_count": 16,
   "id": "134d1361",
   "metadata": {},
   "outputs": [
    {
     "name": "stdout",
     "output_type": "stream",
     "text": [
      "* \n",
      "* * \n",
      "* * * \n",
      "* * * * \n",
      "* * * * * \n"
     ]
    }
   ],
   "source": [
    "no = 5\n",
    "pt = '* '\n",
    "\n",
    "\n",
    "# pt*1\n",
    "# pt*2\n",
    "# pt*3\n",
    "\n",
    "for i in range(1,no+1):\n",
    "    print(pt*i)"
   ]
  },
  {
   "cell_type": "code",
   "execution_count": 17,
   "id": "09234b57",
   "metadata": {},
   "outputs": [],
   "source": [
    "# * * * * *\n",
    "# * * * *"
   ]
  },
  {
   "cell_type": "code",
   "execution_count": null,
   "id": "205554ff",
   "metadata": {},
   "outputs": [],
   "source": []
  },
  {
   "cell_type": "code",
   "execution_count": null,
   "id": "3d3e0809",
   "metadata": {},
   "outputs": [],
   "source": []
  },
  {
   "cell_type": "code",
   "execution_count": 23,
   "id": "6ce6906f",
   "metadata": {},
   "outputs": [
    {
     "name": "stdout",
     "output_type": "stream",
     "text": [
      "* * * * * \n",
      "* * * * \n",
      "* * * \n",
      "* * \n",
      "* \n"
     ]
    }
   ],
   "source": [
    "no = 5\n",
    "pt = '* '\n",
    "\n",
    "\n",
    "# pt*1\n",
    "# pt*2\n",
    "# pt*3\n",
    "\n",
    "for i in range(no,0,-1):\n",
    "    print(pt*i)"
   ]
  },
  {
   "cell_type": "code",
   "execution_count": 24,
   "id": "3896edff",
   "metadata": {},
   "outputs": [],
   "source": [
    "no = 5\n",
    "pt = '* '\n",
    "\n",
    "\n",
    "# pt*1\n",
    "# pt*2\n",
    "# pt*3\n",
    "\n",
    "# for i in range(1,no+1):\n",
    "#     print(pt*i)\n",
    "\n",
    "\n",
    "# 'A'\n",
    "# \"AB\"\n",
    "# 'ABC'\n",
    "# \"ABCD\""
   ]
  },
  {
   "cell_type": "code",
   "execution_count": 33,
   "id": "7c7b81bb",
   "metadata": {},
   "outputs": [
    {
     "name": "stdout",
     "output_type": "stream",
     "text": [
      "A\n",
      "AB\n",
      "ABC\n",
      "ABCD\n"
     ]
    }
   ],
   "source": [
    "data = 'ABCDEFGHIJKLMNOPQRSTUVWXYZ'\n",
    "# data[0:5]\n",
    "\n",
    "no = 4\n",
    "\n",
    "for i in range(no):\n",
    "    print(data[0:i+1])"
   ]
  },
  {
   "cell_type": "code",
   "execution_count": 34,
   "id": "277a0368",
   "metadata": {},
   "outputs": [
    {
     "name": "stdout",
     "output_type": "stream",
     "text": [
      "A\n",
      "AB\n",
      "ABC\n",
      "ABCD\n"
     ]
    }
   ],
   "source": [
    "data = 'ABCDEFGHIJKLMNOPQRSTUVWXYZ'\n",
    "# data[0:5]\n",
    "\n",
    "no = 4\n",
    "\n",
    "for i in range(1,no+1):\n",
    "    print(data[0:i])"
   ]
  },
  {
   "cell_type": "code",
   "execution_count": 48,
   "id": "c754fcc9",
   "metadata": {},
   "outputs": [
    {
     "name": "stdout",
     "output_type": "stream",
     "text": [
      "A\n",
      "A B\n",
      "A B C\n",
      "A B C D\n",
      "A B C D E\n"
     ]
    }
   ],
   "source": [
    "data = 'ABCDEFGHIJKLMNOPQRSTUVWXYZ'\n",
    "# data[0:5]\n",
    "\n",
    "\n",
    "no = 5\n",
    "\n",
    "if 0<no<=26:\n",
    "    for i in range(1,no+1):\n",
    "        print(' '.join(data[0:i]))\n",
    "else:\n",
    "    print('No must be in range of (0 to 26)') "
   ]
  },
  {
   "cell_type": "code",
   "execution_count": 37,
   "id": "6f93bfa0",
   "metadata": {},
   "outputs": [],
   "source": [
    "# ' '.join('ABC')"
   ]
  },
  {
   "cell_type": "code",
   "execution_count": 49,
   "id": "8018144a",
   "metadata": {},
   "outputs": [],
   "source": [
    "# 1\n",
    "# 1 2\n",
    "# 1 2 3\n",
    "# 1 2 3 4"
   ]
  },
  {
   "cell_type": "code",
   "execution_count": null,
   "id": "b30eb90c",
   "metadata": {},
   "outputs": [],
   "source": []
  }
 ],
 "metadata": {
  "kernelspec": {
   "display_name": "Python 3 (ipykernel)",
   "language": "python",
   "name": "python3"
  },
  "language_info": {
   "codemirror_mode": {
    "name": "ipython",
    "version": 3
   },
   "file_extension": ".py",
   "mimetype": "text/x-python",
   "name": "python",
   "nbconvert_exporter": "python",
   "pygments_lexer": "ipython3",
   "version": "3.11.3"
  }
 },
 "nbformat": 4,
 "nbformat_minor": 5
}
